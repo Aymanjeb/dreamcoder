{
 "cells": [
  {
   "cell_type": "code",
   "execution_count": 3,
   "metadata": {},
   "outputs": [
    {
     "name": "stdout",
     "output_type": "stream",
     "text": [
      "The autoreload extension is already loaded. To reload it, use:\n",
      "  %reload_ext autoreload\n"
     ]
    }
   ],
   "source": [
    "## rebooting, making a small set of tasks to try training dreamcoder\n",
    "%load_ext autoreload\n",
    "%autoreload 2\n",
    "\n",
    "from dreamcoder.domains.sketch.sketchPrimitives import *\n",
    "from dreamcoder.task import Program\n",
    "from dreamcoder.domains.sketch.main import dreamOfSketches\n"
   ]
  },
  {
   "cell_type": "code",
   "execution_count": 6,
   "metadata": {},
   "outputs": [
    {
     "name": "stdout",
     "output_type": "stream",
     "text": [
      "[((-2.2, 2), ''), ((-1.1, 2), ''), ((-1.1, 2), 'LL'), ((-1.1, 2), 'C'), ((1.1, 2), ''), ((1.1, 2), 'LL'), ((2.2, 2), ''), ((2.2, 2), 'LL'), ((3.3000000000000003, 2), ''), ((3.3000000000000003, 2), 'LL'), ((4.4, 2), ''), ((4.4, 2), 'LL'), ((5.5, 2), ''), ((-1.1, 2), 'C')]\n"
     ]
    },
    {
     "data": {
      "text/plain": [
       "array([[0., 0., 0., ..., 0., 0., 0.],\n",
       "       [0., 0., 0., ..., 0., 0., 0.],\n",
       "       [0., 0., 0., ..., 0., 0., 0.],\n",
       "       ...,\n",
       "       [0., 0., 0., ..., 0., 0., 0.],\n",
       "       [0., 0., 0., ..., 0., 0., 0.],\n",
       "       [0., 0., 0., ..., 0., 0., 0.]])"
      ]
     },
     "execution_count": 6,
     "metadata": {},
     "output_type": "execute_result"
    },
    {
     "data": {
      "image/png": "[encoded data removed]",
      "text/plain": [
       "<Figure size 216x216 with 1 Axes>"
      ]
     },
     "metadata": {
      "needs_background": "light"
     },
     "output_type": "display_data"
    }
   ],
   "source": [
    "## making tasks - write down programs as strings\n",
    "\n",
    "grid = \"(loop 4 (lambda (i k) (LL (r 1 k))) k)\"\n",
    "# grid_embed = f\"embed (lambda (k) {grid})\"\n",
    "vert1 = \"embed (lambda (k) (r 2 k))\"\n",
    "# vert1 = \"embed (lambda (k) (d 1 (C (d 1 (L k)))))\"\n",
    "vertG = lambda p1, p2, p3: f\"embed (lambda (k) (d 1 ({p1} (d 1 ({p2} (d 1 ({p3} k)))))))\"\n",
    "V = lambda p1, p2, p3: f\"embed (lambda (k) (d 1 ({p1} (d 1 ({p2} (d 1 ({p3} k)))))))\"\n",
    "\n",
    "plist = (\"LLL\", \"LCL\", \"_L_\", \"___\")\n",
    "\n",
    "\n",
    "# good, but loops over vertical things\n",
    "# p = Program.parseHumanReadable(f\"(lambda (k) (embed (lambda (k) {grid}) (loop 4 (lambda (i k) ({vertG('L', 'C', 'L')} (r 1 k))) k)))\")\n",
    "# p = Program.parseHumanReadable(f\"(lambda (k) (embed (lambda (k) {grid}) (loop 4 (lambda (i k) ({vertG(plist[1], 'C', 'L')} (r 1 k))) k)))\")\n",
    "\n",
    "p = Program.parseHumanReadable(f\"(lambda (k) (embed (lambda (k) {grid}) ({vertG('L', 'L', 'L')} (r 1 (C k)))))\")\n",
    "\n",
    "p = Program.parseHumanReadable(\"(lambda (k) (r 1 (r 1 ( C (l 2 k) ))))\")\n",
    "# p = Program.parseHumanReadable(\"(lambda (x) (embed (lambda (x) (r 5 (x)))))\")\n",
    "# p = Program.parse(\"(lambda (loop 3 (lambda (lambda (u $1 $0)) (u 5 $0))))\")\n",
    "# p = Program.parseHumanReadable(\"(lambda (k) (loop 3 (lambda (i k) (r 2 k)) (C (loop 4 (lambda (i k) (d i (L k))) k))))\")\n",
    "# p = Program.parse(\"(lambda (C (u 4 (loop 5 (lambda (lambda (d 3 (u $1 (C $0))))) $0))))\")\n",
    "\n",
    "# p = Program.parseHumanReadable(f\"(lambda (k) ({vertG('L', 'L', 'L')})\")\n",
    "p = Program.parseHumanReadable(f\"(lambda (k) (r 1 (LL (C (embed (lambda (k) (r 2 {grid})) k)))))\")\n",
    "\n",
    "# (embed (lambda stuff) )\n",
    "renderPlan(executeSketch(p)[0])\n",
    "\n"
   ]
  },
  {
   "cell_type": "code",
   "execution_count": 12,
   "metadata": {
    "scrolled": true
   },
   "outputs": [
    {
     "name": "stdout",
     "output_type": "stream",
     "text": [
      "[((-2.2, 2), ''), ((-1.1, 2), ''), ((-1.1, 2), 'LL'), ((-1.1, 2), 'C'), ((1.1, 2), ''), ((1.1, 2), 'LL'), ((2.2, 2), ''), ((2.2, 2), 'LL'), ((3.3000000000000003, 2), ''), ((3.3000000000000003, 2), 'LL'), ((4.4, 2), ''), ((4.4, 2), 'LL'), ((5.5, 2), ''), ((-1.1, 2), 'C')]\n",
      "[[0. 0. 0. ... 0. 0. 0.]\n",
      " [0. 0. 0. ... 0. 0. 0.]\n",
      " [0. 0. 0. ... 0. 0. 0.]\n",
      " ...\n",
      " [0. 0. 0. ... 0. 0. 0.]\n",
      " [0. 0. 0. ... 0. 0. 0.]\n",
      " [0. 0. 0. ... 0. 0. 0.]]\n"
     ]
    },
    {
     "data": {
      "image/png": "[encoded data removed]",
      "text/plain": [
       "<Figure size 216x216 with 1 Axes>"
      ]
     },
     "metadata": {
      "needs_background": "light"
     },
     "output_type": "display_data"
    }
   ],
   "source": [
    "im = renderProgram(p)\n",
    "print(im)"
   ]
  },
  {
   "cell_type": "code",
   "execution_count": 15,
   "metadata": {},
   "outputs": [
    {
     "data": {
      "text/plain": [
       "<matplotlib.image.AxesImage at 0x7fe3f87c5450>"
      ]
     },
     "execution_count": 15,
     "metadata": {},
     "output_type": "execute_result"
    },
    {
     "data": {
      "image/png": "[encoded data removed]",
      "text/plain": [
       "<Figure size 432x288 with 1 Axes>"
      ]
     },
     "metadata": {
      "needs_background": "light"
     },
     "output_type": "display_data"
    }
   ],
   "source": [
    "import matplotlib.pyplot as plt\n",
    "plt.imshow(im)"
   ]
  },
  {
   "cell_type": "code",
   "execution_count": 78,
   "metadata": {},
   "outputs": [
    {
     "ename": "NameError",
     "evalue": "name 'v1' is not defined",
     "output_type": "error",
     "traceback": [
      "\u001b[0;31m---------------------------------------------------------------------------\u001b[0m",
      "\u001b[0;31mNameError\u001b[0m                                 Traceback (most recent call last)",
      "\u001b[0;32m<ipython-input-78-e1d35a6f7182>\u001b[0m in \u001b[0;36m<module>\u001b[0;34m\u001b[0m\n\u001b[0;32m----> 1\u001b[0;31m \u001b[0mv1\u001b[0m\u001b[0;34m\u001b[0m\u001b[0;34m\u001b[0m\u001b[0m\n\u001b[0m",
      "\u001b[0;31mNameError\u001b[0m: name 'v1' is not defined"
     ]
    }
   ],
   "source": [
    "v1"
   ]
  },
  {
   "cell_type": "code",
   "execution_count": 83,
   "metadata": {},
   "outputs": [
    {
     "ename": "TypeError",
     "evalue": "super(type, obj): obj must be an instance or subtype of type",
     "output_type": "error",
     "traceback": [
      "\u001b[0;31m---------------------------------------------------------------------------\u001b[0m",
      "\u001b[0;31mTypeError\u001b[0m                                 Traceback (most recent call last)",
      "\u001b[0;32m<ipython-input-83-967947d88400>\u001b[0m in \u001b[0;36m<module>\u001b[0;34m\u001b[0m\n\u001b[1;32m     17\u001b[0m \u001b[0;34m\u001b[0m\u001b[0m\n\u001b[1;32m     18\u001b[0m \u001b[0;31m# ==== make tasks\u001b[0m\u001b[0;34m\u001b[0m\u001b[0;34m\u001b[0m\u001b[0;34m\u001b[0m\u001b[0m\n\u001b[0;32m---> 19\u001b[0;31m \u001b[0mTasks\u001b[0m \u001b[0;34m=\u001b[0m \u001b[0;34m[\u001b[0m\u001b[0mSupervisedSketch\u001b[0m\u001b[0;34m(\u001b[0m\u001b[0;34mf\"task{i}\"\u001b[0m\u001b[0;34m,\u001b[0m \u001b[0mp\u001b[0m\u001b[0;34m)\u001b[0m \u001b[0;32mfor\u001b[0m \u001b[0mi\u001b[0m\u001b[0;34m,\u001b[0m \u001b[0mp\u001b[0m \u001b[0;32min\u001b[0m \u001b[0menumerate\u001b[0m\u001b[0;34m(\u001b[0m\u001b[0mprograms\u001b[0m\u001b[0;34m)\u001b[0m\u001b[0;34m]\u001b[0m\u001b[0;34m\u001b[0m\u001b[0;34m\u001b[0m\u001b[0m\n\u001b[0m",
      "\u001b[0;32m<ipython-input-83-967947d88400>\u001b[0m in \u001b[0;36m<listcomp>\u001b[0;34m(.0)\u001b[0m\n\u001b[1;32m     17\u001b[0m \u001b[0;34m\u001b[0m\u001b[0m\n\u001b[1;32m     18\u001b[0m \u001b[0;31m# ==== make tasks\u001b[0m\u001b[0;34m\u001b[0m\u001b[0;34m\u001b[0m\u001b[0;34m\u001b[0m\u001b[0m\n\u001b[0;32m---> 19\u001b[0;31m \u001b[0mTasks\u001b[0m \u001b[0;34m=\u001b[0m \u001b[0;34m[\u001b[0m\u001b[0mSupervisedSketch\u001b[0m\u001b[0;34m(\u001b[0m\u001b[0;34mf\"task{i}\"\u001b[0m\u001b[0;34m,\u001b[0m \u001b[0mp\u001b[0m\u001b[0;34m)\u001b[0m \u001b[0;32mfor\u001b[0m \u001b[0mi\u001b[0m\u001b[0;34m,\u001b[0m \u001b[0mp\u001b[0m \u001b[0;32min\u001b[0m \u001b[0menumerate\u001b[0m\u001b[0;34m(\u001b[0m\u001b[0mprograms\u001b[0m\u001b[0;34m)\u001b[0m\u001b[0;34m]\u001b[0m\u001b[0;34m\u001b[0m\u001b[0;34m\u001b[0m\u001b[0m\n\u001b[0m",
      "\u001b[0;32m/data1/code/python/ec/dreamcoder/domains/sketch/makeSketchTasks.py\u001b[0m in \u001b[0;36m__init__\u001b[0;34m(self, name, program)\u001b[0m\n\u001b[1;32m     12\u001b[0m \u001b[0;32mclass\u001b[0m \u001b[0mSupervisedSketch\u001b[0m\u001b[0;34m(\u001b[0m\u001b[0mTask\u001b[0m\u001b[0;34m)\u001b[0m\u001b[0;34m:\u001b[0m\u001b[0;34m\u001b[0m\u001b[0;34m\u001b[0m\u001b[0m\n\u001b[1;32m     13\u001b[0m     \u001b[0;32mdef\u001b[0m \u001b[0m__init__\u001b[0m\u001b[0;34m(\u001b[0m\u001b[0mself\u001b[0m\u001b[0;34m,\u001b[0m \u001b[0mname\u001b[0m\u001b[0;34m,\u001b[0m \u001b[0mprogram\u001b[0m\u001b[0;34m)\u001b[0m\u001b[0;34m:\u001b[0m\u001b[0;34m\u001b[0m\u001b[0;34m\u001b[0m\u001b[0m\n\u001b[0;32m---> 14\u001b[0;31m         \u001b[0msuper\u001b[0m\u001b[0;34m(\u001b[0m\u001b[0mSupervisedSketch\u001b[0m\u001b[0;34m,\u001b[0m \u001b[0mself\u001b[0m\u001b[0;34m)\u001b[0m\u001b[0;34m.\u001b[0m\u001b[0m__init__\u001b[0m\u001b[0;34m(\u001b[0m\u001b[0mname\u001b[0m\u001b[0;34m,\u001b[0m \u001b[0marrow\u001b[0m\u001b[0;34m(\u001b[0m\u001b[0mtsketch\u001b[0m\u001b[0;34m,\u001b[0m\u001b[0mtsketch\u001b[0m\u001b[0;34m)\u001b[0m\u001b[0;34m,\u001b[0m \u001b[0;34m[\u001b[0m\u001b[0;34m]\u001b[0m\u001b[0;34m)\u001b[0m \u001b[0;31m# TODO: LT, needs this, i.e., a request.\u001b[0m\u001b[0;34m\u001b[0m\u001b[0;34m\u001b[0m\u001b[0m\n\u001b[0m\u001b[1;32m     15\u001b[0m         \u001b[0;32mif\u001b[0m \u001b[0misinstance\u001b[0m\u001b[0;34m(\u001b[0m\u001b[0mprogram\u001b[0m\u001b[0;34m,\u001b[0m\u001b[0mstr\u001b[0m\u001b[0;34m)\u001b[0m\u001b[0;34m:\u001b[0m\u001b[0;34m\u001b[0m\u001b[0;34m\u001b[0m\u001b[0m\n\u001b[1;32m     16\u001b[0m             \u001b[0mprogram\u001b[0m \u001b[0;34m=\u001b[0m \u001b[0mpar\u001b[0m\u001b[0;34m\u001b[0m\u001b[0;34m\u001b[0m\u001b[0m\n",
      "\u001b[0;31mTypeError\u001b[0m: super(type, obj): obj must be an instance or subtype of type"
     ]
    }
   ],
   "source": [
    "## ---- make a library of vertical things\n",
    "grid = \"(loop 4 (lambda (i k) (LL (r 1 k))) k)\"\n",
    "\n",
    "def vertSampler():\n",
    "    V = lambda p1, p2, p3: f\"embed (lambda (k) (d 1 ({p1} (d 1 ({p2} (d 1 ({p3} k)))))))\"\n",
    "    \n",
    "    v1 = V(\"L\", \"L\", \"L\")\n",
    "    v2 = V(\"C\", \"C\", \"C\")\n",
    "    import random \n",
    "    prand = lambda: random.sample([\"L\", \"C\", \"E\"], 1)[0]\n",
    "    v3 = lambda: V(prand(), prand(), prand())\n",
    "    v = lambda: random.sample([v1, v2, v3()], 1)[0]\n",
    "    return v\n",
    "\n",
    "p = lambda: Program.parseHumanReadable(f\"(lambda (k) (embed (lambda (k) {grid}) ({v()} (r 1 ({v()} (r 1 ({v()} (r 1 ({v()} k)))))))))\")\n",
    "## make a library of horizontal things\n",
    "\n",
    "# ==== make tasks\n",
    "Tasks = [SupervisedSketch(f\"task{i}\", p) for i, p in enumerate(programs)]"
   ]
  },
  {
   "cell_type": "code",
   "execution_count": 85,
   "metadata": {},
   "outputs": [
    {
     "name": "stdout",
     "output_type": "stream",
     "text": [
      "[((-2.2, 2), ''), ((-2.2, 2), 'LL'), ((-1.1, 2), ''), ((-1.1, 2), 'LL'), ((0.0, 2), ''), ((0.0, 2), 'LL'), ((1.1, 2), ''), ((1.1, 2), 'LL'), ((2.2, 2), ''), ((-2.2, 2), '')]\n"
     ]
    },
    {
     "data": {
      "image/png": "[encoded data removed]",
      "text/plain": [
       "<Figure size 216x216 with 1 Axes>"
      ]
     },
     "metadata": {
      "needs_background": "light"
     },
     "output_type": "display_data"
    }
   ],
   "source": [
    "## ====== SIMPLE SHAPING TASKS\n",
    "\n",
    "## ---- make a library of vertical things\n",
    "grid = \"(loop 4 (lambda (i k) (LL (r 1 k))) k)\"\n",
    "\n",
    "p =  Program.parseHumanReadable(f\"(lambda (k) (embed (lambda (k) {grid}) (k)))\")\n",
    "# PAUSED HERRE-- SHOULD MAKE MORE IF DESIRE. FIND WAY TO ITERATE TO DO THIS EFFICIENTLY.\n",
    "\n",
    "renderPlan(executeSketch(p)[0])"
   ]
  },
  {
   "cell_type": "code",
   "execution_count": null,
   "metadata": {},
   "outputs": [],
   "source": []
  },
  {
   "cell_type": "code",
   "execution_count": 136,
   "metadata": {},
   "outputs": [
    {
     "name": "stdout",
     "output_type": "stream",
     "text": [
      "[((-2.2, 2), ''), ((-2.2, 2), 'LL'), ((-1.1, 2), ''), ((-1.1, 2), 'LL'), ((0.0, 2), ''), ((0.0, 2), 'LL'), ((1.1, 2), ''), ((1.1, 2), 'LL'), ((2.2, 2), ''), ((-2.2, 2), ''), ((-2.2, 1), ''), ((-2.2, 1), 'E'), ((-2.2, 0), ''), ((-2.2, 0), 'C'), ((-2.2, -1), ''), ((-2.2, -1), 'C'), ((-2.2, 2), ''), ((-1.1, 2), ''), ((-1.1, 1), ''), ((-1.1, 1), 'C'), ((-1.1, 0), ''), ((-1.1, 0), 'E'), ((-1.1, -1), ''), ((-1.1, -1), 'C'), ((-1.1, 2), ''), ((0.0, 2), ''), ((0.0, 1), ''), ((0.0, 1), 'L'), ((0.0, 0), ''), ((0.0, 0), 'L'), ((0.0, -1), ''), ((0.0, -1), 'C'), ((0.0, 2), ''), ((1.1, 2), ''), ((1.1, 1), ''), ((1.1, 1), 'L'), ((1.1, 0), ''), ((1.1, 0), 'L'), ((1.1, -1), ''), ((1.1, -1), 'L'), ((1.1, 2), '')]\n"
     ]
    },
    {
     "data": {
      "image/png": "[encoded data removed]",
      "text/plain": [
       "<Figure size 216x216 with 1 Axes>"
      ]
     },
     "metadata": {
      "needs_background": "light"
     },
     "output_type": "display_data"
    }
   ],
   "source": [
    "renderPlan(executeSketch(p())[0])"
   ]
  },
  {
   "cell_type": "code",
   "execution_count": 75,
   "metadata": {},
   "outputs": [
    {
     "data": {
      "text/plain": [
       "[(lambda (embed (lambda (loop 4 (lambda (lambda (LL (r 1 $0)))) $0)) (embed (lambda (d 1 (L (d 1 (L (d 1 (L $0))))))) (r 1 (embed (lambda (d 1 (C (d 1 (C (d 1 (C $0))))))) (r 1 (embed (lambda (d 1 (C (d 1 (C (d 1 (C $0))))))) (r 1 (embed (lambda (d 1 (L (d 1 (L (d 1 (L $0))))))) $0))))))))),\n",
       " (lambda (embed (lambda (loop 4 (lambda (lambda (LL (r 1 $0)))) $0)) (embed (lambda (d 1 (C (d 1 (E (d 1 (E $0))))))) (r 1 (embed (lambda (d 1 (L (d 1 (L (d 1 (L $0))))))) (r 1 (embed (lambda (d 1 (L (d 1 (L (d 1 (L $0))))))) (r 1 (embed (lambda (d 1 (E (d 1 (L (d 1 (C $0))))))) $0))))))))),\n",
       " (lambda (embed (lambda (loop 4 (lambda (lambda (LL (r 1 $0)))) $0)) (embed (lambda (d 1 (L (d 1 (L (d 1 (L $0))))))) (r 1 (embed (lambda (d 1 (C (d 1 (C (d 1 (C $0))))))) (r 1 (embed (lambda (d 1 (C (d 1 (C (d 1 (C $0))))))) (r 1 (embed (lambda (d 1 (L (d 1 (C (d 1 (E $0))))))) $0))))))))),\n",
       " (lambda (embed (lambda (loop 4 (lambda (lambda (LL (r 1 $0)))) $0)) (embed (lambda (d 1 (L (d 1 (L (d 1 (L $0))))))) (r 1 (embed (lambda (d 1 (C (d 1 (C (d 1 (C $0))))))) (r 1 (embed (lambda (d 1 (C (d 1 (C (d 1 (C $0))))))) (r 1 (embed (lambda (d 1 (C (d 1 (C (d 1 (C $0))))))) $0))))))))),\n",
       " (lambda (embed (lambda (loop 4 (lambda (lambda (LL (r 1 $0)))) $0)) (embed (lambda (d 1 (E (d 1 (L (d 1 (E $0))))))) (r 1 (embed (lambda (d 1 (E (d 1 (L (d 1 (L $0))))))) (r 1 (embed (lambda (d 1 (L (d 1 (C (d 1 (C $0))))))) (r 1 (embed (lambda (d 1 (E (d 1 (E (d 1 (L $0))))))) $0))))))))),\n",
       " (lambda (embed (lambda (loop 4 (lambda (lambda (LL (r 1 $0)))) $0)) (embed (lambda (d 1 (C (d 1 (C (d 1 (C $0))))))) (r 1 (embed (lambda (d 1 (C (d 1 (C (d 1 (C $0))))))) (r 1 (embed (lambda (d 1 (C (d 1 (L (d 1 (C $0))))))) (r 1 (embed (lambda (d 1 (L (d 1 (L (d 1 (L $0))))))) $0))))))))),\n",
       " (lambda (embed (lambda (loop 4 (lambda (lambda (LL (r 1 $0)))) $0)) (embed (lambda (d 1 (C (d 1 (C (d 1 (C $0))))))) (r 1 (embed (lambda (d 1 (L (d 1 (L (d 1 (L $0))))))) (r 1 (embed (lambda (d 1 (L (d 1 (L (d 1 (L $0))))))) (r 1 (embed (lambda (d 1 (L (d 1 (L (d 1 (L $0))))))) $0))))))))),\n",
       " (lambda (embed (lambda (loop 4 (lambda (lambda (LL (r 1 $0)))) $0)) (embed (lambda (d 1 (L (d 1 (L (d 1 (E $0))))))) (r 1 (embed (lambda (d 1 (L (d 1 (L (d 1 (L $0))))))) (r 1 (embed (lambda (d 1 (C (d 1 (C (d 1 (C $0))))))) (r 1 (embed (lambda (d 1 (E (d 1 (C (d 1 (E $0))))))) $0))))))))),\n",
       " (lambda (embed (lambda (loop 4 (lambda (lambda (LL (r 1 $0)))) $0)) (embed (lambda (d 1 (L (d 1 (L (d 1 (L $0))))))) (r 1 (embed (lambda (d 1 (L (d 1 (L (d 1 (L $0))))))) (r 1 (embed (lambda (d 1 (L (d 1 (L (d 1 (L $0))))))) (r 1 (embed (lambda (d 1 (C (d 1 (C (d 1 (C $0))))))) $0))))))))),\n",
       " (lambda (embed (lambda (loop 4 (lambda (lambda (LL (r 1 $0)))) $0)) (embed (lambda (d 1 (C (d 1 (C (d 1 (L $0))))))) (r 1 (embed (lambda (d 1 (L (d 1 (L (d 1 (L $0))))))) (r 1 (embed (lambda (d 1 (C (d 1 (L (d 1 (L $0))))))) (r 1 (embed (lambda (d 1 (C (d 1 (C (d 1 (C $0))))))) $0))))))))),\n",
       " (lambda (embed (lambda (loop 4 (lambda (lambda (LL (r 1 $0)))) $0)) (embed (lambda (d 1 (C (d 1 (E (d 1 (C $0))))))) (r 1 (embed (lambda (d 1 (C (d 1 (E (d 1 (E $0))))))) (r 1 (embed (lambda (d 1 (C (d 1 (C (d 1 (C $0))))))) (r 1 (embed (lambda (d 1 (C (d 1 (C (d 1 (C $0))))))) $0))))))))),\n",
       " (lambda (embed (lambda (loop 4 (lambda (lambda (LL (r 1 $0)))) $0)) (embed (lambda (d 1 (C (d 1 (C (d 1 (C $0))))))) (r 1 (embed (lambda (d 1 (C (d 1 (C (d 1 (L $0))))))) (r 1 (embed (lambda (d 1 (C (d 1 (C (d 1 (C $0))))))) (r 1 (embed (lambda (d 1 (C (d 1 (C (d 1 (C $0))))))) $0))))))))),\n",
       " (lambda (embed (lambda (loop 4 (lambda (lambda (LL (r 1 $0)))) $0)) (embed (lambda (d 1 (L (d 1 (L (d 1 (L $0))))))) (r 1 (embed (lambda (d 1 (L (d 1 (L (d 1 (E $0))))))) (r 1 (embed (lambda (d 1 (L (d 1 (L (d 1 (L $0))))))) (r 1 (embed (lambda (d 1 (L (d 1 (L (d 1 (L $0))))))) $0))))))))),\n",
       " (lambda (embed (lambda (loop 4 (lambda (lambda (LL (r 1 $0)))) $0)) (embed (lambda (d 1 (L (d 1 (C (d 1 (E $0))))))) (r 1 (embed (lambda (d 1 (C (d 1 (C (d 1 (C $0))))))) (r 1 (embed (lambda (d 1 (E (d 1 (C (d 1 (E $0))))))) (r 1 (embed (lambda (d 1 (C (d 1 (C (d 1 (C $0))))))) $0))))))))),\n",
       " (lambda (embed (lambda (loop 4 (lambda (lambda (LL (r 1 $0)))) $0)) (embed (lambda (d 1 (C (d 1 (C (d 1 (C $0))))))) (r 1 (embed (lambda (d 1 (C (d 1 (C (d 1 (C $0))))))) (r 1 (embed (lambda (d 1 (E (d 1 (E (d 1 (C $0))))))) (r 1 (embed (lambda (d 1 (L (d 1 (L (d 1 (L $0))))))) $0))))))))),\n",
       " (lambda (embed (lambda (loop 4 (lambda (lambda (LL (r 1 $0)))) $0)) (embed (lambda (d 1 (C (d 1 (C (d 1 (C $0))))))) (r 1 (embed (lambda (d 1 (C (d 1 (C (d 1 (C $0))))))) (r 1 (embed (lambda (d 1 (L (d 1 (L (d 1 (L $0))))))) (r 1 (embed (lambda (d 1 (L (d 1 (L (d 1 (L $0))))))) $0))))))))),\n",
       " (lambda (embed (lambda (loop 4 (lambda (lambda (LL (r 1 $0)))) $0)) (embed (lambda (d 1 (L (d 1 (E (d 1 (C $0))))))) (r 1 (embed (lambda (d 1 (L (d 1 (C (d 1 (L $0))))))) (r 1 (embed (lambda (d 1 (C (d 1 (C (d 1 (C $0))))))) (r 1 (embed (lambda (d 1 (L (d 1 (L (d 1 (L $0))))))) $0))))))))),\n",
       " (lambda (embed (lambda (loop 4 (lambda (lambda (LL (r 1 $0)))) $0)) (embed (lambda (d 1 (C (d 1 (E (d 1 (L $0))))))) (r 1 (embed (lambda (d 1 (C (d 1 (C (d 1 (C $0))))))) (r 1 (embed (lambda (d 1 (L (d 1 (L (d 1 (L $0))))))) (r 1 (embed (lambda (d 1 (C (d 1 (L (d 1 (L $0))))))) $0))))))))),\n",
       " (lambda (embed (lambda (loop 4 (lambda (lambda (LL (r 1 $0)))) $0)) (embed (lambda (d 1 (L (d 1 (L (d 1 (L $0))))))) (r 1 (embed (lambda (d 1 (C (d 1 (C (d 1 (C $0))))))) (r 1 (embed (lambda (d 1 (C (d 1 (L (d 1 (C $0))))))) (r 1 (embed (lambda (d 1 (E (d 1 (C (d 1 (L $0))))))) $0))))))))),\n",
       " (lambda (embed (lambda (loop 4 (lambda (lambda (LL (r 1 $0)))) $0)) (embed (lambda (d 1 (L (d 1 (L (d 1 (L $0))))))) (r 1 (embed (lambda (d 1 (L (d 1 (L (d 1 (L $0))))))) (r 1 (embed (lambda (d 1 (L (d 1 (L (d 1 (L $0))))))) (r 1 (embed (lambda (d 1 (L (d 1 (E (d 1 (E $0))))))) $0))))))))),\n",
       " (lambda (embed (lambda (loop 4 (lambda (lambda (LL (r 1 $0)))) $0)) (embed (lambda (d 1 (L (d 1 (L (d 1 (L $0))))))) (r 1 (embed (lambda (d 1 (L (d 1 (L (d 1 (L $0))))))) (r 1 (embed (lambda (d 1 (L (d 1 (L (d 1 (L $0))))))) (r 1 (embed (lambda (d 1 (E (d 1 (L (d 1 (E $0))))))) $0))))))))),\n",
       " (lambda (embed (lambda (loop 4 (lambda (lambda (LL (r 1 $0)))) $0)) (embed (lambda (d 1 (C (d 1 (C (d 1 (C $0))))))) (r 1 (embed (lambda (d 1 (C (d 1 (C (d 1 (C $0))))))) (r 1 (embed (lambda (d 1 (C (d 1 (C (d 1 (C $0))))))) (r 1 (embed (lambda (d 1 (E (d 1 (E (d 1 (L $0))))))) $0))))))))),\n",
       " (lambda (embed (lambda (loop 4 (lambda (lambda (LL (r 1 $0)))) $0)) (embed (lambda (d 1 (C (d 1 (C (d 1 (C $0))))))) (r 1 (embed (lambda (d 1 (C (d 1 (C (d 1 (C $0))))))) (r 1 (embed (lambda (d 1 (C (d 1 (C (d 1 (C $0))))))) (r 1 (embed (lambda (d 1 (L (d 1 (L (d 1 (L $0))))))) $0))))))))),\n",
       " (lambda (embed (lambda (loop 4 (lambda (lambda (LL (r 1 $0)))) $0)) (embed (lambda (d 1 (C (d 1 (C (d 1 (C $0))))))) (r 1 (embed (lambda (d 1 (C (d 1 (C (d 1 (C $0))))))) (r 1 (embed (lambda (d 1 (L (d 1 (L (d 1 (L $0))))))) (r 1 (embed (lambda (d 1 (C (d 1 (C (d 1 (C $0))))))) $0))))))))),\n",
       " (lambda (embed (lambda (loop 4 (lambda (lambda (LL (r 1 $0)))) $0)) (embed (lambda (d 1 (L (d 1 (L (d 1 (L $0))))))) (r 1 (embed (lambda (d 1 (L (d 1 (L (d 1 (L $0))))))) (r 1 (embed (lambda (d 1 (L (d 1 (L (d 1 (L $0))))))) (r 1 (embed (lambda (d 1 (E (d 1 (E (d 1 (L $0))))))) $0))))))))),\n",
       " (lambda (embed (lambda (loop 4 (lambda (lambda (LL (r 1 $0)))) $0)) (embed (lambda (d 1 (L (d 1 (C (d 1 (E $0))))))) (r 1 (embed (lambda (d 1 (L (d 1 (L (d 1 (L $0))))))) (r 1 (embed (lambda (d 1 (C (d 1 (C (d 1 (C $0))))))) (r 1 (embed (lambda (d 1 (L (d 1 (L (d 1 (L $0))))))) $0))))))))),\n",
       " (lambda (embed (lambda (loop 4 (lambda (lambda (LL (r 1 $0)))) $0)) (embed (lambda (d 1 (E (d 1 (C (d 1 (L $0))))))) (r 1 (embed (lambda (d 1 (C (d 1 (C (d 1 (C $0))))))) (r 1 (embed (lambda (d 1 (C (d 1 (C (d 1 (C $0))))))) (r 1 (embed (lambda (d 1 (E (d 1 (C (d 1 (C $0))))))) $0))))))))),\n",
       " (lambda (embed (lambda (loop 4 (lambda (lambda (LL (r 1 $0)))) $0)) (embed (lambda (d 1 (C (d 1 (E (d 1 (L $0))))))) (r 1 (embed (lambda (d 1 (L (d 1 (L (d 1 (L $0))))))) (r 1 (embed (lambda (d 1 (L (d 1 (C (d 1 (L $0))))))) (r 1 (embed (lambda (d 1 (C (d 1 (C (d 1 (C $0))))))) $0))))))))),\n",
       " (lambda (embed (lambda (loop 4 (lambda (lambda (LL (r 1 $0)))) $0)) (embed (lambda (d 1 (C (d 1 (C (d 1 (C $0))))))) (r 1 (embed (lambda (d 1 (L (d 1 (L (d 1 (L $0))))))) (r 1 (embed (lambda (d 1 (L (d 1 (L (d 1 (L $0))))))) (r 1 (embed (lambda (d 1 (L (d 1 (L (d 1 (L $0))))))) $0))))))))),\n",
       " (lambda (embed (lambda (loop 4 (lambda (lambda (LL (r 1 $0)))) $0)) (embed (lambda (d 1 (E (d 1 (L (d 1 (C $0))))))) (r 1 (embed (lambda (d 1 (C (d 1 (C (d 1 (C $0))))))) (r 1 (embed (lambda (d 1 (L (d 1 (L (d 1 (L $0))))))) (r 1 (embed (lambda (d 1 (C (d 1 (E (d 1 (E $0))))))) $0))))))))),\n",
       " (lambda (embed (lambda (loop 4 (lambda (lambda (LL (r 1 $0)))) $0)) (embed (lambda (d 1 (E (d 1 (E (d 1 (L $0))))))) (r 1 (embed (lambda (d 1 (L (d 1 (L (d 1 (L $0))))))) (r 1 (embed (lambda (d 1 (C (d 1 (C (d 1 (C $0))))))) (r 1 (embed (lambda (d 1 (L (d 1 (L (d 1 (L $0))))))) $0))))))))),\n",
       " (lambda (embed (lambda (loop 4 (lambda (lambda (LL (r 1 $0)))) $0)) (embed (lambda (d 1 (C (d 1 (C (d 1 (C $0))))))) (r 1 (embed (lambda (d 1 (C (d 1 (E (d 1 (C $0))))))) (r 1 (embed (lambda (d 1 (E (d 1 (L (d 1 (L $0))))))) (r 1 (embed (lambda (d 1 (C (d 1 (C (d 1 (L $0))))))) $0))))))))),\n",
       " (lambda (embed (lambda (loop 4 (lambda (lambda (LL (r 1 $0)))) $0)) (embed (lambda (d 1 (L (d 1 (E (d 1 (C $0))))))) (r 1 (embed (lambda (d 1 (L (d 1 (C (d 1 (E $0))))))) (r 1 (embed (lambda (d 1 (C (d 1 (C (d 1 (C $0))))))) (r 1 (embed (lambda (d 1 (C (d 1 (C (d 1 (C $0))))))) $0))))))))),\n",
       " (lambda (embed (lambda (loop 4 (lambda (lambda (LL (r 1 $0)))) $0)) (embed (lambda (d 1 (C (d 1 (C (d 1 (C $0))))))) (r 1 (embed (lambda (d 1 (C (d 1 (C (d 1 (C $0))))))) (r 1 (embed (lambda (d 1 (C (d 1 (C (d 1 (C $0))))))) (r 1 (embed (lambda (d 1 (C (d 1 (C (d 1 (C $0))))))) $0))))))))),\n",
       " (lambda (embed (lambda (loop 4 (lambda (lambda (LL (r 1 $0)))) $0)) (embed (lambda (d 1 (E (d 1 (E (d 1 (L $0))))))) (r 1 (embed (lambda (d 1 (E (d 1 (C (d 1 (L $0))))))) (r 1 (embed (lambda (d 1 (L (d 1 (L (d 1 (C $0))))))) (r 1 (embed (lambda (d 1 (L (d 1 (L (d 1 (L $0))))))) $0))))))))),\n",
       " (lambda (embed (lambda (loop 4 (lambda (lambda (LL (r 1 $0)))) $0)) (embed (lambda (d 1 (C (d 1 (C (d 1 (C $0))))))) (r 1 (embed (lambda (d 1 (C (d 1 (C (d 1 (C $0))))))) (r 1 (embed (lambda (d 1 (L (d 1 (L (d 1 (L $0))))))) (r 1 (embed (lambda (d 1 (C (d 1 (C (d 1 (C $0))))))) $0))))))))),\n",
       " (lambda (embed (lambda (loop 4 (lambda (lambda (LL (r 1 $0)))) $0)) (embed (lambda (d 1 (C (d 1 (L (d 1 (C $0))))))) (r 1 (embed (lambda (d 1 (L (d 1 (L (d 1 (L $0))))))) (r 1 (embed (lambda (d 1 (L (d 1 (L (d 1 (L $0))))))) (r 1 (embed (lambda (d 1 (L (d 1 (L (d 1 (L $0))))))) $0))))))))),\n",
       " (lambda (embed (lambda (loop 4 (lambda (lambda (LL (r 1 $0)))) $0)) (embed (lambda (d 1 (E (d 1 (L (d 1 (E $0))))))) (r 1 (embed (lambda (d 1 (E (d 1 (C (d 1 (L $0))))))) (r 1 (embed (lambda (d 1 (L (d 1 (C (d 1 (L $0))))))) (r 1 (embed (lambda (d 1 (C (d 1 (C (d 1 (C $0))))))) $0))))))))),\n",
       " (lambda (embed (lambda (loop 4 (lambda (lambda (LL (r 1 $0)))) $0)) (embed (lambda (d 1 (C (d 1 (C (d 1 (C $0))))))) (r 1 (embed (lambda (d 1 (C (d 1 (C (d 1 (C $0))))))) (r 1 (embed (lambda (d 1 (C (d 1 (C (d 1 (C $0))))))) (r 1 (embed (lambda (d 1 (C (d 1 (C (d 1 (C $0))))))) $0))))))))),\n",
       " (lambda (embed (lambda (loop 4 (lambda (lambda (LL (r 1 $0)))) $0)) (embed (lambda (d 1 (L (d 1 (L (d 1 (L $0))))))) (r 1 (embed (lambda (d 1 (E (d 1 (L (d 1 (E $0))))))) (r 1 (embed (lambda (d 1 (L (d 1 (L (d 1 (L $0))))))) (r 1 (embed (lambda (d 1 (L (d 1 (E (d 1 (L $0))))))) $0))))))))),\n",
       " (lambda (embed (lambda (loop 4 (lambda (lambda (LL (r 1 $0)))) $0)) (embed (lambda (d 1 (L (d 1 (L (d 1 (E $0))))))) (r 1 (embed (lambda (d 1 (L (d 1 (L (d 1 (L $0))))))) (r 1 (embed (lambda (d 1 (L (d 1 (L (d 1 (L $0))))))) (r 1 (embed (lambda (d 1 (C (d 1 (C (d 1 (C $0))))))) $0))))))))),\n",
       " (lambda (embed (lambda (loop 4 (lambda (lambda (LL (r 1 $0)))) $0)) (embed (lambda (d 1 (C (d 1 (C (d 1 (C $0))))))) (r 1 (embed (lambda (d 1 (C (d 1 (C (d 1 (C $0))))))) (r 1 (embed (lambda (d 1 (C (d 1 (C (d 1 (C $0))))))) (r 1 (embed (lambda (d 1 (L (d 1 (L (d 1 (L $0))))))) $0))))))))),\n",
       " (lambda (embed (lambda (loop 4 (lambda (lambda (LL (r 1 $0)))) $0)) (embed (lambda (d 1 (L (d 1 (L (d 1 (L $0))))))) (r 1 (embed (lambda (d 1 (C (d 1 (L (d 1 (L $0))))))) (r 1 (embed (lambda (d 1 (L (d 1 (L (d 1 (C $0))))))) (r 1 (embed (lambda (d 1 (C (d 1 (C (d 1 (C $0))))))) $0))))))))),\n",
       " (lambda (embed (lambda (loop 4 (lambda (lambda (LL (r 1 $0)))) $0)) (embed (lambda (d 1 (C (d 1 (C (d 1 (C $0))))))) (r 1 (embed (lambda (d 1 (C (d 1 (C (d 1 (C $0))))))) (r 1 (embed (lambda (d 1 (L (d 1 (E (d 1 (E $0))))))) (r 1 (embed (lambda (d 1 (C (d 1 (E (d 1 (E $0))))))) $0))))))))),\n",
       " (lambda (embed (lambda (loop 4 (lambda (lambda (LL (r 1 $0)))) $0)) (embed (lambda (d 1 (C (d 1 (C (d 1 (C $0))))))) (r 1 (embed (lambda (d 1 (L (d 1 (L (d 1 (L $0))))))) (r 1 (embed (lambda (d 1 (C (d 1 (C (d 1 (C $0))))))) (r 1 (embed (lambda (d 1 (L (d 1 (L (d 1 (L $0))))))) $0))))))))),\n",
       " (lambda (embed (lambda (loop 4 (lambda (lambda (LL (r 1 $0)))) $0)) (embed (lambda (d 1 (L (d 1 (L (d 1 (L $0))))))) (r 1 (embed (lambda (d 1 (L (d 1 (L (d 1 (L $0))))))) (r 1 (embed (lambda (d 1 (L (d 1 (E (d 1 (E $0))))))) (r 1 (embed (lambda (d 1 (E (d 1 (E (d 1 (L $0))))))) $0))))))))),\n",
       " (lambda (embed (lambda (loop 4 (lambda (lambda (LL (r 1 $0)))) $0)) (embed (lambda (d 1 (L (d 1 (L (d 1 (L $0))))))) (r 1 (embed (lambda (d 1 (E (d 1 (C (d 1 (C $0))))))) (r 1 (embed (lambda (d 1 (L (d 1 (E (d 1 (E $0))))))) (r 1 (embed (lambda (d 1 (L (d 1 (L (d 1 (L $0))))))) $0))))))))),\n",
       " (lambda (embed (lambda (loop 4 (lambda (lambda (LL (r 1 $0)))) $0)) (embed (lambda (d 1 (C (d 1 (E (d 1 (E $0))))))) (r 1 (embed (lambda (d 1 (E (d 1 (E (d 1 (L $0))))))) (r 1 (embed (lambda (d 1 (C (d 1 (E (d 1 (C $0))))))) (r 1 (embed (lambda (d 1 (C (d 1 (C (d 1 (C $0))))))) $0))))))))),\n",
       " (lambda (embed (lambda (loop 4 (lambda (lambda (LL (r 1 $0)))) $0)) (embed (lambda (d 1 (L (d 1 (L (d 1 (L $0))))))) (r 1 (embed (lambda (d 1 (E (d 1 (E (d 1 (E $0))))))) (r 1 (embed (lambda (d 1 (L (d 1 (L (d 1 (C $0))))))) (r 1 (embed (lambda (d 1 (C (d 1 (C (d 1 (C $0))))))) $0))))))))),\n",
       " (lambda (embed (lambda (loop 4 (lambda (lambda (LL (r 1 $0)))) $0)) (embed (lambda (d 1 (C (d 1 (C (d 1 (C $0))))))) (r 1 (embed (lambda (d 1 (C (d 1 (C (d 1 (C $0))))))) (r 1 (embed (lambda (d 1 (C (d 1 (E (d 1 (C $0))))))) (r 1 (embed (lambda (d 1 (C (d 1 (C (d 1 (L $0))))))) $0)))))))))]"
      ]
     },
     "execution_count": 75,
     "metadata": {},
     "output_type": "execute_result"
    }
   ],
   "source": [
    "N = 50\n",
    "programs = [p() for _ in range(N)]\n"
   ]
  },
  {
   "cell_type": "code",
   "execution_count": 4,
   "metadata": {},
   "outputs": [
    {
     "ename": "NameError",
     "evalue": "name 'programs' is not defined",
     "output_type": "error",
     "traceback": [
      "\u001b[0;31m---------------------------------------------------------------------------\u001b[0m",
      "\u001b[0;31mNameError\u001b[0m                                 Traceback (most recent call last)",
      "\u001b[0;32m<ipython-input-4-0de716a47582>\u001b[0m in \u001b[0;36m<module>\u001b[0;34m\u001b[0m\n\u001b[1;32m      2\u001b[0m \u001b[0;34m\u001b[0m\u001b[0m\n\u001b[1;32m      3\u001b[0m \u001b[0;34m\u001b[0m\u001b[0m\n\u001b[0;32m----> 4\u001b[0;31m \u001b[0mTasks\u001b[0m \u001b[0;34m=\u001b[0m \u001b[0;34m[\u001b[0m\u001b[0mSupervisedSketch\u001b[0m\u001b[0;34m(\u001b[0m\u001b[0;34mf\"task{i}\"\u001b[0m\u001b[0;34m,\u001b[0m \u001b[0mp\u001b[0m\u001b[0;34m)\u001b[0m \u001b[0;32mfor\u001b[0m \u001b[0mi\u001b[0m\u001b[0;34m,\u001b[0m \u001b[0mp\u001b[0m \u001b[0;32min\u001b[0m \u001b[0menumerate\u001b[0m\u001b[0;34m(\u001b[0m\u001b[0mprograms\u001b[0m\u001b[0;34m)\u001b[0m\u001b[0;34m]\u001b[0m\u001b[0;34m\u001b[0m\u001b[0;34m\u001b[0m\u001b[0m\n\u001b[0m",
      "\u001b[0;31mNameError\u001b[0m: name 'programs' is not defined"
     ]
    }
   ],
   "source": [
    "from dreamcoder.domains.sketch.makeSketchTasks import *\n",
    "\n",
    "\n",
    "Tasks = [SupervisedSketch(f\"task{i}\", p) for i, p in enumerate(programs)]\n"
   ]
  },
  {
   "cell_type": "code",
   "execution_count": 123,
   "metadata": {},
   "outputs": [
    {
     "data": {
      "text/plain": [
       "(lambda (embed (lambda (loop 4 (lambda (lambda (LL (r 1 $0)))) $0)) (embed (lambda (d 1 (C (d 1 (L (d 1 (E $0))))))) (r 1 (embed (lambda (d 1 (C (d 1 (E (d 1 (C $0))))))) (r 1 (embed (lambda (d 1 (L (d 1 (L (d 1 (L $0))))))) (r 1 (embed (lambda (d 1 (L (d 1 (L (d 1 (L $0))))))) $0)))))))))"
      ]
     },
     "execution_count": 123,
     "metadata": {},
     "output_type": "execute_result"
    }
   ],
   "source": [
    "programs[0]"
   ]
  },
  {
   "cell_type": "code",
   "execution_count": 126,
   "metadata": {},
   "outputs": [
    {
     "data": {
      "text/plain": [
       "(lambda (r 1 (l 1 (C $0))))"
      ]
     },
     "execution_count": 126,
     "metadata": {},
     "output_type": "execute_result"
    }
   ],
   "source": [
    "programs[1]"
   ]
  },
  {
   "cell_type": "code",
   "execution_count": 75,
   "metadata": {},
   "outputs": [
    {
     "ename": "TypeError",
     "evalue": "super(type, obj): obj must be an instance or subtype of type",
     "output_type": "error",
     "traceback": [
      "\u001b[0;31m---------------------------------------------------------------------------\u001b[0m",
      "\u001b[0;31mTypeError\u001b[0m                                 Traceback (most recent call last)",
      "\u001b[0;32m<ipython-input-75-f18a4d44625f>\u001b[0m in \u001b[0;36m<module>\u001b[0;34m\u001b[0m\n\u001b[1;32m      7\u001b[0m \u001b[0;34m[\u001b[0m\u001b[0mexecuteSketch\u001b[0m\u001b[0;34m(\u001b[0m\u001b[0mp\u001b[0m\u001b[0;34m)\u001b[0m\u001b[0;34m[\u001b[0m\u001b[0;36m1\u001b[0m\u001b[0;34m]\u001b[0m \u001b[0;32mfor\u001b[0m \u001b[0mp\u001b[0m \u001b[0;32min\u001b[0m \u001b[0mprograms\u001b[0m\u001b[0;34m]\u001b[0m\u001b[0;34m\u001b[0m\u001b[0;34m\u001b[0m\u001b[0m\n\u001b[1;32m      8\u001b[0m \u001b[0;34m\u001b[0m\u001b[0m\n\u001b[0;32m----> 9\u001b[0;31m \u001b[0mTasks\u001b[0m \u001b[0;34m=\u001b[0m \u001b[0;34m[\u001b[0m\u001b[0mSupervisedSketch\u001b[0m\u001b[0;34m(\u001b[0m\u001b[0;34mf\"task{i}\"\u001b[0m\u001b[0;34m,\u001b[0m \u001b[0mp\u001b[0m\u001b[0;34m)\u001b[0m \u001b[0;32mfor\u001b[0m \u001b[0mi\u001b[0m\u001b[0;34m,\u001b[0m \u001b[0mp\u001b[0m \u001b[0;32min\u001b[0m \u001b[0menumerate\u001b[0m\u001b[0;34m(\u001b[0m\u001b[0mprograms\u001b[0m\u001b[0;34m)\u001b[0m\u001b[0;34m]\u001b[0m\u001b[0;34m\u001b[0m\u001b[0;34m\u001b[0m\u001b[0m\n\u001b[0m",
      "\u001b[0;32m<ipython-input-75-f18a4d44625f>\u001b[0m in \u001b[0;36m<listcomp>\u001b[0;34m(.0)\u001b[0m\n\u001b[1;32m      7\u001b[0m \u001b[0;34m[\u001b[0m\u001b[0mexecuteSketch\u001b[0m\u001b[0;34m(\u001b[0m\u001b[0mp\u001b[0m\u001b[0;34m)\u001b[0m\u001b[0;34m[\u001b[0m\u001b[0;36m1\u001b[0m\u001b[0;34m]\u001b[0m \u001b[0;32mfor\u001b[0m \u001b[0mp\u001b[0m \u001b[0;32min\u001b[0m \u001b[0mprograms\u001b[0m\u001b[0;34m]\u001b[0m\u001b[0;34m\u001b[0m\u001b[0;34m\u001b[0m\u001b[0m\n\u001b[1;32m      8\u001b[0m \u001b[0;34m\u001b[0m\u001b[0m\n\u001b[0;32m----> 9\u001b[0;31m \u001b[0mTasks\u001b[0m \u001b[0;34m=\u001b[0m \u001b[0;34m[\u001b[0m\u001b[0mSupervisedSketch\u001b[0m\u001b[0;34m(\u001b[0m\u001b[0;34mf\"task{i}\"\u001b[0m\u001b[0;34m,\u001b[0m \u001b[0mp\u001b[0m\u001b[0;34m)\u001b[0m \u001b[0;32mfor\u001b[0m \u001b[0mi\u001b[0m\u001b[0;34m,\u001b[0m \u001b[0mp\u001b[0m \u001b[0;32min\u001b[0m \u001b[0menumerate\u001b[0m\u001b[0;34m(\u001b[0m\u001b[0mprograms\u001b[0m\u001b[0;34m)\u001b[0m\u001b[0;34m]\u001b[0m\u001b[0;34m\u001b[0m\u001b[0;34m\u001b[0m\u001b[0m\n\u001b[0m",
      "\u001b[0;32m/data1/code/python/ec/dreamcoder/domains/sketch/makeSketchTasks.py\u001b[0m in \u001b[0;36m__init__\u001b[0;34m(self, name, program)\u001b[0m\n\u001b[1;32m     12\u001b[0m \u001b[0;32mclass\u001b[0m \u001b[0mSupervisedSketch\u001b[0m\u001b[0;34m(\u001b[0m\u001b[0mTask\u001b[0m\u001b[0;34m)\u001b[0m\u001b[0;34m:\u001b[0m\u001b[0;34m\u001b[0m\u001b[0;34m\u001b[0m\u001b[0m\n\u001b[1;32m     13\u001b[0m     \u001b[0;32mdef\u001b[0m \u001b[0m__init__\u001b[0m\u001b[0;34m(\u001b[0m\u001b[0mself\u001b[0m\u001b[0;34m,\u001b[0m \u001b[0mname\u001b[0m\u001b[0;34m,\u001b[0m \u001b[0mprogram\u001b[0m\u001b[0;34m)\u001b[0m\u001b[0;34m:\u001b[0m\u001b[0;34m\u001b[0m\u001b[0;34m\u001b[0m\u001b[0m\n\u001b[0;32m---> 14\u001b[0;31m         \u001b[0msuper\u001b[0m\u001b[0;34m(\u001b[0m\u001b[0mSupervisedSketch\u001b[0m\u001b[0;34m,\u001b[0m \u001b[0mself\u001b[0m\u001b[0;34m)\u001b[0m\u001b[0;34m.\u001b[0m\u001b[0m__init__\u001b[0m\u001b[0;34m(\u001b[0m\u001b[0mname\u001b[0m\u001b[0;34m,\u001b[0m \u001b[0marrow\u001b[0m\u001b[0;34m(\u001b[0m\u001b[0mtsketch\u001b[0m\u001b[0;34m,\u001b[0m\u001b[0mtsketch\u001b[0m\u001b[0;34m)\u001b[0m\u001b[0;34m,\u001b[0m \u001b[0;34m[\u001b[0m\u001b[0;34m]\u001b[0m\u001b[0;34m)\u001b[0m \u001b[0;31m# TODO: LT, needs this, i.e., a request.\u001b[0m\u001b[0;34m\u001b[0m\u001b[0;34m\u001b[0m\u001b[0m\n\u001b[0m\u001b[1;32m     15\u001b[0m         \u001b[0;32mif\u001b[0m \u001b[0misinstance\u001b[0m\u001b[0;34m(\u001b[0m\u001b[0mprogram\u001b[0m\u001b[0;34m,\u001b[0m\u001b[0mstr\u001b[0m\u001b[0;34m)\u001b[0m\u001b[0;34m:\u001b[0m\u001b[0;34m\u001b[0m\u001b[0;34m\u001b[0m\u001b[0m\n\u001b[1;32m     16\u001b[0m             \u001b[0mprogram\u001b[0m \u001b[0;34m=\u001b[0m \u001b[0mpar\u001b[0m\u001b[0;34m\u001b[0m\u001b[0;34m\u001b[0m\u001b[0m\n",
      "\u001b[0;31mTypeError\u001b[0m: super(type, obj): obj must be an instance or subtype of type"
     ]
    }
   ],
   "source": [
    "programs = [\n",
    "    Program.parseHumanReadable(\"(lambda (k) (C k))\"),\n",
    "    Program.parseHumanReadable(\"(lambda (k) (r 1 (l 1 (C k))))\")\n",
    "]\n",
    "# programs = [p() for _ in range(N)]\n",
    "\n",
    "[executeSketch(p)[1] for p in programs]\n",
    "\n",
    "Tasks = [SupervisedSketch(f\"task{i}\", p) for i, p in enumerate(programs)]\n"
   ]
  },
  {
   "cell_type": "code",
   "execution_count": 132,
   "metadata": {},
   "outputs": [
    {
     "data": {
      "text/plain": [
       "0.0"
      ]
     },
     "execution_count": 132,
     "metadata": {},
     "output_type": "execute_result"
    }
   ],
   "source": [
    "\n",
    "Tasks[1].logLikelihood(programs[0])"
   ]
  },
  {
   "cell_type": "code",
   "execution_count": 8,
   "metadata": {},
   "outputs": [
    {
     "name": "stdout",
     "output_type": "stream",
     "text": [
      "SKETCH TASK, getting 20 tasks for training set: practice\n"
     ]
    }
   ],
   "source": [
    "Tasks = makeSupervisedTasks()"
   ]
  },
  {
   "cell_type": "code",
   "execution_count": 15,
   "metadata": {
    "scrolled": false
   },
   "outputs": [
    {
     "name": "stdout",
     "output_type": "stream",
     "text": [
      "[((-2.2, 2), ''), ((-2.2, 2), 'LL'), ((-1.1, 2), ''), ((-1.1, 2), 'LL'), ((0.0, 2), ''), ((0.0, 2), 'LL'), ((1.1, 2), ''), ((1.1, 2), 'LL'), ((2.2, 2), ''), ((-2.2, 2), ''), ((-2.2, 1), ''), ((-2.2, 1), 'C'), ((-2.2, 0), ''), ((-2.2, 0), 'L'), ((-2.2, -1), ''), ((-2.2, -1), 'E'), ((-2.2, 2), ''), ((-1.1, 2), ''), ((-1.1, 1), ''), ((-1.1, 1), 'E'), ((-1.1, 0), ''), ((-1.1, 0), 'L'), ((-1.1, -1), ''), ((-1.1, -1), 'L'), ((-1.1, 2), ''), ((0.0, 2), ''), ((0.0, 1), ''), ((0.0, 1), 'C'), ((0.0, 0), ''), ((0.0, 0), 'C'), ((0.0, -1), ''), ((0.0, -1), 'C'), ((0.0, 2), ''), ((1.1, 2), ''), ((1.1, 1), ''), ((1.1, 1), 'L'), ((1.1, 0), ''), ((1.1, 0), 'L'), ((1.1, -1), ''), ((1.1, -1), 'L'), ((1.1, 2), '')]\n",
      "[((-2.2, 2), ''), ((-2.2, 2), 'LL'), ((-1.1, 2), ''), ((-1.1, 2), 'LL'), ((0.0, 2), ''), ((0.0, 2), 'LL'), ((1.1, 2), ''), ((1.1, 2), 'LL'), ((2.2, 2), ''), ((-2.2, 2), ''), ((-2.2, 1), ''), ((-2.2, 1), 'L'), ((-2.2, 0), ''), ((-2.2, 0), 'L'), ((-2.2, -1), ''), ((-2.2, -1), 'L'), ((-2.2, 2), ''), ((-1.1, 2), ''), ((-1.1, 1), ''), ((-1.1, 1), 'L'), ((-1.1, 0), ''), ((-1.1, 0), 'L'), ((-1.1, -1), ''), ((-1.1, -1), 'L'), ((-1.1, 2), ''), ((0.0, 2), ''), ((0.0, 1), ''), ((0.0, 1), 'C'), ((0.0, 0), ''), ((0.0, 0), 'C'), ((0.0, -1), ''), ((0.0, -1), 'C'), ((0.0, 2), ''), ((1.1, 2), ''), ((1.1, 1), ''), ((1.1, 1), 'L'), ((1.1, 0), ''), ((1.1, 0), 'L'), ((1.1, -1), ''), ((1.1, -1), 'L'), ((1.1, 2), '')]\n",
      "[((-2.2, 2), ''), ((-2.2, 2), 'LL'), ((-1.1, 2), ''), ((-1.1, 2), 'LL'), ((0.0, 2), ''), ((0.0, 2), 'LL'), ((1.1, 2), ''), ((1.1, 2), 'LL'), ((2.2, 2), ''), ((-2.2, 2), ''), ((-2.2, 1), ''), ((-2.2, 1), 'C'), ((-2.2, 0), ''), ((-2.2, 0), 'L'), ((-2.2, -1), ''), ((-2.2, -1), 'C'), ((-2.2, 2), ''), ((-1.1, 2), ''), ((-1.1, 1), ''), ((-1.1, 1), 'L'), ((-1.1, 0), ''), ((-1.1, 0), 'L'), ((-1.1, -1), ''), ((-1.1, -1), 'L'), ((-1.1, 2), ''), ((0.0, 2), ''), ((0.0, 1), ''), ((0.0, 1), 'L'), ((0.0, 0), ''), ((0.0, 0), 'L'), ((0.0, -1), ''), ((0.0, -1), 'L'), ((0.0, 2), ''), ((1.1, 2), ''), ((1.1, 1), ''), ((1.1, 1), 'C'), ((1.1, 0), ''), ((1.1, 0), 'L'), ((1.1, -1), ''), ((1.1, -1), 'E'), ((1.1, 2), '')]\n",
      "[((-2.2, 2), ''), ((-2.2, 2), 'LL'), ((-1.1, 2), ''), ((-1.1, 2), 'LL'), ((0.0, 2), ''), ((0.0, 2), 'LL'), ((1.1, 2), ''), ((1.1, 2), 'LL'), ((2.2, 2), ''), ((-2.2, 2), ''), ((-2.2, 1), ''), ((-2.2, 1), 'C'), ((-2.2, 0), ''), ((-2.2, 0), 'C'), ((-2.2, -1), ''), ((-2.2, -1), 'C'), ((-2.2, 2), ''), ((-1.1, 2), ''), ((-1.1, 1), ''), ((-1.1, 1), 'C'), ((-1.1, 0), ''), ((-1.1, 0), 'C'), ((-1.1, -1), ''), ((-1.1, -1), 'C'), ((-1.1, 2), ''), ((0.0, 2), ''), ((0.0, 1), ''), ((0.0, 1), 'L'), ((0.0, 0), ''), ((0.0, 0), 'L'), ((0.0, -1), ''), ((0.0, -1), 'L'), ((0.0, 2), ''), ((1.1, 2), ''), ((1.1, 1), ''), ((1.1, 1), 'C'), ((1.1, 0), ''), ((1.1, 0), 'C'), ((1.1, -1), ''), ((1.1, -1), 'C'), ((1.1, 2), '')]\n",
      "[((-2.2, 2), ''), ((-2.2, 2), 'LL'), ((-1.1, 2), ''), ((-1.1, 2), 'LL'), ((0.0, 2), ''), ((0.0, 2), 'LL'), ((1.1, 2), ''), ((1.1, 2), 'LL'), ((2.2, 2), ''), ((-2.2, 2), ''), ((-2.2, 1), ''), ((-2.2, 1), 'L'), ((-2.2, 0), ''), ((-2.2, 0), 'L'), ((-2.2, -1), ''), ((-2.2, -1), 'L'), ((-2.2, 2), ''), ((-1.1, 2), ''), ((-1.1, 1), ''), ((-1.1, 1), 'L'), ((-1.1, 0), ''), ((-1.1, 0), 'L'), ((-1.1, -1), ''), ((-1.1, -1), 'L'), ((-1.1, 2), ''), ((0.0, 2), ''), ((0.0, 1), ''), ((0.0, 1), 'E'), ((0.0, 0), ''), ((0.0, 0), 'L'), ((0.0, -1), ''), ((0.0, -1), 'L'), ((0.0, 2), ''), ((1.1, 2), ''), ((1.1, 1), ''), ((1.1, 1), 'L'), ((1.1, 0), ''), ((1.1, 0), 'L'), ((1.1, -1), ''), ((1.1, -1), 'L'), ((1.1, 2), '')]\n"
     ]
    },
    {
     "data": {
      "text/plain": [
       "[None, None, None, None, None]"
      ]
     },
     "execution_count": 15,
     "metadata": {},
     "output_type": "execute_result"
    },
    {
     "data": {
      "image/png": "[encoded data removed]",
      "text/plain": [
       "<Figure size 216x216 with 1 Axes>"
      ]
     },
     "metadata": {
      "needs_background": "light"
     },
     "output_type": "display_data"
    },
    {
     "data": {
      "image/png": "[encoded data removed]",
      "text/plain": [
       "<Figure size 216x216 with 1 Axes>"
      ]
     },
     "metadata": {
      "needs_background": "light"
     },
     "output_type": "display_data"
    },
    {
     "data": {
      "image/png": "[encoded data removed]",
      "text/plain": [
       "<Figure size 216x216 with 1 Axes>"
      ]
     },
     "metadata": {
      "needs_background": "light"
     },
     "output_type": "display_data"
    },
    {
     "data": {
      "image/png": "[encoded data removed]",
      "text/plain": [
       "<Figure size 216x216 with 1 Axes>"
      ]
     },
     "metadata": {
      "needs_background": "light"
     },
     "output_type": "display_data"
    },
    {
     "data": {
      "image/png": "[encoded data removed]",
      "text/plain": [
       "<Figure size 216x216 with 1 Axes>"
      ]
     },
     "metadata": {
      "needs_background": "light"
     },
     "output_type": "display_data"
    }
   ],
   "source": [
    "[renderPlan(t.hand) for t in Tasks[:5]]"
   ]
  },
  {
   "cell_type": "code",
   "execution_count": 18,
   "metadata": {},
   "outputs": [
    {
     "data": {
      "text/plain": [
       "['__class__',\n",
       " '__delattr__',\n",
       " '__dict__',\n",
       " '__dir__',\n",
       " '__doc__',\n",
       " '__eq__',\n",
       " '__format__',\n",
       " '__ge__',\n",
       " '__getattribute__',\n",
       " '__getstate__',\n",
       " '__gt__',\n",
       " '__hash__',\n",
       " '__init__',\n",
       " '__init_subclass__',\n",
       " '__le__',\n",
       " '__lt__',\n",
       " '__module__',\n",
       " '__ne__',\n",
       " '__new__',\n",
       " '__reduce__',\n",
       " '__reduce_ex__',\n",
       " '__repr__',\n",
       " '__setattr__',\n",
       " '__setstate__',\n",
       " '__sizeof__',\n",
       " '__str__',\n",
       " '__subclasshook__',\n",
       " '__weakref__',\n",
       " '_parse',\n",
       " 'annotateTypes',\n",
       " 'applicationParse',\n",
       " 'applicationParses',\n",
       " 'betaNormalForm',\n",
       " 'betaReduce',\n",
       " 'body',\n",
       " 'canHaveType',\n",
       " 'clone',\n",
       " 'closed',\n",
       " 'evaluate',\n",
       " 'freeVariables',\n",
       " 'hashCode',\n",
       " 'infer',\n",
       " 'inferType',\n",
       " 'isAbstraction',\n",
       " 'isApplication',\n",
       " 'isBetaLong',\n",
       " 'isHole',\n",
       " 'isIndex',\n",
       " 'isInvented',\n",
       " 'isPrimitive',\n",
       " 'isUnion',\n",
       " 'numberOfFreeVariables',\n",
       " 'parse',\n",
       " 'parseConstant',\n",
       " 'parseHumanReadable',\n",
       " 'runWithArguments',\n",
       " 'shift',\n",
       " 'show',\n",
       " 'size',\n",
       " 'substitute',\n",
       " 'uncurry',\n",
       " 'visit',\n",
       " 'walk',\n",
       " 'walkUncurried',\n",
       " 'wellTyped']"
      ]
     },
     "execution_count": 18,
     "metadata": {},
     "output_type": "execute_result"
    }
   ],
   "source": [
    "dir(Tasks[0].original)\n"
   ]
  },
  {
   "cell_type": "code",
   "execution_count": 34,
   "metadata": {},
   "outputs": [
    {
     "data": {
      "text/plain": [
       "dreamcoder.program.Abstraction"
      ]
     },
     "execution_count": 34,
     "metadata": {},
     "output_type": "execute_result"
    }
   ],
   "source": [
    "type(Tasks[0].original)\n"
   ]
  },
  {
   "cell_type": "code",
   "execution_count": 39,
   "metadata": {},
   "outputs": [
    {
     "data": {
      "text/plain": [
       "<bound method TypeConstructor.isArrow of sketch -> sketch>"
      ]
     },
     "execution_count": 39,
     "metadata": {},
     "output_type": "execute_result"
    }
   ],
   "source": [
    "arrow(tsketch, tsketch).isArrow"
   ]
  },
  {
   "cell_type": "code",
   "execution_count": 41,
   "metadata": {},
   "outputs": [
    {
     "name": "stderr",
     "output_type": "stream",
     "text": [
      "(lambda (embed (lambda (loop 4 (lambda (lambda (LL (r 1 $0)))) $0)) (embed (lambda (d 1 (C (d 1 (L (d 1 (E $0))))))) (r 1 (embed (lambda (d 1 (E (d 1 (L (d 1 (L $0))))))) (r 1 (embed (lambda (d 1 (C (d 1 (C (d 1 (C $0))))))) (r 1 (embed (lambda (d 1 (L (d 1 (L (d 1 (L $0))))))) $0))))))))) Not in candidates\n",
      "Candidates is {E: (0.0, sketch -> sketch, Context(next = 0, {})), C: (0.0, sketch -> sketch, Context(next = 0, {})), L: (0.0, sketch -> sketch, Context(next = 0, {})), LL: (0.0, sketch -> sketch, Context(next = 0, {})), l: (0.0, int -> sketch -> sketch, Context(next = 0, {})), r: (0.0, int -> sketch -> sketch, Context(next = 0, {})), u: (0.0, int -> sketch -> sketch, Context(next = 0, {})), d: (0.0, int -> sketch -> sketch, Context(next = 0, {})), loop: (0.0, int -> (int -> sketch -> sketch) -> sketch -> sketch, Context(next = 0, {})), embed: (0.0, (sketch -> sketch) -> sketch -> sketch, Context(next = 0, {}))}\n",
      "request is sketch\n",
      "xs []\n",
      "environment []\n"
     ]
    },
    {
     "ename": "AssertionError",
     "evalue": "",
     "output_type": "error",
     "traceback": [
      "\u001b[0;31m---------------------------------------------------------------------------\u001b[0m",
      "\u001b[0;31mAssertionError\u001b[0m                            Traceback (most recent call last)",
      "\u001b[0;32m<ipython-input-41-30431495b6be>\u001b[0m in \u001b[0;36m<module>\u001b[0;34m\u001b[0m\n\u001b[1;32m      1\u001b[0m \u001b[0mg0\u001b[0m \u001b[0;34m=\u001b[0m \u001b[0mGrammar\u001b[0m\u001b[0;34m.\u001b[0m\u001b[0muniform\u001b[0m\u001b[0;34m(\u001b[0m\u001b[0mprimitives\u001b[0m\u001b[0;34m,\u001b[0m \u001b[0mcontinuationType\u001b[0m\u001b[0;34m=\u001b[0m\u001b[0mtsketch\u001b[0m\u001b[0;34m)\u001b[0m\u001b[0;34m\u001b[0m\u001b[0;34m\u001b[0m\u001b[0m\n\u001b[0;32m----> 2\u001b[0;31m \u001b[0mg0\u001b[0m\u001b[0;34m.\u001b[0m\u001b[0mlogLikelihood\u001b[0m\u001b[0;34m(\u001b[0m\u001b[0mtsketch\u001b[0m\u001b[0;34m,\u001b[0m \u001b[0mTasks\u001b[0m\u001b[0;34m[\u001b[0m\u001b[0;36m0\u001b[0m\u001b[0;34m]\u001b[0m\u001b[0;34m.\u001b[0m\u001b[0moriginal\u001b[0m\u001b[0;34m)\u001b[0m\u001b[0;34m\u001b[0m\u001b[0;34m\u001b[0m\u001b[0m\n\u001b[0m",
      "\u001b[0;32m/data1/code/python/ec/dreamcoder/grammar.py\u001b[0m in \u001b[0;36mlogLikelihood\u001b[0;34m(self, request, expression)\u001b[0m\n\u001b[1;32m    383\u001b[0m \u001b[0;34m\u001b[0m\u001b[0m\n\u001b[1;32m    384\u001b[0m     \u001b[0;32mdef\u001b[0m \u001b[0mlogLikelihood\u001b[0m\u001b[0;34m(\u001b[0m\u001b[0mself\u001b[0m\u001b[0;34m,\u001b[0m \u001b[0mrequest\u001b[0m\u001b[0;34m,\u001b[0m \u001b[0mexpression\u001b[0m\u001b[0;34m)\u001b[0m\u001b[0;34m:\u001b[0m\u001b[0;34m\u001b[0m\u001b[0;34m\u001b[0m\u001b[0m\n\u001b[0;32m--> 385\u001b[0;31m         \u001b[0msummary\u001b[0m \u001b[0;34m=\u001b[0m \u001b[0mself\u001b[0m\u001b[0;34m.\u001b[0m\u001b[0mclosedLikelihoodSummary\u001b[0m\u001b[0;34m(\u001b[0m\u001b[0mrequest\u001b[0m\u001b[0;34m,\u001b[0m \u001b[0mexpression\u001b[0m\u001b[0;34m)\u001b[0m\u001b[0;34m\u001b[0m\u001b[0;34m\u001b[0m\u001b[0m\n\u001b[0m\u001b[1;32m    386\u001b[0m         \u001b[0;32mif\u001b[0m \u001b[0msummary\u001b[0m \u001b[0;32mis\u001b[0m \u001b[0;32mNone\u001b[0m\u001b[0;34m:\u001b[0m\u001b[0;34m\u001b[0m\u001b[0;34m\u001b[0m\u001b[0m\n\u001b[1;32m    387\u001b[0m             eprint(\n",
      "\u001b[0;32m/data1/code/python/ec/dreamcoder/grammar.py\u001b[0m in \u001b[0;36mclosedLikelihoodSummary\u001b[0;34m(self, request, expression, silent)\u001b[0m\n\u001b[1;32m    371\u001b[0m     \u001b[0;32mdef\u001b[0m \u001b[0mclosedLikelihoodSummary\u001b[0m\u001b[0;34m(\u001b[0m\u001b[0mself\u001b[0m\u001b[0;34m,\u001b[0m \u001b[0mrequest\u001b[0m\u001b[0;34m,\u001b[0m \u001b[0mexpression\u001b[0m\u001b[0;34m,\u001b[0m \u001b[0msilent\u001b[0m\u001b[0;34m=\u001b[0m\u001b[0;32mFalse\u001b[0m\u001b[0;34m)\u001b[0m\u001b[0;34m:\u001b[0m\u001b[0;34m\u001b[0m\u001b[0;34m\u001b[0m\u001b[0m\n\u001b[1;32m    372\u001b[0m         \u001b[0;32mtry\u001b[0m\u001b[0;34m:\u001b[0m\u001b[0;34m\u001b[0m\u001b[0;34m\u001b[0m\u001b[0m\n\u001b[0;32m--> 373\u001b[0;31m             \u001b[0mcontext\u001b[0m\u001b[0;34m,\u001b[0m \u001b[0msummary\u001b[0m \u001b[0;34m=\u001b[0m \u001b[0mself\u001b[0m\u001b[0;34m.\u001b[0m\u001b[0mlikelihoodSummary\u001b[0m\u001b[0;34m(\u001b[0m\u001b[0mContext\u001b[0m\u001b[0;34m.\u001b[0m\u001b[0mEMPTY\u001b[0m\u001b[0;34m,\u001b[0m \u001b[0;34m[\u001b[0m\u001b[0;34m]\u001b[0m\u001b[0;34m,\u001b[0m \u001b[0mrequest\u001b[0m\u001b[0;34m,\u001b[0m \u001b[0mexpression\u001b[0m\u001b[0;34m,\u001b[0m \u001b[0msilent\u001b[0m\u001b[0;34m=\u001b[0m\u001b[0msilent\u001b[0m\u001b[0;34m)\u001b[0m\u001b[0;34m\u001b[0m\u001b[0;34m\u001b[0m\u001b[0m\n\u001b[0m\u001b[1;32m    374\u001b[0m         \u001b[0;32mexcept\u001b[0m \u001b[0mGrammarFailure\u001b[0m \u001b[0;32mas\u001b[0m \u001b[0me\u001b[0m\u001b[0;34m:\u001b[0m\u001b[0;34m\u001b[0m\u001b[0;34m\u001b[0m\u001b[0m\n\u001b[1;32m    375\u001b[0m             failureExport = 'failures/grammarFailure%s.pickle' % (\n",
      "\u001b[0;32m/data1/code/python/ec/dreamcoder/grammar.py\u001b[0m in \u001b[0;36mlikelihoodSummary\u001b[0;34m(self, context, environment, request, expression, silent)\u001b[0m\n\u001b[1;32m    266\u001b[0m                 \u001b[0meprint\u001b[0m\u001b[0;34m(\u001b[0m\u001b[0;34m\"xs\"\u001b[0m\u001b[0;34m,\u001b[0m \u001b[0mxs\u001b[0m\u001b[0;34m)\u001b[0m\u001b[0;34m\u001b[0m\u001b[0;34m\u001b[0m\u001b[0m\n\u001b[1;32m    267\u001b[0m                 \u001b[0meprint\u001b[0m\u001b[0;34m(\u001b[0m\u001b[0;34m\"environment\"\u001b[0m\u001b[0;34m,\u001b[0m \u001b[0menvironment\u001b[0m\u001b[0;34m)\u001b[0m\u001b[0;34m\u001b[0m\u001b[0;34m\u001b[0m\u001b[0m\n\u001b[0;32m--> 268\u001b[0;31m                 \u001b[0;32massert\u001b[0m \u001b[0;32mFalse\u001b[0m\u001b[0;34m\u001b[0m\u001b[0;34m\u001b[0m\u001b[0m\n\u001b[0m\u001b[1;32m    269\u001b[0m             \u001b[0;32mreturn\u001b[0m \u001b[0mcontext\u001b[0m\u001b[0;34m,\u001b[0m \u001b[0;32mNone\u001b[0m\u001b[0;34m\u001b[0m\u001b[0;34m\u001b[0m\u001b[0m\n\u001b[1;32m    270\u001b[0m \u001b[0;34m\u001b[0m\u001b[0m\n",
      "\u001b[0;31mAssertionError\u001b[0m: "
     ]
    }
   ],
   "source": [
    "g0 = Grammar.uniform(primitives, continuationType=tsketch)\n",
    "g0.logLikelihood(arrow(tsketch, tsketch), Tasks[0].original)"
   ]
  },
  {
   "cell_type": "code",
   "execution_count": 192,
   "metadata": {},
   "outputs": [
    {
     "data": {
      "text/plain": [
       "-20.081103775592922"
      ]
     },
     "execution_count": 192,
     "metadata": {},
     "output_type": "execute_result"
    }
   ],
   "source": [
    "g0.logLikelihood(arrow(tsketch, tsketch), p)"
   ]
  },
  {
   "cell_type": "code",
   "execution_count": 62,
   "metadata": {},
   "outputs": [
    {
     "data": {
      "text/plain": [
       "dreamcoder.program.Abstraction"
      ]
     },
     "execution_count": 62,
     "metadata": {},
     "output_type": "execute_result"
    }
   ],
   "source": [
    "type(g0.sample(arrow(tsketch, tsketch)))"
   ]
  },
  {
   "cell_type": "code",
   "execution_count": 204,
   "metadata": {},
   "outputs": [
    {
     "name": "stdout",
     "output_type": "stream",
     "text": [
      "15\n"
     ]
    }
   ],
   "source": [
    "## ====== SIMPLE SHAPING TASKS\n",
    "programs = []\n",
    "\n",
    "## ---- make a library of vertical things\n",
    "def grid(N):\n",
    "    G = f\"(loop {N} (lambda (i k) (LL (r 1 k))) k)\"\n",
    "    return G\n",
    "\n",
    "def progFromHumanString(s):\n",
    "    \"\"\"output a program given a human readible string\"\"\"\n",
    "    return Program.parseHumanReadable(s)\n",
    "\n",
    "# --- add grids (1 to 4)\n",
    "programs = [progFromHumanString(f\"(lambda (k) (embed (lambda (k) {grid(n+1)}) (k)))\") for n in range(4)]\n",
    "# --- as sanity check, add long veritcal line (should be identical to grid1, even though program much shoerter - CHECK)\n",
    "programs.append(progFromHumanString(\"(lambda (k) (LL k))\"))\n",
    "\n",
    "# --- add all the vertical skewer types\n",
    "def vertSampler2():\n",
    "    V = lambda p1, p2, p3: f\"lambda (k) (d 1 ({p1} (d 1 ({p2} (d 1 ({p3} k))))))\"\n",
    "\n",
    "    v1 = V(\"L\", \"L\", \"L\")\n",
    "    v2 = V(\"C\", \"C\", \"C\")\n",
    "    import random \n",
    "    prand = lambda: random.sample([\"L\", \"C\", \"E\"], 1)[0]\n",
    "    v3 = lambda: V(prand(), prand(), prand())\n",
    "    v = lambda: random.sample([v1, v2, v3()], 1)[0]\n",
    "    return v\n",
    "\n",
    "v = vertSampler2()\n",
    "programs.extend([progFromHumanString(f\"({v()})\") for _ in range(10)])\n",
    "\n",
    "print(len(programs))\n"
   ]
  },
  {
   "cell_type": "code",
   "execution_count": 193,
   "metadata": {},
   "outputs": [
    {
     "name": "stdout",
     "output_type": "stream",
     "text": [
      "[((-2.2, 2), ''), ((-2.2, 2), 'LL')]\n"
     ]
    },
    {
     "data": {
      "image/png": "[encoded data removed]",
      "text/plain": [
       "<Figure size 216x216 with 1 Axes>"
      ]
     },
     "metadata": {
      "needs_background": "light"
     },
     "output_type": "display_data"
    }
   ],
   "source": [
    "renderPlan(executeSketch(programs[4])[0])"
   ]
  },
  {
   "cell_type": "code",
   "execution_count": 194,
   "metadata": {},
   "outputs": [
    {
     "data": {
      "text/plain": [
       "[(lambda (embed (lambda (loop 1 (lambda (lambda (LL (r 1 $0)))) $0)) $0)),\n",
       " (lambda (embed (lambda (loop 2 (lambda (lambda (LL (r 1 $0)))) $0)) $0)),\n",
       " (lambda (embed (lambda (loop 3 (lambda (lambda (LL (r 1 $0)))) $0)) $0)),\n",
       " (lambda (embed (lambda (loop 4 (lambda (lambda (LL (r 1 $0)))) $0)) $0)),\n",
       " (lambda (LL $0)),\n",
       " (lambda (d 1 (C (d 1 (C (d 1 (C $0))))))),\n",
       " (lambda (d 1 (C (d 1 (C (d 1 (C $0))))))),\n",
       " (lambda (d 1 (L (d 1 (L (d 1 (L $0))))))),\n",
       " (lambda (d 1 (L (d 1 (E (d 1 (C $0))))))),\n",
       " (lambda (d 1 (C (d 1 (C (d 1 (C $0))))))),\n",
       " (lambda (d 1 (C (d 1 (C (d 1 (C $0))))))),\n",
       " (lambda (d 1 (L (d 1 (L (d 1 (L $0))))))),\n",
       " (lambda (d 1 (C (d 1 (C (d 1 (C $0))))))),\n",
       " (lambda (d 1 (E (d 1 (L (d 1 (L $0))))))),\n",
       " (lambda (d 1 (C (d 1 (C (d 1 (C $0)))))))]"
      ]
     },
     "execution_count": 194,
     "metadata": {},
     "output_type": "execute_result"
    }
   ],
   "source": [
    "programs"
   ]
  },
  {
   "cell_type": "code",
   "execution_count": 200,
   "metadata": {},
   "outputs": [
    {
     "name": "stdout",
     "output_type": "stream",
     "text": [
      "-19.270173559376595\n",
      "-19.270173559376595\n",
      "-19.270173559376595\n"
     ]
    },
    {
     "name": "stderr",
     "output_type": "stream",
     "text": [
      "4 Not in candidates\n",
      "Candidates is {1: (0.0, int, Context(next = 0, {})), 2: (0.0, int, Context(next = 0, {})), 3: (0.0, int, Context(next = 0, {}))}\n",
      "request is int\n",
      "xs []\n",
      "environment [sketch, sketch]\n"
     ]
    },
    {
     "name": "stdout",
     "output_type": "stream",
     "text": [
      "-4.795790545596741\n",
      "-20.081103775592922\n",
      "-20.081103775592922\n",
      "-20.081103775592922\n",
      "-20.081103775592922\n",
      "-20.081103775592922\n",
      "-20.081103775592922\n",
      "-20.081103775592922\n",
      "-20.081103775592922\n",
      "-20.081103775592922\n",
      "-20.081103775592922\n"
     ]
    }
   ],
   "source": [
    "for p in programs:\n",
    "    try:\n",
    "        print(g0.logLikelihood(arrow(tsketch, tsketch), p))\n",
    "    except:\n",
    "        pass"
   ]
  },
  {
   "cell_type": "code",
   "execution_count": 140,
   "metadata": {},
   "outputs": [
    {
     "name": "stdout",
     "output_type": "stream",
     "text": [
      "[((-2.2, 2), ''), ((-2.2, 2), 'LL'), ((-1.1, 2), ''), ((-2.2, 2), '')]\n"
     ]
    },
    {
     "data": {
      "image/png": "[encoded data removed]",
      "text/plain": [
       "<Figure size 216x216 with 1 Axes>"
      ]
     },
     "metadata": {
      "needs_background": "light"
     },
     "output_type": "display_data"
    }
   ],
   "source": [
    "from dreamcoder.domains.sketch.sketchPrimitives import *\n",
    "renderProgram(programs[0])"
   ]
  },
  {
   "cell_type": "code",
   "execution_count": 170,
   "metadata": {},
   "outputs": [
    {
     "ename": "TypeError",
     "evalue": "'function' object is not subscriptable",
     "output_type": "error",
     "traceback": [
      "\u001b[0;31m---------------------------------------------------------------------------\u001b[0m",
      "\u001b[0;31mTypeError\u001b[0m                                 Traceback (most recent call last)",
      "\u001b[0;32m<ipython-input-170-91c1948da2d8>\u001b[0m in \u001b[0;36m<module>\u001b[0;34m\u001b[0m\n\u001b[1;32m      1\u001b[0m \u001b[0ms\u001b[0m \u001b[0;34m=\u001b[0m \u001b[0;34mf\"(lambda (k) ({v()}))\"\u001b[0m\u001b[0;34m\u001b[0m\u001b[0;34m\u001b[0m\u001b[0m\n\u001b[1;32m      2\u001b[0m \u001b[0mp\u001b[0m \u001b[0;34m=\u001b[0m \u001b[0;32mlambda\u001b[0m\u001b[0;34m:\u001b[0m \u001b[0mProgram\u001b[0m\u001b[0;34m.\u001b[0m\u001b[0mparseHumanReadable\u001b[0m\u001b[0;34m(\u001b[0m\u001b[0ms\u001b[0m\u001b[0;34m)\u001b[0m\u001b[0;34m\u001b[0m\u001b[0;34m\u001b[0m\u001b[0m\n\u001b[0;32m----> 3\u001b[0;31m \u001b[0mrenderProgram\u001b[0m\u001b[0;34m(\u001b[0m\u001b[0mProgram\u001b[0m\u001b[0;34m.\u001b[0m\u001b[0mparseHumanReadable\u001b[0m\u001b[0;34m(\u001b[0m\u001b[0ms\u001b[0m\u001b[0;34m)\u001b[0m\u001b[0;34m)\u001b[0m\u001b[0;34m\u001b[0m\u001b[0;34m\u001b[0m\u001b[0m\n\u001b[0m",
      "\u001b[0;32m/data1/code/python/ec/dreamcoder/domains/sketch/sketchPrimitives.py\u001b[0m in \u001b[0;36mrenderProgram\u001b[0;34m(p)\u001b[0m\n\u001b[1;32m    264\u001b[0m \u001b[0;32mdef\u001b[0m \u001b[0mrenderProgram\u001b[0m\u001b[0;34m(\u001b[0m\u001b[0mp\u001b[0m\u001b[0;34m)\u001b[0m\u001b[0;34m:\u001b[0m\u001b[0;34m\u001b[0m\u001b[0;34m\u001b[0m\u001b[0m\n\u001b[1;32m    265\u001b[0m     \u001b[0;34m\"\"\" takes program objcet and renders\"\"\"\u001b[0m\u001b[0;34m\u001b[0m\u001b[0;34m\u001b[0m\u001b[0m\n\u001b[0;32m--> 266\u001b[0;31m     \u001b[0mrenderPlan\u001b[0m\u001b[0;34m(\u001b[0m\u001b[0mexecuteSketch\u001b[0m\u001b[0;34m(\u001b[0m\u001b[0mp\u001b[0m\u001b[0;34m)\u001b[0m\u001b[0;34m[\u001b[0m\u001b[0;36m0\u001b[0m\u001b[0;34m]\u001b[0m\u001b[0;34m)\u001b[0m\u001b[0;34m\u001b[0m\u001b[0;34m\u001b[0m\u001b[0m\n\u001b[0m\u001b[1;32m    267\u001b[0m \u001b[0;34m\u001b[0m\u001b[0m\n\u001b[1;32m    268\u001b[0m \u001b[0;34m\u001b[0m\u001b[0m\n",
      "\u001b[0;31mTypeError\u001b[0m: 'function' object is not subscriptable"
     ]
    }
   ],
   "source": [
    "s = f\"(lambda (k) ({v()}))\"\n",
    "p = lambda: Program.parseHumanReadable(s)\n",
    "renderProgram(Program.parseHumanReadable(s))"
   ]
  },
  {
   "cell_type": "code",
   "execution_count": 167,
   "metadata": {},
   "outputs": [
    {
     "data": {
      "text/plain": [
       "<function dreamcoder.domains.sketch.sketchPrimitives._embed.<locals>.f.<locals>.g(hand)>"
      ]
     },
     "execution_count": 167,
     "metadata": {},
     "output_type": "execute_result"
    }
   ],
   "source": [
    "p = Program.parseHumanReadable(s)\n",
    "executeSketch(p)"
   ]
  },
  {
   "cell_type": "code",
   "execution_count": 141,
   "metadata": {},
   "outputs": [
    {
     "data": {
      "text/plain": [
       "'embed (lambda (k) (d 1 (L (d 1 (L (d 1 (L k)))))))'"
      ]
     },
     "execution_count": 141,
     "metadata": {},
     "output_type": "execute_result"
    }
   ],
   "source": [
    "programs[9]"
   ]
  },
  {
   "cell_type": "code",
   "execution_count": 126,
   "metadata": {},
   "outputs": [
    {
     "data": {
      "text/plain": [
       "(handpos=(-2, 2), [((-2, 2), 'LL')])"
      ]
     },
     "execution_count": 126,
     "metadata": {},
     "output_type": "execute_result"
    }
   ],
   "source": [
    "executeSketch(programs[5])"
   ]
  },
  {
   "cell_type": "code",
   "execution_count": 61,
   "metadata": {},
   "outputs": [
    {
     "data": {
      "text/plain": [
       "dreamcoder.program.Abstraction"
      ]
     },
     "execution_count": 61,
     "metadata": {},
     "output_type": "execute_result"
    }
   ],
   "source": [
    "type(Tasks[0].original)"
   ]
  }
 ],
 "metadata": {
  "kernelspec": {
   "display_name": "Python 3",
   "language": "python",
   "name": "python3"
  },
  "language_info": {
   "codemirror_mode": {
    "name": "ipython",
    "version": 3
   },
   "file_extension": ".py",
   "mimetype": "text/x-python",
   "name": "python",
   "nbconvert_exporter": "python",
   "pygments_lexer": "ipython3",
   "version": "3.7.4"
  }
 },
 "nbformat": 4,
 "nbformat_minor": 2
}
