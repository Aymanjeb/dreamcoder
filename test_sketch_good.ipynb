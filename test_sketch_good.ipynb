{
 "cells": [
  {
   "cell_type": "code",
   "execution_count": 65,
   "metadata": {},
   "outputs": [
    {
     "name": "stdout",
     "output_type": "stream",
     "text": [
      "The autoreload extension is already loaded. To reload it, use:\n",
      "  %reload_ext autoreload\n"
     ]
    }
   ],
   "source": [
    "%load_ext autoreload\n",
    "%autoreload 2\n",
    "\n"
   ]
  },
  {
   "cell_type": "code",
   "execution_count": 66,
   "metadata": {},
   "outputs": [],
   "source": [
    "from dreamcoder.domains.sketch.sketchPrimitives import *\n",
    "from dreamcoder.task import Program\n",
    "from dreamcoder.domains.sketch.main import dreamOfSketches\n"
   ]
  },
  {
   "cell_type": "code",
   "execution_count": 3,
   "metadata": {},
   "outputs": [
    {
     "name": "stdout",
     "output_type": "stream",
     "text": [
      "[((-3, 3), ''), ((-2, 3), ''), ((-1, 3), ''), ((0, 3), ''), ((0, 3), 'C'), ((0, 3), ''), ((0, 3), 'L'), ((0, 2), ''), ((0, 2), 'L'), ((0, 0), ''), ((0, 0), 'L'), ((0, -3), ''), ((0, -3), 'L')]\n",
      "[((0, 3), 'C'), ((0, 3), 'L'), ((0, 2), 'L'), ((0, 0), 'L'), ((0, -3), 'L')]\n"
     ]
    }
   ],
   "source": [
    "## GOOD - write way to render this.\n",
    "## hand inputing a program\n",
    "from dreamcoder.domains.sketch import sketchPrimitives as T\n",
    "\n",
    "# p = Program.parse(\"(lambda (L (l 2 (C $0))))\")\n",
    "# p = Program.parse(\"(lambda (C (u 4 (loop 5 (lambda (lambda (d 3 (u $1 (C $0))))) $0))))\")\n",
    "# p = Program.parse(\"(lambda (C (loop 4 (lambda (lambda (d 3 (r 2 (C $0))))) (loop 2 (lambda (lambda (r 2 (L $0))))))))\")\n",
    "# p = Program.parse(\"(lambda (loop 3 (lambda (lambda (u 2 $0))) $0))\")\n",
    "# p = Program.parse(\"(lambda (loop 3 (lambda (lambda (u $1 $0)) (u 5 $0))))\")\n",
    "\n",
    "# (u 4 (r 2 x))\n",
    "p = Program.parseHumanReadable(\"(lambda (k) (loop 3 (lambda (i k) (r 1 k)) (C (loop 4 (lambda (i k) (d i (L k))) k))))\")\n",
    "# p = Program.parseHumanReadable(\"(lambda (x) (embed (lambda (x) (r 2 (u 2 (L x)))) (C (l 2 (LL x)))))\")\n",
    "sketch, trace = p.evaluate([])(T._empty_sketch)(SketchState(hand=(-3,3), history=[]))\n",
    "print(sketch.history)\n",
    "print(trace)"
   ]
  },
  {
   "cell_type": "code",
   "execution_count": 4,
   "metadata": {},
   "outputs": [
    {
     "name": "stdout",
     "output_type": "stream",
     "text": [
      "[((-3, 3), ''), ((-5, 3), ''), ((-7, 3), ''), ((-7, 3), 'C'), ((-9, 3), '')]\n",
      "[((-7, 3), 'C')]\n"
     ]
    }
   ],
   "source": [
    "p = Program.parseHumanReadable(\"(lambda (k) (l 2 (l 2 ( C (l 2 k) ))))\")\n",
    "# p = Program.parseHumanReadable(\"(lambda (x) (embed (lambda (x) (r 2 (u 2 (L x)))) (C (l 2 (LL x)))))\")\n",
    "sketch, trace = p.evaluate([])(T._empty_sketch)(SketchState(hand=(-3,3), history=[]))\n",
    "print(sketch.history)\n",
    "print(trace)\n",
    "renderPlan(sketch)"
   ]
  },
  {
   "cell_type": "code",
   "execution_count": 7,
   "metadata": {
    "scrolled": true
   },
   "outputs": [
    {
     "data": {
      "image/png": "[encoded data removed]",
      "text/plain": [
       "<Figure size 216x216 with 1 Axes>"
      ]
     },
     "metadata": {
      "needs_background": "light"
     },
     "output_type": "display_data"
    }
   ],
   "source": [
    "# -- function to render program\n",
    "from dreamcoder.domains.sketch.sketchPrimitives import renderPlan\n",
    "renderPlan(sketch)\n"
   ]
  },
  {
   "cell_type": "code",
   "execution_count": 67,
   "metadata": {},
   "outputs": [
    {
     "name": "stdout",
     "output_type": "stream",
     "text": [
      "[((-2, 2), ''), ((-2, 2), 'LL'), ((-1, 2), ''), ((-1, 2), 'LL'), ((0, 2), ''), ((0, 2), 'LL'), ((1, 2), ''), ((1, 2), 'LL'), ((2, 2), ''), ((-2, 2), ''), ((-2, 1), ''), ((-2, 1), 'L'), ((-2, 0), ''), ((-2, 0), 'C'), ((-2, 2), ''), ((-1, 2), ''), ((-1, 1), ''), ((-1, 1), 'L'), ((-1, 0), ''), ((-1, 0), 'C'), ((-1, 2), ''), ((0, 2), ''), ((0, 1), ''), ((0, 1), 'L'), ((0, 0), ''), ((0, 0), 'C'), ((0, 2), ''), ((1, 2), ''), ((1, 1), ''), ((1, 1), 'L'), ((1, 0), ''), ((1, 0), 'C'), ((1, 2), ''), ((2, 2), '')]\n",
      "---\n",
      "[((-2, 2), 'LL'), ((-1, 2), 'LL'), ((0, 2), 'LL'), ((1, 2), 'LL'), ((-2, 1), 'L'), ((-2, 0), 'C'), ((-1, 1), 'L'), ((-1, 0), 'C'), ((0, 1), 'L'), ((0, 0), 'C'), ((1, 1), 'L'), ((1, 0), 'C')]\n"
     ]
    },
    {
     "data": {
      "image/png": "[encoded data removed]",
      "text/plain": [
       "<Figure size 216x216 with 1 Axes>"
      ]
     },
     "metadata": {
      "needs_background": "light"
     },
     "output_type": "display_data"
    }
   ],
   "source": [
    "## making supervised tasks\n",
    "starthand = (-2,2)\n",
    "\n",
    "# p = Program.parseHumanReadable(\"(lambda (k) (loop 3 (lambda (i k) (r 1 k)) (C (loop 4 (lambda (i k) (d i (L k))) k))))\")\n",
    "# p = Program.parseHumanReadable(\"(lambda (k) (loop 3 (lambda (i k) (r 1 (C k))) k))\")\n",
    "\n",
    "grid = \"(loop 4 (lambda (i k) (LL (r 1 k))) k)\"\n",
    "\n",
    "grid_embed = f\"embed (lambda (k) {grid})\"\n",
    "# vert1 = \"embed (lambda (k) (r 2 k))\"\n",
    "vert1 = \"embed (lambda (k) (d 1 (C (d 1 (L k)))))\"\n",
    "\n",
    "vertG = lambda p1, p2: f\"embed (lambda (k) (d 1 ({p1} (d 1 ({p2} k)))))\"\n",
    "\n",
    "# p = Program.parseHumanReadable(f\"(lambda (k) {grid})\")\n",
    "# p = Program.parseHumanReadable(f\"(lambda (k) ({grid_embed} (d 1 (C (d 1 (C k))))))\")\n",
    "# p = Program.parseHumanReadable(f\"(lambda (k) (embed (lambda (k) {grid}) (d 1 (C (d 1 (C k))))))\")\n",
    "# p = Program.parseHumanReadable(f\"(lambda (k) (embed (lambda (k) {grid}) ({vert1} (r 1 ({vert1} ((r 1 ({vert1} ((r 1 ({vert1} (k))))))))))))\")\n",
    "p = Program.parseHumanReadable(f\"(lambda (k) (embed (lambda (k) {grid}) (loop 4 (lambda (i k) ({vert1} (r 1 k))) k)))\")\n",
    "p = Program.parseHumanReadable(f\"(lambda (k) (embed (lambda (k) {grid}) (loop 4 (lambda (i k) ({vertG('L', 'C')} (r 1 k))) k)))\")\n",
    "\n",
    "# p = Program.parseHumanReadable(\"(lambda (k) (loop 3 (lambda (i k) (LL (k))) k))\")\n",
    "\n",
    "\n",
    "sketch, trace = p.evaluate([])(T._empty_sketch)(SketchState(hand=starthand, history=[]))\n",
    "print(sketch.history)\n",
    "print(\"---\")\n",
    "print(trace)\n",
    "\n",
    "renderPlan(sketch)\n",
    "\n",
    "\n"
   ]
  },
  {
   "cell_type": "code",
   "execution_count": 58,
   "metadata": {},
   "outputs": [
    {
     "name": "stdout",
     "output_type": "stream",
     "text": [
      "0.0\n"
     ]
    }
   ],
   "source": [
    "## likelihood\n",
    "\n",
    "\n",
    "p = Program.parseHumanReadable(f\"(lambda (k) (embed (lambda (k) {grid}) (loop 4 (lambda (i k) ({vertG('L', 'C')} (r 1 k))) k)))\")\n",
    "sketch, trace = p.evaluate([])(T._empty_sketch)(SketchState(hand=starthand, history=[]))\n",
    "\n",
    "def simpleTrace(prog):\n",
    "    \"\"\" gets trace and simplifies\"\"\"\n",
    "    trace = p.evaluate([])(T._empty_sketch)(SketchState(hand=starthand, history=[]))[1]\n",
    "    # any LL convert to multiple \n",
    "    # TODO: didnt do anything. should convert LL to little lines. Before do that should figure out whether to \n",
    "    # allow rotation of horizontal to vert line...\n",
    "        \n",
    "    \n",
    "def loss(prog1, prog2):\n",
    "    \"\"\"compares prog1 and prog2\"\"\"\n",
    "    trace1 = prog1.evaluate([])(T._empty_sketch)(SketchState(hand=starthand, history=[]))[1]\n",
    "    trace2 = prog2.evaluate([])(T._empty_sketch)(SketchState(hand=starthand, history=[]))[1]\n",
    "    \n",
    "    if set(trace1)==set(trace2):\n",
    "        return 0.0\n",
    "    else:\n",
    "        return NEGATIVEINFINITY\n",
    "    \n",
    "    \n",
    "    \n",
    "    "
   ]
  },
  {
   "cell_type": "code",
   "execution_count": 64,
   "metadata": {},
   "outputs": [
    {
     "data": {
      "text/plain": [
       "[((-2, 2), 'LL'),\n",
       " ((-1, 2), 'LL'),\n",
       " ((0, 2), 'LL'),\n",
       " ((1, 2), 'LL'),\n",
       " ((-2, 1), 'L'),\n",
       " ((-2, 0), 'C'),\n",
       " ((-1, 1), 'L'),\n",
       " ((-1, 0), 'C'),\n",
       " ((0, 1), 'L'),\n",
       " ((0, 0), 'C'),\n",
       " ((1, 1), 'L'),\n",
       " ((1, 0), 'C')]"
      ]
     },
     "execution_count": 64,
     "metadata": {},
     "output_type": "execute_result"
    }
   ],
   "source": [
    "executeSketch(p)[1]"
   ]
  },
  {
   "cell_type": "code",
   "execution_count": 55,
   "metadata": {},
   "outputs": [
    {
     "data": {
      "text/plain": [
       "{((-2, 0), 'C'),\n",
       " ((-2, 1), 'L'),\n",
       " ((-2, 2), 'LL'),\n",
       " ((-1, 0), 'C'),\n",
       " ((-1, 1), 'L'),\n",
       " ((-1, 2), 'LL'),\n",
       " ((0, 0), 'C'),\n",
       " ((0, 1), 'L'),\n",
       " ((0, 2), 'LL'),\n",
       " ((1, 0), 'C'),\n",
       " ((1, 1), 'L'),\n",
       " ((1, 2), 'LL')}"
      ]
     },
     "execution_count": 55,
     "metadata": {},
     "output_type": "execute_result"
    }
   ],
   "source": [
    "set(trace)"
   ]
  },
  {
   "cell_type": "code",
   "execution_count": 118,
   "metadata": {
    "scrolled": false
   },
   "outputs": [
    {
     "name": "stdout",
     "output_type": "stream",
     "text": [
      "(lambda (r 1 $0))\n",
      "(lambda (r 2 (loop 4 (lambda (lambda (d 4 $2))) (d 4 (r 3 (l 1 (C (l 1 (C (L (d 1 (C (r 2 (d 2 $0))))))))))))))\n",
      "(lambda (L $0))\n",
      "(lambda (l 2 $0))\n",
      "(lambda (L (u 4 (u 4 (l 1 (l 2 (loop 3 (lambda (lambda (u $1 (loop 4 (lambda (lambda (r 3 $2))) (d $1 (loop 3 (lambda (lambda (r $3 $4))) (d 2 (r 3 (l 1 (L $0)))))))))) (r 3 (L (C $0))))))))))\n",
      "(lambda (d 2 $0))\n",
      "(lambda (loop 1 (lambda (lambda (u 2 (C (L (r 4 (C (loop 3 (lambda (lambda (L (l 3 (L (C (C (r 3 (C $0))))))))) (r 4 (u 1 (d $1 (L (loop $1 (lambda (lambda (u 3 (C $4)))) (loop 1 (lambda (lambda (l 4 $0))) (u 2 $2))))))))))))))) (r 3 (l 2 $0))))\n",
      "(lambda (C $0))\n",
      "(lambda $0)\n",
      "(lambda (d 1 (u 4 (C (u 2 (C (C (loop 4 (lambda (lambda (r $1 (C (u 3 (loop 4 (lambda (lambda (l $1 (d $1 (loop 3 (lambda (lambda $4)) $0))))) (r 3 (d 3 (l 2 $2))))))))) $0))))))))\n",
      "(lambda (loop 2 (lambda (lambda (d 2 (C (d 3 (l 2 (d 3 $0))))))) (C (L (C (r 3 (d 1 (loop 3 (lambda (lambda (r 1 $2))) (C (d 3 (loop 1 (lambda (lambda (d $1 (loop 1 (lambda (lambda (u 2 (l 4 $2)))) (C (l 3 $2)))))) (L (C (C $0))))))))))))))\n",
      "(lambda $0)\n",
      "(lambda $0)\n",
      "(lambda (loop 2 (lambda (lambda (loop 4 (lambda (lambda (L (d 4 (d 2 (u 2 (u 3 $0))))))) (loop 3 (lambda (lambda (d 1 $4))) (L (L (d 4 $0))))))) (l 2 (r 1 (r 2 (u 3 (u 1 (loop 1 (lambda (lambda (u 1 (loop $1 (lambda (lambda (u 4 (C (loop 2 (lambda (lambda (d 4 (d 3 $4)))) (u 1 (r 3 $4))))))) (r 3 (r 1 (L (C (r $1 $0))))))))) (loop 2 (lambda (lambda $0)) $0)))))))))\n",
      "(lambda (d 1 (r 2 (l 4 (l 2 $0)))))\n",
      "(lambda (l 2 (d 1 (l 4 (loop 1 (lambda (lambda $2)) (C (d 3 (r 4 (C (loop 4 (lambda (lambda (C (u $1 (r 1 (r 2 (C $2))))))) (d 1 (d 3 (l 4 (d 1 (d 2 $0)))))))))))))))\n",
      "(lambda (u 4 (l 2 (loop 1 (lambda (lambda (r $1 (loop 3 (lambda (lambda (L (l 4 (u $3 (L (loop 1 (lambda (lambda (l 1 (C (r 3 (L $2)))))) (C (u 2 (u 3 $4)))))))))) (loop 2 (lambda (lambda (loop 1 (lambda (lambda (C (l 2 (L (loop 1 (lambda (lambda (l 4 (C (u 4 $6))))) (C (loop 1 (lambda (lambda (C $0))) (l 2 $4))))))))) (d $3 (u 2 (L (l 2 (C $0)))))))) (l 3 (u 4 (L (C (C (u $1 (C (loop 1 (lambda (lambda $0)) $0))))))))))))) (u 1 (r 2 (C (r 3 (d 4 (L (L (L (l 4 (u 3 (r 4 $0)))))))))))))))\n",
      "(lambda $0)\n",
      "(lambda (d 1 (d 1 (l 4 (L (loop 2 (lambda (lambda $2)) (r 3 (r 3 (loop 4 (lambda (lambda (loop 3 (lambda (lambda (d 4 (C (r 2 (u 1 (u 4 $4))))))) (loop 1 (lambda (lambda (d $3 (C (L $2))))) (l 3 (l 3 (L (d 3 $0)))))))) $0)))))))))\n",
      "(lambda (L (r 4 (r 3 (loop 4 (lambda (lambda (r 3 (r 3 (d 1 (d 4 $2)))))) (C (d 3 (loop 2 (lambda (lambda (L (L (L (L (d $1 (loop 1 (lambda (lambda (d 1 $0))) (r 4 $2))))))))) (d 4 (d 3 (d 3 (loop 2 (lambda (lambda (l 2 (l 4 (u $1 $0))))) (L (r 3 (L $0)))))))))))))))\n",
      "(lambda (L (l 4 (u 4 $0))))\n",
      "(lambda (u 3 (d 2 (u 4 (r 4 (L (l 3 (r 4 (u 3 (u 1 (d 2 (r 2 (l 1 (l 1 $0))))))))))))))\n",
      "(lambda (u 4 (C (r 1 (d 1 (d 2 (l 2 (L (L (r 4 (r 1 (r 1 (L (C (u 4 $0)))))))))))))))\n",
      "(lambda (d 4 (r 1 $0)))\n",
      "(lambda (l 3 (C (loop 3 (lambda (lambda (l 2 (l $1 (C (l 2 (l 3 (C (C (C (l $1 (L (u $1 $2))))))))))))) (L (d 2 (L (d 4 (r 1 (l 3 (loop 1 (lambda (lambda (u $1 (L (C (L $2)))))) (loop 2 (lambda (lambda (u 2 (C (l 3 $0))))) (r 1 (u 2 (C $0)))))))))))))))\n",
      "(lambda (L (r 2 (l 4 (l 4 (d 1 (r 2 $0)))))))\n",
      "(lambda (loop 2 (lambda (lambda (r 2 $2))) (L (C (u 3 (C (L (L (d 4 (L (l 1 (C (r 1 $0)))))))))))))\n",
      "(lambda (l 2 (r 3 (r 2 (L (loop 1 (lambda (lambda (r 2 $2))) (loop 2 (lambda (lambda (L (l 1 (loop 3 (lambda (lambda (l $3 (u $3 (l 1 $4))))) $2))))) (loop 3 (lambda (lambda (L (d 4 (r $1 (r 2 (L (L (l 2 $2))))))))) (r 1 (L (loop 2 (lambda (lambda (u 1 (d 2 (r 4 (d $1 $2)))))) $0)))))))))))\n",
      "(lambda (l 3 (C (C (u 1 (d 4 (C (loop 3 (lambda (lambda (r 2 (d 3 (l 4 (C (L $2))))))) (r 4 (L (loop 2 (lambda (lambda (C (l 3 (C $0))))) $0)))))))))))\n",
      "(lambda (d 1 (l 3 (C (C (l 3 (l 3 (C (u 3 (d 1 (loop 1 (lambda (lambda (u $1 (loop 2 (lambda (lambda (l 3 (C $0)))) (u 1 $2))))) (l 3 (d 3 (C (C $0)))))))))))))))\n",
      "(lambda (d 3 (C $0)))\n",
      "(lambda (r 2 (l 2 $0)))\n",
      "(lambda (u 1 (r 3 (l 2 (C (u 4 (u 2 (r 2 (L $0)))))))))\n",
      "(lambda (l 2 (loop 3 (lambda (lambda (r 3 (C $2)))) (C (L (loop 2 (lambda (lambda (C (l 1 (loop 1 (lambda (lambda (l 4 (C (l $1 (L (l 2 (L $2)))))))) $2))))) (d 3 $0)))))))\n",
      "(lambda $0)\n",
      "(lambda $0)\n",
      "(lambda (C (L (u 4 (d 4 $0)))))\n",
      "(lambda (loop 4 (lambda (lambda (loop 3 (lambda (lambda (d $1 (C (d 1 (u 3 (loop 1 (lambda (lambda $6)) $0))))))) (C (C (l 1 (r 4 (r $1 (u $1 (u 3 (L (C $0)))))))))))) (r 2 (L (u 4 (loop 3 (lambda (lambda (r 4 (loop 2 (lambda (lambda (L (L (C (u $3 (L (d 3 (r 4 $4))))))))) (l 4 $2))))) (l 2 (loop 1 (lambda (lambda (l 4 (loop 4 (lambda (lambda (l 3 $0))) (r 1 (l 1 $2)))))) $0))))))))\n",
      "(lambda $0)\n",
      "(lambda (loop 3 (lambda (lambda (loop 4 (lambda (lambda (l 3 (d $1 $2)))) $0))) (L $0)))\n",
      "(lambda (l 4 (l 3 $0)))\n",
      "(lambda (L (L (r 2 (l 3 (C (l 4 (loop 4 (lambda (lambda (u 3 (loop 4 (lambda (lambda (l 2 (l 1 (d 2 $0))))) (u 2 (loop 1 (lambda (lambda $0)) (L (loop 4 (lambda (lambda (L $4))) (r 1 $0))))))))) (L (r 1 (u 3 (loop 3 (lambda (lambda (r 4 (d $1 (r 2 $2))))) (l 3 $0)))))))))))))\n",
      "(lambda (C (u 4 (u 1 (r 2 $0)))))\n",
      "(lambda (l 4 (l 2 (r 1 (r 4 $0)))))\n",
      "(lambda (C $0))\n",
      "(lambda (C (l 3 (u 4 (L (C (d 3 (d 2 (L (L (l 2 (r 1 (u 3 (d 2 $0))))))))))))))\n",
      "(lambda (L (d 1 (loop 2 (lambda (lambda (u $1 (l $1 (C (r 2 $2)))))) (C (l 3 (d 3 (u 1 (l 4 (loop 2 (lambda (lambda (l $1 (loop 3 (lambda (lambda (r 4 $0))) (r $1 (r 4 (C $0))))))) (C (C (d 1 (d 2 (l 2 $0)))))))))))))))\n",
      "(lambda (l 3 (l 2 (C (loop 2 (lambda (lambda (r $1 (u 1 (u 4 (r 3 (u 2 (r $1 (C (d 3 $2)))))))))) (C $0))))))\n",
      "(lambda (l 4 $0))\n",
      "(lambda (u 4 (r 2 (d 2 (r 2 (l 1 (d 4 (u 3 (r 3 (L (r 2 (d 2 (C (loop 1 (lambda (lambda (loop $1 (lambda (lambda $2)) $0))) (u 2 $0)))))))))))))))\n"
     ]
    },
    {
     "data": {
      "text/plain": [
       "[None,\n",
       " None,\n",
       " None,\n",
       " None,\n",
       " None,\n",
       " None,\n",
       " None,\n",
       " None,\n",
       " None,\n",
       " None,\n",
       " None,\n",
       " None,\n",
       " None,\n",
       " None,\n",
       " None,\n",
       " None,\n",
       " None,\n",
       " None,\n",
       " None,\n",
       " None,\n",
       " None,\n",
       " None,\n",
       " None,\n",
       " None,\n",
       " None,\n",
       " None,\n",
       " None,\n",
       " None,\n",
       " None,\n",
       " None,\n",
       " None,\n",
       " None,\n",
       " None,\n",
       " None,\n",
       " None,\n",
       " None,\n",
       " None,\n",
       " None,\n",
       " None,\n",
       " None,\n",
       " None,\n",
       " None,\n",
       " None,\n",
       " None,\n",
       " None,\n",
       " None,\n",
       " None,\n",
       " None,\n",
       " None,\n",
       " None]"
      ]
     },
     "execution_count": 118,
     "metadata": {},
     "output_type": "execute_result"
    }
   ],
   "source": [
    "dreams = dreamOfSketches(N=50)\n",
    "[print(d) for d in dreams]"
   ]
  },
  {
   "cell_type": "code",
   "execution_count": 7,
   "metadata": {},
   "outputs": [
    {
     "ename": "AssertionError",
     "evalue": "",
     "output_type": "error",
     "traceback": [
      "\u001b[0;31m---------------------------------------------------------------------------\u001b[0m",
      "\u001b[0;31mAssertionError\u001b[0m                            Traceback (most recent call last)",
      "\u001b[0;32m<ipython-input-7-2cc20f8ba6b7>\u001b[0m in \u001b[0;36m<module>\u001b[0;34m\u001b[0m\n\u001b[0;32m----> 1\u001b[0;31m \u001b[0mp\u001b[0m \u001b[0;34m=\u001b[0m \u001b[0mProgram\u001b[0m\u001b[0;34m.\u001b[0m\u001b[0mparseHumanReadable\u001b[0m\u001b[0;34m(\u001b[0m\u001b[0;34m\"(lambda (x) (embed (lambda (x) (r 5 (x)))))\"\u001b[0m\u001b[0;34m)\u001b[0m\u001b[0;34m\u001b[0m\u001b[0;34m\u001b[0m\u001b[0m\n\u001b[0m\u001b[1;32m      2\u001b[0m \u001b[0msketch\u001b[0m\u001b[0;34m,\u001b[0m \u001b[0mtrace\u001b[0m \u001b[0;34m=\u001b[0m \u001b[0mp\u001b[0m\u001b[0;34m.\u001b[0m\u001b[0mevaluate\u001b[0m\u001b[0;34m(\u001b[0m\u001b[0;34m[\u001b[0m\u001b[0;34m]\u001b[0m\u001b[0;34m)\u001b[0m\u001b[0;34m(\u001b[0m\u001b[0mT\u001b[0m\u001b[0;34m.\u001b[0m\u001b[0m_empty_sketch\u001b[0m\u001b[0;34m)\u001b[0m\u001b[0;34m(\u001b[0m\u001b[0mSketchState\u001b[0m\u001b[0;34m(\u001b[0m\u001b[0mhistory\u001b[0m\u001b[0;34m=\u001b[0m\u001b[0;34m[\u001b[0m\u001b[0;34m]\u001b[0m\u001b[0;34m)\u001b[0m\u001b[0;34m)\u001b[0m\u001b[0;34m\u001b[0m\u001b[0;34m\u001b[0m\u001b[0m\n\u001b[1;32m      3\u001b[0m \u001b[0mprint\u001b[0m\u001b[0;34m(\u001b[0m\u001b[0msketch\u001b[0m\u001b[0;34m.\u001b[0m\u001b[0mhistory\u001b[0m\u001b[0;34m)\u001b[0m\u001b[0;34m\u001b[0m\u001b[0;34m\u001b[0m\u001b[0m\n\u001b[1;32m      4\u001b[0m \u001b[0mprint\u001b[0m\u001b[0;34m(\u001b[0m\u001b[0mtrace\u001b[0m\u001b[0;34m)\u001b[0m\u001b[0;34m\u001b[0m\u001b[0;34m\u001b[0m\u001b[0m\n",
      "\u001b[0;32m~/dc/dreamcoder/program.py\u001b[0m in \u001b[0;36mparseHumanReadable\u001b[0;34m(s)\u001b[0m\n\u001b[1;32m    209\u001b[0m             \u001b[0;32mif\u001b[0m \u001b[0ms\u001b[0m \u001b[0;32min\u001b[0m \u001b[0mPrimitive\u001b[0m\u001b[0;34m.\u001b[0m\u001b[0mGLOBALS\u001b[0m\u001b[0;34m:\u001b[0m \u001b[0;32mreturn\u001b[0m \u001b[0mPrimitive\u001b[0m\u001b[0;34m.\u001b[0m\u001b[0mGLOBALS\u001b[0m\u001b[0;34m[\u001b[0m\u001b[0ms\u001b[0m\u001b[0;34m]\u001b[0m\u001b[0;34m\u001b[0m\u001b[0;34m\u001b[0m\u001b[0m\n\u001b[1;32m    210\u001b[0m             \u001b[0;32massert\u001b[0m \u001b[0;32mFalse\u001b[0m\u001b[0;34m\u001b[0m\u001b[0;34m\u001b[0m\u001b[0m\n\u001b[0;32m--> 211\u001b[0;31m         \u001b[0;32mreturn\u001b[0m \u001b[0mp\u001b[0m\u001b[0;34m(\u001b[0m\u001b[0ms\u001b[0m\u001b[0;34m,\u001b[0m \u001b[0;34m[\u001b[0m\u001b[0;34m]\u001b[0m\u001b[0;34m)\u001b[0m\u001b[0;34m\u001b[0m\u001b[0;34m\u001b[0m\u001b[0m\n\u001b[0m\u001b[1;32m    212\u001b[0m \u001b[0;34m\u001b[0m\u001b[0m\n\u001b[1;32m    213\u001b[0m \u001b[0;34m\u001b[0m\u001b[0m\n",
      "\u001b[0;32m~/dc/dreamcoder/program.py\u001b[0m in \u001b[0;36mp\u001b[0;34m(s, environment)\u001b[0m\n\u001b[1;32m    197\u001b[0m                 \u001b[0;32massert\u001b[0m \u001b[0misinstance\u001b[0m\u001b[0;34m(\u001b[0m\u001b[0ms\u001b[0m\u001b[0;34m[\u001b[0m\u001b[0;36m1\u001b[0m\u001b[0;34m]\u001b[0m\u001b[0;34m,\u001b[0m \u001b[0mlist\u001b[0m\u001b[0;34m)\u001b[0m \u001b[0;32mand\u001b[0m \u001b[0mlen\u001b[0m\u001b[0;34m(\u001b[0m\u001b[0ms\u001b[0m\u001b[0;34m)\u001b[0m \u001b[0;34m==\u001b[0m \u001b[0;36m3\u001b[0m\u001b[0;34m\u001b[0m\u001b[0;34m\u001b[0m\u001b[0m\n\u001b[1;32m    198\u001b[0m                 \u001b[0mnewEnvironment\u001b[0m \u001b[0;34m=\u001b[0m \u001b[0mlist\u001b[0m\u001b[0;34m(\u001b[0m\u001b[0mreversed\u001b[0m\u001b[0;34m(\u001b[0m\u001b[0ms\u001b[0m\u001b[0;34m[\u001b[0m\u001b[0;36m1\u001b[0m\u001b[0;34m]\u001b[0m\u001b[0;34m)\u001b[0m\u001b[0;34m)\u001b[0m \u001b[0;34m+\u001b[0m \u001b[0menvironment\u001b[0m\u001b[0;34m\u001b[0m\u001b[0;34m\u001b[0m\u001b[0m\n\u001b[0;32m--> 199\u001b[0;31m                 \u001b[0me\u001b[0m \u001b[0;34m=\u001b[0m \u001b[0mp\u001b[0m\u001b[0;34m(\u001b[0m\u001b[0ms\u001b[0m\u001b[0;34m[\u001b[0m\u001b[0;36m2\u001b[0m\u001b[0;34m]\u001b[0m\u001b[0;34m,\u001b[0m \u001b[0mnewEnvironment\u001b[0m\u001b[0;34m)\u001b[0m\u001b[0;34m\u001b[0m\u001b[0;34m\u001b[0m\u001b[0m\n\u001b[0m\u001b[1;32m    200\u001b[0m                 \u001b[0;32mfor\u001b[0m \u001b[0m_\u001b[0m \u001b[0;32min\u001b[0m \u001b[0ms\u001b[0m\u001b[0;34m[\u001b[0m\u001b[0;36m1\u001b[0m\u001b[0;34m]\u001b[0m\u001b[0;34m:\u001b[0m \u001b[0me\u001b[0m \u001b[0;34m=\u001b[0m \u001b[0mAbstraction\u001b[0m\u001b[0;34m(\u001b[0m\u001b[0me\u001b[0m\u001b[0;34m)\u001b[0m\u001b[0;34m\u001b[0m\u001b[0;34m\u001b[0m\u001b[0m\n\u001b[1;32m    201\u001b[0m                 \u001b[0;32mreturn\u001b[0m \u001b[0me\u001b[0m\u001b[0;34m\u001b[0m\u001b[0;34m\u001b[0m\u001b[0m\n",
      "\u001b[0;32m~/dc/dreamcoder/program.py\u001b[0m in \u001b[0;36mp\u001b[0;34m(s, environment)\u001b[0m\n\u001b[1;32m    201\u001b[0m                 \u001b[0;32mreturn\u001b[0m \u001b[0me\u001b[0m\u001b[0;34m\u001b[0m\u001b[0;34m\u001b[0m\u001b[0m\n\u001b[1;32m    202\u001b[0m             \u001b[0;32mif\u001b[0m \u001b[0misinstance\u001b[0m\u001b[0;34m(\u001b[0m\u001b[0ms\u001b[0m\u001b[0;34m,\u001b[0m \u001b[0mlist\u001b[0m\u001b[0;34m)\u001b[0m\u001b[0;34m:\u001b[0m\u001b[0;34m\u001b[0m\u001b[0;34m\u001b[0m\u001b[0m\n\u001b[0;32m--> 203\u001b[0;31m                 \u001b[0ma\u001b[0m \u001b[0;34m=\u001b[0m \u001b[0mp\u001b[0m\u001b[0;34m(\u001b[0m\u001b[0ms\u001b[0m\u001b[0;34m[\u001b[0m\u001b[0;36m0\u001b[0m\u001b[0;34m]\u001b[0m\u001b[0;34m,\u001b[0m \u001b[0menvironment\u001b[0m\u001b[0;34m)\u001b[0m\u001b[0;34m\u001b[0m\u001b[0;34m\u001b[0m\u001b[0m\n\u001b[0m\u001b[1;32m    204\u001b[0m                 \u001b[0;32mfor\u001b[0m \u001b[0mx\u001b[0m \u001b[0;32min\u001b[0m \u001b[0ms\u001b[0m\u001b[0;34m[\u001b[0m\u001b[0;36m1\u001b[0m\u001b[0;34m:\u001b[0m\u001b[0;34m]\u001b[0m\u001b[0;34m:\u001b[0m\u001b[0;34m\u001b[0m\u001b[0;34m\u001b[0m\u001b[0m\n\u001b[1;32m    205\u001b[0m                     \u001b[0ma\u001b[0m \u001b[0;34m=\u001b[0m \u001b[0mApplication\u001b[0m\u001b[0;34m(\u001b[0m\u001b[0ma\u001b[0m\u001b[0;34m,\u001b[0m \u001b[0mp\u001b[0m\u001b[0;34m(\u001b[0m\u001b[0mx\u001b[0m\u001b[0;34m,\u001b[0m \u001b[0menvironment\u001b[0m\u001b[0;34m)\u001b[0m\u001b[0;34m)\u001b[0m\u001b[0;34m\u001b[0m\u001b[0;34m\u001b[0m\u001b[0m\n",
      "\u001b[0;32m~/dc/dreamcoder/program.py\u001b[0m in \u001b[0;36mp\u001b[0;34m(s, environment)\u001b[0m\n\u001b[1;32m    208\u001b[0m                 \u001b[0;32mif\u001b[0m \u001b[0ms\u001b[0m \u001b[0;34m==\u001b[0m \u001b[0mv\u001b[0m\u001b[0;34m:\u001b[0m \u001b[0;32mreturn\u001b[0m \u001b[0mIndex\u001b[0m\u001b[0;34m(\u001b[0m\u001b[0mj\u001b[0m\u001b[0;34m)\u001b[0m\u001b[0;34m\u001b[0m\u001b[0;34m\u001b[0m\u001b[0m\n\u001b[1;32m    209\u001b[0m             \u001b[0;32mif\u001b[0m \u001b[0ms\u001b[0m \u001b[0;32min\u001b[0m \u001b[0mPrimitive\u001b[0m\u001b[0;34m.\u001b[0m\u001b[0mGLOBALS\u001b[0m\u001b[0;34m:\u001b[0m \u001b[0;32mreturn\u001b[0m \u001b[0mPrimitive\u001b[0m\u001b[0;34m.\u001b[0m\u001b[0mGLOBALS\u001b[0m\u001b[0;34m[\u001b[0m\u001b[0ms\u001b[0m\u001b[0;34m]\u001b[0m\u001b[0;34m\u001b[0m\u001b[0;34m\u001b[0m\u001b[0m\n\u001b[0;32m--> 210\u001b[0;31m             \u001b[0;32massert\u001b[0m \u001b[0;32mFalse\u001b[0m\u001b[0;34m\u001b[0m\u001b[0;34m\u001b[0m\u001b[0m\n\u001b[0m\u001b[1;32m    211\u001b[0m         \u001b[0;32mreturn\u001b[0m \u001b[0mp\u001b[0m\u001b[0;34m(\u001b[0m\u001b[0ms\u001b[0m\u001b[0;34m,\u001b[0m \u001b[0;34m[\u001b[0m\u001b[0;34m]\u001b[0m\u001b[0;34m)\u001b[0m\u001b[0;34m\u001b[0m\u001b[0;34m\u001b[0m\u001b[0m\n\u001b[1;32m    212\u001b[0m \u001b[0;34m\u001b[0m\u001b[0m\n",
      "\u001b[0;31mAssertionError\u001b[0m: "
     ]
    }
   ],
   "source": [
    "p = Program.parseHumanReadable(\"(lambda (x) (embed (lambda (x) (r 5 (x)))))\")\n",
    "sketch, trace = p.evaluate([])(T._empty_sketch)(SketchState(history=[]))\n",
    "print(sketch.history)\n",
    "print(trace)"
   ]
  },
  {
   "cell_type": "code",
   "execution_count": null,
   "metadata": {},
   "outputs": [],
   "source": []
  }
 ],
 "metadata": {
  "kernelspec": {
   "display_name": "Python 3",
   "language": "python",
   "name": "python3"
  },
  "language_info": {
   "codemirror_mode": {
    "name": "ipython",
    "version": 3
   },
   "file_extension": ".py",
   "mimetype": "text/x-python",
   "name": "python",
   "nbconvert_exporter": "python",
   "pygments_lexer": "ipython3",
   "version": "3.7.4"
  }
 },
 "nbformat": 4,
 "nbformat_minor": 2
}
