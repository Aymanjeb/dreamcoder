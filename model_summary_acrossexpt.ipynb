{
 "cells": [
  {
   "cell_type": "code",
   "execution_count": 1,
   "metadata": {},
   "outputs": [
    {
     "name": "stdout",
     "output_type": "stream",
     "text": [
      "HERE\n"
     ]
    }
   ],
   "source": [
    "\"\"\"Take dreamcoder models from diff expts, (but overlapping behavior), and combine human/model scores\n",
    "Also get various controls (e.g, random parses)\n",
    "\"\"\"\n",
    "\n",
    "# %load_ext autoreload\n",
    "# %autoreload 2\n",
    "\n",
    "from analysis.getModelHumanDists import * \n",
    "from analysis.modelAnalyses import *\n"
   ]
  },
  {
   "cell_type": "code",
   "execution_count": null,
   "metadata": {},
   "outputs": [],
   "source": [
    "################################# - NEW VERSION, ONE FUNCITON TO LOAD"
   ]
  },
  {
   "cell_type": "code",
   "execution_count": null,
   "metadata": {},
   "outputs": [],
   "source": [
    "################################## OLD VERSION - LOADING EACH COMPONENT"
   ]
  },
  {
   "cell_type": "code",
   "execution_count": null,
   "metadata": {},
   "outputs": [],
   "source": [
    "# ===== load multiple models and concatenate\n",
    "from pythonlib.tools.dicttools import printOverviewKeyValues\n",
    "from analysis.modelAnalyses import *\n",
    "\n",
    "ECTRAINlist = [\"S12.10.test4\", \"S13.10.test4\"]\n",
    "modelkind_list = [\"parse\", \"randomperm\"]\n",
    "ver=\"aggregate\"\n",
    "use_withplannerscore=True\n",
    "distances_flat, DAT_all, workerlist, SAVEDIR = loadMultDCHumanDistances(ECTRAINlist, modelkind_list, ver, use_withplannerscore)"
   ]
  },
  {
   "cell_type": "code",
   "execution_count": null,
   "metadata": {},
   "outputs": [],
   "source": [
    "# DAT_all, workerlist, SAVEDIR = loadMultDCdata(ECTRAINlist)\n",
    "addWorkerCond(distances_flat, workerlist)\n",
    "print(\"Extracted {} workers\".format(len(set([d[\"workerID\"] for d in workerlist]))))"
   ]
  },
  {
   "cell_type": "code",
   "execution_count": null,
   "metadata": {},
   "outputs": [],
   "source": [
    "from analysis.importDrawgood import dgplan as D\n",
    "Planner = D.Planner\n",
    "\n",
    "BATCHNAME = \"191108\"\n",
    "BATCHNAME = \"191116\"\n",
    "EXPT = \"2.4\"\n",
    "\n",
    "Planner, summarydict_all, datall, savedir = loadPlannerData(EXPT, BATCHNAME)"
   ]
  },
  {
   "cell_type": "code",
   "execution_count": null,
   "metadata": {},
   "outputs": [],
   "source": [
    "params = D.getParamsAggregate(D.flattenSummary(summarydict_all), returnnames=False)\n",
    "params"
   ]
  },
  {
   "cell_type": "code",
   "execution_count": null,
   "metadata": {
    "scrolled": true
   },
   "outputs": [],
   "source": [
    "# 1) to df\n",
    "import pandas as pd\n",
    "from pythonlib.tools.pandastools import aggregGeneral\n",
    "\n",
    "df = pd.DataFrame(distances_flat)"
   ]
  },
  {
   "cell_type": "code",
   "execution_count": null,
   "metadata": {
    "scrolled": false
   },
   "outputs": [],
   "source": [
    "# -- summarize data\n",
    "printOverviewKeyValues(distances_flat)"
   ]
  },
  {
   "cell_type": "code",
   "execution_count": null,
   "metadata": {},
   "outputs": [],
   "source": [
    "\n",
    "# === plotting all data in violin plot\n",
    "import seaborn as sns\n",
    "from modelPlanning import addLabel\n",
    "import matplotlib.pyplot as plt\n",
    "\n",
    "for stim in set(df[\"stim\"].values):\n",
    "    dfthis = df[df[\"stim\"]==stim]\n",
    "#     fig, ax = plt.subplots()\n",
    "#     fig.set_size_inches(11, 8)\n",
    "\n",
    "    ax = sns.catplot(data=dfthis, hue=\"model\", x=\"human\", y=\"dist\", kind=\"violin\", height=8, aspect=25/8)\n",
    "    addLabel(ax)\n",
    "    ax.savefig(\"{}/overview_eachstim_{}.pdf\".format(SAVEDIR, stim))\n"
   ]
  },
  {
   "cell_type": "code",
   "execution_count": null,
   "metadata": {},
   "outputs": [],
   "source": [
    "## AGGREGATING OVER PARSES, USING PLANNER COSTS\n",
    "## OBSOLETE - TOO SLOW\n",
    "plannermodel=\"motor\"\n",
    "\n",
    "stimlist = [d[\"stim\"] for d in distances_flat]\n",
    "humanlist = [d[\"human\"] for d in distances_flat]\n",
    "modellist = [d[\"model\"] for d in distances_flat]\n",
    "\n",
    "for stim in stimlist:\n",
    "    for human in humanlist:\n",
    "        for model in modellist:\n",
    "            # -- get all datapoints\n",
    "            dists = filterDistances(distances_flat, [stim], [human], [model])\n",
    "            \n",
    "            print(\"SUM: shouldnt this be 1?\")\n",
    "            print(np.sum([d[\"{}_prob\".format(plannermodel)] for d in dists]))\n",
    "            print(\"reweighting all distances using planner model scores\")\n",
    "            \n",
    "            for d in dists:\n",
    "                prob = d[\"{}_prob\".format(plannermodel)]\n",
    "                d[\"dist\"] = d[\"dist\"] * prob                \n",
    "            \n",
    "            \n",
    "            "
   ]
  },
  {
   "cell_type": "code",
   "execution_count": null,
   "metadata": {},
   "outputs": [],
   "source": [
    "for i, d in enumerate(distances_flat):\n",
    "    print(i)\n",
    "    prob = d[\"{}_prob\".format(plannermodel)]\n",
    "    d[\"dist\"] = d[\"dist\"] * prob                \n"
   ]
  },
  {
   "cell_type": "code",
   "execution_count": null,
   "metadata": {},
   "outputs": [],
   "source": [
    "SD = \"{}/summarydict_planner_{}.pickle\".format(SAVEDIR, plannermodel)\n",
    "\n",
    "allsummarydict = {\n",
    "\t\"DAT_all\":DAT_all,\n",
    "\t\"distances_flat\":distances_flat,\n",
    "\t\"planner_summarydict_all\":summarydict_all,\n",
    "\t\"planner_params\":params\n",
    "}\n",
    "with open(SD, \"wb\") as f:\n",
    "\tpickle.dump(allsummarydict, f)"
   ]
  },
  {
   "cell_type": "code",
   "execution_count": null,
   "metadata": {},
   "outputs": [],
   "source": [
    "## AGGREGATE OVER PARSES, using percentile in lambda function\n",
    "PRCTILE=25\n",
    "\n",
    "import numpy as np\n",
    "am = lambda x: np.percentile(x, PRCTILE)\n",
    "df = aggregGeneral(df, group=[\"stim\", \"human\", \"model\"], values=[\"dist\"], nonnumercols=[\"human_cond\"],\n",
    "              aggmethod=[am])\n",
    "# df = aggreg(df, group=[\"stim\", \"human\", \"model\"], values=[\"dist\"], aggmethod=[am])\n",
    "# df[\"dist\"]=df[\"dist_<lambda>\"]\n",
    "# df = df.drop(columns=[\"dist_<lambda>\"])"
   ]
  },
  {
   "cell_type": "code",
   "execution_count": null,
   "metadata": {},
   "outputs": [],
   "source": [
    "# import sys\n",
    "# def sizeof_fmt(num, suffix='B'):\n",
    "#     ''' by Fred Cirera,  https://stackoverflow.com/a/1094933/1870254, modified'''\n",
    "#     for unit in ['','Ki','Mi','Gi','Ti','Pi','Ei','Zi']:\n",
    "#         if abs(num) < 1024.0:\n",
    "#             return \"%3.1f %s%s\" % (num, unit, suffix)\n",
    "#         num /= 1024.0\n",
    "#     return \"%.1f %s%s\" % (num, 'Yi', suffix)\n",
    "\n",
    "# for name, size in sorted(((name, sys.getsizeof(value)) for name, value in locals().items()),\n",
    "#                          key= lambda x: -x[1])[:10]:\n",
    "#     print(\"{:>30}: {:>8}\".format(name, sizeof_fmt(size)))\n"
   ]
  },
  {
   "cell_type": "code",
   "execution_count": null,
   "metadata": {
    "scrolled": true
   },
   "outputs": [],
   "source": [
    "# PLOT EACH STIM [ONE SUBPLOT EACH STIM, SHOWING THE POINT ESTIMATE FOR EACH SUBECT]\n",
    "import seaborn as sns\n",
    "\n",
    "ax = sns.catplot(data=df, hue=\"model\", x=\"human\", y=\"dist\", col=\"stim\", col_wrap=6)\n",
    "from modelPlanning import addLabel\n",
    "addLabel(ax)\n",
    "ax.savefig(\"{}/overview.pdf\".format(SAVEDIR))"
   ]
  },
  {
   "cell_type": "code",
   "execution_count": null,
   "metadata": {},
   "outputs": [],
   "source": [
    "## WAYS TO FILTER DF\n",
    "# - get stims that solved by all models\n",
    "def filterOnlyStimWithAllModels(df, behexpt=\"2.4\", MODELS = \n",
    "                                [\"S12.10\", \"S13.10.test4\", \"S12.10_randomperm\", \"S13.10.test4_randomperm\"]):\n",
    "    \"\"\"given a dataframe, filters so that only only keeps stim that have dat for all models.\n",
    "    Assumes that only expect one datapoint in df per model (i.e, need to aggregate first)\"\"\"\n",
    "    from analysis.importDrawgood import dgexpt\n",
    "    \n",
    "    teststims = dgexpt.getTestStim(behexpt, removepng=True)\n",
    "    \n",
    "    teststims_good =[]\n",
    "    for stim in teststims:\n",
    "        successful_models = set(df[df[\"stim\"]==stim][\"model\"])\n",
    "        if len([s for s in successful_models if s in MODELS])==len(MODELS):\n",
    "            teststims_good.append(stim)   \n",
    "    \n",
    "    return df[df[\"stim\"].isin(teststims_good)].reset_index()\n",
    "\n",
    "\n",
    "## WAYS TO MODIFY/AGGREGATE\n",
    "def aggregOverStim(df):\n",
    "    \"\"\"averages over all stimuli for a given human/model\n",
    "    note: will not check for you whether data are balanced\"\"\"\n",
    "    return aggregGeneral(df, group=[\"human\", \"model\", \"human_cond\"], values=[\"dist\"], aggmethod=[\"mean\"])\n",
    "\n",
    "## THINGS TO APPLY TO df_human\n",
    "def applyFunctionToGroups(df_human, groups=[\"human\", \"human_cond\"], model1=\"S12.10.test4\", model2=\"S13.10.test4\"):\n",
    "    \"\"\"df_human already has aggreageted over stims, so that each human is one dat\"\"\"\n",
    "    F = lambda x: x.loc[x[\"model\"]==model2][\"dist\"].values[0] - x.loc[x[\"model\"]==model1][\"dist\"].values[0]  # note, the [0] is correct, since only one value and is in a list\n",
    "    Fname = model2 + \"-\" + model1\n",
    "    df_human = df_human.groupby(groups).apply(F).reset_index(name=Fname)\n",
    "    return df_human\n",
    "\n"
   ]
  },
  {
   "cell_type": "code",
   "execution_count": null,
   "metadata": {},
   "outputs": [],
   "source": [
    "import seaborn as sns\n",
    "from modelPlanning import addLabel\n",
    "\n",
    "MODEL_LIST = [\"S12.10.test4\", \"S13.10.test4\", \"S12.10.test4_randomperm\", \"S13.10.test4_randomperm\"]\n",
    "# MODEL_LIST = [\"S12.10\", \"S13.10.test4\", \"S12.10_randomperm\", \"S13.10.test4_randomperm\"]\n",
    "\n"
   ]
  },
  {
   "cell_type": "code",
   "execution_count": null,
   "metadata": {},
   "outputs": [],
   "source": [
    "# ================ COMPARE DC MODEL TO PLANNER MODEL\n",
    "dfthis = df_weighted\n",
    "\n",
    "################# 1) preprocess\n",
    "dfthis = filterOnlyStimWithAllModels(dfthis, behexpt=DAT_all[0][\"behaviorexpt\"], MODELS = MODEL_LIST)\n",
    "dfthis"
   ]
  },
  {
   "cell_type": "code",
   "execution_count": null,
   "metadata": {},
   "outputs": [],
   "source": [
    "# take mean over stimuli\n",
    "dfworkers = aggregOverStim(dfthis)\n",
    "dfworkers"
   ]
  },
  {
   "cell_type": "code",
   "execution_count": null,
   "metadata": {},
   "outputs": [],
   "source": [
    "# === plot without subtracting modls\n",
    "ax = sns.catplot(data=dfworkers, hue=\"model\", x=\"human_cond\", y=\"dist\", dodge=True)\n",
    "sns.catplot(data=dfworkers, hue=\"model\", x=\"human_cond\", y=\"dist\", dodge=True, kind=\"boxen\")\n",
    "ax.savefig(\"{}/teststimcommon_summarize.pdf\".format(SAVEDIR))\n",
    "\n",
    "# ===\n",
    "plt.figure(figsize=(20,10))\n",
    "ax = sns.catplot(data=dfworkers, x = \"human\", row=\"human_cond\", y=\"dist\", hue=\"model\", height=3, aspect=15/3)\n",
    "addLabel(ax)\n",
    "ax.savefig(\"{}/teststimcommon_overview.pdf\".format(SAVEDIR))"
   ]
  },
  {
   "cell_type": "code",
   "execution_count": null,
   "metadata": {},
   "outputs": [],
   "source": [
    "################# 2) for each worker get a diferences between moedls.\n",
    "model2 = \"S13.10.test4\"\n",
    "model1 = \"S12.10.test4\"\n",
    "dfworkers = applyFunctionToGroups(dfworkers, model1=model1, model2=model2)"
   ]
  },
  {
   "cell_type": "code",
   "execution_count": null,
   "metadata": {},
   "outputs": [],
   "source": [
    "colname = model2 + \"-\" + model1\n",
    "params = planner_params"
   ]
  },
  {
   "cell_type": "code",
   "execution_count": null,
   "metadata": {
    "scrolled": false
   },
   "outputs": [],
   "source": [
    "# check that set of workers are identical from two experimetns\n",
    "assert set(dfworkers[\"human\"]) == set([col for col in params.columns if col not in [\"xname\", \"xnum\"]]), \"names of workers do not perfeclty match between drawgood and dreamcoder\"\n",
    "\n",
    "# merge workers and params\n",
    "dfworkers = pd.merge(dfworkers, params.transpose().reset_index().rename(columns = {'workerID':'human'}), on=\"human\")\n",
    "dfworkers = dfworkers.rename(columns={i:\"x{}\".format(i) for i in range(6)})\n",
    "\n",
    "# -- plot\n",
    "plt.figure(figsize=(20,30))\n",
    "ax = plt.subplot(3,2,1)\n",
    "ax = sns.regplot(x=colname, y=\"x4\", ci=95, data=dfworkers)\n",
    "ax = sns.scatterplot(x=colname, y=\"x4\", hue=\"human_cond\", data=dfworkers)\n",
    "\n",
    "ax = plt.subplot(3,2,2)\n",
    "ax = sns.scatterplot(x=\"x4\", y=\"x5\", hue=\"human_cond\", data=dfworkers)\n",
    "\n",
    "ax = plt.subplot(3,2,3)\n",
    "sns.scatterplot(x=colname, y=\"x4\", hue=\"x5\", data=dfworkers, ax=ax)\n",
    "\n",
    "ax = plt.subplot(3,2,4)\n",
    "sns.scatterplot(x=colname, y=\"x4\", hue=\"x3\", data=dfworkers, ax=ax)\n",
    "\n",
    "ax = plt.subplot(3,2,5)\n",
    "sns.stripplot(data=dfworkers, x=\"human_cond\", y=colname, color='k')\n",
    "sns.boxplot(data=dfworkers, x=\"human_cond\", y=colname)\n",
    "\n",
    "ax = plt.subplot(3,2,6)\n",
    "sns.stripplot(data=dfworkers, x=\"human_cond\", y=\"x4\", color='k')\n",
    "sns.boxplot(data=dfworkers, x=\"human_cond\", y=\"x4\")\n",
    "\n",
    "plt.savefig(\"{}/teststimcommon_vsplanner.pdf\".format(SAVEDIR))"
   ]
  },
  {
   "cell_type": "code",
   "execution_count": null,
   "metadata": {},
   "outputs": [],
   "source": [
    "# === for each model get comparison to its own controls\n",
    "from statsmodels.regression.linear_model import OLS\n",
    "from statsmodels.tools import add_constant\n",
    "\n",
    "X = dfworkers[colname].values.reshape(-1,1)\n",
    "y = dfworkers[\"x4\"].values.reshape(-1,1)\n",
    "X = add_constant(X, prepend=False)\n",
    "\n",
    "res = OLS(y, X).fit()\n",
    "res.summary()\n",
    "\n",
    "\n",
    "X = dfworkers[colname].values.reshape(-1,1)\n",
    "y = dfworkers[\"human_cond\"].values.reshape(-1,1)\n",
    "X = add_constant(X, prepend=False)\n",
    "\n",
    "res = OLS(y, X).fit()\n",
    "res.summary()\n"
   ]
  },
  {
   "cell_type": "code",
   "execution_count": null,
   "metadata": {},
   "outputs": [],
   "source": [
    "df"
   ]
  },
  {
   "cell_type": "code",
   "execution_count": null,
   "metadata": {
    "scrolled": false
   },
   "outputs": [],
   "source": [
    "dfthis = df_weighted\n",
    "\n",
    "# ===== AVERAGING OVER SUBJECT (EEACH STIM A DATAPOINT)\n",
    "# SUMMARY PLOT - group across subjects that were in same condition\n",
    "dfthis = aggregGeneral(dfthis, group=[\"stim\", \"model\", \"human_cond\"], values=[\"dist\"], aggmethod=[\"mean\"])\n",
    "\n",
    "# -- only test stims\n",
    "# - get list of test stimuli\n",
    "from analysis.importDrawgood import dgexpt\n",
    "teststims = dgexpt.getTestStim(DAT_all[0][\"behaviorexpt\"], removepng=True)\n",
    "\n",
    "stimlist = teststims\n",
    "dfthis = dfthis[dfthis[\"stim\"].isin(stimlist)]\n",
    "ax = sns.catplot(data=dfthis, hue=\"model\", x=\"human_cond\", y=\"dist\", dodge=True)\n",
    "sns.catplot(data=dfthis, hue=\"model\", x=\"human_cond\", y=\"dist\", kind=\"boxen\", dodge=True)\n",
    "addLabel(ax)\n",
    "\n",
    "# -- one plot for each stim\n",
    "stimlist = teststims\n",
    "dfthis = dfthis[dfthis[\"stim\"].isin(stimlist)]\n",
    "ax = sns.catplot(data=dfthis, hue=\"model\", x=\"human_cond\", col=\"stim\", col_wrap=6, y=\"dist\")\n",
    "addLabel(ax)\n",
    "\n",
    "\n",
    "# -- only test stims, and only if has all moedls\n",
    "# stimlist = teststims\n",
    "# dfthis = dfthis[dfthis[\"stim\"].isin(stimlist)]\n",
    "# dfthis = dfthis[dfthis.groupby([\"stim\"]).agg(lambda x: len(x))==8]\n",
    "SC = dfthis[[\"dist\", \"stim\"]].groupby(\"stim\").agg(lambda x: len(x))\n",
    "dfthis = dfthis.merge(SC, left_on = 'stim', right_index=True)\n",
    "df_allmodels = dfthis[dfthis[\"dist_y\"]==8.0]\n",
    "\n",
    "ax = sns.catplot(data=df_allmodels, hue=\"model\", x=\"human_cond\", y=\"dist_x\", dodge=True)\n",
    "sns.catplot(data=df_allmodels, hue=\"model\", x=\"human_cond\", y=\"dist_x\", kind=\"boxen\")\n",
    "\n",
    "addLabel(ax)"
   ]
  },
  {
   "cell_type": "code",
   "execution_count": null,
   "metadata": {},
   "outputs": [],
   "source": [
    "\n",
    "# EACH DATAPOINT \n",
    "# -- only test stims, and only if has all moedls\n",
    "stimlist = teststims\n",
    "dfthis = dfthis[dfthis[\"stim\"].isin(stimlist)]\n",
    "dfthis = dfthis[dfthis.groupby([\"stim\"]).agg(lambda x: len(x))==8]\n",
    "\n",
    "ax = sns.catplot(data=df_allmodels, hue=\"model\", x=\"human_cond\", y=\"dist_x\",dodge=True, kind=\"boxen\")\n",
    "addLabel(ax)"
   ]
  }
 ],
 "metadata": {
  "kernelspec": {
   "display_name": "Python 3",
   "language": "python",
   "name": "python3"
  },
  "language_info": {
   "codemirror_mode": {
    "name": "ipython",
    "version": 3
   },
   "file_extension": ".py",
   "mimetype": "text/x-python",
   "name": "python",
   "nbconvert_exporter": "python",
   "pygments_lexer": "ipython3",
   "version": "3.7.4"
  }
 },
 "nbformat": 4,
 "nbformat_minor": 2
}
