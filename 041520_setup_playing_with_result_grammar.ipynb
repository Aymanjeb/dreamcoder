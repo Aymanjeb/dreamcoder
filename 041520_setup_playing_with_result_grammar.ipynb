{
 "cells": [
  {
   "cell_type": "code",
   "execution_count": 1,
   "metadata": {},
   "outputs": [
    {
     "data": {
      "text/plain": [
       "' go thru trained DC model solutions for each task.\\nplot in a presentable form:\\n(1) solutiobns\\n(2) steps for solutions\\n(3) what primitives were invented\\n(4) how those primitives were used\\n(5) [more] compare program with and without those primitives?\\n'"
      ]
     },
     "execution_count": 1,
     "metadata": {},
     "output_type": "execute_result"
    }
   ],
   "source": [
    "\"\"\" go thru trained DC model solutions for each task.\n",
    "plot in a presentable form:\n",
    "(1) solutiobns\n",
    "(2) steps for solutions\n",
    "(3) what primitives were invented\n",
    "(4) how those primitives were used\n",
    "(5) [more] compare program with and without those primitives?\n",
    "\n",
    "[INSTEAD, DID FOLLOWING]:\n",
    "loaded grammar and played around with fitting some programs.\n",
    "miostly to try to dfigur eout hwo the log likelihood funhction (and sampling) works.\n",
    "\n",
    "\n",
    "\"\"\""
   ]
  },
  {
   "cell_type": "code",
   "execution_count": 3,
   "metadata": {},
   "outputs": [],
   "source": [
    "%load_ext autoreload\n",
    "%autoreload 2\n",
    "\n"
   ]
  },
  {
   "cell_type": "code",
   "execution_count": 4,
   "metadata": {},
   "outputs": [],
   "source": [
    "\n",
    "\n",
    "from analysis.summarize import summarizeFrontiers\n",
    "from analysis.parse import getBestFrontierProgram \n",
    "from analysis.utils import *\n",
    "from analysis.summarize import summarizeFrontiers"
   ]
  },
  {
   "cell_type": "code",
   "execution_count": 5,
   "metadata": {},
   "outputs": [
    {
     "name": "stdout",
     "output_type": "stream",
     "text": [
      "Loading dreamcoder checkpoint\n",
      "experimentOutputs/draw//2019-11-16T19:03:45.745355/draw_aic=1.0_arity=2_BO=True_CO=True_dp=True_doshaping=False_ES=1_ET=10_HR=0.5_it=15_MF=5_noConsol=False_parallelTest=True_pc=30_RT=2400_RR=False_RW=False_st=False_solver=ocaml_STM=True_L=1.5_TRR=unsolved_K=2_topkNotMAP=False_tset=S12.pickle\n",
      "0\n",
      "----\n",
      "experimentOutputs/draw//2019-11-16T19:03:45.745355/draw_aic=1.0_arity=2_BO=True_CO=True_dp=True_doshaping=False_ES=1_ET=10_HR=0.5_it=16_MF=5_noConsol=False_parallelTest=True_pc=30_RT=2400_RR=False_RW=False_st=False_solver=ocaml_STM=True_L=1.5_TRR=unsolved_K=2_topkNotMAP=False_tset=S12.pickle\n",
      "0\n",
      "----\n",
      "experimentOutputs/draw//2019-11-16T19:03:45.745355/draw_aic=1.0_arity=2_BO=True_CO=True_dp=True_doshaping=False_ES=1_ET=10_HR=0.5_it=16_MF=5_noConsol=False_parallelTest=True_pc=30_RT=2400_RR=False_RW=False_st=False_solver=ocaml_STM=True_L=1.5_TRR=unsolved_K=2_topkNotMAP=False_tset=S12_graph=True.pickle\n",
      "16\n",
      "----\n",
      "experimentOutputs/draw//2019-11-16T19:03:45.745355/draw_aic=1.0_arity=2_BO=True_CO=True_dp=True_doshaping=False_ES=1_ET=10_HR=0.5_it=15_MF=5_noConsol=False_parallelTest=True_pc=30_RT=2400_RR=False_RW=False_st=False_solver=ocaml_STM=True_L=1.5_TRR=unsolved_K=2_topkNotMAP=False_tset=S12_graph=True.pickle\n",
      "15\n",
      "----\n",
      "Loading dreamcoder tasks\n",
      "DRAW TASK training set: S12\n",
      "DO SHAPING: False\n",
      "training task names:\n",
      "['S12_13_shaping_0', 'S12_13_shaping_1', 'S12_13_shaping_2', 'S12_13_shaping_3', 'S12_13_shaping_4', 'S12_13_shaping_5', 'S12_13_shaping_6', 'S12_13_shaping_7', 'S12_13_shaping_8', 'S12_13_shaping_9', 'S12_13_shaping_10', 'S12_1', 'S12_5', 'S12_8', 'S12_10', 'S12_32', 'S12_34', 'S12_38', 'S12_20', 'S12_39', 'S12_57', 'S12_79', 'S12_113', 'S12_124', 'S12_126', 'S12_133', 'S12_147', 'S12_155', 'S12_163', 'S12_200', 'S12_214', 'S12_31', 'S12_52', 'S12_55', 'S12_70', 'S12_129', 'S12_139', 'S12_141', 'S12_148', 'S12_207', 'S12_222', 'S12_224', 'S12_229', 'S12_233', 'S12_235', 'S12_243', 'S12_246']\n",
      "test tasks:\n",
      "['S12_13_test_1', 'S12_13_test_2', 'S12_13_test_4', 'S12_13_test_5', 'S12_13_test_6', 'S12_13_test_7', 'S12_13_test_8', 'S12_13_test_9', 'S12_13_test_10', 'S12_13_test_11', 'S12_13_test_12', 'S12_132', 'S12_201', 'S12_220', 'S12_247', 'S13_182', 'S13_217', 'S13_219']\n",
      "not loading parses\n",
      "Num dreamcoder tasks 47\n",
      "n supervised tasks 47\n",
      "Num dreamcoder TEST tasks 18\n",
      "n supervised TEST tasks 18\n",
      "did not find any programs across all frontiers and all iterations\n",
      "did not find any programs across all frontiers and all iterations\n",
      "did not find any programs across all frontiers and all iterations\n",
      "did not find any programs across all frontiers and all iterations\n",
      "Loading behavior\n"
     ]
    }
   ],
   "source": [
    "# 1) Load an expt\n",
    "ECTRAIN = \"S12.10.test5\"\n",
    "DAT = loadCheckpoint(ECTRAIN, loadparse=False)"
   ]
  },
  {
   "cell_type": "code",
   "execution_count": 6,
   "metadata": {},
   "outputs": [
    {
     "name": "stdout",
     "output_type": "stream",
     "text": [
      "solved? True\n"
     ]
    },
    {
     "ename": "NameError",
     "evalue": "name 'result' is not defined",
     "output_type": "error",
     "traceback": [
      "\u001b[0;31m---------------------------------------------------------------------------\u001b[0m",
      "\u001b[0;31mNameError\u001b[0m                                 Traceback (most recent call last)",
      "\u001b[0;32m<ipython-input-6-c9d0a0fe563d>\u001b[0m in \u001b[0;36m<module>\u001b[0;34m\u001b[0m\n\u001b[1;32m     15\u001b[0m \u001b[0mprint\u001b[0m\u001b[0;34m(\u001b[0m\u001b[0;34mf\"solved? {solved}\"\u001b[0m\u001b[0;34m)\u001b[0m\u001b[0;34m\u001b[0m\u001b[0;34m\u001b[0m\u001b[0m\n\u001b[1;32m     16\u001b[0m \u001b[0;34m\u001b[0m\u001b[0m\n\u001b[0;32m---> 17\u001b[0;31m \u001b[0mfrontier\u001b[0m \u001b[0;34m=\u001b[0m \u001b[0mgetBestFrontierProgram\u001b[0m\u001b[0;34m(\u001b[0m\u001b[0mresult\u001b[0m\u001b[0;34m,\u001b[0m \u001b[0mt\u001b[0m\u001b[0;34m,\u001b[0m \u001b[0mlastKIter\u001b[0m\u001b[0;34m=\u001b[0m\u001b[0;36m2\u001b[0m\u001b[0;34m,\u001b[0m \u001b[0mreturnfrontier\u001b[0m\u001b[0;34m=\u001b[0m\u001b[0;32mTrue\u001b[0m\u001b[0;34m)\u001b[0m\u001b[0;34m\u001b[0m\u001b[0;34m\u001b[0m\u001b[0m\n\u001b[0m\u001b[1;32m     18\u001b[0m \u001b[0mp\u001b[0m \u001b[0;34m=\u001b[0m \u001b[0mfrontier\u001b[0m\u001b[0;34m.\u001b[0m\u001b[0mprogram\u001b[0m\u001b[0;34m\u001b[0m\u001b[0;34m\u001b[0m\u001b[0m\n",
      "\u001b[0;31mNameError\u001b[0m: name 'result' is not defined"
     ]
    }
   ],
   "source": [
    "# 1) Get a frontier program\n",
    "trainortest=\"train\"\n",
    "tasknum = 2\n",
    "\n",
    "if trainortest==\"train\":\n",
    "    tasks = DAT[\"tasks\"]\n",
    "    tasknames = DAT[\"programnames\"]\n",
    "elif trainortest==\"test\":\n",
    "    tasks = DAT[\"testtasks\"]\n",
    "    tasknames = DAT[\"programnames_test\"]\n",
    "\n",
    "t = tasks[tasknum]\n",
    "tname = tasknames[tasknum]\n",
    "solved = DAT['taskresultdict'][tname]\n",
    "print(f\"solved? {solved}\")\n",
    "\n",
    "frontier = getBestFrontierProgram(DAT[\"result\"], t, lastKIter=2, returnfrontier=True)\n",
    "p = frontier.program"
   ]
  },
  {
   "cell_type": "code",
   "execution_count": 1,
   "metadata": {},
   "outputs": [
    {
     "ename": "NameError",
     "evalue": "name 'p' is not defined",
     "output_type": "error",
     "traceback": [
      "\u001b[0;31m---------------------------------------------------------------------------\u001b[0m",
      "\u001b[0;31mNameError\u001b[0m                                 Traceback (most recent call last)",
      "\u001b[0;32m<ipython-input-1-6c10289a8da7>\u001b[0m in \u001b[0;36m<module>\u001b[0;34m\u001b[0m\n\u001b[0;32m----> 1\u001b[0;31m \u001b[0mp\u001b[0m\u001b[0;34m\u001b[0m\u001b[0;34m\u001b[0m\u001b[0m\n\u001b[0m",
      "\u001b[0;31mNameError\u001b[0m: name 'p' is not defined"
     ]
    }
   ],
   "source": [
    "# === TESTING -fior a given task, show what primitives it uses.\n",
    "\n"
   ]
  },
  {
   "cell_type": "code",
   "execution_count": 41,
   "metadata": {},
   "outputs": [
    {
     "data": {
      "text/plain": [
       "FrontierEntry(program=(#(lambda (repeat #(transform line (transmat (Some scale7) (Some angle2) (Some dist14) (Some dist1) None)) $0 (#(lambda (transmat None None (Some $0) None None)) dist18))) rep2), logPrior=-4.6404658050696534, logLikelihood=0.0"
      ]
     },
     "execution_count": 41,
     "metadata": {},
     "output_type": "execute_result"
    }
   ],
   "source": [
    "# NOTE: the log prior for frontiers is identical to ll for learned grammar.\n",
    "frontier"
   ]
  },
  {
   "cell_type": "code",
   "execution_count": null,
   "metadata": {},
   "outputs": [],
   "source": [
    "# What is its ll given different grammars?\n",
    "\n",
    "from dreamcoder.domains.draw.drawPrimitivesDraw import *\n",
    "from dreamcoder.program import Invented\n",
    "\n",
    "\n",
    "# 1) NULL GRAMMAR\n",
    "g0 = Grammar.uniform(primitives)\n",
    "g0.logLikelihood(tstroke, p)\n",
    "\n",
    "# 2) HAND BUILT GRAMMAR\n",
    "if False:\n",
    "    old_primitives = primitives\n",
    "    extra_primitives = [\n",
    "    #     Primitive(\"(lambda (connect line circle))\", tstroke, Invented(Abstraction(Program.parse(\"(connect line circle)\")))),\n",
    "    #     Primitive(\"test2\", tstroke, Invented(Abstraction(Program.parse(\"(connect line (connect line (connect circle line)))\")))),\n",
    "    #     Primitive(\"test3\", tstroke, Program.parse(\"(connect line circle)\")),\n",
    "    ]\n",
    "\n",
    "    new_primitives = old_primitives + extra_primitives"
   ]
  },
  {
   "cell_type": "code",
   "execution_count": 72,
   "metadata": {},
   "outputs": [
    {
     "name": "stdout",
     "output_type": "stream",
     "text": [
      "[]\n",
      "tstroke\n",
      "Context(next = 0, {})\n"
     ]
    },
    {
     "data": {
      "text/plain": [
       "-3.3990114298486"
      ]
     },
     "execution_count": 72,
     "metadata": {},
     "output_type": "execute_result"
    }
   ],
   "source": [
    "# 3) TRAINED GRAMMAR\n",
    "g1 = result.grammars[-1]\n",
    "g1.logLikelihood(tstroke, p)"
   ]
  },
  {
   "cell_type": "code",
   "execution_count": 80,
   "metadata": {},
   "outputs": [
    {
     "data": {
      "text/plain": [
       "[tstroke, ttransmat]"
      ]
     },
     "execution_count": 80,
     "metadata": {},
     "output_type": "execute_result"
    }
   ],
   "source": [
    "arrow(tstroke, ttransmat, tstroke).functionArguments()"
   ]
  },
  {
   "cell_type": "code",
   "execution_count": 84,
   "metadata": {},
   "outputs": [
    {
     "data": {
      "text/plain": [
       "tstroke"
      ]
     },
     "execution_count": 84,
     "metadata": {},
     "output_type": "execute_result"
    }
   ],
   "source": [
    "tstroke.apply(arrow(tstroke, tstroke))"
   ]
  },
  {
   "cell_type": "code",
   "execution_count": 66,
   "metadata": {},
   "outputs": [
    {
     "data": {
      "text/plain": [
       "(#(transform #(transform line (#(lambda (transmat None None (Some $0) None None)) dist4)) (#(lambda (transmat None None (Some $0) None None)) dist15)),\n",
       " [])"
      ]
     },
     "execution_count": 66,
     "metadata": {},
     "output_type": "execute_result"
    }
   ],
   "source": [
    "p.applicationParse()"
   ]
  },
  {
   "cell_type": "code",
   "execution_count": 42,
   "metadata": {},
   "outputs": [
    {
     "data": {
      "text/plain": [
       "(#(lambda (repeat #(transform line (transmat (Some scale7) (Some angle2) (Some dist14) (Some dist1) None)) $0 (#(lambda (transmat None None (Some $0) None None)) dist18))) rep2)"
      ]
     },
     "execution_count": 42,
     "metadata": {},
     "output_type": "execute_result"
    }
   ],
   "source": [
    "# =========== SHOW STEP BY STEP WHAT THE PROGRAM DOES\n",
    "\n",
    "g1.lo"
   ]
  },
  {
   "cell_type": "code",
   "execution_count": 26,
   "metadata": {},
   "outputs": [
    {
     "data": {
      "text/plain": [
       "(#(lambda (repeat #(transform line (transmat (Some scale7) (Some angle2) (Some dist14) (Some dist1) None)) $0 (#(lambda (transmat None None (Some $0) None None)) dist18))) rep2)"
      ]
     },
     "execution_count": 26,
     "metadata": {},
     "output_type": "execute_result"
    }
   ],
   "source": [
    "# 2) plot that program\n",
    "g0 = graphs"
   ]
  },
  {
   "cell_type": "code",
   "execution_count": null,
   "metadata": {},
   "outputs": [],
   "source": [
    "\n",
    "for i, (t, name) in enumerate(zip(tasks, tasknames)):\n",
    "    print(\"===== {} - {} - {}:\".format(i, t.name, name))\n",
    "    stringlist.append(\"===== {} - {} - {}:\".format(i, t.name, name))\n",
    "\n",
    "    solved = DAT['taskresultdict'][name]\n",
    "    # if len(DAT[\"result\"].frontiersOverTime[t][-1])>0:\n",
    "    #     solved=True\n",
    "    # else:\n",
    "    #     solved=False\n",
    "\n",
    "    if solved:\n",
    "#             ll = result.frontiersOverTime[t][-1].bestPosterior.logLikelihood\n",
    "        frontier = getBestFrontierProgram(DAT[\"result\"], t, lastKIter=15, returnfrontier=True)"
   ]
  },
  {
   "cell_type": "code",
   "execution_count": null,
   "metadata": {},
   "outputs": [],
   "source": [
    "summarizeFrontiers(ECTRAIN, k=20)"
   ]
  },
  {
   "cell_type": "code",
   "execution_count": null,
   "metadata": {},
   "outputs": [],
   "source": [
    "result.frontiersOverTime[t][-1].bestPosterior.program\n",
    "P = result.grammars[-1].primitives\n"
   ]
  },
  {
   "cell_type": "code",
   "execution_count": 5,
   "metadata": {},
   "outputs": [
    {
     "data": {
      "text/plain": [
       "dict_keys(['trainset', 'result', 'tasks', 'testtasks', 'programnames', 'programnames_test', 'behaviorexpt', 'savedir', 'parses', 'analysavedir', 'summarysavedir', 'loadparse', 'taskresultdict', 'datall_human', 'savedir_datsegs', 'datflatsavedir', 'savedir_modelhudist'])"
      ]
     },
     "execution_count": 5,
     "metadata": {},
     "output_type": "execute_result"
    }
   ],
   "source": [
    "DAT.keys()"
   ]
  },
  {
   "cell_type": "code",
   "execution_count": 13,
   "metadata": {},
   "outputs": [
    {
     "ename": "TypeError",
     "evalue": "recordFrontier() missing 1 required positional argument: 'frontier'",
     "output_type": "error",
     "traceback": [
      "\u001b[0;31m---------------------------------------------------------------------------\u001b[0m",
      "\u001b[0;31mTypeError\u001b[0m                                 Traceback (most recent call last)",
      "\u001b[0;32m<ipython-input-13-4797d2f60b07>\u001b[0m in \u001b[0;36m<module>\u001b[0;34m\u001b[0m\n\u001b[0;32m----> 1\u001b[0;31m \u001b[0mresult\u001b[0m\u001b[0;34m.\u001b[0m\u001b[0mrecordFrontier\u001b[0m\u001b[0;34m(\u001b[0m\u001b[0;34m)\u001b[0m\u001b[0;34m\u001b[0m\u001b[0;34m\u001b[0m\u001b[0m\n\u001b[0m",
      "\u001b[0;31mTypeError\u001b[0m: recordFrontier() missing 1 required positional argument: 'frontier'"
     ]
    }
   ],
   "source": []
  },
  {
   "cell_type": "code",
   "execution_count": 16,
   "metadata": {},
   "outputs": [
    {
     "data": {
      "text/plain": [
       "[#(lambda (lambda (#(lambda (lambda (connect (#(lambda (repeat #(transform line (transmat (Some scale7) (Some angle2) (Some dist14) (Some dist1) None)) $0 (#(lambda (transmat None None (Some $0) None None)) dist18))) $0) (reflect $1 angle0)))) (#(lambda (lambda (transform (reflect (repeat #(transform line (#(lambda (transmat None None (Some $0) None None)) dist4)) $0 (#(lambda (lambda (transmat None None $0 (Some dist9) $1))) $1 None)) angle0)))) $1 $0 (#(lambda (lambda (transmat None None $0 (Some dist9) $1))) $1 (Some dist16))) rep3))),\n",
       " #(lambda (#(lambda (lambda (connect $0 (transform (#(lambda (transform (#(lambda (lambda (transform (repeat $0 $1 (#(lambda (transmat None None (Some $0) None None)) dist18)) (#(lambda (transmat None None (Some $0) None None)) dist14)))) $0 line) (#(lambda (transmat None None (Some $0) None None)) dist4))) rep0) (#(lambda (lambda (transmat None None $0 (Some dist9) $1))) $1 None))))) (Some trs) (reflect $0 angle0))),\n",
       " #(lambda (reflect (#(#(lambda (lambda (connect (transform circle (#(lambda (lambda (transmat None None $0 (Some dist9) $1))) (Some $0) (Some $1)))))) dist16 trs) (#(lambda (lambda (transform (reflect (repeat #(transform line (#(lambda (transmat None None (Some $0) None None)) dist4)) $0 (#(lambda (lambda (transmat None None $0 (Some dist9) $1))) $1 None)) angle0)))) (Some trs) $0 (#(lambda (transmat None None (Some $0) None None)) dist16))) angle0)),\n",
       " #(lambda (lambda (#(#(lambda (lambda (connect (transform circle (#(lambda (lambda (transmat None None $0 (Some dist9) $1))) (Some $0) (Some $1)))))) dist16 trs) (connect (#(lambda (lambda (transform (reflect (repeat #(transform line (#(lambda (transmat None None (Some $0) None None)) dist4)) $0 (#(lambda (lambda (transmat None None $0 (Some dist9) $1))) $1 None)) angle0)))) (Some trs) $1 (#(lambda (transmat None None (Some $0) None None)) dist16)) $0)))),\n",
       " #(#(lambda (lambda (connect (transform circle (#(lambda (lambda (transmat None None $0 (Some dist9) $1))) (Some $0) (Some $1)))))) dist16 trs),\n",
       " #(lambda (#(lambda (lambda (connect $0 (transform (#(lambda (transform (#(lambda (lambda (transform (repeat $0 $1 (#(lambda (transmat None None (Some $0) None None)) dist18)) (#(lambda (transmat None None (Some $0) None None)) dist14)))) $0 line) (#(lambda (transmat None None (Some $0) None None)) dist4))) rep0) (#(lambda (lambda (transmat None None $0 (Some dist9) $1))) $1 None))))) (Some $0) (transform circle (#(lambda (transmat None None (Some $0) None None)) dist17)))),\n",
       " #(lambda (lambda (#(lambda (lambda (connect (#(lambda (repeat #(transform line (transmat (Some scale7) (Some angle2) (Some dist14) (Some dist1) None)) $0 (#(lambda (transmat None None (Some $0) None None)) dist18))) $0) (reflect $1 angle0)))) (#(lambda (lambda (connect (transform circle (#(lambda (lambda (transmat None None $0 (Some dist9) $1))) (Some $0) (Some $1)))))) dist17 $1 $0) rep3))),\n",
       " #(#(lambda (lambda (connect (transform circle (#(lambda (lambda (transmat None None $0 (Some dist9) $1))) (Some $0) (Some $1)))))) dist15),\n",
       " #(lambda (lambda (connect (#(lambda (repeat #(transform line (transmat (Some scale7) (Some angle2) (Some dist14) (Some dist1) None)) $0 (#(lambda (transmat None None (Some $0) None None)) dist18))) $0) (reflect $1 angle0)))),\n",
       " #(lambda (lambda (transform (reflect (repeat #(transform line (#(lambda (transmat None None (Some $0) None None)) dist4)) $0 (#(lambda (lambda (transmat None None $0 (Some dist9) $1))) $1 None)) angle0)))),\n",
       " #(lambda (lambda (connect (#(lambda (repeat #(transform line (transmat (Some scale7) (Some angle2) (Some dist14) (Some dist1) None)) $0 (#(lambda (transmat None None (Some $0) None None)) dist18))) rep1) (repeat (reflect $0 angle0) rep1 (#(lambda (lambda (transmat None None $0 (Some dist9) $1))) $1 None))))),\n",
       " #(lambda (lambda (connect $0 (transform (#(lambda (transform (#(lambda (lambda (transform (repeat $0 $1 (#(lambda (transmat None None (Some $0) None None)) dist18)) (#(lambda (transmat None None (Some $0) None None)) dist14)))) $0 line) (#(lambda (transmat None None (Some $0) None None)) dist4))) rep0) (#(lambda (lambda (transmat None None $0 (Some dist9) $1))) $1 None))))),\n",
       " #(lambda (lambda (#(lambda (lambda (connect (transform circle (#(lambda (lambda (transmat None None $0 (Some dist9) $1))) (Some $0) (Some $1)))))) dist14 $0 (reflect $1 angle0)))),\n",
       " #(lambda (lambda (connect (transform circle (#(lambda (lambda (transmat None None $0 (Some dist9) $1))) (Some $0) (Some $1)))))),\n",
       " #(repeat #(transform #(transform line (#(lambda (transmat None None (Some $0) None None)) dist4)) (#(lambda (transmat None None (Some $0) None None)) dist15)) rep1),\n",
       " #(lambda (lambda (transmat None None $0 (Some dist9) $1))),\n",
       " #(transform #(transform line (#(lambda (transmat None None (Some $0) None None)) dist4)) (#(lambda (transmat None None (Some $0) None None)) dist15)),\n",
       " #(lambda (lambda (connect (#(lambda (lambda (transform (repeat $0 $1 (#(lambda (transmat None None (Some $0) None None)) dist18)) (#(lambda (transmat None None (Some $0) None None)) dist14)))) rep0 (connect (transform #(transform line (#(lambda (transmat None None (Some $0) None None)) dist4)) (transmat None None None (Some dist9) $0)) circle)) (#(lambda (repeat #(transform line (transmat (Some scale7) (Some angle2) (Some dist14) (Some dist1) None)) $0 (#(lambda (transmat None None (Some $0) None None)) dist18))) $1)))),\n",
       " #(lambda (transform (#(lambda (lambda (transform (repeat $0 $1 (#(lambda (transmat None None (Some $0) None None)) dist18)) (#(lambda (transmat None None (Some $0) None None)) dist14)))) $0 line) (#(lambda (transmat None None (Some $0) None None)) dist4))),\n",
       " #(lambda (repeat #(transform line (transmat (Some scale7) (Some angle2) (Some dist14) (Some dist1) None)) $0 (#(lambda (transmat None None (Some $0) None None)) dist18))),\n",
       " #(lambda (lambda (transform (repeat $0 $1 (#(lambda (transmat None None (Some $0) None None)) dist18)) (#(lambda (transmat None None (Some $0) None None)) dist14)))),\n",
       " #(transform line (#(lambda (transmat None None (Some $0) None None)) dist4)),\n",
       " #(transform line (transmat (Some scale7) (Some angle2) (Some dist14) (Some dist1) None)),\n",
       " #(lambda (transmat None None (Some $0) None None)),\n",
       " None,\n",
       " Some,\n",
       " line,\n",
       " circle,\n",
       " transmat,\n",
       " transform,\n",
       " reflect,\n",
       " connect,\n",
       " repeat,\n",
       " scale7,\n",
       " dist1,\n",
       " dist3,\n",
       " dist4,\n",
       " dist6,\n",
       " dist9,\n",
       " dist14,\n",
       " dist15,\n",
       " dist16,\n",
       " dist17,\n",
       " dist18,\n",
       " angle0,\n",
       " angle2,\n",
       " trs,\n",
       " rep0,\n",
       " rep1,\n",
       " rep2,\n",
       " rep3]"
      ]
     },
     "execution_count": 16,
     "metadata": {},
     "output_type": "execute_result"
    }
   ],
   "source": [
    "result = DAT[\"result\"]\n",
    "result.grammars[-1].primitives"
   ]
  },
  {
   "cell_type": "code",
   "execution_count": null,
   "metadata": {},
   "outputs": [],
   "source": []
  }
 ],
 "metadata": {
  "kernelspec": {
   "display_name": "Python 3",
   "language": "python",
   "name": "python3"
  },
  "language_info": {
   "codemirror_mode": {
    "name": "ipython",
    "version": 3
   },
   "file_extension": ".py",
   "mimetype": "text/x-python",
   "name": "python",
   "nbconvert_exporter": "python",
   "pygments_lexer": "ipython3",
   "version": "3.7.4"
  }
 },
 "nbformat": 4,
 "nbformat_minor": 2
}
