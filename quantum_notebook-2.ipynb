{
 "cells": [
  {
   "cell_type": "code",
   "execution_count": 1,
   "metadata": {},
   "outputs": [],
   "source": [
    "import numpy as np\n",
    "import dreamcoder as dc\n",
    "from dreamcoder.domains.quantum_algorithms.primitives import *\n",
    "from dreamcoder.domains.quantum_algorithms.tasks import *\n",
    "from qiskit.transpiler.synthesis import solovay_kitaev\n",
    "skd = solovay_kitaev.SolovayKitaevDecomposition()\n",
    "\n",
    "import time\n",
    "from tqdm import trange\n",
    "import random\n",
    "%load_ext line_profiler\n",
    "%load_ext autoreload\n",
    "%autoreload 2"
   ]
  },
  {
   "cell_type": "code",
   "execution_count": 2,
   "metadata": {},
   "outputs": [],
   "source": [
    "# This branch of qiskit is required:  pip install git+https://github.com/LNoorl/qiskit-terra.git@feature/sk-pass"
   ]
  },
  {
   "cell_type": "code",
   "execution_count": 3,
   "metadata": {},
   "outputs": [],
   "source": [
    "basis_gates=['h',\"cx\",'t',\"tdg\"]"
   ]
  },
  {
   "cell_type": "code",
   "execution_count": 7,
   "metadata": {},
   "outputs": [],
   "source": [
    "with QiskitTester(1) as QT:\n",
    "    QT.circuit.t(0)\n",
    "    QT.circuit.t(0)\n",
    "qk.circuit.equivalence_library.StandardEquivalenceLibrary.add_equivalence(qk.circuit.library.SGate(),QT.circuit)\n",
    "\n",
    "with QiskitTester(1) as QT:\n",
    "    QT.circuit.tdg(0)\n",
    "    QT.circuit.tdg(0)\n",
    "qk.circuit.equivalence_library.StandardEquivalenceLibrary.add_equivalence(qk.circuit.library.SdgGate(),QT.circuit)\n",
    "\n",
    "class ParametricSubstitution(qk.transpiler.TransformationPass):\n",
    "    def run(self, dag):\n",
    "        # iterate over all operations\n",
    "        for node in dag.op_nodes():\n",
    "\n",
    "            # if we hit a RYY or RZZ gate replace it\n",
    "            if node.op.name in [\"p\"] and node.op.params[0]==np.pi/2:\n",
    "\n",
    "                # calculate the replacement\n",
    "                replacement = QuantumCircuit(1)\n",
    "                replacement.s([0])\n",
    "\n",
    "                # replace the node with our new decomposition\n",
    "                dag.substitute_node_with_dag(node, circuit_to_dag(replacement))\n",
    "        return dag\n",
    "pm = qk.transpiler.PassManager()\n",
    "pm.append(ParametricSubstitution())"
   ]
  },
  {
   "cell_type": "markdown",
   "metadata": {},
   "source": [
    "### Some fixed-size circuits"
   ]
  },
  {
   "cell_type": "code",
   "execution_count": null,
   "metadata": {},
   "outputs": [
    {
     "data": {
      "text/plain": [
       "(   ┌───┐┌───┐┌───┐┌───┐┌───┐┌───┐\n",
       " q: ┤ H ├┤ T ├┤ T ├┤ T ├┤ T ├┤ H ├\n",
       "    └───┘└───┘└───┘└───┘└───┘└───┘,\n",
       "    ┌───┐┌───┐┌───┐┌───┐┌───┐┌───┐\n",
       " q: ┤ H ├┤ T ├┤ T ├┤ T ├┤ T ├┤ H ├\n",
       "    └───┘└───┘└───┘└───┘└───┘└───┘)"
      ]
     },
     "metadata": {},
     "output_type": "display_data"
    }
   ],
   "source": [
    "with QiskitTester(1) as QT:\n",
    "    QT.circuit.x(QT.q(0))\n",
    "QT.circuit.draw(),qk.transpile(QT.circuit, backend, basis_gates).draw()\n",
    "QT.circuit=pm.run(QT.circuit)\n",
    "transpiled=qk.transpile(QT.circuit, backend, basis_gates)\n",
    "discretized = skd(transpiled)\n",
    "transpiled.draw(),discretized.draw()"
   ]
  },
  {
   "cell_type": "code",
   "execution_count": null,
   "metadata": {},
   "outputs": [
    {
     "data": {
      "text/plain": [
       "(global phase: π/2\n",
       "    ┌───┐┌───┐┌───┐┌───┐┌───┐┌───┐┌───┐┌───┐┌───┐┌───┐\n",
       " q: ┤ T ├┤ T ├┤ T ├┤ T ├┤ H ├┤ T ├┤ T ├┤ T ├┤ T ├┤ H ├\n",
       "    └───┘└───┘└───┘└───┘└───┘└───┘└───┘└───┘└───┘└───┘,\n",
       " global phase: π/2\n",
       "    ┌───┐┌───┐┌───┐┌───┐┌───┐┌───┐┌───┐┌───┐┌───┐┌───┐\n",
       " q: ┤ T ├┤ T ├┤ T ├┤ T ├┤ H ├┤ T ├┤ T ├┤ T ├┤ T ├┤ H ├\n",
       "    └───┘└───┘└───┘└───┘└───┘└───┘└───┘└───┘└───┘└───┘)"
      ]
     },
     "metadata": {},
     "output_type": "display_data"
    }
   ],
   "source": [
    "with QiskitTester(1) as QT:\n",
    "    QT.circuit.y(QT.q(0))\n",
    "QT.circuit.draw(),qk.transpile(QT.circuit, backend, basis_gates).draw()\n",
    "QT.circuit=pm.run(QT.circuit)\n",
    "transpiled=qk.transpile(QT.circuit, backend, basis_gates)\n",
    "discretized = skd(transpiled)\n",
    "transpiled.draw(),discretized.draw()"
   ]
  },
  {
   "cell_type": "code",
   "execution_count": null,
   "metadata": {},
   "outputs": [
    {
     "data": {
      "text/plain": [
       "(   ┌───┐\n",
       " q: ┤ Z ├\n",
       "    └───┘,\n",
       "    ┌───┐┌───┐┌───┐┌───┐\n",
       " q: ┤ T ├┤ T ├┤ T ├┤ T ├\n",
       "    └───┘└───┘└───┘└───┘,\n",
       "    ┌───┐┌───┐┌───┐┌───┐\n",
       " q: ┤ T ├┤ T ├┤ T ├┤ T ├\n",
       "    └───┘└───┘└───┘└───┘)"
      ]
     },
     "metadata": {},
     "output_type": "display_data"
    }
   ],
   "source": [
    "with QiskitTester(1) as QT:\n",
    "    QT.circuit.z(QT.q(0))\n",
    "QT.circuit=pm.run(QT.circuit)\n",
    "transpiled=qk.transpile(QT.circuit, backend, basis_gates)\n",
    "discretized = skd(transpiled)\n",
    "QT.circuit.draw(),transpiled.draw(),discretized.draw()"
   ]
  },
  {
   "cell_type": "code",
   "execution_count": null,
   "metadata": {},
   "outputs": [
    {
     "data": {
      "text/plain": [
       "array([[1.        +0.j        , 0.        +0.j        ],\n",
       "       [0.        +0.j        , 0.70710678+0.70710678j]])"
      ]
     },
     "metadata": {},
     "output_type": "display_data"
    }
   ],
   "source": [
    "with QiskitTester(1) as QT:\n",
    "    QT.circuit.t(QT.q(0))\n",
    "transpiled=qk.transpile(QT.circuit, backend, basis_gates)\n",
    "discretized = skd(QT.circuit)\n",
    "QT.circuit.draw(),discretized.draw()\n",
    "QT.result"
   ]
  },
  {
   "cell_type": "code",
   "execution_count": 69,
   "metadata": {},
   "outputs": [
    {
     "data": {
      "text/plain": [
       "(   ┌───┐\n",
       " q: ┤ S ├\n",
       "    └───┘,\n",
       "    ┌───┐┌───┐\n",
       " q: ┤ T ├┤ T ├\n",
       "    └───┘└───┘,\n",
       "    ┌───┐┌───┐\n",
       " q: ┤ T ├┤ T ├\n",
       "    └───┘└───┘)"
      ]
     },
     "execution_count": 69,
     "metadata": {},
     "output_type": "execute_result"
    }
   ],
   "source": [
    "with QiskitTester(1) as QT:\n",
    "    QT.circuit.s(0)\n",
    "QT.circuit=pm.run(QT.circuit)\n",
    "transpiled=qk.transpile(QT.circuit, backend, basis_gates)\n",
    "discretized = skd(transpiled)\n",
    "QT.circuit.draw(),transpiled.draw(),discretized.draw()"
   ]
  },
  {
   "cell_type": "code",
   "execution_count": null,
   "metadata": {},
   "outputs": [
    {
     "data": {
      "text/plain": [
       "(   ┌───┐\n",
       " q: ┤ S ├\n",
       "    └───┘,\n",
       "    ┌───┐┌───┐\n",
       " q: ┤ T ├┤ T ├\n",
       "    └───┘└───┘,\n",
       "    ┌───┐┌───┐\n",
       " q: ┤ T ├┤ T ├\n",
       "    └───┘└───┘)"
      ]
     },
     "metadata": {},
     "output_type": "display_data"
    }
   ],
   "source": [
    "with QiskitTester(1) as QT:\n",
    "    QT.circuit.append(qk.circuit.library.PhaseGate(np.pi/2),(0,))\n",
    "QT.circuit = pm.run(QT.circuit)\n",
    "transpiled=qk.transpile(QT.circuit, backend, basis_gates)\n",
    "discretized = skd(transpiled)\n",
    "QT.circuit.draw(),transpiled.draw(),discretized.draw()"
   ]
  },
  {
   "cell_type": "code",
   "execution_count": 71,
   "metadata": {},
   "outputs": [
    {
     "data": {
      "text/plain": [
       "(global phase: π/4\n",
       "    ┌─────┐┌─────┐┌───┐┌─────┐┌─────┐\n",
       " q: ┤ Tdg ├┤ Tdg ├┤ H ├┤ Tdg ├┤ Tdg ├\n",
       "    └─────┘└─────┘└───┘└─────┘└─────┘,\n",
       " global phase: π/4\n",
       "    ┌─────┐┌─────┐┌───┐┌─────┐┌─────┐\n",
       " q: ┤ Tdg ├┤ Tdg ├┤ H ├┤ Tdg ├┤ Tdg ├\n",
       "    └─────┘└─────┘└───┘└─────┘└─────┘)"
      ]
     },
     "execution_count": 71,
     "metadata": {},
     "output_type": "execute_result"
    }
   ],
   "source": [
    "with QiskitTester(1) as QT:\n",
    "    QT.circuit.sx(QT.q(0))\n",
    "QT.circuit=pm.run(QT.circuit)\n",
    "transpiled=qk.transpile(QT.circuit, backend, basis_gates)\n",
    "discretized = skd(transpiled)\n",
    "transpiled.draw(),discretized.draw()"
   ]
  },
  {
   "cell_type": "code",
   "execution_count": null,
   "metadata": {},
   "outputs": [
    {
     "data": {
      "text/plain": [
       "(     ┌──────┐\n",
       " q_0: ┤ √Xdg ├\n",
       "      └──────┘\n",
       " q_1: ────────\n",
       "              ,\n",
       " global phase: 7π/4\n",
       "      ┌───┐┌───┐┌───┐┌───┐┌───┐\n",
       " q_0: ┤ T ├┤ T ├┤ H ├┤ T ├┤ T ├\n",
       "      └───┘└───┘└───┘└───┘└───┘\n",
       " q_1: ─────────────────────────\n",
       "                               ,\n",
       " global phase: 7π/4\n",
       "      ┌───┐┌───┐┌───┐┌───┐┌───┐\n",
       " q_0: ┤ T ├┤ T ├┤ H ├┤ T ├┤ T ├\n",
       "      └───┘└───┘└───┘└───┘└───┘\n",
       " q_1: ─────────────────────────\n",
       "                               )"
      ]
     },
     "metadata": {},
     "output_type": "display_data"
    }
   ],
   "source": [
    "with QiskitTester(2) as QT:\n",
    "    QT.circuit.sxdg(QT.q(1))\n",
    "QT.circuit = pm.run( QT.circuit)\n",
    "transpiled=qk.transpile(QT.circuit, backend, basis_gates)\n",
    "discretized = skd(transpiled)\n",
    "QT.circuit.draw(),transpiled.draw(),discretized.draw()"
   ]
  },
  {
   "cell_type": "code",
   "execution_count": null,
   "metadata": {},
   "outputs": [
    {
     "data": {
      "text/plain": [
       "(     ┌───┐\n",
       " q_0: ┤ Y ├\n",
       "      └─┬─┘\n",
       " q_1: ──■──\n",
       "           ,\n",
       "      ┌─────┐┌─────┐┌───┐┌───┐┌───┐\n",
       " q_0: ┤ Tdg ├┤ Tdg ├┤ X ├┤ T ├┤ T ├\n",
       "      └─────┘└─────┘└─┬─┘└───┘└───┘\n",
       " q_1: ────────────────■────────────\n",
       "                                   ,\n",
       "      ┌─────┐┌─────┐┌───┐┌───┐┌───┐\n",
       " q_0: ┤ Tdg ├┤ Tdg ├┤ X ├┤ T ├┤ T ├\n",
       "      └─────┘└─────┘└─┬─┘└───┘└───┘\n",
       " q_1: ────────────────■────────────\n",
       "                                   )"
      ]
     },
     "metadata": {},
     "output_type": "display_data"
    }
   ],
   "source": [
    "with QiskitTester(2) as QT:\n",
    "    QT.circuit.cy(QT.q(0),QT.q(1))\n",
    "QT.circuit.draw(),qk.transpile(QT.circuit, backend, basis_gates).draw()\n",
    "transpiled=qk.transpile(QT.circuit, backend, basis_gates)\n",
    "discretized = skd(transpiled)\n",
    "QT.circuit.draw(),transpiled.draw(),discretized.draw()"
   ]
  },
  {
   "cell_type": "code",
   "execution_count": 76,
   "metadata": {},
   "outputs": [
    {
     "data": {
      "text/plain": [
       "(     ┌───┐┌───┐┌───┐\n",
       " q_0: ┤ H ├┤ X ├┤ H ├\n",
       "      └───┘└─┬─┘└───┘\n",
       " q_1: ───────■───────\n",
       "                     ,\n",
       "      ┌───┐┌───┐┌───┐\n",
       " q_0: ┤ H ├┤ X ├┤ H ├\n",
       "      └───┘└─┬─┘└───┘\n",
       " q_1: ───────■───────\n",
       "                     )"
      ]
     },
     "execution_count": 76,
     "metadata": {},
     "output_type": "execute_result"
    }
   ],
   "source": [
    "with QiskitTester(2) as QT:\n",
    "    QT.circuit.cz(QT.q(0),QT.q(1))\n",
    "QT.circuit.draw(),qk.transpile(QT.circuit, backend, basis_gates).draw()\n",
    "transpiled=qk.transpile(QT.circuit, backend, basis_gates)\n",
    "discretized = skd(transpiled)\n",
    "transpiled.draw(),discretized.draw()"
   ]
  },
  {
   "cell_type": "code",
   "execution_count": 78,
   "metadata": {},
   "outputs": [
    {
     "data": {
      "text/plain": [
       "(        \n",
       " q_0: ─X─\n",
       "       │ \n",
       " q_1: ─X─\n",
       "         ,\n",
       "      ┌───┐     ┌───┐\n",
       " q_0: ┤ X ├──■──┤ X ├\n",
       "      └─┬─┘┌─┴─┐└─┬─┘\n",
       " q_1: ──■──┤ X ├──■──\n",
       "           └───┘     ,\n",
       "      ┌───┐     ┌───┐\n",
       " q_0: ┤ X ├──■──┤ X ├\n",
       "      └─┬─┘┌─┴─┐└─┬─┘\n",
       " q_1: ──■──┤ X ├──■──\n",
       "           └───┘     )"
      ]
     },
     "execution_count": 78,
     "metadata": {},
     "output_type": "execute_result"
    }
   ],
   "source": [
    "with QiskitTester(2) as QT:\n",
    "    QT.circuit.swap(QT.q(0),QT.q(1))\n",
    "transpiled=qk.transpile(QT.circuit, backend, basis_gates)\n",
    "discretized = skd(transpiled)\n",
    "QT.circuit.draw(),transpiled.draw(),discretized.draw()"
   ]
  },
  {
   "cell_type": "code",
   "execution_count": null,
   "metadata": {},
   "outputs": [
    {
     "data": {
      "text/plain": [
       "(     ┌────────┐\n",
       " q_0: ┤1       ├\n",
       "      │  Iswap │\n",
       " q_1: ┤0       ├\n",
       "      └────────┘,\n",
       "      ┌───┐┌───┐     ┌───┐     ┌───┐\n",
       " q_0: ┤ T ├┤ T ├─────┤ X ├──■──┤ H ├\n",
       "      ├───┤├───┤┌───┐└─┬─┘┌─┴─┐└───┘\n",
       " q_1: ┤ T ├┤ T ├┤ H ├──■──┤ X ├─────\n",
       "      └───┘└───┘└───┘     └───┘     ,\n",
       "      ┌───┐┌───┐     ┌───┐     ┌───┐\n",
       " q_0: ┤ T ├┤ T ├─────┤ X ├──■──┤ H ├\n",
       "      ├───┤├───┤┌───┐└─┬─┘┌─┴─┐└───┘\n",
       " q_1: ┤ T ├┤ T ├┤ H ├──■──┤ X ├─────\n",
       "      └───┘└───┘└───┘     └───┘     )"
      ]
     },
     "metadata": {},
     "output_type": "display_data"
    }
   ],
   "source": [
    "with QiskitTester(2) as QT:\n",
    "    QT.circuit.iswap(QT.q(0),QT.q(1))\n",
    "QT.circuit = pm.run( QT.circuit)\n",
    "transpiled=qk.transpile(QT.circuit, backend, basis_gates)\n",
    "discretized = skd(transpiled)\n",
    "QT.circuit.draw(),transpiled.draw(),discretized.draw()"
   ]
  },
  {
   "cell_type": "code",
   "execution_count": 79,
   "metadata": {},
   "outputs": [
    {
     "data": {
      "text/plain": [
       "(     ┌───┐\n",
       " q_0: ┤ X ├\n",
       "      └─┬─┘\n",
       " q_1: ──■──\n",
       "        │  \n",
       " q_2: ──■──\n",
       "           ,\n",
       "      ┌───┐┌───┐┌─────┐┌───┐┌───┐┌───┐┌─────┐┌───┐┌───┐ ┌───┐      \n",
       " q_0: ┤ H ├┤ X ├┤ Tdg ├┤ X ├┤ T ├┤ X ├┤ Tdg ├┤ X ├┤ T ├─┤ H ├──────\n",
       "      └───┘└─┬─┘└─────┘└─┬─┘└───┘└─┬─┘└┬───┬┘└─┬─┘├───┤┌┴───┴┐┌───┐\n",
       " q_1: ───────■───────────┼─────────■───┤ T ├───┼──┤ X ├┤ Tdg ├┤ X ├\n",
       "                         │             └───┘   │  └─┬─┘└┬───┬┘└─┬─┘\n",
       " q_2: ───────────────────■─────────────────────■────■───┤ T ├───■──\n",
       "                                                        └───┘      ,\n",
       "      ┌───┐┌───┐┌─────┐┌───┐┌───┐┌───┐┌─────┐┌───┐┌───┐ ┌───┐      \n",
       " q_0: ┤ H ├┤ X ├┤ Tdg ├┤ X ├┤ T ├┤ X ├┤ Tdg ├┤ X ├┤ T ├─┤ H ├──────\n",
       "      └───┘└─┬─┘└─────┘└─┬─┘└───┘└─┬─┘└┬───┬┘└─┬─┘├───┤┌┴───┴┐┌───┐\n",
       " q_1: ───────■───────────┼─────────■───┤ T ├───┼──┤ X ├┤ Tdg ├┤ X ├\n",
       "                         │             └───┘   │  └─┬─┘└┬───┬┘└─┬─┘\n",
       " q_2: ───────────────────■─────────────────────■────■───┤ T ├───■──\n",
       "                                                        └───┘      )"
      ]
     },
     "execution_count": 79,
     "metadata": {},
     "output_type": "execute_result"
    }
   ],
   "source": [
    "with QiskitTester(3) as QT:\n",
    "    QT.circuit.ccx(QT.q(0),QT.q(1),QT.q(2))\n",
    "QT.circuit.draw(),qk.transpile(QT.circuit, backend, basis_gates).draw()\n",
    "transpiled=qk.transpile(QT.circuit, backend, basis_gates)\n",
    "discretized = skd(transpiled)\n",
    "QT.circuit.draw(),transpiled.draw(),discretized.draw()"
   ]
  },
  {
   "cell_type": "code",
   "execution_count": 164,
   "metadata": {},
   "outputs": [
    {
     "data": {
      "text/plain": [
       "(     ┌──────┐\n",
       " q_0: ┤1     ├\n",
       "      │  Dcx │\n",
       " q_1: ┤0     ├\n",
       "      └──────┘,\n",
       "      ┌───┐     \n",
       " q_0: ┤ X ├──■──\n",
       "      └─┬─┘┌─┴─┐\n",
       " q_1: ──■──┤ X ├\n",
       "           └───┘,\n",
       "      ┌───┐     \n",
       " q_0: ┤ X ├──■──\n",
       "      └─┬─┘┌─┴─┐\n",
       " q_1: ──■──┤ X ├\n",
       "           └───┘)"
      ]
     },
     "execution_count": 164,
     "metadata": {},
     "output_type": "execute_result"
    }
   ],
   "source": [
    "with QiskitTester(2) as QT:\n",
    "    QT.circuit.dcx(QT.q(0),QT.q(1))\n",
    "transpiled=qk.transpile(QT.circuit, backend, basis_gates)\n",
    "discretized = skd(transpiled)\n",
    "QT.circuit.draw(),transpiled.draw(),discretized.draw()"
   ]
  },
  {
   "cell_type": "code",
   "execution_count": 158,
   "metadata": {},
   "outputs": [
    {
     "data": {
      "text/plain": [
       "(     ┌───┐\n",
       " q_0: ┤ H ├\n",
       "      └─┬─┘\n",
       " q_1: ──■──\n",
       "           ,\n",
       "      ┌───┐┌───┐┌───┐┌───┐┌─────┐┌───┐┌─────┐\n",
       " q_0: ┤ S ├┤ H ├┤ T ├┤ X ├┤ Tdg ├┤ H ├┤ Sdg ├\n",
       "      └───┘└───┘└───┘└─┬─┘└─────┘└───┘└─────┘\n",
       " q_1: ─────────────────■─────────────────────\n",
       "                                             ,\n",
       "      ┌───┐┌───┐┌───┐┌───┐┌───┐┌─────┐┌───┐┌─────┐┌─────┐\n",
       " q_0: ┤ T ├┤ T ├┤ H ├┤ T ├┤ X ├┤ Tdg ├┤ H ├┤ Tdg ├┤ Tdg ├\n",
       "      └───┘└───┘└───┘└───┘└─┬─┘└─────┘└───┘└─────┘└─────┘\n",
       " q_1: ──────────────────────■────────────────────────────\n",
       "                                                         )"
      ]
     },
     "execution_count": 158,
     "metadata": {},
     "output_type": "execute_result"
    }
   ],
   "source": [
    "with QiskitTester(2) as QT:\n",
    "    QT.circuit.ch(QT.q(0),QT.q(1))\n",
    "transpiled=qk.transpile(QT.circuit, backend, basis_gates)\n",
    "discretized = skd(transpiled)\n",
    "QT.circuit.draw(),transpiled.draw(),discretized.draw()"
   ]
  },
  {
   "cell_type": "code",
   "execution_count": 165,
   "metadata": {},
   "outputs": [
    {
     "data": {
      "text/plain": [
       "(        \n",
       " q_0: ─X─\n",
       "       │ \n",
       " q_1: ─X─\n",
       "       │ \n",
       " q_2: ─■─\n",
       "         ,\n",
       "           ┌───┐┌───┐┌─────┐┌───┐┌───┐┌───┐┌─────┐┌───┐┌───┐ ┌───┐           \n",
       " q_0: ──■──┤ H ├┤ X ├┤ Tdg ├┤ X ├┤ T ├┤ X ├┤ Tdg ├┤ X ├┤ T ├─┤ H ├────────■──\n",
       "      ┌─┴─┐└───┘└─┬─┘└─────┘└─┬─┘└───┘└─┬─┘└┬───┬┘└─┬─┘├───┤┌┴───┴┐┌───┐┌─┴─┐\n",
       " q_1: ┤ X ├───────■───────────┼─────────■───┤ T ├───┼──┤ X ├┤ Tdg ├┤ X ├┤ X ├\n",
       "      └───┘                   │             └───┘   │  └─┬─┘└┬───┬┘└─┬─┘└───┘\n",
       " q_2: ────────────────────────■─────────────────────■────■───┤ T ├───■───────\n",
       "                                                             └───┘           ,\n",
       "           ┌───┐┌───┐┌─────┐┌───┐┌───┐┌───┐┌─────┐┌───┐┌───┐ ┌───┐           \n",
       " q_0: ──■──┤ H ├┤ X ├┤ Tdg ├┤ X ├┤ T ├┤ X ├┤ Tdg ├┤ X ├┤ T ├─┤ H ├────────■──\n",
       "      ┌─┴─┐└───┘└─┬─┘└─────┘└─┬─┘└───┘└─┬─┘└┬───┬┘└─┬─┘├───┤┌┴───┴┐┌───┐┌─┴─┐\n",
       " q_1: ┤ X ├───────■───────────┼─────────■───┤ T ├───┼──┤ X ├┤ Tdg ├┤ X ├┤ X ├\n",
       "      └───┘                   │             └───┘   │  └─┬─┘└┬───┬┘└─┬─┘└───┘\n",
       " q_2: ────────────────────────■─────────────────────■────■───┤ T ├───■───────\n",
       "                                                             └───┘           )"
      ]
     },
     "execution_count": 165,
     "metadata": {},
     "output_type": "execute_result"
    }
   ],
   "source": [
    "with QiskitTester(3) as QT:\n",
    "    QT.circuit.cswap(QT.q(0),QT.q(1),QT.q(2))\n",
    "transpiled=qk.transpile(QT.circuit, backend, basis_gates)\n",
    "discretized = skd(transpiled)\n",
    "QT.circuit.draw(),transpiled.draw(),discretized.draw()"
   ]
  },
  {
   "cell_type": "code",
   "execution_count": null,
   "metadata": {},
   "outputs": [],
   "source": []
  },
  {
   "cell_type": "code",
   "execution_count": null,
   "metadata": {},
   "outputs": [],
   "source": []
  },
  {
   "cell_type": "code",
   "execution_count": null,
   "metadata": {},
   "outputs": [],
   "source": []
  },
  {
   "cell_type": "code",
   "execution_count": 64,
   "metadata": {},
   "outputs": [
    {
     "data": {
      "text/plain": [
       "(          ┌───┐\n",
       " q_0: ─────┤ X ├\n",
       "      ┌───┐└─┬─┘\n",
       " q_1: ┤ H ├──■──\n",
       "      └───┘     ,\n",
       "           ┌───┐\n",
       " q_0: ─────┤ X ├\n",
       "      ┌───┐└─┬─┘\n",
       " q_1: ┤ H ├──■──\n",
       "      └───┘     ,\n",
       "           ┌───┐\n",
       " q_0: ─────┤ X ├\n",
       "      ┌───┐└─┬─┘\n",
       " q_1: ┤ H ├──■──\n",
       "      └───┘     )"
      ]
     },
     "execution_count": 64,
     "metadata": {},
     "output_type": "execute_result"
    }
   ],
   "source": [
    "# Bell\n",
    "with QiskitTester(2) as QT:\n",
    "    QT.circuit.h(QT.q(0))\n",
    "    QT.circuit.cx(QT.q(0),QT.q(1))\n",
    "transpiled=qk.transpile(QT.circuit, backend, basis_gates)\n",
    "discretized = skd(transpiled)\n",
    "QT.circuit.draw(),transpiled.draw(),discretized.draw()"
   ]
  },
  {
   "cell_type": "code",
   "execution_count": 66,
   "metadata": {},
   "outputs": [
    {
     "data": {
      "text/plain": [
       "(               ┌───┐\n",
       " q_0: ──────────┤ X ├\n",
       "           ┌───┐└─┬─┘\n",
       " q_1: ─────┤ X ├──┼──\n",
       "      ┌───┐└─┬─┘  │  \n",
       " q_2: ┤ H ├──■────■──\n",
       "      └───┘          ,\n",
       "                ┌───┐\n",
       " q_0: ──────────┤ X ├\n",
       "           ┌───┐└─┬─┘\n",
       " q_1: ─────┤ X ├──┼──\n",
       "      ┌───┐└─┬─┘  │  \n",
       " q_2: ┤ H ├──■────■──\n",
       "      └───┘          ,\n",
       "                ┌───┐\n",
       " q_0: ──────────┤ X ├\n",
       "           ┌───┐└─┬─┘\n",
       " q_1: ─────┤ X ├──┼──\n",
       "      ┌───┐└─┬─┘  │  \n",
       " q_2: ┤ H ├──■────■──\n",
       "      └───┘          )"
      ]
     },
     "execution_count": 66,
     "metadata": {},
     "output_type": "execute_result"
    }
   ],
   "source": [
    "# GHZ\n",
    "with QiskitTester(3) as QT:\n",
    "    QT.circuit.h(QT.q(0))\n",
    "    QT.circuit.cx(QT.q(0),QT.q(1))\n",
    "    QT.circuit.cx(QT.q(0),QT.q(2))\n",
    "transpiled=qk.transpile(QT.circuit, backend, basis_gates)\n",
    "discretized = skd(transpiled)\n",
    "QT.circuit.draw(),transpiled.draw(),discretized.draw()"
   ]
  },
  {
   "cell_type": "code",
   "execution_count": null,
   "metadata": {},
   "outputs": [],
   "source": []
  },
  {
   "cell_type": "code",
   "execution_count": null,
   "metadata": {},
   "outputs": [],
   "source": []
  },
  {
   "cell_type": "code",
   "execution_count": null,
   "metadata": {},
   "outputs": [],
   "source": []
  },
  {
   "cell_type": "markdown",
   "metadata": {},
   "source": [
    "### Invalid"
   ]
  },
  {
   "cell_type": "code",
   "execution_count": 166,
   "metadata": {},
   "outputs": [
    {
     "ename": "TranspilerError",
     "evalue": "\"Unable to map source basis {('csx', 2)} to target basis {'cx', 'snapshot', 't', 'tdg', 'reset', 'delay', 'barrier', 'h', 'measure'} over library <qiskit.circuit.equivalence.EquivalenceLibrary object at 0x1506702481f0>.\"",
     "output_type": "error",
     "traceback": [
      "\u001b[0;31m---------------------------------------------------------------------------\u001b[0m",
      "\u001b[0;31mTranspilerError\u001b[0m                           Traceback (most recent call last)",
      "\u001b[1;32m/u/lsarra/notebooks/unitary-synthesis/ec/quantum_notebook-2.ipynb Cell 44'\u001b[0m in \u001b[0;36m<cell line: 4>\u001b[0;34m()\u001b[0m\n\u001b[1;32m      <a href='vscode-notebook-cell://ssh-remote%2Bzpg003/u/lsarra/notebooks/unitary-synthesis/ec/quantum_notebook-2.ipynb#ch0000043vscode-remote?line=1'>2</a>\u001b[0m     QT\u001b[39m.\u001b[39mcircuit\u001b[39m.\u001b[39mcsx(QT\u001b[39m.\u001b[39mq(\u001b[39m0\u001b[39m),QT\u001b[39m.\u001b[39mq(\u001b[39m1\u001b[39m))\n\u001b[1;32m      <a href='vscode-notebook-cell://ssh-remote%2Bzpg003/u/lsarra/notebooks/unitary-synthesis/ec/quantum_notebook-2.ipynb#ch0000043vscode-remote?line=2'>3</a>\u001b[0m QT\u001b[39m.\u001b[39mresult\n\u001b[0;32m----> <a href='vscode-notebook-cell://ssh-remote%2Bzpg003/u/lsarra/notebooks/unitary-synthesis/ec/quantum_notebook-2.ipynb#ch0000043vscode-remote?line=3'>4</a>\u001b[0m transpiled\u001b[39m=\u001b[39mqk\u001b[39m.\u001b[39;49mtranspile(QT\u001b[39m.\u001b[39;49mcircuit, backend, basis_gates)\n\u001b[1;32m      <a href='vscode-notebook-cell://ssh-remote%2Bzpg003/u/lsarra/notebooks/unitary-synthesis/ec/quantum_notebook-2.ipynb#ch0000043vscode-remote?line=4'>5</a>\u001b[0m discretized \u001b[39m=\u001b[39m skd(transpiled)\n\u001b[1;32m      <a href='vscode-notebook-cell://ssh-remote%2Bzpg003/u/lsarra/notebooks/unitary-synthesis/ec/quantum_notebook-2.ipynb#ch0000043vscode-remote?line=5'>6</a>\u001b[0m QT\u001b[39m.\u001b[39mcircuit\u001b[39m.\u001b[39mdraw(),transpiled\u001b[39m.\u001b[39mdraw(),discretized\u001b[39m.\u001b[39mdraw()\n",
      "File \u001b[0;32m~/conda-envs/dc2/lib/python3.8/site-packages/qiskit/compiler/transpiler.py:303\u001b[0m, in \u001b[0;36mtranspile\u001b[0;34m(circuits, backend, basis_gates, inst_map, coupling_map, backend_properties, initial_layout, layout_method, routing_method, translation_method, scheduling_method, instruction_durations, dt, approximation_degree, timing_constraints, seed_transpiler, optimization_level, callback, output_name, unitary_synthesis_method, unitary_synthesis_plugin_config, target)\u001b[0m\n\u001b[1;32m    <a href='file:///u/lsarra/conda-envs/dc2/lib/python3.8/site-packages/qiskit/compiler/transpiler.py?line=299'>300</a>\u001b[0m _check_circuits_coupling_map(circuits, transpile_args, backend)\n\u001b[1;32m    <a href='file:///u/lsarra/conda-envs/dc2/lib/python3.8/site-packages/qiskit/compiler/transpiler.py?line=301'>302</a>\u001b[0m \u001b[39m# Transpile circuits in parallel\u001b[39;00m\n\u001b[0;32m--> <a href='file:///u/lsarra/conda-envs/dc2/lib/python3.8/site-packages/qiskit/compiler/transpiler.py?line=302'>303</a>\u001b[0m circuits \u001b[39m=\u001b[39m parallel_map(_transpile_circuit, \u001b[39mlist\u001b[39;49m(\u001b[39mzip\u001b[39;49m(circuits, transpile_args)))\n\u001b[1;32m    <a href='file:///u/lsarra/conda-envs/dc2/lib/python3.8/site-packages/qiskit/compiler/transpiler.py?line=304'>305</a>\u001b[0m end_time \u001b[39m=\u001b[39m time()\n\u001b[1;32m    <a href='file:///u/lsarra/conda-envs/dc2/lib/python3.8/site-packages/qiskit/compiler/transpiler.py?line=305'>306</a>\u001b[0m _log_transpile_time(start_time, end_time)\n",
      "File \u001b[0;32m~/conda-envs/dc2/lib/python3.8/site-packages/qiskit/tools/parallel.py:129\u001b[0m, in \u001b[0;36mparallel_map\u001b[0;34m(task, values, task_args, task_kwargs, num_processes)\u001b[0m\n\u001b[1;32m    <a href='file:///u/lsarra/conda-envs/dc2/lib/python3.8/site-packages/qiskit/tools/parallel.py?line=126'>127</a>\u001b[0m     \u001b[39mreturn\u001b[39;00m []\n\u001b[1;32m    <a href='file:///u/lsarra/conda-envs/dc2/lib/python3.8/site-packages/qiskit/tools/parallel.py?line=127'>128</a>\u001b[0m \u001b[39mif\u001b[39;00m \u001b[39mlen\u001b[39m(values) \u001b[39m==\u001b[39m \u001b[39m1\u001b[39m:\n\u001b[0;32m--> <a href='file:///u/lsarra/conda-envs/dc2/lib/python3.8/site-packages/qiskit/tools/parallel.py?line=128'>129</a>\u001b[0m     \u001b[39mreturn\u001b[39;00m [task(values[\u001b[39m0\u001b[39;49m], \u001b[39m*\u001b[39;49mtask_args, \u001b[39m*\u001b[39;49m\u001b[39m*\u001b[39;49mtask_kwargs)]\n\u001b[1;32m    <a href='file:///u/lsarra/conda-envs/dc2/lib/python3.8/site-packages/qiskit/tools/parallel.py?line=130'>131</a>\u001b[0m Publisher()\u001b[39m.\u001b[39mpublish(\u001b[39m\"\u001b[39m\u001b[39mterra.parallel.start\u001b[39m\u001b[39m\"\u001b[39m, \u001b[39mlen\u001b[39m(values))\n\u001b[1;32m    <a href='file:///u/lsarra/conda-envs/dc2/lib/python3.8/site-packages/qiskit/tools/parallel.py?line=131'>132</a>\u001b[0m nfinished \u001b[39m=\u001b[39m [\u001b[39m0\u001b[39m]\n",
      "File \u001b[0;32m~/conda-envs/dc2/lib/python3.8/site-packages/qiskit/compiler/transpiler.py:386\u001b[0m, in \u001b[0;36m_transpile_circuit\u001b[0;34m(circuit_config_tuple)\u001b[0m\n\u001b[1;32m    <a href='file:///u/lsarra/conda-envs/dc2/lib/python3.8/site-packages/qiskit/compiler/transpiler.py?line=382'>383</a>\u001b[0m \u001b[39melse\u001b[39;00m:\n\u001b[1;32m    <a href='file:///u/lsarra/conda-envs/dc2/lib/python3.8/site-packages/qiskit/compiler/transpiler.py?line=383'>384</a>\u001b[0m     \u001b[39mraise\u001b[39;00m TranspilerError(\u001b[39m\"\u001b[39m\u001b[39moptimization_level can range from 0 to 3.\u001b[39m\u001b[39m\"\u001b[39m)\n\u001b[0;32m--> <a href='file:///u/lsarra/conda-envs/dc2/lib/python3.8/site-packages/qiskit/compiler/transpiler.py?line=385'>386</a>\u001b[0m result \u001b[39m=\u001b[39m pass_manager\u001b[39m.\u001b[39;49mrun(\n\u001b[1;32m    <a href='file:///u/lsarra/conda-envs/dc2/lib/python3.8/site-packages/qiskit/compiler/transpiler.py?line=386'>387</a>\u001b[0m     circuit, callback\u001b[39m=\u001b[39;49mtranspile_config[\u001b[39m\"\u001b[39;49m\u001b[39mcallback\u001b[39;49m\u001b[39m\"\u001b[39;49m], output_name\u001b[39m=\u001b[39;49mtranspile_config[\u001b[39m\"\u001b[39;49m\u001b[39moutput_name\u001b[39;49m\u001b[39m\"\u001b[39;49m]\n\u001b[1;32m    <a href='file:///u/lsarra/conda-envs/dc2/lib/python3.8/site-packages/qiskit/compiler/transpiler.py?line=387'>388</a>\u001b[0m )\n\u001b[1;32m    <a href='file:///u/lsarra/conda-envs/dc2/lib/python3.8/site-packages/qiskit/compiler/transpiler.py?line=389'>390</a>\u001b[0m \u001b[39mif\u001b[39;00m transpile_config[\u001b[39m\"\u001b[39m\u001b[39mfaulty_qubits_map\u001b[39m\u001b[39m\"\u001b[39m]:\n\u001b[1;32m    <a href='file:///u/lsarra/conda-envs/dc2/lib/python3.8/site-packages/qiskit/compiler/transpiler.py?line=390'>391</a>\u001b[0m     \u001b[39mreturn\u001b[39;00m _remap_circuit_faulty_backend(\n\u001b[1;32m    <a href='file:///u/lsarra/conda-envs/dc2/lib/python3.8/site-packages/qiskit/compiler/transpiler.py?line=391'>392</a>\u001b[0m         result,\n\u001b[1;32m    <a href='file:///u/lsarra/conda-envs/dc2/lib/python3.8/site-packages/qiskit/compiler/transpiler.py?line=392'>393</a>\u001b[0m         transpile_config[\u001b[39m\"\u001b[39m\u001b[39mbackend_num_qubits\u001b[39m\u001b[39m\"\u001b[39m],\n\u001b[1;32m    <a href='file:///u/lsarra/conda-envs/dc2/lib/python3.8/site-packages/qiskit/compiler/transpiler.py?line=393'>394</a>\u001b[0m         pass_manager_config\u001b[39m.\u001b[39mbackend_properties,\n\u001b[1;32m    <a href='file:///u/lsarra/conda-envs/dc2/lib/python3.8/site-packages/qiskit/compiler/transpiler.py?line=394'>395</a>\u001b[0m         transpile_config[\u001b[39m\"\u001b[39m\u001b[39mfaulty_qubits_map\u001b[39m\u001b[39m\"\u001b[39m],\n\u001b[1;32m    <a href='file:///u/lsarra/conda-envs/dc2/lib/python3.8/site-packages/qiskit/compiler/transpiler.py?line=395'>396</a>\u001b[0m     )\n",
      "File \u001b[0;32m~/conda-envs/dc2/lib/python3.8/site-packages/qiskit/transpiler/passmanager.py:222\u001b[0m, in \u001b[0;36mPassManager.run\u001b[0;34m(self, circuits, output_name, callback)\u001b[0m\n\u001b[1;32m    <a href='file:///u/lsarra/conda-envs/dc2/lib/python3.8/site-packages/qiskit/transpiler/passmanager.py?line=219'>220</a>\u001b[0m     \u001b[39mreturn\u001b[39;00m circuits\n\u001b[1;32m    <a href='file:///u/lsarra/conda-envs/dc2/lib/python3.8/site-packages/qiskit/transpiler/passmanager.py?line=220'>221</a>\u001b[0m \u001b[39mif\u001b[39;00m \u001b[39misinstance\u001b[39m(circuits, QuantumCircuit):\n\u001b[0;32m--> <a href='file:///u/lsarra/conda-envs/dc2/lib/python3.8/site-packages/qiskit/transpiler/passmanager.py?line=221'>222</a>\u001b[0m     \u001b[39mreturn\u001b[39;00m \u001b[39mself\u001b[39;49m\u001b[39m.\u001b[39;49m_run_single_circuit(circuits, output_name, callback)\n\u001b[1;32m    <a href='file:///u/lsarra/conda-envs/dc2/lib/python3.8/site-packages/qiskit/transpiler/passmanager.py?line=222'>223</a>\u001b[0m \u001b[39mif\u001b[39;00m \u001b[39mlen\u001b[39m(circuits) \u001b[39m==\u001b[39m \u001b[39m1\u001b[39m:\n\u001b[1;32m    <a href='file:///u/lsarra/conda-envs/dc2/lib/python3.8/site-packages/qiskit/transpiler/passmanager.py?line=223'>224</a>\u001b[0m     \u001b[39mreturn\u001b[39;00m \u001b[39mself\u001b[39m\u001b[39m.\u001b[39m_run_single_circuit(circuits[\u001b[39m0\u001b[39m], output_name, callback)\n",
      "File \u001b[0;32m~/conda-envs/dc2/lib/python3.8/site-packages/qiskit/transpiler/passmanager.py:277\u001b[0m, in \u001b[0;36mPassManager._run_single_circuit\u001b[0;34m(self, circuit, output_name, callback)\u001b[0m\n\u001b[1;32m    <a href='file:///u/lsarra/conda-envs/dc2/lib/python3.8/site-packages/qiskit/transpiler/passmanager.py?line=264'>265</a>\u001b[0m \u001b[39m\"\"\"Run all the passes on a ``circuit``.\u001b[39;00m\n\u001b[1;32m    <a href='file:///u/lsarra/conda-envs/dc2/lib/python3.8/site-packages/qiskit/transpiler/passmanager.py?line=265'>266</a>\u001b[0m \n\u001b[1;32m    <a href='file:///u/lsarra/conda-envs/dc2/lib/python3.8/site-packages/qiskit/transpiler/passmanager.py?line=266'>267</a>\u001b[0m \u001b[39mArgs:\u001b[39;00m\n\u001b[0;32m   (...)\u001b[0m\n\u001b[1;32m    <a href='file:///u/lsarra/conda-envs/dc2/lib/python3.8/site-packages/qiskit/transpiler/passmanager.py?line=273'>274</a>\u001b[0m \u001b[39m    The transformed circuit.\u001b[39;00m\n\u001b[1;32m    <a href='file:///u/lsarra/conda-envs/dc2/lib/python3.8/site-packages/qiskit/transpiler/passmanager.py?line=274'>275</a>\u001b[0m \u001b[39m\"\"\"\u001b[39;00m\n\u001b[1;32m    <a href='file:///u/lsarra/conda-envs/dc2/lib/python3.8/site-packages/qiskit/transpiler/passmanager.py?line=275'>276</a>\u001b[0m running_passmanager \u001b[39m=\u001b[39m \u001b[39mself\u001b[39m\u001b[39m.\u001b[39m_create_running_passmanager()\n\u001b[0;32m--> <a href='file:///u/lsarra/conda-envs/dc2/lib/python3.8/site-packages/qiskit/transpiler/passmanager.py?line=276'>277</a>\u001b[0m result \u001b[39m=\u001b[39m running_passmanager\u001b[39m.\u001b[39;49mrun(circuit, output_name\u001b[39m=\u001b[39;49moutput_name, callback\u001b[39m=\u001b[39;49mcallback)\n\u001b[1;32m    <a href='file:///u/lsarra/conda-envs/dc2/lib/python3.8/site-packages/qiskit/transpiler/passmanager.py?line=277'>278</a>\u001b[0m \u001b[39mself\u001b[39m\u001b[39m.\u001b[39mproperty_set \u001b[39m=\u001b[39m running_passmanager\u001b[39m.\u001b[39mproperty_set\n\u001b[1;32m    <a href='file:///u/lsarra/conda-envs/dc2/lib/python3.8/site-packages/qiskit/transpiler/passmanager.py?line=278'>279</a>\u001b[0m \u001b[39mreturn\u001b[39;00m result\n",
      "File \u001b[0;32m~/conda-envs/dc2/lib/python3.8/site-packages/qiskit/transpiler/runningpassmanager.py:124\u001b[0m, in \u001b[0;36mRunningPassManager.run\u001b[0;34m(***failed resolving arguments***)\u001b[0m\n\u001b[1;32m    <a href='file:///u/lsarra/conda-envs/dc2/lib/python3.8/site-packages/qiskit/transpiler/runningpassmanager.py?line=121'>122</a>\u001b[0m \u001b[39mfor\u001b[39;00m passset \u001b[39min\u001b[39;00m \u001b[39mself\u001b[39m\u001b[39m.\u001b[39mworking_list:\n\u001b[1;32m    <a href='file:///u/lsarra/conda-envs/dc2/lib/python3.8/site-packages/qiskit/transpiler/runningpassmanager.py?line=122'>123</a>\u001b[0m     \u001b[39mfor\u001b[39;00m pass_ \u001b[39min\u001b[39;00m passset:\n\u001b[0;32m--> <a href='file:///u/lsarra/conda-envs/dc2/lib/python3.8/site-packages/qiskit/transpiler/runningpassmanager.py?line=123'>124</a>\u001b[0m         dag \u001b[39m=\u001b[39m \u001b[39mself\u001b[39;49m\u001b[39m.\u001b[39;49m_do_pass(pass_, dag, passset\u001b[39m.\u001b[39;49moptions)\n\u001b[1;32m    <a href='file:///u/lsarra/conda-envs/dc2/lib/python3.8/site-packages/qiskit/transpiler/runningpassmanager.py?line=125'>126</a>\u001b[0m circuit \u001b[39m=\u001b[39m dag_to_circuit(dag)\n\u001b[1;32m    <a href='file:///u/lsarra/conda-envs/dc2/lib/python3.8/site-packages/qiskit/transpiler/runningpassmanager.py?line=126'>127</a>\u001b[0m \u001b[39mif\u001b[39;00m output_name:\n",
      "File \u001b[0;32m~/conda-envs/dc2/lib/python3.8/site-packages/qiskit/transpiler/runningpassmanager.py:157\u001b[0m, in \u001b[0;36mRunningPassManager._do_pass\u001b[0;34m(self, pass_, dag, options)\u001b[0m\n\u001b[1;32m    <a href='file:///u/lsarra/conda-envs/dc2/lib/python3.8/site-packages/qiskit/transpiler/runningpassmanager.py?line=154'>155</a>\u001b[0m \u001b[39m# Run the pass itself, if not already run\u001b[39;00m\n\u001b[1;32m    <a href='file:///u/lsarra/conda-envs/dc2/lib/python3.8/site-packages/qiskit/transpiler/runningpassmanager.py?line=155'>156</a>\u001b[0m \u001b[39mif\u001b[39;00m pass_ \u001b[39mnot\u001b[39;00m \u001b[39min\u001b[39;00m \u001b[39mself\u001b[39m\u001b[39m.\u001b[39mvalid_passes:\n\u001b[0;32m--> <a href='file:///u/lsarra/conda-envs/dc2/lib/python3.8/site-packages/qiskit/transpiler/runningpassmanager.py?line=156'>157</a>\u001b[0m     dag \u001b[39m=\u001b[39m \u001b[39mself\u001b[39;49m\u001b[39m.\u001b[39;49m_run_this_pass(pass_, dag)\n\u001b[1;32m    <a href='file:///u/lsarra/conda-envs/dc2/lib/python3.8/site-packages/qiskit/transpiler/runningpassmanager.py?line=158'>159</a>\u001b[0m     \u001b[39m# update the valid_passes property\u001b[39;00m\n\u001b[1;32m    <a href='file:///u/lsarra/conda-envs/dc2/lib/python3.8/site-packages/qiskit/transpiler/runningpassmanager.py?line=159'>160</a>\u001b[0m     \u001b[39mself\u001b[39m\u001b[39m.\u001b[39m_update_valid_passes(pass_)\n",
      "File \u001b[0;32m~/conda-envs/dc2/lib/python3.8/site-packages/qiskit/transpiler/runningpassmanager.py:186\u001b[0m, in \u001b[0;36mRunningPassManager._run_this_pass\u001b[0;34m(self, pass_, dag)\u001b[0m\n\u001b[1;32m    <a href='file:///u/lsarra/conda-envs/dc2/lib/python3.8/site-packages/qiskit/transpiler/runningpassmanager.py?line=182'>183</a>\u001b[0m \u001b[39mif\u001b[39;00m pass_\u001b[39m.\u001b[39mis_transformation_pass:\n\u001b[1;32m    <a href='file:///u/lsarra/conda-envs/dc2/lib/python3.8/site-packages/qiskit/transpiler/runningpassmanager.py?line=183'>184</a>\u001b[0m     \u001b[39m# Measure time if we have a callback or logging set\u001b[39;00m\n\u001b[1;32m    <a href='file:///u/lsarra/conda-envs/dc2/lib/python3.8/site-packages/qiskit/transpiler/runningpassmanager.py?line=184'>185</a>\u001b[0m     start_time \u001b[39m=\u001b[39m time()\n\u001b[0;32m--> <a href='file:///u/lsarra/conda-envs/dc2/lib/python3.8/site-packages/qiskit/transpiler/runningpassmanager.py?line=185'>186</a>\u001b[0m     new_dag \u001b[39m=\u001b[39m pass_\u001b[39m.\u001b[39;49mrun(dag)\n\u001b[1;32m    <a href='file:///u/lsarra/conda-envs/dc2/lib/python3.8/site-packages/qiskit/transpiler/runningpassmanager.py?line=186'>187</a>\u001b[0m     end_time \u001b[39m=\u001b[39m time()\n\u001b[1;32m    <a href='file:///u/lsarra/conda-envs/dc2/lib/python3.8/site-packages/qiskit/transpiler/runningpassmanager.py?line=187'>188</a>\u001b[0m     run_time \u001b[39m=\u001b[39m end_time \u001b[39m-\u001b[39m start_time\n",
      "File \u001b[0;32m~/conda-envs/dc2/lib/python3.8/site-packages/qiskit/transpiler/passes/basis/basis_translator.py:206\u001b[0m, in \u001b[0;36mBasisTranslator.run\u001b[0;34m(self, dag)\u001b[0m\n\u001b[1;32m    <a href='file:///u/lsarra/conda-envs/dc2/lib/python3.8/site-packages/qiskit/transpiler/passes/basis/basis_translator.py?line=200'>201</a>\u001b[0m logger\u001b[39m.\u001b[39minfo(\n\u001b[1;32m    <a href='file:///u/lsarra/conda-envs/dc2/lib/python3.8/site-packages/qiskit/transpiler/passes/basis/basis_translator.py?line=201'>202</a>\u001b[0m     \u001b[39m\"\u001b[39m\u001b[39mBasis translation path search completed in \u001b[39m\u001b[39m%.3f\u001b[39;00m\u001b[39ms.\u001b[39m\u001b[39m\"\u001b[39m, search_end_time \u001b[39m-\u001b[39m search_start_time\n\u001b[1;32m    <a href='file:///u/lsarra/conda-envs/dc2/lib/python3.8/site-packages/qiskit/transpiler/passes/basis/basis_translator.py?line=202'>203</a>\u001b[0m )\n\u001b[1;32m    <a href='file:///u/lsarra/conda-envs/dc2/lib/python3.8/site-packages/qiskit/transpiler/passes/basis/basis_translator.py?line=204'>205</a>\u001b[0m \u001b[39mif\u001b[39;00m basis_transforms \u001b[39mis\u001b[39;00m \u001b[39mNone\u001b[39;00m:\n\u001b[0;32m--> <a href='file:///u/lsarra/conda-envs/dc2/lib/python3.8/site-packages/qiskit/transpiler/passes/basis/basis_translator.py?line=205'>206</a>\u001b[0m     \u001b[39mraise\u001b[39;00m TranspilerError(\n\u001b[1;32m    <a href='file:///u/lsarra/conda-envs/dc2/lib/python3.8/site-packages/qiskit/transpiler/passes/basis/basis_translator.py?line=206'>207</a>\u001b[0m         \u001b[39m\"\u001b[39m\u001b[39mUnable to map source basis \u001b[39m\u001b[39m{}\u001b[39;00m\u001b[39m to target basis \u001b[39m\u001b[39m{}\u001b[39;00m\u001b[39m \u001b[39m\u001b[39m\"\u001b[39m\n\u001b[1;32m    <a href='file:///u/lsarra/conda-envs/dc2/lib/python3.8/site-packages/qiskit/transpiler/passes/basis/basis_translator.py?line=207'>208</a>\u001b[0m         \u001b[39m\"\u001b[39m\u001b[39mover library \u001b[39m\u001b[39m{}\u001b[39;00m\u001b[39m.\u001b[39m\u001b[39m\"\u001b[39m\u001b[39m.\u001b[39mformat(source_basis, target_basis, \u001b[39mself\u001b[39m\u001b[39m.\u001b[39m_equiv_lib)\n\u001b[1;32m    <a href='file:///u/lsarra/conda-envs/dc2/lib/python3.8/site-packages/qiskit/transpiler/passes/basis/basis_translator.py?line=208'>209</a>\u001b[0m     )\n\u001b[1;32m    <a href='file:///u/lsarra/conda-envs/dc2/lib/python3.8/site-packages/qiskit/transpiler/passes/basis/basis_translator.py?line=210'>211</a>\u001b[0m \u001b[39m# Compose found path into a set of instruction substitution rules.\u001b[39;00m\n\u001b[1;32m    <a href='file:///u/lsarra/conda-envs/dc2/lib/python3.8/site-packages/qiskit/transpiler/passes/basis/basis_translator.py?line=212'>213</a>\u001b[0m compose_start_time \u001b[39m=\u001b[39m time\u001b[39m.\u001b[39mtime()\n",
      "\u001b[0;31mTranspilerError\u001b[0m: \"Unable to map source basis {('csx', 2)} to target basis {'cx', 'snapshot', 't', 'tdg', 'reset', 'delay', 'barrier', 'h', 'measure'} over library <qiskit.circuit.equivalence.EquivalenceLibrary object at 0x1506702481f0>.\""
     ]
    }
   ],
   "source": [
    "with QiskitTester(2) as QT:\n",
    "    QT.circuit.csx(QT.q(0),QT.q(1))\n",
    "QT.result\n",
    "transpiled=qk.transpile(QT.circuit, backend, basis_gates)\n",
    "discretized = skd(transpiled)\n",
    "QT.circuit.draw(),transpiled.draw(),discretized.draw()"
   ]
  },
  {
   "cell_type": "code",
   "execution_count": null,
   "metadata": {},
   "outputs": [
    {
     "data": {
      "text/plain": [
       "array([[1.        +0.j        , 0.        +0.j        ],\n",
       "       [0.        +0.j        , 0.92387953+0.38268343j]])"
      ]
     },
     "metadata": {},
     "output_type": "display_data"
    }
   ],
   "source": [
    "with QiskitTester(1) as QT:\n",
    "    QT.circuit.p(np.pi/8,QT.q(0))\n",
    "QT.circuit.draw()\n",
    "QT.result"
   ]
  },
  {
   "cell_type": "code",
   "execution_count": null,
   "metadata": {},
   "outputs": [
    {
     "ename": "TranspilerError",
     "evalue": "\"Unable to map source basis {('p', 1)} to target basis {'cx', 'snapshot', 't', 'tdg', 'reset', 'delay', 'barrier', 'h', 'measure'} over library <qiskit.circuit.equivalence.EquivalenceLibrary object at 0x1506702481f0>.\"",
     "output_type": "error",
     "traceback": [
      "\u001b[0;31m---------------------------------------------------------------------------\u001b[0m\n",
      "\u001b[0;31mTranspilerError\u001b[0m                           Traceback (most recent call last)\n",
      "\u001b[1;32m/u/lsarra/notebooks/unitary-synthesis/ec/quantum_notebook-2.ipynb Cell 20'\u001b[0m in \u001b[0;36m<cell line: 6>\u001b[0;34m()\u001b[0m\n",
      "\u001b[1;32m      <a href='vscode-notebook-cell://ssh-remote%2Bzpg003/u/lsarra/notebooks/unitary-synthesis/ec/quantum_notebook-2.ipynb#ch0000020vscode-remote?line=3'>4</a>\u001b[0m QT\u001b[39m.\u001b[39mcircuit\u001b[39m.\u001b[39mdraw()\n",
      "\u001b[1;32m      <a href='vscode-notebook-cell://ssh-remote%2Bzpg003/u/lsarra/notebooks/unitary-synthesis/ec/quantum_notebook-2.ipynb#ch0000020vscode-remote?line=4'>5</a>\u001b[0m QT\u001b[39m.\u001b[39mcircuit\u001b[39m=\u001b[39mpm\u001b[39m.\u001b[39mrun(QT\u001b[39m.\u001b[39mcircuit)\n",
      "\u001b[0;32m----> <a href='vscode-notebook-cell://ssh-remote%2Bzpg003/u/lsarra/notebooks/unitary-synthesis/ec/quantum_notebook-2.ipynb#ch0000020vscode-remote?line=5'>6</a>\u001b[0m transpiled\u001b[39m=\u001b[39mqk\u001b[39m.\u001b[39;49mtranspile(QT\u001b[39m.\u001b[39;49mcircuit, backend, basis_gates)\n",
      "\u001b[1;32m      <a href='vscode-notebook-cell://ssh-remote%2Bzpg003/u/lsarra/notebooks/unitary-synthesis/ec/quantum_notebook-2.ipynb#ch0000020vscode-remote?line=6'>7</a>\u001b[0m discretized \u001b[39m=\u001b[39m skd(transpiled)\n",
      "\u001b[1;32m      <a href='vscode-notebook-cell://ssh-remote%2Bzpg003/u/lsarra/notebooks/unitary-synthesis/ec/quantum_notebook-2.ipynb#ch0000020vscode-remote?line=7'>8</a>\u001b[0m QT\u001b[39m.\u001b[39mcircuit\u001b[39m.\u001b[39mdraw(),transpiled\u001b[39m.\u001b[39mdraw(),discretized\u001b[39m.\u001b[39mdraw()\n",
      "\n",
      "File \u001b[0;32m~/conda-envs/dc2/lib/python3.8/site-packages/qiskit/compiler/transpiler.py:303\u001b[0m, in \u001b[0;36mtranspile\u001b[0;34m(circuits, backend, basis_gates, inst_map, coupling_map, backend_properties, initial_layout, layout_method, routing_method, translation_method, scheduling_method, instruction_durations, dt, approximation_degree, timing_constraints, seed_transpiler, optimization_level, callback, output_name, unitary_synthesis_method, unitary_synthesis_plugin_config, target)\u001b[0m\n",
      "\u001b[1;32m    <a href='file:///u/lsarra/conda-envs/dc2/lib/python3.8/site-packages/qiskit/compiler/transpiler.py?line=299'>300</a>\u001b[0m _check_circuits_coupling_map(circuits, transpile_args, backend)\n",
      "\u001b[1;32m    <a href='file:///u/lsarra/conda-envs/dc2/lib/python3.8/site-packages/qiskit/compiler/transpiler.py?line=301'>302</a>\u001b[0m \u001b[39m# Transpile circuits in parallel\u001b[39;00m\n",
      "\u001b[0;32m--> <a href='file:///u/lsarra/conda-envs/dc2/lib/python3.8/site-packages/qiskit/compiler/transpiler.py?line=302'>303</a>\u001b[0m circuits \u001b[39m=\u001b[39m parallel_map(_transpile_circuit, \u001b[39mlist\u001b[39;49m(\u001b[39mzip\u001b[39;49m(circuits, transpile_args)))\n",
      "\u001b[1;32m    <a href='file:///u/lsarra/conda-envs/dc2/lib/python3.8/site-packages/qiskit/compiler/transpiler.py?line=304'>305</a>\u001b[0m end_time \u001b[39m=\u001b[39m time()\n",
      "\u001b[1;32m    <a href='file:///u/lsarra/conda-envs/dc2/lib/python3.8/site-packages/qiskit/compiler/transpiler.py?line=305'>306</a>\u001b[0m _log_transpile_time(start_time, end_time)\n",
      "\n",
      "File \u001b[0;32m~/conda-envs/dc2/lib/python3.8/site-packages/qiskit/tools/parallel.py:129\u001b[0m, in \u001b[0;36mparallel_map\u001b[0;34m(task, values, task_args, task_kwargs, num_processes)\u001b[0m\n",
      "\u001b[1;32m    <a href='file:///u/lsarra/conda-envs/dc2/lib/python3.8/site-packages/qiskit/tools/parallel.py?line=126'>127</a>\u001b[0m     \u001b[39mreturn\u001b[39;00m []\n",
      "\u001b[1;32m    <a href='file:///u/lsarra/conda-envs/dc2/lib/python3.8/site-packages/qiskit/tools/parallel.py?line=127'>128</a>\u001b[0m \u001b[39mif\u001b[39;00m \u001b[39mlen\u001b[39m(values) \u001b[39m==\u001b[39m \u001b[39m1\u001b[39m:\n",
      "\u001b[0;32m--> <a href='file:///u/lsarra/conda-envs/dc2/lib/python3.8/site-packages/qiskit/tools/parallel.py?line=128'>129</a>\u001b[0m     \u001b[39mreturn\u001b[39;00m [task(values[\u001b[39m0\u001b[39;49m], \u001b[39m*\u001b[39;49mtask_args, \u001b[39m*\u001b[39;49m\u001b[39m*\u001b[39;49mtask_kwargs)]\n",
      "\u001b[1;32m    <a href='file:///u/lsarra/conda-envs/dc2/lib/python3.8/site-packages/qiskit/tools/parallel.py?line=130'>131</a>\u001b[0m Publisher()\u001b[39m.\u001b[39mpublish(\u001b[39m\"\u001b[39m\u001b[39mterra.parallel.start\u001b[39m\u001b[39m\"\u001b[39m, \u001b[39mlen\u001b[39m(values))\n",
      "\u001b[1;32m    <a href='file:///u/lsarra/conda-envs/dc2/lib/python3.8/site-packages/qiskit/tools/parallel.py?line=131'>132</a>\u001b[0m nfinished \u001b[39m=\u001b[39m [\u001b[39m0\u001b[39m]\n",
      "\n",
      "File \u001b[0;32m~/conda-envs/dc2/lib/python3.8/site-packages/qiskit/compiler/transpiler.py:386\u001b[0m, in \u001b[0;36m_transpile_circuit\u001b[0;34m(circuit_config_tuple)\u001b[0m\n",
      "\u001b[1;32m    <a href='file:///u/lsarra/conda-envs/dc2/lib/python3.8/site-packages/qiskit/compiler/transpiler.py?line=382'>383</a>\u001b[0m \u001b[39melse\u001b[39;00m:\n",
      "\u001b[1;32m    <a href='file:///u/lsarra/conda-envs/dc2/lib/python3.8/site-packages/qiskit/compiler/transpiler.py?line=383'>384</a>\u001b[0m     \u001b[39mraise\u001b[39;00m TranspilerError(\u001b[39m\"\u001b[39m\u001b[39moptimization_level can range from 0 to 3.\u001b[39m\u001b[39m\"\u001b[39m)\n",
      "\u001b[0;32m--> <a href='file:///u/lsarra/conda-envs/dc2/lib/python3.8/site-packages/qiskit/compiler/transpiler.py?line=385'>386</a>\u001b[0m result \u001b[39m=\u001b[39m pass_manager\u001b[39m.\u001b[39;49mrun(\n",
      "\u001b[1;32m    <a href='file:///u/lsarra/conda-envs/dc2/lib/python3.8/site-packages/qiskit/compiler/transpiler.py?line=386'>387</a>\u001b[0m     circuit, callback\u001b[39m=\u001b[39;49mtranspile_config[\u001b[39m\"\u001b[39;49m\u001b[39mcallback\u001b[39;49m\u001b[39m\"\u001b[39;49m], output_name\u001b[39m=\u001b[39;49mtranspile_config[\u001b[39m\"\u001b[39;49m\u001b[39moutput_name\u001b[39;49m\u001b[39m\"\u001b[39;49m]\n",
      "\u001b[1;32m    <a href='file:///u/lsarra/conda-envs/dc2/lib/python3.8/site-packages/qiskit/compiler/transpiler.py?line=387'>388</a>\u001b[0m )\n",
      "\u001b[1;32m    <a href='file:///u/lsarra/conda-envs/dc2/lib/python3.8/site-packages/qiskit/compiler/transpiler.py?line=389'>390</a>\u001b[0m \u001b[39mif\u001b[39;00m transpile_config[\u001b[39m\"\u001b[39m\u001b[39mfaulty_qubits_map\u001b[39m\u001b[39m\"\u001b[39m]:\n",
      "\u001b[1;32m    <a href='file:///u/lsarra/conda-envs/dc2/lib/python3.8/site-packages/qiskit/compiler/transpiler.py?line=390'>391</a>\u001b[0m     \u001b[39mreturn\u001b[39;00m _remap_circuit_faulty_backend(\n",
      "\u001b[1;32m    <a href='file:///u/lsarra/conda-envs/dc2/lib/python3.8/site-packages/qiskit/compiler/transpiler.py?line=391'>392</a>\u001b[0m         result,\n",
      "\u001b[1;32m    <a href='file:///u/lsarra/conda-envs/dc2/lib/python3.8/site-packages/qiskit/compiler/transpiler.py?line=392'>393</a>\u001b[0m         transpile_config[\u001b[39m\"\u001b[39m\u001b[39mbackend_num_qubits\u001b[39m\u001b[39m\"\u001b[39m],\n",
      "\u001b[1;32m    <a href='file:///u/lsarra/conda-envs/dc2/lib/python3.8/site-packages/qiskit/compiler/transpiler.py?line=393'>394</a>\u001b[0m         pass_manager_config\u001b[39m.\u001b[39mbackend_properties,\n",
      "\u001b[1;32m    <a href='file:///u/lsarra/conda-envs/dc2/lib/python3.8/site-packages/qiskit/compiler/transpiler.py?line=394'>395</a>\u001b[0m         transpile_config[\u001b[39m\"\u001b[39m\u001b[39mfaulty_qubits_map\u001b[39m\u001b[39m\"\u001b[39m],\n",
      "\u001b[1;32m    <a href='file:///u/lsarra/conda-envs/dc2/lib/python3.8/site-packages/qiskit/compiler/transpiler.py?line=395'>396</a>\u001b[0m     )\n",
      "\n",
      "File \u001b[0;32m~/conda-envs/dc2/lib/python3.8/site-packages/qiskit/transpiler/passmanager.py:222\u001b[0m, in \u001b[0;36mPassManager.run\u001b[0;34m(self, circuits, output_name, callback)\u001b[0m\n",
      "\u001b[1;32m    <a href='file:///u/lsarra/conda-envs/dc2/lib/python3.8/site-packages/qiskit/transpiler/passmanager.py?line=219'>220</a>\u001b[0m     \u001b[39mreturn\u001b[39;00m circuits\n",
      "\u001b[1;32m    <a href='file:///u/lsarra/conda-envs/dc2/lib/python3.8/site-packages/qiskit/transpiler/passmanager.py?line=220'>221</a>\u001b[0m \u001b[39mif\u001b[39;00m \u001b[39misinstance\u001b[39m(circuits, QuantumCircuit):\n",
      "\u001b[0;32m--> <a href='file:///u/lsarra/conda-envs/dc2/lib/python3.8/site-packages/qiskit/transpiler/passmanager.py?line=221'>222</a>\u001b[0m     \u001b[39mreturn\u001b[39;00m \u001b[39mself\u001b[39;49m\u001b[39m.\u001b[39;49m_run_single_circuit(circuits, output_name, callback)\n",
      "\u001b[1;32m    <a href='file:///u/lsarra/conda-envs/dc2/lib/python3.8/site-packages/qiskit/transpiler/passmanager.py?line=222'>223</a>\u001b[0m \u001b[39mif\u001b[39;00m \u001b[39mlen\u001b[39m(circuits) \u001b[39m==\u001b[39m \u001b[39m1\u001b[39m:\n",
      "\u001b[1;32m    <a href='file:///u/lsarra/conda-envs/dc2/lib/python3.8/site-packages/qiskit/transpiler/passmanager.py?line=223'>224</a>\u001b[0m     \u001b[39mreturn\u001b[39;00m \u001b[39mself\u001b[39m\u001b[39m.\u001b[39m_run_single_circuit(circuits[\u001b[39m0\u001b[39m], output_name, callback)\n",
      "\n",
      "File \u001b[0;32m~/conda-envs/dc2/lib/python3.8/site-packages/qiskit/transpiler/passmanager.py:277\u001b[0m, in \u001b[0;36mPassManager._run_single_circuit\u001b[0;34m(self, circuit, output_name, callback)\u001b[0m\n",
      "\u001b[1;32m    <a href='file:///u/lsarra/conda-envs/dc2/lib/python3.8/site-packages/qiskit/transpiler/passmanager.py?line=264'>265</a>\u001b[0m \u001b[39m\"\"\"Run all the passes on a ``circuit``.\u001b[39;00m\n",
      "\u001b[1;32m    <a href='file:///u/lsarra/conda-envs/dc2/lib/python3.8/site-packages/qiskit/transpiler/passmanager.py?line=265'>266</a>\u001b[0m \n",
      "\u001b[1;32m    <a href='file:///u/lsarra/conda-envs/dc2/lib/python3.8/site-packages/qiskit/transpiler/passmanager.py?line=266'>267</a>\u001b[0m \u001b[39mArgs:\u001b[39;00m\n",
      "\u001b[0;32m   (...)\u001b[0m\n",
      "\u001b[1;32m    <a href='file:///u/lsarra/conda-envs/dc2/lib/python3.8/site-packages/qiskit/transpiler/passmanager.py?line=273'>274</a>\u001b[0m \u001b[39m    The transformed circuit.\u001b[39;00m\n",
      "\u001b[1;32m    <a href='file:///u/lsarra/conda-envs/dc2/lib/python3.8/site-packages/qiskit/transpiler/passmanager.py?line=274'>275</a>\u001b[0m \u001b[39m\"\"\"\u001b[39;00m\n",
      "\u001b[1;32m    <a href='file:///u/lsarra/conda-envs/dc2/lib/python3.8/site-packages/qiskit/transpiler/passmanager.py?line=275'>276</a>\u001b[0m running_passmanager \u001b[39m=\u001b[39m \u001b[39mself\u001b[39m\u001b[39m.\u001b[39m_create_running_passmanager()\n",
      "\u001b[0;32m--> <a href='file:///u/lsarra/conda-envs/dc2/lib/python3.8/site-packages/qiskit/transpiler/passmanager.py?line=276'>277</a>\u001b[0m result \u001b[39m=\u001b[39m running_passmanager\u001b[39m.\u001b[39;49mrun(circuit, output_name\u001b[39m=\u001b[39;49moutput_name, callback\u001b[39m=\u001b[39;49mcallback)\n",
      "\u001b[1;32m    <a href='file:///u/lsarra/conda-envs/dc2/lib/python3.8/site-packages/qiskit/transpiler/passmanager.py?line=277'>278</a>\u001b[0m \u001b[39mself\u001b[39m\u001b[39m.\u001b[39mproperty_set \u001b[39m=\u001b[39m running_passmanager\u001b[39m.\u001b[39mproperty_set\n",
      "\u001b[1;32m    <a href='file:///u/lsarra/conda-envs/dc2/lib/python3.8/site-packages/qiskit/transpiler/passmanager.py?line=278'>279</a>\u001b[0m \u001b[39mreturn\u001b[39;00m result\n",
      "\n",
      "File \u001b[0;32m~/conda-envs/dc2/lib/python3.8/site-packages/qiskit/transpiler/runningpassmanager.py:124\u001b[0m, in \u001b[0;36mRunningPassManager.run\u001b[0;34m(***failed resolving arguments***)\u001b[0m\n",
      "\u001b[1;32m    <a href='file:///u/lsarra/conda-envs/dc2/lib/python3.8/site-packages/qiskit/transpiler/runningpassmanager.py?line=121'>122</a>\u001b[0m \u001b[39mfor\u001b[39;00m passset \u001b[39min\u001b[39;00m \u001b[39mself\u001b[39m\u001b[39m.\u001b[39mworking_list:\n",
      "\u001b[1;32m    <a href='file:///u/lsarra/conda-envs/dc2/lib/python3.8/site-packages/qiskit/transpiler/runningpassmanager.py?line=122'>123</a>\u001b[0m     \u001b[39mfor\u001b[39;00m pass_ \u001b[39min\u001b[39;00m passset:\n",
      "\u001b[0;32m--> <a href='file:///u/lsarra/conda-envs/dc2/lib/python3.8/site-packages/qiskit/transpiler/runningpassmanager.py?line=123'>124</a>\u001b[0m         dag \u001b[39m=\u001b[39m \u001b[39mself\u001b[39;49m\u001b[39m.\u001b[39;49m_do_pass(pass_, dag, passset\u001b[39m.\u001b[39;49moptions)\n",
      "\u001b[1;32m    <a href='file:///u/lsarra/conda-envs/dc2/lib/python3.8/site-packages/qiskit/transpiler/runningpassmanager.py?line=125'>126</a>\u001b[0m circuit \u001b[39m=\u001b[39m dag_to_circuit(dag)\n",
      "\u001b[1;32m    <a href='file:///u/lsarra/conda-envs/dc2/lib/python3.8/site-packages/qiskit/transpiler/runningpassmanager.py?line=126'>127</a>\u001b[0m \u001b[39mif\u001b[39;00m output_name:\n",
      "\n",
      "File \u001b[0;32m~/conda-envs/dc2/lib/python3.8/site-packages/qiskit/transpiler/runningpassmanager.py:157\u001b[0m, in \u001b[0;36mRunningPassManager._do_pass\u001b[0;34m(self, pass_, dag, options)\u001b[0m\n",
      "\u001b[1;32m    <a href='file:///u/lsarra/conda-envs/dc2/lib/python3.8/site-packages/qiskit/transpiler/runningpassmanager.py?line=154'>155</a>\u001b[0m \u001b[39m# Run the pass itself, if not already run\u001b[39;00m\n",
      "\u001b[1;32m    <a href='file:///u/lsarra/conda-envs/dc2/lib/python3.8/site-packages/qiskit/transpiler/runningpassmanager.py?line=155'>156</a>\u001b[0m \u001b[39mif\u001b[39;00m pass_ \u001b[39mnot\u001b[39;00m \u001b[39min\u001b[39;00m \u001b[39mself\u001b[39m\u001b[39m.\u001b[39mvalid_passes:\n",
      "\u001b[0;32m--> <a href='file:///u/lsarra/conda-envs/dc2/lib/python3.8/site-packages/qiskit/transpiler/runningpassmanager.py?line=156'>157</a>\u001b[0m     dag \u001b[39m=\u001b[39m \u001b[39mself\u001b[39;49m\u001b[39m.\u001b[39;49m_run_this_pass(pass_, dag)\n",
      "\u001b[1;32m    <a href='file:///u/lsarra/conda-envs/dc2/lib/python3.8/site-packages/qiskit/transpiler/runningpassmanager.py?line=158'>159</a>\u001b[0m     \u001b[39m# update the valid_passes property\u001b[39;00m\n",
      "\u001b[1;32m    <a href='file:///u/lsarra/conda-envs/dc2/lib/python3.8/site-packages/qiskit/transpiler/runningpassmanager.py?line=159'>160</a>\u001b[0m     \u001b[39mself\u001b[39m\u001b[39m.\u001b[39m_update_valid_passes(pass_)\n",
      "\n",
      "File \u001b[0;32m~/conda-envs/dc2/lib/python3.8/site-packages/qiskit/transpiler/runningpassmanager.py:186\u001b[0m, in \u001b[0;36mRunningPassManager._run_this_pass\u001b[0;34m(self, pass_, dag)\u001b[0m\n",
      "\u001b[1;32m    <a href='file:///u/lsarra/conda-envs/dc2/lib/python3.8/site-packages/qiskit/transpiler/runningpassmanager.py?line=182'>183</a>\u001b[0m \u001b[39mif\u001b[39;00m pass_\u001b[39m.\u001b[39mis_transformation_pass:\n",
      "\u001b[1;32m    <a href='file:///u/lsarra/conda-envs/dc2/lib/python3.8/site-packages/qiskit/transpiler/runningpassmanager.py?line=183'>184</a>\u001b[0m     \u001b[39m# Measure time if we have a callback or logging set\u001b[39;00m\n",
      "\u001b[1;32m    <a href='file:///u/lsarra/conda-envs/dc2/lib/python3.8/site-packages/qiskit/transpiler/runningpassmanager.py?line=184'>185</a>\u001b[0m     start_time \u001b[39m=\u001b[39m time()\n",
      "\u001b[0;32m--> <a href='file:///u/lsarra/conda-envs/dc2/lib/python3.8/site-packages/qiskit/transpiler/runningpassmanager.py?line=185'>186</a>\u001b[0m     new_dag \u001b[39m=\u001b[39m pass_\u001b[39m.\u001b[39;49mrun(dag)\n",
      "\u001b[1;32m    <a href='file:///u/lsarra/conda-envs/dc2/lib/python3.8/site-packages/qiskit/transpiler/runningpassmanager.py?line=186'>187</a>\u001b[0m     end_time \u001b[39m=\u001b[39m time()\n",
      "\u001b[1;32m    <a href='file:///u/lsarra/conda-envs/dc2/lib/python3.8/site-packages/qiskit/transpiler/runningpassmanager.py?line=187'>188</a>\u001b[0m     run_time \u001b[39m=\u001b[39m end_time \u001b[39m-\u001b[39m start_time\n",
      "\n",
      "File \u001b[0;32m~/conda-envs/dc2/lib/python3.8/site-packages/qiskit/transpiler/passes/basis/basis_translator.py:206\u001b[0m, in \u001b[0;36mBasisTranslator.run\u001b[0;34m(self, dag)\u001b[0m\n",
      "\u001b[1;32m    <a href='file:///u/lsarra/conda-envs/dc2/lib/python3.8/site-packages/qiskit/transpiler/passes/basis/basis_translator.py?line=200'>201</a>\u001b[0m logger\u001b[39m.\u001b[39minfo(\n",
      "\u001b[1;32m    <a href='file:///u/lsarra/conda-envs/dc2/lib/python3.8/site-packages/qiskit/transpiler/passes/basis/basis_translator.py?line=201'>202</a>\u001b[0m     \u001b[39m\"\u001b[39m\u001b[39mBasis translation path search completed in \u001b[39m\u001b[39m%.3f\u001b[39;00m\u001b[39ms.\u001b[39m\u001b[39m\"\u001b[39m, search_end_time \u001b[39m-\u001b[39m search_start_time\n",
      "\u001b[1;32m    <a href='file:///u/lsarra/conda-envs/dc2/lib/python3.8/site-packages/qiskit/transpiler/passes/basis/basis_translator.py?line=202'>203</a>\u001b[0m )\n",
      "\u001b[1;32m    <a href='file:///u/lsarra/conda-envs/dc2/lib/python3.8/site-packages/qiskit/transpiler/passes/basis/basis_translator.py?line=204'>205</a>\u001b[0m \u001b[39mif\u001b[39;00m basis_transforms \u001b[39mis\u001b[39;00m \u001b[39mNone\u001b[39;00m:\n",
      "\u001b[0;32m--> <a href='file:///u/lsarra/conda-envs/dc2/lib/python3.8/site-packages/qiskit/transpiler/passes/basis/basis_translator.py?line=205'>206</a>\u001b[0m     \u001b[39mraise\u001b[39;00m TranspilerError(\n",
      "\u001b[1;32m    <a href='file:///u/lsarra/conda-envs/dc2/lib/python3.8/site-packages/qiskit/transpiler/passes/basis/basis_translator.py?line=206'>207</a>\u001b[0m         \u001b[39m\"\u001b[39m\u001b[39mUnable to map source basis \u001b[39m\u001b[39m{}\u001b[39;00m\u001b[39m to target basis \u001b[39m\u001b[39m{}\u001b[39;00m\u001b[39m \u001b[39m\u001b[39m\"\u001b[39m\n",
      "\u001b[1;32m    <a href='file:///u/lsarra/conda-envs/dc2/lib/python3.8/site-packages/qiskit/transpiler/passes/basis/basis_translator.py?line=207'>208</a>\u001b[0m         \u001b[39m\"\u001b[39m\u001b[39mover library \u001b[39m\u001b[39m{}\u001b[39;00m\u001b[39m.\u001b[39m\u001b[39m\"\u001b[39m\u001b[39m.\u001b[39mformat(source_basis, target_basis, \u001b[39mself\u001b[39m\u001b[39m.\u001b[39m_equiv_lib)\n",
      "\u001b[1;32m    <a href='file:///u/lsarra/conda-envs/dc2/lib/python3.8/site-packages/qiskit/transpiler/passes/basis/basis_translator.py?line=208'>209</a>\u001b[0m     )\n",
      "\u001b[1;32m    <a href='file:///u/lsarra/conda-envs/dc2/lib/python3.8/site-packages/qiskit/transpiler/passes/basis/basis_translator.py?line=210'>211</a>\u001b[0m \u001b[39m# Compose found path into a set of instruction substitution rules.\u001b[39;00m\n",
      "\u001b[1;32m    <a href='file:///u/lsarra/conda-envs/dc2/lib/python3.8/site-packages/qiskit/transpiler/passes/basis/basis_translator.py?line=212'>213</a>\u001b[0m compose_start_time \u001b[39m=\u001b[39m time\u001b[39m.\u001b[39mtime()\n",
      "\n",
      "\u001b[0;31mTranspilerError\u001b[0m: \"Unable to map source basis {('p', 1)} to target basis {'cx', 'snapshot', 't', 'tdg', 'reset', 'delay', 'barrier', 'h', 'measure'} over library <qiskit.circuit.equivalence.EquivalenceLibrary object at 0x1506702481f0>.\""
     ]
    }
   ],
   "source": [
    "# we should be able to transpile this one\n",
    "with QiskitTester(1) as QT:\n",
    "    QT.circuit.p(np.pi/8,0)\n",
    "    QT.circuit.p(np.pi/8,0)\n",
    "QT.circuit.draw()\n",
    "QT.circuit=pm.run(QT.circuit)\n",
    "transpiled=qk.transpile(QT.circuit, backend, basis_gates)\n",
    "discretized = skd(transpiled)\n",
    "QT.circuit.draw(),transpiled.draw(),discretized.draw()"
   ]
  },
  {
   "cell_type": "code",
   "execution_count": null,
   "metadata": {},
   "outputs": [
    {
     "data": {
      "text/html": [
       "<pre style=\"word-wrap: normal;white-space: pre;background: #fff0;line-height: 1.1;font-family: &quot;Courier New&quot;,Courier,monospace\">          \n",
       "q_0: ──■──\n",
       "       │  \n",
       "q_1: ──■──\n",
       "       │  \n",
       "q_2: ──■──\n",
       "     ┌─┴─┐\n",
       "q_3: ┤ X ├\n",
       "     └───┘</pre>"
      ],
      "text/plain": [
       "          \n",
       "q_0: ──■──\n",
       "       │  \n",
       "q_1: ──■──\n",
       "       │  \n",
       "q_2: ──■──\n",
       "     ┌─┴─┐\n",
       "q_3: ┤ X ├\n",
       "     └───┘"
      ]
     },
     "metadata": {},
     "output_type": "display_data"
    }
   ],
   "source": [
    "with QiskitTester(4) as QT:\n",
    "    QT.circuit.append(qk.circuit.library.C3XGate(), (0,1,2,3))\n",
    "QT.circuit.draw()\n",
    "# transpiled=qk.transpile(QT.circuit, backend, basis_gates)\n",
    "# discretized = skd(transpiled)\n",
    "# QT.circuit.draw(),transpiled.draw(),discretized.draw()"
   ]
  },
  {
   "cell_type": "code",
   "execution_count": null,
   "metadata": {},
   "outputs": [],
   "source": [
    "with QiskitTester(2) as QT:\n",
    "    QT.circuit.append(qk.circuit.library.SGate().control(1), (0,1))\n",
    "dag = qk.converters.circuit_to_dag(QT.circuit)"
   ]
  },
  {
   "cell_type": "code",
   "execution_count": null,
   "metadata": {},
   "outputs": [],
   "source": [
    "# This is CS, but can we transpile it?\n",
    "with QiskitTester(2) as QT:\n",
    "    QT.circuit.append(qk.circuit.library.PhaseGate(np.pi/2).control(1),(0,1))"
   ]
  },
  {
   "cell_type": "code",
   "execution_count": null,
   "metadata": {},
   "outputs": [
    {
     "ename": "TranspilerError",
     "evalue": "\"Unable to map source basis {('csx', 2)} to target basis {'cx', 'snapshot', 't', 'tdg', 'reset', 'delay', 'barrier', 'h', 'measure'} over library <qiskit.circuit.equivalence.EquivalenceLibrary object at 0x1506702481f0>.\"",
     "output_type": "error",
     "traceback": [
      "\u001b[0;31m---------------------------------------------------------------------------\u001b[0m\n",
      "\u001b[0;31mTranspilerError\u001b[0m                           Traceback (most recent call last)\n",
      "\u001b[1;32m/u/lsarra/notebooks/unitary-synthesis/ec/quantum_notebook-2.ipynb Cell 28'\u001b[0m in \u001b[0;36m<cell line: 4>\u001b[0;34m()\u001b[0m\n",
      "\u001b[1;32m      <a href='vscode-notebook-cell://ssh-remote%2Bzpg003/u/lsarra/notebooks/unitary-synthesis/ec/quantum_notebook-2.ipynb#ch0000091vscode-remote?line=1'>2</a>\u001b[0m     QT\u001b[39m.\u001b[39mcircuit\u001b[39m.\u001b[39mcsx(QT\u001b[39m.\u001b[39mq(\u001b[39m0\u001b[39m),QT\u001b[39m.\u001b[39mq(\u001b[39m1\u001b[39m))\n",
      "\u001b[1;32m      <a href='vscode-notebook-cell://ssh-remote%2Bzpg003/u/lsarra/notebooks/unitary-synthesis/ec/quantum_notebook-2.ipynb#ch0000091vscode-remote?line=2'>3</a>\u001b[0m QT\u001b[39m.\u001b[39mcircuit \u001b[39m=\u001b[39m pm\u001b[39m.\u001b[39mrun( QT\u001b[39m.\u001b[39mcircuit)\n",
      "\u001b[0;32m----> <a href='vscode-notebook-cell://ssh-remote%2Bzpg003/u/lsarra/notebooks/unitary-synthesis/ec/quantum_notebook-2.ipynb#ch0000091vscode-remote?line=3'>4</a>\u001b[0m transpiled\u001b[39m=\u001b[39mqk\u001b[39m.\u001b[39;49mtranspile(QT\u001b[39m.\u001b[39;49mcircuit, backend, basis_gates)\n",
      "\u001b[1;32m      <a href='vscode-notebook-cell://ssh-remote%2Bzpg003/u/lsarra/notebooks/unitary-synthesis/ec/quantum_notebook-2.ipynb#ch0000091vscode-remote?line=4'>5</a>\u001b[0m discretized \u001b[39m=\u001b[39m skd(transpiled)\n",
      "\u001b[1;32m      <a href='vscode-notebook-cell://ssh-remote%2Bzpg003/u/lsarra/notebooks/unitary-synthesis/ec/quantum_notebook-2.ipynb#ch0000091vscode-remote?line=5'>6</a>\u001b[0m QT\u001b[39m.\u001b[39mcircuit\u001b[39m.\u001b[39mdraw(),transpiled\u001b[39m.\u001b[39mdraw(),discretized\u001b[39m.\u001b[39mdraw()\n",
      "\n",
      "File \u001b[0;32m~/conda-envs/dc2/lib/python3.8/site-packages/qiskit/compiler/transpiler.py:303\u001b[0m, in \u001b[0;36mtranspile\u001b[0;34m(circuits, backend, basis_gates, inst_map, coupling_map, backend_properties, initial_layout, layout_method, routing_method, translation_method, scheduling_method, instruction_durations, dt, approximation_degree, timing_constraints, seed_transpiler, optimization_level, callback, output_name, unitary_synthesis_method, unitary_synthesis_plugin_config, target)\u001b[0m\n",
      "\u001b[1;32m    <a href='file:///u/lsarra/conda-envs/dc2/lib/python3.8/site-packages/qiskit/compiler/transpiler.py?line=299'>300</a>\u001b[0m _check_circuits_coupling_map(circuits, transpile_args, backend)\n",
      "\u001b[1;32m    <a href='file:///u/lsarra/conda-envs/dc2/lib/python3.8/site-packages/qiskit/compiler/transpiler.py?line=301'>302</a>\u001b[0m \u001b[39m# Transpile circuits in parallel\u001b[39;00m\n",
      "\u001b[0;32m--> <a href='file:///u/lsarra/conda-envs/dc2/lib/python3.8/site-packages/qiskit/compiler/transpiler.py?line=302'>303</a>\u001b[0m circuits \u001b[39m=\u001b[39m parallel_map(_transpile_circuit, \u001b[39mlist\u001b[39;49m(\u001b[39mzip\u001b[39;49m(circuits, transpile_args)))\n",
      "\u001b[1;32m    <a href='file:///u/lsarra/conda-envs/dc2/lib/python3.8/site-packages/qiskit/compiler/transpiler.py?line=304'>305</a>\u001b[0m end_time \u001b[39m=\u001b[39m time()\n",
      "\u001b[1;32m    <a href='file:///u/lsarra/conda-envs/dc2/lib/python3.8/site-packages/qiskit/compiler/transpiler.py?line=305'>306</a>\u001b[0m _log_transpile_time(start_time, end_time)\n",
      "\n",
      "File \u001b[0;32m~/conda-envs/dc2/lib/python3.8/site-packages/qiskit/tools/parallel.py:129\u001b[0m, in \u001b[0;36mparallel_map\u001b[0;34m(task, values, task_args, task_kwargs, num_processes)\u001b[0m\n",
      "\u001b[1;32m    <a href='file:///u/lsarra/conda-envs/dc2/lib/python3.8/site-packages/qiskit/tools/parallel.py?line=126'>127</a>\u001b[0m     \u001b[39mreturn\u001b[39;00m []\n",
      "\u001b[1;32m    <a href='file:///u/lsarra/conda-envs/dc2/lib/python3.8/site-packages/qiskit/tools/parallel.py?line=127'>128</a>\u001b[0m \u001b[39mif\u001b[39;00m \u001b[39mlen\u001b[39m(values) \u001b[39m==\u001b[39m \u001b[39m1\u001b[39m:\n",
      "\u001b[0;32m--> <a href='file:///u/lsarra/conda-envs/dc2/lib/python3.8/site-packages/qiskit/tools/parallel.py?line=128'>129</a>\u001b[0m     \u001b[39mreturn\u001b[39;00m [task(values[\u001b[39m0\u001b[39;49m], \u001b[39m*\u001b[39;49mtask_args, \u001b[39m*\u001b[39;49m\u001b[39m*\u001b[39;49mtask_kwargs)]\n",
      "\u001b[1;32m    <a href='file:///u/lsarra/conda-envs/dc2/lib/python3.8/site-packages/qiskit/tools/parallel.py?line=130'>131</a>\u001b[0m Publisher()\u001b[39m.\u001b[39mpublish(\u001b[39m\"\u001b[39m\u001b[39mterra.parallel.start\u001b[39m\u001b[39m\"\u001b[39m, \u001b[39mlen\u001b[39m(values))\n",
      "\u001b[1;32m    <a href='file:///u/lsarra/conda-envs/dc2/lib/python3.8/site-packages/qiskit/tools/parallel.py?line=131'>132</a>\u001b[0m nfinished \u001b[39m=\u001b[39m [\u001b[39m0\u001b[39m]\n",
      "\n",
      "File \u001b[0;32m~/conda-envs/dc2/lib/python3.8/site-packages/qiskit/compiler/transpiler.py:386\u001b[0m, in \u001b[0;36m_transpile_circuit\u001b[0;34m(circuit_config_tuple)\u001b[0m\n",
      "\u001b[1;32m    <a href='file:///u/lsarra/conda-envs/dc2/lib/python3.8/site-packages/qiskit/compiler/transpiler.py?line=382'>383</a>\u001b[0m \u001b[39melse\u001b[39;00m:\n",
      "\u001b[1;32m    <a href='file:///u/lsarra/conda-envs/dc2/lib/python3.8/site-packages/qiskit/compiler/transpiler.py?line=383'>384</a>\u001b[0m     \u001b[39mraise\u001b[39;00m TranspilerError(\u001b[39m\"\u001b[39m\u001b[39moptimization_level can range from 0 to 3.\u001b[39m\u001b[39m\"\u001b[39m)\n",
      "\u001b[0;32m--> <a href='file:///u/lsarra/conda-envs/dc2/lib/python3.8/site-packages/qiskit/compiler/transpiler.py?line=385'>386</a>\u001b[0m result \u001b[39m=\u001b[39m pass_manager\u001b[39m.\u001b[39;49mrun(\n",
      "\u001b[1;32m    <a href='file:///u/lsarra/conda-envs/dc2/lib/python3.8/site-packages/qiskit/compiler/transpiler.py?line=386'>387</a>\u001b[0m     circuit, callback\u001b[39m=\u001b[39;49mtranspile_config[\u001b[39m\"\u001b[39;49m\u001b[39mcallback\u001b[39;49m\u001b[39m\"\u001b[39;49m], output_name\u001b[39m=\u001b[39;49mtranspile_config[\u001b[39m\"\u001b[39;49m\u001b[39moutput_name\u001b[39;49m\u001b[39m\"\u001b[39;49m]\n",
      "\u001b[1;32m    <a href='file:///u/lsarra/conda-envs/dc2/lib/python3.8/site-packages/qiskit/compiler/transpiler.py?line=387'>388</a>\u001b[0m )\n",
      "\u001b[1;32m    <a href='file:///u/lsarra/conda-envs/dc2/lib/python3.8/site-packages/qiskit/compiler/transpiler.py?line=389'>390</a>\u001b[0m \u001b[39mif\u001b[39;00m transpile_config[\u001b[39m\"\u001b[39m\u001b[39mfaulty_qubits_map\u001b[39m\u001b[39m\"\u001b[39m]:\n",
      "\u001b[1;32m    <a href='file:///u/lsarra/conda-envs/dc2/lib/python3.8/site-packages/qiskit/compiler/transpiler.py?line=390'>391</a>\u001b[0m     \u001b[39mreturn\u001b[39;00m _remap_circuit_faulty_backend(\n",
      "\u001b[1;32m    <a href='file:///u/lsarra/conda-envs/dc2/lib/python3.8/site-packages/qiskit/compiler/transpiler.py?line=391'>392</a>\u001b[0m         result,\n",
      "\u001b[1;32m    <a href='file:///u/lsarra/conda-envs/dc2/lib/python3.8/site-packages/qiskit/compiler/transpiler.py?line=392'>393</a>\u001b[0m         transpile_config[\u001b[39m\"\u001b[39m\u001b[39mbackend_num_qubits\u001b[39m\u001b[39m\"\u001b[39m],\n",
      "\u001b[1;32m    <a href='file:///u/lsarra/conda-envs/dc2/lib/python3.8/site-packages/qiskit/compiler/transpiler.py?line=393'>394</a>\u001b[0m         pass_manager_config\u001b[39m.\u001b[39mbackend_properties,\n",
      "\u001b[1;32m    <a href='file:///u/lsarra/conda-envs/dc2/lib/python3.8/site-packages/qiskit/compiler/transpiler.py?line=394'>395</a>\u001b[0m         transpile_config[\u001b[39m\"\u001b[39m\u001b[39mfaulty_qubits_map\u001b[39m\u001b[39m\"\u001b[39m],\n",
      "\u001b[1;32m    <a href='file:///u/lsarra/conda-envs/dc2/lib/python3.8/site-packages/qiskit/compiler/transpiler.py?line=395'>396</a>\u001b[0m     )\n",
      "\n",
      "File \u001b[0;32m~/conda-envs/dc2/lib/python3.8/site-packages/qiskit/transpiler/passmanager.py:222\u001b[0m, in \u001b[0;36mPassManager.run\u001b[0;34m(self, circuits, output_name, callback)\u001b[0m\n",
      "\u001b[1;32m    <a href='file:///u/lsarra/conda-envs/dc2/lib/python3.8/site-packages/qiskit/transpiler/passmanager.py?line=219'>220</a>\u001b[0m     \u001b[39mreturn\u001b[39;00m circuits\n",
      "\u001b[1;32m    <a href='file:///u/lsarra/conda-envs/dc2/lib/python3.8/site-packages/qiskit/transpiler/passmanager.py?line=220'>221</a>\u001b[0m \u001b[39mif\u001b[39;00m \u001b[39misinstance\u001b[39m(circuits, QuantumCircuit):\n",
      "\u001b[0;32m--> <a href='file:///u/lsarra/conda-envs/dc2/lib/python3.8/site-packages/qiskit/transpiler/passmanager.py?line=221'>222</a>\u001b[0m     \u001b[39mreturn\u001b[39;00m \u001b[39mself\u001b[39;49m\u001b[39m.\u001b[39;49m_run_single_circuit(circuits, output_name, callback)\n",
      "\u001b[1;32m    <a href='file:///u/lsarra/conda-envs/dc2/lib/python3.8/site-packages/qiskit/transpiler/passmanager.py?line=222'>223</a>\u001b[0m \u001b[39mif\u001b[39;00m \u001b[39mlen\u001b[39m(circuits) \u001b[39m==\u001b[39m \u001b[39m1\u001b[39m:\n",
      "\u001b[1;32m    <a href='file:///u/lsarra/conda-envs/dc2/lib/python3.8/site-packages/qiskit/transpiler/passmanager.py?line=223'>224</a>\u001b[0m     \u001b[39mreturn\u001b[39;00m \u001b[39mself\u001b[39m\u001b[39m.\u001b[39m_run_single_circuit(circuits[\u001b[39m0\u001b[39m], output_name, callback)\n",
      "\n",
      "File \u001b[0;32m~/conda-envs/dc2/lib/python3.8/site-packages/qiskit/transpiler/passmanager.py:277\u001b[0m, in \u001b[0;36mPassManager._run_single_circuit\u001b[0;34m(self, circuit, output_name, callback)\u001b[0m\n",
      "\u001b[1;32m    <a href='file:///u/lsarra/conda-envs/dc2/lib/python3.8/site-packages/qiskit/transpiler/passmanager.py?line=264'>265</a>\u001b[0m \u001b[39m\"\"\"Run all the passes on a ``circuit``.\u001b[39;00m\n",
      "\u001b[1;32m    <a href='file:///u/lsarra/conda-envs/dc2/lib/python3.8/site-packages/qiskit/transpiler/passmanager.py?line=265'>266</a>\u001b[0m \n",
      "\u001b[1;32m    <a href='file:///u/lsarra/conda-envs/dc2/lib/python3.8/site-packages/qiskit/transpiler/passmanager.py?line=266'>267</a>\u001b[0m \u001b[39mArgs:\u001b[39;00m\n",
      "\u001b[0;32m   (...)\u001b[0m\n",
      "\u001b[1;32m    <a href='file:///u/lsarra/conda-envs/dc2/lib/python3.8/site-packages/qiskit/transpiler/passmanager.py?line=273'>274</a>\u001b[0m \u001b[39m    The transformed circuit.\u001b[39;00m\n",
      "\u001b[1;32m    <a href='file:///u/lsarra/conda-envs/dc2/lib/python3.8/site-packages/qiskit/transpiler/passmanager.py?line=274'>275</a>\u001b[0m \u001b[39m\"\"\"\u001b[39;00m\n",
      "\u001b[1;32m    <a href='file:///u/lsarra/conda-envs/dc2/lib/python3.8/site-packages/qiskit/transpiler/passmanager.py?line=275'>276</a>\u001b[0m running_passmanager \u001b[39m=\u001b[39m \u001b[39mself\u001b[39m\u001b[39m.\u001b[39m_create_running_passmanager()\n",
      "\u001b[0;32m--> <a href='file:///u/lsarra/conda-envs/dc2/lib/python3.8/site-packages/qiskit/transpiler/passmanager.py?line=276'>277</a>\u001b[0m result \u001b[39m=\u001b[39m running_passmanager\u001b[39m.\u001b[39;49mrun(circuit, output_name\u001b[39m=\u001b[39;49moutput_name, callback\u001b[39m=\u001b[39;49mcallback)\n",
      "\u001b[1;32m    <a href='file:///u/lsarra/conda-envs/dc2/lib/python3.8/site-packages/qiskit/transpiler/passmanager.py?line=277'>278</a>\u001b[0m \u001b[39mself\u001b[39m\u001b[39m.\u001b[39mproperty_set \u001b[39m=\u001b[39m running_passmanager\u001b[39m.\u001b[39mproperty_set\n",
      "\u001b[1;32m    <a href='file:///u/lsarra/conda-envs/dc2/lib/python3.8/site-packages/qiskit/transpiler/passmanager.py?line=278'>279</a>\u001b[0m \u001b[39mreturn\u001b[39;00m result\n",
      "\n",
      "File \u001b[0;32m~/conda-envs/dc2/lib/python3.8/site-packages/qiskit/transpiler/runningpassmanager.py:124\u001b[0m, in \u001b[0;36mRunningPassManager.run\u001b[0;34m(***failed resolving arguments***)\u001b[0m\n",
      "\u001b[1;32m    <a href='file:///u/lsarra/conda-envs/dc2/lib/python3.8/site-packages/qiskit/transpiler/runningpassmanager.py?line=121'>122</a>\u001b[0m \u001b[39mfor\u001b[39;00m passset \u001b[39min\u001b[39;00m \u001b[39mself\u001b[39m\u001b[39m.\u001b[39mworking_list:\n",
      "\u001b[1;32m    <a href='file:///u/lsarra/conda-envs/dc2/lib/python3.8/site-packages/qiskit/transpiler/runningpassmanager.py?line=122'>123</a>\u001b[0m     \u001b[39mfor\u001b[39;00m pass_ \u001b[39min\u001b[39;00m passset:\n",
      "\u001b[0;32m--> <a href='file:///u/lsarra/conda-envs/dc2/lib/python3.8/site-packages/qiskit/transpiler/runningpassmanager.py?line=123'>124</a>\u001b[0m         dag \u001b[39m=\u001b[39m \u001b[39mself\u001b[39;49m\u001b[39m.\u001b[39;49m_do_pass(pass_, dag, passset\u001b[39m.\u001b[39;49moptions)\n",
      "\u001b[1;32m    <a href='file:///u/lsarra/conda-envs/dc2/lib/python3.8/site-packages/qiskit/transpiler/runningpassmanager.py?line=125'>126</a>\u001b[0m circuit \u001b[39m=\u001b[39m dag_to_circuit(dag)\n",
      "\u001b[1;32m    <a href='file:///u/lsarra/conda-envs/dc2/lib/python3.8/site-packages/qiskit/transpiler/runningpassmanager.py?line=126'>127</a>\u001b[0m \u001b[39mif\u001b[39;00m output_name:\n",
      "\n",
      "File \u001b[0;32m~/conda-envs/dc2/lib/python3.8/site-packages/qiskit/transpiler/runningpassmanager.py:157\u001b[0m, in \u001b[0;36mRunningPassManager._do_pass\u001b[0;34m(self, pass_, dag, options)\u001b[0m\n",
      "\u001b[1;32m    <a href='file:///u/lsarra/conda-envs/dc2/lib/python3.8/site-packages/qiskit/transpiler/runningpassmanager.py?line=154'>155</a>\u001b[0m \u001b[39m# Run the pass itself, if not already run\u001b[39;00m\n",
      "\u001b[1;32m    <a href='file:///u/lsarra/conda-envs/dc2/lib/python3.8/site-packages/qiskit/transpiler/runningpassmanager.py?line=155'>156</a>\u001b[0m \u001b[39mif\u001b[39;00m pass_ \u001b[39mnot\u001b[39;00m \u001b[39min\u001b[39;00m \u001b[39mself\u001b[39m\u001b[39m.\u001b[39mvalid_passes:\n",
      "\u001b[0;32m--> <a href='file:///u/lsarra/conda-envs/dc2/lib/python3.8/site-packages/qiskit/transpiler/runningpassmanager.py?line=156'>157</a>\u001b[0m     dag \u001b[39m=\u001b[39m \u001b[39mself\u001b[39;49m\u001b[39m.\u001b[39;49m_run_this_pass(pass_, dag)\n",
      "\u001b[1;32m    <a href='file:///u/lsarra/conda-envs/dc2/lib/python3.8/site-packages/qiskit/transpiler/runningpassmanager.py?line=158'>159</a>\u001b[0m     \u001b[39m# update the valid_passes property\u001b[39;00m\n",
      "\u001b[1;32m    <a href='file:///u/lsarra/conda-envs/dc2/lib/python3.8/site-packages/qiskit/transpiler/runningpassmanager.py?line=159'>160</a>\u001b[0m     \u001b[39mself\u001b[39m\u001b[39m.\u001b[39m_update_valid_passes(pass_)\n",
      "\n",
      "File \u001b[0;32m~/conda-envs/dc2/lib/python3.8/site-packages/qiskit/transpiler/runningpassmanager.py:186\u001b[0m, in \u001b[0;36mRunningPassManager._run_this_pass\u001b[0;34m(self, pass_, dag)\u001b[0m\n",
      "\u001b[1;32m    <a href='file:///u/lsarra/conda-envs/dc2/lib/python3.8/site-packages/qiskit/transpiler/runningpassmanager.py?line=182'>183</a>\u001b[0m \u001b[39mif\u001b[39;00m pass_\u001b[39m.\u001b[39mis_transformation_pass:\n",
      "\u001b[1;32m    <a href='file:///u/lsarra/conda-envs/dc2/lib/python3.8/site-packages/qiskit/transpiler/runningpassmanager.py?line=183'>184</a>\u001b[0m     \u001b[39m# Measure time if we have a callback or logging set\u001b[39;00m\n",
      "\u001b[1;32m    <a href='file:///u/lsarra/conda-envs/dc2/lib/python3.8/site-packages/qiskit/transpiler/runningpassmanager.py?line=184'>185</a>\u001b[0m     start_time \u001b[39m=\u001b[39m time()\n",
      "\u001b[0;32m--> <a href='file:///u/lsarra/conda-envs/dc2/lib/python3.8/site-packages/qiskit/transpiler/runningpassmanager.py?line=185'>186</a>\u001b[0m     new_dag \u001b[39m=\u001b[39m pass_\u001b[39m.\u001b[39;49mrun(dag)\n",
      "\u001b[1;32m    <a href='file:///u/lsarra/conda-envs/dc2/lib/python3.8/site-packages/qiskit/transpiler/runningpassmanager.py?line=186'>187</a>\u001b[0m     end_time \u001b[39m=\u001b[39m time()\n",
      "\u001b[1;32m    <a href='file:///u/lsarra/conda-envs/dc2/lib/python3.8/site-packages/qiskit/transpiler/runningpassmanager.py?line=187'>188</a>\u001b[0m     run_time \u001b[39m=\u001b[39m end_time \u001b[39m-\u001b[39m start_time\n",
      "\n",
      "File \u001b[0;32m~/conda-envs/dc2/lib/python3.8/site-packages/qiskit/transpiler/passes/basis/basis_translator.py:206\u001b[0m, in \u001b[0;36mBasisTranslator.run\u001b[0;34m(self, dag)\u001b[0m\n",
      "\u001b[1;32m    <a href='file:///u/lsarra/conda-envs/dc2/lib/python3.8/site-packages/qiskit/transpiler/passes/basis/basis_translator.py?line=200'>201</a>\u001b[0m logger\u001b[39m.\u001b[39minfo(\n",
      "\u001b[1;32m    <a href='file:///u/lsarra/conda-envs/dc2/lib/python3.8/site-packages/qiskit/transpiler/passes/basis/basis_translator.py?line=201'>202</a>\u001b[0m     \u001b[39m\"\u001b[39m\u001b[39mBasis translation path search completed in \u001b[39m\u001b[39m%.3f\u001b[39;00m\u001b[39ms.\u001b[39m\u001b[39m\"\u001b[39m, search_end_time \u001b[39m-\u001b[39m search_start_time\n",
      "\u001b[1;32m    <a href='file:///u/lsarra/conda-envs/dc2/lib/python3.8/site-packages/qiskit/transpiler/passes/basis/basis_translator.py?line=202'>203</a>\u001b[0m )\n",
      "\u001b[1;32m    <a href='file:///u/lsarra/conda-envs/dc2/lib/python3.8/site-packages/qiskit/transpiler/passes/basis/basis_translator.py?line=204'>205</a>\u001b[0m \u001b[39mif\u001b[39;00m basis_transforms \u001b[39mis\u001b[39;00m \u001b[39mNone\u001b[39;00m:\n",
      "\u001b[0;32m--> <a href='file:///u/lsarra/conda-envs/dc2/lib/python3.8/site-packages/qiskit/transpiler/passes/basis/basis_translator.py?line=205'>206</a>\u001b[0m     \u001b[39mraise\u001b[39;00m TranspilerError(\n",
      "\u001b[1;32m    <a href='file:///u/lsarra/conda-envs/dc2/lib/python3.8/site-packages/qiskit/transpiler/passes/basis/basis_translator.py?line=206'>207</a>\u001b[0m         \u001b[39m\"\u001b[39m\u001b[39mUnable to map source basis \u001b[39m\u001b[39m{}\u001b[39;00m\u001b[39m to target basis \u001b[39m\u001b[39m{}\u001b[39;00m\u001b[39m \u001b[39m\u001b[39m\"\u001b[39m\n",
      "\u001b[1;32m    <a href='file:///u/lsarra/conda-envs/dc2/lib/python3.8/site-packages/qiskit/transpiler/passes/basis/basis_translator.py?line=207'>208</a>\u001b[0m         \u001b[39m\"\u001b[39m\u001b[39mover library \u001b[39m\u001b[39m{}\u001b[39;00m\u001b[39m.\u001b[39m\u001b[39m\"\u001b[39m\u001b[39m.\u001b[39mformat(source_basis, target_basis, \u001b[39mself\u001b[39m\u001b[39m.\u001b[39m_equiv_lib)\n",
      "\u001b[1;32m    <a href='file:///u/lsarra/conda-envs/dc2/lib/python3.8/site-packages/qiskit/transpiler/passes/basis/basis_translator.py?line=208'>209</a>\u001b[0m     )\n",
      "\u001b[1;32m    <a href='file:///u/lsarra/conda-envs/dc2/lib/python3.8/site-packages/qiskit/transpiler/passes/basis/basis_translator.py?line=210'>211</a>\u001b[0m \u001b[39m# Compose found path into a set of instruction substitution rules.\u001b[39;00m\n",
      "\u001b[1;32m    <a href='file:///u/lsarra/conda-envs/dc2/lib/python3.8/site-packages/qiskit/transpiler/passes/basis/basis_translator.py?line=212'>213</a>\u001b[0m compose_start_time \u001b[39m=\u001b[39m time\u001b[39m.\u001b[39mtime()\n",
      "\n",
      "\u001b[0;31mTranspilerError\u001b[0m: \"Unable to map source basis {('csx', 2)} to target basis {'cx', 'snapshot', 't', 'tdg', 'reset', 'delay', 'barrier', 'h', 'measure'} over library <qiskit.circuit.equivalence.EquivalenceLibrary object at 0x1506702481f0>.\""
     ]
    }
   ],
   "source": [
    "with QiskitTester(2) as QT:\n",
    "    QT.circuit.csx(QT.q(0),QT.q(1))\n",
    "QT.circuit = pm.run( QT.circuit)\n",
    "transpiled=qk.transpile(QT.circuit, backend, basis_gates)\n",
    "discretized = skd(transpiled)\n",
    "QT.circuit.draw(),transpiled.draw(),discretized.draw()"
   ]
  },
  {
   "cell_type": "code",
   "execution_count": 172,
   "metadata": {},
   "outputs": [
    {
     "ename": "TranspilerError",
     "evalue": "\"Unable to map source basis {('u2', 1), ('u1', 1), ('cx', 2)} to target basis {'cx', 'snapshot', 't', 'tdg', 'reset', 'delay', 'barrier', 'h', 'measure'} over library <qiskit.circuit.equivalence.EquivalenceLibrary object at 0x1506702481f0>.\"",
     "output_type": "error",
     "traceback": [
      "\u001b[0;31m---------------------------------------------------------------------------\u001b[0m",
      "\u001b[0;31mTranspilerError\u001b[0m                           Traceback (most recent call last)",
      "\u001b[1;32m/u/lsarra/notebooks/unitary-synthesis/ec/quantum_notebook-2.ipynb Cell 37'\u001b[0m in \u001b[0;36m<cell line: 4>\u001b[0;34m()\u001b[0m\n\u001b[1;32m      <a href='vscode-notebook-cell://ssh-remote%2Bzpg003/u/lsarra/notebooks/unitary-synthesis/ec/quantum_notebook-2.ipynb#ch0000114vscode-remote?line=1'>2</a>\u001b[0m     QT\u001b[39m.\u001b[39mcircuit\u001b[39m.\u001b[39mrcccx(QT\u001b[39m.\u001b[39mq(\u001b[39m0\u001b[39m),QT\u001b[39m.\u001b[39mq(\u001b[39m1\u001b[39m),QT\u001b[39m.\u001b[39mq(\u001b[39m2\u001b[39m),QT\u001b[39m.\u001b[39mq(\u001b[39m3\u001b[39m))\n\u001b[1;32m      <a href='vscode-notebook-cell://ssh-remote%2Bzpg003/u/lsarra/notebooks/unitary-synthesis/ec/quantum_notebook-2.ipynb#ch0000114vscode-remote?line=2'>3</a>\u001b[0m QT\u001b[39m.\u001b[39mresult\n\u001b[0;32m----> <a href='vscode-notebook-cell://ssh-remote%2Bzpg003/u/lsarra/notebooks/unitary-synthesis/ec/quantum_notebook-2.ipynb#ch0000114vscode-remote?line=3'>4</a>\u001b[0m transpiled\u001b[39m=\u001b[39mqk\u001b[39m.\u001b[39;49mtranspile(QT\u001b[39m.\u001b[39;49mcircuit, backend, basis_gates)\n\u001b[1;32m      <a href='vscode-notebook-cell://ssh-remote%2Bzpg003/u/lsarra/notebooks/unitary-synthesis/ec/quantum_notebook-2.ipynb#ch0000114vscode-remote?line=4'>5</a>\u001b[0m discretized \u001b[39m=\u001b[39m skd(transpiled)\n\u001b[1;32m      <a href='vscode-notebook-cell://ssh-remote%2Bzpg003/u/lsarra/notebooks/unitary-synthesis/ec/quantum_notebook-2.ipynb#ch0000114vscode-remote?line=5'>6</a>\u001b[0m QT\u001b[39m.\u001b[39mcircuit\u001b[39m.\u001b[39mdraw(),transpiled\u001b[39m.\u001b[39mdraw(),discretized\u001b[39m.\u001b[39mdraw()\n",
      "File \u001b[0;32m~/conda-envs/dc2/lib/python3.8/site-packages/qiskit/compiler/transpiler.py:303\u001b[0m, in \u001b[0;36mtranspile\u001b[0;34m(circuits, backend, basis_gates, inst_map, coupling_map, backend_properties, initial_layout, layout_method, routing_method, translation_method, scheduling_method, instruction_durations, dt, approximation_degree, timing_constraints, seed_transpiler, optimization_level, callback, output_name, unitary_synthesis_method, unitary_synthesis_plugin_config, target)\u001b[0m\n\u001b[1;32m    <a href='file:///u/lsarra/conda-envs/dc2/lib/python3.8/site-packages/qiskit/compiler/transpiler.py?line=299'>300</a>\u001b[0m _check_circuits_coupling_map(circuits, transpile_args, backend)\n\u001b[1;32m    <a href='file:///u/lsarra/conda-envs/dc2/lib/python3.8/site-packages/qiskit/compiler/transpiler.py?line=301'>302</a>\u001b[0m \u001b[39m# Transpile circuits in parallel\u001b[39;00m\n\u001b[0;32m--> <a href='file:///u/lsarra/conda-envs/dc2/lib/python3.8/site-packages/qiskit/compiler/transpiler.py?line=302'>303</a>\u001b[0m circuits \u001b[39m=\u001b[39m parallel_map(_transpile_circuit, \u001b[39mlist\u001b[39;49m(\u001b[39mzip\u001b[39;49m(circuits, transpile_args)))\n\u001b[1;32m    <a href='file:///u/lsarra/conda-envs/dc2/lib/python3.8/site-packages/qiskit/compiler/transpiler.py?line=304'>305</a>\u001b[0m end_time \u001b[39m=\u001b[39m time()\n\u001b[1;32m    <a href='file:///u/lsarra/conda-envs/dc2/lib/python3.8/site-packages/qiskit/compiler/transpiler.py?line=305'>306</a>\u001b[0m _log_transpile_time(start_time, end_time)\n",
      "File \u001b[0;32m~/conda-envs/dc2/lib/python3.8/site-packages/qiskit/tools/parallel.py:129\u001b[0m, in \u001b[0;36mparallel_map\u001b[0;34m(task, values, task_args, task_kwargs, num_processes)\u001b[0m\n\u001b[1;32m    <a href='file:///u/lsarra/conda-envs/dc2/lib/python3.8/site-packages/qiskit/tools/parallel.py?line=126'>127</a>\u001b[0m     \u001b[39mreturn\u001b[39;00m []\n\u001b[1;32m    <a href='file:///u/lsarra/conda-envs/dc2/lib/python3.8/site-packages/qiskit/tools/parallel.py?line=127'>128</a>\u001b[0m \u001b[39mif\u001b[39;00m \u001b[39mlen\u001b[39m(values) \u001b[39m==\u001b[39m \u001b[39m1\u001b[39m:\n\u001b[0;32m--> <a href='file:///u/lsarra/conda-envs/dc2/lib/python3.8/site-packages/qiskit/tools/parallel.py?line=128'>129</a>\u001b[0m     \u001b[39mreturn\u001b[39;00m [task(values[\u001b[39m0\u001b[39;49m], \u001b[39m*\u001b[39;49mtask_args, \u001b[39m*\u001b[39;49m\u001b[39m*\u001b[39;49mtask_kwargs)]\n\u001b[1;32m    <a href='file:///u/lsarra/conda-envs/dc2/lib/python3.8/site-packages/qiskit/tools/parallel.py?line=130'>131</a>\u001b[0m Publisher()\u001b[39m.\u001b[39mpublish(\u001b[39m\"\u001b[39m\u001b[39mterra.parallel.start\u001b[39m\u001b[39m\"\u001b[39m, \u001b[39mlen\u001b[39m(values))\n\u001b[1;32m    <a href='file:///u/lsarra/conda-envs/dc2/lib/python3.8/site-packages/qiskit/tools/parallel.py?line=131'>132</a>\u001b[0m nfinished \u001b[39m=\u001b[39m [\u001b[39m0\u001b[39m]\n",
      "File \u001b[0;32m~/conda-envs/dc2/lib/python3.8/site-packages/qiskit/compiler/transpiler.py:386\u001b[0m, in \u001b[0;36m_transpile_circuit\u001b[0;34m(circuit_config_tuple)\u001b[0m\n\u001b[1;32m    <a href='file:///u/lsarra/conda-envs/dc2/lib/python3.8/site-packages/qiskit/compiler/transpiler.py?line=382'>383</a>\u001b[0m \u001b[39melse\u001b[39;00m:\n\u001b[1;32m    <a href='file:///u/lsarra/conda-envs/dc2/lib/python3.8/site-packages/qiskit/compiler/transpiler.py?line=383'>384</a>\u001b[0m     \u001b[39mraise\u001b[39;00m TranspilerError(\u001b[39m\"\u001b[39m\u001b[39moptimization_level can range from 0 to 3.\u001b[39m\u001b[39m\"\u001b[39m)\n\u001b[0;32m--> <a href='file:///u/lsarra/conda-envs/dc2/lib/python3.8/site-packages/qiskit/compiler/transpiler.py?line=385'>386</a>\u001b[0m result \u001b[39m=\u001b[39m pass_manager\u001b[39m.\u001b[39;49mrun(\n\u001b[1;32m    <a href='file:///u/lsarra/conda-envs/dc2/lib/python3.8/site-packages/qiskit/compiler/transpiler.py?line=386'>387</a>\u001b[0m     circuit, callback\u001b[39m=\u001b[39;49mtranspile_config[\u001b[39m\"\u001b[39;49m\u001b[39mcallback\u001b[39;49m\u001b[39m\"\u001b[39;49m], output_name\u001b[39m=\u001b[39;49mtranspile_config[\u001b[39m\"\u001b[39;49m\u001b[39moutput_name\u001b[39;49m\u001b[39m\"\u001b[39;49m]\n\u001b[1;32m    <a href='file:///u/lsarra/conda-envs/dc2/lib/python3.8/site-packages/qiskit/compiler/transpiler.py?line=387'>388</a>\u001b[0m )\n\u001b[1;32m    <a href='file:///u/lsarra/conda-envs/dc2/lib/python3.8/site-packages/qiskit/compiler/transpiler.py?line=389'>390</a>\u001b[0m \u001b[39mif\u001b[39;00m transpile_config[\u001b[39m\"\u001b[39m\u001b[39mfaulty_qubits_map\u001b[39m\u001b[39m\"\u001b[39m]:\n\u001b[1;32m    <a href='file:///u/lsarra/conda-envs/dc2/lib/python3.8/site-packages/qiskit/compiler/transpiler.py?line=390'>391</a>\u001b[0m     \u001b[39mreturn\u001b[39;00m _remap_circuit_faulty_backend(\n\u001b[1;32m    <a href='file:///u/lsarra/conda-envs/dc2/lib/python3.8/site-packages/qiskit/compiler/transpiler.py?line=391'>392</a>\u001b[0m         result,\n\u001b[1;32m    <a href='file:///u/lsarra/conda-envs/dc2/lib/python3.8/site-packages/qiskit/compiler/transpiler.py?line=392'>393</a>\u001b[0m         transpile_config[\u001b[39m\"\u001b[39m\u001b[39mbackend_num_qubits\u001b[39m\u001b[39m\"\u001b[39m],\n\u001b[1;32m    <a href='file:///u/lsarra/conda-envs/dc2/lib/python3.8/site-packages/qiskit/compiler/transpiler.py?line=393'>394</a>\u001b[0m         pass_manager_config\u001b[39m.\u001b[39mbackend_properties,\n\u001b[1;32m    <a href='file:///u/lsarra/conda-envs/dc2/lib/python3.8/site-packages/qiskit/compiler/transpiler.py?line=394'>395</a>\u001b[0m         transpile_config[\u001b[39m\"\u001b[39m\u001b[39mfaulty_qubits_map\u001b[39m\u001b[39m\"\u001b[39m],\n\u001b[1;32m    <a href='file:///u/lsarra/conda-envs/dc2/lib/python3.8/site-packages/qiskit/compiler/transpiler.py?line=395'>396</a>\u001b[0m     )\n",
      "File \u001b[0;32m~/conda-envs/dc2/lib/python3.8/site-packages/qiskit/transpiler/passmanager.py:222\u001b[0m, in \u001b[0;36mPassManager.run\u001b[0;34m(self, circuits, output_name, callback)\u001b[0m\n\u001b[1;32m    <a href='file:///u/lsarra/conda-envs/dc2/lib/python3.8/site-packages/qiskit/transpiler/passmanager.py?line=219'>220</a>\u001b[0m     \u001b[39mreturn\u001b[39;00m circuits\n\u001b[1;32m    <a href='file:///u/lsarra/conda-envs/dc2/lib/python3.8/site-packages/qiskit/transpiler/passmanager.py?line=220'>221</a>\u001b[0m \u001b[39mif\u001b[39;00m \u001b[39misinstance\u001b[39m(circuits, QuantumCircuit):\n\u001b[0;32m--> <a href='file:///u/lsarra/conda-envs/dc2/lib/python3.8/site-packages/qiskit/transpiler/passmanager.py?line=221'>222</a>\u001b[0m     \u001b[39mreturn\u001b[39;00m \u001b[39mself\u001b[39;49m\u001b[39m.\u001b[39;49m_run_single_circuit(circuits, output_name, callback)\n\u001b[1;32m    <a href='file:///u/lsarra/conda-envs/dc2/lib/python3.8/site-packages/qiskit/transpiler/passmanager.py?line=222'>223</a>\u001b[0m \u001b[39mif\u001b[39;00m \u001b[39mlen\u001b[39m(circuits) \u001b[39m==\u001b[39m \u001b[39m1\u001b[39m:\n\u001b[1;32m    <a href='file:///u/lsarra/conda-envs/dc2/lib/python3.8/site-packages/qiskit/transpiler/passmanager.py?line=223'>224</a>\u001b[0m     \u001b[39mreturn\u001b[39;00m \u001b[39mself\u001b[39m\u001b[39m.\u001b[39m_run_single_circuit(circuits[\u001b[39m0\u001b[39m], output_name, callback)\n",
      "File \u001b[0;32m~/conda-envs/dc2/lib/python3.8/site-packages/qiskit/transpiler/passmanager.py:277\u001b[0m, in \u001b[0;36mPassManager._run_single_circuit\u001b[0;34m(self, circuit, output_name, callback)\u001b[0m\n\u001b[1;32m    <a href='file:///u/lsarra/conda-envs/dc2/lib/python3.8/site-packages/qiskit/transpiler/passmanager.py?line=264'>265</a>\u001b[0m \u001b[39m\"\"\"Run all the passes on a ``circuit``.\u001b[39;00m\n\u001b[1;32m    <a href='file:///u/lsarra/conda-envs/dc2/lib/python3.8/site-packages/qiskit/transpiler/passmanager.py?line=265'>266</a>\u001b[0m \n\u001b[1;32m    <a href='file:///u/lsarra/conda-envs/dc2/lib/python3.8/site-packages/qiskit/transpiler/passmanager.py?line=266'>267</a>\u001b[0m \u001b[39mArgs:\u001b[39;00m\n\u001b[0;32m   (...)\u001b[0m\n\u001b[1;32m    <a href='file:///u/lsarra/conda-envs/dc2/lib/python3.8/site-packages/qiskit/transpiler/passmanager.py?line=273'>274</a>\u001b[0m \u001b[39m    The transformed circuit.\u001b[39;00m\n\u001b[1;32m    <a href='file:///u/lsarra/conda-envs/dc2/lib/python3.8/site-packages/qiskit/transpiler/passmanager.py?line=274'>275</a>\u001b[0m \u001b[39m\"\"\"\u001b[39;00m\n\u001b[1;32m    <a href='file:///u/lsarra/conda-envs/dc2/lib/python3.8/site-packages/qiskit/transpiler/passmanager.py?line=275'>276</a>\u001b[0m running_passmanager \u001b[39m=\u001b[39m \u001b[39mself\u001b[39m\u001b[39m.\u001b[39m_create_running_passmanager()\n\u001b[0;32m--> <a href='file:///u/lsarra/conda-envs/dc2/lib/python3.8/site-packages/qiskit/transpiler/passmanager.py?line=276'>277</a>\u001b[0m result \u001b[39m=\u001b[39m running_passmanager\u001b[39m.\u001b[39;49mrun(circuit, output_name\u001b[39m=\u001b[39;49moutput_name, callback\u001b[39m=\u001b[39;49mcallback)\n\u001b[1;32m    <a href='file:///u/lsarra/conda-envs/dc2/lib/python3.8/site-packages/qiskit/transpiler/passmanager.py?line=277'>278</a>\u001b[0m \u001b[39mself\u001b[39m\u001b[39m.\u001b[39mproperty_set \u001b[39m=\u001b[39m running_passmanager\u001b[39m.\u001b[39mproperty_set\n\u001b[1;32m    <a href='file:///u/lsarra/conda-envs/dc2/lib/python3.8/site-packages/qiskit/transpiler/passmanager.py?line=278'>279</a>\u001b[0m \u001b[39mreturn\u001b[39;00m result\n",
      "File \u001b[0;32m~/conda-envs/dc2/lib/python3.8/site-packages/qiskit/transpiler/runningpassmanager.py:124\u001b[0m, in \u001b[0;36mRunningPassManager.run\u001b[0;34m(***failed resolving arguments***)\u001b[0m\n\u001b[1;32m    <a href='file:///u/lsarra/conda-envs/dc2/lib/python3.8/site-packages/qiskit/transpiler/runningpassmanager.py?line=121'>122</a>\u001b[0m \u001b[39mfor\u001b[39;00m passset \u001b[39min\u001b[39;00m \u001b[39mself\u001b[39m\u001b[39m.\u001b[39mworking_list:\n\u001b[1;32m    <a href='file:///u/lsarra/conda-envs/dc2/lib/python3.8/site-packages/qiskit/transpiler/runningpassmanager.py?line=122'>123</a>\u001b[0m     \u001b[39mfor\u001b[39;00m pass_ \u001b[39min\u001b[39;00m passset:\n\u001b[0;32m--> <a href='file:///u/lsarra/conda-envs/dc2/lib/python3.8/site-packages/qiskit/transpiler/runningpassmanager.py?line=123'>124</a>\u001b[0m         dag \u001b[39m=\u001b[39m \u001b[39mself\u001b[39;49m\u001b[39m.\u001b[39;49m_do_pass(pass_, dag, passset\u001b[39m.\u001b[39;49moptions)\n\u001b[1;32m    <a href='file:///u/lsarra/conda-envs/dc2/lib/python3.8/site-packages/qiskit/transpiler/runningpassmanager.py?line=125'>126</a>\u001b[0m circuit \u001b[39m=\u001b[39m dag_to_circuit(dag)\n\u001b[1;32m    <a href='file:///u/lsarra/conda-envs/dc2/lib/python3.8/site-packages/qiskit/transpiler/runningpassmanager.py?line=126'>127</a>\u001b[0m \u001b[39mif\u001b[39;00m output_name:\n",
      "File \u001b[0;32m~/conda-envs/dc2/lib/python3.8/site-packages/qiskit/transpiler/runningpassmanager.py:157\u001b[0m, in \u001b[0;36mRunningPassManager._do_pass\u001b[0;34m(self, pass_, dag, options)\u001b[0m\n\u001b[1;32m    <a href='file:///u/lsarra/conda-envs/dc2/lib/python3.8/site-packages/qiskit/transpiler/runningpassmanager.py?line=154'>155</a>\u001b[0m \u001b[39m# Run the pass itself, if not already run\u001b[39;00m\n\u001b[1;32m    <a href='file:///u/lsarra/conda-envs/dc2/lib/python3.8/site-packages/qiskit/transpiler/runningpassmanager.py?line=155'>156</a>\u001b[0m \u001b[39mif\u001b[39;00m pass_ \u001b[39mnot\u001b[39;00m \u001b[39min\u001b[39;00m \u001b[39mself\u001b[39m\u001b[39m.\u001b[39mvalid_passes:\n\u001b[0;32m--> <a href='file:///u/lsarra/conda-envs/dc2/lib/python3.8/site-packages/qiskit/transpiler/runningpassmanager.py?line=156'>157</a>\u001b[0m     dag \u001b[39m=\u001b[39m \u001b[39mself\u001b[39;49m\u001b[39m.\u001b[39;49m_run_this_pass(pass_, dag)\n\u001b[1;32m    <a href='file:///u/lsarra/conda-envs/dc2/lib/python3.8/site-packages/qiskit/transpiler/runningpassmanager.py?line=158'>159</a>\u001b[0m     \u001b[39m# update the valid_passes property\u001b[39;00m\n\u001b[1;32m    <a href='file:///u/lsarra/conda-envs/dc2/lib/python3.8/site-packages/qiskit/transpiler/runningpassmanager.py?line=159'>160</a>\u001b[0m     \u001b[39mself\u001b[39m\u001b[39m.\u001b[39m_update_valid_passes(pass_)\n",
      "File \u001b[0;32m~/conda-envs/dc2/lib/python3.8/site-packages/qiskit/transpiler/runningpassmanager.py:186\u001b[0m, in \u001b[0;36mRunningPassManager._run_this_pass\u001b[0;34m(self, pass_, dag)\u001b[0m\n\u001b[1;32m    <a href='file:///u/lsarra/conda-envs/dc2/lib/python3.8/site-packages/qiskit/transpiler/runningpassmanager.py?line=182'>183</a>\u001b[0m \u001b[39mif\u001b[39;00m pass_\u001b[39m.\u001b[39mis_transformation_pass:\n\u001b[1;32m    <a href='file:///u/lsarra/conda-envs/dc2/lib/python3.8/site-packages/qiskit/transpiler/runningpassmanager.py?line=183'>184</a>\u001b[0m     \u001b[39m# Measure time if we have a callback or logging set\u001b[39;00m\n\u001b[1;32m    <a href='file:///u/lsarra/conda-envs/dc2/lib/python3.8/site-packages/qiskit/transpiler/runningpassmanager.py?line=184'>185</a>\u001b[0m     start_time \u001b[39m=\u001b[39m time()\n\u001b[0;32m--> <a href='file:///u/lsarra/conda-envs/dc2/lib/python3.8/site-packages/qiskit/transpiler/runningpassmanager.py?line=185'>186</a>\u001b[0m     new_dag \u001b[39m=\u001b[39m pass_\u001b[39m.\u001b[39;49mrun(dag)\n\u001b[1;32m    <a href='file:///u/lsarra/conda-envs/dc2/lib/python3.8/site-packages/qiskit/transpiler/runningpassmanager.py?line=186'>187</a>\u001b[0m     end_time \u001b[39m=\u001b[39m time()\n\u001b[1;32m    <a href='file:///u/lsarra/conda-envs/dc2/lib/python3.8/site-packages/qiskit/transpiler/runningpassmanager.py?line=187'>188</a>\u001b[0m     run_time \u001b[39m=\u001b[39m end_time \u001b[39m-\u001b[39m start_time\n",
      "File \u001b[0;32m~/conda-envs/dc2/lib/python3.8/site-packages/qiskit/transpiler/passes/basis/basis_translator.py:206\u001b[0m, in \u001b[0;36mBasisTranslator.run\u001b[0;34m(self, dag)\u001b[0m\n\u001b[1;32m    <a href='file:///u/lsarra/conda-envs/dc2/lib/python3.8/site-packages/qiskit/transpiler/passes/basis/basis_translator.py?line=200'>201</a>\u001b[0m logger\u001b[39m.\u001b[39minfo(\n\u001b[1;32m    <a href='file:///u/lsarra/conda-envs/dc2/lib/python3.8/site-packages/qiskit/transpiler/passes/basis/basis_translator.py?line=201'>202</a>\u001b[0m     \u001b[39m\"\u001b[39m\u001b[39mBasis translation path search completed in \u001b[39m\u001b[39m%.3f\u001b[39;00m\u001b[39ms.\u001b[39m\u001b[39m\"\u001b[39m, search_end_time \u001b[39m-\u001b[39m search_start_time\n\u001b[1;32m    <a href='file:///u/lsarra/conda-envs/dc2/lib/python3.8/site-packages/qiskit/transpiler/passes/basis/basis_translator.py?line=202'>203</a>\u001b[0m )\n\u001b[1;32m    <a href='file:///u/lsarra/conda-envs/dc2/lib/python3.8/site-packages/qiskit/transpiler/passes/basis/basis_translator.py?line=204'>205</a>\u001b[0m \u001b[39mif\u001b[39;00m basis_transforms \u001b[39mis\u001b[39;00m \u001b[39mNone\u001b[39;00m:\n\u001b[0;32m--> <a href='file:///u/lsarra/conda-envs/dc2/lib/python3.8/site-packages/qiskit/transpiler/passes/basis/basis_translator.py?line=205'>206</a>\u001b[0m     \u001b[39mraise\u001b[39;00m TranspilerError(\n\u001b[1;32m    <a href='file:///u/lsarra/conda-envs/dc2/lib/python3.8/site-packages/qiskit/transpiler/passes/basis/basis_translator.py?line=206'>207</a>\u001b[0m         \u001b[39m\"\u001b[39m\u001b[39mUnable to map source basis \u001b[39m\u001b[39m{}\u001b[39;00m\u001b[39m to target basis \u001b[39m\u001b[39m{}\u001b[39;00m\u001b[39m \u001b[39m\u001b[39m\"\u001b[39m\n\u001b[1;32m    <a href='file:///u/lsarra/conda-envs/dc2/lib/python3.8/site-packages/qiskit/transpiler/passes/basis/basis_translator.py?line=207'>208</a>\u001b[0m         \u001b[39m\"\u001b[39m\u001b[39mover library \u001b[39m\u001b[39m{}\u001b[39;00m\u001b[39m.\u001b[39m\u001b[39m\"\u001b[39m\u001b[39m.\u001b[39mformat(source_basis, target_basis, \u001b[39mself\u001b[39m\u001b[39m.\u001b[39m_equiv_lib)\n\u001b[1;32m    <a href='file:///u/lsarra/conda-envs/dc2/lib/python3.8/site-packages/qiskit/transpiler/passes/basis/basis_translator.py?line=208'>209</a>\u001b[0m     )\n\u001b[1;32m    <a href='file:///u/lsarra/conda-envs/dc2/lib/python3.8/site-packages/qiskit/transpiler/passes/basis/basis_translator.py?line=210'>211</a>\u001b[0m \u001b[39m# Compose found path into a set of instruction substitution rules.\u001b[39;00m\n\u001b[1;32m    <a href='file:///u/lsarra/conda-envs/dc2/lib/python3.8/site-packages/qiskit/transpiler/passes/basis/basis_translator.py?line=212'>213</a>\u001b[0m compose_start_time \u001b[39m=\u001b[39m time\u001b[39m.\u001b[39mtime()\n",
      "\u001b[0;31mTranspilerError\u001b[0m: \"Unable to map source basis {('u2', 1), ('u1', 1), ('cx', 2)} to target basis {'cx', 'snapshot', 't', 'tdg', 'reset', 'delay', 'barrier', 'h', 'measure'} over library <qiskit.circuit.equivalence.EquivalenceLibrary object at 0x1506702481f0>.\""
     ]
    }
   ],
   "source": [
    "with QiskitTester(4) as QT:\n",
    "    QT.circuit.rcccx(QT.q(0),QT.q(1),QT.q(2),QT.q(3))\n",
    "QT.result\n",
    "transpiled=qk.transpile(QT.circuit, backend, basis_gates)\n",
    "discretized = skd(transpiled)\n",
    "QT.circuit.draw(),transpiled.draw(),discretized.draw()"
   ]
  },
  {
   "cell_type": "code",
   "execution_count": null,
   "metadata": {},
   "outputs": [],
   "source": []
  },
  {
   "cell_type": "code",
   "execution_count": null,
   "metadata": {},
   "outputs": [
    {
     "ename": "TranspilerError",
     "evalue": "\"Unable to map source basis {('ecr', 2)} to target basis {'cx', 'snapshot', 't', 'tdg', 'reset', 'delay', 'barrier', 'h', 'measure'} over library <qiskit.circuit.equivalence.EquivalenceLibrary object at 0x1506702481f0>.\"",
     "output_type": "error",
     "traceback": [
      "\u001b[0;31m---------------------------------------------------------------------------\u001b[0m\n",
      "\u001b[0;31mTranspilerError\u001b[0m                           Traceback (most recent call last)\n",
      "\u001b[1;32m/u/lsarra/notebooks/unitary-synthesis/ec/quantum_notebook-2.ipynb Cell 27'\u001b[0m in \u001b[0;36m<cell line: 4>\u001b[0;34m()\u001b[0m\n",
      "\u001b[1;32m      <a href='vscode-notebook-cell://ssh-remote%2Bzpg003/u/lsarra/notebooks/unitary-synthesis/ec/quantum_notebook-2.ipynb#ch0000092vscode-remote?line=1'>2</a>\u001b[0m     QT\u001b[39m.\u001b[39mcircuit\u001b[39m.\u001b[39mecr(QT\u001b[39m.\u001b[39mq(\u001b[39m0\u001b[39m),QT\u001b[39m.\u001b[39mq(\u001b[39m1\u001b[39m))\n",
      "\u001b[1;32m      <a href='vscode-notebook-cell://ssh-remote%2Bzpg003/u/lsarra/notebooks/unitary-synthesis/ec/quantum_notebook-2.ipynb#ch0000092vscode-remote?line=2'>3</a>\u001b[0m QT\u001b[39m.\u001b[39mcircuit \u001b[39m=\u001b[39m pm\u001b[39m.\u001b[39mrun( QT\u001b[39m.\u001b[39mcircuit)\n",
      "\u001b[0;32m----> <a href='vscode-notebook-cell://ssh-remote%2Bzpg003/u/lsarra/notebooks/unitary-synthesis/ec/quantum_notebook-2.ipynb#ch0000092vscode-remote?line=3'>4</a>\u001b[0m transpiled\u001b[39m=\u001b[39mqk\u001b[39m.\u001b[39;49mtranspile(QT\u001b[39m.\u001b[39;49mcircuit, backend, basis_gates)\n",
      "\u001b[1;32m      <a href='vscode-notebook-cell://ssh-remote%2Bzpg003/u/lsarra/notebooks/unitary-synthesis/ec/quantum_notebook-2.ipynb#ch0000092vscode-remote?line=4'>5</a>\u001b[0m discretized \u001b[39m=\u001b[39m skd(transpiled)\n",
      "\u001b[1;32m      <a href='vscode-notebook-cell://ssh-remote%2Bzpg003/u/lsarra/notebooks/unitary-synthesis/ec/quantum_notebook-2.ipynb#ch0000092vscode-remote?line=5'>6</a>\u001b[0m QT\u001b[39m.\u001b[39mcircuit\u001b[39m.\u001b[39mdraw(),transpiled\u001b[39m.\u001b[39mdraw(),discretized\u001b[39m.\u001b[39mdraw()\n",
      "\n",
      "File \u001b[0;32m~/conda-envs/dc2/lib/python3.8/site-packages/qiskit/compiler/transpiler.py:303\u001b[0m, in \u001b[0;36mtranspile\u001b[0;34m(circuits, backend, basis_gates, inst_map, coupling_map, backend_properties, initial_layout, layout_method, routing_method, translation_method, scheduling_method, instruction_durations, dt, approximation_degree, timing_constraints, seed_transpiler, optimization_level, callback, output_name, unitary_synthesis_method, unitary_synthesis_plugin_config, target)\u001b[0m\n",
      "\u001b[1;32m    <a href='file:///u/lsarra/conda-envs/dc2/lib/python3.8/site-packages/qiskit/compiler/transpiler.py?line=299'>300</a>\u001b[0m _check_circuits_coupling_map(circuits, transpile_args, backend)\n",
      "\u001b[1;32m    <a href='file:///u/lsarra/conda-envs/dc2/lib/python3.8/site-packages/qiskit/compiler/transpiler.py?line=301'>302</a>\u001b[0m \u001b[39m# Transpile circuits in parallel\u001b[39;00m\n",
      "\u001b[0;32m--> <a href='file:///u/lsarra/conda-envs/dc2/lib/python3.8/site-packages/qiskit/compiler/transpiler.py?line=302'>303</a>\u001b[0m circuits \u001b[39m=\u001b[39m parallel_map(_transpile_circuit, \u001b[39mlist\u001b[39;49m(\u001b[39mzip\u001b[39;49m(circuits, transpile_args)))\n",
      "\u001b[1;32m    <a href='file:///u/lsarra/conda-envs/dc2/lib/python3.8/site-packages/qiskit/compiler/transpiler.py?line=304'>305</a>\u001b[0m end_time \u001b[39m=\u001b[39m time()\n",
      "\u001b[1;32m    <a href='file:///u/lsarra/conda-envs/dc2/lib/python3.8/site-packages/qiskit/compiler/transpiler.py?line=305'>306</a>\u001b[0m _log_transpile_time(start_time, end_time)\n",
      "\n",
      "File \u001b[0;32m~/conda-envs/dc2/lib/python3.8/site-packages/qiskit/tools/parallel.py:129\u001b[0m, in \u001b[0;36mparallel_map\u001b[0;34m(task, values, task_args, task_kwargs, num_processes)\u001b[0m\n",
      "\u001b[1;32m    <a href='file:///u/lsarra/conda-envs/dc2/lib/python3.8/site-packages/qiskit/tools/parallel.py?line=126'>127</a>\u001b[0m     \u001b[39mreturn\u001b[39;00m []\n",
      "\u001b[1;32m    <a href='file:///u/lsarra/conda-envs/dc2/lib/python3.8/site-packages/qiskit/tools/parallel.py?line=127'>128</a>\u001b[0m \u001b[39mif\u001b[39;00m \u001b[39mlen\u001b[39m(values) \u001b[39m==\u001b[39m \u001b[39m1\u001b[39m:\n",
      "\u001b[0;32m--> <a href='file:///u/lsarra/conda-envs/dc2/lib/python3.8/site-packages/qiskit/tools/parallel.py?line=128'>129</a>\u001b[0m     \u001b[39mreturn\u001b[39;00m [task(values[\u001b[39m0\u001b[39;49m], \u001b[39m*\u001b[39;49mtask_args, \u001b[39m*\u001b[39;49m\u001b[39m*\u001b[39;49mtask_kwargs)]\n",
      "\u001b[1;32m    <a href='file:///u/lsarra/conda-envs/dc2/lib/python3.8/site-packages/qiskit/tools/parallel.py?line=130'>131</a>\u001b[0m Publisher()\u001b[39m.\u001b[39mpublish(\u001b[39m\"\u001b[39m\u001b[39mterra.parallel.start\u001b[39m\u001b[39m\"\u001b[39m, \u001b[39mlen\u001b[39m(values))\n",
      "\u001b[1;32m    <a href='file:///u/lsarra/conda-envs/dc2/lib/python3.8/site-packages/qiskit/tools/parallel.py?line=131'>132</a>\u001b[0m nfinished \u001b[39m=\u001b[39m [\u001b[39m0\u001b[39m]\n",
      "\n",
      "File \u001b[0;32m~/conda-envs/dc2/lib/python3.8/site-packages/qiskit/compiler/transpiler.py:386\u001b[0m, in \u001b[0;36m_transpile_circuit\u001b[0;34m(circuit_config_tuple)\u001b[0m\n",
      "\u001b[1;32m    <a href='file:///u/lsarra/conda-envs/dc2/lib/python3.8/site-packages/qiskit/compiler/transpiler.py?line=382'>383</a>\u001b[0m \u001b[39melse\u001b[39;00m:\n",
      "\u001b[1;32m    <a href='file:///u/lsarra/conda-envs/dc2/lib/python3.8/site-packages/qiskit/compiler/transpiler.py?line=383'>384</a>\u001b[0m     \u001b[39mraise\u001b[39;00m TranspilerError(\u001b[39m\"\u001b[39m\u001b[39moptimization_level can range from 0 to 3.\u001b[39m\u001b[39m\"\u001b[39m)\n",
      "\u001b[0;32m--> <a href='file:///u/lsarra/conda-envs/dc2/lib/python3.8/site-packages/qiskit/compiler/transpiler.py?line=385'>386</a>\u001b[0m result \u001b[39m=\u001b[39m pass_manager\u001b[39m.\u001b[39;49mrun(\n",
      "\u001b[1;32m    <a href='file:///u/lsarra/conda-envs/dc2/lib/python3.8/site-packages/qiskit/compiler/transpiler.py?line=386'>387</a>\u001b[0m     circuit, callback\u001b[39m=\u001b[39;49mtranspile_config[\u001b[39m\"\u001b[39;49m\u001b[39mcallback\u001b[39;49m\u001b[39m\"\u001b[39;49m], output_name\u001b[39m=\u001b[39;49mtranspile_config[\u001b[39m\"\u001b[39;49m\u001b[39moutput_name\u001b[39;49m\u001b[39m\"\u001b[39;49m]\n",
      "\u001b[1;32m    <a href='file:///u/lsarra/conda-envs/dc2/lib/python3.8/site-packages/qiskit/compiler/transpiler.py?line=387'>388</a>\u001b[0m )\n",
      "\u001b[1;32m    <a href='file:///u/lsarra/conda-envs/dc2/lib/python3.8/site-packages/qiskit/compiler/transpiler.py?line=389'>390</a>\u001b[0m \u001b[39mif\u001b[39;00m transpile_config[\u001b[39m\"\u001b[39m\u001b[39mfaulty_qubits_map\u001b[39m\u001b[39m\"\u001b[39m]:\n",
      "\u001b[1;32m    <a href='file:///u/lsarra/conda-envs/dc2/lib/python3.8/site-packages/qiskit/compiler/transpiler.py?line=390'>391</a>\u001b[0m     \u001b[39mreturn\u001b[39;00m _remap_circuit_faulty_backend(\n",
      "\u001b[1;32m    <a href='file:///u/lsarra/conda-envs/dc2/lib/python3.8/site-packages/qiskit/compiler/transpiler.py?line=391'>392</a>\u001b[0m         result,\n",
      "\u001b[1;32m    <a href='file:///u/lsarra/conda-envs/dc2/lib/python3.8/site-packages/qiskit/compiler/transpiler.py?line=392'>393</a>\u001b[0m         transpile_config[\u001b[39m\"\u001b[39m\u001b[39mbackend_num_qubits\u001b[39m\u001b[39m\"\u001b[39m],\n",
      "\u001b[1;32m    <a href='file:///u/lsarra/conda-envs/dc2/lib/python3.8/site-packages/qiskit/compiler/transpiler.py?line=393'>394</a>\u001b[0m         pass_manager_config\u001b[39m.\u001b[39mbackend_properties,\n",
      "\u001b[1;32m    <a href='file:///u/lsarra/conda-envs/dc2/lib/python3.8/site-packages/qiskit/compiler/transpiler.py?line=394'>395</a>\u001b[0m         transpile_config[\u001b[39m\"\u001b[39m\u001b[39mfaulty_qubits_map\u001b[39m\u001b[39m\"\u001b[39m],\n",
      "\u001b[1;32m    <a href='file:///u/lsarra/conda-envs/dc2/lib/python3.8/site-packages/qiskit/compiler/transpiler.py?line=395'>396</a>\u001b[0m     )\n",
      "\n",
      "File \u001b[0;32m~/conda-envs/dc2/lib/python3.8/site-packages/qiskit/transpiler/passmanager.py:222\u001b[0m, in \u001b[0;36mPassManager.run\u001b[0;34m(self, circuits, output_name, callback)\u001b[0m\n",
      "\u001b[1;32m    <a href='file:///u/lsarra/conda-envs/dc2/lib/python3.8/site-packages/qiskit/transpiler/passmanager.py?line=219'>220</a>\u001b[0m     \u001b[39mreturn\u001b[39;00m circuits\n",
      "\u001b[1;32m    <a href='file:///u/lsarra/conda-envs/dc2/lib/python3.8/site-packages/qiskit/transpiler/passmanager.py?line=220'>221</a>\u001b[0m \u001b[39mif\u001b[39;00m \u001b[39misinstance\u001b[39m(circuits, QuantumCircuit):\n",
      "\u001b[0;32m--> <a href='file:///u/lsarra/conda-envs/dc2/lib/python3.8/site-packages/qiskit/transpiler/passmanager.py?line=221'>222</a>\u001b[0m     \u001b[39mreturn\u001b[39;00m \u001b[39mself\u001b[39;49m\u001b[39m.\u001b[39;49m_run_single_circuit(circuits, output_name, callback)\n",
      "\u001b[1;32m    <a href='file:///u/lsarra/conda-envs/dc2/lib/python3.8/site-packages/qiskit/transpiler/passmanager.py?line=222'>223</a>\u001b[0m \u001b[39mif\u001b[39;00m \u001b[39mlen\u001b[39m(circuits) \u001b[39m==\u001b[39m \u001b[39m1\u001b[39m:\n",
      "\u001b[1;32m    <a href='file:///u/lsarra/conda-envs/dc2/lib/python3.8/site-packages/qiskit/transpiler/passmanager.py?line=223'>224</a>\u001b[0m     \u001b[39mreturn\u001b[39;00m \u001b[39mself\u001b[39m\u001b[39m.\u001b[39m_run_single_circuit(circuits[\u001b[39m0\u001b[39m], output_name, callback)\n",
      "\n",
      "File \u001b[0;32m~/conda-envs/dc2/lib/python3.8/site-packages/qiskit/transpiler/passmanager.py:277\u001b[0m, in \u001b[0;36mPassManager._run_single_circuit\u001b[0;34m(self, circuit, output_name, callback)\u001b[0m\n",
      "\u001b[1;32m    <a href='file:///u/lsarra/conda-envs/dc2/lib/python3.8/site-packages/qiskit/transpiler/passmanager.py?line=264'>265</a>\u001b[0m \u001b[39m\"\"\"Run all the passes on a ``circuit``.\u001b[39;00m\n",
      "\u001b[1;32m    <a href='file:///u/lsarra/conda-envs/dc2/lib/python3.8/site-packages/qiskit/transpiler/passmanager.py?line=265'>266</a>\u001b[0m \n",
      "\u001b[1;32m    <a href='file:///u/lsarra/conda-envs/dc2/lib/python3.8/site-packages/qiskit/transpiler/passmanager.py?line=266'>267</a>\u001b[0m \u001b[39mArgs:\u001b[39;00m\n",
      "\u001b[0;32m   (...)\u001b[0m\n",
      "\u001b[1;32m    <a href='file:///u/lsarra/conda-envs/dc2/lib/python3.8/site-packages/qiskit/transpiler/passmanager.py?line=273'>274</a>\u001b[0m \u001b[39m    The transformed circuit.\u001b[39;00m\n",
      "\u001b[1;32m    <a href='file:///u/lsarra/conda-envs/dc2/lib/python3.8/site-packages/qiskit/transpiler/passmanager.py?line=274'>275</a>\u001b[0m \u001b[39m\"\"\"\u001b[39;00m\n",
      "\u001b[1;32m    <a href='file:///u/lsarra/conda-envs/dc2/lib/python3.8/site-packages/qiskit/transpiler/passmanager.py?line=275'>276</a>\u001b[0m running_passmanager \u001b[39m=\u001b[39m \u001b[39mself\u001b[39m\u001b[39m.\u001b[39m_create_running_passmanager()\n",
      "\u001b[0;32m--> <a href='file:///u/lsarra/conda-envs/dc2/lib/python3.8/site-packages/qiskit/transpiler/passmanager.py?line=276'>277</a>\u001b[0m result \u001b[39m=\u001b[39m running_passmanager\u001b[39m.\u001b[39;49mrun(circuit, output_name\u001b[39m=\u001b[39;49moutput_name, callback\u001b[39m=\u001b[39;49mcallback)\n",
      "\u001b[1;32m    <a href='file:///u/lsarra/conda-envs/dc2/lib/python3.8/site-packages/qiskit/transpiler/passmanager.py?line=277'>278</a>\u001b[0m \u001b[39mself\u001b[39m\u001b[39m.\u001b[39mproperty_set \u001b[39m=\u001b[39m running_passmanager\u001b[39m.\u001b[39mproperty_set\n",
      "\u001b[1;32m    <a href='file:///u/lsarra/conda-envs/dc2/lib/python3.8/site-packages/qiskit/transpiler/passmanager.py?line=278'>279</a>\u001b[0m \u001b[39mreturn\u001b[39;00m result\n",
      "\n",
      "File \u001b[0;32m~/conda-envs/dc2/lib/python3.8/site-packages/qiskit/transpiler/runningpassmanager.py:124\u001b[0m, in \u001b[0;36mRunningPassManager.run\u001b[0;34m(***failed resolving arguments***)\u001b[0m\n",
      "\u001b[1;32m    <a href='file:///u/lsarra/conda-envs/dc2/lib/python3.8/site-packages/qiskit/transpiler/runningpassmanager.py?line=121'>122</a>\u001b[0m \u001b[39mfor\u001b[39;00m passset \u001b[39min\u001b[39;00m \u001b[39mself\u001b[39m\u001b[39m.\u001b[39mworking_list:\n",
      "\u001b[1;32m    <a href='file:///u/lsarra/conda-envs/dc2/lib/python3.8/site-packages/qiskit/transpiler/runningpassmanager.py?line=122'>123</a>\u001b[0m     \u001b[39mfor\u001b[39;00m pass_ \u001b[39min\u001b[39;00m passset:\n",
      "\u001b[0;32m--> <a href='file:///u/lsarra/conda-envs/dc2/lib/python3.8/site-packages/qiskit/transpiler/runningpassmanager.py?line=123'>124</a>\u001b[0m         dag \u001b[39m=\u001b[39m \u001b[39mself\u001b[39;49m\u001b[39m.\u001b[39;49m_do_pass(pass_, dag, passset\u001b[39m.\u001b[39;49moptions)\n",
      "\u001b[1;32m    <a href='file:///u/lsarra/conda-envs/dc2/lib/python3.8/site-packages/qiskit/transpiler/runningpassmanager.py?line=125'>126</a>\u001b[0m circuit \u001b[39m=\u001b[39m dag_to_circuit(dag)\n",
      "\u001b[1;32m    <a href='file:///u/lsarra/conda-envs/dc2/lib/python3.8/site-packages/qiskit/transpiler/runningpassmanager.py?line=126'>127</a>\u001b[0m \u001b[39mif\u001b[39;00m output_name:\n",
      "\n",
      "File \u001b[0;32m~/conda-envs/dc2/lib/python3.8/site-packages/qiskit/transpiler/runningpassmanager.py:157\u001b[0m, in \u001b[0;36mRunningPassManager._do_pass\u001b[0;34m(self, pass_, dag, options)\u001b[0m\n",
      "\u001b[1;32m    <a href='file:///u/lsarra/conda-envs/dc2/lib/python3.8/site-packages/qiskit/transpiler/runningpassmanager.py?line=154'>155</a>\u001b[0m \u001b[39m# Run the pass itself, if not already run\u001b[39;00m\n",
      "\u001b[1;32m    <a href='file:///u/lsarra/conda-envs/dc2/lib/python3.8/site-packages/qiskit/transpiler/runningpassmanager.py?line=155'>156</a>\u001b[0m \u001b[39mif\u001b[39;00m pass_ \u001b[39mnot\u001b[39;00m \u001b[39min\u001b[39;00m \u001b[39mself\u001b[39m\u001b[39m.\u001b[39mvalid_passes:\n",
      "\u001b[0;32m--> <a href='file:///u/lsarra/conda-envs/dc2/lib/python3.8/site-packages/qiskit/transpiler/runningpassmanager.py?line=156'>157</a>\u001b[0m     dag \u001b[39m=\u001b[39m \u001b[39mself\u001b[39;49m\u001b[39m.\u001b[39;49m_run_this_pass(pass_, dag)\n",
      "\u001b[1;32m    <a href='file:///u/lsarra/conda-envs/dc2/lib/python3.8/site-packages/qiskit/transpiler/runningpassmanager.py?line=158'>159</a>\u001b[0m     \u001b[39m# update the valid_passes property\u001b[39;00m\n",
      "\u001b[1;32m    <a href='file:///u/lsarra/conda-envs/dc2/lib/python3.8/site-packages/qiskit/transpiler/runningpassmanager.py?line=159'>160</a>\u001b[0m     \u001b[39mself\u001b[39m\u001b[39m.\u001b[39m_update_valid_passes(pass_)\n",
      "\n",
      "File \u001b[0;32m~/conda-envs/dc2/lib/python3.8/site-packages/qiskit/transpiler/runningpassmanager.py:186\u001b[0m, in \u001b[0;36mRunningPassManager._run_this_pass\u001b[0;34m(self, pass_, dag)\u001b[0m\n",
      "\u001b[1;32m    <a href='file:///u/lsarra/conda-envs/dc2/lib/python3.8/site-packages/qiskit/transpiler/runningpassmanager.py?line=182'>183</a>\u001b[0m \u001b[39mif\u001b[39;00m pass_\u001b[39m.\u001b[39mis_transformation_pass:\n",
      "\u001b[1;32m    <a href='file:///u/lsarra/conda-envs/dc2/lib/python3.8/site-packages/qiskit/transpiler/runningpassmanager.py?line=183'>184</a>\u001b[0m     \u001b[39m# Measure time if we have a callback or logging set\u001b[39;00m\n",
      "\u001b[1;32m    <a href='file:///u/lsarra/conda-envs/dc2/lib/python3.8/site-packages/qiskit/transpiler/runningpassmanager.py?line=184'>185</a>\u001b[0m     start_time \u001b[39m=\u001b[39m time()\n",
      "\u001b[0;32m--> <a href='file:///u/lsarra/conda-envs/dc2/lib/python3.8/site-packages/qiskit/transpiler/runningpassmanager.py?line=185'>186</a>\u001b[0m     new_dag \u001b[39m=\u001b[39m pass_\u001b[39m.\u001b[39;49mrun(dag)\n",
      "\u001b[1;32m    <a href='file:///u/lsarra/conda-envs/dc2/lib/python3.8/site-packages/qiskit/transpiler/runningpassmanager.py?line=186'>187</a>\u001b[0m     end_time \u001b[39m=\u001b[39m time()\n",
      "\u001b[1;32m    <a href='file:///u/lsarra/conda-envs/dc2/lib/python3.8/site-packages/qiskit/transpiler/runningpassmanager.py?line=187'>188</a>\u001b[0m     run_time \u001b[39m=\u001b[39m end_time \u001b[39m-\u001b[39m start_time\n",
      "\n",
      "File \u001b[0;32m~/conda-envs/dc2/lib/python3.8/site-packages/qiskit/transpiler/passes/basis/basis_translator.py:206\u001b[0m, in \u001b[0;36mBasisTranslator.run\u001b[0;34m(self, dag)\u001b[0m\n",
      "\u001b[1;32m    <a href='file:///u/lsarra/conda-envs/dc2/lib/python3.8/site-packages/qiskit/transpiler/passes/basis/basis_translator.py?line=200'>201</a>\u001b[0m logger\u001b[39m.\u001b[39minfo(\n",
      "\u001b[1;32m    <a href='file:///u/lsarra/conda-envs/dc2/lib/python3.8/site-packages/qiskit/transpiler/passes/basis/basis_translator.py?line=201'>202</a>\u001b[0m     \u001b[39m\"\u001b[39m\u001b[39mBasis translation path search completed in \u001b[39m\u001b[39m%.3f\u001b[39;00m\u001b[39ms.\u001b[39m\u001b[39m\"\u001b[39m, search_end_time \u001b[39m-\u001b[39m search_start_time\n",
      "\u001b[1;32m    <a href='file:///u/lsarra/conda-envs/dc2/lib/python3.8/site-packages/qiskit/transpiler/passes/basis/basis_translator.py?line=202'>203</a>\u001b[0m )\n",
      "\u001b[1;32m    <a href='file:///u/lsarra/conda-envs/dc2/lib/python3.8/site-packages/qiskit/transpiler/passes/basis/basis_translator.py?line=204'>205</a>\u001b[0m \u001b[39mif\u001b[39;00m basis_transforms \u001b[39mis\u001b[39;00m \u001b[39mNone\u001b[39;00m:\n",
      "\u001b[0;32m--> <a href='file:///u/lsarra/conda-envs/dc2/lib/python3.8/site-packages/qiskit/transpiler/passes/basis/basis_translator.py?line=205'>206</a>\u001b[0m     \u001b[39mraise\u001b[39;00m TranspilerError(\n",
      "\u001b[1;32m    <a href='file:///u/lsarra/conda-envs/dc2/lib/python3.8/site-packages/qiskit/transpiler/passes/basis/basis_translator.py?line=206'>207</a>\u001b[0m         \u001b[39m\"\u001b[39m\u001b[39mUnable to map source basis \u001b[39m\u001b[39m{}\u001b[39;00m\u001b[39m to target basis \u001b[39m\u001b[39m{}\u001b[39;00m\u001b[39m \u001b[39m\u001b[39m\"\u001b[39m\n",
      "\u001b[1;32m    <a href='file:///u/lsarra/conda-envs/dc2/lib/python3.8/site-packages/qiskit/transpiler/passes/basis/basis_translator.py?line=207'>208</a>\u001b[0m         \u001b[39m\"\u001b[39m\u001b[39mover library \u001b[39m\u001b[39m{}\u001b[39;00m\u001b[39m.\u001b[39m\u001b[39m\"\u001b[39m\u001b[39m.\u001b[39mformat(source_basis, target_basis, \u001b[39mself\u001b[39m\u001b[39m.\u001b[39m_equiv_lib)\n",
      "\u001b[1;32m    <a href='file:///u/lsarra/conda-envs/dc2/lib/python3.8/site-packages/qiskit/transpiler/passes/basis/basis_translator.py?line=208'>209</a>\u001b[0m     )\n",
      "\u001b[1;32m    <a href='file:///u/lsarra/conda-envs/dc2/lib/python3.8/site-packages/qiskit/transpiler/passes/basis/basis_translator.py?line=210'>211</a>\u001b[0m \u001b[39m# Compose found path into a set of instruction substitution rules.\u001b[39;00m\n",
      "\u001b[1;32m    <a href='file:///u/lsarra/conda-envs/dc2/lib/python3.8/site-packages/qiskit/transpiler/passes/basis/basis_translator.py?line=212'>213</a>\u001b[0m compose_start_time \u001b[39m=\u001b[39m time\u001b[39m.\u001b[39mtime()\n",
      "\n",
      "\u001b[0;31mTranspilerError\u001b[0m: \"Unable to map source basis {('ecr', 2)} to target basis {'cx', 'snapshot', 't', 'tdg', 'reset', 'delay', 'barrier', 'h', 'measure'} over library <qiskit.circuit.equivalence.EquivalenceLibrary object at 0x1506702481f0>.\""
     ]
    }
   ],
   "source": [
    "with QiskitTester(2) as QT:\n",
    "    QT.circuit.ecr(QT.q(0),QT.q(1))\n",
    "QT.circuit = pm.run( QT.circuit)\n",
    "transpiled=qk.transpile(QT.circuit, backend, basis_gates)\n",
    "discretized = skd(transpiled)\n",
    "QT.circuit.draw(),transpiled.draw(),discretized.draw()"
   ]
  }
 ],
 "metadata": {
  "interpreter": {
   "hash": "21ea1a886259afbd8a118ef6898db29b8a19fae78d92613d0ae3d877be73df6a"
  },
  "kernelspec": {
   "display_name": "Python 3.8.13 ('dc2')",
   "language": "python",
   "name": "python3"
  },
  "language_info": {
   "codemirror_mode": {
    "name": "ipython",
    "version": 3
   },
   "file_extension": ".py",
   "mimetype": "text/x-python",
   "name": "python",
   "nbconvert_exporter": "python",
   "pygments_lexer": "ipython3",
   "version": "3.8.13"
  },
  "orig_nbformat": 4
 },
 "nbformat": 4,
 "nbformat_minor": 2
}
