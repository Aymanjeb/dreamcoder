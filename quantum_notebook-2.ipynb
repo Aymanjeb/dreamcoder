{
 "cells": [
  {
   "cell_type": "code",
   "execution_count": null,
   "metadata": {},
   "outputs": [],
   "source": [
    "import numpy as np\n",
    "import dreamcoder as dc\n",
    "from dreamcoder.domains.quantum_algorithms.primitives import *\n",
    "from dreamcoder.domains.quantum_algorithms.tasks import *\n",
    "from qiskit.transpiler.synthesis import solovay_kitaev\n",
    "skd = solovay_kitaev.SolovayKitaevDecomposition()\n",
    "\n",
    "import time\n",
    "from tqdm import trange\n",
    "import random\n",
    "%load_ext line_profiler\n",
    "%load_ext autoreload\n",
    "%autoreload 2"
   ]
  },
  {
   "cell_type": "code",
   "execution_count": null,
   "metadata": {},
   "outputs": [],
   "source": [
    "# This branch of qiskit is required:  pip install git+https://github.com/LNoorl/qiskit-terra.git@feature/sk-pass"
   ]
  },
  {
   "cell_type": "code",
   "execution_count": null,
   "metadata": {},
   "outputs": [],
   "source": [
    "basis_gates=['h',\"cx\",'t',\"tdg\"]"
   ]
  },
  {
   "cell_type": "code",
   "execution_count": null,
   "metadata": {},
   "outputs": [],
   "source": [
    "with QiskitTester(1) as QT:\n",
    "    QT.circuit.t(0)\n",
    "    QT.circuit.t(0)\n",
    "qk.circuit.equivalence_library.StandardEquivalenceLibrary.add_equivalence(qk.circuit.library.SGate(),QT.circuit)\n",
    "\n",
    "with QiskitTester(1) as QT:\n",
    "    QT.circuit.tdg(0)\n",
    "    QT.circuit.tdg(0)\n",
    "qk.circuit.equivalence_library.StandardEquivalenceLibrary.add_equivalence(qk.circuit.library.SdgGate(),QT.circuit)\n",
    "\n",
    "class ParametricSubstitution(qk.transpiler.TransformationPass):\n",
    "    def run(self, dag):\n",
    "        # iterate over all operations\n",
    "        for node in dag.op_nodes():\n",
    "            print(node.op.name, node.op.params)\n",
    "            # if we hit a RYY or RZZ gate replace it\n",
    "            \n",
    "            if node.op.name in [\"cp\"]:\n",
    "                replacement = QuantumCircuit(2)\n",
    "                replacement.p(node.op.params[0]/2,0)\n",
    "                replacement.cx(0,1)\n",
    "                replacement.p(-node.op.params[0]/2,1)\n",
    "                replacement.cx(0,1)\n",
    "                replacement.p(node.op.params[0]/2,1)\n",
    "\n",
    "                # replace the node with our new decomposition\n",
    "                dag.substitute_node_with_dag(node, qk.converters.circuit_to_dag(replacement))\n",
    "                                \n",
    "            \n",
    "            if node.op.name in [\"p\"] and node.op.params[0]==np.pi/2:\n",
    "\n",
    "                # calculate the replacement\n",
    "                replacement = QuantumCircuit(1)\n",
    "                replacement.s([0])\n",
    "\n",
    "                # replace the node with our new decomposition\n",
    "                dag.substitute_node_with_dag(node, qk.converters.circuit_to_dag(replacement))\n",
    "                \n",
    "            elif node.op.name in [\"p\"] and node.op.params[0]==3*np.pi/2:\n",
    "    \n",
    "                # calculate the replacement\n",
    "                replacement = QuantumCircuit(1)\n",
    "                replacement.tdg([0])\n",
    "                replacement.tdg([0])\n",
    "\n",
    "                # replace the node with our new decomposition\n",
    "                dag.substitute_node_with_dag(node, qk.converters.circuit_to_dag(replacement))\n",
    "                               \n",
    "            elif node.op.name in [\"p\"] and node.op.params[0]==5*np.pi/2:\n",
    "        \n",
    "                # calculate the replacement\n",
    "                replacement = QuantumCircuit(1)\n",
    "                replacement.t([0])\n",
    "                replacement.t([0])\n",
    "\n",
    "                # replace the node with our new decomposition\n",
    "                dag.substitute_node_with_dag(node, qk.converters.circuit_to_dag(replacement))\n",
    "                               \n",
    "                               \n",
    "        return dag\n",
    "pm = qk.transpiler.PassManager()\n",
    "pm.append(ParametricSubstitution())"
   ]
  },
  {
   "cell_type": "markdown",
   "metadata": {},
   "source": [
    "### Some fixed-size circuits"
   ]
  },
  {
   "cell_type": "code",
   "execution_count": null,
   "metadata": {},
   "outputs": [],
   "source": [
    "with QiskitTester(1) as QT:\n",
    "    QT.circuit.x(QT.q(0))\n",
    "QT.circuit.draw(),qk.transpile(QT.circuit, backend, basis_gates).draw()\n",
    "QT.circuit=pm.run(QT.circuit)\n",
    "transpiled=qk.transpile(QT.circuit, backend, basis_gates)\n",
    "discretized = skd(transpiled)\n",
    "transpiled.draw(),discretized.draw()"
   ]
  },
  {
   "cell_type": "code",
   "execution_count": null,
   "metadata": {},
   "outputs": [],
   "source": [
    "with QiskitTester(1) as QT:\n",
    "    QT.circuit.y(QT.q(0))\n",
    "QT.circuit.draw(),qk.transpile(QT.circuit, backend, basis_gates).draw()\n",
    "QT.circuit=pm.run(QT.circuit)\n",
    "transpiled=qk.transpile(QT.circuit, backend, basis_gates)\n",
    "discretized = skd(transpiled)\n",
    "transpiled.draw(),discretized.draw()"
   ]
  },
  {
   "cell_type": "code",
   "execution_count": null,
   "metadata": {},
   "outputs": [],
   "source": [
    "with QiskitTester(1) as QT:\n",
    "    QT.circuit.z(QT.q(0))\n",
    "QT.circuit=pm.run(QT.circuit)\n",
    "transpiled=qk.transpile(QT.circuit, backend, basis_gates)\n",
    "discretized = skd(transpiled)\n",
    "QT.circuit.draw(),transpiled.draw(),discretized.draw()"
   ]
  },
  {
   "cell_type": "code",
   "execution_count": null,
   "metadata": {},
   "outputs": [],
   "source": [
    "with QiskitTester(1) as QT:\n",
    "    QT.circuit.t(QT.q(0))\n",
    "transpiled=qk.transpile(QT.circuit, backend, basis_gates)\n",
    "discretized = skd(QT.circuit)\n",
    "QT.circuit.draw(),discretized.draw()"
   ]
  },
  {
   "cell_type": "code",
   "execution_count": null,
   "metadata": {},
   "outputs": [],
   "source": [
    "with QiskitTester(1) as QT:\n",
    "    QT.circuit.append(qk.circuit.library.PhaseGate(3*np.pi/4),(0,))\n",
    "transpiled=qk.transpile(QT.circuit, backend)\n",
    "circuit2 = pm.run(transpiled)\n",
    "discretized = skd(circuit2)\n",
    "QT.circuit.draw(),transpiled.draw(), circuit2.draw(), discretized.draw()"
   ]
  },
  {
   "cell_type": "code",
   "execution_count": null,
   "metadata": {},
   "outputs": [],
   "source": [
    "with QiskitTester(2) as QT:\n",
    "    QT.circuit.append(qk.circuit.library.CPhaseGate(3*np.pi/2),(0,1))\n",
    "transpiled=qk.transpile(QT.circuit, backend)\n",
    "circuit2 = pm.run(transpiled)\n",
    "discretized = skd(circuit2)\n",
    "QT.circuit.draw(),transpiled.draw(), circuit2.draw(), discretized.draw()"
   ]
  },
  {
   "cell_type": "code",
   "execution_count": null,
   "metadata": {},
   "outputs": [],
   "source": []
  },
  {
   "cell_type": "code",
   "execution_count": null,
   "metadata": {},
   "outputs": [],
   "source": [
    "with QiskitTester(1) as QT:\n",
    "    QT.circuit.s(0)\n",
    "QT.circuit=pm.run(QT.circuit)\n",
    "transpiled=qk.transpile(QT.circuit, backend, basis_gates)\n",
    "discretized = skd(transpiled)\n",
    "QT.circuit.draw(),transpiled.draw(),discretized.draw()"
   ]
  },
  {
   "cell_type": "code",
   "execution_count": null,
   "metadata": {},
   "outputs": [],
   "source": [
    "with QiskitTester(1) as QT:\n",
    "    QT.circuit.append(qk.circuit.library.PhaseGate(np.pi/2),(0,))\n",
    "transpiled=qk.transpile(QT.circuit, backend)\n",
    "circuit2 = pm.run(transpiled)\n",
    "discretized = skd(circuit2)\n",
    "QT.circuit.draw(),transpiled.draw(), circuit2.draw(), discretized.draw()"
   ]
  },
  {
   "cell_type": "code",
   "execution_count": null,
   "metadata": {},
   "outputs": [],
   "source": [
    "with QiskitTester(1) as QT:\n",
    "    QT.circuit.tdg(0)\n",
    "    QT.circuit.tdg(0)\n",
    "QT.circuit=pm.run(QT.circuit)\n",
    "transpiled=qk.transpile(QT.circuit, backend, basis_gates)\n",
    "discretized = skd(transpiled)\n",
    "QT.circuit.draw(),transpiled.draw(),discretized.draw()"
   ]
  },
  {
   "cell_type": "code",
   "execution_count": null,
   "metadata": {},
   "outputs": [],
   "source": [
    "with QiskitTester(1) as QT:\n",
    "    QT.circuit.append(qk.circuit.library.PhaseGate(3*np.pi/2),(0,))\n",
    "transpiled=qk.transpile(QT.circuit, backend)\n",
    "circuit2 = pm.run(transpiled)\n",
    "discretized = skd(circuit2)\n",
    "QT.circuit.draw(),transpiled.draw(), circuit2.draw(), discretized.draw()"
   ]
  },
  {
   "cell_type": "code",
   "execution_count": null,
   "metadata": {},
   "outputs": [],
   "source": [
    "with QiskitTester(1) as QT:\n",
    "    QT.circuit.append(qk.circuit.library.PhaseGate(5*np.pi/2),(0,))\n",
    "transpiled=qk.transpile(QT.circuit, backend)\n",
    "circuit2 = pm.run(transpiled)\n",
    "discretized = skd(circuit2)\n",
    "QT.circuit.draw(),transpiled.draw(), circuit2.draw(), discretized.draw()"
   ]
  },
  {
   "cell_type": "code",
   "execution_count": null,
   "metadata": {},
   "outputs": [],
   "source": []
  },
  {
   "cell_type": "code",
   "execution_count": null,
   "metadata": {},
   "outputs": [],
   "source": [
    "with QiskitTester(1) as QT:\n",
    "    QT.circuit.sx(QT.q(0))\n",
    "QT.circuit=pm.run(QT.circuit)\n",
    "transpiled=qk.transpile(QT.circuit, backend, basis_gates)\n",
    "discretized = skd(transpiled)\n",
    "transpiled.draw(),discretized.draw()"
   ]
  },
  {
   "cell_type": "code",
   "execution_count": null,
   "metadata": {},
   "outputs": [],
   "source": [
    "with QiskitTester(2) as QT:\n",
    "    QT.circuit.sxdg(QT.q(1))\n",
    "QT.circuit = pm.run( QT.circuit)\n",
    "transpiled=qk.transpile(QT.circuit, backend, basis_gates)\n",
    "discretized = skd(transpiled)\n",
    "QT.circuit.draw(),transpiled.draw(),discretized.draw()"
   ]
  },
  {
   "cell_type": "code",
   "execution_count": null,
   "metadata": {},
   "outputs": [],
   "source": [
    "with QiskitTester(2) as QT:\n",
    "    QT.circuit.cy(QT.q(0),QT.q(1))\n",
    "QT.circuit.draw(),qk.transpile(QT.circuit, backend, basis_gates).draw()\n",
    "transpiled=qk.transpile(QT.circuit, backend, basis_gates)\n",
    "discretized = skd(transpiled)\n",
    "QT.circuit.draw(),transpiled.draw(),discretized.draw()"
   ]
  },
  {
   "cell_type": "code",
   "execution_count": null,
   "metadata": {},
   "outputs": [],
   "source": [
    "with QiskitTester(2) as QT:\n",
    "    QT.circuit.cz(QT.q(0),QT.q(1))\n",
    "QT.circuit.draw(),qk.transpile(QT.circuit, backend, basis_gates).draw()\n",
    "transpiled=qk.transpile(QT.circuit, backend, basis_gates)\n",
    "discretized = skd(transpiled)\n",
    "transpiled.draw(),discretized.draw()"
   ]
  },
  {
   "cell_type": "code",
   "execution_count": null,
   "metadata": {},
   "outputs": [],
   "source": [
    "with QiskitTester(2) as QT:\n",
    "    QT.circuit.swap(QT.q(0),QT.q(1))\n",
    "transpiled=qk.transpile(QT.circuit, backend, basis_gates)\n",
    "discretized = skd(transpiled)\n",
    "QT.circuit.draw(),transpiled.draw(),discretized.draw()"
   ]
  },
  {
   "cell_type": "code",
   "execution_count": null,
   "metadata": {},
   "outputs": [],
   "source": [
    "with QiskitTester(2) as QT:\n",
    "    QT.circuit.iswap(QT.q(0),QT.q(1))\n",
    "QT.circuit = pm.run( QT.circuit)\n",
    "transpiled=qk.transpile(QT.circuit, backend, basis_gates)\n",
    "discretized = skd(transpiled)\n",
    "QT.circuit.draw(),transpiled.draw(),discretized.draw()"
   ]
  },
  {
   "cell_type": "code",
   "execution_count": null,
   "metadata": {},
   "outputs": [],
   "source": []
  },
  {
   "cell_type": "code",
   "execution_count": null,
   "metadata": {},
   "outputs": [],
   "source": [
    "# This is CS, but can we transpile it?\n",
    "with QiskitTester(2) as QT:\n",
    "    QT.circuit.cp(np.pi/2,QT.q(0),QT.q(1))\n",
    "transpiled=qk.transpile(QT.circuit, backend)\n",
    "circuit2 = pm.run(transpiled)\n",
    "discretized = skd(circuit2)\n",
    "QT.circuit.draw(),transpiled.draw(),discretized.draw()"
   ]
  },
  {
   "cell_type": "code",
   "execution_count": null,
   "metadata": {},
   "outputs": [],
   "source": [
    "with QiskitTester(2) as QT:\n",
    "    QT.circuit.append(qk.circuit.library.SGate().control(1), (0,1))\n",
    "transpiled=qk.transpile(QT.circuit, backend)\n",
    "circuit2 = pm.run(transpiled)\n",
    "discretized = skd(circuit2)\n",
    "QT.circuit.draw(),transpiled.draw(),discretized.draw()"
   ]
  },
  {
   "cell_type": "code",
   "execution_count": null,
   "metadata": {},
   "outputs": [],
   "source": [
    "# (just as a test)\n",
    "# we should be able to transpile this one\n",
    "with QiskitTester(1) as QT:\n",
    "    QT.circuit.p(np.pi/8,0)\n",
    "    QT.circuit.p(np.pi/8,0)\n",
    "transpiled=qk.transpile(QT.circuit, backend)\n",
    "circuit2 = pm.run(transpiled)\n",
    "discretized = skd(circuit2)\n",
    "QT.circuit.draw(),transpiled.draw(),discretized.draw()"
   ]
  },
  {
   "cell_type": "code",
   "execution_count": null,
   "metadata": {},
   "outputs": [],
   "source": []
  },
  {
   "cell_type": "code",
   "execution_count": null,
   "metadata": {},
   "outputs": [],
   "source": []
  },
  {
   "cell_type": "code",
   "execution_count": null,
   "metadata": {},
   "outputs": [],
   "source": [
    "with QiskitTester(3) as QT:\n",
    "    QT.circuit.ccx(QT.q(0),QT.q(1),QT.q(2))\n",
    "QT.circuit.draw(),qk.transpile(QT.circuit, backend, basis_gates).draw()\n",
    "transpiled=qk.transpile(QT.circuit, backend, basis_gates)\n",
    "discretized = skd(transpiled)\n",
    "QT.circuit.draw(),transpiled.draw(),discretized.draw()"
   ]
  },
  {
   "cell_type": "code",
   "execution_count": null,
   "metadata": {},
   "outputs": [],
   "source": [
    "with QiskitTester(2) as QT:\n",
    "    QT.circuit.dcx(QT.q(0),QT.q(1))\n",
    "transpiled=qk.transpile(QT.circuit, backend, basis_gates)\n",
    "discretized = skd(transpiled)\n",
    "QT.circuit.draw(),transpiled.draw(),discretized.draw()"
   ]
  },
  {
   "cell_type": "code",
   "execution_count": null,
   "metadata": {},
   "outputs": [],
   "source": [
    "with QiskitTester(2) as QT:\n",
    "    QT.circuit.ch(QT.q(0),QT.q(1))\n",
    "transpiled=qk.transpile(QT.circuit, backend, basis_gates)\n",
    "discretized = skd(transpiled)\n",
    "QT.circuit.draw(),transpiled.draw(),discretized.draw()"
   ]
  },
  {
   "cell_type": "code",
   "execution_count": null,
   "metadata": {},
   "outputs": [],
   "source": [
    "with QiskitTester(3) as QT:\n",
    "    QT.circuit.cswap(QT.q(0),QT.q(1),QT.q(2))\n",
    "transpiled=qk.transpile(QT.circuit, backend, basis_gates)\n",
    "discretized = skd(transpiled)\n",
    "QT.circuit.draw(),transpiled.draw(),discretized.draw()"
   ]
  },
  {
   "cell_type": "code",
   "execution_count": null,
   "metadata": {},
   "outputs": [],
   "source": []
  },
  {
   "cell_type": "code",
   "execution_count": null,
   "metadata": {},
   "outputs": [],
   "source": [
    "with QiskitTester(3) as QT:\n",
    "    QT.circuit.append(qk.circuit.library.Permutation(3,[2,0,1]), \n",
    "                      (QT.q(0),QT.q(1),QT.q(2)))\n",
    "QT.circuit = pm.run(QT.circuit)\n",
    "transpiled=qk.transpile(QT.circuit, backend, basis_gates)\n",
    "discretized = skd(transpiled)\n",
    "QT.circuit.draw(),transpiled.draw(),discretized.draw()"
   ]
  },
  {
   "cell_type": "code",
   "execution_count": null,
   "metadata": {},
   "outputs": [],
   "source": [
    "with QiskitTester(3) as QT:\n",
    "    QT.circuit.append(qk.circuit.library.AND(2), \n",
    "                      (QT.q(0),QT.q(1),QT.q(2)))\n",
    "QT.circuit = pm.run(QT.circuit)\n",
    "transpiled=qk.transpile(QT.circuit, backend, basis_gates)\n",
    "discretized = skd(transpiled)\n",
    "QT.circuit.draw(),transpiled.draw(),discretized.draw()"
   ]
  },
  {
   "cell_type": "code",
   "execution_count": null,
   "metadata": {},
   "outputs": [],
   "source": [
    "with QiskitTester(3) as QT:\n",
    "    QT.circuit.append(qk.circuit.library.OR(2), \n",
    "                      (QT.q(0),QT.q(1),QT.q(2)))\n",
    "QT.circuit = pm.run(QT.circuit)\n",
    "transpiled=qk.transpile(QT.circuit, backend, basis_gates)\n",
    "discretized = skd(transpiled)\n",
    "QT.circuit.draw(),transpiled.draw(),discretized.draw()"
   ]
  },
  {
   "cell_type": "code",
   "execution_count": null,
   "metadata": {},
   "outputs": [],
   "source": [
    "with QiskitTester(4) as QT:\n",
    "    QT.circuit.append(qk.circuit.library.InnerProduct(2), \n",
    "                      (QT.q(0),QT.q(1),QT.q(2),QT.q(3)))\n",
    "QT.circuit = pm.run(QT.circuit)\n",
    "transpiled=qk.transpile(QT.circuit, backend, basis_gates)\n",
    "discretized = skd(transpiled)\n",
    "QT.circuit.draw(),transpiled.draw(),discretized.draw()"
   ]
  },
  {
   "cell_type": "code",
   "execution_count": null,
   "metadata": {},
   "outputs": [],
   "source": [
    "with QiskitTester(1) as QT:\n",
    "    QT.circuit.append(qk.circuit.library.PhaseGate(3*np.pi/2),(0,))\n",
    "QT.circuit = pm.run(QT.circuit)\n",
    "transpiled=qk.transpile(QT.circuit, backend, basis_gates)\n",
    "discretized = skd(transpiled)\n",
    "QT.circuit.draw(),transpiled.draw(),discretized.draw()"
   ]
  },
  {
   "cell_type": "code",
   "execution_count": null,
   "metadata": {},
   "outputs": [],
   "source": []
  },
  {
   "cell_type": "code",
   "execution_count": null,
   "metadata": {},
   "outputs": [],
   "source": [
    "# Bell\n",
    "with QiskitTester(2) as QT:\n",
    "    QT.circuit.h(QT.q(0))\n",
    "    QT.circuit.cx(QT.q(0),QT.q(1))\n",
    "transpiled=qk.transpile(QT.circuit, backend, basis_gates)\n",
    "discretized = skd(transpiled)\n",
    "QT.circuit.draw(),transpiled.draw(),discretized.draw()"
   ]
  },
  {
   "cell_type": "code",
   "execution_count": null,
   "metadata": {},
   "outputs": [],
   "source": [
    "# GHZ\n",
    "with QiskitTester(3) as QT:\n",
    "    QT.circuit.h(QT.q(0))\n",
    "    QT.circuit.cx(QT.q(0),QT.q(1))\n",
    "    QT.circuit.cx(QT.q(0),QT.q(2))\n",
    "transpiled=qk.transpile(QT.circuit, backend, basis_gates)\n",
    "discretized = skd(transpiled)\n",
    "QT.circuit.draw(),transpiled.draw(),discretized.draw()"
   ]
  },
  {
   "cell_type": "code",
   "execution_count": 7,
   "metadata": {},
   "outputs": [],
   "source": [
    "# W this is too long\n",
    "with QiskitTester(3) as QT:\n",
    "    QT.circuit.ry(2*np.arccos(1/np.sqrt(3)),QT.q(0))\n",
    "    QT.circuit.h(QT.q(1))\n",
    "    QT.circuit.cnot(QT.q(1),QT.q(2))\n",
    "    QT.circuit.cnot(QT.q(0),QT.q(1))\n",
    "    QT.circuit.x(QT.q(0))\n",
    "transpiled=qk.transpile(QT.circuit, backend)\n",
    "discretized = skd(transpiled)\n",
    "QT.circuit.draw(),transpiled.draw(),discretized.draw();"
   ]
  },
  {
   "cell_type": "code",
   "execution_count": null,
   "metadata": {},
   "outputs": [],
   "source": [
    "# In general: GHZ and W state preparation algorithms https://arxiv.org/pdf/1807.05572.pdf\n",
    "# \n",
    "# W states: https://github.com/qiskit-community/qiskit-community-tutorials/blob/master/awards/teach_me_qiskit_2018/w_state/W%20State%201%20-%20Multi-Qubit%20Systems.ipynb"
   ]
  },
  {
   "cell_type": "code",
   "execution_count": null,
   "metadata": {},
   "outputs": [],
   "source": [
    "# Cluster states https://www.cs.umd.edu/class/spring2018/cmsc457/report/Cluster_State_Quantum_Computing.pdf"
   ]
  },
  {
   "cell_type": "code",
   "execution_count": null,
   "metadata": {},
   "outputs": [],
   "source": []
  },
  {
   "cell_type": "code",
   "execution_count": null,
   "metadata": {},
   "outputs": [],
   "source": [
    "with QiskitTester(6) as QT:\n",
    "    QT.circuit.append(qk.circuit.library.CDKMRippleCarryAdder(2), \n",
    "                      (QT.q(0),QT.q(1),QT.q(2),QT.q(3),QT.q(4),QT.q(5)))\n",
    "transpiled=qk.transpile(QT.circuit, backend)\n",
    "circuit2 = pm.run(transpiled)\n",
    "discretized = skd(circuit2)\n",
    "QT.circuit.draw(),transpiled.draw(),discretized.draw()"
   ]
  },
  {
   "cell_type": "code",
   "execution_count": null,
   "metadata": {},
   "outputs": [],
   "source": [
    "with QiskitTester(7) as QT:\n",
    "    QT.circuit.append(qk.circuit.library.VBERippleCarryAdder(2), \n",
    "                      (QT.q(0),QT.q(1),QT.q(2),QT.q(3),QT.q(4),QT.q(5),QT.q(6)))\n",
    "transpiled=qk.transpile(QT.circuit, backend)\n",
    "circuit2 = pm.run(transpiled)\n",
    "discretized = skd(circuit2)\n",
    "QT.circuit.draw(),transpiled.draw(),discretized.draw()"
   ]
  },
  {
   "cell_type": "code",
   "execution_count": 11,
   "metadata": {},
   "outputs": [
    {
     "name": "stdout",
     "output_type": "stream",
     "text": [
      "ccx []\n",
      "cx []\n",
      "x []\n",
      "ccx []\n",
      "ccx []\n",
      "x []\n",
      "ccx []\n",
      "cx []\n",
      "x []\n",
      "ccx []\n",
      "ccx []\n",
      "x []\n"
     ]
    },
    {
     "data": {
      "text/plain": [
       "(     ┌────────┐\n",
       " q_0: ┤4       ├\n",
       "      │        │\n",
       " q_1: ┤3       ├\n",
       "      │        │\n",
       " q_2: ┤2 adder ├\n",
       "      │        │\n",
       " q_3: ┤1       ├\n",
       "      │        │\n",
       " q_4: ┤0       ├\n",
       "      └────────┘,\n",
       "      ┌───┐               ┌───┐     ┌───┐               ┌───┐     \n",
       " q_0: ┤ X ├────────────■──┤ X ├─────┤ X ├────────────■──┤ X ├─────\n",
       "      └─┬─┘          ┌─┴─┐└─┬─┘     └─┬─┘          ┌─┴─┐└─┬─┘     \n",
       " q_1: ──┼────────────┤ X ├──┼─────────┼────────────┤ X ├──┼───────\n",
       "        │  ┌───┐┌───┐└─┬─┘  │  ┌───┐  │  ┌───┐┌───┐└─┬─┘  │  ┌───┐\n",
       " q_2: ──■──┤ X ├┤ X ├──┼────■──┤ X ├──■──┤ X ├┤ X ├──┼────■──┤ X ├\n",
       "        │  └─┬─┘└───┘  │    │  └───┘  │  └─┬─┘└───┘  │    │  └───┘\n",
       " q_3: ──┼────┼─────────┼────┼─────────■────■─────────■────■───────\n",
       "        │    │         │    │                                     \n",
       " q_4: ──■────■─────────■────■─────────────────────────────────────\n",
       "                                                                  ,\n",
       "      ┌───┐                                        ┌───┐                    »\n",
       " q_0: ┤ X ├────────────■───────────────────────────┤ X ├────────────────────»\n",
       "      └─┬─┘          ┌─┴─┐                         └─┬─┘                    »\n",
       " q_1: ──┼────────────┤ X ├───────────────────────────┼──────────────────────»\n",
       "        │  ┌───┐┌───┐└─┬─┘┌───┐┌───┐┌───┐┌───┐┌───┐  │  ┌───┐┌───┐┌───┐┌───┐»\n",
       " q_2: ──■──┤ X ├┤ H ├──┼──┤ T ├┤ T ├┤ T ├┤ T ├┤ H ├──■──┤ H ├┤ T ├┤ T ├┤ T ├»\n",
       "        │  └─┬─┘└───┘  │  └───┘└───┘└───┘└───┘└───┘  │  └───┘└───┘└───┘└───┘»\n",
       " q_3: ──┼────┼─────────┼─────────────────────────────┼──────────────────────»\n",
       "        │    │         │                             │                      »\n",
       " q_4: ──■────■─────────■─────────────────────────────■──────────────────────»\n",
       "                                                                            »\n",
       " «               ┌───┐                                        ┌───┐          »\n",
       " «q_0: ──────────┤ X ├────────────■───────────────────────────┤ X ├──────────»\n",
       " «               └─┬─┘          ┌─┴─┐                         └─┬─┘          »\n",
       " «q_1: ────────────┼────────────┤ X ├───────────────────────────┼────────────»\n",
       " «     ┌───┐┌───┐  │  ┌───┐┌───┐└─┬─┘┌───┐┌───┐┌───┐┌───┐┌───┐  │  ┌───┐┌───┐»\n",
       " «q_2: ┤ T ├┤ H ├──■──┤ X ├┤ H ├──┼──┤ T ├┤ T ├┤ T ├┤ T ├┤ H ├──■──┤ H ├┤ T ├»\n",
       " «     └───┘└───┘  │  └─┬─┘└───┘  │  └───┘└───┘└───┘└───┘└───┘  │  └───┘└───┘»\n",
       " «q_3: ────────────■────■─────────■─────────────────────────────■────────────»\n",
       " «                                                                           »\n",
       " «q_4: ──────────────────────────────────────────────────────────────────────»\n",
       " «                                                                           »\n",
       " «                         \n",
       " «q_0: ────────────────────\n",
       " «                         \n",
       " «q_1: ────────────────────\n",
       " «     ┌───┐┌───┐┌───┐┌───┐\n",
       " «q_2: ┤ T ├┤ T ├┤ T ├┤ H ├\n",
       " «     └───┘└───┘└───┘└───┘\n",
       " «q_3: ────────────────────\n",
       " «                         \n",
       " «q_4: ────────────────────\n",
       " «                         )"
      ]
     },
     "execution_count": 11,
     "metadata": {},
     "output_type": "execute_result"
    }
   ],
   "source": [
    "with QiskitTester(5) as QT:\n",
    "    QT.circuit.append(qk.circuit.library.WeightedAdder(2), \n",
    "                      (QT.q(0),QT.q(1),QT.q(2),QT.q(3),QT.q(4)))\n",
    "transpiled=qk.transpile(QT.circuit, backend)\n",
    "circuit2 = pm.run(transpiled)\n",
    "discretized = skd(circuit2)\n",
    "QT.circuit.draw(),transpiled.draw(),discretized.draw()"
   ]
  },
  {
   "cell_type": "code",
   "execution_count": null,
   "metadata": {},
   "outputs": [],
   "source": []
  },
  {
   "cell_type": "code",
   "execution_count": 13,
   "metadata": {},
   "outputs": [
    {
     "name": "stdout",
     "output_type": "stream",
     "text": [
      "cx []\n",
      "ccx []\n",
      "cx []\n"
     ]
    },
    {
     "data": {
      "text/plain": [
       "(             \n",
       " q_0: ────────\n",
       "      ┌──────┐\n",
       " q_1: ┤3     ├\n",
       "      │      │\n",
       " q_2: ┤2     ├\n",
       "      │  cmp │\n",
       " q_3: ┤1     ├\n",
       "      │      │\n",
       " q_4: ┤0     ├\n",
       "      └──────┘,\n",
       "                     \n",
       " q_0: ───────────────\n",
       "      ┌───┐     ┌───┐\n",
       " q_1: ┤ X ├──■──┤ X ├\n",
       "      └─┬─┘┌─┴─┐└─┬─┘\n",
       " q_2: ──┼──┤ X ├──┼──\n",
       "        │  └─┬─┘  │  \n",
       " q_3: ──┼────■────┼──\n",
       "        │         │  \n",
       " q_4: ──■─────────■──\n",
       "                     ,\n",
       "                     \n",
       " q_0: ───────────────\n",
       "      ┌───┐     ┌───┐\n",
       " q_1: ┤ X ├──■──┤ X ├\n",
       "      └─┬─┘┌─┴─┐└─┬─┘\n",
       " q_2: ──┼──┤ X ├──┼──\n",
       "        │  └─┬─┘  │  \n",
       " q_3: ──┼────■────┼──\n",
       "        │         │  \n",
       " q_4: ──■─────────■──\n",
       "                     )"
      ]
     },
     "execution_count": 13,
     "metadata": {},
     "output_type": "execute_result"
    }
   ],
   "source": [
    "with QiskitTester(5) as QT:\n",
    "    QT.circuit.append(qk.circuit.library.IntegerComparator(2, value=3), \n",
    "                      (QT.q(0),QT.q(1),QT.q(2),QT.q(3),))\n",
    "transpiled=qk.transpile(QT.circuit, backend)\n",
    "circuit2 = pm.run(transpiled)\n",
    "discretized = skd(circuit2)\n",
    "QT.circuit.draw(),transpiled.draw(),discretized.draw()"
   ]
  },
  {
   "cell_type": "code",
   "execution_count": null,
   "metadata": {},
   "outputs": [],
   "source": []
  },
  {
   "cell_type": "code",
   "execution_count": 20,
   "metadata": {},
   "outputs": [
    {
     "name": "stdout",
     "output_type": "stream",
     "text": [
      "cx []\n",
      "cx []\n",
      "cx []\n",
      "cx []\n"
     ]
    },
    {
     "data": {
      "text/plain": [
       "(             \n",
       " q_0: ────────\n",
       "              \n",
       " q_1: ────────\n",
       "      ┌──────┐\n",
       " q_2: ┤2     ├\n",
       "      │      │\n",
       " q_3: ┤1 1/x ├\n",
       "      │      │\n",
       " q_4: ┤0     ├\n",
       "      └──────┘,\n",
       "                          \n",
       " q_0: ────────────────────\n",
       "                          \n",
       " q_1: ────────────────────\n",
       "      ┌───┐┌───┐┌───┐┌───┐\n",
       " q_2: ┤ X ├┤ X ├┤ X ├┤ X ├\n",
       "      └─┬─┘└─┬─┘└─┬─┘└─┬─┘\n",
       " q_3: ──┼────■────┼────■──\n",
       "        │         │       \n",
       " q_4: ──■─────────■───────\n",
       "                          ,\n",
       "                          \n",
       " q_0: ────────────────────\n",
       "                          \n",
       " q_1: ────────────────────\n",
       "      ┌───┐┌───┐┌───┐┌───┐\n",
       " q_2: ┤ X ├┤ X ├┤ X ├┤ X ├\n",
       "      └─┬─┘└─┬─┘└─┬─┘└─┬─┘\n",
       " q_3: ──┼────■────┼────■──\n",
       "        │         │       \n",
       " q_4: ──■─────────■───────\n",
       "                          )"
      ]
     },
     "execution_count": 20,
     "metadata": {},
     "output_type": "execute_result"
    }
   ],
   "source": [
    "with QiskitTester(5) as QT:\n",
    "    QT.circuit.append(qk.circuit.library.ExactReciprocal(2, scaling=1.5), \n",
    "                      (QT.q(0),QT.q(1),QT.q(2)))\n",
    "transpiled=qk.transpile(QT.circuit, backend)\n",
    "circuit2 = pm.run(transpiled)\n",
    "discretized = skd(circuit2)\n",
    "QT.circuit.draw(),transpiled.draw(),discretized.draw()"
   ]
  },
  {
   "cell_type": "code",
   "execution_count": null,
   "metadata": {},
   "outputs": [],
   "source": []
  },
  {
   "cell_type": "code",
   "execution_count": null,
   "metadata": {},
   "outputs": [],
   "source": []
  },
  {
   "cell_type": "code",
   "execution_count": null,
   "metadata": {},
   "outputs": [],
   "source": []
  },
  {
   "cell_type": "code",
   "execution_count": 17,
   "metadata": {},
   "outputs": [
    {
     "name": "stdout",
     "output_type": "stream",
     "text": [
      "h []\n",
      "h []\n",
      "cp [3.141592653589793]\n",
      "cp [-2.356194490192345]\n",
      "cp [6.283185307179586]\n",
      "cp [-4.71238898038469]\n",
      "mcphase [6.283185307179586]\n",
      "mcphase [12.566370614359172]\n",
      "h []\n",
      "cp [-1.5707963267948966]\n",
      "h []\n"
     ]
    }
   ],
   "source": [
    "# very long!\n",
    "with QiskitTester(5) as QT:\n",
    "    QT.circuit.append(qk.circuit.library.QuadraticForm(2, linear=[1,-2], \n",
    "                                                       quadratic=[[1,2],[2,0.5]]), \n",
    "                      (QT.q(0),QT.q(1),QT.q(2),QT.q(3),))\n",
    "transpiled=qk.transpile(QT.circuit, backend)\n",
    "circuit2 = pm.run(transpiled)\n",
    "discretized = skd(circuit2)\n",
    "QT.circuit.draw(),transpiled.draw(),discretized.draw();"
   ]
  },
  {
   "cell_type": "code",
   "execution_count": null,
   "metadata": {},
   "outputs": [],
   "source": []
  },
  {
   "cell_type": "code",
   "execution_count": null,
   "metadata": {},
   "outputs": [],
   "source": [
    "# we should be able to transpile this one\n",
    "with QiskitTester(1) as QT:\n",
    "    QT.circuit.p(np.pi/8,0)\n",
    "    QT.circuit.p(np.pi/8,0)\n",
    "transpiled=qk.transpile(QT.circuit, backend)\n",
    "circuit2 = pm.run(transpiled)\n",
    "discretized = skd(circuit2)\n",
    "QT.circuit.draw(),transpiled.draw(),discretized.draw()"
   ]
  },
  {
   "cell_type": "code",
   "execution_count": null,
   "metadata": {},
   "outputs": [],
   "source": []
  },
  {
   "cell_type": "code",
   "execution_count": null,
   "metadata": {},
   "outputs": [],
   "source": []
  },
  {
   "cell_type": "code",
   "execution_count": null,
   "metadata": {},
   "outputs": [],
   "source": []
  },
  {
   "cell_type": "code",
   "execution_count": null,
   "metadata": {},
   "outputs": [],
   "source": [
    "with QiskitTester(4) as QT:\n",
    "    QT.circuit.append(qk.circuit.library.IQP([[6, 5, 3], [5, 4, 5], [3, 5, 1]]), \n",
    "                      (QT.q(0),QT.q(1),QT.q(2)))\n",
    "transpiled=qk.transpile(QT.circuit, backend)\n",
    "circuit2 = pm.run(transpiled)\n",
    "discretized = skd(circuit2)\n",
    "QT.circuit.draw(),transpiled.draw(),discretized.draw()"
   ]
  },
  {
   "cell_type": "code",
   "execution_count": null,
   "metadata": {},
   "outputs": [],
   "source": []
  },
  {
   "cell_type": "code",
   "execution_count": null,
   "metadata": {},
   "outputs": [],
   "source": []
  },
  {
   "cell_type": "code",
   "execution_count": null,
   "metadata": {},
   "outputs": [],
   "source": []
  },
  {
   "cell_type": "code",
   "execution_count": null,
   "metadata": {},
   "outputs": [],
   "source": []
  },
  {
   "cell_type": "markdown",
   "metadata": {},
   "source": [
    "### Invalid"
   ]
  },
  {
   "cell_type": "code",
   "execution_count": null,
   "metadata": {},
   "outputs": [],
   "source": [
    "with QiskitTester(2) as QT:\n",
    "    QT.circuit.csx(QT.q(0),QT.q(1))\n",
    "QT.result\n",
    "transpiled=qk.transpile(QT.circuit, backend)\n",
    "circuit2 = pm.run(transpiled)\n",
    "discretized = skd(circuit2)\n",
    "QT.circuit.draw(),transpiled.draw(),discretized.draw()"
   ]
  },
  {
   "cell_type": "code",
   "execution_count": null,
   "metadata": {},
   "outputs": [],
   "source": []
  },
  {
   "cell_type": "code",
   "execution_count": null,
   "metadata": {},
   "outputs": [],
   "source": [
    "with QiskitTester(1) as QT:\n",
    "    QT.circuit.p(np.pi/8,QT.q(0))\n",
    "QT.circuit.draw()\n",
    "QT.result\n",
    "transpiled=qk.transpile(QT.circuit, backend)\n",
    "circuit2 = pm.run(transpiled)\n",
    "discretized = skd(circuit2)\n",
    "QT.circuit.draw(),transpiled.draw(),discretized.draw()"
   ]
  },
  {
   "cell_type": "code",
   "execution_count": null,
   "metadata": {},
   "outputs": [],
   "source": [
    "with QiskitTester(4) as QT:\n",
    "    QT.circuit.append(qk.circuit.library.C3XGate(), (0,1,2,3))\n",
    "QT.circuit.draw()\n",
    "transpiled=qk.transpile(QT.circuit, backend)\n",
    "circuit2 = pm.run(transpiled)\n",
    "discretized = skd(circuit2)\n",
    "QT.circuit.draw(),transpiled.draw(),discretized.draw()"
   ]
  },
  {
   "cell_type": "code",
   "execution_count": null,
   "metadata": {},
   "outputs": [],
   "source": [
    "with QiskitTester(2) as QT:\n",
    "    QT.circuit.csx(QT.q(0),QT.q(1))\n",
    "transpiled=qk.transpile(QT.circuit, backend)\n",
    "circuit2 = pm.run(transpiled)\n",
    "discretized = skd(circuit2)\n",
    "QT.circuit.draw(),transpiled.draw(),discretized.draw()"
   ]
  },
  {
   "cell_type": "code",
   "execution_count": null,
   "metadata": {},
   "outputs": [],
   "source": []
  },
  {
   "cell_type": "code",
   "execution_count": null,
   "metadata": {},
   "outputs": [],
   "source": [
    "with QiskitTester(2) as QT:\n",
    "    QT.circuit.ecr(QT.q(0),QT.q(1))\n",
    "transpiled=qk.transpile(QT.circuit, backend)\n",
    "circuit2 = pm.run(transpiled)\n",
    "discretized = skd(circuit2)\n",
    "QT.circuit.draw(),transpiled.draw(),discretized.draw()"
   ]
  },
  {
   "cell_type": "code",
   "execution_count": null,
   "metadata": {},
   "outputs": [],
   "source": [
    "\n",
    "# no idea of how this works\n",
    "with QiskitTester(2) as QT:\n",
    "    QT.circuit.append(qk.circuit.library.Diagonal([1,1]), \n",
    "                      (QT.q(0),))\n",
    "transpiled=qk.transpile(QT.circuit, backend)\n",
    "circuit2 = pm.run(transpiled)\n",
    "discretized = skd(circuit2)\n",
    "QT.circuit.draw(),transpiled.draw(),discretized.draw()"
   ]
  },
  {
   "cell_type": "code",
   "execution_count": null,
   "metadata": {},
   "outputs": [],
   "source": [
    "## WE NEED CP(pi/8) FOR QFT!\n",
    "# It works but it is huge!\n",
    "with QiskitTester(3) as QT:\n",
    "    QT.circuit.append(qk.circuit.library.QFT(3), \n",
    "                      (QT.q(0),QT.q(1),QT.q(2)))\n",
    "transpiled=qk.transpile(QT.circuit, backend)\n",
    "circuit2 = pm.run(transpiled)\n",
    "discretized = skd(circuit2)\n",
    "QT.circuit.draw(),transpiled.draw(),discretized.draw()"
   ]
  },
  {
   "cell_type": "code",
   "execution_count": null,
   "metadata": {},
   "outputs": [],
   "source": [
    "## WE NEED CP(pi/8) FOR QFT!\n",
    "# It works but it is huge!\n",
    "with QiskitTester(4) as QT:\n",
    "    QT.circuit.append(qk.circuit.library.QFT(4), \n",
    "                      (QT.q(0),QT.q(1),QT.q(2),QT.q(3)))\n",
    "transpiled=qk.transpile(QT.circuit, backend)\n",
    "circuit2 = pm.run(transpiled)\n",
    "discretized = skd(circuit2)\n",
    "QT.circuit.draw(),transpiled.draw(),discretized.draw()"
   ]
  },
  {
   "cell_type": "code",
   "execution_count": null,
   "metadata": {},
   "outputs": [],
   "source": []
  },
  {
   "cell_type": "code",
   "execution_count": null,
   "metadata": {},
   "outputs": [],
   "source": [
    "# Huge\n",
    "# U(π/2,0,π,0)  not found\n",
    "with QiskitTester(9) as QT:\n",
    "    QT.circuit.append(qk.circuit.library.HRSCumulativeMultiplier(2), \n",
    "                      (QT.q(0),QT.q(1),QT.q(2),QT.q(3),QT.q(4),QT.q(5),QT.q(6),QT.q(7),QT.q(8)))\n",
    "transpiled=qk.transpile(QT.circuit, backend)\n",
    "circuit2 = pm.run(transpiled)\n",
    "discretized = skd(circuit2)\n",
    "QT.circuit.draw(),transpiled.draw(),discretized.draw()"
   ]
  },
  {
   "cell_type": "code",
   "execution_count": null,
   "metadata": {},
   "outputs": [],
   "source": [
    "#!Huge\n",
    "with QiskitTester(8) as QT:\n",
    "    QT.circuit.append(qk.circuit.library.RGQFTMultiplier(2), \n",
    "                      (QT.q(0),QT.q(1),QT.q(2),QT.q(3),QT.q(4),QT.q(5),QT.q(6),QT.q(7)))\n",
    "transpiled=qk.transpile(QT.circuit, backend)\n",
    "circuit2 = pm.run(transpiled)\n",
    "discretized = skd(circuit2)\n",
    "QT.circuit.draw(),transpiled.draw(),discretized.draw()"
   ]
  },
  {
   "cell_type": "code",
   "execution_count": null,
   "metadata": {},
   "outputs": [],
   "source": [
    "#incredibly huge\n",
    "from qiskit import algorithms\n",
    "circuit = qk.algorithms.Shor().construct_circuit(7)\n",
    "transpiled=qk.transpile(circuit, backend)\n",
    "circuit2 = pm.run(transpiled)\n",
    "discretized = skd(circuit2)\n",
    "circuit.draw(),transpiled.draw(),discretized.draw()"
   ]
  },
  {
   "cell_type": "code",
   "execution_count": null,
   "metadata": {},
   "outputs": [],
   "source": [
    "# Other algorithms - but should be evaluated with reasonable arguments!\n",
    "# https://qiskit.org/documentation/apidoc/algorithms.html"
   ]
  }
 ],
 "metadata": {
  "interpreter": {
   "hash": "21ea1a886259afbd8a118ef6898db29b8a19fae78d92613d0ae3d877be73df6a"
  },
  "kernelspec": {
   "display_name": "Python 3.8.13 ('dc2')",
   "language": "python",
   "name": "python3"
  },
  "language_info": {
   "codemirror_mode": {
    "name": "ipython",
    "version": 3
   },
   "file_extension": ".py",
   "mimetype": "text/x-python",
   "name": "python",
   "nbconvert_exporter": "python",
   "pygments_lexer": "ipython3",
   "version": "3.8.13"
  },
  "orig_nbformat": 4
 },
 "nbformat": 4,
 "nbformat_minor": 2
}
