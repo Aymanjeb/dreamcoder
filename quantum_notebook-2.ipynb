{
 "cells": [
  {
   "cell_type": "code",
   "execution_count": 1,
   "metadata": {},
   "outputs": [],
   "source": [
    "# This branch of qiskit is required:  pip install git+https://github.com/LNoorl/qiskit-terra.git@feature/sk-pass\n",
    "\n",
    "import numpy as np\n",
    "import dreamcoder as dc\n",
    "from dreamcoder.domains.quantum_algorithms.primitives import *\n",
    "from dreamcoder.domains.quantum_algorithms.tasks import *\n",
    "\n",
    "import time\n",
    "from tqdm import trange\n",
    "import random\n",
    "%load_ext line_profiler\n",
    "%load_ext autoreload\n",
    "%autoreload 2"
   ]
  },
  {
   "cell_type": "markdown",
   "metadata": {},
   "source": [
    "# Some fixed-size circuits"
   ]
  },
  {
   "cell_type": "markdown",
   "metadata": {},
   "source": [
    "## 1-qubit gates"
   ]
  },
  {
   "cell_type": "markdown",
   "metadata": {},
   "source": [
    "X"
   ]
  },
  {
   "cell_type": "code",
   "execution_count": 4,
   "metadata": {},
   "outputs": [
    {
     "name": "stdout",
     "output_type": "stream",
     "text": [
      "x []\n"
     ]
    },
    {
     "data": {
      "text/plain": [
       "(   ┌───┐\n",
       " q: ┤ X ├\n",
       "    └───┘,\n",
       " global phase: π\n",
       "    ┌───┐┌───┐┌───┐┌───┐┌───┐┌───┐\n",
       " q: ┤ H ├┤ T ├┤ T ├┤ T ├┤ T ├┤ H ├\n",
       "    └───┘└───┘└───┘└───┘└───┘└───┘)"
      ]
     },
     "execution_count": 4,
     "metadata": {},
     "output_type": "execute_result"
    }
   ],
   "source": [
    "# X\n",
    "with QiskitTester(1) as QT:\n",
    "    QT.circuit.x(QT.q(0))\n",
    "QT.circuit.draw(), QT.transpile().draw()"
   ]
  },
  {
   "cell_type": "markdown",
   "metadata": {},
   "source": [
    "Y"
   ]
  },
  {
   "cell_type": "code",
   "execution_count": 5,
   "metadata": {},
   "outputs": [
    {
     "name": "stdout",
     "output_type": "stream",
     "text": [
      "y []\n"
     ]
    },
    {
     "data": {
      "text/plain": [
       "(   ┌───┐\n",
       " q: ┤ Y ├\n",
       "    └───┘,\n",
       " global phase: 3π/4\n",
       "    ┌───┐┌───┐┌───┐┌───┐┌─────┐┌─────┐┌───┐┌───┐┌───┐\n",
       " q: ┤ H ├┤ T ├┤ T ├┤ H ├┤ Tdg ├┤ Tdg ├┤ H ├┤ T ├┤ T ├\n",
       "    └───┘└───┘└───┘└───┘└─────┘└─────┘└───┘└───┘└───┘)"
      ]
     },
     "execution_count": 5,
     "metadata": {},
     "output_type": "execute_result"
    }
   ],
   "source": [
    "# Y\n",
    "with QiskitTester(1) as QT:\n",
    "    QT.circuit.y(QT.q(0))\n",
    "QT.circuit.draw(), QT.transpile().draw()"
   ]
  },
  {
   "cell_type": "markdown",
   "metadata": {},
   "source": [
    "Z"
   ]
  },
  {
   "cell_type": "code",
   "execution_count": 6,
   "metadata": {},
   "outputs": [
    {
     "name": "stdout",
     "output_type": "stream",
     "text": [
      "z []\n"
     ]
    },
    {
     "data": {
      "text/plain": [
       "(   ┌───┐\n",
       " q: ┤ Z ├\n",
       "    └───┘,\n",
       "    ┌───┐┌───┐┌───┐┌───┐\n",
       " q: ┤ T ├┤ T ├┤ T ├┤ T ├\n",
       "    └───┘└───┘└───┘└───┘)"
      ]
     },
     "execution_count": 6,
     "metadata": {},
     "output_type": "execute_result"
    }
   ],
   "source": [
    "with QiskitTester(1) as QT:\n",
    "    QT.circuit.z(QT.q(0))\n",
    "QT.circuit.draw(), QT.transpile().draw()"
   ]
  },
  {
   "cell_type": "markdown",
   "metadata": {},
   "source": [
    "T"
   ]
  },
  {
   "cell_type": "code",
   "execution_count": 7,
   "metadata": {},
   "outputs": [
    {
     "name": "stdout",
     "output_type": "stream",
     "text": [
      "t []\n"
     ]
    },
    {
     "data": {
      "text/plain": [
       "(   ┌───┐\n",
       " q: ┤ T ├\n",
       "    └───┘,\n",
       "    ┌───┐\n",
       " q: ┤ T ├\n",
       "    └───┘)"
      ]
     },
     "execution_count": 7,
     "metadata": {},
     "output_type": "execute_result"
    }
   ],
   "source": [
    "# T = p(π/4)\n",
    "with QiskitTester(1) as QT:\n",
    "    QT.circuit.t(QT.q(0))\n",
    "QT.circuit.draw(), QT.transpile().draw()"
   ]
  },
  {
   "cell_type": "markdown",
   "metadata": {},
   "source": [
    "S"
   ]
  },
  {
   "cell_type": "code",
   "execution_count": 8,
   "metadata": {},
   "outputs": [
    {
     "name": "stdout",
     "output_type": "stream",
     "text": [
      "s []\n"
     ]
    },
    {
     "data": {
      "text/plain": [
       "(   ┌───┐\n",
       " q: ┤ S ├\n",
       "    └───┘,\n",
       "    ┌───┐┌───┐\n",
       " q: ┤ T ├┤ T ├\n",
       "    └───┘└───┘)"
      ]
     },
     "execution_count": 8,
     "metadata": {},
     "output_type": "execute_result"
    }
   ],
   "source": [
    "# S = p(π/2)\n",
    "with QiskitTester(1) as QT:\n",
    "    QT.circuit.s(0)\n",
    "QT.circuit.draw(), QT.transpile().draw()\n"
   ]
  },
  {
   "cell_type": "markdown",
   "metadata": {},
   "source": [
    "$\\sqrt X$"
   ]
  },
  {
   "cell_type": "code",
   "execution_count": 9,
   "metadata": {},
   "outputs": [
    {
     "name": "stdout",
     "output_type": "stream",
     "text": [
      "sx []\n"
     ]
    },
    {
     "data": {
      "text/plain": [
       "(   ┌────┐\n",
       " q: ┤ √X ├\n",
       "    └────┘,\n",
       " global phase: π\n",
       "    ┌───┐┌───┐┌───┐┌───┐\n",
       " q: ┤ H ├┤ T ├┤ T ├┤ H ├\n",
       "    └───┘└───┘└───┘└───┘)"
      ]
     },
     "execution_count": 9,
     "metadata": {},
     "output_type": "execute_result"
    }
   ],
   "source": [
    "with QiskitTester(1) as QT:\n",
    "    QT.circuit.sx(QT.q(0))\n",
    "QT.circuit.draw(), QT.transpile().draw()"
   ]
  },
  {
   "cell_type": "markdown",
   "metadata": {},
   "source": [
    "$\\sqrt X ^\\dag$"
   ]
  },
  {
   "cell_type": "code",
   "execution_count": 17,
   "metadata": {},
   "outputs": [
    {
     "name": "stdout",
     "output_type": "stream",
     "text": [
      "sxdg []\n"
     ]
    },
    {
     "data": {
      "text/plain": [
       "(   ┌──────┐\n",
       " q: ┤ √Xdg ├\n",
       "    └──────┘,\n",
       " global phase: π\n",
       "    ┌───┐┌─────┐┌─────┐┌───┐\n",
       " q: ┤ H ├┤ Tdg ├┤ Tdg ├┤ H ├\n",
       "    └───┘└─────┘└─────┘└───┘)"
      ]
     },
     "execution_count": 17,
     "metadata": {},
     "output_type": "execute_result"
    }
   ],
   "source": [
    "with QiskitTester(1) as QT:\n",
    "    QT.circuit.sxdg(QT.q(0))\n",
    "QT.circuit.draw(), QT.transpile().draw()"
   ]
  },
  {
   "cell_type": "markdown",
   "metadata": {},
   "source": [
    "Consistency checks"
   ]
  },
  {
   "cell_type": "code",
   "execution_count": null,
   "metadata": {},
   "outputs": [],
   "source": [
    "with QiskitTester(1) as QT:\n",
    "    QT.circuit.append(qk.circuit.library.PhaseGate(np.pi/2),(0,))\n",
    "transpiled=qk.transpile(QT.circuit, backend)\n",
    "circuit2 = pm.run(transpiled)\n",
    "discretized = skd(circuit2)\n",
    "QT.circuit.draw(),transpiled.draw(), circuit2.draw(), discretized.draw()"
   ]
  },
  {
   "cell_type": "code",
   "execution_count": null,
   "metadata": {},
   "outputs": [],
   "source": [
    "with QiskitTester(1) as QT:\n",
    "    QT.circuit.append(qk.circuit.library.PhaseGate(3*np.pi/4),(0,))\n",
    "transpiled=qk.transpile(QT.circuit, backend)\n",
    "circuit2 = pm.run(transpiled)\n",
    "discretized = skd(circuit2)\n",
    "QT.circuit.draw(),transpiled.draw(), circuit2.draw(), discretized.draw()"
   ]
  },
  {
   "cell_type": "code",
   "execution_count": null,
   "metadata": {},
   "outputs": [],
   "source": [
    "with QiskitTester(1) as QT:\n",
    "    QT.circuit.tdg(0)\n",
    "    QT.circuit.tdg(0)\n",
    "QT.circuit=pm.run(QT.circuit)\n",
    "transpiled=qk.transpile(QT.circuit, backend, basis_gates)\n",
    "discretized = skd(transpiled)\n",
    "QT.circuit.draw(),transpiled.draw(),discretized.draw()"
   ]
  },
  {
   "cell_type": "code",
   "execution_count": null,
   "metadata": {},
   "outputs": [],
   "source": [
    "with QiskitTester(1) as QT:\n",
    "    QT.circuit.append(qk.circuit.library.PhaseGate(3*np.pi/2),(0,))\n",
    "transpiled=qk.transpile(QT.circuit, backend)\n",
    "circuit2 = pm.run(transpiled)\n",
    "discretized = skd(circuit2)\n",
    "QT.circuit.draw(),transpiled.draw(), circuit2.draw(), discretized.draw()"
   ]
  },
  {
   "cell_type": "code",
   "execution_count": null,
   "metadata": {},
   "outputs": [],
   "source": [
    "with QiskitTester(1) as QT:\n",
    "    QT.circuit.append(qk.circuit.library.PhaseGate(5*np.pi/2),(0,))\n",
    "transpiled=qk.transpile(QT.circuit, backend)\n",
    "circuit2 = pm.run(transpiled)\n",
    "discretized = skd(circuit2)\n",
    "QT.circuit.draw(),transpiled.draw(), circuit2.draw(), discretized.draw()"
   ]
  },
  {
   "cell_type": "code",
   "execution_count": null,
   "metadata": {},
   "outputs": [],
   "source": [
    "# (just as a test)\n",
    "# we should be able to transpile this one\n",
    "with QiskitTester(1) as QT:\n",
    "    QT.circuit.p(np.pi/8,0)\n",
    "    QT.circuit.p(np.pi/8,0)\n",
    "transpiled=qk.transpile(QT.circuit, backend)\n",
    "circuit2 = pm.run(transpiled)\n",
    "discretized = skd(circuit2)\n",
    "QT.circuit.draw(),transpiled.draw(),discretized.draw()"
   ]
  },
  {
   "cell_type": "code",
   "execution_count": 37,
   "metadata": {},
   "outputs": [
    {
     "name": "stdout",
     "output_type": "stream",
     "text": [
      "u1 [0.7853981633974483]\n"
     ]
    },
    {
     "data": {
      "text/plain": [
       "(   ┌────────┐┌────────┐\n",
       " q: ┤ P(π/8) ├┤ P(π/8) ├\n",
       "    └────────┘└────────┘,\n",
       "    ┌─────────┐\n",
       " q: ┤ U1(π/4) ├\n",
       "    └─────────┘,\n",
       "    ┌───┐\n",
       " q: ┤ T ├\n",
       "    └───┘)"
      ]
     },
     "execution_count": 37,
     "metadata": {},
     "output_type": "execute_result"
    }
   ],
   "source": [
    "# we should be able to transpile this one\n",
    "with QiskitTester(1) as QT:\n",
    "    QT.circuit.p(np.pi/8,0)\n",
    "    QT.circuit.p(np.pi/8,0)\n",
    "transpiled=qk.transpile(QT.circuit, backend)\n",
    "circuit2 = pm.run(transpiled)\n",
    "discretized = skd(circuit2)\n",
    "QT.circuit.draw(),transpiled.draw(),discretized.draw()"
   ]
  },
  {
   "cell_type": "markdown",
   "metadata": {},
   "source": [
    "## 2-qubit gates"
   ]
  },
  {
   "cell_type": "markdown",
   "metadata": {},
   "source": [
    "Controlled-Y"
   ]
  },
  {
   "cell_type": "code",
   "execution_count": 18,
   "metadata": {},
   "outputs": [
    {
     "name": "stdout",
     "output_type": "stream",
     "text": [
      "cy []\n"
     ]
    },
    {
     "data": {
      "text/plain": [
       "(     ┌───┐\n",
       " q_0: ┤ Y ├\n",
       "      └─┬─┘\n",
       " q_1: ──■──\n",
       "           ,\n",
       "      ┌─────┐┌─────┐┌───┐┌───┐┌───┐\n",
       " q_0: ┤ Tdg ├┤ Tdg ├┤ X ├┤ T ├┤ T ├\n",
       "      └─────┘└─────┘└─┬─┘└───┘└───┘\n",
       " q_1: ────────────────■────────────\n",
       "                                   )"
      ]
     },
     "execution_count": 18,
     "metadata": {},
     "output_type": "execute_result"
    }
   ],
   "source": [
    "with QiskitTester(2) as QT:\n",
    "    QT.circuit.cy(QT.q(0),QT.q(1))\n",
    "QT.circuit.draw(), QT.transpile().draw()"
   ]
  },
  {
   "cell_type": "markdown",
   "metadata": {},
   "source": [
    "CZ"
   ]
  },
  {
   "cell_type": "code",
   "execution_count": 19,
   "metadata": {},
   "outputs": [
    {
     "name": "stdout",
     "output_type": "stream",
     "text": [
      "cz []\n"
     ]
    },
    {
     "data": {
      "text/plain": [
       "(        \n",
       " q_0: ─■─\n",
       "       │ \n",
       " q_1: ─■─\n",
       "         ,\n",
       "      ┌───┐┌───┐┌───┐\n",
       " q_0: ┤ H ├┤ X ├┤ H ├\n",
       "      └───┘└─┬─┘└───┘\n",
       " q_1: ───────■───────\n",
       "                     )"
      ]
     },
     "execution_count": 19,
     "metadata": {},
     "output_type": "execute_result"
    }
   ],
   "source": [
    "with QiskitTester(2) as QT:\n",
    "    QT.circuit.cz(QT.q(0),QT.q(1))\n",
    "QT.circuit.draw(), QT.transpile().draw()"
   ]
  },
  {
   "cell_type": "markdown",
   "metadata": {},
   "source": [
    "SWAP"
   ]
  },
  {
   "cell_type": "code",
   "execution_count": 20,
   "metadata": {},
   "outputs": [
    {
     "name": "stdout",
     "output_type": "stream",
     "text": [
      "swap []\n"
     ]
    },
    {
     "data": {
      "text/plain": [
       "(        \n",
       " q_0: ─X─\n",
       "       │ \n",
       " q_1: ─X─\n",
       "         ,\n",
       "      ┌───┐     ┌───┐\n",
       " q_0: ┤ X ├──■──┤ X ├\n",
       "      └─┬─┘┌─┴─┐└─┬─┘\n",
       " q_1: ──■──┤ X ├──■──\n",
       "           └───┘     )"
      ]
     },
     "execution_count": 20,
     "metadata": {},
     "output_type": "execute_result"
    }
   ],
   "source": [
    "with QiskitTester(2) as QT:\n",
    "    QT.circuit.swap(QT.q(0),QT.q(1))\n",
    "QT.circuit.draw(), QT.transpile().draw()"
   ]
  },
  {
   "cell_type": "markdown",
   "metadata": {},
   "source": [
    "iSWAP"
   ]
  },
  {
   "cell_type": "code",
   "execution_count": 21,
   "metadata": {},
   "outputs": [
    {
     "name": "stdout",
     "output_type": "stream",
     "text": [
      "s []\n",
      "u2 [0.0, -1.5707963267948966]\n",
      "cx []\n",
      "cx []\n",
      "h []\n"
     ]
    },
    {
     "data": {
      "text/plain": [
       "(     ┌────────┐\n",
       " q_0: ┤1       ├\n",
       "      │  Iswap │\n",
       " q_1: ┤0       ├\n",
       "      └────────┘,\n",
       " global phase: π\n",
       "      ┌───┐┌───┐     ┌───┐     ┌───┐\n",
       " q_0: ┤ T ├┤ T ├─────┤ X ├──■──┤ H ├\n",
       "      ├───┤├───┤┌───┐└─┬─┘┌─┴─┐└───┘\n",
       " q_1: ┤ T ├┤ T ├┤ H ├──■──┤ X ├─────\n",
       "      └───┘└───┘└───┘     └───┘     )"
      ]
     },
     "execution_count": 21,
     "metadata": {},
     "output_type": "execute_result"
    }
   ],
   "source": [
    "with QiskitTester(2) as QT:\n",
    "    QT.circuit.iswap(QT.q(0),QT.q(1))\n",
    "QT.circuit.draw(), QT.transpile().draw()"
   ]
  },
  {
   "cell_type": "markdown",
   "metadata": {},
   "source": [
    "Controlled S"
   ]
  },
  {
   "cell_type": "code",
   "execution_count": 22,
   "metadata": {},
   "outputs": [
    {
     "name": "stdout",
     "output_type": "stream",
     "text": [
      "cp [1.5707963267948966]\n"
     ]
    },
    {
     "data": {
      "text/plain": [
       "(          \n",
       " q_0: ──■──\n",
       "      ┌─┴─┐\n",
       " q_1: ┤ S ├\n",
       "      └───┘,\n",
       "      ┌───┐                      \n",
       " q_0: ┤ T ├──■───────────■───────\n",
       "      └───┘┌─┴─┐┌─────┐┌─┴─┐┌───┐\n",
       " q_1: ─────┤ X ├┤ Tdg ├┤ X ├┤ T ├\n",
       "           └───┘└─────┘└───┘└───┘)"
      ]
     },
     "execution_count": 22,
     "metadata": {},
     "output_type": "execute_result"
    }
   ],
   "source": [
    "with QiskitTester(2) as QT:\n",
    "    QT.circuit.append(qk.circuit.library.SGate().control(1), (0,1))\n",
    "QT.circuit.draw(), QT.transpile().draw()"
   ]
  },
  {
   "cell_type": "markdown",
   "metadata": {},
   "source": [
    "DCX\n",
    "(Double CNOT)"
   ]
  },
  {
   "cell_type": "code",
   "execution_count": 23,
   "metadata": {},
   "outputs": [
    {
     "name": "stdout",
     "output_type": "stream",
     "text": [
      "cx []\n",
      "cx []\n"
     ]
    },
    {
     "data": {
      "text/plain": [
       "(     ┌──────┐\n",
       " q_0: ┤1     ├\n",
       "      │  Dcx │\n",
       " q_1: ┤0     ├\n",
       "      └──────┘,\n",
       "      ┌───┐     \n",
       " q_0: ┤ X ├──■──\n",
       "      └─┬─┘┌─┴─┐\n",
       " q_1: ──■──┤ X ├\n",
       "           └───┘)"
      ]
     },
     "execution_count": 23,
     "metadata": {},
     "output_type": "execute_result"
    }
   ],
   "source": [
    "with QiskitTester(2) as QT:\n",
    "    QT.circuit.dcx(QT.q(0),QT.q(1))\n",
    "QT.circuit.draw(), QT.transpile().draw()"
   ]
  },
  {
   "cell_type": "markdown",
   "metadata": {},
   "source": [
    "CH\n",
    "(Controlled Hadamard)"
   ]
  },
  {
   "cell_type": "code",
   "execution_count": 24,
   "metadata": {},
   "outputs": [
    {
     "name": "stdout",
     "output_type": "stream",
     "text": [
      "u2 [0.7853981633974483, -1.5707963267948966]\n",
      "cx []\n",
      "u2 [-1.5707963267948966, 2.356194490192345]\n"
     ]
    },
    {
     "data": {
      "text/plain": [
       "(     ┌───┐\n",
       " q_0: ┤ H ├\n",
       "      └─┬─┘\n",
       " q_1: ──■──\n",
       "           ,\n",
       " global phase: π\n",
       "      ┌───┐┌───┐┌───┐┌───┐┌───┐┌─────┐┌───┐┌─────┐┌─────┐\n",
       " q_0: ┤ T ├┤ T ├┤ H ├┤ T ├┤ X ├┤ Tdg ├┤ H ├┤ Tdg ├┤ Tdg ├\n",
       "      └───┘└───┘└───┘└───┘└─┬─┘└─────┘└───┘└─────┘└─────┘\n",
       " q_1: ──────────────────────■────────────────────────────\n",
       "                                                         )"
      ]
     },
     "execution_count": 24,
     "metadata": {},
     "output_type": "execute_result"
    }
   ],
   "source": [
    "with QiskitTester(2) as QT:\n",
    "    QT.circuit.ch(QT.q(0),QT.q(1))\n",
    "QT.circuit.draw(), QT.transpile().draw()"
   ]
  },
  {
   "cell_type": "markdown",
   "metadata": {},
   "source": [
    "### Consistency checks"
   ]
  },
  {
   "cell_type": "code",
   "execution_count": null,
   "metadata": {},
   "outputs": [],
   "source": [
    "# Controlled Phase(α) requires to be able to do Phase(α/2)\n",
    "with QiskitTester(2) as QT:\n",
    "    QT.circuit.append(qk.circuit.library.CPhaseGate(3*np.pi/2),(0,1))\n",
    "transpiled=qk.transpile(QT.circuit, backend)\n",
    "circuit2 = pm.run(transpiled)\n",
    "discretized = skd(circuit2)\n",
    "QT.circuit.draw(),transpiled.draw(), circuit2.draw(), discretized.draw()"
   ]
  },
  {
   "cell_type": "code",
   "execution_count": null,
   "metadata": {},
   "outputs": [],
   "source": [
    "# This is CS, but can we transpile it?\n",
    "with QiskitTester(2) as QT:\n",
    "    QT.circuit.cp(np.pi/2,QT.q(0),QT.q(1))\n",
    "transpiled=qk.transpile(QT.circuit, backend)\n",
    "circuit2 = pm.run(transpiled)\n",
    "discretized = skd(circuit2)\n",
    "QT.circuit.draw(),transpiled.draw(),discretized.draw()"
   ]
  },
  {
   "cell_type": "markdown",
   "metadata": {},
   "source": [
    "## 3-qubit gates"
   ]
  },
  {
   "cell_type": "markdown",
   "metadata": {},
   "source": [
    "Controlled-Controlled X"
   ]
  },
  {
   "cell_type": "code",
   "execution_count": 25,
   "metadata": {},
   "outputs": [
    {
     "name": "stdout",
     "output_type": "stream",
     "text": [
      "ccx []\n"
     ]
    },
    {
     "data": {
      "text/plain": [
       "(     ┌───┐\n",
       " q_0: ┤ X ├\n",
       "      └─┬─┘\n",
       " q_1: ──■──\n",
       "        │  \n",
       " q_2: ──■──\n",
       "           ,\n",
       "      ┌───┐┌───┐┌─────┐┌───┐┌───┐┌───┐┌─────┐┌───┐┌───┐ ┌───┐      \n",
       " q_0: ┤ H ├┤ X ├┤ Tdg ├┤ X ├┤ T ├┤ X ├┤ Tdg ├┤ X ├┤ T ├─┤ H ├──────\n",
       "      └───┘└─┬─┘└─────┘└─┬─┘└───┘└─┬─┘└┬───┬┘└─┬─┘├───┤┌┴───┴┐┌───┐\n",
       " q_1: ───────■───────────┼─────────■───┤ T ├───┼──┤ X ├┤ Tdg ├┤ X ├\n",
       "                         │             └───┘   │  └─┬─┘└┬───┬┘└─┬─┘\n",
       " q_2: ───────────────────■─────────────────────■────■───┤ T ├───■──\n",
       "                                                        └───┘      )"
      ]
     },
     "execution_count": 25,
     "metadata": {},
     "output_type": "execute_result"
    }
   ],
   "source": [
    "with QiskitTester(3) as QT:\n",
    "    QT.circuit.ccx(QT.q(0),QT.q(1),QT.q(2))\n",
    "QT.circuit.draw(), QT.transpile().draw()"
   ]
  },
  {
   "cell_type": "markdown",
   "metadata": {},
   "source": [
    "Controlled-Swap"
   ]
  },
  {
   "cell_type": "code",
   "execution_count": 26,
   "metadata": {},
   "outputs": [
    {
     "name": "stdout",
     "output_type": "stream",
     "text": [
      "cswap []\n"
     ]
    },
    {
     "data": {
      "text/plain": [
       "(        \n",
       " q_0: ─X─\n",
       "       │ \n",
       " q_1: ─X─\n",
       "       │ \n",
       " q_2: ─■─\n",
       "         ,\n",
       "           ┌───┐┌───┐┌─────┐┌───┐┌───┐┌───┐┌─────┐┌───┐┌───┐ ┌───┐           \n",
       " q_0: ──■──┤ H ├┤ X ├┤ Tdg ├┤ X ├┤ T ├┤ X ├┤ Tdg ├┤ X ├┤ T ├─┤ H ├────────■──\n",
       "      ┌─┴─┐└───┘└─┬─┘└─────┘└─┬─┘└───┘└─┬─┘└┬───┬┘└─┬─┘├───┤┌┴───┴┐┌───┐┌─┴─┐\n",
       " q_1: ┤ X ├───────■───────────┼─────────■───┤ T ├───┼──┤ X ├┤ Tdg ├┤ X ├┤ X ├\n",
       "      └───┘                   │             └───┘   │  └─┬─┘└┬───┬┘└─┬─┘└───┘\n",
       " q_2: ────────────────────────■─────────────────────■────■───┤ T ├───■───────\n",
       "                                                             └───┘           )"
      ]
     },
     "execution_count": 26,
     "metadata": {},
     "output_type": "execute_result"
    }
   ],
   "source": [
    "with QiskitTester(3) as QT:\n",
    "    QT.circuit.cswap(QT.q(0),QT.q(1),QT.q(2))\n",
    "QT.circuit.draw(), QT.transpile().draw()"
   ]
  },
  {
   "cell_type": "code",
   "execution_count": null,
   "metadata": {},
   "outputs": [],
   "source": []
  },
  {
   "cell_type": "markdown",
   "metadata": {},
   "source": [
    "## Variable size / parametric"
   ]
  },
  {
   "cell_type": "markdown",
   "metadata": {},
   "source": [
    "Permutation"
   ]
  },
  {
   "cell_type": "code",
   "execution_count": 27,
   "metadata": {},
   "outputs": [
    {
     "name": "stdout",
     "output_type": "stream",
     "text": [
      "swap []\n",
      "swap []\n"
     ]
    },
    {
     "data": {
      "text/plain": [
       "(     ┌──────────────────────┐\n",
       " q_0: ┤2                     ├\n",
       "      │                      │\n",
       " q_1: ┤1 permutation_[2,0,1] ├\n",
       "      │                      │\n",
       " q_2: ┤0                     ├\n",
       "      └──────────────────────┘,\n",
       "      ┌───┐     ┌───┐               \n",
       " q_0: ┤ X ├──■──┤ X ├───────────────\n",
       "      └─┬─┘┌─┴─┐└─┬─┘┌───┐     ┌───┐\n",
       " q_1: ──■──┤ X ├──■──┤ X ├──■──┤ X ├\n",
       "           └───┘     └─┬─┘┌─┴─┐└─┬─┘\n",
       " q_2: ─────────────────■──┤ X ├──■──\n",
       "                          └───┘     )"
      ]
     },
     "execution_count": 27,
     "metadata": {},
     "output_type": "execute_result"
    }
   ],
   "source": [
    "with QiskitTester(3) as QT:\n",
    "    QT.circuit.append(qk.circuit.library.Permutation(3,[2,0,1]), \n",
    "                      (QT.q(0),QT.q(1),QT.q(2)))\n",
    "QT.circuit.draw(), QT.transpile().draw()"
   ]
  },
  {
   "cell_type": "markdown",
   "metadata": {},
   "source": [
    "InnerProduct\n",
    "(but only specific sizes)"
   ]
  },
  {
   "cell_type": "code",
   "execution_count": null,
   "metadata": {},
   "outputs": [
    {
     "name": "stdout",
     "output_type": "stream",
     "text": [
      "cz []\n",
      "cz []\n"
     ]
    },
    {
     "data": {
      "text/plain": [
       "(     ┌────────────────┐\n",
       " q_0: ┤3               ├\n",
       "      │                │\n",
       " q_1: ┤2               ├\n",
       "      │  inner_product │\n",
       " q_2: ┤1               ├\n",
       "      │                │\n",
       " q_3: ┤0               ├\n",
       "      └────────────────┘,\n",
       "      ┌───┐┌───┐┌───┐     \n",
       " q_0: ┤ H ├┤ X ├┤ H ├─────\n",
       "      ├───┤└─┬─┘├───┤┌───┐\n",
       " q_1: ┤ H ├──┼──┤ X ├┤ H ├\n",
       "      └───┘  │  └─┬─┘└───┘\n",
       " q_2: ───────■────┼───────\n",
       "                  │       \n",
       " q_3: ────────────■───────\n",
       "                          )"
      ]
     },
     "metadata": {},
     "output_type": "display_data"
    }
   ],
   "source": [
    "with QiskitTester(4) as QT:\n",
    "    QT.circuit.append(qk.circuit.library.InnerProduct(2), \n",
    "                      (QT.q(0),QT.q(1),QT.q(2),QT.q(3)))\n",
    "QT.circuit.draw(), QT.transpile().draw()"
   ]
  },
  {
   "cell_type": "markdown",
   "metadata": {},
   "source": [
    "AND"
   ]
  },
  {
   "cell_type": "code",
   "execution_count": 28,
   "metadata": {},
   "outputs": [
    {
     "name": "stdout",
     "output_type": "stream",
     "text": [
      "ccx []\n"
     ]
    },
    {
     "data": {
      "text/plain": [
       "(     ┌──────┐\n",
       " q_0: ┤2     ├\n",
       "      │      │\n",
       " q_1: ┤1 and ├\n",
       "      │      │\n",
       " q_2: ┤0     ├\n",
       "      └──────┘,\n",
       "      ┌───┐┌───┐┌─────┐┌───┐┌───┐┌───┐┌─────┐┌───┐┌───┐ ┌───┐      \n",
       " q_0: ┤ H ├┤ X ├┤ Tdg ├┤ X ├┤ T ├┤ X ├┤ Tdg ├┤ X ├┤ T ├─┤ H ├──────\n",
       "      └───┘└─┬─┘└─────┘└─┬─┘└───┘└─┬─┘└┬───┬┘└─┬─┘├───┤┌┴───┴┐┌───┐\n",
       " q_1: ───────■───────────┼─────────■───┤ T ├───┼──┤ X ├┤ Tdg ├┤ X ├\n",
       "                         │             └───┘   │  └─┬─┘└┬───┬┘└─┬─┘\n",
       " q_2: ───────────────────■─────────────────────■────■───┤ T ├───■──\n",
       "                                                        └───┘      )"
      ]
     },
     "execution_count": 28,
     "metadata": {},
     "output_type": "execute_result"
    }
   ],
   "source": [
    "with QiskitTester(3) as QT:\n",
    "    QT.circuit.append(qk.circuit.library.AND(2), \n",
    "                      (QT.q(0),QT.q(1),QT.q(2)))\n",
    "QT.circuit.draw(), QT.transpile().draw()"
   ]
  },
  {
   "cell_type": "markdown",
   "metadata": {},
   "source": [
    "OR"
   ]
  },
  {
   "cell_type": "code",
   "execution_count": 29,
   "metadata": {},
   "outputs": [
    {
     "name": "stdout",
     "output_type": "stream",
     "text": [
      "x []\n",
      "x []\n",
      "x []\n",
      "ccx []\n",
      "x []\n",
      "x []\n"
     ]
    },
    {
     "data": {
      "text/plain": [
       "(     ┌─────┐\n",
       " q_0: ┤2    ├\n",
       "      │     │\n",
       " q_1: ┤1 or ├\n",
       "      │     │\n",
       " q_2: ┤0    ├\n",
       "      └─────┘,\n",
       " global phase: π\n",
       "      ┌───┐┌───┐┌───┐┌───┐┌───┐┌───┐┌───┐┌───┐┌─────┐┌───┐┌───┐┌───┐┌─────┐┌───┐»\n",
       " q_0: ┤ H ├┤ T ├┤ T ├┤ T ├┤ T ├┤ H ├┤ H ├┤ X ├┤ Tdg ├┤ X ├┤ T ├┤ X ├┤ Tdg ├┤ X ├»\n",
       "      ├───┤├───┤├───┤├───┤├───┤├───┤└───┘└─┬─┘└─────┘└─┬─┘└───┘└─┬─┘└┬───┬┘└─┬─┘»\n",
       " q_1: ┤ H ├┤ T ├┤ T ├┤ T ├┤ T ├┤ H ├───────■───────────┼─────────■───┤ T ├───┼──»\n",
       "      ├───┤├───┤├───┤├───┤├───┤├───┤                   │             └───┘   │  »\n",
       " q_2: ┤ H ├┤ T ├┤ T ├┤ T ├┤ T ├┤ H ├───────────────────■─────────────────────■──»\n",
       "      └───┘└───┘└───┘└───┘└───┘└───┘                                            »\n",
       " «     ┌───┐ ┌───┐                                    \n",
       " «q_0: ┤ T ├─┤ H ├────────────────────────────────────\n",
       " «     ├───┤┌┴───┴┐┌───┐┌───┐┌───┐┌───┐┌───┐┌───┐┌───┐\n",
       " «q_1: ┤ X ├┤ Tdg ├┤ X ├┤ H ├┤ T ├┤ T ├┤ T ├┤ T ├┤ H ├\n",
       " «     └─┬─┘└┬───┬┘└─┬─┘├───┤├───┤├───┤├───┤├───┤├───┤\n",
       " «q_2: ──■───┤ T ├───■──┤ H ├┤ T ├┤ T ├┤ T ├┤ T ├┤ H ├\n",
       " «           └───┘      └───┘└───┘└───┘└───┘└───┘└───┘)"
      ]
     },
     "execution_count": 29,
     "metadata": {},
     "output_type": "execute_result"
    }
   ],
   "source": [
    "with QiskitTester(3) as QT:\n",
    "    QT.circuit.append(qk.circuit.library.OR(2), \n",
    "                      (QT.q(0),QT.q(1),QT.q(2)))\n",
    "QT.circuit.draw(), QT.transpile().draw()"
   ]
  },
  {
   "cell_type": "code",
   "execution_count": null,
   "metadata": {},
   "outputs": [],
   "source": []
  },
  {
   "cell_type": "markdown",
   "metadata": {},
   "source": [
    "CarryAdder (CDKM)"
   ]
  },
  {
   "cell_type": "code",
   "execution_count": 40,
   "metadata": {},
   "outputs": [
    {
     "name": "stdout",
     "output_type": "stream",
     "text": [
      "cx []\n",
      "cx []\n",
      "cx []\n",
      "ccx []\n",
      "cx []\n",
      "ccx []\n",
      "cx []\n",
      "ccx []\n",
      "cx []\n",
      "cx []\n",
      "ccx []\n",
      "cx []\n",
      "cx []\n"
     ]
    },
    {
     "data": {
      "text/plain": [
       "(     ┌───────────────────────┐\n",
       " q_0: ┤5                      ├\n",
       "      │                       │\n",
       " q_1: ┤4                      ├\n",
       "      │                       │\n",
       " q_2: ┤3                      ├\n",
       "      │  CDKMRippleCarryAdder │\n",
       " q_3: ┤2                      ├\n",
       "      │                       │\n",
       " q_4: ┤1                      ├\n",
       "      │                       │\n",
       " q_5: ┤0                      ├\n",
       "      └───────────────────────┘,\n",
       "                                                                           »\n",
       " q_0: ─────────────────────────────────────────────────────────────────────»\n",
       "      ┌───┐                                                                »\n",
       " q_1: ┤ X ├────────────────────────────────────────────────────────────────»\n",
       "      └─┬─┘┌───┐                                      ┌───┐           ┌───┐»\n",
       " q_2: ──┼──┤ X ├────────────■─────────────────────■───┤ T ├───────────┤ X ├»\n",
       "        │  └─┬─┘            │                     │   └───┘           └─┬─┘»\n",
       " q_3: ──■────┼──────────────┼─────────────────────┼─────────────────────┼──»\n",
       "             │       ┌───┐┌─┴─┐┌─────┐┌───┐┌───┐┌─┴─┐┌─────┐┌───┐┌───┐  │  »\n",
       " q_4: ───────■────■──┤ H ├┤ X ├┤ Tdg ├┤ X ├┤ T ├┤ X ├┤ Tdg ├┤ X ├┤ T ├──┼──»\n",
       "                ┌─┴─┐└───┘└───┘└─────┘└─┬─┘└───┘└───┘└─────┘└─┬─┘└───┘  │  »\n",
       " q_5: ──────────┤ X ├───────────────────■─────────────────────■─────────■──»\n",
       "                └───┘                                                      »\n",
       " «                                                                            »\n",
       " «q_0: ───────────────────────────────────────────────────────────────────────»\n",
       " «                                                       ┌───┐           ┌───┐»\n",
       " «q_1: ────────────────────────■─────────────────────■───┤ T ├───────────┤ X ├»\n",
       " «     ┌─────┐     ┌───┐       │                     │   └───┘           └─┬─┘»\n",
       " «q_2: ┤ Tdg ├─────┤ X ├───────┼─────────────────────┼─────────────────────┼──»\n",
       " «     └─────┘     └─┬─┘┌───┐┌─┴─┐┌─────┐┌───┐┌───┐┌─┴─┐┌─────┐┌───┐┌───┐  │  »\n",
       " «q_3: ─────────■────┼──┤ H ├┤ X ├┤ Tdg ├┤ X ├┤ T ├┤ X ├┤ Tdg ├┤ X ├┤ T ├──┼──»\n",
       " «      ┌───┐ ┌─┴─┐  │  └───┘└───┘└─────┘└─┬─┘└───┘└───┘└─────┘└─┬─┘└───┘  │  »\n",
       " «q_4: ─┤ H ├─┤ X ├──┼─────────────────────■─────────────────────■─────────■──»\n",
       " «      ├───┤ └───┘  │                                                        »\n",
       " «q_5: ─┤ T ├────────■────────────────────────────────────────────────────────»\n",
       " «      └───┘                                                                 »\n",
       " «            ┌───┐                                                           »\n",
       " «q_0: ───────┤ X ├───────────────────────────────────────────────────────────»\n",
       " «     ┌─────┐└─┬─┘┌───┐                                 ┌───┐           ┌───┐»\n",
       " «q_1: ┤ Tdg ├──┼──┤ X ├───────■─────────────────────■───┤ T ├───────────┤ X ├»\n",
       " «     └─────┘  │  └─┬─┘       │                     │   └───┘           └─┬─┘»\n",
       " «q_2: ─────────┼────┼─────────┼─────────────────────┼─────────────────────┼──»\n",
       " «      ┌───┐   │    │  ┌───┐┌─┴─┐┌─────┐┌───┐┌───┐┌─┴─┐┌─────┐┌───┐┌───┐  │  »\n",
       " «q_3: ─┤ H ├───■────┼──┤ H ├┤ X ├┤ Tdg ├┤ X ├┤ T ├┤ X ├┤ Tdg ├┤ X ├┤ T ├──┼──»\n",
       " «      ├───┤        │  └───┘└───┘└─────┘└─┬─┘└───┘└───┘└─────┘└─┬─┘└───┘  │  »\n",
       " «q_4: ─┤ T ├────────■─────────────────────■─────────────────────■─────────■──»\n",
       " «      └───┘                                                                 »\n",
       " «q_5: ───────────────────────────────────────────────────────────────────────»\n",
       " «                                                                            »\n",
       " «                                                                            »\n",
       " «q_0: ───────────────────────────────────────────────────────────────────────»\n",
       " «     ┌─────┐┌───┐     ┌───┐                                                 »\n",
       " «q_1: ┤ Tdg ├┤ X ├─────┤ X ├─────────────────────────────────────────────────»\n",
       " «     └─────┘└─┬─┘     └─┬─┘                                 ┌───┐           »\n",
       " «q_2: ─────────┼─────────┼─────────■─────────────────────■───┤ T ├───────────»\n",
       " «      ┌───┐   │         │         │                     │   └───┘           »\n",
       " «q_3: ─┤ H ├───┼────■────┼─────────┼─────────────────────┼───────────────────»\n",
       " «      ├───┤   │  ┌─┴─┐  │  ┌───┐┌─┴─┐┌─────┐┌───┐┌───┐┌─┴─┐┌─────┐┌───┐┌───┐»\n",
       " «q_4: ─┤ T ├───■──┤ X ├──■──┤ H ├┤ X ├┤ Tdg ├┤ X ├┤ T ├┤ X ├┤ Tdg ├┤ X ├┤ T ├»\n",
       " «      └───┘      └───┘     └───┘└───┘└─────┘└─┬─┘└───┘└───┘└─────┘└─┬─┘└───┘»\n",
       " «q_5: ─────────────────────────────────────────■─────────────────────■───────»\n",
       " «                                                                            »\n",
       " «                                \n",
       " «q_0: ───────────────────────────\n",
       " «                                \n",
       " «q_1: ───────────────────────────\n",
       " «     ┌───┐┌─────┐┌───┐     ┌───┐\n",
       " «q_2: ┤ X ├┤ Tdg ├┤ X ├─────┤ X ├\n",
       " «     └─┬─┘└─────┘└─┬─┘     └─┬─┘\n",
       " «q_3: ──┼───────────┼─────────┼──\n",
       " «       │   ┌───┐   │         │  \n",
       " «q_4: ──┼───┤ H ├───┼────■────┼──\n",
       " «       │   ├───┤   │  ┌─┴─┐  │  \n",
       " «q_5: ──■───┤ T ├───■──┤ X ├──■──\n",
       " «           └───┘      └───┘     )"
      ]
     },
     "execution_count": 40,
     "metadata": {},
     "output_type": "execute_result"
    }
   ],
   "source": [
    "with QiskitTester(6) as QT:\n",
    "    QT.circuit.append(qk.circuit.library.CDKMRippleCarryAdder(2), \n",
    "                      (QT.q(0),QT.q(1),QT.q(2),QT.q(3),QT.q(4),QT.q(5)))\n",
    "QT.circuit.draw(), QT.transpile().draw()"
   ]
  },
  {
   "cell_type": "markdown",
   "metadata": {},
   "source": [
    "CarryAdder (VBER)"
   ]
  },
  {
   "cell_type": "code",
   "execution_count": 41,
   "metadata": {},
   "outputs": [
    {
     "name": "stdout",
     "output_type": "stream",
     "text": [
      "ccx []\n",
      "cx []\n",
      "ccx []\n",
      "cx []\n",
      "ccx []\n",
      "ccx []\n",
      "cx []\n",
      "ccx []\n",
      "cx []\n",
      "ccx []\n",
      "cx []\n",
      "cx []\n"
     ]
    },
    {
     "data": {
      "text/plain": [
       "(     ┌──────────────────────┐\n",
       " q_0: ┤6                     ├\n",
       "      │                      │\n",
       " q_1: ┤5                     ├\n",
       "      │                      │\n",
       " q_2: ┤4                     ├\n",
       "      │                      │\n",
       " q_3: ┤3 VBERippleCarryAdder ├\n",
       "      │                      │\n",
       " q_4: ┤2                     ├\n",
       "      │                      │\n",
       " q_5: ┤1                     ├\n",
       "      │                      │\n",
       " q_6: ┤0                     ├\n",
       "      └──────────────────────┘,\n",
       "      ┌───┐     ┌───┐┌─────┐     ┌───┐┌───┐     ┌───┐┌─────┐     ┌───┐┌───┐»\n",
       " q_0: ┤ H ├─────┤ X ├┤ Tdg ├─────┤ X ├┤ T ├─────┤ X ├┤ Tdg ├─────┤ X ├┤ T ├»\n",
       "      ├───┤┌───┐└─┬─┘├─────┤┌───┐└─┬─┘├───┤┌───┐└─┬─┘├─────┤┌───┐└─┬─┘├───┤»\n",
       " q_1: ┤ H ├┤ X ├──┼──┤ Tdg ├┤ X ├──┼──┤ T ├┤ X ├──┼──┤ Tdg ├┤ X ├──┼──┤ T ├»\n",
       "      └───┘└─┬─┘  │  └─────┘└─┬─┘  │  └───┘└─┬─┘  │  └┬───┬┘└─┬─┘  │  ├───┤»\n",
       " q_2: ───────■────┼───────────┼────┼─────────■────┼───┤ T ├───┼────┼──┤ X ├»\n",
       "                  │           │    │              │   ├───┤   │    │  └─┬─┘»\n",
       " q_3: ────────────■───────────┼────┼──────────────■───┤ T ├───┼────┼────┼──»\n",
       "                              │    │                  └───┘   │    │    │  »\n",
       " q_4: ────────────────────────■────┼──────────────────────────■────┼────■──»\n",
       "                                   │                               │       »\n",
       " q_5: ─────────────────────────────■───────────────────────────────■───────»\n",
       "                                                                           »\n",
       " q_6: ─────────────────────────────────────────────────────────────────────»\n",
       "                                                                           »\n",
       " «      ┌───┐  ┌───┐      ┌───┐┌─────┐┌───┐┌───┐┌───┐┌─────┐┌───┐┌───┐ ┌───┐ »\n",
       " «q_0: ─┤ H ├──┤ H ├──────┤ X ├┤ Tdg ├┤ X ├┤ T ├┤ X ├┤ Tdg ├┤ X ├┤ T ├─┤ H ├─»\n",
       " «      ├───┤  ├───┤ ┌───┐└─┬─┘├─────┤└─┬─┘└───┘└─┬─┘└─────┘└─┬─┘└───┘ └───┘ »\n",
       " «q_1: ─┤ H ├──┤ H ├─┤ X ├──┼──┤ Tdg ├──┼─────────┼───────────┼──────────────»\n",
       " «     ┌┴───┴┐ └───┘ └─┬─┘  │  └─────┘  │         │           │              »\n",
       " «q_2: ┤ Tdg ├─────────■────┼───────────┼─────────┼───────────┼──────────────»\n",
       " «     └┬───┬┘┌─────┐       │           │         │   ┌───┐   │  ┌───┐┌─────┐»\n",
       " «q_3: ─┤ X ├─┤ Tdg ├───────■───────────┼─────────■───┤ T ├───┼──┤ X ├┤ Tdg ├»\n",
       " «      └─┬─┘ └┬───┬┘                   │             └───┘   │  └─┬─┘└─────┘»\n",
       " «q_4: ───┼────┤ T ├────────────────────┼─────────────────────┼────┼─────────»\n",
       " «        │    ├───┤                    │                     │    │         »\n",
       " «q_5: ───■────┤ T ├────────────────────┼─────────────────────┼────┼─────────»\n",
       " «             └───┘                    │                     │    │   ┌───┐ »\n",
       " «q_6: ─────────────────────────────────■─────────────────────■────■───┤ T ├─»\n",
       " «                                                                     └───┘ »\n",
       " «                                           ┌───┐ ┌───┐┌───┐┌─────┐┌───┐┌───┐»\n",
       " «q_0: ──■─────────────────────■─────────■───┤ T ├─┤ H ├┤ X ├┤ Tdg ├┤ X ├┤ T ├»\n",
       " «     ┌─┴─┐┌───┐┌───┐┌─────┐┌─┴─┐┌───┐  │   ├───┤ └───┘└─┬─┘└─────┘└─┬─┘└───┘»\n",
       " «q_1: ┤ X ├┤ T ├┤ X ├┤ Tdg ├┤ X ├┤ T ├──┼───┤ H ├────────┼───────────┼───────»\n",
       " «     └───┘└───┘└─┬─┘└┬───┬┘└───┘└───┘┌─┴─┐┌┴───┴┐       │           │       »\n",
       " «q_2: ────────────■───┤ T ├───────────┤ X ├┤ Tdg ├───────┼───────────┼───────»\n",
       " «     ┌───┐           └───┘           └───┘└─────┘       │           │       »\n",
       " «q_3: ┤ X ├──────────────────────────────────────────────■───────────┼───────»\n",
       " «     └─┬─┘                                                          │       »\n",
       " «q_4: ──┼────────────────────────────────────────────────────────────┼───────»\n",
       " «       │                                                            │       »\n",
       " «q_5: ──┼────────────────────────────────────────────────────────────┼───────»\n",
       " «       │                                                            │       »\n",
       " «q_6: ──■────────────────────────────────────────────────────────────■───────»\n",
       " «                                                                            »\n",
       " «     ┌───┐┌─────┐┌───┐┌───┐ ┌───┐ ┌───┐     ┌───┐┌─────┐┌───┐┌───┐┌───┐┌─────┐»\n",
       " «q_0: ┤ X ├┤ Tdg ├┤ X ├┤ T ├─┤ H ├─┤ H ├─────┤ X ├┤ Tdg ├┤ X ├┤ T ├┤ X ├┤ Tdg ├»\n",
       " «     └─┬─┘└─────┘└─┬─┘└───┘ └───┘ └───┘     └─┬─┘└─────┘└─┬─┘└───┘└─┬─┘└─────┘»\n",
       " «q_1: ──┼───────────┼──────────────────────────┼───────────┼─────────┼─────────»\n",
       " «       │           │                          │           │         │         »\n",
       " «q_2: ──┼───────────┼──────────────────────────┼───────────┼─────────┼─────────»\n",
       " «       │   ┌───┐   │  ┌───┐┌─────┐┌───┐┌───┐  │           │         │   ┌───┐ »\n",
       " «q_3: ──■───┤ T ├───┼──┤ X ├┤ Tdg ├┤ X ├┤ X ├──■───────────┼─────────■───┤ T ├─»\n",
       " «           └───┘   │  └─┬─┘└─────┘└─┬─┘└─┬─┘              │             └───┘ »\n",
       " «q_4: ──────────────┼────┼───────────┼────┼────────────────┼───────────────────»\n",
       " «                   │    │           │    │                │                   »\n",
       " «q_5: ──────────────┼────┼───────────┼────■────────────────■───────────────────»\n",
       " «                   │    │   ┌───┐   │                                         »\n",
       " «q_6: ──────────────■────■───┤ T ├───■─────────────────────────────────────────»\n",
       " «                            └───┘                                             »\n",
       " «     ┌───┐┌───┐ ┌───┐      \n",
       " «q_0: ┤ X ├┤ T ├─┤ H ├──────\n",
       " «     └─┬─┘└───┘ └───┘      \n",
       " «q_1: ──┼───────────────────\n",
       " «       │                   \n",
       " «q_2: ──┼───────────────────\n",
       " «       │  ┌───┐┌─────┐┌───┐\n",
       " «q_3: ──┼──┤ X ├┤ Tdg ├┤ X ├\n",
       " «       │  └─┬─┘└─────┘└─┬─┘\n",
       " «q_4: ──┼────┼───────────┼──\n",
       " «       │    │   ┌───┐   │  \n",
       " «q_5: ──■────■───┤ T ├───┼──\n",
       " «                └───┘   │  \n",
       " «q_6: ───────────────────■──\n",
       " «                           )"
      ]
     },
     "execution_count": 41,
     "metadata": {},
     "output_type": "execute_result"
    }
   ],
   "source": [
    "with QiskitTester(7) as QT:\n",
    "    QT.circuit.append(qk.circuit.library.VBERippleCarryAdder(2), \n",
    "                      (QT.q(0),QT.q(1),QT.q(2),QT.q(3),QT.q(4),QT.q(5),QT.q(6)))\n",
    "QT.circuit.draw(), QT.transpile().draw()"
   ]
  },
  {
   "cell_type": "markdown",
   "metadata": {},
   "source": [
    "Weighted Adder\n",
    "(long)"
   ]
  },
  {
   "cell_type": "code",
   "execution_count": 42,
   "metadata": {},
   "outputs": [
    {
     "name": "stdout",
     "output_type": "stream",
     "text": [
      "ccx []\n",
      "cx []\n",
      "x []\n",
      "ccx []\n",
      "ccx []\n",
      "x []\n",
      "ccx []\n",
      "cx []\n",
      "x []\n",
      "ccx []\n",
      "ccx []\n",
      "x []\n"
     ]
    },
    {
     "data": {
      "text/plain": [
       "(     ┌────────┐\n",
       " q_0: ┤4       ├\n",
       "      │        │\n",
       " q_1: ┤3       ├\n",
       "      │        │\n",
       " q_2: ┤2 adder ├\n",
       "      │        │\n",
       " q_3: ┤1       ├\n",
       "      │        │\n",
       " q_4: ┤0       ├\n",
       "      └────────┘,\n",
       "      ┌───┐┌───┐┌─────┐┌───┐┌───┐┌───┐┌─────┐┌───┐┌───┐ ┌───┐                  »\n",
       " q_0: ┤ H ├┤ X ├┤ Tdg ├┤ X ├┤ T ├┤ X ├┤ Tdg ├┤ X ├┤ T ├─┤ H ├───■──────────────»\n",
       "      ├───┤└─┬─┘└─────┘└─┬─┘└───┘└─┬─┘└─────┘└─┬─┘└───┘ └───┘ ┌─┴─┐┌─────┐     »\n",
       " q_1: ┤ H ├──┼───────────┼─────────┼───────────┼──────────────┤ X ├┤ Tdg ├─────»\n",
       "      └───┘  │           │         │   ┌───┐   │  ┌───┐┌─────┐├───┤└┬───┬┘┌───┐»\n",
       " q_2: ───────■───────────┼─────────■───┤ T ├───┼──┤ X ├┤ Tdg ├┤ H ├─┤ T ├─┤ T ├»\n",
       "                         │             └───┘   │  └─┬─┘└─────┘└───┘ └───┘ └───┘»\n",
       " q_3: ───────────────────┼─────────────────────┼────┼──────────────────────────»\n",
       "                         │                     │    │   ┌───┐                  »\n",
       " q_4: ───────────────────■─────────────────────■────■───┤ T ├──────────────────»\n",
       "                                                        └───┘                  »\n",
       " «                     ┌───┐           ┌───┐┌─────┐     ┌───┐┌───┐┌───┐┌─────┐»\n",
       " «q_0: ────────────■───┤ T ├───────────┤ X ├┤ Tdg ├─────┤ X ├┤ H ├┤ X ├┤ Tdg ├»\n",
       " «     ┌───┐┌───┐┌─┴─┐┌┴───┴┐┌───┐┌───┐└─┬─┘└┬───┬┘┌───┐└─┬─┘└───┘└─┬─┘└─────┘»\n",
       " «q_1: ┤ X ├┤ T ├┤ X ├┤ Tdg ├┤ X ├┤ T ├──┼───┤ H ├─┤ H ├──┼─────────┼─────────»\n",
       " «     └─┬─┘├───┤├───┤└┬───┬┘└─┬─┘└───┘  │   └───┘ └───┘  │         │         »\n",
       " «q_2: ──┼──┤ T ├┤ T ├─┤ H ├───┼─────────┼────────────────┼─────────■─────────»\n",
       " «       │  └───┘└───┘ └───┘   │         │                │                   »\n",
       " «q_3: ──┼─────────────────────┼─────────┼────────────────┼───────────────────»\n",
       " «       │                     │         │   ┌───┐        │                   »\n",
       " «q_4: ──■─────────────────────■─────────■───┤ T ├────────■───────────────────»\n",
       " «                                           └───┘                            »\n",
       " «     ┌───┐┌───┐┌───┐┌─────┐┌───┐┌───┐ ┌───┐ ┌───┐                         »\n",
       " «q_0: ┤ X ├┤ T ├┤ X ├┤ Tdg ├┤ X ├┤ T ├─┤ H ├─┤ H ├─────────────────────────»\n",
       " «     └─┬─┘└───┘└─┬─┘└─────┘└─┬─┘└───┘ └───┘ └───┘                         »\n",
       " «q_1: ──┼─────────┼───────────┼────────────────────────────────────────────»\n",
       " «       │         │   ┌───┐   │  ┌───┐┌─────┐┌───┐┌───┐┌───┐┌───┐┌───┐┌───┐»\n",
       " «q_2: ──┼─────────■───┤ T ├───┼──┤ X ├┤ Tdg ├┤ X ├┤ H ├┤ T ├┤ T ├┤ T ├┤ T ├»\n",
       " «       │             └───┘   │  └─┬─┘└─────┘└─┬─┘└───┘└───┘└───┘└───┘└───┘»\n",
       " «q_3: ──┼─────────────────────┼────┼───────────┼───────────────────────────»\n",
       " «       │                     │    │   ┌───┐   │                           »\n",
       " «q_4: ──■─────────────────────■────■───┤ T ├───■───────────────────────────»\n",
       " «                                      └───┘                               »\n",
       " «          ┌───┐┌─────┐┌───┐┌───┐┌───┐┌─────┐┌───┐┌───┐ ┌───┐                  »\n",
       " «q_0: ─────┤ X ├┤ Tdg ├┤ X ├┤ T ├┤ X ├┤ Tdg ├┤ X ├┤ T ├─┤ H ├───■──────────────»\n",
       " «          └─┬─┘└─────┘└─┬─┘└───┘└─┬─┘└─────┘└─┬─┘└───┘ └───┘ ┌─┴─┐┌─────┐     »\n",
       " «q_1: ───────┼───────────┼─────────┼───────────┼──────────────┤ X ├┤ Tdg ├─────»\n",
       " «     ┌───┐  │           │         │   ┌───┐   │  ┌───┐┌─────┐├───┤└┬───┬┘┌───┐»\n",
       " «q_2: ┤ H ├──■───────────┼─────────■───┤ T ├───┼──┤ X ├┤ Tdg ├┤ H ├─┤ T ├─┤ T ├»\n",
       " «     └───┘              │             └───┘   │  └─┬─┘└┬───┬┘└───┘ └───┘ └───┘»\n",
       " «q_3: ───────────────────■─────────────────────■────■───┤ T ├──────────────────»\n",
       " «                                                       └───┘                  »\n",
       " «q_4: ─────────────────────────────────────────────────────────────────────────»\n",
       " «                                                                              »\n",
       " «                     ┌───┐           ┌───┐┌─────┐┌───┐┌───┐┌───┐┌─────┐┌───┐»\n",
       " «q_0: ────────────■───┤ T ├───────────┤ X ├┤ Tdg ├┤ X ├┤ H ├┤ X ├┤ Tdg ├┤ X ├»\n",
       " «     ┌───┐┌───┐┌─┴─┐┌┴───┴┐┌───┐┌───┐└─┬─┘└┬───┬┘└─┬─┘└───┘└─┬─┘└─────┘└─┬─┘»\n",
       " «q_1: ┤ X ├┤ T ├┤ X ├┤ Tdg ├┤ X ├┤ T ├──┼───┤ H ├───┼─────────┼───────────┼──»\n",
       " «     └─┬─┘├───┤├───┤└┬───┬┘└─┬─┘└───┘  │   └───┘   │         │           │  »\n",
       " «q_2: ──┼──┤ T ├┤ T ├─┤ H ├───┼─────────┼───────────┼─────────■───────────┼──»\n",
       " «       │  └───┘└───┘ └───┘   │         │   ┌───┐   │                     │  »\n",
       " «q_3: ──■─────────────────────■─────────■───┤ T ├───■─────────────────────■──»\n",
       " «                                           └───┘                            »\n",
       " «q_4: ───────────────────────────────────────────────────────────────────────»\n",
       " «                                                                            »\n",
       " «     ┌───┐┌───┐┌─────┐┌───┐┌───┐ ┌───┐                                    \n",
       " «q_0: ┤ T ├┤ X ├┤ Tdg ├┤ X ├┤ T ├─┤ H ├────────────────────────────────────\n",
       " «     └───┘└─┬─┘└─────┘└─┬─┘└───┘ └───┘                                    \n",
       " «q_1: ───────┼───────────┼─────────────────────────────────────────────────\n",
       " «            │   ┌───┐   │  ┌───┐┌─────┐┌───┐┌───┐┌───┐┌───┐┌───┐┌───┐┌───┐\n",
       " «q_2: ───────■───┤ T ├───┼──┤ X ├┤ Tdg ├┤ X ├┤ H ├┤ T ├┤ T ├┤ T ├┤ T ├┤ H ├\n",
       " «                └───┘   │  └─┬─┘└┬───┬┘└─┬─┘└───┘└───┘└───┘└───┘└───┘└───┘\n",
       " «q_3: ───────────────────■────■───┤ T ├───■────────────────────────────────\n",
       " «                                 └───┘                                    \n",
       " «q_4: ─────────────────────────────────────────────────────────────────────\n",
       " «                                                                          )"
      ]
     },
     "execution_count": 42,
     "metadata": {},
     "output_type": "execute_result"
    }
   ],
   "source": [
    "with QiskitTester(5) as QT:\n",
    "    QT.circuit.append(qk.circuit.library.WeightedAdder(2), \n",
    "                      (QT.q(0),QT.q(1),QT.q(2),QT.q(3),QT.q(4)))\n",
    "QT.circuit.draw(), QT.transpile().draw()"
   ]
  },
  {
   "cell_type": "code",
   "execution_count": 45,
   "metadata": {},
   "outputs": [
    {
     "name": "stdout",
     "output_type": "stream",
     "text": [
      "cx []\n",
      "ccx []\n",
      "cx []\n"
     ]
    },
    {
     "data": {
      "text/plain": [
       "(     ┌──────┐\n",
       " q_0: ┤3     ├\n",
       "      │      │\n",
       " q_1: ┤2     ├\n",
       "      │  cmp │\n",
       " q_2: ┤1     ├\n",
       "      │      │\n",
       " q_3: ┤0     ├\n",
       "      └──────┘,\n",
       "           ┌───┐                            ┌───┐           ┌───┐┌─────┐┌───┐»\n",
       " q_0: ─────┤ X ├──■─────────────────────■───┤ T ├───────────┤ X ├┤ Tdg ├┤ X ├»\n",
       "      ┌───┐└─┬─┘┌─┴─┐┌─────┐┌───┐┌───┐┌─┴─┐┌┴───┴┐┌───┐┌───┐└─┬─┘└┬───┬┘└─┬─┘»\n",
       " q_1: ┤ H ├──┼──┤ X ├┤ Tdg ├┤ X ├┤ T ├┤ X ├┤ Tdg ├┤ X ├┤ T ├──┼───┤ H ├───┼──»\n",
       "      └───┘  │  └───┘└─────┘└─┬─┘└───┘└───┘└─────┘└─┬─┘└───┘  │   ├───┤   │  »\n",
       " q_2: ───────┼────────────────■─────────────────────■─────────■───┤ T ├───■──»\n",
       "             │                                                    └───┘      »\n",
       " q_3: ───────■───────────────────────────────────────────────────────────────»\n",
       "                                                                             »\n",
       " «     ┌───┐\n",
       " «q_0: ┤ X ├\n",
       " «     └─┬─┘\n",
       " «q_1: ──┼──\n",
       " «       │  \n",
       " «q_2: ──┼──\n",
       " «       │  \n",
       " «q_3: ──■──\n",
       " «          )"
      ]
     },
     "execution_count": 45,
     "metadata": {},
     "output_type": "execute_result"
    }
   ],
   "source": [
    "with QiskitTester(4) as QT:\n",
    "    QT.circuit.append(qk.circuit.library.IntegerComparator(2, value=3), \n",
    "                      (QT.q(0),QT.q(1),QT.q(2),QT.q(3),))\n",
    "QT.circuit.draw(), QT.transpile().draw()"
   ]
  },
  {
   "cell_type": "markdown",
   "metadata": {},
   "source": [
    "Reciprocal"
   ]
  },
  {
   "cell_type": "code",
   "execution_count": 47,
   "metadata": {},
   "outputs": [
    {
     "name": "stdout",
     "output_type": "stream",
     "text": [
      "cx []\n",
      "cx []\n",
      "cx []\n",
      "cx []\n"
     ]
    },
    {
     "data": {
      "text/plain": [
       "(     ┌──────┐\n",
       " q_0: ┤2     ├\n",
       "      │      │\n",
       " q_1: ┤1 1/x ├\n",
       "      │      │\n",
       " q_2: ┤0     ├\n",
       "      └──────┘,\n",
       "      ┌───┐┌───┐┌───┐┌───┐\n",
       " q_0: ┤ X ├┤ X ├┤ X ├┤ X ├\n",
       "      └─┬─┘└─┬─┘└─┬─┘└─┬─┘\n",
       " q_1: ──┼────■────┼────■──\n",
       "        │         │       \n",
       " q_2: ──■─────────■───────\n",
       "                          )"
      ]
     },
     "execution_count": 47,
     "metadata": {},
     "output_type": "execute_result"
    }
   ],
   "source": [
    "with QiskitTester(3) as QT:\n",
    "    QT.circuit.append(qk.circuit.library.ExactReciprocal(2, scaling=1.5), \n",
    "                      (QT.q(0),QT.q(1),QT.q(2)))\n",
    "QT.circuit.draw(), QT.transpile().draw()"
   ]
  },
  {
   "cell_type": "code",
   "execution_count": null,
   "metadata": {},
   "outputs": [],
   "source": []
  },
  {
   "cell_type": "code",
   "execution_count": null,
   "metadata": {},
   "outputs": [],
   "source": []
  },
  {
   "cell_type": "code",
   "execution_count": null,
   "metadata": {},
   "outputs": [],
   "source": []
  },
  {
   "cell_type": "code",
   "execution_count": null,
   "metadata": {},
   "outputs": [],
   "source": []
  },
  {
   "cell_type": "code",
   "execution_count": null,
   "metadata": {},
   "outputs": [],
   "source": []
  },
  {
   "cell_type": "code",
   "execution_count": null,
   "metadata": {},
   "outputs": [],
   "source": []
  },
  {
   "cell_type": "code",
   "execution_count": null,
   "metadata": {},
   "outputs": [],
   "source": []
  },
  {
   "cell_type": "code",
   "execution_count": 51,
   "metadata": {},
   "outputs": [
    {
     "name": "stdout",
     "output_type": "stream",
     "text": [
      "h []\n",
      "h []\n",
      "h []\n",
      "cp [7.853981633974483]\n",
      "cp [4.71238898038469]\n",
      "cp [7.853981633974483]\n",
      "u2 [0.0, -2.7488935718910694]\n",
      "u2 [0.0, -1.5707963267948966]\n",
      "u2 [0.0, -0.7853981633974483]\n"
     ]
    },
    {
     "data": {
      "text/plain": [
       "(                                         \n",
       " q_0: ────────────────────────────────────\n",
       "      ┌──────────────────────────────────┐\n",
       " q_1: ┤2                                 ├\n",
       "      │                                  │\n",
       " q_2: ┤1 iqp:[[6 5 3]; [5 4 5]; [3 5 1]] ├\n",
       "      │                                  │\n",
       " q_3: ┤0                                 ├\n",
       "      └──────────────────────────────────┘,\n",
       " global phase: 3π/16\n",
       "                                                                              »\n",
       " q_0: ────────────────────────────────────────────────────────────────────────»\n",
       "      ┌───┐                                                                   »\n",
       " q_1: ┤ H ├───────────────────────────────────────────────────────────────────»\n",
       "      ├───┤                     ┌───┐┌───┐┌───┐┌───┐┌───┐┌─────┐┌─────┐┌─────┐»\n",
       " q_2: ┤ H ├─────────────────────┤ X ├┤ T ├┤ T ├┤ T ├┤ X ├┤ Tdg ├┤ Tdg ├┤ Tdg ├»\n",
       "      ├───┤┌─────┐┌─────┐┌─────┐└─┬─┘└───┘└───┘└───┘└─┬─┘└┬───┬┘└┬───┬┘└┬───┬┘»\n",
       " q_3: ┤ H ├┤ Tdg ├┤ Tdg ├┤ Tdg ├──■───────────────────■───┤ T ├──┤ T ├──┤ T ├─»\n",
       "      └───┘└─────┘└─────┘└─────┘                          └───┘  └───┘  └───┘ »\n",
       " «                                                                              »\n",
       " «q_0: ─────────────────────────────────────────────────────────────────────────»\n",
       " «            ┌───┐┌─────┐┌─────┐┌─────┐┌───┐┌───┐┌───┐┌───┐┌───┐┌───┐┌───┐┌───┐»\n",
       " «q_1: ───────┤ X ├┤ Tdg ├┤ Tdg ├┤ Tdg ├┤ X ├┤ T ├┤ T ├┤ T ├┤ X ├┤ T ├┤ T ├┤ T ├»\n",
       " «     ┌─────┐└─┬─┘├─────┤├─────┤└─────┘└─┬─┘└───┘└───┘└───┘└─┬─┘└───┘└───┘└───┘»\n",
       " «q_2: ┤ Tdg ├──┼──┤ Tdg ├┤ Tdg ├─────────┼───────────────────■─────────────────»\n",
       " «     └─────┘  │  └─────┘└─────┘         │  ┌───┐┌───┐┌───┐┌───┐               »\n",
       " «q_3: ─────────■─────────────────────────■──┤ T ├┤ T ├┤ T ├┤ H ├───────────────»\n",
       " «                                           └───┘└───┘└───┘└───┘               »\n",
       " «                                                                          »\n",
       " «q_0: ─────────────────────────────────────────────────────────────────────»\n",
       " «     ┌───┐┌─────┐┌─────┐┌─────┐┌─────┐┌───┐┌─────┐┌───┐┌─────┐┌───┐┌─────┐»\n",
       " «q_1: ┤ X ├┤ Tdg ├┤ Tdg ├┤ Tdg ├┤ Tdg ├┤ H ├┤ Tdg ├┤ H ├┤ Tdg ├┤ H ├┤ Tdg ├»\n",
       " «     └─┬─┘└┬───┬┘└┬───┬┘└┬───┬┘└─────┘└───┘└─────┘└───┘└─────┘└───┘└─────┘»\n",
       " «q_2: ──■───┤ T ├──┤ T ├──┤ H ├────────────────────────────────────────────»\n",
       " «           └───┘  └───┘  └───┘                                            »\n",
       " «q_3: ─────────────────────────────────────────────────────────────────────»\n",
       " «                                                                          »\n",
       " «                                                                              »\n",
       " «q_0: ─────────────────────────────────────────────────────────────────────────»\n",
       " «     ┌───┐┌─────┐┌───┐┌───┐┌───┐┌─────┐┌───┐┌─────┐┌───┐┌─────┐┌───┐┌───┐┌───┐»\n",
       " «q_1: ┤ H ├┤ Tdg ├┤ H ├┤ T ├┤ H ├┤ Tdg ├┤ H ├┤ Tdg ├┤ H ├┤ Tdg ├┤ H ├┤ T ├┤ H ├»\n",
       " «     └───┘└─────┘└───┘└───┘└───┘└─────┘└───┘└─────┘└───┘└─────┘└───┘└───┘└───┘»\n",
       " «q_2: ─────────────────────────────────────────────────────────────────────────»\n",
       " «                                                                              »\n",
       " «q_3: ─────────────────────────────────────────────────────────────────────────»\n",
       " «                                                                              »\n",
       " «                                                                            »\n",
       " «q_0: ───────────────────────────────────────────────────────────────────────»\n",
       " «     ┌─────┐┌───┐┌─────┐┌───┐┌───┐┌───┐┌───┐┌───┐┌───┐┌───┐┌───┐┌─────┐┌───┐»\n",
       " «q_1: ┤ Tdg ├┤ H ├┤ Tdg ├┤ H ├┤ T ├┤ T ├┤ H ├┤ T ├┤ H ├┤ T ├┤ H ├┤ Tdg ├┤ H ├»\n",
       " «     └─────┘└───┘└─────┘└───┘└───┘└───┘└───┘└───┘└───┘└───┘└───┘└─────┘└───┘»\n",
       " «q_2: ───────────────────────────────────────────────────────────────────────»\n",
       " «                                                                            »\n",
       " «q_3: ───────────────────────────────────────────────────────────────────────»\n",
       " «                                                                            »\n",
       " «                                                                              »\n",
       " «q_0: ─────────────────────────────────────────────────────────────────────────»\n",
       " «     ┌─────┐┌─────┐┌───┐┌───┐┌───┐┌───┐┌───┐┌─────┐┌─────┐┌───┐┌───┐┌───┐┌───┐»\n",
       " «q_1: ┤ Tdg ├┤ Tdg ├┤ H ├┤ T ├┤ H ├┤ T ├┤ H ├┤ Tdg ├┤ Tdg ├┤ H ├┤ T ├┤ H ├┤ T ├»\n",
       " «     └─────┘└─────┘└───┘└───┘└───┘└───┘└───┘└─────┘└─────┘└───┘└───┘└───┘└───┘»\n",
       " «q_2: ─────────────────────────────────────────────────────────────────────────»\n",
       " «                                                                              »\n",
       " «q_3: ─────────────────────────────────────────────────────────────────────────»\n",
       " «                                                                              »\n",
       " «                                                                          »\n",
       " «q_0: ─────────────────────────────────────────────────────────────────────»\n",
       " «     ┌───┐┌───┐┌───┐┌───┐┌───┐┌───┐┌───┐┌───┐┌───┐┌───┐┌─────┐┌───┐┌─────┐»\n",
       " «q_1: ┤ H ├┤ T ├┤ H ├┤ T ├┤ H ├┤ T ├┤ T ├┤ H ├┤ T ├┤ H ├┤ Tdg ├┤ H ├┤ Tdg ├»\n",
       " «     └───┘└───┘└───┘└───┘└───┘└───┘└───┘└───┘└───┘└───┘└─────┘└───┘└─────┘»\n",
       " «q_2: ─────────────────────────────────────────────────────────────────────»\n",
       " «                                                                          »\n",
       " «q_3: ─────────────────────────────────────────────────────────────────────»\n",
       " «                                                                          »\n",
       " «                                                                           »\n",
       " «q_0: ──────────────────────────────────────────────────────────────────────»\n",
       " «     ┌───┐┌─────┐┌───┐┌─────┐┌─────┐┌───┐┌─────┐┌───┐┌───┐┌───┐┌─────┐┌───┐»\n",
       " «q_1: ┤ H ├┤ Tdg ├┤ H ├┤ Tdg ├┤ Tdg ├┤ H ├┤ Tdg ├┤ H ├┤ T ├┤ H ├┤ Tdg ├┤ H ├»\n",
       " «     └───┘└─────┘└───┘└─────┘└─────┘└───┘└─────┘└───┘└───┘└───┘└─────┘└───┘»\n",
       " «q_2: ──────────────────────────────────────────────────────────────────────»\n",
       " «                                                                           »\n",
       " «q_3: ──────────────────────────────────────────────────────────────────────»\n",
       " «                                                                           »\n",
       " «                                                                             »\n",
       " «q_0: ────────────────────────────────────────────────────────────────────────»\n",
       " «     ┌─────┐┌───┐┌───┐┌───┐┌───┐┌───┐┌───┐┌───┐┌───┐┌───┐┌───┐┌───┐┌───┐┌───┐»\n",
       " «q_1: ┤ Tdg ├┤ H ├┤ T ├┤ H ├┤ T ├┤ H ├┤ T ├┤ H ├┤ T ├┤ H ├┤ T ├┤ T ├┤ H ├┤ T ├»\n",
       " «     └─────┘└───┘└───┘└───┘└───┘└───┘└───┘└───┘└───┘└───┘└───┘└───┘└───┘└───┘»\n",
       " «q_2: ────────────────────────────────────────────────────────────────────────»\n",
       " «                                                                             »\n",
       " «q_3: ────────────────────────────────────────────────────────────────────────»\n",
       " «                                                                             »\n",
       " «                                                                             »\n",
       " «q_0: ────────────────────────────────────────────────────────────────────────»\n",
       " «     ┌───┐┌─────┐┌───┐┌─────┐┌─────┐┌───┐┌─────┐┌─────┐┌───┐┌─────┐┌───┐┌───┐»\n",
       " «q_1: ┤ H ├┤ Tdg ├┤ H ├┤ Tdg ├┤ Tdg ├┤ H ├┤ Tdg ├┤ Tdg ├┤ H ├┤ Tdg ├┤ H ├┤ T ├»\n",
       " «     └───┘└─────┘└───┘└─────┘└─────┘└───┘└─────┘└─────┘└───┘└─────┘└───┘└───┘»\n",
       " «q_2: ────────────────────────────────────────────────────────────────────────»\n",
       " «                                                                             »\n",
       " «q_3: ────────────────────────────────────────────────────────────────────────»\n",
       " «                                                                             »\n",
       " «                                                                          »\n",
       " «q_0: ─────────────────────────────────────────────────────────────────────»\n",
       " «     ┌───┐┌───┐┌───┐┌───┐┌───┐┌───┐┌───┐┌───┐┌───┐┌───┐┌─────┐┌───┐┌─────┐»\n",
       " «q_1: ┤ H ├┤ T ├┤ T ├┤ H ├┤ T ├┤ H ├┤ T ├┤ H ├┤ T ├┤ H ├┤ Tdg ├┤ H ├┤ Tdg ├»\n",
       " «     └───┘└───┘└───┘└───┘└───┘└───┘└───┘└───┘└───┘└───┘└─────┘└───┘└─────┘»\n",
       " «q_2: ─────────────────────────────────────────────────────────────────────»\n",
       " «                                                                          »\n",
       " «q_3: ─────────────────────────────────────────────────────────────────────»\n",
       " «                                                                          »\n",
       " «                                                                           »\n",
       " «q_0: ──────────────────────────────────────────────────────────────────────»\n",
       " «     ┌─────┐┌───┐┌─────┐┌───┐┌─────┐┌───┐┌─────┐┌───┐┌─────┐┌───┐┌───┐┌───┐»\n",
       " «q_1: ┤ Tdg ├┤ H ├┤ Tdg ├┤ H ├┤ Tdg ├┤ H ├┤ Tdg ├┤ H ├┤ Tdg ├┤ H ├┤ T ├┤ H ├»\n",
       " «     └─────┘└───┘└─────┘└───┘└─────┘└───┘└─────┘└───┘└─────┘└───┘└───┘└───┘»\n",
       " «q_2: ──────────────────────────────────────────────────────────────────────»\n",
       " «                                                                           »\n",
       " «q_3: ──────────────────────────────────────────────────────────────────────»\n",
       " «                                                                           »\n",
       " «                                                                            »\n",
       " «q_0: ───────────────────────────────────────────────────────────────────────»\n",
       " «     ┌───┐┌───┐┌───┐┌───┐┌───┐┌───┐┌───┐┌───┐┌───┐┌─────┐┌───┐┌─────┐┌─────┐»\n",
       " «q_1: ┤ T ├┤ T ├┤ T ├┤ H ├┤ T ├┤ T ├┤ H ├┤ T ├┤ H ├┤ Tdg ├┤ H ├┤ Tdg ├┤ Tdg ├»\n",
       " «     └───┘└───┘└───┘└───┘└───┘└───┘└───┘└───┘└───┘└─────┘└───┘└─────┘└─────┘»\n",
       " «q_2: ───────────────────────────────────────────────────────────────────────»\n",
       " «                                                                            »\n",
       " «q_3: ───────────────────────────────────────────────────────────────────────»\n",
       " «                                                                            »\n",
       " «                                                                              »\n",
       " «q_0: ─────────────────────────────────────────────────────────────────────────»\n",
       " «     ┌───┐┌─────┐┌───┐┌─────┐┌───┐┌─────┐┌───┐┌─────┐┌───┐┌───┐┌───┐┌───┐┌───┐»\n",
       " «q_1: ┤ H ├┤ Tdg ├┤ H ├┤ Tdg ├┤ H ├┤ Tdg ├┤ H ├┤ Tdg ├┤ H ├┤ T ├┤ H ├┤ T ├┤ T ├»\n",
       " «     └───┘└─────┘└───┘└─────┘└───┘└─────┘└───┘└─────┘└───┘└───┘└───┘└───┘└───┘»\n",
       " «q_2: ─────────────────────────────────────────────────────────────────────────»\n",
       " «                                                                              »\n",
       " «q_3: ─────────────────────────────────────────────────────────────────────────»\n",
       " «                                                                              »\n",
       " «                                                                         »\n",
       " «q_0: ────────────────────────────────────────────────────────────────────»\n",
       " «     ┌───┐┌───┐┌───┐┌───┐┌───┐┌─────┐┌───┐┌─────┐┌─────┐┌───┐┌─────┐┌───┐»\n",
       " «q_1: ┤ H ├┤ T ├┤ H ├┤ T ├┤ H ├┤ Tdg ├┤ H ├┤ Tdg ├┤ Tdg ├┤ H ├┤ Tdg ├┤ H ├»\n",
       " «     └───┘└───┘└───┘└───┘└───┘└─────┘└───┘└─────┘└─────┘└───┘└─────┘└───┘»\n",
       " «q_2: ────────────────────────────────────────────────────────────────────»\n",
       " «                                                                         »\n",
       " «q_3: ────────────────────────────────────────────────────────────────────»\n",
       " «                                                                         »\n",
       " «                                                                            »\n",
       " «q_0: ───────────────────────────────────────────────────────────────────────»\n",
       " «     ┌─────┐┌───┐┌───┐┌───┐┌───┐┌───┐┌───┐┌───┐┌───┐┌───┐┌─────┐┌───┐┌─────┐»\n",
       " «q_1: ┤ Tdg ├┤ H ├┤ T ├┤ H ├┤ T ├┤ T ├┤ T ├┤ H ├┤ T ├┤ H ├┤ Tdg ├┤ H ├┤ Tdg ├»\n",
       " «     └─────┘└───┘└───┘└───┘└───┘└───┘└───┘└───┘└───┘└───┘└─────┘└───┘└─────┘»\n",
       " «q_2: ───────────────────────────────────────────────────────────────────────»\n",
       " «                                                                            »\n",
       " «q_3: ───────────────────────────────────────────────────────────────────────»\n",
       " «                                                                            »\n",
       " «                                                                            »\n",
       " «q_0: ───────────────────────────────────────────────────────────────────────»\n",
       " «     ┌───┐┌─────┐┌─────┐┌───┐┌─────┐┌───┐┌───┐┌───┐┌───┐┌───┐┌───┐┌───┐┌───┐»\n",
       " «q_1: ┤ H ├┤ Tdg ├┤ Tdg ├┤ H ├┤ Tdg ├┤ H ├┤ T ├┤ H ├┤ T ├┤ T ├┤ H ├┤ T ├┤ H ├»\n",
       " «     └───┘└─────┘└─────┘└───┘└─────┘└───┘└───┘└───┘└───┘└───┘└───┘└───┘└───┘»\n",
       " «q_2: ───────────────────────────────────────────────────────────────────────»\n",
       " «                                                                            »\n",
       " «q_3: ───────────────────────────────────────────────────────────────────────»\n",
       " «                                                                            »\n",
       " «                                                                        »\n",
       " «q_0: ───────────────────────────────────────────────────────────────────»\n",
       " «     ┌─────┐┌───┐┌─────┐┌─────┐┌───┐┌─────┐┌───┐┌─────┐┌───┐┌─────┐┌───┐»\n",
       " «q_1: ┤ Tdg ├┤ H ├┤ Tdg ├┤ Tdg ├┤ H ├┤ Tdg ├┤ H ├┤ Tdg ├┤ H ├┤ Tdg ├┤ H ├»\n",
       " «     └─────┘└───┘└─────┘└─────┘└───┘└─────┘└───┘└─────┘└───┘└─────┘└───┘»\n",
       " «q_2: ───────────────────────────────────────────────────────────────────»\n",
       " «                                                                        »\n",
       " «q_3: ───────────────────────────────────────────────────────────────────»\n",
       " «                                                                        »\n",
       " «                                                                           »\n",
       " «q_0: ──────────────────────────────────────────────────────────────────────»\n",
       " «     ┌─────┐┌───┐┌───┐┌───┐┌───┐┌───┐┌─────┐┌───┐┌─────┐┌─────┐┌───┐┌─────┐»\n",
       " «q_1: ┤ Tdg ├┤ H ├┤ T ├┤ H ├┤ T ├┤ H ├┤ Tdg ├┤ H ├┤ Tdg ├┤ Tdg ├┤ H ├┤ Tdg ├»\n",
       " «     └─────┘└───┘└───┘└───┘└───┘└───┘└─────┘└───┘└─────┘└─────┘└───┘└─────┘»\n",
       " «q_2: ──────────────────────────────────────────────────────────────────────»\n",
       " «                                                                           »\n",
       " «q_3: ──────────────────────────────────────────────────────────────────────»\n",
       " «                                                                           »\n",
       " «                                                                            »\n",
       " «q_0: ───────────────────────────────────────────────────────────────────────»\n",
       " «     ┌───┐┌─────┐┌───┐┌─────┐┌───┐┌─────┐┌───┐┌───┐┌───┐┌───┐┌───┐┌───┐┌───┐»\n",
       " «q_1: ┤ H ├┤ Tdg ├┤ H ├┤ Tdg ├┤ H ├┤ Tdg ├┤ H ├┤ T ├┤ H ├┤ T ├┤ H ├┤ T ├┤ H ├»\n",
       " «     └───┘└─────┘└───┘└─────┘└───┘└─────┘└───┘└───┘└───┘└───┘└───┘└───┘└───┘»\n",
       " «q_2: ───────────────────────────────────────────────────────────────────────»\n",
       " «                                                                            »\n",
       " «q_3: ───────────────────────────────────────────────────────────────────────»\n",
       " «                                                                            »\n",
       " «                                                                          »\n",
       " «q_0: ─────────────────────────────────────────────────────────────────────»\n",
       " «     ┌───┐┌───┐┌───┐┌───┐┌─────┐┌───┐┌─────┐┌───┐┌───┐┌───┐┌───┐┌───┐┌───┐»\n",
       " «q_1: ┤ T ├┤ H ├┤ T ├┤ H ├┤ Tdg ├┤ H ├┤ Tdg ├┤ H ├┤ T ├┤ H ├┤ T ├┤ T ├┤ H ├»\n",
       " «     └───┘└───┘└───┘└───┘└─────┘└───┘└─────┘└───┘└───┘└───┘└───┘└───┘└───┘»\n",
       " «q_2: ─────────────────────────────────────────────────────────────────────»\n",
       " «                                                                          »\n",
       " «q_3: ─────────────────────────────────────────────────────────────────────»\n",
       " «                                                                          »\n",
       " «                                                                           »\n",
       " «q_0: ──────────────────────────────────────────────────────────────────────»\n",
       " «     ┌───┐┌───┐┌───┐┌───┐┌─────┐┌───┐┌─────┐┌─────┐┌─────┐┌───┐┌─────┐┌───┐»\n",
       " «q_1: ┤ T ├┤ H ├┤ T ├┤ H ├┤ Tdg ├┤ H ├┤ Tdg ├┤ Tdg ├┤ Tdg ├┤ H ├┤ Tdg ├┤ H ├»\n",
       " «     └───┘└───┘└───┘└───┘└─────┘└───┘└─────┘└─────┘└─────┘└───┘└─────┘└───┘»\n",
       " «q_2: ──────────────────────────────────────────────────────────────────────»\n",
       " «                                                                           »\n",
       " «q_3: ──────────────────────────────────────────────────────────────────────»\n",
       " «                                                                           »\n",
       " «                                                                           »\n",
       " «q_0: ──────────────────────────────────────────────────────────────────────»\n",
       " «     ┌───┐┌───┐┌───┐┌───┐┌───┐┌───┐┌───┐┌───┐┌───┐┌───┐┌───┐┌───┐┌───┐┌───┐»\n",
       " «q_1: ┤ T ├┤ H ├┤ T ├┤ H ├┤ T ├┤ T ├┤ H ├┤ T ├┤ T ├┤ H ├┤ T ├┤ T ├┤ H ├┤ T ├»\n",
       " «     └───┘└───┘└───┘└───┘└───┘└───┘└───┘└───┘└───┘└───┘└───┘└───┘└───┘└───┘»\n",
       " «q_2: ──────────────────────────────────────────────────────────────────────»\n",
       " «                                                                           »\n",
       " «q_3: ──────────────────────────────────────────────────────────────────────»\n",
       " «                                                                           »\n",
       " «                                                                          »\n",
       " «q_0: ─────────────────────────────────────────────────────────────────────»\n",
       " «     ┌───┐┌─────┐┌───┐┌─────┐┌───┐┌───┐┌───┐┌───┐┌───┐┌───┐┌───┐┌───┐┌───┐»\n",
       " «q_1: ┤ H ├┤ Tdg ├┤ H ├┤ Tdg ├┤ H ├┤ T ├┤ H ├┤ T ├┤ H ├┤ T ├┤ H ├┤ T ├┤ H ├»\n",
       " «     └───┘└─────┘└───┘└─────┘└───┘└───┘└───┘└───┘└───┘└───┘└───┘└───┘└───┘»\n",
       " «q_2: ─────────────────────────────────────────────────────────────────────»\n",
       " «                                                                          »\n",
       " «q_3: ─────────────────────────────────────────────────────────────────────»\n",
       " «                                                                          »\n",
       " «                                                                              »\n",
       " «q_0: ─────────────────────────────────────────────────────────────────────────»\n",
       " «     ┌───┐┌───┐┌───┐┌───┐┌───┐┌─────┐┌───┐┌─────┐┌───┐┌─────┐┌───┐┌─────┐┌───┐»\n",
       " «q_1: ┤ T ├┤ T ├┤ H ├┤ T ├┤ H ├┤ Tdg ├┤ H ├┤ Tdg ├┤ H ├┤ Tdg ├┤ H ├┤ Tdg ├┤ H ├»\n",
       " «     └───┘└───┘└───┘└───┘└───┘└─────┘└───┘└─────┘└───┘└─────┘└───┘└─────┘└───┘»\n",
       " «q_2: ─────────────────────────────────────────────────────────────────────────»\n",
       " «                                                                              »\n",
       " «q_3: ─────────────────────────────────────────────────────────────────────────»\n",
       " «                                                                              »\n",
       " «                                                                        »\n",
       " «q_0: ───────────────────────────────────────────────────────────────────»\n",
       " «     ┌─────┐┌───┐┌─────┐┌───┐┌─────┐┌───┐┌─────┐┌───┐┌─────┐┌───┐┌─────┐»\n",
       " «q_1: ┤ Tdg ├┤ H ├┤ Tdg ├┤ H ├┤ Tdg ├┤ H ├┤ Tdg ├┤ H ├┤ Tdg ├┤ H ├┤ Tdg ├»\n",
       " «     └─────┘└───┘└─────┘└───┘└─────┘└───┘└─────┘└───┘└─────┘└───┘└─────┘»\n",
       " «q_2: ───────────────────────────────────────────────────────────────────»\n",
       " «                                                                        »\n",
       " «q_3: ───────────────────────────────────────────────────────────────────»\n",
       " «                                                                        »\n",
       " «                                                                          »\n",
       " «q_0: ─────────────────────────────────────────────────────────────────────»\n",
       " «     ┌─────┐┌───┐┌─────┐┌───┐┌───┐┌───┐┌───┐┌───┐┌───┐┌───┐┌───┐┌───┐┌───┐»\n",
       " «q_1: ┤ Tdg ├┤ H ├┤ Tdg ├┤ H ├┤ T ├┤ H ├┤ T ├┤ H ├┤ T ├┤ H ├┤ T ├┤ H ├┤ T ├»\n",
       " «     └─────┘└───┘└─────┘└───┘└───┘└───┘└───┘└───┘└───┘└───┘└───┘└───┘└───┘»\n",
       " «q_2: ─────────────────────────────────────────────────────────────────────»\n",
       " «                                                                          »\n",
       " «q_3: ─────────────────────────────────────────────────────────────────────»\n",
       " «                                                                          »\n",
       " «                                                                          »\n",
       " «q_0: ─────────────────────────────────────────────────────────────────────»\n",
       " «     ┌───┐┌───┐┌───┐┌───┐┌─────┐┌───┐┌─────┐┌───┐┌───┐┌───┐┌───┐┌───┐┌───┐»\n",
       " «q_1: ┤ T ├┤ H ├┤ T ├┤ H ├┤ Tdg ├┤ H ├┤ Tdg ├┤ H ├┤ T ├┤ H ├┤ T ├┤ H ├┤ T ├»\n",
       " «     └───┘└───┘└───┘└───┘└─────┘└───┘└─────┘└───┘└───┘└───┘└───┘└───┘└───┘»\n",
       " «q_2: ─────────────────────────────────────────────────────────────────────»\n",
       " «                                                                          »\n",
       " «q_3: ─────────────────────────────────────────────────────────────────────»\n",
       " «                                                                          »\n",
       " «                                                                            »\n",
       " «q_0: ───────────────────────────────────────────────────────────────────────»\n",
       " «     ┌───┐┌───┐┌───┐┌───┐┌───┐┌─────┐┌───┐┌───┐┌───┐┌─────┐┌───┐┌─────┐┌───┐»\n",
       " «q_1: ┤ H ├┤ T ├┤ H ├┤ T ├┤ H ├┤ Tdg ├┤ H ├┤ T ├┤ H ├┤ Tdg ├┤ H ├┤ Tdg ├┤ H ├»\n",
       " «     └───┘└───┘└───┘└───┘└───┘└─────┘└───┘└───┘└───┘└─────┘└───┘└─────┘└───┘»\n",
       " «q_2: ───────────────────────────────────────────────────────────────────────»\n",
       " «                                                                            »\n",
       " «q_3: ───────────────────────────────────────────────────────────────────────»\n",
       " «                                                                            »\n",
       " «                                                                              »\n",
       " «q_0: ─────────────────────────────────────────────────────────────────────────»\n",
       " «     ┌───┐┌───┐┌───┐┌───┐┌───┐┌───┐┌───┐┌─────┐┌───┐┌─────┐┌─────┐┌─────┐┌───┐»\n",
       " «q_1: ┤ T ├┤ T ├┤ H ├┤ T ├┤ H ├┤ T ├┤ H ├┤ Tdg ├┤ H ├┤ Tdg ├┤ Tdg ├┤ Tdg ├┤ H ├»\n",
       " «     └───┘└───┘└───┘└───┘└───┘└───┘└───┘└─────┘└───┘└─────┘└─────┘└─────┘└───┘»\n",
       " «q_2: ─────────────────────────────────────────────────────────────────────────»\n",
       " «                                                                              »\n",
       " «q_3: ─────────────────────────────────────────────────────────────────────────»\n",
       " «                                                                              »\n",
       " «                                                                          »\n",
       " «q_0: ─────────────────────────────────────────────────────────────────────»\n",
       " «     ┌───┐┌───┐┌───┐┌───┐┌─────┐┌───┐┌───┐┌───┐┌───┐┌───┐┌───┐┌─────┐┌───┐»\n",
       " «q_1: ┤ T ├┤ H ├┤ T ├┤ H ├┤ Tdg ├┤ H ├┤ T ├┤ T ├┤ H ├┤ T ├┤ H ├┤ Tdg ├┤ H ├»\n",
       " «     └───┘└───┘└───┘└───┘└─────┘└───┘└───┘└───┘└───┘└───┘└───┘└─────┘└───┘»\n",
       " «q_2: ─────────────────────────────────────────────────────────────────────»\n",
       " «                                                                          »\n",
       " «q_3: ─────────────────────────────────────────────────────────────────────»\n",
       " «                                                                          »\n",
       " «                                                                           »\n",
       " «q_0: ──────────────────────────────────────────────────────────────────────»\n",
       " «     ┌─────┐┌─────┐┌───┐┌─────┐┌───┐┌───┐┌───┐┌───┐┌─────┐┌───┐┌─────┐┌───┐»\n",
       " «q_1: ┤ Tdg ├┤ Tdg ├┤ H ├┤ Tdg ├┤ H ├┤ T ├┤ T ├┤ H ├┤ Tdg ├┤ H ├┤ Tdg ├┤ H ├»\n",
       " «     └─────┘└─────┘└───┘└─────┘└───┘└───┘└───┘└───┘└─────┘└───┘└─────┘└───┘»\n",
       " «q_2: ──────────────────────────────────────────────────────────────────────»\n",
       " «                                                                           »\n",
       " «q_3: ──────────────────────────────────────────────────────────────────────»\n",
       " «                                                                           »\n",
       " «                                                                            »\n",
       " «q_0: ───────────────────────────────────────────────────────────────────────»\n",
       " «     ┌───┐┌───┐┌───┐┌───┐┌─────┐┌───┐┌─────┐┌───┐┌─────┐┌───┐┌───┐┌───┐┌───┐»\n",
       " «q_1: ┤ T ├┤ H ├┤ T ├┤ H ├┤ Tdg ├┤ H ├┤ Tdg ├┤ H ├┤ Tdg ├┤ H ├┤ T ├┤ H ├┤ T ├»\n",
       " «     └───┘└───┘└───┘└───┘└─────┘└───┘└─────┘└───┘└─────┘└───┘└───┘└───┘└───┘»\n",
       " «q_2: ───────────────────────────────────────────────────────────────────────»\n",
       " «                                                                            »\n",
       " «q_3: ───────────────────────────────────────────────────────────────────────»\n",
       " «                                                                            »\n",
       " «                                                                            »\n",
       " «q_0: ───────────────────────────────────────────────────────────────────────»\n",
       " «     ┌───┐┌───┐┌─────┐┌───┐┌───┐┌───┐┌───┐┌───┐┌───┐┌───┐┌─────┐┌───┐┌─────┐»\n",
       " «q_1: ┤ T ├┤ H ├┤ Tdg ├┤ H ├┤ T ├┤ H ├┤ T ├┤ H ├┤ T ├┤ H ├┤ Tdg ├┤ H ├┤ Tdg ├»\n",
       " «     └───┘└───┘└─────┘└───┘└───┘└───┘└───┘└───┘└───┘└───┘└─────┘└───┘└─────┘»\n",
       " «q_2: ───────────────────────────────────────────────────────────────────────»\n",
       " «                                                                            »\n",
       " «q_3: ───────────────────────────────────────────────────────────────────────»\n",
       " «                                                                            »\n",
       " «                                                                            »\n",
       " «q_0: ───────────────────────────────────────────────────────────────────────»\n",
       " «     ┌─────┐┌───┐┌─────┐┌───┐┌───┐┌───┐┌───┐┌───┐┌───┐┌───┐┌───┐┌─────┐┌───┐»\n",
       " «q_1: ┤ Tdg ├┤ H ├┤ Tdg ├┤ H ├┤ T ├┤ H ├┤ T ├┤ T ├┤ H ├┤ T ├┤ H ├┤ Tdg ├┤ H ├»\n",
       " «     └─────┘└───┘└─────┘└───┘└───┘└───┘└───┘└───┘└───┘└───┘└───┘└─────┘└───┘»\n",
       " «q_2: ───────────────────────────────────────────────────────────────────────»\n",
       " «                                                                            »\n",
       " «q_3: ───────────────────────────────────────────────────────────────────────»\n",
       " «                                                                            »\n",
       " «                                                                              »\n",
       " «q_0: ─────────────────────────────────────────────────────────────────────────»\n",
       " «     ┌─────┐┌─────┐┌───┐┌───┐┌───┐┌─────┐┌───┐┌─────┐┌───┐┌───┐┌───┐┌───┐┌───┐»\n",
       " «q_1: ┤ Tdg ├┤ Tdg ├┤ H ├┤ T ├┤ H ├┤ Tdg ├┤ H ├┤ Tdg ├┤ H ├┤ T ├┤ T ├┤ T ├┤ H ├»\n",
       " «     └─────┘└─────┘└───┘└───┘└───┘└─────┘└───┘└─────┘└───┘└───┘└───┘└───┘└───┘»\n",
       " «q_2: ─────────────────────────────────────────────────────────────────────────»\n",
       " «                                                                              »\n",
       " «q_3: ─────────────────────────────────────────────────────────────────────────»\n",
       " «                                                                              »\n",
       " «                                                                              »\n",
       " «q_0: ─────────────────────────────────────────────────────────────────────────»\n",
       " «     ┌───┐┌───┐┌─────┐┌───┐┌─────┐┌───┐┌─────┐┌─────┐┌───┐┌───┐┌───┐┌───┐┌───┐»\n",
       " «q_1: ┤ T ├┤ H ├┤ Tdg ├┤ H ├┤ Tdg ├┤ H ├┤ Tdg ├┤ Tdg ├┤ H ├┤ T ├┤ H ├┤ T ├┤ H ├»\n",
       " «     └───┘└───┘└─────┘└───┘└─────┘└───┘└─────┘└─────┘└───┘└───┘└───┘└───┘└───┘»\n",
       " «q_2: ─────────────────────────────────────────────────────────────────────────»\n",
       " «                                                                              »\n",
       " «q_3: ─────────────────────────────────────────────────────────────────────────»\n",
       " «                                                                              »\n",
       " «                                                                              »\n",
       " «q_0: ─────────────────────────────────────────────────────────────────────────»\n",
       " «     ┌─────┐┌───┐┌───┐┌───┐┌───┐┌───┐┌───┐┌─────┐┌───┐┌─────┐┌───┐┌─────┐┌───┐»\n",
       " «q_1: ┤ Tdg ├┤ H ├┤ T ├┤ T ├┤ H ├┤ T ├┤ H ├┤ Tdg ├┤ H ├┤ Tdg ├┤ H ├┤ Tdg ├┤ H ├»\n",
       " «     └─────┘└───┘└───┘└───┘└───┘└───┘└───┘└─────┘└───┘└─────┘└───┘└─────┘└───┘»\n",
       " «q_2: ─────────────────────────────────────────────────────────────────────────»\n",
       " «                                                                              »\n",
       " «q_3: ─────────────────────────────────────────────────────────────────────────»\n",
       " «                                                                              »\n",
       " «                                                                            »\n",
       " «q_0: ───────────────────────────────────────────────────────────────────────»\n",
       " «     ┌───┐┌───┐┌─────┐┌─────┐┌───┐┌─────┐┌───┐┌───┐┌───┐┌───┐┌───┐┌───┐┌───┐»\n",
       " «q_1: ┤ T ├┤ H ├┤ Tdg ├┤ Tdg ├┤ H ├┤ Tdg ├┤ H ├┤ T ├┤ H ├┤ T ├┤ H ├┤ T ├┤ H ├»\n",
       " «     └───┘└───┘└─────┘└─────┘└───┘└─────┘└───┘└───┘└───┘└───┘└───┘└───┘└───┘»\n",
       " «q_2: ───────────────────────────────────────────────────────────────────────»\n",
       " «                                                                            »\n",
       " «q_3: ───────────────────────────────────────────────────────────────────────»\n",
       " «                                                                            »\n",
       " «                                                                         »\n",
       " «q_0: ────────────────────────────────────────────────────────────────────»\n",
       " «     ┌─────┐┌───┐┌───┐┌───┐┌───┐┌───┐┌───┐┌───┐┌─────┐┌───┐┌─────┐┌─────┐»\n",
       " «q_1: ┤ Tdg ├┤ H ├┤ T ├┤ H ├┤ T ├┤ H ├┤ T ├┤ H ├┤ Tdg ├┤ H ├┤ Tdg ├┤ Tdg ├»\n",
       " «     └─────┘└───┘└───┘└───┘└───┘└───┘└───┘└───┘└─────┘└───┘└─────┘└─────┘»\n",
       " «q_2: ────────────────────────────────────────────────────────────────────»\n",
       " «                                                                         »\n",
       " «q_3: ────────────────────────────────────────────────────────────────────»\n",
       " «                                                                         »\n",
       " «                                                                          »\n",
       " «q_0: ─────────────────────────────────────────────────────────────────────»\n",
       " «     ┌─────┐┌───┐┌───┐┌───┐┌───┐┌───┐┌─────┐┌───┐┌───┐┌───┐┌───┐┌───┐┌───┐»\n",
       " «q_1: ┤ Tdg ├┤ H ├┤ T ├┤ H ├┤ T ├┤ H ├┤ Tdg ├┤ H ├┤ T ├┤ T ├┤ H ├┤ T ├┤ H ├»\n",
       " «     └─────┘└───┘└───┘└───┘└───┘└───┘└─────┘└───┘└───┘└───┘└───┘└───┘└───┘»\n",
       " «q_2: ─────────────────────────────────────────────────────────────────────»\n",
       " «                                                                          »\n",
       " «q_3: ─────────────────────────────────────────────────────────────────────»\n",
       " «                                                                          »\n",
       " «                                                                        »\n",
       " «q_0: ───────────────────────────────────────────────────────────────────»\n",
       " «     ┌─────┐┌───┐┌─────┐┌─────┐┌───┐┌─────┐┌───┐┌─────┐┌───┐┌─────┐┌───┐»\n",
       " «q_1: ┤ Tdg ├┤ H ├┤ Tdg ├┤ Tdg ├┤ H ├┤ Tdg ├┤ H ├┤ Tdg ├┤ H ├┤ Tdg ├┤ H ├»\n",
       " «     └─────┘└───┘└─────┘└─────┘└───┘└─────┘└───┘└─────┘└───┘└─────┘└───┘»\n",
       " «q_2: ───────────────────────────────────────────────────────────────────»\n",
       " «                                                                        »\n",
       " «q_3: ───────────────────────────────────────────────────────────────────»\n",
       " «                                                                        »\n",
       " «                                                                           »\n",
       " «q_0: ──────────────────────────────────────────────────────────────────────»\n",
       " «     ┌─────┐┌───┐┌───┐┌───┐┌───┐┌───┐┌─────┐┌───┐┌─────┐┌─────┐┌───┐┌─────┐»\n",
       " «q_1: ┤ Tdg ├┤ H ├┤ T ├┤ H ├┤ T ├┤ H ├┤ Tdg ├┤ H ├┤ Tdg ├┤ Tdg ├┤ H ├┤ Tdg ├»\n",
       " «     └─────┘└───┘└───┘└───┘└───┘└───┘└─────┘└───┘└─────┘└─────┘└───┘└─────┘»\n",
       " «q_2: ──────────────────────────────────────────────────────────────────────»\n",
       " «                                                                           »\n",
       " «q_3: ──────────────────────────────────────────────────────────────────────»\n",
       " «                                                                           »\n",
       " «                                                                            »\n",
       " «q_0: ───────────────────────────────────────────────────────────────────────»\n",
       " «     ┌───┐┌─────┐┌───┐┌─────┐┌───┐┌─────┐┌───┐┌───┐┌───┐┌───┐┌───┐┌───┐┌───┐»\n",
       " «q_1: ┤ H ├┤ Tdg ├┤ H ├┤ Tdg ├┤ H ├┤ Tdg ├┤ H ├┤ T ├┤ H ├┤ T ├┤ T ├┤ H ├┤ T ├»\n",
       " «     └───┘└─────┘└───┘└─────┘└───┘└─────┘└───┘└───┘└───┘└───┘└───┘└───┘└───┘»\n",
       " «q_2: ───────────────────────────────────────────────────────────────────────»\n",
       " «                                                                            »\n",
       " «q_3: ───────────────────────────────────────────────────────────────────────»\n",
       " «                                                                            »\n",
       " «                                                                           »\n",
       " «q_0: ──────────────────────────────────────────────────────────────────────»\n",
       " «     ┌───┐┌───┐┌───┐┌───┐┌───┐┌───┐┌───┐┌───┐┌───┐┌───┐┌───┐┌───┐┌───┐┌───┐»\n",
       " «q_1: ┤ H ├┤ T ├┤ H ├┤ T ├┤ H ├┤ T ├┤ H ├┤ T ├┤ H ├┤ T ├┤ H ├┤ T ├┤ H ├┤ T ├»\n",
       " «     └───┘└───┘└───┘└───┘└───┘└───┘└───┘└───┘└───┘└───┘└───┘└───┘└───┘└───┘»\n",
       " «q_2: ──────────────────────────────────────────────────────────────────────»\n",
       " «                                                                           »\n",
       " «q_3: ──────────────────────────────────────────────────────────────────────»\n",
       " «                                                                           »\n",
       " «                                                                           »\n",
       " «q_0: ──────────────────────────────────────────────────────────────────────»\n",
       " «     ┌───┐┌───┐┌───┐┌─────┐┌───┐┌─────┐┌─────┐┌───┐┌─────┐┌───┐┌─────┐┌───┐»\n",
       " «q_1: ┤ H ├┤ T ├┤ H ├┤ Tdg ├┤ H ├┤ Tdg ├┤ Tdg ├┤ H ├┤ Tdg ├┤ H ├┤ Tdg ├┤ H ├»\n",
       " «     └───┘└───┘└───┘└─────┘└───┘└─────┘└─────┘└───┘└─────┘└───┘└─────┘└───┘»\n",
       " «q_2: ──────────────────────────────────────────────────────────────────────»\n",
       " «                                                                           »\n",
       " «q_3: ──────────────────────────────────────────────────────────────────────»\n",
       " «                                                                           »\n",
       " «                                                                           »\n",
       " «q_0: ──────────────────────────────────────────────────────────────────────»\n",
       " «     ┌─────┐┌───┐┌─────┐┌───┐┌───┐┌───┐┌───┐┌───┐┌─────┐┌───┐┌─────┐┌─────┐»\n",
       " «q_1: ┤ Tdg ├┤ H ├┤ Tdg ├┤ H ├┤ T ├┤ H ├┤ T ├┤ H ├┤ Tdg ├┤ H ├┤ Tdg ├┤ Tdg ├»\n",
       " «     └─────┘└───┘└─────┘└───┘└───┘└───┘└───┘└───┘└─────┘└───┘└─────┘└─────┘»\n",
       " «q_2: ──────────────────────────────────────────────────────────────────────»\n",
       " «                                                                           »\n",
       " «q_3: ──────────────────────────────────────────────────────────────────────»\n",
       " «                                                                           »\n",
       " «                                                                             »\n",
       " «q_0: ────────────────────────────────────────────────────────────────────────»\n",
       " «     ┌───┐┌─────┐┌─────┐┌───┐┌─────┐┌─────┐┌───┐┌─────┐┌───┐┌─────┐┌───┐┌───┐»\n",
       " «q_1: ┤ H ├┤ Tdg ├┤ Tdg ├┤ H ├┤ Tdg ├┤ Tdg ├┤ H ├┤ Tdg ├┤ H ├┤ Tdg ├┤ H ├┤ T ├»\n",
       " «     └───┘└─────┘└─────┘└───┘└─────┘└─────┘└───┘└─────┘└───┘└─────┘└───┘└───┘»\n",
       " «q_2: ────────────────────────────────────────────────────────────────────────»\n",
       " «                                                                             »\n",
       " «q_3: ────────────────────────────────────────────────────────────────────────»\n",
       " «                                                                             »\n",
       " «                                                                              »\n",
       " «q_0: ─────────────────────────────────────────────────────────────────────────»\n",
       " «     ┌───┐┌───┐┌───┐┌───┐┌───┐┌───┐┌───┐┌─────┐┌───┐┌─────┐┌───┐┌─────┐┌─────┐»\n",
       " «q_1: ┤ H ├┤ T ├┤ T ├┤ T ├┤ H ├┤ T ├┤ H ├┤ Tdg ├┤ H ├┤ Tdg ├┤ H ├┤ Tdg ├┤ Tdg ├»\n",
       " «     └───┘└───┘└───┘└───┘└───┘└───┘└───┘└─────┘└───┘└─────┘└───┘└─────┘└─────┘»\n",
       " «q_2: ─────────────────────────────────────────────────────────────────────────»\n",
       " «                                                                              »\n",
       " «q_3: ─────────────────────────────────────────────────────────────────────────»\n",
       " «                                                                              »\n",
       " «                                                                              »\n",
       " «q_0: ─────────────────────────────────────────────────────────────────────────»\n",
       " «     ┌───┐┌─────┐┌───┐┌───┐┌───┐┌───┐┌───┐┌─────┐┌───┐┌─────┐┌───┐┌─────┐┌───┐»\n",
       " «q_1: ┤ H ├┤ Tdg ├┤ H ├┤ T ├┤ H ├┤ T ├┤ H ├┤ Tdg ├┤ H ├┤ Tdg ├┤ H ├┤ Tdg ├┤ H ├»\n",
       " «     └───┘└─────┘└───┘└───┘└───┘└───┘└───┘└─────┘└───┘└─────┘└───┘└─────┘└───┘»\n",
       " «q_2: ─────────────────────────────────────────────────────────────────────────»\n",
       " «                                                                              »\n",
       " «q_3: ─────────────────────────────────────────────────────────────────────────»\n",
       " «                                                                              »\n",
       " «                                                                          »\n",
       " «q_0: ─────────────────────────────────────────────────────────────────────»\n",
       " «     ┌─────┐┌───┐┌─────┐┌───┐┌───┐┌───┐┌───┐┌───┐┌───┐┌───┐┌───┐┌───┐┌───┐»\n",
       " «q_1: ┤ Tdg ├┤ H ├┤ Tdg ├┤ H ├┤ T ├┤ H ├┤ T ├┤ H ├┤ T ├┤ H ├┤ T ├┤ H ├┤ T ├»\n",
       " «     └─────┘└───┘└─────┘└───┘└───┘└───┘└───┘└───┘└───┘└───┘└───┘└───┘└───┘»\n",
       " «q_2: ─────────────────────────────────────────────────────────────────────»\n",
       " «                                                                          »\n",
       " «q_3: ─────────────────────────────────────────────────────────────────────»\n",
       " «                                                                          »\n",
       " «                                                                          »\n",
       " «q_0: ─────────────────────────────────────────────────────────────────────»\n",
       " «     ┌───┐┌───┐┌───┐┌───┐┌─────┐┌───┐┌─────┐┌───┐┌───┐┌───┐┌───┐┌───┐┌───┐»\n",
       " «q_1: ┤ T ├┤ H ├┤ T ├┤ H ├┤ Tdg ├┤ H ├┤ Tdg ├┤ H ├┤ T ├┤ H ├┤ T ├┤ H ├┤ T ├»\n",
       " «     └───┘└───┘└───┘└───┘└─────┘└───┘└─────┘└───┘└───┘└───┘└───┘└───┘└───┘»\n",
       " «q_2: ─────────────────────────────────────────────────────────────────────»\n",
       " «                                                                          »\n",
       " «q_3: ─────────────────────────────────────────────────────────────────────»\n",
       " «                                                                          »\n",
       " «                                                                            »\n",
       " «q_0: ───────────────────────────────────────────────────────────────────────»\n",
       " «     ┌───┐┌───┐┌───┐┌───┐┌───┐┌───┐┌───┐┌───┐┌─────┐┌───┐┌─────┐┌─────┐┌───┐»\n",
       " «q_1: ┤ H ├┤ T ├┤ H ├┤ T ├┤ T ├┤ H ├┤ T ├┤ H ├┤ Tdg ├┤ H ├┤ Tdg ├┤ Tdg ├┤ H ├»\n",
       " «     └───┘└───┘└───┘└───┘└───┘└───┘└───┘└───┘└─────┘└───┘└─────┘└─────┘└───┘»\n",
       " «q_2: ───────────────────────────────────────────────────────────────────────»\n",
       " «                                                                            »\n",
       " «q_3: ───────────────────────────────────────────────────────────────────────»\n",
       " «                                                                            »\n",
       " «                                                                          »\n",
       " «q_0: ─────────────────────────────────────────────────────────────────────»\n",
       " «     ┌─────┐┌───┐┌───┐┌───┐┌───┐┌───┐┌───┐┌───┐┌───┐┌───┐┌───┐┌─────┐┌───┐»\n",
       " «q_1: ┤ Tdg ├┤ H ├┤ T ├┤ H ├┤ T ├┤ T ├┤ H ├┤ T ├┤ H ├┤ T ├┤ H ├┤ Tdg ├┤ H ├»\n",
       " «     └─────┘└───┘└───┘└───┘└───┘└───┘└───┘└───┘└───┘└───┘└───┘└─────┘└───┘»\n",
       " «q_2: ─────────────────────────────────────────────────────────────────────»\n",
       " «                                                                          »\n",
       " «q_3: ─────────────────────────────────────────────────────────────────────»\n",
       " «                                                                          »\n",
       " «                                                                              »\n",
       " «q_0: ─────────────────────────────────────────────────────────────────────────»\n",
       " «     ┌─────┐┌─────┐┌─────┐┌───┐┌─────┐┌───┐┌───┐┌───┐┌───┐┌───┐┌───┐┌───┐┌───┐»\n",
       " «q_1: ┤ Tdg ├┤ Tdg ├┤ Tdg ├┤ H ├┤ Tdg ├┤ H ├┤ T ├┤ H ├┤ T ├┤ H ├┤ T ├┤ T ├┤ H ├»\n",
       " «     └─────┘└─────┘└─────┘└───┘└─────┘└───┘└───┘└───┘└───┘└───┘└───┘└───┘└───┘»\n",
       " «q_2: ─────────────────────────────────────────────────────────────────────────»\n",
       " «                                                                              »\n",
       " «q_3: ─────────────────────────────────────────────────────────────────────────»\n",
       " «                                                                              »\n",
       " «                                                                              »\n",
       " «q_0: ─────────────────────────────────────────────────────────────────────────»\n",
       " «     ┌───┐┌───┐┌─────┐┌───┐┌─────┐┌───┐┌─────┐┌───┐┌───┐┌───┐┌───┐┌───┐┌─────┐»\n",
       " «q_1: ┤ T ├┤ H ├┤ Tdg ├┤ H ├┤ Tdg ├┤ H ├┤ Tdg ├┤ H ├┤ T ├┤ H ├┤ T ├┤ H ├┤ Tdg ├»\n",
       " «     └───┘└───┘└─────┘└───┘└─────┘└───┘└─────┘└───┘└───┘└───┘└───┘└───┘└─────┘»\n",
       " «q_2: ─────────────────────────────────────────────────────────────────────────»\n",
       " «                                                                              »\n",
       " «q_3: ─────────────────────────────────────────────────────────────────────────»\n",
       " «                                                                              »\n",
       " «                                                                              »\n",
       " «q_0: ─────────────────────────────────────────────────────────────────────────»\n",
       " «     ┌───┐┌─────┐┌─────┐┌───┐┌───┐┌───┐┌─────┐┌───┐┌─────┐┌───┐┌───┐┌───┐┌───┐»\n",
       " «q_1: ┤ H ├┤ Tdg ├┤ Tdg ├┤ H ├┤ T ├┤ H ├┤ Tdg ├┤ H ├┤ Tdg ├┤ H ├┤ T ├┤ T ├┤ T ├»\n",
       " «     └───┘└─────┘└─────┘└───┘└───┘└───┘└─────┘└───┘└─────┘└───┘└───┘└───┘└───┘»\n",
       " «q_2: ─────────────────────────────────────────────────────────────────────────»\n",
       " «                                                                              »\n",
       " «q_3: ─────────────────────────────────────────────────────────────────────────»\n",
       " «                                                                              »\n",
       " «                                                                              »\n",
       " «q_0: ─────────────────────────────────────────────────────────────────────────»\n",
       " «     ┌───┐┌───┐┌───┐┌─────┐┌───┐┌─────┐┌───┐┌─────┐┌───┐┌───┐┌───┐┌─────┐┌───┐»\n",
       " «q_1: ┤ H ├┤ T ├┤ H ├┤ Tdg ├┤ H ├┤ Tdg ├┤ H ├┤ Tdg ├┤ H ├┤ T ├┤ H ├┤ Tdg ├┤ H ├»\n",
       " «     └───┘└───┘└───┘└─────┘└───┘└─────┘└───┘└─────┘└───┘└───┘└───┘└─────┘└───┘»\n",
       " «q_2: ─────────────────────────────────────────────────────────────────────────»\n",
       " «                                                                              »\n",
       " «q_3: ─────────────────────────────────────────────────────────────────────────»\n",
       " «                                                                              »\n",
       " «                                                                            »\n",
       " «q_0: ───────────────────────────────────────────────────────────────────────»\n",
       " «     ┌─────┐┌───┐┌─────┐┌───┐┌───┐┌───┐┌───┐┌───┐┌───┐┌─────┐┌───┐┌───┐┌───┐»\n",
       " «q_1: ┤ Tdg ├┤ H ├┤ Tdg ├┤ H ├┤ T ├┤ H ├┤ T ├┤ T ├┤ H ├┤ Tdg ├┤ H ├┤ T ├┤ H ├»\n",
       " «     └─────┘└───┘└─────┘└───┘└───┘└───┘└───┘└───┘└───┘└─────┘└───┘└───┘└───┘»\n",
       " «q_2: ───────────────────────────────────────────────────────────────────────»\n",
       " «                                                                            »\n",
       " «q_3: ───────────────────────────────────────────────────────────────────────»\n",
       " «                                                                            »\n",
       " «                                                                              »\n",
       " «q_0: ─────────────────────────────────────────────────────────────────────────»\n",
       " «     ┌───┐┌───┐┌───┐┌───┐┌─────┐┌───┐┌─────┐┌─────┐┌───┐┌───┐┌───┐┌─────┐┌───┐»\n",
       " «q_1: ┤ T ├┤ H ├┤ T ├┤ H ├┤ Tdg ├┤ H ├┤ Tdg ├┤ Tdg ├┤ H ├┤ T ├┤ H ├┤ Tdg ├┤ H ├»\n",
       " «     └───┘└───┘└───┘└───┘└─────┘└───┘└─────┘└─────┘└───┘└───┘└───┘└─────┘└───┘»\n",
       " «q_2: ─────────────────────────────────────────────────────────────────────────»\n",
       " «                                                                              »\n",
       " «q_3: ─────────────────────────────────────────────────────────────────────────»\n",
       " «                                                                              »\n",
       " «                                                                              »\n",
       " «q_0: ─────────────────────────────────────────────────────────────────────────»\n",
       " «     ┌─────┐┌───┐┌───┐┌───┐┌───┐┌───┐┌───┐┌───┐┌───┐┌─────┐┌───┐┌─────┐┌─────┐»\n",
       " «q_1: ┤ Tdg ├┤ H ├┤ T ├┤ T ├┤ H ├┤ T ├┤ H ├┤ T ├┤ H ├┤ Tdg ├┤ H ├┤ Tdg ├┤ Tdg ├»\n",
       " «     └─────┘└───┘└───┘└───┘└───┘└───┘└───┘└───┘└───┘└─────┘└───┘└─────┘└─────┘»\n",
       " «q_2: ─────────────────────────────────────────────────────────────────────────»\n",
       " «                                                                              »\n",
       " «q_3: ─────────────────────────────────────────────────────────────────────────»\n",
       " «                                                                              »\n",
       " «                                                                          »\n",
       " «q_0: ─────────────────────────────────────────────────────────────────────»\n",
       " «     ┌─────┐┌───┐┌───┐┌───┐┌───┐┌───┐┌─────┐┌───┐┌───┐┌───┐┌───┐┌───┐┌───┐»\n",
       " «q_1: ┤ Tdg ├┤ H ├┤ T ├┤ H ├┤ T ├┤ H ├┤ Tdg ├┤ H ├┤ T ├┤ T ├┤ H ├┤ T ├┤ H ├»\n",
       " «     └─────┘└───┘└───┘└───┘└───┘└───┘└─────┘└───┘└───┘└───┘└───┘└───┘└───┘»\n",
       " «q_2: ─────────────────────────────────────────────────────────────────────»\n",
       " «                                                                          »\n",
       " «q_3: ─────────────────────────────────────────────────────────────────────»\n",
       " «                                                                          »\n",
       " «                                                                              »\n",
       " «q_0: ─────────────────────────────────────────────────────────────────────────»\n",
       " «     ┌─────┐┌───┐┌─────┐┌─────┐┌───┐┌─────┐┌───┐┌───┐┌───┐┌───┐┌───┐┌───┐┌───┐»\n",
       " «q_1: ┤ Tdg ├┤ H ├┤ Tdg ├┤ Tdg ├┤ H ├┤ Tdg ├┤ H ├┤ T ├┤ H ├┤ T ├┤ T ├┤ H ├┤ T ├»\n",
       " «     └─────┘└───┘└─────┘└─────┘└───┘└─────┘└───┘└───┘└───┘└───┘└───┘└───┘└───┘»\n",
       " «q_2: ─────────────────────────────────────────────────────────────────────────»\n",
       " «                                                                              »\n",
       " «q_3: ─────────────────────────────────────────────────────────────────────────»\n",
       " «                                                                              »\n",
       " «                                                                           »\n",
       " «q_0: ──────────────────────────────────────────────────────────────────────»\n",
       " «     ┌───┐┌─────┐┌───┐┌─────┐┌───┐┌─────┐┌───┐┌───┐┌───┐┌─────┐┌─────┐┌───┐»\n",
       " «q_1: ┤ H ├┤ Tdg ├┤ H ├┤ Tdg ├┤ H ├┤ Tdg ├┤ H ├┤ T ├┤ H ├┤ Tdg ├┤ Tdg ├┤ H ├»\n",
       " «     └───┘└─────┘└───┘└─────┘└───┘└─────┘└───┘└───┘└───┘└─────┘└─────┘└───┘»\n",
       " «q_2: ──────────────────────────────────────────────────────────────────────»\n",
       " «                                                                           »\n",
       " «q_3: ──────────────────────────────────────────────────────────────────────»\n",
       " «                                                                           »\n",
       " «                                                                            »\n",
       " «q_0: ───────────────────────────────────────────────────────────────────────»\n",
       " «     ┌─────┐┌───┐┌───┐┌───┐┌───┐┌───┐┌───┐┌───┐┌─────┐┌───┐┌─────┐┌───┐┌───┐»\n",
       " «q_1: ┤ Tdg ├┤ H ├┤ T ├┤ H ├┤ T ├┤ H ├┤ T ├┤ H ├┤ Tdg ├┤ H ├┤ Tdg ├┤ H ├┤ T ├»\n",
       " «     └─────┘└───┘└───┘└───┘└───┘└───┘└───┘└───┘└─────┘└───┘└─────┘└───┘└───┘»\n",
       " «q_2: ───────────────────────────────────────────────────────────────────────»\n",
       " «                                                                            »\n",
       " «q_3: ───────────────────────────────────────────────────────────────────────»\n",
       " «                                                                            »\n",
       " «                                                                          »\n",
       " «q_0: ─────────────────────────────────────────────────────────────────────»\n",
       " «     ┌───┐┌───┐┌───┐┌─────┐┌─────┐┌───┐┌───┐┌───┐┌───┐┌───┐┌───┐┌───┐┌───┐»\n",
       " «q_1: ┤ H ├┤ T ├┤ H ├┤ Tdg ├┤ Tdg ├┤ H ├┤ T ├┤ H ├┤ T ├┤ T ├┤ H ├┤ T ├┤ H ├»\n",
       " «     └───┘└───┘└───┘└─────┘└─────┘└───┘└───┘└───┘└───┘└───┘└───┘└───┘└───┘»\n",
       " «q_2: ─────────────────────────────────────────────────────────────────────»\n",
       " «                                                                          »\n",
       " «q_3: ─────────────────────────────────────────────────────────────────────»\n",
       " «                                                                          »\n",
       " «                                                                           »\n",
       " «q_0: ──────────────────────────────────────────────────────────────────────»\n",
       " «     ┌─────┐┌───┐┌─────┐┌─────┐┌───┐┌───┐┌───┐┌─────┐┌───┐┌─────┐┌───┐┌───┐»\n",
       " «q_1: ┤ Tdg ├┤ H ├┤ Tdg ├┤ Tdg ├┤ H ├┤ T ├┤ H ├┤ Tdg ├┤ H ├┤ Tdg ├┤ H ├┤ T ├»\n",
       " «     └─────┘└───┘└─────┘└─────┘└───┘└───┘└───┘└─────┘└───┘└─────┘└───┘└───┘»\n",
       " «q_2: ──────────────────────────────────────────────────────────────────────»\n",
       " «                                                                           »\n",
       " «q_3: ──────────────────────────────────────────────────────────────────────»\n",
       " «                                                                           »\n",
       " «                                                                              »\n",
       " «q_0: ─────────────────────────────────────────────────────────────────────────»\n",
       " «     ┌───┐┌───┐┌───┐┌───┐┌───┐┌─────┐┌───┐┌─────┐┌───┐┌─────┐┌─────┐┌───┐┌───┐»\n",
       " «q_1: ┤ T ├┤ T ├┤ H ├┤ T ├┤ H ├┤ Tdg ├┤ H ├┤ Tdg ├┤ H ├┤ Tdg ├┤ Tdg ├┤ H ├┤ T ├»\n",
       " «     └───┘└───┘└───┘└───┘└───┘└─────┘└───┘└─────┘└───┘└─────┘└─────┘└───┘└───┘»\n",
       " «q_2: ─────────────────────────────────────────────────────────────────────────»\n",
       " «                                                                              »\n",
       " «q_3: ─────────────────────────────────────────────────────────────────────────»\n",
       " «                                                                              »\n",
       " «                                     \n",
       " «q_0: ────────────────────────────────\n",
       " «     ┌───┐┌───┐┌───┐┌─────┐┌───┐┌───┐\n",
       " «q_1: ┤ H ├┤ T ├┤ H ├┤ Tdg ├┤ H ├┤ T ├\n",
       " «     └───┘└───┘└───┘└─────┘└───┘└───┘\n",
       " «q_2: ────────────────────────────────\n",
       " «                                     \n",
       " «q_3: ────────────────────────────────\n",
       " «                                     )"
      ]
     },
     "execution_count": 51,
     "metadata": {},
     "output_type": "execute_result"
    }
   ],
   "source": [
    "with QiskitTester(4) as QT:\n",
    "    QT.circuit.append(qk.circuit.library.IQP([[6, 5, 3], [5, 4, 5], [3, 5, 1]]), \n",
    "                      (QT.q(0),QT.q(1),QT.q(2)))\n",
    "QT.circuit.draw(), QT.transpile().draw()"
   ]
  },
  {
   "cell_type": "code",
   "execution_count": null,
   "metadata": {},
   "outputs": [],
   "source": []
  },
  {
   "cell_type": "code",
   "execution_count": null,
   "metadata": {},
   "outputs": [],
   "source": []
  },
  {
   "cell_type": "markdown",
   "metadata": {},
   "source": [
    "## Quantum State Preparation"
   ]
  },
  {
   "cell_type": "code",
   "execution_count": null,
   "metadata": {},
   "outputs": [],
   "source": [
    "# In general: \n",
    "# GHZ and W state preparation algorithms https://arxiv.org/pdf/1807.05572.pdf\n",
    "# W states: https://github.com/qiskit-community/qiskit-community-tutorials/blob/master/awards/teach_me_qiskit_2018/w_state/W%20State%201%20-%20Multi-Qubit%20Systems.ipynb\n",
    "# Cluster states https://www.cs.umd.edu/class/spring2018/cmsc457/report/Cluster_State_Quantum_Computing.pdf"
   ]
  },
  {
   "cell_type": "markdown",
   "metadata": {},
   "source": [
    "Bell\n",
    "(2-qubit)"
   ]
  },
  {
   "cell_type": "code",
   "execution_count": 50,
   "metadata": {},
   "outputs": [
    {
     "data": {
      "text/plain": [
       "(          ┌───┐\n",
       " q_0: ─────┤ X ├\n",
       "      ┌───┐└─┬─┘\n",
       " q_1: ┤ H ├──■──\n",
       "      └───┘     ,\n",
       "                          \n",
       " q_0: ────────────────────\n",
       "                          \n",
       " q_1: ────────────────────\n",
       "      ┌───┐┌───┐┌───┐┌───┐\n",
       " q_2: ┤ X ├┤ X ├┤ X ├┤ X ├\n",
       "      └─┬─┘└─┬─┘└─┬─┘└─┬─┘\n",
       " q_3: ──┼────■────┼────■──\n",
       "        │         │       \n",
       " q_4: ──■─────────■───────\n",
       "                          ,\n",
       "                          \n",
       " q_0: ────────────────────\n",
       "                          \n",
       " q_1: ────────────────────\n",
       "      ┌───┐┌───┐┌───┐┌───┐\n",
       " q_2: ┤ X ├┤ X ├┤ X ├┤ X ├\n",
       "      └─┬─┘└─┬─┘└─┬─┘└─┬─┘\n",
       " q_3: ──┼────■────┼────■──\n",
       "        │         │       \n",
       " q_4: ──■─────────■───────\n",
       "                          )"
      ]
     },
     "execution_count": 50,
     "metadata": {},
     "output_type": "execute_result"
    }
   ],
   "source": [
    "# Bell \n",
    "with QiskitTester(2) as QT:\n",
    "    QT.circuit.h(QT.q(0))\n",
    "    QT.circuit.cx(QT.q(0),QT.q(1))\n",
    "QT.circuit.draw(),transpiled.draw(),discretized.draw()"
   ]
  },
  {
   "cell_type": "markdown",
   "metadata": {},
   "source": [
    "GHZ\n",
    "(3-qubit, but can be generalized)"
   ]
  },
  {
   "cell_type": "code",
   "execution_count": 52,
   "metadata": {},
   "outputs": [
    {
     "name": "stdout",
     "output_type": "stream",
     "text": [
      "h []\n",
      "cx []\n",
      "cx []\n"
     ]
    },
    {
     "data": {
      "text/plain": [
       "(               ┌───┐\n",
       " q_0: ──────────┤ X ├\n",
       "           ┌───┐└─┬─┘\n",
       " q_1: ─────┤ X ├──┼──\n",
       "      ┌───┐└─┬─┘  │  \n",
       " q_2: ┤ H ├──■────■──\n",
       "      └───┘          ,\n",
       "                ┌───┐\n",
       " q_0: ──────────┤ X ├\n",
       "           ┌───┐└─┬─┘\n",
       " q_1: ─────┤ X ├──┼──\n",
       "      ┌───┐└─┬─┘  │  \n",
       " q_2: ┤ H ├──■────■──\n",
       "      └───┘          )"
      ]
     },
     "execution_count": 52,
     "metadata": {},
     "output_type": "execute_result"
    }
   ],
   "source": [
    "# GHZ\n",
    "with QiskitTester(3) as QT:\n",
    "    QT.circuit.h(QT.q(0))\n",
    "    QT.circuit.cx(QT.q(0),QT.q(1))\n",
    "    QT.circuit.cx(QT.q(0),QT.q(2))\n",
    "QT.circuit.draw(), QT.transpile().draw()"
   ]
  },
  {
   "cell_type": "code",
   "execution_count": null,
   "metadata": {},
   "outputs": [],
   "source": [
    "# W this is too long\n",
    "with QiskitTester(3) as QT:\n",
    "    QT.circuit.ry(2*np.arccos(1/np.sqrt(3)),QT.q(0))\n",
    "    QT.circuit.h(QT.q(1))\n",
    "    QT.circuit.cnot(QT.q(1),QT.q(2))\n",
    "    QT.circuit.cnot(QT.q(0),QT.q(1))\n",
    "    QT.circuit.x(QT.q(0))\n",
    "QT.circuit.draw(), QT.transpile().draw()"
   ]
  },
  {
   "cell_type": "code",
   "execution_count": null,
   "metadata": {},
   "outputs": [],
   "source": []
  },
  {
   "cell_type": "code",
   "execution_count": null,
   "metadata": {},
   "outputs": [],
   "source": []
  },
  {
   "cell_type": "markdown",
   "metadata": {},
   "source": [
    "### Invalid"
   ]
  },
  {
   "cell_type": "code",
   "execution_count": 54,
   "metadata": {},
   "outputs": [
    {
     "name": "stdout",
     "output_type": "stream",
     "text": [
      "csx []\n"
     ]
    },
    {
     "data": {
      "text/plain": [
       "(     ┌────┐\n",
       " q_0: ┤ Sx ├\n",
       "      └─┬──┘\n",
       " q_1: ──■───\n",
       "            ,\n",
       "      ┌────┐\n",
       " q_0: ┤ Sx ├\n",
       "      └─┬──┘\n",
       " q_1: ──■───\n",
       "            ,\n",
       "      ┌────┐\n",
       " q_0: ┤ Sx ├\n",
       "      └─┬──┘\n",
       " q_1: ──■───\n",
       "            )"
      ]
     },
     "execution_count": 54,
     "metadata": {},
     "output_type": "execute_result"
    }
   ],
   "source": [
    "with QiskitTester(2) as QT:\n",
    "    QT.circuit.csx(QT.q(0),QT.q(1))\n",
    "QT.result\n",
    "transpiled=qk.transpile(QT.circuit, backend)\n",
    "circuit2 = pm.run(transpiled)\n",
    "discretized = skd(circuit2)\n",
    "QT.circuit.draw(),transpiled.draw(),discretized.draw()"
   ]
  },
  {
   "cell_type": "code",
   "execution_count": null,
   "metadata": {},
   "outputs": [],
   "source": [
    "# Too long\n",
    "with QiskitTester(1) as QT:\n",
    "    QT.circuit.p(np.pi/8,QT.q(0))\n",
    "QT.circuit.draw(), QT.transpile().draw()\n"
   ]
  },
  {
   "cell_type": "code",
   "execution_count": null,
   "metadata": {},
   "outputs": [],
   "source": [
    "with QiskitTester(4) as QT:\n",
    "    QT.circuit.append(qk.circuit.library.C3XGate(), (0,1,2,3))\n",
    "QT.circuit.draw()\n",
    "transpiled=qk.transpile(QT.circuit, backend)\n",
    "circuit2 = pm.run(transpiled)\n",
    "discretized = skd(circuit2)\n",
    "QT.circuit.draw(),transpiled.draw(),discretized.draw()"
   ]
  },
  {
   "cell_type": "code",
   "execution_count": null,
   "metadata": {},
   "outputs": [],
   "source": [
    "with QiskitTester(2) as QT:\n",
    "    QT.circuit.ecr(QT.q(0),QT.q(1))\n",
    "transpiled=qk.transpile(QT.circuit, backend)\n",
    "circuit2 = pm.run(transpiled)\n",
    "discretized = skd(circuit2)\n",
    "QT.circuit.draw(),transpiled.draw(),discretized.draw()"
   ]
  },
  {
   "cell_type": "code",
   "execution_count": null,
   "metadata": {},
   "outputs": [],
   "source": [
    "# no idea of how this works\n",
    "with QiskitTester(2) as QT:\n",
    "    QT.circuit.append(qk.circuit.library.Diagonal([1,1]), \n",
    "                      (QT.q(0),))\n",
    "transpiled=qk.transpile(QT.circuit, backend)\n",
    "circuit2 = pm.run(transpiled)\n",
    "discretized = skd(circuit2)\n",
    "QT.circuit.draw(),transpiled.draw(),discretized.draw()"
   ]
  },
  {
   "cell_type": "code",
   "execution_count": null,
   "metadata": {},
   "outputs": [],
   "source": [
    "## WE NEED CP(pi/8) FOR QFT!\n",
    "# It works but it is huge!\n",
    "with QiskitTester(3) as QT:\n",
    "    QT.circuit.append(qk.circuit.library.QFT(3), \n",
    "                      (QT.q(0),QT.q(1),QT.q(2)))\n",
    "transpiled=qk.transpile(QT.circuit, backend)\n",
    "circuit2 = pm.run(transpiled)\n",
    "discretized = skd(circuit2)\n",
    "QT.circuit.draw(),transpiled.draw(),discretized.draw()"
   ]
  },
  {
   "cell_type": "code",
   "execution_count": null,
   "metadata": {},
   "outputs": [],
   "source": [
    "## WE NEED CP(pi/8) FOR QFT!\n",
    "# It works but it is huge!\n",
    "with QiskitTester(4) as QT:\n",
    "    QT.circuit.append(qk.circuit.library.QFT(4), \n",
    "                      (QT.q(0),QT.q(1),QT.q(2),QT.q(3)))\n",
    "QT.circuit.draw(), QT.transpile().draw()"
   ]
  },
  {
   "cell_type": "code",
   "execution_count": null,
   "metadata": {},
   "outputs": [],
   "source": [
    "# very long!\n",
    "with QiskitTester(5) as QT:\n",
    "    QT.circuit.append(qk.circuit.library.QuadraticForm(2, linear=[1,-2], \n",
    "                                                       quadratic=[[1,2],[2,0.5]]), \n",
    "                      (QT.q(0),QT.q(1),QT.q(2),QT.q(3),))\n",
    "QT.circuit.draw(), QT.transpile().draw()"
   ]
  },
  {
   "cell_type": "code",
   "execution_count": null,
   "metadata": {},
   "outputs": [],
   "source": [
    "# Huge\n",
    "# U(π/2,0,π,0)  not found\n",
    "with QiskitTester(9) as QT:\n",
    "    QT.circuit.append(qk.circuit.library.HRSCumulativeMultiplier(2), \n",
    "                      (QT.q(0),QT.q(1),QT.q(2),QT.q(3),QT.q(4),QT.q(5),QT.q(6),QT.q(7),QT.q(8)))\n",
    "transpiled=qk.transpile(QT.circuit, backend)\n",
    "circuit2 = pm.run(transpiled)\n",
    "discretized = skd(circuit2)\n",
    "QT.circuit.draw(),transpiled.draw(),discretized.draw()"
   ]
  },
  {
   "cell_type": "code",
   "execution_count": null,
   "metadata": {},
   "outputs": [],
   "source": [
    "#!Huge\n",
    "with QiskitTester(8) as QT:\n",
    "    QT.circuit.append(qk.circuit.library.RGQFTMultiplier(2), \n",
    "                      (QT.q(0),QT.q(1),QT.q(2),QT.q(3),QT.q(4),QT.q(5),QT.q(6),QT.q(7)))\n",
    "transpiled=qk.transpile(QT.circuit, backend)\n",
    "circuit2 = pm.run(transpiled)\n",
    "discretized = skd(circuit2)\n",
    "QT.circuit.draw(),transpiled.draw(),discretized.draw()"
   ]
  },
  {
   "cell_type": "code",
   "execution_count": null,
   "metadata": {},
   "outputs": [],
   "source": [
    "#incredibly huge\n",
    "from qiskit import algorithms\n",
    "circuit = qk.algorithms.Shor().construct_circuit(7)\n",
    "transpiled=qk.transpile(circuit, backend)\n",
    "circuit2 = pm.run(transpiled)\n",
    "discretized = skd(circuit2)\n",
    "circuit.draw(),transpiled.draw(),discretized.draw()"
   ]
  },
  {
   "cell_type": "code",
   "execution_count": null,
   "metadata": {},
   "outputs": [],
   "source": [
    "# Other algorithms - but should be evaluated with reasonable arguments!\n",
    "# https://qiskit.org/documentation/apidoc/algorithms.html"
   ]
  }
 ],
 "metadata": {
  "interpreter": {
   "hash": "21ea1a886259afbd8a118ef6898db29b8a19fae78d92613d0ae3d877be73df6a"
  },
  "kernelspec": {
   "display_name": "Python 3.8.13 ('dc2')",
   "language": "python",
   "name": "python3"
  },
  "language_info": {
   "codemirror_mode": {
    "name": "ipython",
    "version": 3
   },
   "file_extension": ".py",
   "mimetype": "text/x-python",
   "name": "python",
   "nbconvert_exporter": "python",
   "pygments_lexer": "ipython3",
   "version": "3.8.13"
  },
  "orig_nbformat": 4
 },
 "nbformat": 4,
 "nbformat_minor": 2
}
