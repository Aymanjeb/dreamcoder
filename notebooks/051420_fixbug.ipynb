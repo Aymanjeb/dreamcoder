{
 "cells": [
  {
   "cell_type": "code",
   "execution_count": null,
   "metadata": {},
   "outputs": [],
   "source": [
    "\"\"\" troubleshooting why there is corrupted file, a pickle file, so here I try opening and closing it.\n",
    "SOLVED, by recloning repo and copying over these files from a backup\"\"\"\n"
   ]
  },
  {
   "cell_type": "code",
   "execution_count": 43,
   "metadata": {},
   "outputs": [],
   "source": [
    "import pickle\n",
    "\n",
    "\n",
    "\n",
    "savedir = \"/home/lucast4/dc/analysis/saved/DAT_ecS13.10.test5_dg2.4/modelhudist_withplannerscore/\"\n",
    "fname = \"S12_13_test_1_A2ZJAEL03VTZ8_aggregate\"\n",
    "\n",
    "F = f\"{savedir}/{fname}.pickle\"\n",
    "with open(F, \"rb\") as f:\n",
    "    d1 = pickle.load(f)\n",
    "\n",
    "    \n",
    "\n",
    "fname = \"S12_13_test_1_randomperm_A2ZJAEL03VTZ8_aggregate\"\n",
    "F = f\"{savedir}/{fname}.pickle\"\n",
    "with open(F, \"rb\") as f:\n",
    "    d1_rand = pickle.load(f)\n",
    "    \n",
    "\n",
    "    \n",
    "fname = \"S12_13_test_1_A7T06JMP6BTDS_aggregate\"\n",
    "\n",
    "F = f\"{savedir}/{fname}.pickle\"\n",
    "with open(F, \"rb\") as f:\n",
    "    d2 = pickle.load(f)\n",
    "\n",
    "    \n",
    "savedir = \"/home/lucast4/dc/analysis/saved/DAT_ecS12.10.test5_dg2.4/modelhudist_withplannerscore/\"\n",
    "fname = \"S12_13_test_1_A2ZJAEL03VTZ8_aggregate\"\n",
    "\n",
    "F = f\"{savedir}/{fname}.pickle\"\n",
    "with open(F, \"rb\") as f:\n",
    "    d3 = pickle.load(f)\n",
    "\n",
    "fname = \"S12_13_test_1_A7T06JMP6BTDS_aggregate\"\n",
    "F = f\"{savedir}/{fname}.pickle\"\n",
    "with open(F, \"rb\") as f:\n",
    "    d4 = pickle.load(f)"
   ]
  },
  {
   "cell_type": "code",
   "execution_count": 46,
   "metadata": {},
   "outputs": [],
   "source": [
    "savedir = \"/home/lucast4/dc/analysis/saved/DAT_ecS13.10.test5_dg2.4/modelhudist/\"\n",
    "fname = \"S12_13_test_1_A2ZJAEL03VTZ8_aggregate\"\n",
    "\n",
    "F = f\"{savedir}/{fname}.pickle\"\n",
    "with open(F, \"rb\") as f:\n",
    "    d1 = pickle.load(f)\n",
    "\n",
    "# fname = \"S12_13_test_1_randomperm_A2ZJAEL03VTZ8_aggregate\"\n",
    "# F = f\"{savedir}/{fname}.pickle\"\n",
    "# with open(F, \"rb\") as f:\n",
    "#     d1_rand = pickle.load(f)\n",
    "   \n",
    "    \n",
    "fname = \"S12_13_test_1_A7T06JMP6BTDS_aggregate\"\n",
    "\n",
    "F = f\"{savedir}/{fname}.pickle\"\n",
    "with open(F, \"rb\") as f:\n",
    "    d2 = pickle.load(f)\n",
    "\n",
    "    \n",
    "    \n",
    "    \n",
    "# ----------------------------------------\n",
    "savedir = \"/home/lucast4/dc/analysis/saved/DAT_ecS12.10.test5_dg2.4/modelhudist/\"\n",
    "fname = \"S12_13_test_1_A2ZJAEL03VTZ8_aggregate\"\n",
    "\n",
    "F = f\"{savedir}/{fname}.pickle\"\n",
    "with open(F, \"rb\") as f:\n",
    "    d3 = pickle.load(f)\n",
    "\n",
    "fname = \"S12_13_test_1_A7T06JMP6BTDS_aggregate\"\n",
    "F = f\"{savedir}/{fname}.pickle\"\n",
    "with open(F, \"rb\") as f:\n",
    "    d4 = pickle.load(f)"
   ]
  },
  {
   "cell_type": "code",
   "execution_count": 45,
   "metadata": {},
   "outputs": [
    {
     "data": {
      "text/plain": [
       "{'stim': 'S12_13_test_1',\n",
       " 'human': 'A2ZJAEL03VTZ8',\n",
       " 'model': 'S13.10.test5',\n",
       " 'modelrend': 0,\n",
       " 'dist': 0.4000000134110451,\n",
       " 'sequence_human': ['C11',\n",
       "  'C10',\n",
       "  'Lh20',\n",
       "  'C30',\n",
       "  'LL10',\n",
       "  'LL20',\n",
       "  'LL30',\n",
       "  'C31',\n",
       "  'Lh21',\n",
       "  'LL00'],\n",
       " 'sequence_model': ['C10',\n",
       "  'LL30',\n",
       "  'LL20',\n",
       "  'LL10',\n",
       "  'C30',\n",
       "  'Lh20',\n",
       "  'C31',\n",
       "  'Lh21',\n",
       "  'C11',\n",
       "  'LL00'],\n",
       " 'motorplusVH_S13.10.test5_prob': 1.0087684518078356e-05,\n",
       " 'motorplusVH_prob': 6.044712916118433e-06}"
      ]
     },
     "execution_count": 45,
     "metadata": {},
     "output_type": "execute_result"
    }
   ],
   "source": [
    "d1[0]"
   ]
  },
  {
   "cell_type": "code",
   "execution_count": 47,
   "metadata": {},
   "outputs": [
    {
     "data": {
      "text/plain": [
       "{'stim': 'S12_13_test_1',\n",
       " 'human': 'A2ZJAEL03VTZ8',\n",
       " 'model': 'S13.10.test5',\n",
       " 'modelrend': 0,\n",
       " 'dist': 0.4000000134110451,\n",
       " 'sequence_human': ['C11',\n",
       "  'C10',\n",
       "  'Lh20',\n",
       "  'C30',\n",
       "  'LL10',\n",
       "  'LL20',\n",
       "  'LL30',\n",
       "  'C31',\n",
       "  'Lh21',\n",
       "  'LL00'],\n",
       " 'sequence_model': ['C10',\n",
       "  'LL30',\n",
       "  'LL20',\n",
       "  'LL10',\n",
       "  'C30',\n",
       "  'Lh20',\n",
       "  'C31',\n",
       "  'Lh21',\n",
       "  'C11',\n",
       "  'LL00']}"
      ]
     },
     "execution_count": 47,
     "metadata": {},
     "output_type": "execute_result"
    }
   ],
   "source": [
    "d1[0]"
   ]
  },
  {
   "cell_type": "code",
   "execution_count": 38,
   "metadata": {},
   "outputs": [
    {
     "data": {
      "text/plain": [
       "{'stim': 'S12_13_test_1',\n",
       " 'human': 'A7T06JMP6BTDS',\n",
       " 'model': 'S13.10.test5',\n",
       " 'modelrend': 0,\n",
       " 'dist': 0.625,\n",
       " 'sequence_human': ['LL00',\n",
       "  'LL10',\n",
       "  'C10',\n",
       "  'C11',\n",
       "  'LL20',\n",
       "  'Lh20',\n",
       "  'Lh21',\n",
       "  'LL30',\n",
       "  'C30',\n",
       "  'C31'],\n",
       " 'sequence_model': ['C10',\n",
       "  'LL30',\n",
       "  'LL20',\n",
       "  'LL10',\n",
       "  'C30',\n",
       "  'Lh20',\n",
       "  'C31',\n",
       "  'Lh21',\n",
       "  'C11',\n",
       "  'LL00']}"
      ]
     },
     "execution_count": 38,
     "metadata": {},
     "output_type": "execute_result"
    }
   ],
   "source": [
    "d2[0]"
   ]
  },
  {
   "cell_type": "code",
   "execution_count": 39,
   "metadata": {},
   "outputs": [
    {
     "data": {
      "text/plain": [
       "{'stim': 'S12_13_test_1',\n",
       " 'human': 'A2ZJAEL03VTZ8',\n",
       " 'model': 'S12.10.test5',\n",
       " 'modelrend': 0,\n",
       " 'dist': 0.44999999925494194,\n",
       " 'sequence_human': ['LL00',\n",
       "  'LL10',\n",
       "  'C11',\n",
       "  'C10',\n",
       "  'LL20',\n",
       "  'Lh21',\n",
       "  'Lh20',\n",
       "  'LL30',\n",
       "  'C31',\n",
       "  'C30'],\n",
       " 'sequence_model': ['LL00',\n",
       "  'LL10',\n",
       "  'LL20',\n",
       "  'LL30',\n",
       "  'C10',\n",
       "  'Lh20',\n",
       "  'C30',\n",
       "  'C11',\n",
       "  'C31']}"
      ]
     },
     "execution_count": 39,
     "metadata": {},
     "output_type": "execute_result"
    }
   ],
   "source": [
    "d3[0]"
   ]
  },
  {
   "cell_type": "code",
   "execution_count": 40,
   "metadata": {},
   "outputs": [
    {
     "data": {
      "text/plain": [
       "{'stim': 'S12_13_test_1',\n",
       " 'human': 'A7T06JMP6BTDS',\n",
       " 'model': 'S12.10.test5',\n",
       " 'modelrend': 0,\n",
       " 'dist': 0.45000001043081284,\n",
       " 'sequence_human': ['LL00',\n",
       "  'LL10',\n",
       "  'C10',\n",
       "  'C11',\n",
       "  'LL20',\n",
       "  'Lh20',\n",
       "  'Lh21',\n",
       "  'LL30',\n",
       "  'C30',\n",
       "  'C31'],\n",
       " 'sequence_model': ['LL00',\n",
       "  'LL10',\n",
       "  'LL20',\n",
       "  'LL30',\n",
       "  'C10',\n",
       "  'Lh20',\n",
       "  'C30',\n",
       "  'C11',\n",
       "  'C31']}"
      ]
     },
     "execution_count": 40,
     "metadata": {},
     "output_type": "execute_result"
    }
   ],
   "source": [
    "d4[0]"
   ]
  }
 ],
 "metadata": {
  "kernelspec": {
   "display_name": "Python 3",
   "language": "python",
   "name": "python3"
  },
  "language_info": {
   "codemirror_mode": {
    "name": "ipython",
    "version": 3
   },
   "file_extension": ".py",
   "mimetype": "text/x-python",
   "name": "python",
   "nbconvert_exporter": "python",
   "pygments_lexer": "ipython3",
   "version": "3.7.4"
  }
 },
 "nbformat": 4,
 "nbformat_minor": 2
}
