{
 "cells": [
  {
   "cell_type": "code",
   "execution_count": null,
   "metadata": {},
   "outputs": [],
   "source": [
    "\"\"\" goals:\n",
    "1. hand build primitives in a new model\n",
    "2. score tasks in this new grammar.\n",
    "3. train this model without learning new dsl\n",
    "\"\"\"\n"
   ]
  },
  {
   "cell_type": "code",
   "execution_count": 1,
   "metadata": {},
   "outputs": [],
   "source": [
    "%load_ext autoreload\n",
    "%autoreload 2\n",
    "\n",
    "import sys\n",
    "sys.path.append(\"..\")\n"
   ]
  },
  {
   "cell_type": "code",
   "execution_count": 2,
   "metadata": {},
   "outputs": [],
   "source": [
    "\n",
    "from dreamcoder.domains.draw.drawPrimitivesDraw import *\n",
    "from dreamcoder.program import Invented\n",
    "# from dreamcoder"
   ]
  },
  {
   "cell_type": "code",
   "execution_count": 339,
   "metadata": {},
   "outputs": [
    {
     "name": "stdout",
     "output_type": "stream",
     "text": [
      "connect\n",
      "emptystroke\n",
      "line\n",
      "circle\n",
      "transform\n",
      "reflect\n",
      "connect\n",
      "repeat\n",
      "line\n",
      "emptystroke\n",
      "line\n",
      "circle\n",
      "transform\n",
      "reflect\n",
      "connect\n",
      "repeat\n",
      "circle\n",
      "emptystroke\n",
      "line\n",
      "circle\n",
      "transform\n",
      "reflect\n",
      "connect\n",
      "repeat\n",
      "-5.8377304471659395\n",
      "connect\n",
      "emptystroke\n",
      "line\n",
      "circle\n",
      "transform\n",
      "reflect\n",
      "connect\n",
      "repeat\n",
      "(lambda (connect line circle))\n",
      "line\n",
      "emptystroke\n",
      "line\n",
      "circle\n",
      "transform\n",
      "reflect\n",
      "connect\n",
      "repeat\n",
      "(lambda (connect line circle))\n",
      "circle\n",
      "emptystroke\n",
      "line\n",
      "circle\n",
      "transform\n",
      "reflect\n",
      "connect\n",
      "repeat\n",
      "(lambda (connect line circle))\n",
      "-6.238324625039507\n",
      "(lambda (connect line circle))\n",
      "emptystroke\n",
      "line\n",
      "circle\n",
      "transform\n",
      "reflect\n",
      "connect\n",
      "repeat\n",
      "(lambda (connect line circle))\n"
     ]
    },
    {
     "name": "stderr",
     "output_type": "stream",
     "text": [
      "(lambda (connect line circle)) Not in candidates\n",
      "Candidates is {emptystroke: (0.0, tstroke, Context(next = 0, {})), line: (0.0, tstroke, Context(next = 0, {})), circle: (0.0, tstroke, Context(next = 0, {})), transform: (0.0, tstroke -> ttransmat -> tstroke, Context(next = 0, {})), reflect: (0.0, tstroke -> tangle -> tstroke, Context(next = 0, {})), connect: (0.0, tstroke -> tstroke -> tstroke, Context(next = 0, {})), repeat: (0.0, tstroke -> trep -> ttransmat -> tstroke, Context(next = 0, {})), (lambda (connect line circle)): (0.0, tstroke, Context(next = 0, {}))}\n",
      "request is tstroke\n",
      "xs []\n",
      "environment []\n"
     ]
    },
    {
     "ename": "AssertionError",
     "evalue": "",
     "output_type": "error",
     "traceback": [
      "\u001b[0;31m---------------------------------------------------------------------------\u001b[0m",
      "\u001b[0;31mAssertionError\u001b[0m                            Traceback (most recent call last)",
      "\u001b[0;32m<ipython-input-339-47b8ad671ebd>\u001b[0m in \u001b[0;36m<module>\u001b[0;34m\u001b[0m\n\u001b[1;32m     27\u001b[0m \u001b[0mp\u001b[0m \u001b[0;34m=\u001b[0m  \u001b[0mProgram\u001b[0m\u001b[0;34m.\u001b[0m\u001b[0mparse\u001b[0m\u001b[0;34m(\u001b[0m\u001b[0;34m\"(lambda (connect line circle))\"\u001b[0m\u001b[0;34m)\u001b[0m\u001b[0;34m\u001b[0m\u001b[0;34m\u001b[0m\u001b[0m\n\u001b[1;32m     28\u001b[0m \u001b[0;31m# p = Program.parse(\"(test)\")\u001b[0m\u001b[0;34m\u001b[0m\u001b[0;34m\u001b[0m\u001b[0;34m\u001b[0m\u001b[0m\n\u001b[0;32m---> 29\u001b[0;31m \u001b[0mprint\u001b[0m\u001b[0;34m(\u001b[0m\u001b[0mg1\u001b[0m\u001b[0;34m.\u001b[0m\u001b[0mlogLikelihood\u001b[0m\u001b[0;34m(\u001b[0m\u001b[0mtstroke\u001b[0m\u001b[0;34m,\u001b[0m \u001b[0mp\u001b[0m\u001b[0;34m)\u001b[0m\u001b[0;34m)\u001b[0m\u001b[0;34m\u001b[0m\u001b[0;34m\u001b[0m\u001b[0m\n\u001b[0m\u001b[1;32m     30\u001b[0m \u001b[0;34m\u001b[0m\u001b[0m\n",
      "\u001b[0;32m/data1/code/python/ec/dreamcoder/grammar.py\u001b[0m in \u001b[0;36mlogLikelihood\u001b[0;34m(self, request, expression)\u001b[0m\n\u001b[1;32m    385\u001b[0m \u001b[0;34m\u001b[0m\u001b[0m\n\u001b[1;32m    386\u001b[0m     \u001b[0;32mdef\u001b[0m \u001b[0mlogLikelihood\u001b[0m\u001b[0;34m(\u001b[0m\u001b[0mself\u001b[0m\u001b[0;34m,\u001b[0m \u001b[0mrequest\u001b[0m\u001b[0;34m,\u001b[0m \u001b[0mexpression\u001b[0m\u001b[0;34m)\u001b[0m\u001b[0;34m:\u001b[0m\u001b[0;34m\u001b[0m\u001b[0;34m\u001b[0m\u001b[0m\n\u001b[0;32m--> 387\u001b[0;31m         \u001b[0msummary\u001b[0m \u001b[0;34m=\u001b[0m \u001b[0mself\u001b[0m\u001b[0;34m.\u001b[0m\u001b[0mclosedLikelihoodSummary\u001b[0m\u001b[0;34m(\u001b[0m\u001b[0mrequest\u001b[0m\u001b[0;34m,\u001b[0m \u001b[0mexpression\u001b[0m\u001b[0;34m)\u001b[0m\u001b[0;34m\u001b[0m\u001b[0;34m\u001b[0m\u001b[0m\n\u001b[0m\u001b[1;32m    388\u001b[0m         \u001b[0;32mif\u001b[0m \u001b[0msummary\u001b[0m \u001b[0;32mis\u001b[0m \u001b[0;32mNone\u001b[0m\u001b[0;34m:\u001b[0m\u001b[0;34m\u001b[0m\u001b[0;34m\u001b[0m\u001b[0m\n\u001b[1;32m    389\u001b[0m             eprint(\n",
      "\u001b[0;32m/data1/code/python/ec/dreamcoder/grammar.py\u001b[0m in \u001b[0;36mclosedLikelihoodSummary\u001b[0;34m(self, request, expression, silent)\u001b[0m\n\u001b[1;32m    373\u001b[0m     \u001b[0;32mdef\u001b[0m \u001b[0mclosedLikelihoodSummary\u001b[0m\u001b[0;34m(\u001b[0m\u001b[0mself\u001b[0m\u001b[0;34m,\u001b[0m \u001b[0mrequest\u001b[0m\u001b[0;34m,\u001b[0m \u001b[0mexpression\u001b[0m\u001b[0;34m,\u001b[0m \u001b[0msilent\u001b[0m\u001b[0;34m=\u001b[0m\u001b[0;32mFalse\u001b[0m\u001b[0;34m)\u001b[0m\u001b[0;34m:\u001b[0m\u001b[0;34m\u001b[0m\u001b[0;34m\u001b[0m\u001b[0m\n\u001b[1;32m    374\u001b[0m         \u001b[0;32mtry\u001b[0m\u001b[0;34m:\u001b[0m\u001b[0;34m\u001b[0m\u001b[0;34m\u001b[0m\u001b[0m\n\u001b[0;32m--> 375\u001b[0;31m             \u001b[0mcontext\u001b[0m\u001b[0;34m,\u001b[0m \u001b[0msummary\u001b[0m \u001b[0;34m=\u001b[0m \u001b[0mself\u001b[0m\u001b[0;34m.\u001b[0m\u001b[0mlikelihoodSummary\u001b[0m\u001b[0;34m(\u001b[0m\u001b[0mContext\u001b[0m\u001b[0;34m.\u001b[0m\u001b[0mEMPTY\u001b[0m\u001b[0;34m,\u001b[0m \u001b[0;34m[\u001b[0m\u001b[0;34m]\u001b[0m\u001b[0;34m,\u001b[0m \u001b[0mrequest\u001b[0m\u001b[0;34m,\u001b[0m \u001b[0mexpression\u001b[0m\u001b[0;34m,\u001b[0m \u001b[0msilent\u001b[0m\u001b[0;34m=\u001b[0m\u001b[0msilent\u001b[0m\u001b[0;34m)\u001b[0m\u001b[0;34m\u001b[0m\u001b[0;34m\u001b[0m\u001b[0m\n\u001b[0m\u001b[1;32m    376\u001b[0m         \u001b[0;32mexcept\u001b[0m \u001b[0mGrammarFailure\u001b[0m \u001b[0;32mas\u001b[0m \u001b[0me\u001b[0m\u001b[0;34m:\u001b[0m\u001b[0;34m\u001b[0m\u001b[0;34m\u001b[0m\u001b[0m\n\u001b[1;32m    377\u001b[0m             failureExport = 'failures/grammarFailure%s.pickle' % (\n",
      "\u001b[0;32m/data1/code/python/ec/dreamcoder/grammar.py\u001b[0m in \u001b[0;36mlikelihoodSummary\u001b[0;34m(self, context, environment, request, expression, silent)\u001b[0m\n\u001b[1;32m    268\u001b[0m                 \u001b[0meprint\u001b[0m\u001b[0;34m(\u001b[0m\u001b[0;34m\"xs\"\u001b[0m\u001b[0;34m,\u001b[0m \u001b[0mxs\u001b[0m\u001b[0;34m)\u001b[0m\u001b[0;34m\u001b[0m\u001b[0;34m\u001b[0m\u001b[0m\n\u001b[1;32m    269\u001b[0m                 \u001b[0meprint\u001b[0m\u001b[0;34m(\u001b[0m\u001b[0;34m\"environment\"\u001b[0m\u001b[0;34m,\u001b[0m \u001b[0menvironment\u001b[0m\u001b[0;34m)\u001b[0m\u001b[0;34m\u001b[0m\u001b[0;34m\u001b[0m\u001b[0m\n\u001b[0;32m--> 270\u001b[0;31m                 \u001b[0;32massert\u001b[0m \u001b[0;32mFalse\u001b[0m\u001b[0;34m\u001b[0m\u001b[0;34m\u001b[0m\u001b[0m\n\u001b[0m\u001b[1;32m    271\u001b[0m             \u001b[0;32mreturn\u001b[0m \u001b[0mcontext\u001b[0m\u001b[0;34m,\u001b[0m \u001b[0;32mNone\u001b[0m\u001b[0;34m\u001b[0m\u001b[0;34m\u001b[0m\u001b[0m\n\u001b[1;32m    272\u001b[0m \u001b[0;34m\u001b[0m\u001b[0m\n",
      "\u001b[0;31mAssertionError\u001b[0m: "
     ]
    }
   ],
   "source": [
    "## Checking whether adding simple primitive, no holes, helps [sanity check]\n",
    "from dreamcoder.domains.draw.drawPrimitivesDraw import *\n",
    "from dreamcoder.program import Invented\n",
    "\n",
    "old_primitives = primitives\n",
    "extra_primitives = [\n",
    "    Primitive(\"(lambda (connect line circle))\", tstroke, Invented(Abstraction(Program.parse(\"(connect line circle)\")))),\n",
    "#     Primitive(\"test2\", tstroke, Invented(Abstraction(Program.parse(\"(connect line (connect line (connect circle line)))\")))),\n",
    "#     Primitive(\"test3\", tstroke, Program.parse(\"(connect line circle)\")),\n",
    "]\n",
    "\n",
    "new_primitives = old_primitives + extra_primitives\n",
    "\n",
    "\n",
    "# 1) get grammars\n",
    "g0 = Grammar.uniform(old_primitives)\n",
    "g1 = Grammar.uniform(new_primitives)\n",
    "\n",
    "# s = \"(connect line (connect circle line))\"\n",
    "s = \"(connect line circle)\"\n",
    "print(g0.logLikelihood(tstroke, Program.parse(s)))\n",
    "print(g1.logLikelihood(tstroke, Program.parse(s)))\n",
    "\n",
    "# s = \"(connect line (connect circle line))\"\n",
    "# s = \"(test)\"\n",
    "# print(g0.logLikelihood(tstroke, Program.parse(s)))\n",
    "p =  Program.parse(\"(lambda (connect line circle))\")\n",
    "# p = Program.parse(\"(test)\")\n",
    "print(g1.logLikelihood(tstroke, p))\n",
    "\n",
    "print(g0.logLikelihood(tstroke, Invented(Abstraction(Program.parse(s)))))"
   ]
  },
  {
   "cell_type": "code",
   "execution_count": 346,
   "metadata": {},
   "outputs": [
    {
     "name": "stdout",
     "output_type": "stream",
     "text": [
      "-2.0794415416798357\n"
     ]
    }
   ],
   "source": [
    "##  emialt o kevin\n",
    "from dreamcoder.domains.draw.drawPrimitivesDraw import *\n",
    "from dreamcoder.program import Invented\n",
    "\n",
    "old_primitives = primitives\n",
    "extra_primitives = [\n",
    "    Primitive(\"test\", tstroke, Invented(Abstraction(Program.parse(\"(connect line circle)\")))),\n",
    "]\n",
    "\n",
    "new_primitives = old_primitives + extra_primitives\n",
    "\n",
    "g0 = Grammar.uniform(old_primitives)\n",
    "g1 = Grammar.uniform(new_primitives)\n",
    "\n",
    "s = \"(test)\"\n",
    "# print(g0.logLikelihood(tstroke, Program.parse(s)))\n",
    "# print(g1.logLikelihood(tstroke, Program.parse(s)))\n",
    "print(g1.logLikelihood(tstroke, (Program.parse(s))))"
   ]
  },
  {
   "cell_type": "code",
   "execution_count": 333,
   "metadata": {},
   "outputs": [
    {
     "ename": "TypeError",
     "evalue": "'Primitive' object is not iterable",
     "output_type": "error",
     "traceback": [
      "\u001b[0;31m---------------------------------------------------------------------------\u001b[0m",
      "\u001b[0;31mTypeError\u001b[0m                                 Traceback (most recent call last)",
      "\u001b[0;32m<ipython-input-333-161d65a0cde9>\u001b[0m in \u001b[0;36m<module>\u001b[0;34m\u001b[0m\n\u001b[1;32m      1\u001b[0m \u001b[0mp\u001b[0m \u001b[0;34m=\u001b[0m \u001b[0mProgram\u001b[0m\u001b[0;34m.\u001b[0m\u001b[0mparse\u001b[0m\u001b[0;34m(\u001b[0m\u001b[0;34m\"(test)\"\u001b[0m\u001b[0;34m)\u001b[0m\u001b[0;34m\u001b[0m\u001b[0;34m\u001b[0m\u001b[0m\n\u001b[0;32m----> 2\u001b[0;31m \u001b[0mplot\u001b[0m\u001b[0;34m(\u001b[0m\u001b[0mp\u001b[0m\u001b[0;34m)\u001b[0m\u001b[0;34m\u001b[0m\u001b[0;34m\u001b[0m\u001b[0m\n\u001b[0m",
      "\u001b[0;32m/data1/code/python/ec/dreamcoder/domains/draw/primitives.py\u001b[0m in \u001b[0;36mplot\u001b[0;34m(p, color, LIMITS)\u001b[0m\n\u001b[1;32m    412\u001b[0m         \u001b[0max\u001b[0m\u001b[0;34m.\u001b[0m\u001b[0mset_xlim\u001b[0m\u001b[0;34m(\u001b[0m\u001b[0;34m-\u001b[0m\u001b[0mLIMITS\u001b[0m\u001b[0;34m,\u001b[0m\u001b[0mLIMITS\u001b[0m\u001b[0;34m)\u001b[0m\u001b[0;34m\u001b[0m\u001b[0;34m\u001b[0m\u001b[0m\n\u001b[1;32m    413\u001b[0m         \u001b[0max\u001b[0m\u001b[0;34m.\u001b[0m\u001b[0mset_ylim\u001b[0m\u001b[0;34m(\u001b[0m\u001b[0;34m-\u001b[0m\u001b[0mLIMITS\u001b[0m\u001b[0;34m,\u001b[0m\u001b[0mLIMITS\u001b[0m\u001b[0;34m)\u001b[0m\u001b[0;34m\u001b[0m\u001b[0;34m\u001b[0m\u001b[0m\n\u001b[0;32m--> 414\u001b[0;31m         \u001b[0;34m[\u001b[0m\u001b[0max\u001b[0m\u001b[0;34m.\u001b[0m\u001b[0mplot\u001b[0m\u001b[0;34m(\u001b[0m\u001b[0mx\u001b[0m\u001b[0;34m[\u001b[0m\u001b[0;34m:\u001b[0m\u001b[0;34m,\u001b[0m\u001b[0;36m0\u001b[0m\u001b[0;34m]\u001b[0m\u001b[0;34m,\u001b[0m \u001b[0mx\u001b[0m\u001b[0;34m[\u001b[0m\u001b[0;34m:\u001b[0m\u001b[0;34m,\u001b[0m\u001b[0;36m1\u001b[0m\u001b[0;34m]\u001b[0m\u001b[0;34m,\u001b[0m \u001b[0;34m\"-\"\u001b[0m\u001b[0;34m,\u001b[0m \u001b[0mcolor\u001b[0m\u001b[0;34m=\u001b[0m\u001b[0mcolor\u001b[0m\u001b[0;34m)\u001b[0m \u001b[0;32mfor\u001b[0m \u001b[0mx\u001b[0m \u001b[0;32min\u001b[0m \u001b[0mp\u001b[0m\u001b[0;34m]\u001b[0m\u001b[0;34m\u001b[0m\u001b[0;34m\u001b[0m\u001b[0m\n\u001b[0m\u001b[1;32m    415\u001b[0m         \u001b[0;32mreturn\u001b[0m \u001b[0max\u001b[0m\u001b[0;34m\u001b[0m\u001b[0;34m\u001b[0m\u001b[0m\n\u001b[1;32m    416\u001b[0m \u001b[0;34m\u001b[0m\u001b[0m\n",
      "\u001b[0;31mTypeError\u001b[0m: 'Primitive' object is not iterable"
     ]
    },
    {
     "data": {
      "image/png": "[encoded data removed]",
      "text/plain": [
       "<Figure size 216x216 with 1 Axes>"
      ]
     },
     "metadata": {
      "needs_background": "light"
     },
     "output_type": "display_data"
    }
   ],
   "source": [
    "p = Program.parse(\"(test)\")\n",
    "plot(p)"
   ]
  },
  {
   "cell_type": "code",
   "execution_count": 325,
   "metadata": {},
   "outputs": [
    {
     "data": {
      "text/plain": [
       "#(lambda (connect line circle))"
      ]
     },
     "execution_count": 325,
     "metadata": {},
     "output_type": "execute_result"
    }
   ],
   "source": [
    "p = Invented(Abstraction(Program.parse(\"(connect line circle)\")))\n",
    "p"
   ]
  },
  {
   "cell_type": "code",
   "execution_count": 299,
   "metadata": {},
   "outputs": [
    {
     "name": "stdout",
     "output_type": "stream",
     "text": [
      "test2\n"
     ]
    },
    {
     "ename": "TypeError",
     "evalue": "'Invented' object is not iterable",
     "output_type": "error",
     "traceback": [
      "\u001b[0;31m---------------------------------------------------------------------------\u001b[0m",
      "\u001b[0;31mTypeError\u001b[0m                                 Traceback (most recent call last)",
      "\u001b[0;32m<ipython-input-299-656b9c69c216>\u001b[0m in \u001b[0;36m<module>\u001b[0;34m\u001b[0m\n\u001b[1;32m      1\u001b[0m \u001b[0mp\u001b[0m \u001b[0;34m=\u001b[0m \u001b[0mg1\u001b[0m\u001b[0;34m.\u001b[0m\u001b[0msample\u001b[0m\u001b[0;34m(\u001b[0m\u001b[0mtstroke\u001b[0m\u001b[0;34m)\u001b[0m\u001b[0;34m\u001b[0m\u001b[0;34m\u001b[0m\u001b[0m\n\u001b[1;32m      2\u001b[0m \u001b[0mprint\u001b[0m\u001b[0;34m(\u001b[0m\u001b[0mp\u001b[0m\u001b[0;34m)\u001b[0m\u001b[0;34m\u001b[0m\u001b[0;34m\u001b[0m\u001b[0m\n\u001b[0;32m----> 3\u001b[0;31m \u001b[0mplot\u001b[0m\u001b[0;34m(\u001b[0m\u001b[0mp\u001b[0m\u001b[0;34m.\u001b[0m\u001b[0mrunWithArguments\u001b[0m\u001b[0;34m(\u001b[0m\u001b[0;34m[\u001b[0m\u001b[0;34m]\u001b[0m\u001b[0;34m)\u001b[0m\u001b[0;34m)\u001b[0m\u001b[0;34m\u001b[0m\u001b[0;34m\u001b[0m\u001b[0m\n\u001b[0m",
      "\u001b[0;32m/data1/code/python/ec/dreamcoder/domains/draw/primitives.py\u001b[0m in \u001b[0;36mplot\u001b[0;34m(p, color, LIMITS)\u001b[0m\n\u001b[1;32m    412\u001b[0m         \u001b[0max\u001b[0m\u001b[0;34m.\u001b[0m\u001b[0mset_xlim\u001b[0m\u001b[0;34m(\u001b[0m\u001b[0;34m-\u001b[0m\u001b[0mLIMITS\u001b[0m\u001b[0;34m,\u001b[0m\u001b[0mLIMITS\u001b[0m\u001b[0;34m)\u001b[0m\u001b[0;34m\u001b[0m\u001b[0;34m\u001b[0m\u001b[0m\n\u001b[1;32m    413\u001b[0m         \u001b[0max\u001b[0m\u001b[0;34m.\u001b[0m\u001b[0mset_ylim\u001b[0m\u001b[0;34m(\u001b[0m\u001b[0;34m-\u001b[0m\u001b[0mLIMITS\u001b[0m\u001b[0;34m,\u001b[0m\u001b[0mLIMITS\u001b[0m\u001b[0;34m)\u001b[0m\u001b[0;34m\u001b[0m\u001b[0;34m\u001b[0m\u001b[0m\n\u001b[0;32m--> 414\u001b[0;31m         \u001b[0;34m[\u001b[0m\u001b[0max\u001b[0m\u001b[0;34m.\u001b[0m\u001b[0mplot\u001b[0m\u001b[0;34m(\u001b[0m\u001b[0mx\u001b[0m\u001b[0;34m[\u001b[0m\u001b[0;34m:\u001b[0m\u001b[0;34m,\u001b[0m\u001b[0;36m0\u001b[0m\u001b[0;34m]\u001b[0m\u001b[0;34m,\u001b[0m \u001b[0mx\u001b[0m\u001b[0;34m[\u001b[0m\u001b[0;34m:\u001b[0m\u001b[0;34m,\u001b[0m\u001b[0;36m1\u001b[0m\u001b[0;34m]\u001b[0m\u001b[0;34m,\u001b[0m \u001b[0;34m\"-\"\u001b[0m\u001b[0;34m,\u001b[0m \u001b[0mcolor\u001b[0m\u001b[0;34m=\u001b[0m\u001b[0mcolor\u001b[0m\u001b[0;34m)\u001b[0m \u001b[0;32mfor\u001b[0m \u001b[0mx\u001b[0m \u001b[0;32min\u001b[0m \u001b[0mp\u001b[0m\u001b[0;34m]\u001b[0m\u001b[0;34m\u001b[0m\u001b[0;34m\u001b[0m\u001b[0m\n\u001b[0m\u001b[1;32m    415\u001b[0m         \u001b[0;32mreturn\u001b[0m \u001b[0max\u001b[0m\u001b[0;34m\u001b[0m\u001b[0;34m\u001b[0m\u001b[0m\n\u001b[1;32m    416\u001b[0m \u001b[0;34m\u001b[0m\u001b[0m\n",
      "\u001b[0;31mTypeError\u001b[0m: 'Invented' object is not iterable"
     ]
    },
    {
     "data": {
      "image/png": "[encoded data removed]",
      "text/plain": [
       "<Figure size 216x216 with 1 Axes>"
      ]
     },
     "metadata": {
      "needs_background": "light"
     },
     "output_type": "display_data"
    }
   ],
   "source": [
    "p = g1.sample(tstroke)\n",
    "print(p)\n",
    "plot(p.runWithArguments([]))"
   ]
  },
  {
   "cell_type": "code",
   "execution_count": 300,
   "metadata": {},
   "outputs": [
    {
     "data": {
      "text/plain": [
       "<matplotlib.axes._axes.Axes at 0x7f975a0a30d0>"
      ]
     },
     "execution_count": 300,
     "metadata": {},
     "output_type": "execute_result"
    },
    {
     "data": {
      "image/png": "[encoded data removed]",
      "text/plain": [
       "<Figure size 216x216 with 1 Axes>"
      ]
     },
     "metadata": {
      "needs_background": "light"
     },
     "output_type": "display_data"
    }
   ],
   "source": [
    "plot(p.runWithArguments([]).evaluate([])([]))"
   ]
  },
  {
   "cell_type": "code",
   "execution_count": 290,
   "metadata": {},
   "outputs": [
    {
     "ename": "AttributeError",
     "evalue": "'list' object has no attribute 'evaluate'",
     "output_type": "error",
     "traceback": [
      "\u001b[0;31m---------------------------------------------------------------------------\u001b[0m",
      "\u001b[0;31mAttributeError\u001b[0m                            Traceback (most recent call last)",
      "\u001b[0;32m<ipython-input-290-83875f879448>\u001b[0m in \u001b[0;36m<module>\u001b[0;34m\u001b[0m\n\u001b[0;32m----> 1\u001b[0;31m \u001b[0mp\u001b[0m\u001b[0;34m.\u001b[0m\u001b[0mrunWithArguments\u001b[0m\u001b[0;34m(\u001b[0m\u001b[0;34m[\u001b[0m\u001b[0;34m]\u001b[0m\u001b[0;34m)\u001b[0m\u001b[0;34m.\u001b[0m\u001b[0mevaluate\u001b[0m\u001b[0;34m(\u001b[0m\u001b[0;34m[\u001b[0m\u001b[0;34m]\u001b[0m\u001b[0;34m)\u001b[0m\u001b[0;34m(\u001b[0m\u001b[0;34m[\u001b[0m\u001b[0;34m]\u001b[0m\u001b[0;34m)\u001b[0m\u001b[0;34m\u001b[0m\u001b[0;34m\u001b[0m\u001b[0m\n\u001b[0m",
      "\u001b[0;31mAttributeError\u001b[0m: 'list' object has no attribute 'evaluate'"
     ]
    }
   ],
   "source": [
    "p.runWithArguments([]).evaluate([])([])"
   ]
  },
  {
   "cell_type": "code",
   "execution_count": 217,
   "metadata": {},
   "outputs": [
    {
     "ename": "TypeError",
     "evalue": "annotateTypes() missing 2 required positional arguments: 'context' and 'environment'",
     "output_type": "error",
     "traceback": [
      "\u001b[0;31m---------------------------------------------------------------------------\u001b[0m",
      "\u001b[0;31mTypeError\u001b[0m                                 Traceback (most recent call last)",
      "\u001b[0;32m<ipython-input-217-33c7293edd48>\u001b[0m in \u001b[0;36m<module>\u001b[0;34m\u001b[0m\n\u001b[1;32m      1\u001b[0m \u001b[0mp\u001b[0m \u001b[0;34m=\u001b[0m \u001b[0mInvented\u001b[0m\u001b[0;34m(\u001b[0m\u001b[0mProgram\u001b[0m\u001b[0;34m.\u001b[0m\u001b[0mparseHumanReadable\u001b[0m\u001b[0;34m(\u001b[0m\u001b[0;34m\"(lambda (k) (connect (k) circle))\"\u001b[0m\u001b[0;34m)\u001b[0m\u001b[0;34m)\u001b[0m\u001b[0;34m\u001b[0m\u001b[0;34m\u001b[0m\u001b[0m\n\u001b[0;32m----> 2\u001b[0;31m \u001b[0mp\u001b[0m\u001b[0;34m.\u001b[0m\u001b[0mannotateTypes\u001b[0m\u001b[0;34m(\u001b[0m\u001b[0;34m)\u001b[0m\u001b[0;34m\u001b[0m\u001b[0;34m\u001b[0m\u001b[0m\n\u001b[0m",
      "\u001b[0;31mTypeError\u001b[0m: annotateTypes() missing 2 required positional arguments: 'context' and 'environment'"
     ]
    }
   ],
   "source": [
    "p = Invented(Program.parseHumanReadable(\"(lambda (k) (connect (k) circle))\"))"
   ]
  },
  {
   "cell_type": "code",
   "execution_count": 3,
   "metadata": {},
   "outputs": [
    {
     "name": "stdout",
     "output_type": "stream",
     "text": [
      "[tstroke, tstroke]\n",
      "tstroke -> tstroke -> tstroke\n",
      "Context(next = 0, {})\n",
      "[]\n",
      "tstroke\n",
      "Context(next = 0, {})\n",
      "[]\n",
      "tstroke\n",
      "Context(next = 0, {})\n",
      "-5.8377304471659395\n",
      "[tstroke, tstroke]\n",
      "tstroke -> tstroke -> tstroke\n",
      "Context(next = 0, {})\n",
      "[]\n",
      "tstroke\n",
      "Context(next = 0, {})\n",
      "[]\n",
      "tstroke\n",
      "Context(next = 0, {})\n",
      "-6.238324625039507\n"
     ]
    }
   ],
   "source": [
    "## Checking whether adding primitive with holes helps\n",
    "\n",
    "old_primitives = primitives\n",
    "extra_primitives = [\n",
    "    Primitive(\"test\", arrow(tstroke, tstroke), Invented(Program.parseHumanReadable(\"(lambda (k) (connect (k) circle))\"))),\n",
    "]\n",
    "\n",
    "new_primitives = old_primitives + extra_primitives\n",
    "\n",
    "\n",
    "# 1) get grammars\n",
    "g0 = Grammar.uniform(old_primitives)\n",
    "g1 = Grammar.uniform(new_primitives)\n",
    "\n",
    "# s = \"(connect line (connect circle line))\"\n",
    "s = \"(connect line circle)\"\n",
    "print(g0.logLikelihood(tstroke, Program.parse(s)))\n",
    "print(g1.logLikelihood(tstroke, Program.parse(s)))\n"
   ]
  },
  {
   "cell_type": "code",
   "execution_count": 35,
   "metadata": {},
   "outputs": [
    {
     "name": "stdout",
     "output_type": "stream",
     "text": [
      "#(lambda (connect $0 circle))\n",
      "emptystroke\n",
      "line\n",
      "circle\n",
      "transform\n",
      "reflect\n",
      "connect\n",
      "repeat\n",
      "#(lambda (connect $0 circle))\n",
      "False\n"
     ]
    },
    {
     "name": "stderr",
     "output_type": "stream",
     "text": [
      "#(lambda (connect $0 circle)) Not in candidates\n",
      "Candidates is {emptystroke: (0.0, tstroke, Context(next = 0, {})), line: (0.0, tstroke, Context(next = 0, {})), circle: (0.0, tstroke, Context(next = 0, {})), transform: (0.0, tstroke -> ttransmat -> tstroke, Context(next = 0, {})), reflect: (0.0, tstroke -> tangle -> tstroke, Context(next = 0, {})), connect: (0.0, tstroke -> tstroke -> tstroke, Context(next = 0, {})), repeat: (0.0, tstroke -> trep -> ttransmat -> tstroke, Context(next = 0, {})), #(lambda (connect $0 circle)): (0.0, tstroke -> tstroke, Context(next = 0, {}))}\n",
      "request is tstroke\n",
      "xs []\n",
      "environment []\n"
     ]
    },
    {
     "ename": "AssertionError",
     "evalue": "",
     "output_type": "error",
     "traceback": [
      "\u001b[0;31m---------------------------------------------------------------------------\u001b[0m",
      "\u001b[0;31mAssertionError\u001b[0m                            Traceback (most recent call last)",
      "\u001b[0;32m<ipython-input-35-d31262a3ef89>\u001b[0m in \u001b[0;36m<module>\u001b[0;34m\u001b[0m\n\u001b[1;32m     20\u001b[0m \u001b[0;34m\u001b[0m\u001b[0m\n\u001b[1;32m     21\u001b[0m \u001b[0;31m# BOTH OF these dont work..\u001b[0m\u001b[0;34m\u001b[0m\u001b[0;34m\u001b[0m\u001b[0;34m\u001b[0m\u001b[0m\n\u001b[0;32m---> 22\u001b[0;31m \u001b[0mprint\u001b[0m\u001b[0;34m(\u001b[0m\u001b[0mg1\u001b[0m\u001b[0;34m.\u001b[0m\u001b[0mlogLikelihood\u001b[0m\u001b[0;34m(\u001b[0m\u001b[0mtstroke\u001b[0m\u001b[0;34m,\u001b[0m \u001b[0mp\u001b[0m\u001b[0;34m)\u001b[0m\u001b[0;34m)\u001b[0m\u001b[0;34m\u001b[0m\u001b[0;34m\u001b[0m\u001b[0m\n\u001b[0m\u001b[1;32m     23\u001b[0m \u001b[0mprint\u001b[0m\u001b[0;34m(\u001b[0m\u001b[0mg1\u001b[0m\u001b[0;34m.\u001b[0m\u001b[0mlogLikelihood\u001b[0m\u001b[0;34m(\u001b[0m\u001b[0marrow\u001b[0m\u001b[0;34m(\u001b[0m\u001b[0mtstroke\u001b[0m\u001b[0;34m,\u001b[0m \u001b[0mtstroke\u001b[0m\u001b[0;34m)\u001b[0m\u001b[0;34m,\u001b[0m \u001b[0mp\u001b[0m\u001b[0;34m)\u001b[0m\u001b[0;34m)\u001b[0m\u001b[0;34m\u001b[0m\u001b[0;34m\u001b[0m\u001b[0m\n",
      "\u001b[0;32m/data1/code/python/ec/dreamcoder/grammar.py\u001b[0m in \u001b[0;36mlogLikelihood\u001b[0;34m(self, request, expression)\u001b[0m\n\u001b[1;32m    395\u001b[0m \u001b[0;34m\u001b[0m\u001b[0m\n\u001b[1;32m    396\u001b[0m     \u001b[0;32mdef\u001b[0m \u001b[0mlogLikelihood\u001b[0m\u001b[0;34m(\u001b[0m\u001b[0mself\u001b[0m\u001b[0;34m,\u001b[0m \u001b[0mrequest\u001b[0m\u001b[0;34m,\u001b[0m \u001b[0mexpression\u001b[0m\u001b[0;34m)\u001b[0m\u001b[0;34m:\u001b[0m\u001b[0;34m\u001b[0m\u001b[0;34m\u001b[0m\u001b[0m\n\u001b[0;32m--> 397\u001b[0;31m         \u001b[0msummary\u001b[0m \u001b[0;34m=\u001b[0m \u001b[0mself\u001b[0m\u001b[0;34m.\u001b[0m\u001b[0mclosedLikelihoodSummary\u001b[0m\u001b[0;34m(\u001b[0m\u001b[0mrequest\u001b[0m\u001b[0;34m,\u001b[0m \u001b[0mexpression\u001b[0m\u001b[0;34m)\u001b[0m\u001b[0;34m\u001b[0m\u001b[0;34m\u001b[0m\u001b[0m\n\u001b[0m\u001b[1;32m    398\u001b[0m         \u001b[0;32mif\u001b[0m \u001b[0msummary\u001b[0m \u001b[0;32mis\u001b[0m \u001b[0;32mNone\u001b[0m\u001b[0;34m:\u001b[0m\u001b[0;34m\u001b[0m\u001b[0;34m\u001b[0m\u001b[0m\n\u001b[1;32m    399\u001b[0m             eprint(\n",
      "\u001b[0;32m/data1/code/python/ec/dreamcoder/grammar.py\u001b[0m in \u001b[0;36mclosedLikelihoodSummary\u001b[0;34m(self, request, expression, silent)\u001b[0m\n\u001b[1;32m    383\u001b[0m     \u001b[0;32mdef\u001b[0m \u001b[0mclosedLikelihoodSummary\u001b[0m\u001b[0;34m(\u001b[0m\u001b[0mself\u001b[0m\u001b[0;34m,\u001b[0m \u001b[0mrequest\u001b[0m\u001b[0;34m,\u001b[0m \u001b[0mexpression\u001b[0m\u001b[0;34m,\u001b[0m \u001b[0msilent\u001b[0m\u001b[0;34m=\u001b[0m\u001b[0;32mFalse\u001b[0m\u001b[0;34m)\u001b[0m\u001b[0;34m:\u001b[0m\u001b[0;34m\u001b[0m\u001b[0;34m\u001b[0m\u001b[0m\n\u001b[1;32m    384\u001b[0m         \u001b[0;32mtry\u001b[0m\u001b[0;34m:\u001b[0m\u001b[0;34m\u001b[0m\u001b[0;34m\u001b[0m\u001b[0m\n\u001b[0;32m--> 385\u001b[0;31m             \u001b[0mcontext\u001b[0m\u001b[0;34m,\u001b[0m \u001b[0msummary\u001b[0m \u001b[0;34m=\u001b[0m \u001b[0mself\u001b[0m\u001b[0;34m.\u001b[0m\u001b[0mlikelihoodSummary\u001b[0m\u001b[0;34m(\u001b[0m\u001b[0mContext\u001b[0m\u001b[0;34m.\u001b[0m\u001b[0mEMPTY\u001b[0m\u001b[0;34m,\u001b[0m \u001b[0;34m[\u001b[0m\u001b[0;34m]\u001b[0m\u001b[0;34m,\u001b[0m \u001b[0mrequest\u001b[0m\u001b[0;34m,\u001b[0m \u001b[0mexpression\u001b[0m\u001b[0;34m,\u001b[0m \u001b[0msilent\u001b[0m\u001b[0;34m=\u001b[0m\u001b[0msilent\u001b[0m\u001b[0;34m)\u001b[0m\u001b[0;34m\u001b[0m\u001b[0;34m\u001b[0m\u001b[0m\n\u001b[0m\u001b[1;32m    386\u001b[0m         \u001b[0;32mexcept\u001b[0m \u001b[0mGrammarFailure\u001b[0m \u001b[0;32mas\u001b[0m \u001b[0me\u001b[0m\u001b[0;34m:\u001b[0m\u001b[0;34m\u001b[0m\u001b[0;34m\u001b[0m\u001b[0m\n\u001b[1;32m    387\u001b[0m             failureExport = 'failures/grammarFailure%s.pickle' % (\n",
      "\u001b[0;32m/data1/code/python/ec/dreamcoder/grammar.py\u001b[0m in \u001b[0;36mlikelihoodSummary\u001b[0;34m(self, context, environment, request, expression, silent)\u001b[0m\n\u001b[1;32m    274\u001b[0m                 \u001b[0meprint\u001b[0m\u001b[0;34m(\u001b[0m\u001b[0;34m\"xs\"\u001b[0m\u001b[0;34m,\u001b[0m \u001b[0mxs\u001b[0m\u001b[0;34m)\u001b[0m\u001b[0;34m\u001b[0m\u001b[0;34m\u001b[0m\u001b[0m\n\u001b[1;32m    275\u001b[0m                 \u001b[0meprint\u001b[0m\u001b[0;34m(\u001b[0m\u001b[0;34m\"environment\"\u001b[0m\u001b[0;34m,\u001b[0m \u001b[0menvironment\u001b[0m\u001b[0;34m)\u001b[0m\u001b[0;34m\u001b[0m\u001b[0;34m\u001b[0m\u001b[0m\n\u001b[0;32m--> 276\u001b[0;31m                 \u001b[0;32massert\u001b[0m \u001b[0;32mFalse\u001b[0m\u001b[0;34m\u001b[0m\u001b[0;34m\u001b[0m\u001b[0m\n\u001b[0m\u001b[1;32m    277\u001b[0m             \u001b[0;32mreturn\u001b[0m \u001b[0mcontext\u001b[0m\u001b[0;34m,\u001b[0m \u001b[0;32mNone\u001b[0m\u001b[0;34m\u001b[0m\u001b[0;34m\u001b[0m\u001b[0m\n\u001b[1;32m    278\u001b[0m \u001b[0;34m\u001b[0m\u001b[0m\n",
      "\u001b[0;31mAssertionError\u001b[0m: "
     ]
    }
   ],
   "source": [
    "## [IMPORTANT] NOT SURE WHY THIS DOESNT WORK. why can't get log likeli for the program given that I have given\n",
    "# that program already as a primitive.\n",
    "\n",
    "old_primitives = primitives\n",
    "extra_primitives = [\n",
    "    Primitive(\"#(lambda (connect $0 circle))\", arrow(tstroke, tstroke), Invented(Program.parseHumanReadable(\"(lambda (k) (connect (k) circle))\"))),\n",
    "]\n",
    "\n",
    "new_primitives = old_primitives + extra_primitives\n",
    "\n",
    "\n",
    "# 1) get grammars\n",
    "g1 = Grammar.uniform(new_primitives)\n",
    "\n",
    "\n",
    "## get likeli for a program with holes\n",
    "s = \"(lambda (x) (connect (x) circle))\"\n",
    "p = Invented(Program.parseHumanReadable(s))\n",
    "# p = Program.parseHumanReadable(s)\n",
    "\n",
    "# BOTH OF these dont work..\n",
    "print(g1.logLikelihood(tstroke, p))\n",
    "print(g1.logLikelihood(arrow(tstroke, tstroke), p))"
   ]
  },
  {
   "cell_type": "code",
   "execution_count": null,
   "metadata": {},
   "outputs": [],
   "source": [
    "## [IMPORTANT] THIS WALKS THROUGH GET LL FOR AN ABSTRACTION\n",
    "## TRYING TO UNDERSTAND HOW CONTEXT AND ENVIRONMENT WORK.\n",
    "\n",
    "old_primitives = primitives\n",
    "extra_primitives = [\n",
    "    Primitive(\"#(lambda (connect $0 circle))\", arrow(tstroke, tstroke), Invented(Program.parseHumanReadable(\"(lambda (k) (connect (k) circle))\"))),\n",
    "]\n",
    "\n",
    "new_primitives = old_primitives + extra_primitives\n",
    "\n",
    "\n",
    "# 1) get grammars\n",
    "g1 = Grammar.uniform(new_primitives)\n",
    "\n",
    "\n",
    "## get likeli for a program with holes\n",
    "s = \"(lambda (x) (connect (x) circle))\"\n",
    "# p = Invented(Program.parseHumanReadable(s))\n",
    "p = Program.parseHumanReadable(s)\n",
    "\n",
    "# BOTH OF these dont work..\n",
    "# print(g1.logLikelihood(tstroke, p))\n",
    "print(g1.logLikelihood(arrow(tstroke, tstroke), p))"
   ]
  },
  {
   "cell_type": "code",
   "execution_count": 139,
   "metadata": {},
   "outputs": [
    {
     "data": {
      "text/plain": [
       "(lambda (reflect emptystroke angle4))"
      ]
     },
     "execution_count": 139,
     "metadata": {},
     "output_type": "execute_result"
    }
   ],
   "source": [
    "## WALKING THROUGH SAMPLING\n",
    "\n",
    "\n",
    "g1.sample(request=arrow(arrow(tstroke, tstroke), tstroke), maximumDepth=5)\n",
    "\n",
    "# g1._sample(request=tstroke, context=[tstroke], environment=[], maximumDepth=2)"
   ]
  },
  {
   "cell_type": "code",
   "execution_count": 45,
   "metadata": {},
   "outputs": [
    {
     "name": "stdout",
     "output_type": "stream",
     "text": [
      "<class 'dreamcoder.program.Abstraction'>\n",
      "--\n",
      "context: Context(next = 0, {})\n",
      "env: []\n",
      "reqyest: tstroke -> tstroke\n",
      "[tstroke, tstroke]\n",
      "(connect $0 circle)\n",
      "-6.591673732008658\n"
     ]
    }
   ],
   "source": [
    "##  SCRATCH NOTES.\n",
    "arrow(arrow(tstroke, tstroke), tstroke).returns()\n",
    "\n",
    "from dreamcoder.frontier import *\n",
    "from dreamcoder.program import *\n",
    "from dreamcoder.type import *\n",
    "from dreamcoder.utilities import *\n",
    "Context"
   ]
  },
  {
   "cell_type": "code",
   "execution_count": 6,
   "metadata": {},
   "outputs": [
    {
     "data": {
      "text/plain": [
       "<matplotlib.axes._axes.Axes at 0x7fcf74f6d590>"
      ]
     },
     "execution_count": 6,
     "metadata": {},
     "output_type": "execute_result"
    },
    {
     "data": {
      "image/png": "[encoded data removed]",
      "text/plain": [
       "<Figure size 216x216 with 1 Axes>"
      ]
     },
     "metadata": {
      "needs_background": "light"
     },
     "output_type": "display_data"
    },
    {
     "data": {
      "image/png": "[encoded data removed]",
      "text/plain": [
       "<Figure size 216x216 with 1 Axes>"
      ]
     },
     "metadata": {
      "needs_background": "light"
     },
     "output_type": "display_data"
    },
    {
     "data": {
      "image/png": "[encoded data removed]",
      "text/plain": [
       "<Figure size 216x216 with 1 Axes>"
      ]
     },
     "metadata": {
      "needs_background": "light"
     },
     "output_type": "display_data"
    }
   ],
   "source": [
    "# How to encode programs and evaluate them\n",
    "\n",
    "p = Program.parseHumanReadable(\"(connect line circle)\")\n",
    "plot(p.runWithArguments([]))\n",
    "\n",
    "p = Program.parseHumanReadable(\"(lambda (k) (connect (k) circle))\")\n",
    "plot(p.runWithArguments([primitives[3].evaluate([])]))\n",
    "\n",
    "p = Program.parseHumanReadable(\"(lambda (k) (lambda (l) (connect (k) (l))))\")\n",
    "plot(p.runWithArguments([primitives[3].evaluate([]), primitives[4].evaluate([])]))"
   ]
  },
  {
   "cell_type": "code",
   "execution_count": null,
   "metadata": {},
   "outputs": [],
   "source": [
    "p = Program.parse(\"(#(lambda (transmat None None ( $0) None None)))\")"
   ]
  },
  {
   "cell_type": "code",
   "execution_count": 192,
   "metadata": {},
   "outputs": [],
   "source": [
    "# THREE WAYS TO WRITE SAME THING\n",
    "\n",
    "p1 = Invented(Abstraction(Program.parse(\"(connect line circle)\")))\n",
    "\n",
    "p2 = Program.parse(\"#(lambda (connect line circle))\")\n",
    "\n",
    "p3 = Invented(Program.parseHumanReadable(\"(lambda (k) (connect line circle))\"))\n",
    "\n",
    "p4 = Invented(Abstraction(Program.parseHumanReadable(\"(connect line circle)\")))\n",
    "\n",
    "assert p1==p2\n",
    "assert p2==p3\n",
    "assert p3==p4"
   ]
  },
  {
   "cell_type": "code",
   "execution_count": 166,
   "metadata": {},
   "outputs": [],
   "source": [
    "# THREE WAYS TO WRITE SAME THING [INCLUDING HOLES]\n",
    "\n",
    "# p1 = Invented(Abstraction(Program.parse(\"(connect line circle)\")))\n",
    "\n",
    "p2 = Program.parse(\"#(lambda (lambda (connect $1 $0)))\")\n",
    "p3 = Invented(Program.parseHumanReadable(\"(lambda (k) (lambda (l) (connect (k) (l))))\"))\n",
    "\n",
    "\n",
    "# p4 = Invented(Abstraction(Program.parseHumanReadable(\"(connect line circle)\")))\n",
    "\n",
    "# assert p1==p2\n",
    "assert p2==p3\n",
    "# assert p3==p4"
   ]
  },
  {
   "cell_type": "code",
   "execution_count": 169,
   "metadata": {},
   "outputs": [
    {
     "data": {
      "text/plain": [
       "-9.729550745276565"
      ]
     },
     "execution_count": 169,
     "metadata": {},
     "output_type": "execute_result"
    }
   ],
   "source": [
    "g.logLikelihood(tstroke, Program.parse(\"(connect line (connect circle line))\"))"
   ]
  },
  {
   "cell_type": "code",
   "execution_count": null,
   "metadata": {},
   "outputs": [],
   "source": [
    "\n",
    "## for hand building generative model (e.g., the ground truth model)\n",
    "\n",
    "(lambda (vline x y z) (connect vline (connect (transform x .... (connect y (connect z)))))\n",
    "\n",
    "Program.parseHumanReadable(\"(lambda (connect x y z) (connect x (connect y (connect z))))\")\n",
    "(lambda (lambda (lambda (lambda ($3 $2 ($3 $1 ($3 $0)))))))\n",
    "\n",
    "p = Invented(Program.parseHR(...))\n",
    "\n",
    "\n",
    "\n",
    "g = Grammar.uniform(primitives+[p])\n",
    "\n",
    "\n",
    "1. run on test tasks\n",
    "2. run on traiing?\n",
    "\n",
    "======================\n",
    "getting prior score.\n",
    "\n",
    "\n",
    "\n",
    "\n"
   ]
  },
  {
   "cell_type": "code",
   "execution_count": 182,
   "metadata": {},
   "outputs": [
    {
     "data": {
      "text/plain": [
       "(lambda (lambda (lambda (lambda ($3 $2 ($3 $1 ($3 $0)))))))"
      ]
     },
     "execution_count": 182,
     "metadata": {},
     "output_type": "execute_result"
    }
   ],
   "source": [
    "Program.parseHumanReadable(\"(lambda (connect x y z) (connect x (connect y (connect z))))\")\n",
    "# (lambda (lambda (lambda (lambda ($3 $2 ($3 $1 ($3 $0)))))))\n"
   ]
  },
  {
   "cell_type": "code",
   "execution_count": null,
   "metadata": {},
   "outputs": [],
   "source": []
  },
  {
   "cell_type": "code",
   "execution_count": null,
   "metadata": {},
   "outputs": [],
   "source": [
    "Invented(Abstraction(...))\n"
   ]
  },
  {
   "cell_type": "code",
   "execution_count": null,
   "metadata": {},
   "outputs": [],
   "source": [
    "# to score\n",
    "p = Program.parse(\"(connect circle line)\")\n",
    "g.logLikehood(<type>, p)\n"
   ]
  }
 ],
 "metadata": {
  "kernelspec": {
   "display_name": "Python 3",
   "language": "python",
   "name": "python3"
  },
  "language_info": {
   "codemirror_mode": {
    "name": "ipython",
    "version": 3
   },
   "file_extension": ".py",
   "mimetype": "text/x-python",
   "name": "python",
   "nbconvert_exporter": "python",
   "pygments_lexer": "ipython3",
   "version": "3.7.4"
  }
 },
 "nbformat": 4,
 "nbformat_minor": 2
}
