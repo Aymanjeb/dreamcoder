{
 "cells": [
  {
   "cell_type": "code",
   "execution_count": 1,
   "metadata": {},
   "outputs": [],
   "source": [
    "import os\n",
    "def run_job(script_path,\n",
    "            arguments, \n",
    "            name=\"dreamcoder\", \n",
    "            partition=None, \n",
    "            n_cpus=32, ram=\"150\", #150\n",
    "            time=\"167:00:00\", #120 \n",
    "            label=\"\"):\n",
    "    s = \"\"\n",
    "\n",
    "    s += f\" --job-name={name}\"\n",
    "    s += f\" --time={time}\"\n",
    "    \n",
    "    if partition is not None:\n",
    "        s += f\" --partition={partition}\"\n",
    "        \n",
    "\n",
    "    s += f\" --nodes=1\"\n",
    "    s += f\" --cpus-per-task={n_cpus}\"\n",
    "    s += f\" --mem={ram}\"\n",
    "    \n",
    "    if partition ==\"gpu\":\n",
    "        s += \" --gres=gpu:1\"\n",
    "        \n",
    "    s += f\" --output=logs/tjob_{label}_%A_%a_out.txt\"\n",
    "    s += f\" --error=logs/tjob_{label}_%A_%a_err.txt\"\n",
    "\n",
    "    s += f\" -D {os.getcwd()}\"\n",
    "\n",
    "    # -- Beginning of the sh script to run the job\n",
    "    s += \" --wrap=\\\"\"\n",
    "    s += \"source ~/.bashrc;\"\n",
    "\n",
    "    s += \"echo 'jobid $SLURM_JOB_ID';\"\n",
    "    s += \"conda activate dc2;\"\n",
    "    s += f\"{script_path} {arguments}\"\n",
    "    s += \"\\\"\"\n",
    "    # -- End of sh script\n",
    "\n",
    "    print(s)\n",
    "    os.system(f\"sbatch {s}\")"
   ]
  },
  {
   "cell_type": "code",
   "execution_count": 3,
   "metadata": {},
   "outputs": [
    {
     "name": "stdout",
     "output_type": "stream",
     "text": [
      " --job-name=dreamcoder --time=167:00:00 --nodes=1 --cpus-per-task=32 --mem=150 --output=logs/tjob_3qubit_%A_%a_out.txt --error=logs/tjob_3qubit_%A_%a_err.txt -D /zeropoint/u/lsarra/notebooks/unitary-synthesis/ec --wrap=\"source ~/.bashrc;echo 'jobid $SLURM_JOB_ID';conda activate dc2;./bin/quantum_circuits.py  --nqubit 3\"\n",
      "Submitted batch job 6686316\n"
     ]
    }
   ],
   "source": [
    "script_path = \"./bin/quantum_circuits.py\"\n",
    "arguments = \"\"\n",
    "# arguments += \" --fromGrammar full3-grammar\"\n",
    "arguments += \" --nqubit 3\"\n",
    "# arguments += \" --limitedConnectivity\"\n",
    "# arguments += \" --pseudoCounts 100\"\n",
    "# arguments += \" --structurePenalty 3\"\n",
    "# arguments += \" --enumerationTimeout 300\"\n",
    "# arguments += \" --resume 'experimentOutputs/quantum/2023-04-08T11:01:59.834537/'\"\n",
    "# Final '/' is important\n",
    "run_job(script_path, arguments, label=\"3qubit\")"
   ]
  },
  {
   "cell_type": "code",
   "execution_count": null,
   "metadata": {},
   "outputs": [],
   "source": []
  }
 ],
 "metadata": {
  "kernelspec": {
   "display_name": "dc2",
   "language": "python",
   "name": "python3"
  },
  "language_info": {
   "codemirror_mode": {
    "name": "ipython",
    "version": 3
   },
   "file_extension": ".py",
   "mimetype": "text/x-python",
   "name": "python",
   "nbconvert_exporter": "python",
   "pygments_lexer": "ipython3",
   "version": "3.8.13"
  },
  "orig_nbformat": 4
 },
 "nbformat": 4,
 "nbformat_minor": 2
}
