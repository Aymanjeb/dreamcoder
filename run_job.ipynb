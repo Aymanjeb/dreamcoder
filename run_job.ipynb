{
 "cells": [
  {
   "cell_type": "code",
   "execution_count": 1,
   "metadata": {},
   "outputs": [],
   "source": [
    "import os\n",
    "def run_job(script_path,\n",
    "            arguments, \n",
    "            name=\"dreamcoder\", \n",
    "            partition=None, \n",
    "            n_cpus=32, ram=\"150GB\",\n",
    "            time=\"120:00:00\", \n",
    "            label=\"\"):\n",
    "    s = \"\"\n",
    "\n",
    "    s += f\" --job-name={name}\"\n",
    "    s += f\" --time={time}\"\n",
    "    \n",
    "    if partition is not None:\n",
    "        s += f\" --partition={partition}\"\n",
    "        \n",
    "\n",
    "    s += f\" --nodes=1\"\n",
    "    s += f\" --cpus-per-task={n_cpus}\"\n",
    "    s += f\" --mem={ram}\"\n",
    "    \n",
    "    if partition ==\"gpu\":\n",
    "        s += \" --gres=gpu:1\"\n",
    "        \n",
    "    s += f\" --output=logs/tjob_{label}_%A_%a_out.txt\"\n",
    "    s += f\" --error=logs/tjob_{label}_%A_%a_err.txt\"\n",
    "\n",
    "    s += f\" -D {os.getcwd()}\"\n",
    "\n",
    "    # -- Beginning of the sh script to run the job\n",
    "    s += \" --wrap=\\\"\"\n",
    "    s += \"source ~/.bashrc;\"\n",
    "\n",
    "    s += \"echo 'jobid $SLURM_JOB_ID';\"\n",
    "    s += \"conda activate dc2;\"\n",
    "    s += f\"{script_path} {arguments}\"\n",
    "    s += \"\\\"\"\n",
    "    # -- End of sh script\n",
    "\n",
    "    print(s)\n",
    "    os.system(f\"sbatch {s}\")"
   ]
  },
  {
   "cell_type": "code",
   "execution_count": 2,
   "metadata": {},
   "outputs": [
    {
     "name": "stdout",
     "output_type": "stream",
     "text": [
      " --job-name=dreamcoder --time=120:00:00 --nodes=1 --cpus-per-task=32 --mem=150GB --output=logs/tjob_mlonger4_lesstasks_%A_%a_out.txt --error=logs/tjob_mlonger4_lesstasks_%A_%a_err.txt -D /zeropoint/u/lsarra/notebooks/unitary-synthesis/ec --wrap=\"source ~/.bashrc;echo 'jobid $SLURM_JOB_ID';conda activate dc2;./bin/quantum_circuits.py \"\n",
      "Submitted batch job 166265\n"
     ]
    }
   ],
   "source": [
    "script_path = \"./bin/quantum_circuits.py\"\n",
    "# arguments = \" --limitedConnectivity\"\n",
    "arguments = \"\"\n",
    "# arguments = \"--resume 'experimentOutputs/quantum/2022-07-11T14:47:45.794572/'\"\n",
    "run_job(script_path, arguments, label=\"mlonger4_lesstasks\")"
   ]
  },
  {
   "cell_type": "code",
   "execution_count": null,
   "metadata": {},
   "outputs": [],
   "source": []
  }
 ],
 "metadata": {
  "kernelspec": {
   "display_name": "Python 3.8.13 ('dc2')",
   "language": "python",
   "name": "python3"
  },
  "language_info": {
   "codemirror_mode": {
    "name": "ipython",
    "version": 3
   },
   "file_extension": ".py",
   "mimetype": "text/x-python",
   "name": "python",
   "nbconvert_exporter": "python",
   "pygments_lexer": "ipython3",
   "version": "3.8.13"
  },
  "orig_nbformat": 4,
  "vscode": {
   "interpreter": {
    "hash": "21ea1a886259afbd8a118ef6898db29b8a19fae78d92613d0ae3d877be73df6a"
   }
  }
 },
 "nbformat": 4,
 "nbformat_minor": 2
}
