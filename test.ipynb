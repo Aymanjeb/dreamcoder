{
 "cells": [
  {
   "cell_type": "code",
   "execution_count": 2,
   "metadata": {},
   "outputs": [],
   "source": [
    "## loading checkpoint files\n",
    "\n",
    "%load_ext autoreload\n",
    "%autoreload 2\n",
    "\n",
    "from bin.graphs import *"
   ]
  },
  {
   "cell_type": "code",
   "execution_count": 3,
   "metadata": {},
   "outputs": [
    {
     "name": "stdout",
     "output_type": "stream",
     "text": [
      "ECResult(frontiersOverTime={Task(name=task0, request=tstroke, examples=[]: [Frontier(entries=[FrontierEntry(program=(connect circle line), logPrior=-5.375278407684165, logLikelihood=0.0, FrontierEntry(program=(connect line circle), logPrior=-5.375278407684165, logLikelihood=0.0, FrontierEntry(program=(connect (reflect circle angle0) line), logPrior=-9.469622969906265, logLikelihood=0.0, FrontierEntry(program=(connect (reflect circle angle4) line), logPrior=-9.469622969906265, logLikelihood=0.0, FrontierEntry(program=(connect (reflect line angle4) circle), logPrior=-9.469622969906265, logLikelihood=0.0], task=task0), Frontier(entries=[FrontierEntry(program=(connect circle line), logPrior=-12.20231696636205, logLikelihood=0.0, FrontierEntry(program=(connect line circle), logPrior=-12.20231696636205, logLikelihood=0.0, FrontierEntry(program=(connect (reflect circle angle4) line), logPrior=-19.33830992460703, logLikelihood=0.0, FrontierEntry(program=(connect (reflect line angle4) circle), logPrior=-19.33830992460703, logLikelihood=0.0, FrontierEntry(program=(connect (reflect circle angle0) line), logPrior=-19.33835046080106, logLikelihood=0.0], task=task0), Frontier(entries=[FrontierEntry(program=(#(lambda (connect $0 line)) circle), logPrior=-8.269480072829184, logLikelihood=0.0, FrontierEntry(program=(connect line circle), logPrior=-12.76514535322926, logLikelihood=0.0, FrontierEntry(program=(connect circle line), logPrior=-12.765145353229261, logLikelihood=0.0, FrontierEntry(program=(#(lambda ($0 (Some dist7) None)) (lambda (lambda (#(lambda (connect $0 line)) circle)))), logPrior=-13.085487180966233, logLikelihood=0.0, FrontierEntry(program=(#(lambda ($0 (transmat None) (Some dist7) None)) (lambda (lambda (lambda (#(lambda (connect $0 line)) circle))))), logPrior=-13.085487180966233, logLikelihood=0.0], task=task0), Frontier(entries=[FrontierEntry(program=(#(lambda (connect $0 line)) circle), logPrior=-8.32550668577751, logLikelihood=0.0, FrontierEntry(program=(connect circle line), logPrior=-12.845922168032411, logLikelihood=0.0, FrontierEntry(program=(connect line circle), logPrior=-12.845922168032411, logLikelihood=0.0, FrontierEntry(program=(#(lambda ($0 (Some rst))) (lambda (#(lambda (connect $0 line)) circle))), logPrior=-13.111343897174564, logLikelihood=0.0, FrontierEntry(program=(#(lambda (connect $0 line)) (#(lambda ($0 (Some rst))) (lambda circle))), logPrior=-13.111343897174564, logLikelihood=0.0], task=task0), Frontier(entries=[FrontierEntry(program=(#(lambda (connect $0 line)) circle), logPrior=-8.32550668577751, logLikelihood=0.0, FrontierEntry(program=(connect circle line), logPrior=-12.845922168032411, logLikelihood=0.0, FrontierEntry(program=(connect line circle), logPrior=-12.845922168032411, logLikelihood=0.0, FrontierEntry(program=(#(lambda ($0 (Some rst))) (lambda (#(lambda (connect $0 line)) circle))), logPrior=-13.111343897174564, logLikelihood=0.0, FrontierEntry(program=(#(lambda (connect $0 line)) (#(lambda ($0 (Some rst))) (lambda circle))), logPrior=-13.111343897174564, logLikelihood=0.0], task=task0), Frontier(entries=[FrontierEntry(program=(#(lambda (connect $0 line)) circle), logPrior=-8.32550668577751, logLikelihood=0.0, FrontierEntry(program=(connect circle line), logPrior=-12.845922168032411, logLikelihood=0.0, FrontierEntry(program=(connect line circle), logPrior=-12.845922168032411, logLikelihood=0.0, FrontierEntry(program=(#(lambda ($0 (Some rst))) (lambda (#(lambda (connect $0 line)) circle))), logPrior=-13.111343897174564, logLikelihood=0.0, FrontierEntry(program=(#(lambda (connect $0 line)) (#(lambda ($0 (Some rst))) (lambda circle))), logPrior=-13.111343897174564, logLikelihood=0.0], task=task0)], Task(name=task1, request=tstroke, examples=[]: [Frontier(entries=[FrontierEntry(program=(transform line (transmat None None (Some dist6) None None)), logPrior=-9.614204198717372, logLikelihood=0.0, FrontierEntry(program=(transform line (transmat None None (Some dist6) None (Some rst))), logPrior=-11.405963667945429, logLikelihood=0.0, FrontierEntry(program=(transform line (transmat None None (Some dist6) None (Some rts))), logPrior=-11.405963667945429, logLikelihood=0.0, FrontierEntry(program=(transform line (transmat None None (Some dist6) None (Some srt))), logPrior=-11.405963667945429, logLikelihood=0.0, FrontierEntry(program=(transform line (transmat None None (Some dist6) None (Some str))), logPrior=-11.405963667945429, logLikelihood=0.0], task=task1), Frontier(entries=[FrontierEntry(program=(#(lambda (transform line (transmat None None ($0 Some) None None))) (lambda ($0 dist6))), logPrior=-9.39414724239138, logLikelihood=0.0, FrontierEntry(program=(#(lambda (transform line (transmat None None ($0 Some) None None))) (lambda (Some dist6))), logPrior=-9.638820653393193, logLikelihood=0.0, FrontierEntry(program=(#(lambda (lambda (transform line (transmat $0 None (Some $1) None None)))) dist6 None), logPrior=-9.80652126739982, logLikelihood=0.0, FrontierEntry(program=(#(lambda (lambda (transform line (transmat $1 None (Some $0) None None)))) None dist6), logPrior=-9.80652126739982, logLikelihood=0.0, FrontierEntry(program=(#(lambda (lambda (transform line (transmat None $0 (Some $1) None None)))) dist6 None), logPrior=-9.80652126739982, logLikelihood=0.0], task=task1), Frontier(entries=[FrontierEntry(program=(#(lambda (transform line (transmat None None ($0 Some) None None))) (lambda ($0 dist6))), logPrior=-9.532161203999213, logLikelihood=0.0, FrontierEntry(program=(#(lambda (transform line (transmat None None ($0 Some) None None))) (lambda (Some dist6))), logPrior=-9.826088148629893, logLikelihood=0.0, FrontierEntry(program=(#(lambda (lambda (transform line (transmat None None (Some $0) None (Some $1))))) rst dist6), logPrior=-10.014857925424781, logLikelihood=0.0, FrontierEntry(program=(#(lambda (lambda (transform line (transmat None None (Some $0) None (Some $1))))) srt dist6), logPrior=-10.014857925424781, logLikelihood=0.0, FrontierEntry(program=(#(lambda (lambda (transform line (transmat None None (Some $0) None (Some $1))))) str dist6), logPrior=-10.014857925424781, logLikelihood=0.0], task=task1), Frontier(entries=[FrontierEntry(program=#(#(lambda (transform line (transmat None None ($0 Some) None None))) (lambda (Some dist6))), logPrior=-4.163798047169719, logLikelihood=0.0, FrontierEntry(program=(#(lambda ($0 (Some rst))) (lambda #(#(lambda (transform line (transmat None None ($0 Some) None None))) (lambda (Some dist6))))), logPrior=-8.949635258566772, logLikelihood=0.0, FrontierEntry(program=(#(lambda ($0 (Some dist7) None)) (lambda (lambda #(#(lambda (transform line (transmat None None ($0 Some) None None))) (lambda (Some dist6)))))), logPrior=-8.950120452135119, logLikelihood=0.0, FrontierEntry(program=(#(lambda ($0 (transmat None) (Some dist7) None)) (lambda (lambda (lambda #(#(lambda (transform line (transmat None None ($0 Some) None None))) (lambda (Some dist6))))))), logPrior=-8.950120452135119, logLikelihood=0.0, FrontierEntry(program=(#(lambda ($0 None Some)) (lambda (lambda #(#(lambda (transform line (transmat None None ($0 Some) None None))) (lambda (Some dist6)))))), logPrior=-8.950947526609024, logLikelihood=0.0], task=task1), Frontier(entries=[FrontierEntry(program=#(#(lambda (transform line (transmat None None ($0 Some) None None))) (lambda (Some dist6))), logPrior=-4.163798047169719, logLikelihood=0.0, FrontierEntry(program=(#(lambda ($0 (Some rst))) (lambda #(#(lambda (transform line (transmat None None ($0 Some) None None))) (lambda (Some dist6))))), logPrior=-8.949635258566772, logLikelihood=0.0, FrontierEntry(program=(#(lambda ($0 (Some dist7) None)) (lambda (lambda #(#(lambda (transform line (transmat None None ($0 Some) None None))) (lambda (Some dist6)))))), logPrior=-8.950120452135119, logLikelihood=0.0, FrontierEntry(program=(#(lambda ($0 (transmat None) (Some dist7) None)) (lambda (lambda (lambda #(#(lambda (transform line (transmat None None ($0 Some) None None))) (lambda (Some dist6))))))), logPrior=-8.950120452135119, logLikelihood=0.0, FrontierEntry(program=(#(lambda ($0 None Some)) (lambda (lambda #(#(lambda (transform line (transmat None None ($0 Some) None None))) (lambda (Some dist6)))))), logPrior=-8.950947526609024, logLikelihood=0.0], task=task1), Frontier(entries=[FrontierEntry(program=#(#(lambda (transform line (transmat None None ($0 Some) None None))) (lambda (Some dist6))), logPrior=-4.163798047169719, logLikelihood=0.0, FrontierEntry(program=(#(lambda ($0 (Some rst))) (lambda #(#(lambda (transform line (transmat None None ($0 Some) None None))) (lambda (Some dist6))))), logPrior=-8.949635258566772, logLikelihood=0.0, FrontierEntry(program=(#(lambda ($0 (Some dist7) None)) (lambda (lambda #(#(lambda (transform line (transmat None None ($0 Some) None None))) (lambda (Some dist6)))))), logPrior=-8.950120452135119, logLikelihood=0.0, FrontierEntry(program=(#(lambda ($0 (transmat None) (Some dist7) None)) (lambda (lambda (lambda #(#(lambda (transform line (transmat None None ($0 Some) None None))) (lambda (Some dist6))))))), logPrior=-8.950120452135119, logLikelihood=0.0, FrontierEntry(program=(#(lambda ($0 None Some)) (lambda (lambda #(#(lambda (transform line (transmat None None ($0 Some) None None))) (lambda (Some dist6)))))), logPrior=-8.950947526609024, logLikelihood=0.0], task=task1)], Task(name=task2, request=tstroke, examples=[]: [Frontier(entries=[FrontierEntry(program=(transform line (transmat None (Some angle2) (Some dist6) None None)), logPrior=-11.916789291711417, logLikelihood=0.0, FrontierEntry(program=(reflect (transform line (transmat None None None (Some dist6) None)) angle1), logPrior=-13.708548760939472, logLikelihood=0.0, FrontierEntry(program=(reflect (transform line (transmat None None None (Some dist6) None)) angle5), logPrior=-13.708548760939472, logLikelihood=0.0, FrontierEntry(program=(transform (reflect line angle1) (transmat None None (Some dist6) None None)), logPrior=-13.708548760939474, logLikelihood=0.0, FrontierEntry(program=(transform (reflect line angle5) (transmat None None (Some dist6) None None)), logPrior=-13.708548760939474, logLikelihood=0.0], task=task2), Frontier(entries=[FrontierEntry(program=(#(lambda (lambda (transform line (transmat None $0 (Some $1) None None)))) dist6 (Some angle2)), logPrior=-12.277086281640404, logLikelihood=0.0, FrontierEntry(program=(#(lambda (lambda (transform line (transmat None $1 (Some $0) None None)))) (Some angle2) dist6), logPrior=-12.277086281640404, logLikelihood=0.0, FrontierEntry(program=(#(lambda (lambda (transform line (transmat None $0 $1 None None)))) (Some dist6) (Some angle2)), logPrior=-14.5269399571722, logLikelihood=0.0, FrontierEntry(program=(#(lambda (lambda (transform line (transmat None $1 $0 None None)))) (Some angle2) (Some dist6)), logPrior=-14.5269399571722, logLikelihood=0.0, FrontierEntry(program=(transform line (#(lambda (lambda (lambda (transmat $1 $0 (Some $2) None None)))) dist6 None (Some angle2))), logPrior=-21.995654389243327, logLikelihood=0.0], task=task2), Frontier(entries=[FrontierEntry(program=(#(lambda (lambda (transform line (transmat None $0 (Some $1) None None)))) dist6 (Some angle2)), logPrior=-12.696940712709209, logLikelihood=0.0, FrontierEntry(program=(#(lambda (lambda (transform line (transmat None $1 (Some $0) None None)))) (Some angle2) dist6), logPrior=-12.727546870132038, logLikelihood=0.0, FrontierEntry(program=(#(lambda (lambda (transform line (transmat None $0 $1 None None)))) (Some dist6) (Some angle2)), logPrior=-15.420706363409199, logLikelihood=0.0, FrontierEntry(program=(#(lambda (lambda (transform line (transmat None $1 $0 None None)))) (Some angle2) (Some dist6)), logPrior=-15.420706363409199, logLikelihood=0.0, FrontierEntry(program=(transform line (#(lambda (lambda (lambda (transmat $1 $0 (Some $2) None None)))) dist6 None (Some angle2))), logPrior=-23.33171762334805, logLikelihood=0.0], task=task2), Frontier(entries=[FrontierEntry(program=(#(lambda (lambda (transform line (transmat None $0 (Some $1) None None)))) dist6 (Some angle2)), logPrior=-12.815153548423888, logLikelihood=0.0, FrontierEntry(program=(#(lambda (lambda (transform line (transmat None $1 (Some $0) None None)))) (Some angle2) dist6), logPrior=-12.81515354842389, logLikelihood=0.0, FrontierEntry(program=(#(lambda (lambda (transform line (transmat None $0 $1 None None)))) (Some dist6) (Some angle2)), logPrior=-15.49393490727319, logLikelihood=0.0, FrontierEntry(program=(#(lambda (lambda (transform line (transmat None $1 $0 None None)))) (Some angle2) (Some dist6)), logPrior=-15.498264319269614, logLikelihood=0.0, FrontierEntry(program=(transform line (#(lambda (lambda (lambda (transmat $1 $0 (Some $2) None None)))) dist6 None (Some angle2))), logPrior=-23.42596217028659, logLikelihood=0.0], task=task2), Frontier(entries=[FrontierEntry(program=(#(lambda (lambda (transform line (transmat None $0 (Some $1) None None)))) dist6 (Some angle2)), logPrior=-12.815153548423888, logLikelihood=0.0, FrontierEntry(program=(#(lambda (lambda (transform line (transmat None $1 (Some $0) None None)))) (Some angle2) dist6), logPrior=-12.81515354842389, logLikelihood=0.0, FrontierEntry(program=(#(lambda (lambda (transform line (transmat None $0 $1 None None)))) (Some dist6) (Some angle2)), logPrior=-15.49393490727319, logLikelihood=0.0, FrontierEntry(program=(#(lambda (lambda (transform line (transmat None $1 $0 None None)))) (Some angle2) (Some dist6)), logPrior=-15.498264319269614, logLikelihood=0.0, FrontierEntry(program=(transform line (#(lambda (lambda (lambda (transmat $1 $0 (Some $2) None None)))) dist6 None (Some angle2))), logPrior=-23.42596217028659, logLikelihood=0.0], task=task2), Frontier(entries=[FrontierEntry(program=(#(lambda (lambda (transform line (transmat None $0 (Some $1) None None)))) dist6 (Some angle2)), logPrior=-12.815153548423888, logLikelihood=0.0, FrontierEntry(program=(#(lambda (lambda (transform line (transmat None $1 (Some $0) None None)))) (Some angle2) dist6), logPrior=-12.81515354842389, logLikelihood=0.0, FrontierEntry(program=(#(lambda (lambda (transform line (transmat None $0 $1 None None)))) (Some dist6) (Some angle2)), logPrior=-15.49393490727319, logLikelihood=0.0, FrontierEntry(program=(#(lambda (lambda (transform line (transmat None $1 $0 None None)))) (Some angle2) (Some dist6)), logPrior=-15.498264319269614, logLikelihood=0.0, FrontierEntry(program=(transform line (#(lambda (lambda (lambda (transmat $1 $0 (Some $2) None None)))) dist6 None (Some angle2))), logPrior=-23.42596217028659, logLikelihood=0.0], task=task2)], Task(name=task3, request=tstroke, examples=[]: [Frontier(entries=[FrontierEntry(program=(transform line (transmat None None (Some dist7) None None)), logPrior=-9.614204198717372, logLikelihood=0.0, FrontierEntry(program=(transform line (transmat None None (Some dist7) None (Some rst))), logPrior=-11.405963667945429, logLikelihood=0.0, FrontierEntry(program=(transform line (transmat None None (Some dist7) None (Some rts))), logPrior=-11.405963667945429, logLikelihood=0.0, FrontierEntry(program=(transform line (transmat None None (Some dist7) None (Some srt))), logPrior=-11.405963667945429, logLikelihood=0.0, FrontierEntry(program=(transform line (transmat None None (Some dist7) None (Some str))), logPrior=-11.405963667945429, logLikelihood=0.0], task=task3), Frontier(entries=[FrontierEntry(program=(#(lambda (transform line (transmat None None ($0 Some) None None))) (lambda ($0 dist7))), logPrior=-9.404267501237971, logLikelihood=0.0, FrontierEntry(program=(#(lambda (transform line (transmat None None ($0 Some) None None))) (lambda (Some dist7))), logPrior=-9.648940912239784, logLikelihood=0.0, FrontierEntry(program=(#(lambda (lambda (transform line (transmat $0 None (Some $1) None None)))) dist7 None), logPrior=-9.816641526246414, logLikelihood=0.0, FrontierEntry(program=(#(lambda (lambda (transform line (transmat $1 None (Some $0) None None)))) None dist7), logPrior=-9.816641526246414, logLikelihood=0.0, FrontierEntry(program=(#(lambda (lambda (transform line (transmat None $0 (Some $1) None None)))) dist7 None), logPrior=-9.816641526246414, logLikelihood=0.0], task=task3), Frontier(entries=[FrontierEntry(program=(#(lambda (transform line (transmat None None ($0 Some) None None))) (lambda #(Some dist7))), logPrior=-6.675406649182532, logLikelihood=0.0, FrontierEntry(program=(#(lambda (lambda (transform line (transmat None None ($1 $0) None None)))) (lambda $0) #(Some dist7)), logPrior=-9.28965495144201, logLikelihood=0.0, FrontierEntry(program=(#(lambda (lambda (transform line (transmat None None $1 None $0)))) #(Some dist7) None), logPrior=-9.541347277290997, logLikelihood=0.0, FrontierEntry(program=(#(lambda (lambda (transform line (transmat $0 None $1 None (Some srt))))) #(Some dist7) None), logPrior=-9.542594697527335, logLikelihood=0.0, FrontierEntry(program=(#(lambda (lambda (transform line (transmat None $0 $1 None None)))) #(Some dist7) None), logPrior=-9.633606330167053, logLikelihood=0.0], task=task3), Frontier(entries=[FrontierEntry(program=(#(lambda (transform line (transmat None None ($0 Some) None None))) (lambda #(Some dist7))), logPrior=-6.703714577264369, logLikelihood=0.0, FrontierEntry(program=(#(lambda (lambda (transform line (transmat None None ($1 $0) None None)))) (lambda $0) #(Some dist7)), logPrior=-9.396800956848086, logLikelihood=0.0, FrontierEntry(program=(#(lambda (lambda (transform line (transmat $0 None $1 None (Some srt))))) #(Some dist7) None), logPrior=-9.530615388813125, logLikelihood=0.0, FrontierEntry(program=(#(lambda (lambda (transform line (transmat $1 None $0 None (Some srt))))) None #(Some dist7)), logPrior=-9.558834080485758, logLikelihood=0.0, FrontierEntry(program=(#(lambda (lambda (transform line (transmat None $0 $1 None None)))) #(Some dist7) None), logPrior=-9.58841451251363, logLikelihood=0.0], task=task3), Frontier(entries=[FrontierEntry(program=(#(lambda (transform line (transmat None None ($0 Some) None None))) (lambda #(Some dist7))), logPrior=-6.703714577264369, logLikelihood=0.0, FrontierEntry(program=(#(lambda (lambda (transform line (transmat None None ($1 $0) None None)))) (lambda $0) #(Some dist7)), logPrior=-9.396800956848086, logLikelihood=0.0, FrontierEntry(program=(#(lambda (lambda (transform line (transmat $0 None $1 None (Some srt))))) #(Some dist7) None), logPrior=-9.530615388813125, logLikelihood=0.0, FrontierEntry(program=(#(lambda (lambda (transform line (transmat $1 None $0 None (Some srt))))) None #(Some dist7)), logPrior=-9.558834080485758, logLikelihood=0.0, FrontierEntry(program=(#(lambda (lambda (transform line (transmat None $0 $1 None None)))) #(Some dist7) None), logPrior=-9.58841451251363, logLikelihood=0.0], task=task3), Frontier(entries=[FrontierEntry(program=(#(lambda (transform line (transmat None None ($0 Some) None None))) (lambda #(Some dist7))), logPrior=-6.703714577264369, logLikelihood=0.0, FrontierEntry(program=(#(lambda (lambda (transform line (transmat None None ($1 $0) None None)))) (lambda $0) #(Some dist7)), logPrior=-9.396800956848086, logLikelihood=0.0, FrontierEntry(program=(#(lambda (lambda (transform line (transmat $0 None $1 None (Some srt))))) #(Some dist7) None), logPrior=-9.530615388813125, logLikelihood=0.0, FrontierEntry(program=(#(lambda (lambda (transform line (transmat $1 None $0 None (Some srt))))) None #(Some dist7)), logPrior=-9.558834080485758, logLikelihood=0.0, FrontierEntry(program=(#(lambda (lambda (transform line (transmat None $0 $1 None None)))) #(Some dist7) None), logPrior=-9.58841451251363, logLikelihood=0.0], task=task3)], Task(name=task4, request=tstroke, examples=[]: [Frontier(entries=[FrontierEntry(program=(transform line (transmat None None (Some dist10) None None)), logPrior=-9.614204198717372, logLikelihood=0.0, FrontierEntry(program=(transform line (transmat None None (Some dist5) None None)), logPrior=-9.614204198717372, logLikelihood=0.0, FrontierEntry(program=(transform line (transmat None None (Some dist10) None (Some rst))), logPrior=-11.405963667945429, logLikelihood=0.0, FrontierEntry(program=(transform line (transmat None None (Some dist10) None (Some srt))), logPrior=-11.405963667945429, logLikelihood=0.0, FrontierEntry(program=(transform line (transmat None None (Some dist10) None (Some str))), logPrior=-11.405963667945429, logLikelihood=0.0], task=task4), Frontier(entries=[FrontierEntry(program=(#(lambda (transform line (transmat None None ($0 Some) None None))) (lambda ($0 dist10))), logPrior=-9.5252181261746, logLikelihood=0.0, FrontierEntry(program=(#(lambda (transform line (transmat None None ($0 Some) None None))) (lambda ($0 dist5))), logPrior=-9.530133860826275, logLikelihood=0.0, FrontierEntry(program=(#(lambda (transform line (transmat None None ($0 Some) None None))) (lambda (Some dist10))), logPrior=-9.769891537176413, logLikelihood=0.0, FrontierEntry(program=(#(lambda (transform line (transmat None None ($0 Some) None None))) (lambda (Some dist5))), logPrior=-9.774807271828088, logLikelihood=0.0, FrontierEntry(program=(#(lambda (lambda (transform line (transmat $0 None (Some $1) None None)))) dist10 None), logPrior=-9.93759215118304, logLikelihood=0.0], task=task4), Frontier(entries=[FrontierEntry(program=(#(lambda (transform line (transmat None None ($0 Some) None None))) (lambda ($0 dist10))), logPrior=-9.66269810619795, logLikelihood=0.0, FrontierEntry(program=(#(lambda (transform line (transmat None None ($0 Some) None None))) (lambda ($0 dist5))), logPrior=-9.67351013586835, logLikelihood=0.0, FrontierEntry(program=(#(lambda (transform line (transmat None None ($0 Some) None None))) (lambda (Some dist10))), logPrior=-9.956625050828631, logLikelihood=0.0, FrontierEntry(program=(#(lambda (transform line (transmat None None ($0 Some) None None))) (lambda (Some dist5))), logPrior=-9.967437080499032, logLikelihood=0.0, FrontierEntry(program=(#(lambda (lambda (transform line (transmat None None (Some $0) None (Some $1))))) str dist10), logPrior=-10.14539482762352, logLikelihood=0.0], task=task4), Frontier(entries=[FrontierEntry(program=(#(lambda (transform line (transmat None None ($0 Some) None None))) (lambda ($0 dist10))), logPrior=-9.85917432994966, logLikelihood=0.0, FrontierEntry(program=(#(lambda (transform line (transmat None None ($0 Some) None None))) (lambda ($0 dist5))), logPrior=-9.874338341226775, logLikelihood=0.0, FrontierEntry(program=(#(lambda (transform line (transmat None None ($0 Some) None None))) (lambda (Some dist10))), logPrior=-10.00235910247917, logLikelihood=0.0, FrontierEntry(program=(#(lambda (transform line (transmat None None ($0 Some) None None))) (lambda (Some dist5))), logPrior=-10.017523113756285, logLikelihood=0.0, FrontierEntry(program=(#(lambda (lambda (transform line (transmat None None (Some $0) None (Some $1))))) str dist10), logPrior=-10.094178026298994, logLikelihood=0.0], task=task4), Frontier(entries=[FrontierEntry(program=(#(lambda (transform line (transmat None None ($0 Some) None None))) (lambda ($0 dist10))), logPrior=-9.85917432994966, logLikelihood=0.0, FrontierEntry(program=(#(lambda (transform line (transmat None None ($0 Some) None None))) (lambda ($0 dist5))), logPrior=-9.874338341226775, logLikelihood=0.0, FrontierEntry(program=(#(lambda (transform line (transmat None None ($0 Some) None None))) (lambda (Some dist10))), logPrior=-10.00235910247917, logLikelihood=0.0, FrontierEntry(program=(#(lambda (transform line (transmat None None ($0 Some) None None))) (lambda (Some dist5))), logPrior=-10.017523113756285, logLikelihood=0.0, FrontierEntry(program=(#(lambda (lambda (transform line (transmat None None (Some $0) None (Some $1))))) str dist10), logPrior=-10.094178026298994, logLikelihood=0.0], task=task4), Frontier(entries=[FrontierEntry(program=(#(lambda (transform line (transmat None None ($0 Some) None None))) (lambda ($0 dist10))), logPrior=-9.85917432994966, logLikelihood=0.0, FrontierEntry(program=(#(lambda (transform line (transmat None None ($0 Some) None None))) (lambda ($0 dist5))), logPrior=-9.874338341226775, logLikelihood=0.0, FrontierEntry(program=(#(lambda (transform line (transmat None None ($0 Some) None None))) (lambda (Some dist10))), logPrior=-10.00235910247917, logLikelihood=0.0, FrontierEntry(program=(#(lambda (transform line (transmat None None ($0 Some) None None))) (lambda (Some dist5))), logPrior=-10.017523113756285, logLikelihood=0.0, FrontierEntry(program=(#(lambda (lambda (transform line (transmat None None (Some $0) None (Some $1))))) str dist10), logPrior=-10.094178026298994, logLikelihood=0.0], task=task4)], Task(name=task5, request=tstroke, examples=[]: [Frontier(entries=[FrontierEntry(program=(transform line (transmat None None (Some dist8) None None)), logPrior=-9.614204198717372, logLikelihood=0.0, FrontierEntry(program=(transform line (transmat None None (Some dist8) None (Some rst))), logPrior=-11.405963667945429, logLikelihood=0.0, FrontierEntry(program=(transform line (transmat None None (Some dist8) None (Some rts))), logPrior=-11.405963667945429, logLikelihood=0.0, FrontierEntry(program=(transform line (transmat None None (Some dist8) None (Some srt))), logPrior=-11.405963667945429, logLikelihood=0.0, FrontierEntry(program=(transform line (transmat None None (Some dist8) None (Some str))), logPrior=-11.405963667945429, logLikelihood=0.0], task=task5), Frontier(entries=[FrontierEntry(program=(#(lambda (transform line (transmat None None ($0 Some) None None))) (lambda ($0 dist8))), logPrior=-9.481152957312691, logLikelihood=0.0, FrontierEntry(program=(#(lambda (transform line (transmat None None ($0 Some) None None))) (lambda (Some dist8))), logPrior=-9.725826368314504, logLikelihood=0.0, FrontierEntry(program=(#(lambda (lambda (transform line (transmat $0 None (Some $1) None None)))) dist8 None), logPrior=-9.89352698232113, logLikelihood=0.0, FrontierEntry(program=(#(lambda (lambda (transform line (transmat $1 None (Some $0) None None)))) None dist8), logPrior=-9.89352698232113, logLikelihood=0.0, FrontierEntry(program=(#(lambda (lambda (transform line (transmat None $0 (Some $1) None None)))) dist8 None), logPrior=-9.89352698232113, logLikelihood=0.0], task=task5), Frontier(entries=[FrontierEntry(program=(#(lambda (transform line (transmat None None ($0 Some) None None))) (lambda ($0 dist8))), logPrior=-9.621569492971233, logLikelihood=0.0, FrontierEntry(program=(#(lambda (transform line (transmat None None ($0 Some) None None))) (lambda (Some dist8))), logPrior=-9.915496437601913, logLikelihood=0.0, FrontierEntry(program=(#(lambda (lambda (transform line (transmat None None (Some $0) None (Some $1))))) rst dist8), logPrior=-10.104266214396802, logLikelihood=0.0, FrontierEntry(program=(#(lambda (lambda (transform line (transmat None None (Some $0) None (Some $1))))) srt dist8), logPrior=-10.104266214396802, logLikelihood=0.0, FrontierEntry(program=(#(lambda (lambda (transform line (transmat None None (Some $0) None (Some $1))))) str dist8), logPrior=-10.104266214396802, logLikelihood=0.0], task=task5), Frontier(entries=[FrontierEntry(program=(#(lambda (transform line (transmat None None ($0 Some) None None))) (lambda ($0 dist8))), logPrior=-9.820207576823963, logLikelihood=0.0, FrontierEntry(program=(#(lambda (transform line (transmat None None ($0 Some) None None))) (lambda (Some dist8))), logPrior=-9.963392349353473, logLikelihood=0.0, FrontierEntry(program=(#(lambda (lambda (transform line (transmat None None (Some $0) None (Some $1))))) str dist8), logPrior=-10.055211273173299, logLikelihood=0.0, FrontierEntry(program=(#(lambda (lambda (transform line (transmat None None (Some $0) None (Some $1))))) rst dist8), logPrior=-10.070726883874483, logLikelihood=0.0, FrontierEntry(program=(#(lambda (lambda (transform line (transmat None None (Some $0) None (Some $1))))) srt dist8), logPrior=-10.070726883874483, logLikelihood=0.0], task=task5), Frontier(entries=[FrontierEntry(program=(#(lambda (transform line (transmat None None ($0 Some) None None))) (lambda ($0 dist8))), logPrior=-9.820207576823963, logLikelihood=0.0, FrontierEntry(program=(#(lambda (transform line (transmat None None ($0 Some) None None))) (lambda (Some dist8))), logPrior=-9.963392349353473, logLikelihood=0.0, FrontierEntry(program=(#(lambda (lambda (transform line (transmat None None (Some $0) None (Some $1))))) str dist8), logPrior=-10.055211273173299, logLikelihood=0.0, FrontierEntry(program=(#(lambda (lambda (transform line (transmat None None (Some $0) None (Some $1))))) rst dist8), logPrior=-10.070726883874483, logLikelihood=0.0, FrontierEntry(program=(#(lambda (lambda (transform line (transmat None None (Some $0) None (Some $1))))) srt dist8), logPrior=-10.070726883874483, logLikelihood=0.0], task=task5), Frontier(entries=[FrontierEntry(program=(#(lambda (transform line (transmat None None ($0 Some) None None))) (lambda ($0 dist8))), logPrior=-9.820207576823963, logLikelihood=0.0, FrontierEntry(program=(#(lambda (transform line (transmat None None ($0 Some) None None))) (lambda (Some dist8))), logPrior=-9.963392349353473, logLikelihood=0.0, FrontierEntry(program=(#(lambda (lambda (transform line (transmat None None (Some $0) None (Some $1))))) str dist8), logPrior=-10.055211273173299, logLikelihood=0.0, FrontierEntry(program=(#(lambda (lambda (transform line (transmat None None (Some $0) None (Some $1))))) rst dist8), logPrior=-10.070726883874483, logLikelihood=0.0, FrontierEntry(program=(#(lambda (lambda (transform line (transmat None None (Some $0) None (Some $1))))) srt dist8), logPrior=-10.070726883874483, logLikelihood=0.0], task=task5)], Task(name=task6, request=tstroke, examples=[]: [Frontier(entries=[FrontierEntry(program=(transform circle (transmat None None (Some dist7) None None)), logPrior=-9.614204198717372, logLikelihood=0.0, FrontierEntry(program=(transform circle (transmat None None (Some dist7) None (Some rst))), logPrior=-11.405963667945429, logLikelihood=0.0, FrontierEntry(program=(transform circle (transmat None None (Some dist7) None (Some rts))), logPrior=-11.405963667945429, logLikelihood=0.0, FrontierEntry(program=(transform circle (transmat None None (Some dist7) None (Some srt))), logPrior=-11.405963667945429, logLikelihood=0.0, FrontierEntry(program=(transform circle (transmat None None (Some dist7) None (Some str))), logPrior=-11.405963667945429, logLikelihood=0.0], task=task6), Frontier(entries=[FrontierEntry(program=(#(lambda (lambda (transform $0 (transmat None None $1 None (Some rts))))) (Some dist7) circle), logPrior=-13.616615362913137, logLikelihood=0.0, FrontierEntry(program=(#(lambda (lambda (transform $1 (transmat None None $0 None (Some rts))))) circle (Some dist7)), logPrior=-13.616615362913137, logLikelihood=0.0, FrontierEntry(program=(#(lambda (lambda (transform $1 (transmat None None $0 None (Some rts))))) circle (#(lambda ($0 (Some dist7) None)) (lambda (lambda $1)))), logPrior=-14.769217540587224, logLikelihood=0.0, FrontierEntry(program=(#(lambda (lambda (transform $1 (transmat None None $0 None (Some rts))))) circle (#(lambda ($0 (transmat None) (Some dist7) None)) (lambda (lambda (lambda $1))))), logPrior=-14.769217540587224, logLikelihood=0.0, FrontierEntry(program=(#(lambda (lambda (transform $1 (transmat None None $0 None (Some rts))))) circle (#(lambda ($0 None (Some dist7))) (lambda (lambda $0)))), logPrior=-14.769217540587224, logLikelihood=0.0], task=task6), Frontier(entries=[FrontierEntry(program=(#(lambda (lambda (transform $1 (transmat None None $0 None (Some rts))))) circle #(Some dist7)), logPrior=-10.926948420808316, logLikelihood=0.0, FrontierEntry(program=(#(lambda (lambda (transform $0 (transmat None None $1 None (Some rts))))) #(Some dist7) circle), logPrior=-10.929420209553449, logLikelihood=0.0, FrontierEntry(program=(#(lambda (lambda (transform $1 (transmat None None $0 None (Some rts))))) circle (Some dist7)), logPrior=-14.250321438432232, logLikelihood=0.0, FrontierEntry(program=(#(lambda (lambda (transform $0 (transmat None None $1 None (Some rts))))) (Some dist7) circle), logPrior=-14.252793227177367, logLikelihood=0.0, FrontierEntry(program=(#(lambda (lambda (transform $1 (transmat None None $0 None (Some rts))))) circle (#(lambda ($0 (Some rst))) (lambda #(Some dist7)))), logPrior=-14.529559733575137, logLikelihood=0.0], task=task6), Frontier(entries=[FrontierEntry(program=(#(lambda (lambda (transform $1 (transmat None None $0 None (Some rts))))) circle #(Some dist7)), logPrior=-10.933840040371937, logLikelihood=0.0, FrontierEntry(program=(#(lambda (lambda (transform $0 (transmat None None $1 None (Some rts))))) #(Some dist7) circle), logPrior=-10.935090640004182, logLikelihood=0.0, FrontierEntry(program=(#(lambda (lambda (transform $1 (transmat None None $0 None (Some rts))))) circle (Some dist7)), logPrior=-14.285654236496116, logLikelihood=0.0, FrontierEntry(program=(#(lambda (lambda (transform $0 (transmat None None $1 None (Some rts))))) (Some dist7) circle), logPrior=-14.286904836128363, logLikelihood=0.0, FrontierEntry(program=(#(lambda (lambda (transform $1 (transmat None None $0 None (Some rts))))) circle (#(lambda ($0 (Some rst))) (lambda #(Some dist7)))), logPrior=-14.53879947575275, logLikelihood=0.0], task=task6), Frontier(entries=[FrontierEntry(program=(#(lambda (lambda (transform $1 (transmat None None $0 None (Some rts))))) circle #(Some dist7)), logPrior=-10.933840040371937, logLikelihood=0.0, FrontierEntry(program=(#(lambda (lambda (transform $0 (transmat None None $1 None (Some rts))))) #(Some dist7) circle), logPrior=-10.935090640004182, logLikelihood=0.0, FrontierEntry(program=(#(lambda (lambda (transform $1 (transmat None None $0 None (Some rts))))) circle (Some dist7)), logPrior=-14.285654236496116, logLikelihood=0.0, FrontierEntry(program=(#(lambda (lambda (transform $0 (transmat None None $1 None (Some rts))))) (Some dist7) circle), logPrior=-14.286904836128363, logLikelihood=0.0, FrontierEntry(program=(#(lambda (lambda (transform $1 (transmat None None $0 None (Some rts))))) circle (#(lambda ($0 (Some rst))) (lambda #(Some dist7)))), logPrior=-14.53879947575275, logLikelihood=0.0], task=task6), Frontier(entries=[FrontierEntry(program=(#(lambda (lambda (transform $1 (transmat None None $0 None (Some rts))))) circle #(Some dist7)), logPrior=-10.933840040371937, logLikelihood=0.0, FrontierEntry(program=(#(lambda (lambda (transform $0 (transmat None None $1 None (Some rts))))) #(Some dist7) circle), logPrior=-10.935090640004182, logLikelihood=0.0, FrontierEntry(program=(#(lambda (lambda (transform $1 (transmat None None $0 None (Some rts))))) circle (Some dist7)), logPrior=-14.285654236496116, logLikelihood=0.0, FrontierEntry(program=(#(lambda (lambda (transform $0 (transmat None None $1 None (Some rts))))) (Some dist7) circle), logPrior=-14.286904836128363, logLikelihood=0.0, FrontierEntry(program=(#(lambda (lambda (transform $1 (transmat None None $0 None (Some rts))))) circle (#(lambda ($0 (Some rst))) (lambda #(Some dist7)))), logPrior=-14.53879947575275, logLikelihood=0.0], task=task6)], Task(name=task7, request=tstroke, examples=[]: [Frontier(entries=[FrontierEntry(program=(repeat line rep2 (transmat None None (Some dist6) None None)), logPrior=-11.560114347772686, logLikelihood=0.0, FrontierEntry(program=(connect (transform line (transmat None None (Some dist6) None None)) line), logPrior=-13.197723137173481, logLikelihood=0.0, FrontierEntry(program=(connect line (transform line (transmat None None (Some dist6) None None))), logPrior=-13.197723137173481, logLikelihood=0.0, FrontierEntry(program=(repeat line rep2 (transmat None None (Some dist6) None (Some srt))), logPrior=-13.35187381700074, logLikelihood=0.0, FrontierEntry(program=(repeat line rep2 (transmat None None (Some dist6) None (Some str))), logPrior=-13.35187381700074, logLikelihood=0.0], task=task7), Frontier(entries=[FrontierEntry(program=(connect (#(lambda (lambda ($1 ($0 dist6) None))) (lambda (lambda (#(lambda (lambda (transform line (transmat None None $1 None $0)))) $1 $0))) (lambda (Some $0))) line), logPrior=-26.760663833910808, logLikelihood=0.0, FrontierEntry(program=(repeat line rep2 (transmat None None (Some dist6) None None)), logPrior=-28.951233328801976, logLikelihood=0.0, FrontierEntry(program=(repeat line rep2 (transmat None None (Some dist6) None (Some str))), logPrior=-31.251379823408563, logLikelihood=0.0, FrontierEntry(program=(repeat line rep2 (transmat None None (Some dist6) None (Some srt))), logPrior=-31.309593759800883, logLikelihood=0.0, FrontierEntry(program=(#(lambda (lambda (lambda ($0 line (#(lambda (lambda ($1 ($0 dist6) None))) $1 $2))))) (lambda (Some $0)) (lambda (lambda (#(lambda (lambda (transform line (transmat None None $1 None $0)))) $1 $0))) (lambda (lambda (connect $1 $0)))), logPrior=-36.14535960748337, logLikelihood=0.0], task=task7), Frontier(entries=[FrontierEntry(program=(#(lambda (connect $0 line)) (#(lambda (transform line (transmat None None ($0 Some) None None))) (lambda ($0 dist6)))), logPrior=-13.667378850580192, logLikelihood=0.0, FrontierEntry(program=(#(lambda (connect $0 line)) (#(lambda (transform line (transmat None None ($0 Some) None None))) (lambda (Some dist6)))), logPrior=-13.961305795210873, logLikelihood=0.0, FrontierEntry(program=(#(lambda (connect $0 line)) (#(lambda (lambda (transform line (transmat None None (Some $0) None (Some $1))))) rst dist6)), logPrior=-14.150075572005758, logLikelihood=0.0, FrontierEntry(program=(#(lambda (connect $0 line)) (#(lambda (lambda (transform line (transmat None None (Some $0) None (Some $1))))) srt dist6)), logPrior=-14.150075572005758, logLikelihood=0.0, FrontierEntry(program=(#(lambda (connect $0 line)) (#(lambda (lambda (transform line (transmat None None (Some $0) None (Some $1))))) str dist6)), logPrior=-14.150075572005758, logLikelihood=0.0], task=task7), Frontier(entries=[FrontierEntry(program=(#(lambda (connect $0 line)) #(#(lambda (transform line (transmat None None ($0 Some) None None))) (lambda (Some dist6)))), logPrior=-8.327447324500964, logLikelihood=0.0, FrontierEntry(program=(connect #(#(lambda (transform line (transmat None None ($0 Some) None None))) (lambda (Some dist6))) line), logPrior=-12.847862806755865, logLikelihood=0.0, FrontierEntry(program=(connect line #(#(lambda (transform line (transmat None None ($0 Some) None None))) (lambda (Some dist6)))), logPrior=-12.847862806755865, logLikelihood=0.0, FrontierEntry(program=(#(lambda ($0 (Some rst))) (lambda (#(lambda (connect $0 line)) #(#(lambda (transform line (transmat None None ($0 Some) None None))) (lambda (Some dist6)))))), logPrior=-13.113284535898018, logLikelihood=0.0, FrontierEntry(program=(#(lambda (connect $0 line)) (#(lambda ($0 (Some rst))) (lambda #(#(lambda (transform line (transmat None None ($0 Some) None None))) (lambda (Some dist6)))))), logPrior=-13.113284535898018, logLikelihood=0.0], task=task7), Frontier(entries=[FrontierEntry(program=(#(lambda (connect $0 line)) #(#(lambda (transform line (transmat None None ($0 Some) None None))) (lambda (Some dist6)))), logPrior=-8.327447324500964, logLikelihood=0.0, FrontierEntry(program=(connect #(#(lambda (transform line (transmat None None ($0 Some) None None))) (lambda (Some dist6))) line), logPrior=-12.847862806755865, logLikelihood=0.0, FrontierEntry(program=(connect line #(#(lambda (transform line (transmat None None ($0 Some) None None))) (lambda (Some dist6)))), logPrior=-12.847862806755865, logLikelihood=0.0, FrontierEntry(program=(#(lambda ($0 (Some rst))) (lambda (#(lambda (connect $0 line)) #(#(lambda (transform line (transmat None None ($0 Some) None None))) (lambda (Some dist6)))))), logPrior=-13.113284535898018, logLikelihood=0.0, FrontierEntry(program=(#(lambda (connect $0 line)) (#(lambda ($0 (Some rst))) (lambda #(#(lambda (transform line (transmat None None ($0 Some) None None))) (lambda (Some dist6)))))), logPrior=-13.113284535898018, logLikelihood=0.0], task=task7), Frontier(entries=[FrontierEntry(program=(#(lambda (connect $0 line)) #(#(lambda (transform line (transmat None None ($0 Some) None None))) (lambda (Some dist6)))), logPrior=-8.327447324500964, logLikelihood=0.0, FrontierEntry(program=(connect #(#(lambda (transform line (transmat None None ($0 Some) None None))) (lambda (Some dist6))) line), logPrior=-12.847862806755865, logLikelihood=0.0, FrontierEntry(program=(connect line #(#(lambda (transform line (transmat None None ($0 Some) None None))) (lambda (Some dist6)))), logPrior=-12.847862806755865, logLikelihood=0.0, FrontierEntry(program=(#(lambda ($0 (Some rst))) (lambda (#(lambda (connect $0 line)) #(#(lambda (transform line (transmat None None ($0 Some) None None))) (lambda (Some dist6)))))), logPrior=-13.113284535898018, logLikelihood=0.0, FrontierEntry(program=(#(lambda (connect $0 line)) (#(lambda ($0 (Some rst))) (lambda #(#(lambda (transform line (transmat None None ($0 Some) None None))) (lambda (Some dist6)))))), logPrior=-13.113284535898018, logLikelihood=0.0], task=task7)], Task(name=task8, request=tstroke, examples=[]: [Frontier(entries=[], task=task8), Frontier(entries=[], task=task8), Frontier(entries=[], task=task8), Frontier(entries=[], task=task8), Frontier(entries=[], task=task8), Frontier(entries=[], task=task8)], Task(name=task9, request=tstroke, examples=[]: [Frontier(entries=[], task=task9), Frontier(entries=[], task=task9), Frontier(entries=[], task=task9), Frontier(entries=[], task=task9), Frontier(entries=[], task=task9), Frontier(entries=[], task=task9)], Task(name=task10, request=tstroke, examples=[]: [Frontier(entries=[], task=task10), Frontier(entries=[], task=task10), Frontier(entries=[], task=task10), Frontier(entries=[], task=task10), Frontier(entries=[], task=task10), Frontier(entries=[], task=task10)], Task(name=task11, request=tstroke, examples=[]: [Frontier(entries=[], task=task11), Frontier(entries=[], task=task11), Frontier(entries=[], task=task11), Frontier(entries=[], task=task11), Frontier(entries=[], task=task11), Frontier(entries=[], task=task11)], Task(name=task12, request=tstroke, examples=[]: [Frontier(entries=[], task=task12), Frontier(entries=[], task=task12), Frontier(entries=[], task=task12), Frontier(entries=[], task=task12), Frontier(entries=[], task=task12), Frontier(entries=[], task=task12)], Task(name=task13, request=tstroke, examples=[]: [Frontier(entries=[], task=task13), Frontier(entries=[], task=task13), Frontier(entries=[], task=task13), Frontier(entries=[], task=task13), Frontier(entries=[], task=task13), Frontier(entries=[], task=task13)], Task(name=task14, request=tstroke, examples=[]: [Frontier(entries=[], task=task14), Frontier(entries=[], task=task14), Frontier(entries=[], task=task14), Frontier(entries=[], task=task14), Frontier(entries=[], task=task14), Frontier(entries=[], task=task14)], Task(name=task15, request=tstroke, examples=[]: [Frontier(entries=[], task=task15), Frontier(entries=[], task=task15), Frontier(entries=[], task=task15), Frontier(entries=[], task=task15), Frontier(entries=[], task=task15), Frontier(entries=[], task=task15)], Task(name=task16, request=tstroke, examples=[]: [Frontier(entries=[], task=task16), Frontier(entries=[], task=task16), Frontier(entries=[], task=task16), Frontier(entries=[], task=task16), Frontier(entries=[], task=task16), Frontier(entries=[], task=task16)], Task(name=task17, request=tstroke, examples=[]: [Frontier(entries=[], task=task17), Frontier(entries=[], task=task17), Frontier(entries=[], task=task17), Frontier(entries=[], task=task17), Frontier(entries=[], task=task17), Frontier(entries=[], task=task17)], Task(name=task18, request=tstroke, examples=[]: [Frontier(entries=[], task=task18), Frontier(entries=[], task=task18), Frontier(entries=[], task=task18), Frontier(entries=[], task=task18), Frontier(entries=[], task=task18), Frontier(entries=[], task=task18)], Task(name=task19, request=tstroke, examples=[]: [Frontier(entries=[], task=task19), Frontier(entries=[], task=task19), Frontier(entries=[], task=task19), Frontier(entries=[], task=task19), Frontier(entries=[], task=task19), Frontier(entries=[], task=task19)], Task(name=task20, request=tstroke, examples=[]: [Frontier(entries=[], task=task20), Frontier(entries=[], task=task20), Frontier(entries=[], task=task20), Frontier(entries=[], task=task20), Frontier(entries=[], task=task20), Frontier(entries=[], task=task20)], Task(name=task21, request=tstroke, examples=[]: [Frontier(entries=[], task=task21), Frontier(entries=[], task=task21), Frontier(entries=[], task=task21), Frontier(entries=[], task=task21), Frontier(entries=[], task=task21), Frontier(entries=[], task=task21)], Task(name=task22, request=tstroke, examples=[]: [Frontier(entries=[], task=task22), Frontier(entries=[], task=task22), Frontier(entries=[], task=task22), Frontier(entries=[], task=task22), Frontier(entries=[], task=task22), Frontier(entries=[], task=task22)], Task(name=task23, request=tstroke, examples=[]: [Frontier(entries=[], task=task23), Frontier(entries=[], task=task23), Frontier(entries=[], task=task23), Frontier(entries=[], task=task23), Frontier(entries=[], task=task23), Frontier(entries=[], task=task23)], Task(name=task24, request=tstroke, examples=[]: [Frontier(entries=[], task=task24), Frontier(entries=[], task=task24), Frontier(entries=[], task=task24), Frontier(entries=[], task=task24), Frontier(entries=[], task=task24), Frontier(entries=[], task=task24)], Task(name=task25, request=tstroke, examples=[]: [Frontier(entries=[], task=task25), Frontier(entries=[], task=task25), Frontier(entries=[], task=task25), Frontier(entries=[], task=task25), Frontier(entries=[], task=task25), Frontier(entries=[], task=task25)], Task(name=task26, request=tstroke, examples=[]: [Frontier(entries=[], task=task26), Frontier(entries=[], task=task26), Frontier(entries=[], task=task26), Frontier(entries=[], task=task26), Frontier(entries=[], task=task26), Frontier(entries=[], task=task26)], Task(name=task27, request=tstroke, examples=[]: [Frontier(entries=[], task=task27), Frontier(entries=[], task=task27), Frontier(entries=[], task=task27), Frontier(entries=[], task=task27), Frontier(entries=[], task=task27), Frontier(entries=[], task=task27)], Task(name=task28, request=tstroke, examples=[]: [Frontier(entries=[], task=task28), Frontier(entries=[], task=task28), Frontier(entries=[], task=task28), Frontier(entries=[], task=task28), Frontier(entries=[], task=task28), Frontier(entries=[], task=task28)], Task(name=task29, request=tstroke, examples=[]: [Frontier(entries=[], task=task29), Frontier(entries=[], task=task29), Frontier(entries=[], task=task29), Frontier(entries=[], task=task29), Frontier(entries=[], task=task29), Frontier(entries=[], task=task29)], Task(name=task30, request=tstroke, examples=[]: [Frontier(entries=[], task=task30), Frontier(entries=[], task=task30), Frontier(entries=[], task=task30), Frontier(entries=[], task=task30), Frontier(entries=[], task=task30), Frontier(entries=[], task=task30)], Task(name=task31, request=tstroke, examples=[]: [Frontier(entries=[], task=task31), Frontier(entries=[], task=task31), Frontier(entries=[], task=task31), Frontier(entries=[], task=task31), Frontier(entries=[], task=task31), Frontier(entries=[], task=task31)], Task(name=task32, request=tstroke, examples=[]: [Frontier(entries=[], task=task32), Frontier(entries=[], task=task32), Frontier(entries=[], task=task32), Frontier(entries=[], task=task32), Frontier(entries=[], task=task32), Frontier(entries=[], task=task32)], Task(name=task33, request=tstroke, examples=[]: [Frontier(entries=[], task=task33), Frontier(entries=[], task=task33), Frontier(entries=[], task=task33), Frontier(entries=[], task=task33), Frontier(entries=[], task=task33), Frontier(entries=[], task=task33)], Task(name=task34, request=tstroke, examples=[]: [Frontier(entries=[], task=task34), Frontier(entries=[], task=task34), Frontier(entries=[], task=task34), Frontier(entries=[], task=task34), Frontier(entries=[], task=task34), Frontier(entries=[], task=task34)], Task(name=task35, request=tstroke, examples=[]: [Frontier(entries=[], task=task35), Frontier(entries=[], task=task35), Frontier(entries=[], task=task35), Frontier(entries=[], task=task35), Frontier(entries=[], task=task35), Frontier(entries=[], task=task35)], Task(name=task36, request=tstroke, examples=[]: [Frontier(entries=[], task=task36), Frontier(entries=[], task=task36), Frontier(entries=[], task=task36), Frontier(entries=[], task=task36), Frontier(entries=[], task=task36), Frontier(entries=[], task=task36)], Task(name=task37, request=tstroke, examples=[]: [Frontier(entries=[], task=task37), Frontier(entries=[], task=task37), Frontier(entries=[], task=task37), Frontier(entries=[], task=task37), Frontier(entries=[], task=task37), Frontier(entries=[], task=task37)], Task(name=task38, request=tstroke, examples=[]: [Frontier(entries=[], task=task38), Frontier(entries=[], task=task38), Frontier(entries=[], task=task38), Frontier(entries=[], task=task38), Frontier(entries=[], task=task38), Frontier(entries=[], task=task38)], Task(name=task39, request=tstroke, examples=[]: [Frontier(entries=[], task=task39), Frontier(entries=[], task=task39), Frontier(entries=[], task=task39), Frontier(entries=[], task=task39), Frontier(entries=[], task=task39), Frontier(entries=[], task=task39)], Task(name=task40, request=tstroke, examples=[]: [Frontier(entries=[], task=task40), Frontier(entries=[], task=task40), Frontier(entries=[], task=task40), Frontier(entries=[], task=task40), Frontier(entries=[], task=task40), Frontier(entries=[], task=task40)], Task(name=task41, request=tstroke, examples=[]: [Frontier(entries=[], task=task41), Frontier(entries=[], task=task41), Frontier(entries=[], task=task41), Frontier(entries=[], task=task41), Frontier(entries=[], task=task41), Frontier(entries=[], task=task41)], Task(name=task42, request=tstroke, examples=[]: [Frontier(entries=[], task=task42), Frontier(entries=[], task=task42), Frontier(entries=[], task=task42), Frontier(entries=[], task=task42), Frontier(entries=[], task=task42), Frontier(entries=[], task=task42)], Task(name=task43, request=tstroke, examples=[]: [Frontier(entries=[], task=task43), Frontier(entries=[], task=task43), Frontier(entries=[], task=task43), Frontier(entries=[], task=task43), Frontier(entries=[], task=task43), Frontier(entries=[], task=task43)], Task(name=task44, request=tstroke, examples=[]: [Frontier(entries=[], task=task44), Frontier(entries=[], task=task44), Frontier(entries=[], task=task44), Frontier(entries=[], task=task44), Frontier(entries=[], task=task44), Frontier(entries=[], task=task44)], Task(name=task45, request=tstroke, examples=[]: [Frontier(entries=[], task=task45), Frontier(entries=[], task=task45), Frontier(entries=[], task=task45), Frontier(entries=[], task=task45), Frontier(entries=[], task=task45), Frontier(entries=[], task=task45)], Task(name=task46, request=tstroke, examples=[]: [Frontier(entries=[], task=task46), Frontier(entries=[], task=task46), Frontier(entries=[], task=task46), Frontier(entries=[], task=task46), Frontier(entries=[], task=task46), Frontier(entries=[], task=task46)], Task(name=task47, request=tstroke, examples=[]: [Frontier(entries=[], task=task47), Frontier(entries=[], task=task47), Frontier(entries=[], task=task47), Frontier(entries=[], task=task47), Frontier(entries=[], task=task47), Frontier(entries=[], task=task47)], Task(name=task48, request=tstroke, examples=[]: [Frontier(entries=[], task=task48), Frontier(entries=[], task=task48), Frontier(entries=[], task=task48), Frontier(entries=[], task=task48), Frontier(entries=[], task=task48), Frontier(entries=[], task=task48)], Task(name=task49, request=tstroke, examples=[]: [Frontier(entries=[], task=task49), Frontier(entries=[], task=task49), Frontier(entries=[], task=task49), Frontier(entries=[], task=task49), Frontier(entries=[], task=task49), Frontier(entries=[], task=task49)], Task(name=task50, request=tstroke, examples=[]: [Frontier(entries=[], task=task50), Frontier(entries=[], task=task50), Frontier(entries=[], task=task50), Frontier(entries=[], task=task50), Frontier(entries=[], task=task50), Frontier(entries=[], task=task50)], Task(name=task51, request=tstroke, examples=[]: [Frontier(entries=[], task=task51), Frontier(entries=[], task=task51), Frontier(entries=[], task=task51), Frontier(entries=[], task=task51), Frontier(entries=[], task=task51), Frontier(entries=[], task=task51)], Task(name=task52, request=tstroke, examples=[]: [Frontier(entries=[], task=task52), Frontier(entries=[], task=task52), Frontier(entries=[], task=task52), Frontier(entries=[], task=task52), Frontier(entries=[], task=task52), Frontier(entries=[], task=task52)], Task(name=task53, request=tstroke, examples=[]: [Frontier(entries=[], task=task53), Frontier(entries=[], task=task53), Frontier(entries=[], task=task53), Frontier(entries=[], task=task53), Frontier(entries=[], task=task53), Frontier(entries=[], task=task53)], Task(name=task54, request=tstroke, examples=[]: [Frontier(entries=[], task=task54), Frontier(entries=[], task=task54), Frontier(entries=[], task=task54), Frontier(entries=[], task=task54), Frontier(entries=[], task=task54), Frontier(entries=[], task=task54)], Task(name=task55, request=tstroke, examples=[]: [Frontier(entries=[FrontierEntry(program=(repeat circle rep0 (transmat None None None None None)), logPrior=-8.99516499031115, logLikelihood=0.0, FrontierEntry(program=(repeat line rep0 (transmat None None None None None)), logPrior=-8.99516499031115, logLikelihood=0.0, FrontierEntry(program=(repeat circle rep0 (transmat None None None None (Some rst))), logPrior=-10.786924459539204, logLikelihood=0.0, FrontierEntry(program=(repeat circle rep0 (transmat None None None None (Some srt))), logPrior=-10.786924459539204, logLikelihood=0.0, FrontierEntry(program=(repeat circle rep0 (transmat None None None None (Some str))), logPrior=-10.786924459539204, logLikelihood=0.0], task=task55), Frontier(entries=[FrontierEntry(program=(#(lambda (lambda (transform line (transmat $0 None $1 None (Some srt))))) (Some dist6) (Some scale6)), logPrior=-14.386519079059031, logLikelihood=0.0, FrontierEntry(program=(#(lambda (lambda (transform line (transmat $1 None $0 None (Some srt))))) (Some scale6) (Some dist6)), logPrior=-14.386519079059031, logLikelihood=0.0, FrontierEntry(program=(#(lambda (lambda (transform line (transmat $0 None $1 None (Some srt))))) (Some dist7) (Some scale4)), logPrior=-14.396639337905622, logLikelihood=0.0, FrontierEntry(program=(#(lambda (lambda (transform line (transmat $0 None $1 None (Some srt))))) (Some dist7) (Some scale5)), logPrior=-14.396639337905622, logLikelihood=0.0, FrontierEntry(program=(#(lambda (lambda (transform line (transmat $0 None $1 None (Some srt))))) (Some dist7) (Some scale6)), logPrior=-14.396639337905622, logLikelihood=0.0], task=task55), Frontier(entries=[FrontierEntry(program=(#(lambda (lambda (transform line (transmat $0 None $1 None (Some srt))))) #(Some dist7) (Some scale6)), logPrior=-12.068390104679168, logLikelihood=0.0, FrontierEntry(program=(#(lambda (lambda (transform line (transmat $0 None $1 None (Some srt))))) #(Some dist7) (Some scale4)), logPrior=-12.074203182725814, logLikelihood=0.0, FrontierEntry(program=(#(lambda (lambda (transform line (transmat $0 None $1 None (Some srt))))) #(Some dist7) (Some scale5)), logPrior=-12.074203182725814, logLikelihood=0.0, FrontierEntry(program=(#(lambda (lambda (transform line (transmat $1 None $0 None (Some srt))))) (Some scale6) #(Some dist7)), logPrior=-12.16108249684538, logLikelihood=0.0, FrontierEntry(program=(#(lambda (lambda (transform line (transmat $1 None $0 None (Some srt))))) (Some scale5) #(Some dist7)), logPrior=-12.166895574892026, logLikelihood=0.0], task=task55), Frontier(entries=[FrontierEntry(program=(#(lambda (lambda (transform line (transmat $0 None $1 None (Some srt))))) #(Some dist7) (Some scale6)), logPrior=-12.066283145540222, logLikelihood=0.0, FrontierEntry(program=(#(lambda (lambda (transform line (transmat $0 None $1 None (Some srt))))) #(Some dist7) (Some scale5)), logPrior=-12.068133284828384, logLikelihood=0.0, FrontierEntry(program=(#(lambda (lambda (transform line (transmat $0 None $1 None (Some srt))))) #(Some dist7) (Some scale4)), logPrior=-12.084940403144765, logLikelihood=0.0, FrontierEntry(program=(#(lambda (lambda (transform line (transmat $1 None $0 None (Some srt))))) (Some scale6) #(Some dist7)), logPrior=-12.094501837212857, logLikelihood=0.0, FrontierEntry(program=(#(lambda (lambda (transform line (transmat $1 None $0 None (Some srt))))) (Some scale5) #(Some dist7)), logPrior=-12.096351976501017, logLikelihood=0.0], task=task55), Frontier(entries=[FrontierEntry(program=(#(lambda (lambda (transform line (transmat $0 None $1 None (Some srt))))) #(Some dist7) (Some scale6)), logPrior=-12.066283145540222, logLikelihood=0.0, FrontierEntry(program=(#(lambda (lambda (transform line (transmat $0 None $1 None (Some srt))))) #(Some dist7) (Some scale5)), logPrior=-12.068133284828384, logLikelihood=0.0, FrontierEntry(program=(#(lambda (lambda (transform line (transmat $0 None $1 None (Some srt))))) #(Some dist7) (Some scale4)), logPrior=-12.084940403144765, logLikelihood=0.0, FrontierEntry(program=(#(lambda (lambda (transform line (transmat $1 None $0 None (Some srt))))) (Some scale6) #(Some dist7)), logPrior=-12.094501837212857, logLikelihood=0.0, FrontierEntry(program=(#(lambda (lambda (transform line (transmat $1 None $0 None (Some srt))))) (Some scale5) #(Some dist7)), logPrior=-12.096351976501017, logLikelihood=0.0], task=task55), Frontier(entries=[FrontierEntry(program=(#(lambda (lambda (transform line (transmat $0 None $1 None (Some srt))))) #(Some dist7) (Some scale6)), logPrior=-12.066283145540222, logLikelihood=0.0, FrontierEntry(program=(#(lambda (lambda (transform line (transmat $0 None $1 None (Some srt))))) #(Some dist7) (Some scale5)), logPrior=-12.068133284828384, logLikelihood=0.0, FrontierEntry(program=(#(lambda (lambda (transform line (transmat $0 None $1 None (Some srt))))) #(Some dist7) (Some scale4)), logPrior=-12.084940403144765, logLikelihood=0.0, FrontierEntry(program=(#(lambda (lambda (transform line (transmat $1 None $0 None (Some srt))))) (Some scale6) #(Some dist7)), logPrior=-12.094501837212857, logLikelihood=0.0, FrontierEntry(program=(#(lambda (lambda (transform line (transmat $1 None $0 None (Some srt))))) (Some scale5) #(Some dist7)), logPrior=-12.096351976501017, logLikelihood=0.0], task=task55)], Task(name=task56, request=tstroke, examples=[]: [Frontier(entries=[], task=task56), Frontier(entries=[], task=task56), Frontier(entries=[], task=task56), Frontier(entries=[], task=task56), Frontier(entries=[], task=task56), Frontier(entries=[], task=task56)], Task(name=task57, request=tstroke, examples=[]: [Frontier(entries=[], task=task57), Frontier(entries=[], task=task57), Frontier(entries=[], task=task57), Frontier(entries=[], task=task57), Frontier(entries=[], task=task57), Frontier(entries=[], task=task57)], Task(name=task58, request=tstroke, examples=[]: [Frontier(entries=[], task=task58), Frontier(entries=[], task=task58), Frontier(entries=[], task=task58), Frontier(entries=[], task=task58), Frontier(entries=[], task=task58), Frontier(entries=[], task=task58)], Task(name=task59, request=tstroke, examples=[]: [Frontier(entries=[], task=task59), Frontier(entries=[], task=task59), Frontier(entries=[], task=task59), Frontier(entries=[], task=task59), Frontier(entries=[], task=task59), Frontier(entries=[], task=task59)], Task(name=task60, request=tstroke, examples=[]: [Frontier(entries=[], task=task60), Frontier(entries=[], task=task60), Frontier(entries=[], task=task60), Frontier(entries=[], task=task60), Frontier(entries=[], task=task60), Frontier(entries=[], task=task60)]}, hitsAtEachWake=[9, 8, 9, 9, 9, 9], timesAtEachWake=[], testingSearchTime=[], searchTimes=[], trainSearchTime={Task(name=task0, request=tstroke, examples=[]: 1.4223005771636963, Task(name=task1, request=tstroke, examples=[]: 0.14892220497131348, Task(name=task2, request=tstroke, examples=[]: 373.5666515827179, Task(name=task3, request=tstroke, examples=[]: 0.8600947856903076, Task(name=task4, request=tstroke, examples=[]: 14.202884197235107, Task(name=task5, request=tstroke, examples=[]: 14.116769313812256, Task(name=task6, request=tstroke, examples=[]: 30.371644496917725, Task(name=task7, request=tstroke, examples=[]: 1.1395506858825684, Task(name=task55, request=tstroke, examples=[]: 309.5474636554718}, testSearchTime={}, recognitionTaskMetrics={Task(name=task0, request=tstroke, examples=[]: {'frontier': Frontier(entries=[FrontierEntry(program=(#(lambda (connect $0 line)) circle), logPrior=-8.32550668577751, logLikelihood=0.0, FrontierEntry(program=(connect circle line), logPrior=-12.845922168032411, logLikelihood=0.0, FrontierEntry(program=(connect line circle), logPrior=-12.845922168032411, logLikelihood=0.0, FrontierEntry(program=(#(lambda ($0 (Some rst))) (lambda (#(lambda (connect $0 line)) circle))), logPrior=-13.111343897174564, logLikelihood=0.0, FrontierEntry(program=(#(lambda (connect $0 line)) (#(lambda ($0 (Some rst))) (lambda circle))), logPrior=-13.111343897174564, logLikelihood=0.0], task=task0)}, Task(name=task1, request=tstroke, examples=[]: {'frontier': Frontier(entries=[FrontierEntry(program=#(#(lambda (transform line (transmat None None ($0 Some) None None))) (lambda (Some dist6))), logPrior=-4.163798047169719, logLikelihood=0.0, FrontierEntry(program=(#(lambda ($0 (Some rst))) (lambda #(#(lambda (transform line (transmat None None ($0 Some) None None))) (lambda (Some dist6))))), logPrior=-8.949635258566772, logLikelihood=0.0, FrontierEntry(program=(#(lambda ($0 (Some dist7) None)) (lambda (lambda #(#(lambda (transform line (transmat None None ($0 Some) None None))) (lambda (Some dist6)))))), logPrior=-8.950120452135119, logLikelihood=0.0, FrontierEntry(program=(#(lambda ($0 (transmat None) (Some dist7) None)) (lambda (lambda (lambda #(#(lambda (transform line (transmat None None ($0 Some) None None))) (lambda (Some dist6))))))), logPrior=-8.950120452135119, logLikelihood=0.0, FrontierEntry(program=(#(lambda ($0 None Some)) (lambda (lambda #(#(lambda (transform line (transmat None None ($0 Some) None None))) (lambda (Some dist6)))))), logPrior=-8.950947526609024, logLikelihood=0.0], task=task1)}, Task(name=task2, request=tstroke, examples=[]: {'frontier': Frontier(entries=[FrontierEntry(program=(#(lambda (lambda (transform line (transmat None $0 (Some $1) None None)))) dist6 (Some angle2)), logPrior=-12.815153548423888, logLikelihood=0.0, FrontierEntry(program=(#(lambda (lambda (transform line (transmat None $1 (Some $0) None None)))) (Some angle2) dist6), logPrior=-12.81515354842389, logLikelihood=0.0, FrontierEntry(program=(#(lambda (lambda (transform line (transmat None $0 $1 None None)))) (Some dist6) (Some angle2)), logPrior=-15.49393490727319, logLikelihood=0.0, FrontierEntry(program=(#(lambda (lambda (transform line (transmat None $1 $0 None None)))) (Some angle2) (Some dist6)), logPrior=-15.498264319269614, logLikelihood=0.0, FrontierEntry(program=(transform line (#(lambda (lambda (lambda (transmat $1 $0 (Some $2) None None)))) dist6 None (Some angle2))), logPrior=-23.42596217028659, logLikelihood=0.0], task=task2)}, Task(name=task3, request=tstroke, examples=[]: {'frontier': Frontier(entries=[FrontierEntry(program=(#(lambda (transform line (transmat None None ($0 Some) None None))) (lambda #(Some dist7))), logPrior=-6.703714577264369, logLikelihood=0.0, FrontierEntry(program=(#(lambda (lambda (transform line (transmat None None ($1 $0) None None)))) (lambda $0) #(Some dist7)), logPrior=-9.396800956848086, logLikelihood=0.0, FrontierEntry(program=(#(lambda (lambda (transform line (transmat $0 None $1 None (Some srt))))) #(Some dist7) None), logPrior=-9.530615388813125, logLikelihood=0.0, FrontierEntry(program=(#(lambda (lambda (transform line (transmat $1 None $0 None (Some srt))))) None #(Some dist7)), logPrior=-9.558834080485758, logLikelihood=0.0, FrontierEntry(program=(#(lambda (lambda (transform line (transmat None $0 $1 None None)))) #(Some dist7) None), logPrior=-9.58841451251363, logLikelihood=0.0], task=task3)}, Task(name=task4, request=tstroke, examples=[]: {'frontier': Frontier(entries=[FrontierEntry(program=(#(lambda (transform line (transmat None None ($0 Some) None None))) (lambda ($0 dist10))), logPrior=-9.85917432994966, logLikelihood=0.0, FrontierEntry(program=(#(lambda (transform line (transmat None None ($0 Some) None None))) (lambda ($0 dist5))), logPrior=-9.874338341226775, logLikelihood=0.0, FrontierEntry(program=(#(lambda (transform line (transmat None None ($0 Some) None None))) (lambda (Some dist10))), logPrior=-10.00235910247917, logLikelihood=0.0, FrontierEntry(program=(#(lambda (transform line (transmat None None ($0 Some) None None))) (lambda (Some dist5))), logPrior=-10.017523113756285, logLikelihood=0.0, FrontierEntry(program=(#(lambda (lambda (transform line (transmat None None (Some $0) None (Some $1))))) str dist10), logPrior=-10.094178026298994, logLikelihood=0.0], task=task4)}, Task(name=task5, request=tstroke, examples=[]: {'frontier': Frontier(entries=[FrontierEntry(program=(#(lambda (transform line (transmat None None ($0 Some) None None))) (lambda ($0 dist8))), logPrior=-9.820207576823963, logLikelihood=0.0, FrontierEntry(program=(#(lambda (transform line (transmat None None ($0 Some) None None))) (lambda (Some dist8))), logPrior=-9.963392349353473, logLikelihood=0.0, FrontierEntry(program=(#(lambda (lambda (transform line (transmat None None (Some $0) None (Some $1))))) str dist8), logPrior=-10.055211273173299, logLikelihood=0.0, FrontierEntry(program=(#(lambda (lambda (transform line (transmat None None (Some $0) None (Some $1))))) rst dist8), logPrior=-10.070726883874483, logLikelihood=0.0, FrontierEntry(program=(#(lambda (lambda (transform line (transmat None None (Some $0) None (Some $1))))) srt dist8), logPrior=-10.070726883874483, logLikelihood=0.0], task=task5)}, Task(name=task6, request=tstroke, examples=[]: {'frontier': Frontier(entries=[FrontierEntry(program=(#(lambda (lambda (transform $1 (transmat None None $0 None (Some rts))))) circle #(Some dist7)), logPrior=-10.933840040371937, logLikelihood=0.0, FrontierEntry(program=(#(lambda (lambda (transform $0 (transmat None None $1 None (Some rts))))) #(Some dist7) circle), logPrior=-10.935090640004182, logLikelihood=0.0, FrontierEntry(program=(#(lambda (lambda (transform $1 (transmat None None $0 None (Some rts))))) circle (Some dist7)), logPrior=-14.285654236496116, logLikelihood=0.0, FrontierEntry(program=(#(lambda (lambda (transform $0 (transmat None None $1 None (Some rts))))) (Some dist7) circle), logPrior=-14.286904836128363, logLikelihood=0.0, FrontierEntry(program=(#(lambda (lambda (transform $1 (transmat None None $0 None (Some rts))))) circle (#(lambda ($0 (Some rst))) (lambda #(Some dist7)))), logPrior=-14.53879947575275, logLikelihood=0.0], task=task6)}, Task(name=task7, request=tstroke, examples=[]: {'frontier': Frontier(entries=[FrontierEntry(program=(#(lambda (connect $0 line)) #(#(lambda (transform line (transmat None None ($0 Some) None None))) (lambda (Some dist6)))), logPrior=-8.327447324500964, logLikelihood=0.0, FrontierEntry(program=(connect #(#(lambda (transform line (transmat None None ($0 Some) None None))) (lambda (Some dist6))) line), logPrior=-12.847862806755865, logLikelihood=0.0, FrontierEntry(program=(connect line #(#(lambda (transform line (transmat None None ($0 Some) None None))) (lambda (Some dist6)))), logPrior=-12.847862806755865, logLikelihood=0.0, FrontierEntry(program=(#(lambda ($0 (Some rst))) (lambda (#(lambda (connect $0 line)) #(#(lambda (transform line (transmat None None ($0 Some) None None))) (lambda (Some dist6)))))), logPrior=-13.113284535898018, logLikelihood=0.0, FrontierEntry(program=(#(lambda (connect $0 line)) (#(lambda ($0 (Some rst))) (lambda #(#(lambda (transform line (transmat None None ($0 Some) None None))) (lambda (Some dist6)))))), logPrior=-13.113284535898018, logLikelihood=0.0], task=task7)}, Task(name=task55, request=tstroke, examples=[]: {'frontier': Frontier(entries=[FrontierEntry(program=(#(lambda (lambda (transform line (transmat $0 None $1 None (Some srt))))) #(Some dist7) (Some scale6)), logPrior=-12.066283145540222, logLikelihood=0.0, FrontierEntry(program=(#(lambda (lambda (transform line (transmat $0 None $1 None (Some srt))))) #(Some dist7) (Some scale5)), logPrior=-12.068133284828384, logLikelihood=0.0, FrontierEntry(program=(#(lambda (lambda (transform line (transmat $0 None $1 None (Some srt))))) #(Some dist7) (Some scale4)), logPrior=-12.084940403144765, logLikelihood=0.0, FrontierEntry(program=(#(lambda (lambda (transform line (transmat $1 None $0 None (Some srt))))) (Some scale6) #(Some dist7)), logPrior=-12.094501837212857, logLikelihood=0.0, FrontierEntry(program=(#(lambda (lambda (transform line (transmat $1 None $0 None (Some srt))))) (Some scale5) #(Some dist7)), logPrior=-12.096351976501017, logLikelihood=0.0], task=task55)}}, recognitionModel=None, averageDescriptionLength=[], parameters={'noConsolidation': False, 'iterations': 6, 'enumerationTimeout': 1800, 'useRecognitionModel': False, 'topk_use_only_likelihood': False, 'pseudoCounts': 10, 'aic': 1.0, 'structurePenalty': 1, 'arity': 3, 'taskReranker': 'default', 'storeTaskMetrics': True, 'rewriteTaskMetrics': False, 'maximumFrontier': 5, 'solver': 'python', 'topK': 2}, learningCurve=[9, 9, 9, 9, 9, 9], grammars=[<dreamcoder.grammar.Grammar object at 0x1c2c2f5c50>, <dreamcoder.grammar.Grammar object at 0x1c2c3dfa58>, <dreamcoder.grammar.Grammar object at 0x1c2c4cad30>, <dreamcoder.grammar.Grammar object at 0x1c2c5c7240>, <dreamcoder.grammar.Grammar object at 0x1c2c36eb70>, <dreamcoder.grammar.Grammar object at 0x1c2c7fd4e0>, <dreamcoder.grammar.Grammar object at 0x1c2c8f0e10>], taskSolutions={Task(name=task0, request=tstroke, examples=[]: Frontier(entries=[FrontierEntry(program=(#(lambda (connect $0 line)) circle), logPrior=-8.32550668577751, logLikelihood=0.0, FrontierEntry(program=(connect circle line), logPrior=-12.845922168032411, logLikelihood=0.0], task=task0), Task(name=task1, request=tstroke, examples=[]: Frontier(entries=[FrontierEntry(program=#(#(lambda (transform line (transmat None None ($0 Some) None None))) (lambda (Some dist6))), logPrior=-4.163798047169719, logLikelihood=0.0, FrontierEntry(program=(#(lambda ($0 (Some rst))) (lambda #(#(lambda (transform line (transmat None None ($0 Some) None None))) (lambda (Some dist6))))), logPrior=-8.949635258566772, logLikelihood=0.0], task=task1), Task(name=task2, request=tstroke, examples=[]: Frontier(entries=[FrontierEntry(program=(#(lambda (lambda (transform line (transmat None $0 (Some $1) None None)))) dist6 (Some angle2)), logPrior=-12.815153548423888, logLikelihood=0.0, FrontierEntry(program=(#(lambda (lambda (transform line (transmat None $1 (Some $0) None None)))) (Some angle2) dist6), logPrior=-12.81515354842389, logLikelihood=0.0], task=task2), Task(name=task3, request=tstroke, examples=[]: Frontier(entries=[FrontierEntry(program=(#(lambda (transform line (transmat None None ($0 Some) None None))) (lambda #(Some dist7))), logPrior=-6.703714577264369, logLikelihood=0.0, FrontierEntry(program=(#(lambda (lambda (transform line (transmat None None ($1 $0) None None)))) (lambda $0) #(Some dist7)), logPrior=-9.396800956848086, logLikelihood=0.0], task=task3), Task(name=task4, request=tstroke, examples=[]: Frontier(entries=[FrontierEntry(program=(#(lambda (transform line (transmat None None ($0 Some) None None))) (lambda ($0 dist10))), logPrior=-9.85917432994966, logLikelihood=0.0, FrontierEntry(program=(#(lambda (transform line (transmat None None ($0 Some) None None))) (lambda ($0 dist5))), logPrior=-9.874338341226775, logLikelihood=0.0], task=task4), Task(name=task5, request=tstroke, examples=[]: Frontier(entries=[FrontierEntry(program=(#(lambda (transform line (transmat None None ($0 Some) None None))) (lambda ($0 dist8))), logPrior=-9.820207576823963, logLikelihood=0.0, FrontierEntry(program=(#(lambda (transform line (transmat None None ($0 Some) None None))) (lambda (Some dist8))), logPrior=-9.963392349353473, logLikelihood=0.0], task=task5), Task(name=task6, request=tstroke, examples=[]: Frontier(entries=[FrontierEntry(program=(#(lambda (lambda (transform $1 (transmat None None $0 None (Some rts))))) circle #(Some dist7)), logPrior=-10.933840040371937, logLikelihood=0.0, FrontierEntry(program=(#(lambda (lambda (transform $0 (transmat None None $1 None (Some rts))))) #(Some dist7) circle), logPrior=-10.935090640004182, logLikelihood=0.0], task=task6), Task(name=task7, request=tstroke, examples=[]: Frontier(entries=[FrontierEntry(program=(#(lambda (connect $0 line)) #(#(lambda (transform line (transmat None None ($0 Some) None None))) (lambda (Some dist6)))), logPrior=-8.327447324500964, logLikelihood=0.0, FrontierEntry(program=(connect #(#(lambda (transform line (transmat None None ($0 Some) None None))) (lambda (Some dist6))) line), logPrior=-12.847862806755865, logLikelihood=0.0], task=task7), Task(name=task8, request=tstroke, examples=[]: Frontier(entries=[], task=task8), Task(name=task9, request=tstroke, examples=[]: Frontier(entries=[], task=task9), Task(name=task10, request=tstroke, examples=[]: Frontier(entries=[], task=task10), Task(name=task11, request=tstroke, examples=[]: Frontier(entries=[], task=task11), Task(name=task12, request=tstroke, examples=[]: Frontier(entries=[], task=task12), Task(name=task13, request=tstroke, examples=[]: Frontier(entries=[], task=task13), Task(name=task14, request=tstroke, examples=[]: Frontier(entries=[], task=task14), Task(name=task15, request=tstroke, examples=[]: Frontier(entries=[], task=task15), Task(name=task16, request=tstroke, examples=[]: Frontier(entries=[], task=task16), Task(name=task17, request=tstroke, examples=[]: Frontier(entries=[], task=task17), Task(name=task18, request=tstroke, examples=[]: Frontier(entries=[], task=task18), Task(name=task19, request=tstroke, examples=[]: Frontier(entries=[], task=task19), Task(name=task20, request=tstroke, examples=[]: Frontier(entries=[], task=task20), Task(name=task21, request=tstroke, examples=[]: Frontier(entries=[], task=task21), Task(name=task22, request=tstroke, examples=[]: Frontier(entries=[], task=task22), Task(name=task23, request=tstroke, examples=[]: Frontier(entries=[], task=task23), Task(name=task24, request=tstroke, examples=[]: Frontier(entries=[], task=task24), Task(name=task25, request=tstroke, examples=[]: Frontier(entries=[], task=task25), Task(name=task26, request=tstroke, examples=[]: Frontier(entries=[], task=task26), Task(name=task27, request=tstroke, examples=[]: Frontier(entries=[], task=task27), Task(name=task28, request=tstroke, examples=[]: Frontier(entries=[], task=task28), Task(name=task29, request=tstroke, examples=[]: Frontier(entries=[], task=task29), Task(name=task30, request=tstroke, examples=[]: Frontier(entries=[], task=task30), Task(name=task31, request=tstroke, examples=[]: Frontier(entries=[], task=task31), Task(name=task32, request=tstroke, examples=[]: Frontier(entries=[], task=task32), Task(name=task33, request=tstroke, examples=[]: Frontier(entries=[], task=task33), Task(name=task34, request=tstroke, examples=[]: Frontier(entries=[], task=task34), Task(name=task35, request=tstroke, examples=[]: Frontier(entries=[], task=task35), Task(name=task36, request=tstroke, examples=[]: Frontier(entries=[], task=task36), Task(name=task37, request=tstroke, examples=[]: Frontier(entries=[], task=task37), Task(name=task38, request=tstroke, examples=[]: Frontier(entries=[], task=task38), Task(name=task39, request=tstroke, examples=[]: Frontier(entries=[], task=task39), Task(name=task40, request=tstroke, examples=[]: Frontier(entries=[], task=task40), Task(name=task41, request=tstroke, examples=[]: Frontier(entries=[], task=task41), Task(name=task42, request=tstroke, examples=[]: Frontier(entries=[], task=task42), Task(name=task43, request=tstroke, examples=[]: Frontier(entries=[], task=task43), Task(name=task44, request=tstroke, examples=[]: Frontier(entries=[], task=task44), Task(name=task45, request=tstroke, examples=[]: Frontier(entries=[], task=task45), Task(name=task46, request=tstroke, examples=[]: Frontier(entries=[], task=task46), Task(name=task47, request=tstroke, examples=[]: Frontier(entries=[], task=task47), Task(name=task48, request=tstroke, examples=[]: Frontier(entries=[], task=task48), Task(name=task49, request=tstroke, examples=[]: Frontier(entries=[], task=task49), Task(name=task50, request=tstroke, examples=[]: Frontier(entries=[], task=task50), Task(name=task51, request=tstroke, examples=[]: Frontier(entries=[], task=task51), Task(name=task52, request=tstroke, examples=[]: Frontier(entries=[], task=task52), Task(name=task53, request=tstroke, examples=[]: Frontier(entries=[], task=task53), Task(name=task54, request=tstroke, examples=[]: Frontier(entries=[], task=task54), Task(name=task55, request=tstroke, examples=[]: Frontier(entries=[FrontierEntry(program=(#(lambda (lambda (transform line (transmat $0 None $1 None (Some srt))))) #(Some dist7) (Some scale6)), logPrior=-12.066283145540222, logLikelihood=0.0, FrontierEntry(program=(#(lambda (lambda (transform line (transmat $0 None $1 None (Some srt))))) #(Some dist7) (Some scale5)), logPrior=-12.068133284828384, logLikelihood=0.0], task=task55), Task(name=task56, request=tstroke, examples=[]: Frontier(entries=[], task=task56), Task(name=task57, request=tstroke, examples=[]: Frontier(entries=[], task=task57), Task(name=task58, request=tstroke, examples=[]: Frontier(entries=[], task=task58), Task(name=task59, request=tstroke, examples=[]: Frontier(entries=[], task=task59), Task(name=task60, request=tstroke, examples=[]: Frontier(entries=[], task=task60)}, numTestingTasks=None, sumMaxll=[], testingSumMaxll=[], allFrontiers={Task(name=task0, request=tstroke, examples=[]: Frontier(entries=[FrontierEntry(program=(#(lambda (connect $0 line)) circle), logPrior=-8.32550668577751, logLikelihood=0.0, FrontierEntry(program=(connect circle line), logPrior=-12.845922168032411, logLikelihood=0.0, FrontierEntry(program=(connect line circle), logPrior=-12.845922168032411, logLikelihood=0.0, FrontierEntry(program=(#(lambda ($0 (Some rst))) (lambda (#(lambda (connect $0 line)) circle))), logPrior=-13.111343897174564, logLikelihood=0.0, FrontierEntry(program=(#(lambda (connect $0 line)) (#(lambda ($0 (Some rst))) (lambda circle))), logPrior=-13.111343897174564, logLikelihood=0.0], task=task0), Task(name=task1, request=tstroke, examples=[]: Frontier(entries=[FrontierEntry(program=#(#(lambda (transform line (transmat None None ($0 Some) None None))) (lambda (Some dist6))), logPrior=-4.163798047169719, logLikelihood=0.0, FrontierEntry(program=(#(lambda ($0 (Some rst))) (lambda #(#(lambda (transform line (transmat None None ($0 Some) None None))) (lambda (Some dist6))))), logPrior=-8.949635258566772, logLikelihood=0.0, FrontierEntry(program=(#(lambda ($0 (Some dist7) None)) (lambda (lambda #(#(lambda (transform line (transmat None None ($0 Some) None None))) (lambda (Some dist6)))))), logPrior=-8.950120452135119, logLikelihood=0.0, FrontierEntry(program=(#(lambda ($0 (transmat None) (Some dist7) None)) (lambda (lambda (lambda #(#(lambda (transform line (transmat None None ($0 Some) None None))) (lambda (Some dist6))))))), logPrior=-8.950120452135119, logLikelihood=0.0, FrontierEntry(program=(#(lambda ($0 None Some)) (lambda (lambda #(#(lambda (transform line (transmat None None ($0 Some) None None))) (lambda (Some dist6)))))), logPrior=-8.950947526609024, logLikelihood=0.0], task=task1), Task(name=task2, request=tstroke, examples=[]: Frontier(entries=[FrontierEntry(program=(#(lambda (lambda (transform line (transmat None $0 (Some $1) None None)))) dist6 (Some angle2)), logPrior=-12.815153548423888, logLikelihood=0.0, FrontierEntry(program=(#(lambda (lambda (transform line (transmat None $1 (Some $0) None None)))) (Some angle2) dist6), logPrior=-12.81515354842389, logLikelihood=0.0, FrontierEntry(program=(#(lambda (lambda (transform line (transmat None $0 $1 None None)))) (Some dist6) (Some angle2)), logPrior=-15.49393490727319, logLikelihood=0.0, FrontierEntry(program=(#(lambda (lambda (transform line (transmat None $1 $0 None None)))) (Some angle2) (Some dist6)), logPrior=-15.498264319269614, logLikelihood=0.0, FrontierEntry(program=(transform line (#(lambda (lambda (lambda (transmat $1 $0 (Some $2) None None)))) dist6 None (Some angle2))), logPrior=-23.42596217028659, logLikelihood=0.0], task=task2), Task(name=task3, request=tstroke, examples=[]: Frontier(entries=[FrontierEntry(program=(#(lambda (transform line (transmat None None ($0 Some) None None))) (lambda #(Some dist7))), logPrior=-6.703714577264369, logLikelihood=0.0, FrontierEntry(program=(#(lambda (lambda (transform line (transmat None None ($1 $0) None None)))) (lambda $0) #(Some dist7)), logPrior=-9.396800956848086, logLikelihood=0.0, FrontierEntry(program=(#(lambda (lambda (transform line (transmat $0 None $1 None (Some srt))))) #(Some dist7) None), logPrior=-9.530615388813125, logLikelihood=0.0, FrontierEntry(program=(#(lambda (lambda (transform line (transmat $1 None $0 None (Some srt))))) None #(Some dist7)), logPrior=-9.558834080485758, logLikelihood=0.0, FrontierEntry(program=(#(lambda (lambda (transform line (transmat None $0 $1 None None)))) #(Some dist7) None), logPrior=-9.58841451251363, logLikelihood=0.0], task=task3), Task(name=task4, request=tstroke, examples=[]: Frontier(entries=[FrontierEntry(program=(#(lambda (transform line (transmat None None ($0 Some) None None))) (lambda ($0 dist10))), logPrior=-9.85917432994966, logLikelihood=0.0, FrontierEntry(program=(#(lambda (transform line (transmat None None ($0 Some) None None))) (lambda ($0 dist5))), logPrior=-9.874338341226775, logLikelihood=0.0, FrontierEntry(program=(#(lambda (transform line (transmat None None ($0 Some) None None))) (lambda (Some dist10))), logPrior=-10.00235910247917, logLikelihood=0.0, FrontierEntry(program=(#(lambda (transform line (transmat None None ($0 Some) None None))) (lambda (Some dist5))), logPrior=-10.017523113756285, logLikelihood=0.0, FrontierEntry(program=(#(lambda (lambda (transform line (transmat None None (Some $0) None (Some $1))))) str dist10), logPrior=-10.094178026298994, logLikelihood=0.0], task=task4), Task(name=task5, request=tstroke, examples=[]: Frontier(entries=[FrontierEntry(program=(#(lambda (transform line (transmat None None ($0 Some) None None))) (lambda ($0 dist8))), logPrior=-9.820207576823963, logLikelihood=0.0, FrontierEntry(program=(#(lambda (transform line (transmat None None ($0 Some) None None))) (lambda (Some dist8))), logPrior=-9.963392349353473, logLikelihood=0.0, FrontierEntry(program=(#(lambda (lambda (transform line (transmat None None (Some $0) None (Some $1))))) str dist8), logPrior=-10.055211273173299, logLikelihood=0.0, FrontierEntry(program=(#(lambda (lambda (transform line (transmat None None (Some $0) None (Some $1))))) rst dist8), logPrior=-10.070726883874483, logLikelihood=0.0, FrontierEntry(program=(#(lambda (lambda (transform line (transmat None None (Some $0) None (Some $1))))) srt dist8), logPrior=-10.070726883874483, logLikelihood=0.0], task=task5), Task(name=task6, request=tstroke, examples=[]: Frontier(entries=[FrontierEntry(program=(#(lambda (lambda (transform $1 (transmat None None $0 None (Some rts))))) circle #(Some dist7)), logPrior=-10.933840040371937, logLikelihood=0.0, FrontierEntry(program=(#(lambda (lambda (transform $0 (transmat None None $1 None (Some rts))))) #(Some dist7) circle), logPrior=-10.935090640004182, logLikelihood=0.0, FrontierEntry(program=(#(lambda (lambda (transform $1 (transmat None None $0 None (Some rts))))) circle (Some dist7)), logPrior=-14.285654236496116, logLikelihood=0.0, FrontierEntry(program=(#(lambda (lambda (transform $0 (transmat None None $1 None (Some rts))))) (Some dist7) circle), logPrior=-14.286904836128363, logLikelihood=0.0, FrontierEntry(program=(#(lambda (lambda (transform $1 (transmat None None $0 None (Some rts))))) circle (#(lambda ($0 (Some rst))) (lambda #(Some dist7)))), logPrior=-14.53879947575275, logLikelihood=0.0], task=task6), Task(name=task7, request=tstroke, examples=[]: Frontier(entries=[FrontierEntry(program=(#(lambda (connect $0 line)) #(#(lambda (transform line (transmat None None ($0 Some) None None))) (lambda (Some dist6)))), logPrior=-8.327447324500964, logLikelihood=0.0, FrontierEntry(program=(connect #(#(lambda (transform line (transmat None None ($0 Some) None None))) (lambda (Some dist6))) line), logPrior=-12.847862806755865, logLikelihood=0.0, FrontierEntry(program=(connect line #(#(lambda (transform line (transmat None None ($0 Some) None None))) (lambda (Some dist6)))), logPrior=-12.847862806755865, logLikelihood=0.0, FrontierEntry(program=(#(lambda ($0 (Some rst))) (lambda (#(lambda (connect $0 line)) #(#(lambda (transform line (transmat None None ($0 Some) None None))) (lambda (Some dist6)))))), logPrior=-13.113284535898018, logLikelihood=0.0, FrontierEntry(program=(#(lambda (connect $0 line)) (#(lambda ($0 (Some rst))) (lambda #(#(lambda (transform line (transmat None None ($0 Some) None None))) (lambda (Some dist6)))))), logPrior=-13.113284535898018, logLikelihood=0.0], task=task7), Task(name=task8, request=tstroke, examples=[]: Frontier(entries=[], task=task8), Task(name=task9, request=tstroke, examples=[]: Frontier(entries=[], task=task9), Task(name=task10, request=tstroke, examples=[]: Frontier(entries=[], task=task10), Task(name=task11, request=tstroke, examples=[]: Frontier(entries=[], task=task11), Task(name=task12, request=tstroke, examples=[]: Frontier(entries=[], task=task12), Task(name=task13, request=tstroke, examples=[]: Frontier(entries=[], task=task13), Task(name=task14, request=tstroke, examples=[]: Frontier(entries=[], task=task14), Task(name=task15, request=tstroke, examples=[]: Frontier(entries=[], task=task15), Task(name=task16, request=tstroke, examples=[]: Frontier(entries=[], task=task16), Task(name=task17, request=tstroke, examples=[]: Frontier(entries=[], task=task17), Task(name=task18, request=tstroke, examples=[]: Frontier(entries=[], task=task18), Task(name=task19, request=tstroke, examples=[]: Frontier(entries=[], task=task19), Task(name=task20, request=tstroke, examples=[]: Frontier(entries=[], task=task20), Task(name=task21, request=tstroke, examples=[]: Frontier(entries=[], task=task21), Task(name=task22, request=tstroke, examples=[]: Frontier(entries=[], task=task22), Task(name=task23, request=tstroke, examples=[]: Frontier(entries=[], task=task23), Task(name=task24, request=tstroke, examples=[]: Frontier(entries=[], task=task24), Task(name=task25, request=tstroke, examples=[]: Frontier(entries=[], task=task25), Task(name=task26, request=tstroke, examples=[]: Frontier(entries=[], task=task26), Task(name=task27, request=tstroke, examples=[]: Frontier(entries=[], task=task27), Task(name=task28, request=tstroke, examples=[]: Frontier(entries=[], task=task28), Task(name=task29, request=tstroke, examples=[]: Frontier(entries=[], task=task29), Task(name=task30, request=tstroke, examples=[]: Frontier(entries=[], task=task30), Task(name=task31, request=tstroke, examples=[]: Frontier(entries=[], task=task31), Task(name=task32, request=tstroke, examples=[]: Frontier(entries=[], task=task32), Task(name=task33, request=tstroke, examples=[]: Frontier(entries=[], task=task33), Task(name=task34, request=tstroke, examples=[]: Frontier(entries=[], task=task34), Task(name=task35, request=tstroke, examples=[]: Frontier(entries=[], task=task35), Task(name=task36, request=tstroke, examples=[]: Frontier(entries=[], task=task36), Task(name=task37, request=tstroke, examples=[]: Frontier(entries=[], task=task37), Task(name=task38, request=tstroke, examples=[]: Frontier(entries=[], task=task38), Task(name=task39, request=tstroke, examples=[]: Frontier(entries=[], task=task39), Task(name=task40, request=tstroke, examples=[]: Frontier(entries=[], task=task40), Task(name=task41, request=tstroke, examples=[]: Frontier(entries=[], task=task41), Task(name=task42, request=tstroke, examples=[]: Frontier(entries=[], task=task42), Task(name=task43, request=tstroke, examples=[]: Frontier(entries=[], task=task43), Task(name=task44, request=tstroke, examples=[]: Frontier(entries=[], task=task44), Task(name=task45, request=tstroke, examples=[]: Frontier(entries=[], task=task45), Task(name=task46, request=tstroke, examples=[]: Frontier(entries=[], task=task46), Task(name=task47, request=tstroke, examples=[]: Frontier(entries=[], task=task47), Task(name=task48, request=tstroke, examples=[]: Frontier(entries=[], task=task48), Task(name=task49, request=tstroke, examples=[]: Frontier(entries=[], task=task49), Task(name=task50, request=tstroke, examples=[]: Frontier(entries=[], task=task50), Task(name=task51, request=tstroke, examples=[]: Frontier(entries=[], task=task51), Task(name=task52, request=tstroke, examples=[]: Frontier(entries=[], task=task52), Task(name=task53, request=tstroke, examples=[]: Frontier(entries=[], task=task53), Task(name=task54, request=tstroke, examples=[]: Frontier(entries=[], task=task54), Task(name=task55, request=tstroke, examples=[]: Frontier(entries=[FrontierEntry(program=(#(lambda (lambda (transform line (transmat $0 None $1 None (Some srt))))) #(Some dist7) (Some scale6)), logPrior=-12.066283145540222, logLikelihood=0.0, FrontierEntry(program=(#(lambda (lambda (transform line (transmat $0 None $1 None (Some srt))))) #(Some dist7) (Some scale5)), logPrior=-12.068133284828384, logLikelihood=0.0, FrontierEntry(program=(#(lambda (lambda (transform line (transmat $0 None $1 None (Some srt))))) #(Some dist7) (Some scale4)), logPrior=-12.084940403144765, logLikelihood=0.0, FrontierEntry(program=(#(lambda (lambda (transform line (transmat $1 None $0 None (Some srt))))) (Some scale6) #(Some dist7)), logPrior=-12.094501837212857, logLikelihood=0.0, FrontierEntry(program=(#(lambda (lambda (transform line (transmat $1 None $0 None (Some srt))))) (Some scale5) #(Some dist7)), logPrior=-12.096351976501017, logLikelihood=0.0], task=task55), Task(name=task56, request=tstroke, examples=[]: Frontier(entries=[], task=task56), Task(name=task57, request=tstroke, examples=[]: Frontier(entries=[], task=task57), Task(name=task58, request=tstroke, examples=[]: Frontier(entries=[], task=task58), Task(name=task59, request=tstroke, examples=[]: Frontier(entries=[], task=task59), Task(name=task60, request=tstroke, examples=[]: Frontier(entries=[], task=task60)})\n"
     ]
    }
   ],
   "source": [
    "f = \"experimentOutputs/draw/2019-10-01T02:19:27.116528/draw_aic=1.0_arity=3_ET=1800_it=6_MF=5_noConsolidation=False_pc=10_RW=False_solver=python_STM=True_L=1_TRR=default_K=2_topkNotMAP=False_rec=False.pickle\"\n",
    "result = loadfun(f)\n",
    "print(result)"
   ]
  },
  {
   "cell_type": "code",
   "execution_count": 23,
   "metadata": {},
   "outputs": [
    {
     "data": {
      "text/plain": [
       "['__class__',\n",
       " '__delattr__',\n",
       " '__dict__',\n",
       " '__dir__',\n",
       " '__doc__',\n",
       " '__eq__',\n",
       " '__format__',\n",
       " '__ge__',\n",
       " '__getattribute__',\n",
       " '__gt__',\n",
       " '__hash__',\n",
       " '__init__',\n",
       " '__init_subclass__',\n",
       " '__le__',\n",
       " '__lt__',\n",
       " '__module__',\n",
       " '__ne__',\n",
       " '__new__',\n",
       " '__reduce__',\n",
       " '__reduce_ex__',\n",
       " '__repr__',\n",
       " '__setattr__',\n",
       " '__sizeof__',\n",
       " '__str__',\n",
       " '__subclasshook__',\n",
       " '__weakref__',\n",
       " 'abbreviate',\n",
       " 'abbreviationToParameter',\n",
       " 'abbreviations',\n",
       " 'allFrontiers',\n",
       " 'averageDescriptionLength',\n",
       " 'clearRecognitionModel',\n",
       " 'frontiersOverTime',\n",
       " 'getTestingTasks',\n",
       " 'grammars',\n",
       " 'hitsAtEachWake',\n",
       " 'learningCurve',\n",
       " 'numTestingTasks',\n",
       " 'parameterOfAbbreviation',\n",
       " 'parameters',\n",
       " 'recognitionModel',\n",
       " 'recognitionTaskMetrics',\n",
       " 'recordFrontier',\n",
       " 'searchTimes',\n",
       " 'sumMaxll',\n",
       " 'taskSolutions',\n",
       " 'testSearchTime',\n",
       " 'testingSearchTime',\n",
       " 'testingSumMaxll',\n",
       " 'timesAtEachWake',\n",
       " 'trainSearchTime']"
      ]
     },
     "execution_count": 23,
     "metadata": {},
     "output_type": "execute_result"
    }
   ],
   "source": [
    "dir(result)"
   ]
  },
  {
   "cell_type": "code",
   "execution_count": 36,
   "metadata": {},
   "outputs": [
    {
     "data": {
      "text/plain": [
       "{Task(name=task0, request=tstroke, examples=[]: 1.4223005771636963,\n",
       " Task(name=task1, request=tstroke, examples=[]: 0.14892220497131348,\n",
       " Task(name=task2, request=tstroke, examples=[]: 373.5666515827179,\n",
       " Task(name=task3, request=tstroke, examples=[]: 0.8600947856903076,\n",
       " Task(name=task4, request=tstroke, examples=[]: 14.202884197235107,\n",
       " Task(name=task5, request=tstroke, examples=[]: 14.116769313812256,\n",
       " Task(name=task6, request=tstroke, examples=[]: 30.371644496917725,\n",
       " Task(name=task7, request=tstroke, examples=[]: 1.1395506858825684,\n",
       " Task(name=task55, request=tstroke, examples=[]: 309.5474636554718}"
      ]
     },
     "execution_count": 36,
     "metadata": {},
     "output_type": "execute_result"
    }
   ],
   "source": [
    "\n",
    "result.trainSearchTime"
   ]
  },
  {
   "cell_type": "code",
   "execution_count": 38,
   "metadata": {},
   "outputs": [
    {
     "name": "stdout",
     "output_type": "stream",
     "text": [
      "DRAW TASK training set: S8full\n",
      "INCLUDING SHAPING STIMULI\n",
      "[array([[0., 0.],\n",
      "       [1., 0.]])]\n",
      "--\n",
      "[array([[ 1.00000000e+00,  0.00000000e+00],\n",
      "       [ 9.76620556e-01,  2.14970440e-01],\n",
      "       [ 9.07575420e-01,  4.19889102e-01],\n",
      "       [ 7.96093066e-01,  6.05174215e-01],\n",
      "       [ 6.47386285e-01,  7.62162055e-01],\n",
      "       [ 4.68408441e-01,  8.83512044e-01],\n",
      "       [ 2.67528339e-01,  9.63549993e-01],\n",
      "       [ 5.41389086e-02,  9.98533414e-01],\n",
      "       [-1.61781997e-01,  9.86826523e-01],\n",
      "       [-3.70138155e-01,  9.28976720e-01],\n",
      "       [-5.61187065e-01,  8.27688998e-01],\n",
      "       [-7.25995492e-01,  6.87699459e-01],\n",
      "       [-8.56857176e-01,  5.15553857e-01],\n",
      "       [-9.47653171e-01,  3.19301530e-01],\n",
      "       [-9.94137957e-01,  1.08119018e-01],\n",
      "       [-9.94137957e-01, -1.08119018e-01],\n",
      "       [-9.47653171e-01, -3.19301530e-01],\n",
      "       [-8.56857176e-01, -5.15553857e-01],\n",
      "       [-7.25995492e-01, -6.87699459e-01],\n",
      "       [-5.61187065e-01, -8.27688998e-01],\n",
      "       [-3.70138155e-01, -9.28976720e-01],\n",
      "       [-1.61781997e-01, -9.86826523e-01],\n",
      "       [ 5.41389086e-02, -9.98533414e-01],\n",
      "       [ 2.67528339e-01, -9.63549993e-01],\n",
      "       [ 4.68408441e-01, -8.83512044e-01],\n",
      "       [ 6.47386285e-01, -7.62162055e-01],\n",
      "       [ 7.96093066e-01, -6.05174215e-01],\n",
      "       [ 9.07575420e-01, -4.19889102e-01],\n",
      "       [ 9.76620556e-01, -2.14970440e-01],\n",
      "       [ 1.00000000e+00, -2.44929360e-16]])]\n",
      "--\n",
      "[array([[ 3.06161700e-17,  5.00000000e-01],\n",
      "       [-1.07485220e-01,  4.88310278e-01],\n",
      "       [-2.09944551e-01,  4.53787710e-01],\n",
      "       [-3.02587108e-01,  3.98046533e-01],\n",
      "       [-3.81081028e-01,  3.23693142e-01],\n",
      "       [-4.41756022e-01,  2.34204220e-01],\n",
      "       [-4.81774996e-01,  1.33764169e-01],\n",
      "       [-4.99266707e-01,  2.70694543e-02],\n",
      "       [-4.93413261e-01, -8.08909983e-02],\n",
      "       [-4.64488360e-01, -1.85069078e-01],\n",
      "       [-4.13844499e-01, -2.80593533e-01],\n",
      "       [-3.43849729e-01, -3.62997746e-01],\n",
      "       [-2.57776929e-01, -4.28428588e-01],\n",
      "       [-1.59650765e-01, -4.73826586e-01],\n",
      "       [-5.40595092e-02, -4.97068979e-01],\n",
      "       [ 5.40595092e-02, -4.97068979e-01],\n",
      "       [ 1.59650765e-01, -4.73826586e-01],\n",
      "       [ 2.57776929e-01, -4.28428588e-01],\n",
      "       [ 3.43849729e-01, -3.62997746e-01],\n",
      "       [ 4.13844499e-01, -2.80593533e-01],\n",
      "       [ 4.64488360e-01, -1.85069078e-01],\n",
      "       [ 4.93413261e-01, -8.08909983e-02],\n",
      "       [ 4.99266707e-01,  2.70694543e-02],\n",
      "       [ 4.81774996e-01,  1.33764169e-01],\n",
      "       [ 4.41756022e-01,  2.34204220e-01],\n",
      "       [ 3.81081028e-01,  3.23693142e-01],\n",
      "       [ 3.02587108e-01,  3.98046533e-01],\n",
      "       [ 2.09944551e-01,  4.53787710e-01],\n",
      "       [ 1.07485220e-01,  4.88310278e-01],\n",
      "       [ 1.53080850e-16,  5.00000000e-01]])]\n",
      "--\n",
      "[array([[0.000000e+00, 0.000000e+00],\n",
      "       [6.123234e-17, 1.000000e+00]])]\n",
      "--\n",
      "[array([[0., 0.],\n",
      "       [4., 0.]])]\n",
      "--\n",
      "[array([[ 0., -2.],\n",
      "       [ 1., -2.]])]\n",
      "--\n",
      "[array([[0.0000000e+00, 0.0000000e+00],\n",
      "       [2.4492936e-16, 4.0000000e+00]])]\n",
      "--\n",
      "[array([[ 0.000000e+00, -2.000000e+00],\n",
      "       [ 6.123234e-17, -1.000000e+00]])]\n",
      "--\n",
      "[array([[ 0.0000000e+00, -2.0000000e+00],\n",
      "       [ 2.4492936e-16,  2.0000000e+00]])]\n",
      "--\n"
     ]
    }
   ],
   "source": [
    "from dreamcoder.domains.draw.makeDrawTasks import makeSupervisedTasks\n",
    "tasks = makeSupervisedTasks()"
   ]
  },
  {
   "cell_type": "code",
   "execution_count": 59,
   "metadata": {},
   "outputs": [
    {
     "name": "stdout",
     "output_type": "stream",
     "text": [
      "task0\n",
      "[array([[ 5.00000000e-01,  0.00000000e+00],\n",
      "       [ 4.88310278e-01,  1.07485220e-01],\n",
      "       [ 4.53787710e-01,  2.09944551e-01],\n",
      "       [ 3.98046533e-01,  3.02587108e-01],\n",
      "       [ 3.23693142e-01,  3.81081028e-01],\n",
      "       [ 2.34204220e-01,  4.41756022e-01],\n",
      "       [ 1.33764169e-01,  4.81774996e-01],\n",
      "       [ 2.70694543e-02,  4.99266707e-01],\n",
      "       [-8.08909983e-02,  4.93413261e-01],\n",
      "       [-1.85069078e-01,  4.64488360e-01],\n",
      "       [-2.80593533e-01,  4.13844499e-01],\n",
      "       [-3.62997746e-01,  3.43849729e-01],\n",
      "       [-4.28428588e-01,  2.57776929e-01],\n",
      "       [-4.73826586e-01,  1.59650765e-01],\n",
      "       [-4.97068979e-01,  5.40595092e-02],\n",
      "       [-4.97068979e-01, -5.40595092e-02],\n",
      "       [-4.73826586e-01, -1.59650765e-01],\n",
      "       [-4.28428588e-01, -2.57776929e-01],\n",
      "       [-3.62997746e-01, -3.43849729e-01],\n",
      "       [-2.80593533e-01, -4.13844499e-01],\n",
      "       [-1.85069078e-01, -4.64488360e-01],\n",
      "       [-8.08909983e-02, -4.93413261e-01],\n",
      "       [ 2.70694543e-02, -4.99266707e-01],\n",
      "       [ 1.33764169e-01, -4.81774996e-01],\n",
      "       [ 2.34204220e-01, -4.41756022e-01],\n",
      "       [ 3.23693142e-01, -3.81081028e-01],\n",
      "       [ 3.98046533e-01, -3.02587108e-01],\n",
      "       [ 4.53787710e-01, -2.09944551e-01],\n",
      "       [ 4.88310278e-01, -1.07485220e-01],\n",
      "       [ 5.00000000e-01, -1.22464680e-16]]), array([[0., 0.],\n",
      "       [1., 0.]])]\n",
      "task1\n",
      "[array([[1., 0.],\n",
      "       [2., 0.]])]\n",
      "task2\n",
      "[array([[1., 0.],\n",
      "       [1., 1.]])]\n",
      "task3\n",
      "[array([[1.5, 0. ],\n",
      "       [2.5, 0. ]])]\n",
      "task4\n",
      "[array([[0.5, 0. ],\n",
      "       [1.5, 0. ]])]\n",
      "task5\n",
      "[array([[2., 0.],\n",
      "       [3., 0.]])]\n",
      "task6\n",
      "[array([[ 2.00000000e+00,  0.00000000e+00],\n",
      "       [ 1.98831028e+00,  1.07485220e-01],\n",
      "       [ 1.95378771e+00,  2.09944551e-01],\n",
      "       [ 1.89804653e+00,  3.02587108e-01],\n",
      "       [ 1.82369314e+00,  3.81081028e-01],\n",
      "       [ 1.73420422e+00,  4.41756022e-01],\n",
      "       [ 1.63376417e+00,  4.81774996e-01],\n",
      "       [ 1.52706945e+00,  4.99266707e-01],\n",
      "       [ 1.41910900e+00,  4.93413261e-01],\n",
      "       [ 1.31493092e+00,  4.64488360e-01],\n",
      "       [ 1.21940647e+00,  4.13844499e-01],\n",
      "       [ 1.13700225e+00,  3.43849729e-01],\n",
      "       [ 1.07157141e+00,  2.57776929e-01],\n",
      "       [ 1.02617341e+00,  1.59650765e-01],\n",
      "       [ 1.00293102e+00,  5.40595092e-02],\n",
      "       [ 1.00293102e+00, -5.40595092e-02],\n",
      "       [ 1.02617341e+00, -1.59650765e-01],\n",
      "       [ 1.07157141e+00, -2.57776929e-01],\n",
      "       [ 1.13700225e+00, -3.43849729e-01],\n",
      "       [ 1.21940647e+00, -4.13844499e-01],\n",
      "       [ 1.31493092e+00, -4.64488360e-01],\n",
      "       [ 1.41910900e+00, -4.93413261e-01],\n",
      "       [ 1.52706945e+00, -4.99266707e-01],\n",
      "       [ 1.63376417e+00, -4.81774996e-01],\n",
      "       [ 1.73420422e+00, -4.41756022e-01],\n",
      "       [ 1.82369314e+00, -3.81081028e-01],\n",
      "       [ 1.89804653e+00, -3.02587108e-01],\n",
      "       [ 1.95378771e+00, -2.09944551e-01],\n",
      "       [ 1.98831028e+00, -1.07485220e-01],\n",
      "       [ 2.00000000e+00, -1.22464680e-16]])]\n",
      "task7\n",
      "[array([[1., 0.],\n",
      "       [2., 0.]]), array([[0., 0.],\n",
      "       [1., 0.]])]\n",
      "task8\n"
     ]
    },
    {
     "ename": "ValueError",
     "evalue": "min() arg is an empty sequence",
     "output_type": "error",
     "traceback": [
      "\u001b[0;31m---------------------------------------------------------------------------\u001b[0m",
      "\u001b[0;31mValueError\u001b[0m                                Traceback (most recent call last)",
      "\u001b[0;32m<ipython-input-59-508362f707e0>\u001b[0m in \u001b[0;36m<module>\u001b[0;34m\u001b[0m\n\u001b[1;32m      1\u001b[0m \u001b[0;32mfor\u001b[0m \u001b[0mt\u001b[0m \u001b[0;32min\u001b[0m \u001b[0mtasks\u001b[0m\u001b[0;34m:\u001b[0m\u001b[0;34m\u001b[0m\u001b[0;34m\u001b[0m\u001b[0m\n\u001b[1;32m      2\u001b[0m     \u001b[0mprint\u001b[0m\u001b[0;34m(\u001b[0m\u001b[0mt\u001b[0m\u001b[0;34m)\u001b[0m\u001b[0;34m\u001b[0m\u001b[0;34m\u001b[0m\u001b[0m\n\u001b[0;32m----> 3\u001b[0;31m     \u001b[0mprint\u001b[0m\u001b[0;34m(\u001b[0m\u001b[0mresult\u001b[0m\u001b[0;34m.\u001b[0m\u001b[0mallFrontiers\u001b[0m\u001b[0;34m[\u001b[0m\u001b[0mt\u001b[0m\u001b[0;34m]\u001b[0m\u001b[0;34m.\u001b[0m\u001b[0mbestPosterior\u001b[0m\u001b[0;34m.\u001b[0m\u001b[0mprogram\u001b[0m\u001b[0;34m.\u001b[0m\u001b[0mevaluate\u001b[0m\u001b[0;34m(\u001b[0m\u001b[0;34m[\u001b[0m\u001b[0;34m]\u001b[0m\u001b[0;34m)\u001b[0m\u001b[0;34m)\u001b[0m\u001b[0;34m\u001b[0m\u001b[0;34m\u001b[0m\u001b[0m\n\u001b[0m",
      "\u001b[0;32m~/Dropbox/CODE/Python/Tenenbaum/ec/dreamcoder/frontier.py\u001b[0m in \u001b[0;36mbestPosterior\u001b[0;34m(self)\u001b[0m\n\u001b[1;32m    124\u001b[0m     \u001b[0;32mdef\u001b[0m \u001b[0mbestPosterior\u001b[0m\u001b[0;34m(\u001b[0m\u001b[0mself\u001b[0m\u001b[0;34m)\u001b[0m\u001b[0;34m:\u001b[0m\u001b[0;34m\u001b[0m\u001b[0;34m\u001b[0m\u001b[0m\n\u001b[1;32m    125\u001b[0m         return min(self.entries,\n\u001b[0;32m--> 126\u001b[0;31m                    key=lambda e: (-e.logPosterior, str(e.program)))\n\u001b[0m\u001b[1;32m    127\u001b[0m \u001b[0;34m\u001b[0m\u001b[0m\n\u001b[1;32m    128\u001b[0m     \u001b[0;32mdef\u001b[0m \u001b[0mreplaceWithSupervised\u001b[0m\u001b[0;34m(\u001b[0m\u001b[0mself\u001b[0m\u001b[0;34m,\u001b[0m \u001b[0mg\u001b[0m\u001b[0;34m)\u001b[0m\u001b[0;34m:\u001b[0m\u001b[0;34m\u001b[0m\u001b[0;34m\u001b[0m\u001b[0m\n",
      "\u001b[0;31mValueError\u001b[0m: min() arg is an empty sequence"
     ]
    }
   ],
   "source": [
    "for t in tasks:\n",
    "    print(t)\n",
    "    print(result.allFrontiers[t].bestPosterior.program.evaluate([]))\n"
   ]
  },
  {
   "cell_type": "code",
   "execution_count": 112,
   "metadata": {},
   "outputs": [
    {
     "data": {
      "text/plain": [
       "(transform line (transmat None None (Some dist8) None None))"
      ]
     },
     "execution_count": 112,
     "metadata": {},
     "output_type": "execute_result"
    }
   ],
   "source": [
    "result.taskSolutions[tasks[0]]\n",
    "result.allFrontiers[tasks[5]].bestPosterior.program.betaNormalForm()\n",
    "# print(result.allFrontiers[tasks[0]].bestPosterior.program.parseHumanReadable())\n"
   ]
  },
  {
   "cell_type": "code",
   "execution_count": 118,
   "metadata": {},
   "outputs": [
    {
     "name": "stdout",
     "output_type": "stream",
     "text": [
      "(reflect (repeat line rep0 (transmat None None None (Some dist4) (Some trs))) angle4)\n",
      "--\n",
      "(transform (repeat (repeat (transform (reflect (reflect (repeat (reflect (reflect (reflect (repeat circle rep1 (transmat (Some scale0) (Some angle6) (Some dist9) None (Some trs))) angle4) angle0) angle5) rep6 (transmat None None (Some dist3) (Some dist6) None)) angle0) angle2) (transmat None (Some angle4) None (Some dist3) (Some rts))) rep5 (transmat None None None (Some dist11) (Some rts))) rep3 (transmat None None None None (Some rts))) (transmat (Some scale1) None None (Some dist8) None))\n",
      "--\n",
      "(repeat (repeat (reflect (reflect (repeat line rep2 (transmat (Some scale0) None None (Some dist13) (Some trs))) angle3) angle7) rep4 (transmat (Some scale0) (Some angle5) None (Some dist0) None)) rep0 (transmat (Some scale1) (Some angle2) None None (Some trs)))\n",
      "--\n",
      "(transform (reflect line angle1) (transmat None None None (Some dist8) (Some trs)))\n",
      "--\n",
      "(transform (reflect (connect circle circle) angle4) (transmat (Some scale0) (Some angle6) None None (Some rts)))\n",
      "--\n",
      "line\n",
      "--\n",
      "line\n",
      "--\n",
      "line\n",
      "--\n",
      "(transform (repeat line rep6 (transmat (Some scale0) (Some angle7) None (Some dist12) (Some rts))) (transmat (Some scale1) (Some angle2) None (Some dist6) None))\n",
      "--\n",
      "(connect (connect (transform (connect (connect (repeat circle rep3 (transmat (Some scale1) None (Some dist12) (Some dist2) None)) (reflect (transform line (transmat None (Some angle4) (Some dist13) None (Some trs))) angle5)) (reflect (connect (reflect circle angle4) (transform (transform (reflect line angle5) (transmat (Some scale1) None (Some dist4) None (Some trs))) (transmat (Some scale0) None (Some dist9) (Some dist5) (Some rts)))) angle7)) (transmat (Some scale1) None None None (Some trs))) (reflect (connect (repeat (reflect line angle3) rep4 (transmat None None None None None)) (repeat (repeat (reflect (connect line (repeat (reflect line angle7) rep1 (transmat None None None (Some dist4) None))) angle4) rep0 (transmat (Some scale1) None (Some dist6) None None)) rep4 (transmat None (Some angle1) None None None))) angle2)) (connect line (repeat line rep6 (transmat (Some scale1) (Some angle0) None (Some dist11) None))))\n",
      "--\n"
     ]
    }
   ],
   "source": [
    "from dreamcoder.domains.draw.main import dreamFromGrammar\n",
    "\n",
    "dreams = dreamFromGrammar(N=10)\n",
    "for d in dreams:\n",
    "    print(d)\n",
    "    print('--')"
   ]
  },
  {
   "cell_type": "code",
   "execution_count": 182,
   "metadata": {},
   "outputs": [
    {
     "name": "stdout",
     "output_type": "stream",
     "text": [
      "(transform (reflect (connect circle circle) angle4) (transmat (Some scale0) (Some angle6) None None (Some rts)))\n",
      "(0, (transform (reflect (connect circle circle) angle4) (transmat (Some scale0) (Some angle6) None None (Some rts))))\n",
      "(0, (transform (reflect (connect circle circle) angle4)))\n",
      "(0, transform)\n",
      "(0, (reflect (connect circle circle) angle4))\n",
      "(0, (reflect (connect circle circle)))\n",
      "(0, reflect)\n",
      "(0, (connect circle circle))\n",
      "(0, (connect circle))\n",
      "(0, connect)\n",
      "(0, circle)\n",
      "(0, circle)\n",
      "(0, angle4)\n",
      "(0, (transmat (Some scale0) (Some angle6) None None (Some rts)))\n",
      "(0, (transmat (Some scale0) (Some angle6) None None))\n",
      "(0, (transmat (Some scale0) (Some angle6) None))\n",
      "(0, (transmat (Some scale0) (Some angle6)))\n",
      "(0, (transmat (Some scale0)))\n",
      "(0, transmat)\n",
      "(0, (Some scale0))\n",
      "(0, Some)\n",
      "(0, scale0)\n",
      "(0, (Some angle6))\n",
      "(0, Some)\n",
      "(0, angle6)\n",
      "(0, None)\n",
      "(0, None)\n",
      "(0, (Some rts))\n",
      "(0, Some)\n",
      "(0, rts)\n"
     ]
    }
   ],
   "source": [
    "print(dreams[4])\n",
    "for i in dreams[4].walk():\n",
    "    print(i)\n",
    "    \n",
    "# (reflect (repeat line rep0 (transmat None None None (Some dist4) (Some trs))) angle4)"
   ]
  },
  {
   "cell_type": "code",
   "execution_count": 280,
   "metadata": {
    "scrolled": false
   },
   "outputs": [
    {
     "name": "stdout",
     "output_type": "stream",
     "text": [
      "depth 0: (transform\n",
      "depth 1: (repeat\n",
      "depth 2: (repeat\n",
      "depth 3: (transform\n",
      "depth 4: (reflect\n",
      "depth 5: (reflect\n",
      "depth 6: (repeat\n",
      "depth 7: (reflect\n",
      "depth 8: (reflect\n",
      "depth 9: (reflect\n",
      "depth 10: (repeat\n",
      "depth 11: circle\n",
      "depth 11: rep1\n",
      "depth 11: (transmat\n",
      "depth 12: (Some\n",
      "depth 13: scale0)\n",
      "depth 12: (Some\n",
      "depth 13: angle6)\n",
      "depth 12: (Some\n",
      "depth 13: dist9)\n",
      "depth 12: None\n",
      "depth 12: (Some\n",
      "depth 13: trs)))\n",
      "depth 12: angle4)\n",
      "depth 11: angle0)\n",
      "depth 10: angle5)\n",
      "depth 9: rep6\n",
      "depth 9: (transmat\n",
      "depth 10: None\n",
      "depth 10: None\n",
      "depth 10: (Some\n",
      "depth 11: dist3)\n",
      "depth 10: (Some\n",
      "depth 11: dist6)\n",
      "depth 10: None))\n",
      "depth 9: angle0)\n",
      "depth 8: angle2)\n",
      "depth 7: (transmat\n",
      "depth 8: None\n",
      "depth 8: (Some\n",
      "depth 9: angle4)\n",
      "depth 8: None\n",
      "depth 8: (Some\n",
      "depth 9: dist3)\n",
      "depth 8: (Some\n",
      "depth 9: rts)))\n",
      "depth 8: rep5\n",
      "depth 8: (transmat\n",
      "depth 9: None\n",
      "depth 9: None\n",
      "depth 9: None\n",
      "depth 9: (Some\n",
      "depth 10: dist11)\n",
      "depth 9: (Some\n",
      "depth 10: rts)))\n",
      "depth 9: rep3\n",
      "depth 9: (transmat\n",
      "depth 10: None\n",
      "depth 10: None\n",
      "depth 10: None\n",
      "depth 10: None\n",
      "depth 10: (Some\n",
      "depth 11: rts)))\n",
      "depth 10: (transmat\n",
      "depth 11: (Some\n",
      "depth 12: scale1)\n",
      "depth 11: None\n",
      "depth 11: None\n",
      "depth 11: (Some\n",
      "depth 12: dist8)\n",
      "depth 11: None))\n",
      "['C']\n",
      "[11]\n"
     ]
    }
   ],
   "source": [
    "# === walk along the string. whenever you see a line or circle, keep note of its depth.\n",
    "# === outputs list of primitives and thier depths\n",
    "# === NOTE problem, this cannot deal with lets say want to connect(connect(p1, p2), p3) --> i.e,, making a new thing\n",
    "# that is three primtiives. it will call these different depth (2,2,1). \n",
    "# === PROBLEM: doesn't get repeats yet - will only output one, even though repeating multiple times.\n",
    "words = str(dreams[1].betaNormalForm()).split()\n",
    "depth = 0\n",
    "prim = []\n",
    "depthlist = []\n",
    "for w in words:\n",
    "    \n",
    "    if w.find(\"circle\")>-1:\n",
    "        prim.append(\"C\")\n",
    "        depthlist.append(depth)\n",
    "    elif w.find(\"line\")>-1:\n",
    "        prim.append(\"L\")\n",
    "        depthlist.append(depth)\n",
    "        \n",
    "    print(\"depth {}: {}\".format(depth, w))       \n",
    "    if w.find(\"(\")>-1:\n",
    "        depth+=1\n",
    "    elif w.find(\")\")>-1:\n",
    "        depth-=1\n",
    "\n",
    "print(prim)\n",
    "print(depthlist)"
   ]
  },
  {
   "cell_type": "code",
   "execution_count": 278,
   "metadata": {
    "scrolled": false
   },
   "outputs": [],
   "source": [
    "# ==== given program convert into \"strokes\", so that can pass into same behavioral aalysis as for subjects\n",
    "import numpy as np\n",
    "def program2strokes(program):\n",
    "    # program is list of numpy arrays\n",
    "    # will put down times in order. will be in fake milliseconds. \n",
    "    \n",
    "    on = 1\n",
    "    off = 300\n",
    "    strokes = []\n",
    "    for p in program:\n",
    "        times = np.linspace(on, off, p.shape[0])\n",
    "        p = np.concatenate((p, times[:,None]), axis=1)\n",
    "        on+=500\n",
    "        off+=500\n",
    "        strokes.append(p)\n",
    "    return strokes\n",
    "    \n",
    "strokes = program2strokes(dreams[1].evaluate([]))\n",
    "strokes = [s.tolist() for s in strokes]"
   ]
  },
  {
   "cell_type": "code",
   "execution_count": 291,
   "metadata": {
    "scrolled": false
   },
   "outputs": [
    {
     "data": {
      "text/plain": [
       "(transform (repeat (repeat (transform (reflect (reflect (repeat (reflect (reflect (reflect (repeat circle rep1 (transmat (Some scale0) (Some angle6) (Some dist9) None (Some trs))) angle4) angle0) angle5) rep6 (transmat None None (Some dist3) (Some dist6) None)) angle0) angle2) (transmat None (Some angle4) None (Some dist3) (Some rts))) rep5 (transmat None None None (Some dist11) (Some rts))) rep3 (transmat None None None None (Some rts))) (transmat (Some scale1) None None (Some dist8) None))"
      ]
     },
     "execution_count": 291,
     "metadata": {},
     "output_type": "execute_result"
    }
   ],
   "source": [
    "dreams[1]"
   ]
  },
  {
   "cell_type": "code",
   "execution_count": null,
   "metadata": {},
   "outputs": [],
   "source": [
    "\n"
   ]
  },
  {
   "cell_type": "code",
   "execution_count": 300,
   "metadata": {
    "scrolled": false
   },
   "outputs": [
    {
     "data": {
      "image/png": "[encoded data removed]",
      "text/plain": [
       "<Figure size 432x288 with 1 Axes>"
      ]
     },
     "metadata": {
      "needs_background": "light"
     },
     "output_type": "display_data"
    }
   ],
   "source": [
    "# ==== convert strokes to datflat, so that can use with behavioral code\n",
    "datflat = []\n",
    "datflat.append({\n",
    "    \"trialstrokes\":strokes,\n",
    "    \"trialonset\": 0,\n",
    "    \"stimname\": \"test\"\n",
    "})\n",
    "\n",
    "\n",
    "# ==== do segmentation\n",
    "import sys\n",
    "sys.path.append(\"/Users/lucastian/tenen/TENENBAUM/drawgood/experiments\")\n",
    "from segmentation import *\n",
    "from utils import *\n",
    "\n",
    "\n",
    "# strokes2nparray(strokes)\n",
    "getSegmentation(datflat)\n",
    "\n",
    "from plotsDatFlat import *\n",
    "from plotsSingleSubj import *\n",
    "\n",
    "plt.figure()\n",
    "ax = plt.axes()\n",
    "ax.set_aspect(\"equal\", \"box\")\n",
    "plotstimwrapper(ax, datflat[0][\"trialstrokes\"])"
   ]
  },
  {
   "cell_type": "code",
   "execution_count": 251,
   "metadata": {},
   "outputs": [
    {
     "name": "stdout",
     "output_type": "stream",
     "text": [
      "(50, 1)\n"
     ]
    }
   ],
   "source": [
    "tmp = np.linspace(1, 50, 50)\n",
    "\n",
    "tmp[-1,None]\n",
    "\n",
    "print(tmp[:, None].shape)"
   ]
  },
  {
   "cell_type": "code",
   "execution_count": null,
   "metadata": {},
   "outputs": [],
   "source": []
  },
  {
   "cell_type": "code",
   "execution_count": 105,
   "metadata": {},
   "outputs": [
    {
     "data": {
      "text/plain": [
       "(#(lambda (connect $0 line)) circle)"
      ]
     },
     "execution_count": 105,
     "metadata": {},
     "output_type": "execute_result"
    }
   ],
   "source": [
    "result.allFrontiers[tasks[0]].bestPosterior.program"
   ]
  },
  {
   "cell_type": "code",
   "execution_count": 158,
   "metadata": {},
   "outputs": [
    {
     "ename": "SyntaxError",
     "evalue": "unexpected EOF while parsing (<ipython-input-158-974a76825963>, line 1)",
     "output_type": "error",
     "traceback": [
      "\u001b[0;36m  File \u001b[0;32m\"<ipython-input-158-974a76825963>\"\u001b[0;36m, line \u001b[0;32m1\u001b[0m\n\u001b[0;31m    def reorderProgram():\u001b[0m\n\u001b[0m                         ^\u001b[0m\n\u001b[0;31mSyntaxError\u001b[0m\u001b[0;31m:\u001b[0m unexpected EOF while parsing\n"
     ]
    }
   ],
   "source": [
    "def reorderProgram():\n",
    "    # given a program, output all the ways it could be ordered if allowed to permute within each level:\n",
    "    "
   ]
  },
  {
   "cell_type": "code",
   "execution_count": 153,
   "metadata": {},
   "outputs": [
    {
     "data": {
      "text/plain": [
       "0.25"
      ]
     },
     "execution_count": 153,
     "metadata": {},
     "output_type": "execute_result"
    }
   ],
   "source": [
    "# ===== given some program and some behavioral sequence compute the likelihood\n",
    "# === first thing, given some sequence, get edit distance from that sequence:\n",
    "import pyxdameraulevenshtein as dl\n",
    "\n",
    "# 1) get behavior in terms of circles and lines (each numnbered)\n",
    "def segmentBehavior():\n",
    "    # --- name circles and lines based on lica\n",
    "    # -- first divide drawing into 4 vertical stripes\n",
    "    \n",
    "    return [\"C1\", \"C2\", \"L1\", \"L2\"]\n",
    "\n",
    "def segmentProgram():\n",
    "    return [\"C1\", \"L1\", \"C2\", \"L2\"]\n",
    "\n",
    "def stringDist(a, b):\n",
    "    # rerutns value between 0 and 1 (1 is max difference)\n",
    "    # first map all the items to idx identifiers (e.g. from  [\"C1\", \"C2\", \"L1\", \"L2\"] to [1,2,3,4]\n",
    "#     alphabet = [\"C1\", \"C2\", \"L1\", \"L2\"]\n",
    "#     A = [alphabet.index(aa) for aa in a]\n",
    "#     B = [alphabet.index(bb) for bb in b]\n",
    "    \n",
    "    return dl.normalized_damerau_levenshtein_distance(a,b)\n",
    "    \n",
    "    \n",
    "    \n",
    "stringDist(segmentBehavior(), segmentProgram())\n",
    "\n"
   ]
  },
  {
   "cell_type": "code",
   "execution_count": 151,
   "metadata": {},
   "outputs": [
    {
     "data": {
      "text/plain": [
       "4"
      ]
     },
     "execution_count": 151,
     "metadata": {},
     "output_type": "execute_result"
    }
   ],
   "source": [
    "import pyxdameraulevenshtein as dl\n",
    "\n",
    "dl.damerau_levenshtein_distance([\"C2\", \"C0\", \"L1\", \"L2\"], [\"C9\", \"LLL\", \"C\", \"L\"])\n"
   ]
  },
  {
   "cell_type": "code",
   "execution_count": 12,
   "metadata": {},
   "outputs": [
    {
     "name": "stdout",
     "output_type": "stream",
     "text": [
      "loaded path: experimentOutputs/draw/2019-10-01T02:19:27.116528/draw_aic=1.0_arity=3_ET=1800_it=6_MF=5_noConsolidation=False_pc=10_RW=False_solver=python_STM=True_L=1_TRR=default_K=2_topkNotMAP=False_rec=False.pickle\n",
      "Of the 1 checkpoints that you gave me, here is a matrix showing the overlap between the tasks solved:\n",
      "\tck1\n",
      "ck1\t15%\t\n",
      "Of the 1 checkpoints that you gave me, here is a matrix showing the overlap between the tasks solved:\n",
      "\tck1\n",
      "ck1\t15%\t\n"
     ]
    },
    {
     "data": {
      "image/png": "[encoded data removed]",
      "text/plain": [
       "<Figure size 360x180 with 2 Axes>"
      ]
     },
     "metadata": {
      "needs_background": "light"
     },
     "output_type": "display_data"
    }
   ],
   "source": [
    "resultPaths=[f]\n",
    "plotECResult(resultPaths)\n",
    "showSynergyMatrix([result])"
   ]
  }
 ],
 "metadata": {
  "kernelspec": {
   "display_name": "Python 3",
   "language": "python",
   "name": "python3"
  },
  "language_info": {
   "codemirror_mode": {
    "name": "ipython",
    "version": 3
   },
   "file_extension": ".py",
   "mimetype": "text/x-python",
   "name": "python",
   "nbconvert_exporter": "python",
   "pygments_lexer": "ipython3",
   "version": "3.7.3"
  }
 },
 "nbformat": 4,
 "nbformat_minor": 2
}
