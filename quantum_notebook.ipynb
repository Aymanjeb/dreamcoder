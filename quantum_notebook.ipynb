{
 "cells": [
  {
   "cell_type": "code",
   "execution_count": 1,
   "metadata": {},
   "outputs": [],
   "source": [
    "import numpy as np\n",
    "\n",
    "import dreamcoder as dc\n",
    "from dreamcoder.domains.quantum_algorithms.primitives import *\n",
    "from dreamcoder.domains.quantum_algorithms.tasks import *\n",
    "\n",
    "import time\n",
    "from tqdm import trange\n",
    "import random\n",
    "\n",
    "%autoreload 2\n",
    "%load_ext line_profiler"
   ]
  },
  {
   "cell_type": "markdown",
   "metadata": {},
   "source": [
    "### Testing some circuits"
   ]
  },
  {
   "cell_type": "code",
   "execution_count": 2,
   "metadata": {},
   "outputs": [],
   "source": [
    "\n",
    "n_qubit = 2\n",
    "full_circuit = [n_qubit,\n",
    "           [[\"cnot\", 0, 1],\n",
    "           [\"swap\", 0, 1],\n",
    "           [\"hadamard\", 1]]\n",
    "]"
   ]
  },
  {
   "cell_type": "code",
   "execution_count": 3,
   "metadata": {},
   "outputs": [
    {
     "data": {
      "text/plain": [
       "array([[1., 0., 0., 0.],\n",
       "       [0., 0., 1., 0.],\n",
       "       [0., 0., 0., 1.],\n",
       "       [0., 1., 0., 0.]], dtype=float16)"
      ]
     },
     "execution_count": 3,
     "metadata": {},
     "output_type": "execute_result"
    }
   ],
   "source": [
    "tensor = eye(n_qubit)\n",
    "tensor_to_mat(swap(cnot(tensor,0,1),0,1))"
   ]
  },
  {
   "cell_type": "code",
   "execution_count": 4,
   "metadata": {},
   "outputs": [
    {
     "data": {
      "text/plain": [
       "array([[ 0.707,  0.707,  0.   ,  0.   ],\n",
       "       [ 0.   ,  0.   ,  0.707,  0.707],\n",
       "       [ 0.   ,  0.   ,  0.707, -0.707],\n",
       "       [ 0.707, -0.707,  0.   ,  0.   ]], dtype=float16)"
      ]
     },
     "execution_count": 4,
     "metadata": {},
     "output_type": "execute_result"
    }
   ],
   "source": [
    "full_circuit_to_mat(full_circuit)"
   ]
  },
  {
   "cell_type": "code",
   "execution_count": 5,
   "metadata": {},
   "outputs": [
    {
     "name": "stderr",
     "output_type": "stream",
     "text": [
      "                  \n",
      "q_0: ──■───X──────\n",
      "     ┌─┴─┐ │ ┌───┐\n",
      "q_1: ┤ X ├─X─┤ H ├\n",
      "     └───┘   └───┘\n"
     ]
    }
   ],
   "source": [
    "print_circuit(full_circuit)"
   ]
  },
  {
   "cell_type": "code",
   "execution_count": 6,
   "metadata": {},
   "outputs": [
    {
     "name": "stdout",
     "output_type": "stream",
     "text": [
      "     ┌───┐   ┌───┐\n",
      "q_0: ┤ X ├─X─┤ H ├\n",
      "     └─┬─┘ │ └───┘\n",
      "q_1: ──■───X──────\n",
      "                  \n"
     ]
    },
    {
     "name": "stderr",
     "output_type": "stream",
     "text": [
      "Code consistent with Qiskit\n"
     ]
    }
   ],
   "source": [
    "with QiskitTester(full_circuit) as QT:\n",
    "    QT.circuit.cnot(QT.q(0),QT.q(1))\n",
    "    QT.circuit.swap(QT.q(0),QT.q(1))\n",
    "    QT.circuit.h(QT.q(1))\n",
    "print(QT)\n",
    "QT.check()"
   ]
  },
  {
   "cell_type": "code",
   "execution_count": 7,
   "metadata": {},
   "outputs": [
    {
     "data": {
      "text/plain": [
       "[[1, -1, 3], [['cnot', 1, 0]]]"
      ]
     },
     "execution_count": 7,
     "metadata": {},
     "output_type": "execute_result"
    }
   ],
   "source": [
    "n_qubit= 3\n",
    "code = dc.program.Program.parse(\"(lambda (cnot (minv(mv $0))))\")\n",
    "code.infer()\n",
    "code.evaluate([])(no_op(n_qubit))"
   ]
  },
  {
   "cell_type": "code",
   "execution_count": 8,
   "metadata": {},
   "outputs": [
    {
     "data": {
      "text/plain": [
       "tcircuit -> tcircuit"
      ]
     },
     "execution_count": 8,
     "metadata": {},
     "output_type": "execute_result"
    }
   ],
   "source": [
    "code.infer()"
   ]
  },
  {
   "cell_type": "code",
   "execution_count": 9,
   "metadata": {},
   "outputs": [
    {
     "data": {
      "text/plain": [
       "array([[1., 0., 0., 0., 0., 0., 0., 0.],\n",
       "       [0., 1., 0., 0., 0., 0., 0., 0.],\n",
       "       [0., 0., 0., 0., 0., 0., 1., 0.],\n",
       "       [0., 0., 0., 0., 0., 0., 0., 1.],\n",
       "       [0., 0., 0., 0., 1., 0., 0., 0.],\n",
       "       [0., 0., 0., 0., 0., 1., 0., 0.],\n",
       "       [0., 0., 1., 0., 0., 0., 0., 0.],\n",
       "       [0., 0., 0., 1., 0., 0., 0., 0.]], dtype=float16)"
      ]
     },
     "execution_count": 9,
     "metadata": {},
     "output_type": "execute_result"
    }
   ],
   "source": [
    "state_circuit_to_mat(code.evaluate([])(no_op(n_qubit)))"
   ]
  },
  {
   "cell_type": "markdown",
   "metadata": {},
   "source": [
    "### Testing some Tasks"
   ]
  },
  {
   "cell_type": "code",
   "execution_count": 12,
   "metadata": {},
   "outputs": [],
   "source": [
    "tasks = makeTasks()"
   ]
  },
  {
   "cell_type": "code",
   "execution_count": 11,
   "metadata": {},
   "outputs": [
    {
     "data": {
      "text/plain": [
       "(0.0, -3.8918202981106265)"
      ]
     },
     "execution_count": 11,
     "metadata": {},
     "output_type": "execute_result"
    }
   ],
   "source": [
    "task = get_task_from_name(\"hadamard_0\",tasks)\n",
    "code = dc.program.Program.parse(\"(lambda (h $0))\")\n",
    "task.logLikelihood(code),  grammar.logLikelihood(code.infer(), code)\n"
   ]
  },
  {
   "cell_type": "code",
   "execution_count": 12,
   "metadata": {},
   "outputs": [
    {
     "data": {
      "text/plain": [
       "(0.0, -3.8918202981106265)"
      ]
     },
     "execution_count": 12,
     "metadata": {},
     "output_type": "execute_result"
    }
   ],
   "source": [
    "task =get_task_from_name(\"cnot_01\",tasks)\n",
    "code = dc.program.Program.parse(\"(lambda (cnot $0))\")\n",
    "task.logLikelihood(code), grammar.logLikelihood(code.infer(), code)"
   ]
  },
  {
   "cell_type": "code",
   "execution_count": 13,
   "metadata": {},
   "outputs": [
    {
     "data": {
      "text/plain": [
       "(0.0, -7.783640596221253)"
      ]
     },
     "execution_count": 13,
     "metadata": {},
     "output_type": "execute_result"
    }
   ],
   "source": [
    "task = get_task_from_name(\"cnot_10\",tasks)\n",
    "code = dc.program.Program.parse(\"(lambda (cnot (minv(mv $0))))\")\n",
    "task.logLikelihood(code),  grammar.logLikelihood(code.infer(), code)\n"
   ]
  },
  {
   "cell_type": "code",
   "execution_count": 14,
   "metadata": {},
   "outputs": [
    {
     "data": {
      "text/plain": [
       "(0.0, -15.567281192442506)"
      ]
     },
     "execution_count": 14,
     "metadata": {},
     "output_type": "execute_result"
    }
   ],
   "source": [
    "task = get_task_from_name(\"swap_01\",tasks)\n",
    "code = dc.program.Program.parse(\"(lambda  (cnot(minv(mv_r(cnot(minv (mv (cnot $0))))))))\")\n",
    "task.logLikelihood(code),  grammar.logLikelihood(code.infer(), code)\n"
   ]
  },
  {
   "cell_type": "code",
   "execution_count": 15,
   "metadata": {},
   "outputs": [
    {
     "data": {
      "text/plain": [
       "array([[ 1.,  0.,  0.,  0.],\n",
       "       [ 0.,  1.,  0.,  0.],\n",
       "       [ 0.,  0.,  1.,  0.],\n",
       "       [ 0.,  0.,  0., -1.]], dtype=float16)"
      ]
     },
     "execution_count": 15,
     "metadata": {},
     "output_type": "execute_result"
    }
   ],
   "source": [
    "task = get_task_from_name(\"cz_01\",tasks)\n",
    "code = dc.program.Program.parse(\"(lambda (h(mv(cnot(mv_r(h (mv $0)))))))\")\n",
    "task.logLikelihood(code),  grammar.logLikelihood(code.infer(), code)\n",
    "np.round(state_circuit_to_mat(code.evaluate([])(no_op(2))),decimals=2)"
   ]
  },
  {
   "cell_type": "code",
   "execution_count": 16,
   "metadata": {},
   "outputs": [
    {
     "name": "stdout",
     "output_type": "stream",
     "text": [
      "        \n",
      "q_0: ───\n",
      "        \n",
      "q_1: ─■─\n",
      "      │ \n",
      "q_2: ─■─\n",
      "        \n"
     ]
    },
    {
     "name": "stderr",
     "output_type": "stream",
     "text": [
      "Code consistent with Qiskit\n"
     ]
    },
    {
     "data": {
      "text/plain": [
       "array([[ 1.,  0.,  0.,  0.,  0.,  0., -0., -0.],\n",
       "       [ 0.,  1.,  0.,  0.,  0.,  0., -0., -0.],\n",
       "       [ 0.,  0.,  1.,  0.,  0.,  0., -0., -0.],\n",
       "       [ 0.,  0.,  0.,  1.,  0.,  0., -0., -0.],\n",
       "       [ 0.,  0.,  0.,  0.,  1.,  0., -0., -0.],\n",
       "       [ 0.,  0.,  0.,  0.,  0.,  1., -0., -0.],\n",
       "       [ 0.,  0.,  0.,  0.,  0.,  0., -1., -0.],\n",
       "       [ 0.,  0.,  0.,  0.,  0.,  0., -0., -1.]])"
      ]
     },
     "execution_count": 16,
     "metadata": {},
     "output_type": "execute_result"
    }
   ],
   "source": [
    "with QiskitTester(code.evaluate([])(no_op(3))) as QT:\n",
    "    QT.circuit.cz(QT.q(0),QT.q(1))\n",
    "print(QT)\n",
    "QT.check()\n",
    "np.real(np.array(QT.result))"
   ]
  },
  {
   "cell_type": "code",
   "execution_count": 17,
   "metadata": {},
   "outputs": [
    {
     "name": "stdout",
     "output_type": "stream",
     "text": [
      "        \n",
      "q_0: ─■─\n",
      "      │ \n",
      "q_1: ─■─\n",
      "        \n"
     ]
    },
    {
     "data": {
      "text/plain": [
       "array([[ 1.,  0.,  0., -0.],\n",
       "       [ 0.,  1.,  0., -0.],\n",
       "       [ 0.,  0.,  1., -0.],\n",
       "       [ 0.,  0.,  0., -1.]])"
      ]
     },
     "execution_count": 17,
     "metadata": {},
     "output_type": "execute_result"
    }
   ],
   "source": [
    "with QiskitTester(code.evaluate([])(no_op(2))) as QT:\n",
    "    QT.circuit.cz(QT.q(1),QT.q(0))\n",
    "print(QT)\n",
    "np.real(np.array(QT.result))"
   ]
  },
  {
   "cell_type": "code",
   "execution_count": 20,
   "metadata": {},
   "outputs": [
    {
     "data": {
      "text/plain": [
       "(0.0, -16.527491158251493)"
      ]
     },
     "execution_count": 20,
     "metadata": {},
     "output_type": "execute_result"
    }
   ],
   "source": [
    "task = get_task_from_name(\"cnot_nn_1\",tasks)\n",
    "code = dc.program.Program.parse(\"(lambda (cnot ((rep (dec(dec(size $0))) (lambda (mv $0))) $0)))\")\n",
    "code.evaluate([])(no_op(3))\n",
    "task.logLikelihood(code),  grammar.logLikelihood(code.infer(), code)\n"
   ]
  },
  {
   "cell_type": "code",
   "execution_count": 22,
   "metadata": {},
   "outputs": [
    {
     "name": "stderr",
     "output_type": "stream",
     "text": [
      "          ┌───┐                         ┌───┐     \n",
      "q_0: ──■──┤ X ├──■───────────────────■──┤ X ├──■──\n",
      "     ┌─┴─┐└─┬─┘┌─┴─┐     ┌───┐     ┌─┴─┐└─┬─┘┌─┴─┐\n",
      "q_1: ┤ X ├──■──┤ X ├──■──┤ X ├──■──┤ X ├──■──┤ X ├\n",
      "     └───┘     └───┘┌─┴─┐└─┬─┘┌─┴─┐└───┘     └───┘\n",
      "q_2: ───────────────┤ X ├──■──┤ X ├───────────────\n",
      "                    └───┘     └───┘               \n"
     ]
    },
    {
     "data": {
      "text/plain": [
       "(0.0, -55.01960974404685)"
      ]
     },
     "execution_count": 22,
     "metadata": {},
     "output_type": "execute_result"
    }
   ],
   "source": [
    "task = get_task_from_name(\"swap_0n\",tasks)\n",
    "code = dc.program.Program.parse(\"(lambda ((  (rep (dec(dec(size $0))) (lambda ((cnot(minv(mv_r(cnot(minv (mv (cnot(mv_r $0)))))))))) )  (mv_r( (rep (dec(size $0)) (lambda (mv((cnot(minv(mv_r(cnot(minv (mv (cnot $0)))))))))) ) $0 )))))\")\n",
    "print_circuit(code.evaluate([])(no_op(3)))\n",
    "task.logLikelihood(code),  grammar.logLikelihood(code.infer(), code)"
   ]
  },
  {
   "cell_type": "code",
   "execution_count": 23,
   "metadata": {},
   "outputs": [],
   "source": [
    "## If swap was included\n",
    "# task = get_task_from_name(\"swap_0n\",tasks)\n",
    "# code = dc.program.Program.parse(\"(lambda ((  (rep (dec(dec(size $0))) (lambda (swap(mv_r $0))) )  (mv_r( (rep (dec(size $0)) (lambda (mv(swap $0))) ) $0 )))))\")\n",
    "# print_circuit(code.evaluate([])(no_op(5)))\n",
    "# task.logLikelihood(code),  grammar.logLikelihood(code.infer(), code)"
   ]
  },
  {
   "cell_type": "code",
   "execution_count": 24,
   "metadata": {},
   "outputs": [],
   "source": [
    "## If swap was included\n",
    "# task = get_task_from_name(\"swap_0n\",tasks)\n",
    "# code = dc.program.Program.parse(\"(lambda ((  (rep (dec(dec(size $0))) (lambda (swap(mv_r $0))) )  (mv_r( (rep (dec(size $0)) (lambda (mv(swap $0))) )  $0 )))))\")\n",
    "# print_circuit(code.evaluate([])(no_op(5)))\n",
    "# task.logLikelihood(code),  grammar.logLikelihood(code.infer(), code)"
   ]
  },
  {
   "cell_type": "markdown",
   "metadata": {},
   "source": [
    "### Profile bottom-up enumeration"
   ]
  },
  {
   "cell_type": "code",
   "execution_count": 13,
   "metadata": {},
   "outputs": [
    {
     "name": "stdout",
     "output_type": "stream",
     "text": [
      "CUDA is available?: False\n",
      "using cuda?: False\n"
     ]
    },
    {
     "name": "stderr",
     "output_type": "stream",
     "text": [
      "usage: ipykernel_launcher.py [-h] [--resume RESUME] [-i ITERATIONS]\n",
      "                             [-t ENUMERATIONTIMEOUT] [-R RECOGNITIONTIMEOUT]\n",
      "                             [-RS RECOGNITIONSTEPS] [-k TOPK]\n",
      "                             [-p PSEUDOCOUNTS] [-b AIC] [-l STRUCTUREPENALTY]\n",
      "                             [-a ARITY] [-c CPUS] [--no-cuda]\n",
      "                             [-m MAXIMUMFRONTIER] [--reuseRecognition]\n",
      "                             [--recognition] [--ensembleSize ENSEMBLESIZE]\n",
      "                             [-g] [-d] [--no-consolidation]\n",
      "                             [--testingTimeout TESTINGTIMEOUT]\n",
      "                             [--testEvery TESTEVERY] [--seed SEED]\n",
      "                             [--activation {relu,sigmoid,tanh}]\n",
      "                             [--solver {ocaml,pypy,bottom,python}]\n",
      "                             [-r HELMHOLTZRATIO]\n",
      "                             [--compressor {pypy,rust,vs,pypy_vs,ocaml,memorize}]\n",
      "                             [--matrixRank MATRIXRANK] [--mask]\n",
      "                             [--biasOptimal] [--contextual]\n",
      "                             [--clear-recognition CLEAR-RECOGNITION]\n",
      "                             [--primitive-graph PRIMITIVE-GRAPH [PRIMITIVE-GRAPH ...]]\n",
      "                             [--taskBatchSize TASKBATCHSIZE]\n",
      "                             [--taskReranker {default,random,randomShuffle,unsolved,unsolvedEntropy,unsolvedRandomEntropy,randomkNN,randomLowEntropykNN}]\n",
      "                             [--storeTaskMetrics] [--rewriteTaskMetrics]\n",
      "                             [--addTaskMetrics ADDTASKMETRICS [ADDTASKMETRICS ...]]\n",
      "                             [--auxiliary] [--addFullTaskMetrics]\n",
      "                             [--countParameters COUNTPARAMETERS]\n",
      "ipykernel_launcher.py: error: unrecognized arguments: --ip=127.0.0.1 --stdin=9003 --control=9001 --hb=9000 --Session.signature_scheme=\"hmac-sha256\" --Session.key=b\"1536060b-098c-4fd5-b891-f22aa0311306\" --shell=9002 --transport=\"tcp\" --iopub=9004 --f=/var/folders/g6/m3rq3pbs7lq6drdpnnfm1fvjwthg2w/T/tmp-23320Afm1Zw1Bm3I3.json\n"
     ]
    }
   ],
   "source": [
    "try:\n",
    "    import binutil  # required to import from dreamcoder modules\n",
    "except ModuleNotFoundError:\n",
    "    import bin.binutil  # alt import if called as module\n",
    "\n",
    "from dreamcoder.domains.quantum_algorithms.main import main\n",
    "from dreamcoder.dreamcoder import commandlineArguments\n",
    "from dreamcoder.utilities import numberOfCPUs\n",
    "\n",
    "arguments = commandlineArguments(\n",
    "    featureExtractor=None, # it was TowerCNN\n",
    "    CPUs=numberOfCPUs(),\n",
    "    helmholtzRatio=0.5,\n",
    "    recognitionTimeout=6,\n",
    "    iterations=6,\n",
    "    a=3,\n",
    "    structurePenalty=1,\n",
    "    pseudoCounts=10,\n",
    "    topK=2,\n",
    "    maximumFrontier=5,\n",
    "    extras=None,\n",
    "    solver=\"bottom\", \n",
    "    useRecognitionModel=False,\n",
    "    enumerationTimeout=6,#-g\n",
    "    compressor=\"pypy\")   #ocaml, python, pypy  \n"
   ]
  },
  {
   "cell_type": "code",
   "execution_count": 14,
   "metadata": {},
   "outputs": [
    {
     "name": "stderr",
     "output_type": "stream",
     "text": [
      "Running EC on 01-mar-grp-0020 @ 2022-04-03 20:06:17.653038 with 8 CPUs and parameters:\n",
      "\t noConsolidation  =  False\n",
      "\t iterations  =  6\n",
      "\t enumerationTimeout  =  6\n",
      "\t useRecognitionModel  =  False\n",
      "\t topk_use_only_likelihood  =  False\n",
      "\t pseudoCounts  =  10\n",
      "\t aic  =  1.0\n",
      "\t structurePenalty  =  1\n",
      "\t arity  =  3\n",
      "\t taskReranker  =  default\n",
      "\t storeTaskMetrics  =  True\n",
      "\t rewriteTaskMetrics  =  False\n",
      "\t maximumFrontier  =  5\n",
      "\t solver  =  bottom\n",
      "\t topK  =  2\n",
      "\t evaluationTimeout  =  0.01\n",
      "\t cuda  =  False\n",
      "\n",
      "Currently using this much memory: 208424960\n",
      "Currently using this much memory: 208429056\n",
      "Using a waking task batch of size: 19\n",
      "Disabling parallelism on the Python side because we only have one job.\n",
      "If you are using ocaml or bottom, there could still be parallelism.\n",
      "(frontend) Launching int -> tcircuit (19 tasks) w/ 8 CPUs. 0.000000 <= MDL < 6.000000. Timeout 6.000000.\n",
      "PANIC! Exception in child worker: [Errno 2] No such file or directory: 'pypy3': 'pypy3'\n",
      "Traceback (most recent call last):\n",
      "  File \"/Users/lsarra/ownCloud/topics/artificial-scientific-discovery/2021_Unitary-Synthesis/ec/dreamcoder/enumeration.py\", line 243, in _f\n",
      "    r = f(*a, **k)\n",
      "  File \"/Users/lsarra/ownCloud/topics/artificial-scientific-discovery/2021_Unitary-Synthesis/ec/dreamcoder/enumeration.py\", line 407, in solveForTask_bottom\n",
      "    compile_me=False,\n",
      "  File \"/Users/lsarra/ownCloud/topics/artificial-scientific-discovery/2021_Unitary-Synthesis/ec/dreamcoder/utilities.py\", line 404, in callCompiled\n",
      "    stdin=subprocess.PIPE, stdout=subprocess.PIPE)\n",
      "  File \"/Users/lsarra/opt/anaconda3/envs/dc/lib/python3.7/subprocess.py\", line 800, in __init__\n",
      "    restore_signals, start_new_session)\n",
      "  File \"/Users/lsarra/opt/anaconda3/envs/dc/lib/python3.7/subprocess.py\", line 1551, in _execute_child\n",
      "    raise child_exception_type(errno_num, err_msg, err_filename)\n",
      "FileNotFoundError: [Errno 2] No such file or directory: 'pypy3': 'pypy3'\n",
      "\n"
     ]
    },
    {
     "ename": "AssertionError",
     "evalue": "",
     "output_type": "error",
     "traceback": [
      "\u001b[0;31m---------------------------------------------------------------------------\u001b[0m",
      "\u001b[0;31mAssertionError\u001b[0m                            Traceback (most recent call last)",
      "\u001b[0;32m/var/folders/g6/m3rq3pbs7lq6drdpnnfm1fvjwthg2w/T/ipykernel_23556/2686176463.py\u001b[0m in \u001b[0;36m<module>\u001b[0;34m\u001b[0m\n\u001b[1;32m      1\u001b[0m \u001b[0;31m# %lprun -f dc.domains.quantum_algorithms.primitives.tensor_contraction -f dc.domains.quantum_algorithms.tasks.QuantumTask.logLikelihood -f dc.domains.quantum_algorithms.primitives.execute_quantum_algorithm -f full_circuit_to_mat -f dc.enumeration.multicoreEnumeration main(arguments)\u001b[0m\u001b[0;34m\u001b[0m\u001b[0;34m\u001b[0m\u001b[0;34m\u001b[0m\u001b[0m\n\u001b[0;32m----> 2\u001b[0;31m \u001b[0mmain\u001b[0m\u001b[0;34m(\u001b[0m\u001b[0marguments\u001b[0m\u001b[0;34m)\u001b[0m\u001b[0;34m\u001b[0m\u001b[0;34m\u001b[0m\u001b[0m\n\u001b[0m",
      "\u001b[0;32m~/ownCloud/topics/artificial-scientific-discovery/2021_Unitary-Synthesis/ec/dreamcoder/domains/quantum_algorithms/main.py\u001b[0m in \u001b[0;36mmain\u001b[0;34m(arguments)\u001b[0m\n\u001b[1;32m     41\u001b[0m                            \u001b[0mevaluationTimeout\u001b[0m\u001b[0;34m=\u001b[0m\u001b[0mevaluationTimeout\u001b[0m\u001b[0;34m,\u001b[0m\u001b[0;34m\u001b[0m\u001b[0;34m\u001b[0m\u001b[0m\n\u001b[1;32m     42\u001b[0m                            **arguments)\n\u001b[0;32m---> 43\u001b[0;31m     \u001b[0;32mfor\u001b[0m \u001b[0mresult\u001b[0m \u001b[0;32min\u001b[0m \u001b[0mgenerator\u001b[0m\u001b[0;34m:\u001b[0m\u001b[0;34m\u001b[0m\u001b[0;34m\u001b[0m\u001b[0m\n\u001b[0m\u001b[1;32m     44\u001b[0m         \u001b[0;32mcontinue\u001b[0m\u001b[0;34m\u001b[0m\u001b[0;34m\u001b[0m\u001b[0m\n\u001b[1;32m     45\u001b[0m \u001b[0;34m\u001b[0m\u001b[0m\n",
      "\u001b[0;32m~/ownCloud/topics/artificial-scientific-discovery/2021_Unitary-Synthesis/ec/dreamcoder/dreamcoder.py\u001b[0m in \u001b[0;36mecIterator\u001b[0;34m(grammar, tasks, _, useDSL, noConsolidation, mask, seed, addFullTaskMetrics, matrixRank, solver, compressor, biasOptimal, contextual, testingTasks, iterations, resume, enumerationTimeout, testingTimeout, testEvery, reuseRecognition, ensembleSize, useRecognitionModel, recognitionTimeout, recognitionSteps, helmholtzRatio, featureExtractor, activation, topK, topk_use_only_likelihood, use_map_search_times, maximumFrontier, pseudoCounts, aic, structurePenalty, arity, evaluationTimeout, taskBatchSize, taskReranker, CPUs, cuda, message, outputPrefix, storeTaskMetrics, rewriteTaskMetrics, auxiliaryLoss, custom_wake_generative)\u001b[0m\n\u001b[1;32m    411\u001b[0m                                                       \u001b[0menumerationTimeout\u001b[0m\u001b[0;34m=\u001b[0m\u001b[0menumerationTimeout\u001b[0m\u001b[0;34m,\u001b[0m\u001b[0;34m\u001b[0m\u001b[0;34m\u001b[0m\u001b[0m\n\u001b[1;32m    412\u001b[0m                                                       \u001b[0mCPUs\u001b[0m\u001b[0;34m=\u001b[0m\u001b[0mCPUs\u001b[0m\u001b[0;34m,\u001b[0m\u001b[0;34m\u001b[0m\u001b[0;34m\u001b[0m\u001b[0m\n\u001b[0;32m--> 413\u001b[0;31m                                                       evaluationTimeout=evaluationTimeout)\n\u001b[0m\u001b[1;32m    414\u001b[0m             \u001b[0mresult\u001b[0m\u001b[0;34m.\u001b[0m\u001b[0mtrainSearchTime\u001b[0m \u001b[0;34m=\u001b[0m \u001b[0;34m{\u001b[0m\u001b[0mt\u001b[0m\u001b[0;34m:\u001b[0m \u001b[0mtm\u001b[0m \u001b[0;32mfor\u001b[0m \u001b[0mt\u001b[0m\u001b[0;34m,\u001b[0m \u001b[0mtm\u001b[0m \u001b[0;32min\u001b[0m \u001b[0mtimes\u001b[0m\u001b[0;34m.\u001b[0m\u001b[0mitems\u001b[0m\u001b[0;34m(\u001b[0m\u001b[0;34m)\u001b[0m \u001b[0;32mif\u001b[0m \u001b[0mtm\u001b[0m \u001b[0;32mis\u001b[0m \u001b[0;32mnot\u001b[0m \u001b[0;32mNone\u001b[0m\u001b[0;34m}\u001b[0m\u001b[0;34m\u001b[0m\u001b[0;34m\u001b[0m\u001b[0m\n\u001b[1;32m    415\u001b[0m         \u001b[0;32melse\u001b[0m\u001b[0;34m:\u001b[0m\u001b[0;34m\u001b[0m\u001b[0;34m\u001b[0m\u001b[0m\n",
      "\u001b[0;32m~/ownCloud/topics/artificial-scientific-discovery/2021_Unitary-Synthesis/ec/dreamcoder/dreamcoder.py\u001b[0m in \u001b[0;36mdefault_wake_generative\u001b[0;34m(grammar, tasks, maximumFrontier, enumerationTimeout, CPUs, solver, evaluationTimeout)\u001b[0m\n\u001b[1;32m    557\u001b[0m                                                    \u001b[0mCPUs\u001b[0m\u001b[0;34m=\u001b[0m\u001b[0mCPUs\u001b[0m\u001b[0;34m,\u001b[0m\u001b[0;34m\u001b[0m\u001b[0;34m\u001b[0m\u001b[0m\n\u001b[1;32m    558\u001b[0m                                                    \u001b[0msolver\u001b[0m\u001b[0;34m=\u001b[0m\u001b[0msolver\u001b[0m\u001b[0;34m,\u001b[0m\u001b[0;34m\u001b[0m\u001b[0;34m\u001b[0m\u001b[0m\n\u001b[0;32m--> 559\u001b[0;31m                                                    evaluationTimeout=evaluationTimeout)\n\u001b[0m\u001b[1;32m    560\u001b[0m     \u001b[0meprint\u001b[0m\u001b[0;34m(\u001b[0m\u001b[0;34m\"Generative model enumeration results:\"\u001b[0m\u001b[0;34m)\u001b[0m\u001b[0;34m\u001b[0m\u001b[0;34m\u001b[0m\u001b[0m\n\u001b[1;32m    561\u001b[0m     \u001b[0meprint\u001b[0m\u001b[0;34m(\u001b[0m\u001b[0mFrontier\u001b[0m\u001b[0;34m.\u001b[0m\u001b[0mdescribe\u001b[0m\u001b[0;34m(\u001b[0m\u001b[0mtopDownFrontiers\u001b[0m\u001b[0;34m)\u001b[0m\u001b[0;34m)\u001b[0m\u001b[0;34m\u001b[0m\u001b[0;34m\u001b[0m\u001b[0m\n",
      "\u001b[0;32m~/ownCloud/topics/artificial-scientific-discovery/2021_Unitary-Synthesis/ec/dreamcoder/enumeration.py\u001b[0m in \u001b[0;36mmulticoreEnumeration\u001b[0;34m(g, tasks, _, enumerationTimeout, solver, CPUs, maximumFrontier, verbose, evaluationTimeout, testing)\u001b[0m\n\u001b[1;32m    189\u001b[0m             \u001b[0meprint\u001b[0m\u001b[0;34m(\u001b[0m\u001b[0;34m\"PANIC! Exception in child worker:\"\u001b[0m\u001b[0;34m,\u001b[0m \u001b[0mmessage\u001b[0m\u001b[0;34m.\u001b[0m\u001b[0mexception\u001b[0m\u001b[0;34m)\u001b[0m\u001b[0;34m\u001b[0m\u001b[0;34m\u001b[0m\u001b[0m\n\u001b[1;32m    190\u001b[0m             \u001b[0meprint\u001b[0m\u001b[0;34m(\u001b[0m\u001b[0mmessage\u001b[0m\u001b[0;34m.\u001b[0m\u001b[0mstacktrace\u001b[0m\u001b[0;34m)\u001b[0m\u001b[0;34m\u001b[0m\u001b[0;34m\u001b[0m\u001b[0m\n\u001b[0;32m--> 191\u001b[0;31m             \u001b[0;32massert\u001b[0m \u001b[0;32mFalse\u001b[0m\u001b[0;34m\u001b[0m\u001b[0;34m\u001b[0m\u001b[0m\n\u001b[0m\u001b[1;32m    192\u001b[0m         \u001b[0;32melif\u001b[0m \u001b[0mmessage\u001b[0m\u001b[0;34m.\u001b[0m\u001b[0mresult\u001b[0m \u001b[0;34m==\u001b[0m \u001b[0;34m\"success\"\u001b[0m\u001b[0;34m:\u001b[0m\u001b[0;34m\u001b[0m\u001b[0;34m\u001b[0m\u001b[0m\n\u001b[1;32m    193\u001b[0m             \u001b[0;31m# Mark the CPUs is no longer being used and pause the stopwatch\u001b[0m\u001b[0;34m\u001b[0m\u001b[0;34m\u001b[0m\u001b[0;34m\u001b[0m\u001b[0m\n",
      "\u001b[0;31mAssertionError\u001b[0m: "
     ]
    }
   ],
   "source": [
    "# %lprun -f dc.domains.quantum_algorithms.primitives.tensor_contraction -f dc.domains.quantum_algorithms.tasks.QuantumTask.logLikelihood -f dc.domains.quantum_algorithms.primitives.execute_quantum_algorithm -f full_circuit_to_mat -f dc.enumeration.multicoreEnumeration main(arguments)\n",
    "main(arguments)"
   ]
  },
  {
   "cell_type": "code",
   "execution_count": 17,
   "metadata": {},
   "outputs": [
    {
     "data": {
      "text/plain": [
       "(-inf, -14.02196522126076)"
      ]
     },
     "execution_count": 17,
     "metadata": {},
     "output_type": "execute_result"
    }
   ],
   "source": [
    "code = dc.program.Program.parse(\"(lambda ((rep (inc(inc(dec 0))) (lambda (mv $0))) $0))\")\n",
    "code.evaluate([])(no_op(5))\n",
    "code.infer()\n",
    "tasks[0].logLikelihood(code),  grammar.logLikelihood(code.infer(), code)\n"
   ]
  },
  {
   "cell_type": "markdown",
   "metadata": {},
   "source": [
    "## Recognition model"
   ]
  },
  {
   "cell_type": "code",
   "execution_count": 27,
   "metadata": {},
   "outputs": [],
   "source": [
    "#continuationtype = tcircuit\n",
    "#avoid  no _ op "
   ]
  },
  {
   "cell_type": "code",
   "execution_count": 18,
   "metadata": {},
   "outputs": [
    {
     "name": "stdout",
     "output_type": "stream",
     "text": [
      "0.000000\tt0\t$_\n",
      "0.000000\ttcircuit -> tcircuit\tmv\n",
      "0.000000\ttcircuit -> tcircuit\tmv_r\n",
      "0.000000\ttcircuit -> tcircuit\tminv\n",
      "0.000000\ttcircuit -> tcircuit\th\n",
      "0.000000\ttcircuit -> tcircuit\tcnot\n",
      "0.000000\tint -> (tcircuit -> tcircuit) -> tcircuit -> tcircuit\trep\n",
      "0.000000\tint\t0\n",
      "0.000000\tint -> int\tinc\n",
      "0.000000\tint -> int\tdec\n",
      "0.000000\ttcircuit -> int\tsize\n"
     ]
    }
   ],
   "source": [
    "print(grammar)"
   ]
  },
  {
   "cell_type": "code",
   "execution_count": 19,
   "metadata": {},
   "outputs": [],
   "source": [
    "# Compare outputs with and without observational equivalence\n",
    "\n",
    "# primitives = [\n",
    "#     p_move_next,\n",
    "#     p_no_op,\n",
    "#     p_hadamard,\n",
    "# ]\n",
    "\n",
    "\n",
    "# grammar = dc.grammar.Grammar.uniform(primitives)\n",
    "\n",
    "restricted_pcfg = dc.grammar.PCFG.from_grammar(grammar, request=dc.type.arrow(tcircuit, tcircuit))\n",
    "full_pcfg = dc.grammar.PCFG.from_grammar(full_grammar, request=dc.type.arrow(tcircuit_full, tcircuit_full))\n",
    "\n"
   ]
  },
  {
   "cell_type": "code",
   "execution_count": 20,
   "metadata": {},
   "outputs": [],
   "source": [
    "iterator = restricted_pcfg.quantized_enumeration(observational_equivalence=False)"
   ]
  },
  {
   "cell_type": "code",
   "execution_count": 21,
   "metadata": {},
   "outputs": [
    {
     "name": "stderr",
     "output_type": "stream",
     "text": [
      "[(lambda 0)]\n"
     ]
    },
    {
     "name": "stdout",
     "output_type": "stream",
     "text": [
      "(lambda $0)\n",
      "(lambda (mv $0))\n",
      "(lambda (mv_r $0))\n",
      "(lambda (minv $0))\n",
      "(lambda (h $0))\n",
      "(lambda (cnot $0))\n",
      "(lambda (mv (mv $0)))\n",
      "(lambda (mv (mv_r $0)))\n",
      "(lambda (mv (minv $0)))\n",
      "(lambda (mv (h $0)))\n",
      "(lambda (mv (cnot $0)))\n",
      "(lambda (mv_r (mv $0)))\n",
      "(lambda (mv_r (mv_r $0)))\n",
      "(lambda (mv_r (minv $0)))\n",
      "(lambda (mv_r (h $0)))\n",
      "(lambda (mv_r (cnot $0)))\n",
      "(lambda (minv (mv $0)))\n",
      "(lambda (minv (mv_r $0)))\n",
      "(lambda (minv (minv $0)))\n",
      "(lambda (minv (h $0)))\n"
     ]
    }
   ],
   "source": [
    "for i in range(20):\n",
    "    print(next(iterator))"
   ]
  },
  {
   "cell_type": "code",
   "execution_count": 24,
   "metadata": {},
   "outputs": [
    {
     "data": {
      "text/plain": [
       "[[1, 1, 3], [['hadamard', 0], ['hadamard', 0]]]"
      ]
     },
     "execution_count": 24,
     "metadata": {},
     "output_type": "execute_result"
    }
   ],
   "source": [
    "dc.program.Program.parse(\"(lambda (mv (h (h  $0))))\").evaluate([])(no_op(3))"
   ]
  },
  {
   "cell_type": "code",
   "execution_count": 25,
   "metadata": {},
   "outputs": [],
   "source": [
    "iterator = restricted_pcfg.quantized_enumeration(observational_equivalence=True)"
   ]
  },
  {
   "cell_type": "code",
   "execution_count": 26,
   "metadata": {},
   "outputs": [
    {
     "name": "stderr",
     "output_type": "stream",
     "text": [
      "[(lambda 0)]\n"
     ]
    },
    {
     "name": "stdout",
     "output_type": "stream",
     "text": [
      "(lambda $0)\n",
      "(lambda (mv $0))\n",
      "(lambda (mv_r $0))\n",
      "(lambda (minv $0))\n",
      "(lambda (h $0))\n",
      "(lambda (cnot $0))\n",
      "(lambda (mv (mv $0)))\n",
      "(lambda (mv (minv $0)))\n",
      "(lambda (mv (h $0)))\n",
      "(lambda (mv (cnot $0)))\n",
      "(lambda (minv (h $0)))\n",
      "(lambda (minv (cnot $0)))\n",
      "(lambda (h (mv $0)))\n",
      "(lambda (h (cnot $0)))\n",
      "(lambda (cnot (mv $0)))\n",
      "(lambda (cnot (h $0)))\n",
      "(lambda (mv (mv (mv $0))))\n",
      "(lambda (mv (mv (minv $0))))\n",
      "(lambda (mv (mv (h $0))))\n",
      "(lambda (mv (mv (cnot $0))))\n",
      "(lambda (mv (minv (h $0))))\n",
      "(lambda (mv (minv (cnot $0))))\n",
      "(lambda (mv (h (mv $0))))\n",
      "(lambda (mv (h (cnot $0))))\n",
      "(lambda (mv (cnot (mv $0))))\n",
      "(lambda (mv (cnot (h $0))))\n",
      "(lambda (mv_r (h (mv $0))))\n",
      "(lambda (mv_r (cnot (mv $0))))\n",
      "(lambda (minv (h (mv $0))))\n",
      "(lambda (minv (h (cnot $0))))\n",
      "(lambda (minv (cnot (mv $0))))\n",
      "(lambda (minv (cnot (h $0))))\n",
      "(lambda (h (mv (mv $0))))\n",
      "(lambda (h (mv (h $0))))\n",
      "(lambda (h (mv (cnot $0))))\n",
      "(lambda (h (cnot (mv $0))))\n",
      "(lambda (h (cnot (h $0))))\n",
      "(lambda (cnot (mv (mv $0))))\n",
      "(lambda (cnot (mv (minv $0))))\n",
      "(lambda (cnot (mv (h $0))))\n",
      "(lambda (cnot (mv (cnot $0))))\n",
      "(lambda (cnot (h (mv $0))))\n",
      "(lambda (cnot (h (cnot $0))))\n",
      "(lambda (mv (mv (mv (minv $0)))))\n",
      "(lambda (mv (mv (mv (h $0)))))\n",
      "(lambda (mv (mv (mv (cnot $0)))))\n",
      "(lambda (mv (mv (minv (h $0)))))\n",
      "(lambda (mv (mv (minv (cnot $0)))))\n",
      "(lambda (mv (mv (h (mv $0)))))\n",
      "(lambda (mv (mv (h (cnot $0)))))\n",
      "(lambda (mv (mv (cnot (mv $0)))))\n",
      "(lambda (mv (mv (cnot (h $0)))))\n",
      "(lambda (mv (minv (h (mv $0)))))\n",
      "(lambda (mv (minv (h (cnot $0)))))\n",
      "(lambda (mv (minv (cnot (mv $0)))))\n",
      "(lambda (mv (minv (cnot (h $0)))))\n",
      "(lambda (mv (h (mv (mv $0)))))\n",
      "(lambda (mv (h (mv (h $0)))))\n",
      "(lambda (mv (h (mv (cnot $0)))))\n",
      "(lambda (mv (h (cnot (mv $0)))))\n",
      "(lambda (mv (h (cnot (h $0)))))\n",
      "(lambda (mv (cnot (mv (mv $0)))))\n",
      "(lambda (mv (cnot (mv (minv $0)))))\n",
      "(lambda (mv (cnot (mv (h $0)))))\n",
      "(lambda (mv (cnot (mv (cnot $0)))))\n",
      "(lambda (mv (cnot (h (mv $0)))))\n",
      "(lambda (mv (cnot (h (cnot $0)))))\n",
      "(lambda (mv_r (minv (h (mv $0)))))\n",
      "(lambda (mv_r (minv (cnot (mv $0)))))\n",
      "(lambda (mv_r (h (mv (mv $0)))))\n",
      "(lambda (mv_r (h (mv (h $0)))))\n",
      "(lambda (mv_r (h (mv (cnot $0)))))\n",
      "(lambda (mv_r (h (cnot (mv $0)))))\n",
      "(lambda (mv_r (cnot (mv (mv $0)))))\n",
      "(lambda (mv_r (cnot (mv (minv $0)))))\n",
      "(lambda (mv_r (cnot (mv (h $0)))))\n",
      "(lambda (mv_r (cnot (mv (cnot $0)))))\n",
      "(lambda (mv_r (cnot (h (mv $0)))))\n",
      "(lambda (minv (h (mv (mv $0)))))\n",
      "(lambda (minv (h (mv (h $0)))))\n",
      "(lambda (minv (h (mv (cnot $0)))))\n",
      "(lambda (minv (h (cnot (mv $0)))))\n",
      "(lambda (minv (h (cnot (h $0)))))\n",
      "(lambda (minv (cnot (mv (mv $0)))))\n",
      "(lambda (minv (cnot (mv (minv $0)))))\n",
      "(lambda (minv (cnot (mv (h $0)))))\n",
      "(lambda (minv (cnot (mv (cnot $0)))))\n",
      "(lambda (minv (cnot (h (mv $0)))))\n",
      "(lambda (minv (cnot (h (cnot $0)))))\n",
      "(lambda (h (mv (mv (mv $0)))))\n",
      "(lambda (h (mv (mv (h $0)))))\n",
      "(lambda (h (mv (mv (cnot $0)))))\n",
      "(lambda (h (mv (h (mv $0)))))\n",
      "(lambda (h (mv (h (cnot $0)))))\n",
      "(lambda (h (mv (cnot (mv $0)))))\n",
      "(lambda (h (mv (cnot (h $0)))))\n",
      "(lambda (h (cnot (mv (mv $0)))))\n",
      "(lambda (h (cnot (mv (minv $0)))))\n",
      "(lambda (h (cnot (mv (h $0)))))\n",
      "(lambda (h (cnot (mv (cnot $0)))))\n",
      "(lambda (h (cnot (h (mv $0)))))\n",
      "(lambda (h (cnot (h (cnot $0)))))\n",
      "(lambda (cnot (mv (mv (minv $0)))))\n",
      "(lambda (cnot (mv (mv (h $0)))))\n",
      "(lambda (cnot (mv (mv (cnot $0)))))\n",
      "(lambda (cnot (mv (minv (h $0)))))\n",
      "(lambda (cnot (mv (minv (cnot $0)))))\n",
      "(lambda (cnot (mv (h (mv $0)))))\n",
      "(lambda (cnot (mv (h (cnot $0)))))\n",
      "(lambda (cnot (mv (cnot (mv $0)))))\n",
      "(lambda (cnot (mv (cnot (h $0)))))\n",
      "(lambda (cnot (mv_r (h (mv $0)))))\n",
      "(lambda (cnot (mv_r (cnot (mv $0)))))\n",
      "(lambda (cnot (minv (h (mv $0)))))\n",
      "(lambda (cnot (minv (cnot (mv $0)))))\n",
      "(lambda (cnot (h (mv (mv $0)))))\n",
      "(lambda (cnot (h (mv (h $0)))))\n",
      "(lambda (cnot (h (mv (cnot $0)))))\n",
      "(lambda (cnot (h (cnot (mv $0)))))\n",
      "(lambda (cnot (h (cnot (h $0)))))\n",
      "(lambda (mv (mv (mv (minv (h $0))))))\n",
      "(lambda (mv (mv (mv (minv (cnot $0))))))\n",
      "(lambda (mv (mv (mv (h (cnot $0))))))\n",
      "(lambda (mv (mv (mv (cnot (h $0))))))\n",
      "(lambda (mv (mv (minv (h (mv $0))))))\n",
      "(lambda (mv (mv (minv (h (cnot $0))))))\n",
      "(lambda (mv (mv (minv (cnot (mv $0))))))\n",
      "(lambda (mv (mv (minv (cnot (h $0))))))\n",
      "(lambda (mv (mv (h (mv (h $0))))))\n",
      "(lambda (mv (mv (h (mv (cnot $0))))))\n",
      "(lambda (mv (mv (h (cnot (mv $0))))))\n",
      "(lambda (mv (mv (h (cnot (h $0))))))\n",
      "(lambda (mv (mv (cnot (mv (minv $0))))))\n",
      "(lambda (mv (mv (cnot (mv (h $0))))))\n",
      "(lambda (mv (mv (cnot (mv (cnot $0))))))\n",
      "(lambda (mv (mv (cnot (h (mv $0))))))\n",
      "(lambda (mv (mv (cnot (h (cnot $0))))))\n",
      "(lambda (mv (minv (h (mv (mv $0))))))\n",
      "(lambda (mv (minv (h (mv (h $0))))))\n",
      "(lambda (mv (minv (h (mv (cnot $0))))))\n",
      "(lambda (mv (minv (h (cnot (mv $0))))))\n",
      "(lambda (mv (minv (h (cnot (h $0))))))\n",
      "(lambda (mv (minv (cnot (mv (mv $0))))))\n",
      "(lambda (mv (minv (cnot (mv (minv $0))))))\n",
      "(lambda (mv (minv (cnot (mv (h $0))))))\n",
      "(lambda (mv (minv (cnot (mv (cnot $0))))))\n",
      "(lambda (mv (minv (cnot (h (mv $0))))))\n",
      "(lambda (mv (minv (cnot (h (cnot $0))))))\n",
      "(lambda (mv (h (mv (mv (h $0))))))\n",
      "(lambda (mv (h (mv (mv (cnot $0))))))\n",
      "(lambda (mv (h (mv (h (mv $0))))))\n",
      "(lambda (mv (h (mv (h (cnot $0))))))\n",
      "(lambda (mv (h (mv (cnot (mv $0))))))\n",
      "(lambda (mv (h (mv (cnot (h $0))))))\n",
      "(lambda (mv (h (cnot (mv (mv $0))))))\n",
      "(lambda (mv (h (cnot (mv (minv $0))))))\n",
      "(lambda (mv (h (cnot (mv (h $0))))))\n",
      "(lambda (mv (h (cnot (mv (cnot $0))))))\n",
      "(lambda (mv (h (cnot (h (mv $0))))))\n",
      "(lambda (mv (h (cnot (h (cnot $0))))))\n",
      "(lambda (mv (cnot (mv (mv (minv $0))))))\n",
      "(lambda (mv (cnot (mv (mv (h $0))))))\n",
      "(lambda (mv (cnot (mv (mv (cnot $0))))))\n",
      "(lambda (mv (cnot (mv (minv (h $0))))))\n",
      "(lambda (mv (cnot (mv (minv (cnot $0))))))\n",
      "(lambda (mv (cnot (mv (h (mv $0))))))\n",
      "(lambda (mv (cnot (mv (h (cnot $0))))))\n",
      "(lambda (mv (cnot (mv (cnot (mv $0))))))\n",
      "(lambda (mv (cnot (mv (cnot (h $0))))))\n",
      "(lambda (mv (cnot (mv_r (h (mv $0))))))\n",
      "(lambda (mv (cnot (mv_r (cnot (mv $0))))))\n",
      "(lambda (mv (cnot (minv (h (mv $0))))))\n",
      "(lambda (mv (cnot (minv (cnot (mv $0))))))\n",
      "(lambda (mv (cnot (h (mv (mv $0))))))\n",
      "(lambda (mv (cnot (h (mv (h $0))))))\n",
      "(lambda (mv (cnot (h (mv (cnot $0))))))\n",
      "(lambda (mv (cnot (h (cnot (mv $0))))))\n",
      "(lambda (mv (cnot (h (cnot (h $0))))))\n",
      "(lambda (mv_r (mv_r (h (mv (mv $0))))))\n",
      "(lambda (mv_r (mv_r (cnot (mv (mv $0))))))\n",
      "(lambda (mv_r (minv (h (mv (mv $0))))))\n",
      "(lambda (mv_r (minv (h (mv (h $0))))))\n",
      "(lambda (mv_r (minv (h (mv (cnot $0))))))\n",
      "(lambda (mv_r (minv (h (cnot (mv $0))))))\n",
      "(lambda (mv_r (minv (cnot (mv (mv $0))))))\n",
      "(lambda (mv_r (minv (cnot (mv (minv $0))))))\n",
      "(lambda (mv_r (minv (cnot (mv (h $0))))))\n",
      "(lambda (mv_r (minv (cnot (mv (cnot $0))))))\n",
      "(lambda (mv_r (minv (cnot (h (mv $0))))))\n",
      "(lambda (mv_r (h (mv (mv (mv $0))))))\n",
      "(lambda (mv_r (h (mv (mv (h $0))))))\n",
      "(lambda (mv_r (h (mv (mv (cnot $0))))))\n",
      "(lambda (mv_r (h (mv (h (mv $0))))))\n",
      "(lambda (mv_r (h (mv (h (cnot $0))))))\n",
      "(lambda (mv_r (h (mv (cnot (mv $0))))))\n",
      "(lambda (mv_r (h (mv (cnot (h $0))))))\n",
      "(lambda (mv_r (h (cnot (mv (mv $0))))))\n",
      "(lambda (mv_r (h (cnot (mv (minv $0))))))\n",
      "(lambda (mv_r (h (cnot (mv (h $0))))))\n",
      "(lambda (mv_r (h (cnot (mv (cnot $0))))))\n"
     ]
    }
   ],
   "source": [
    "for i in range(200):\n",
    "    print(next(iterator))"
   ]
  },
  {
   "cell_type": "markdown",
   "metadata": {},
   "source": [
    "#### Enumerating arithmetic"
   ]
  },
  {
   "cell_type": "code",
   "execution_count": 27,
   "metadata": {},
   "outputs": [],
   "source": [
    "primitives = [\n",
    "    # p_0,\n",
    "    p_inc,\n",
    "    p_dec,\n",
    "]\n",
    "\n",
    "grammar = dc.grammar.Grammar.uniform(primitives)\n",
    "pcfg = dc.grammar.PCFG.from_grammar(grammar, request=dc.type.arrow(dc.type.tint, dc.type.tint))\n"
   ]
  },
  {
   "cell_type": "code",
   "execution_count": 28,
   "metadata": {},
   "outputs": [],
   "source": [
    "iterator = pcfg.quantized_enumeration()"
   ]
  },
  {
   "cell_type": "code",
   "execution_count": 29,
   "metadata": {},
   "outputs": [
    {
     "name": "stderr",
     "output_type": "stream",
     "text": [
      "[(lambda 0)]\n"
     ]
    },
    {
     "name": "stdout",
     "output_type": "stream",
     "text": [
      "(lambda $0)\n",
      "(lambda (inc $0))\n",
      "(lambda (dec $0))\n",
      "(lambda (inc (inc $0)))\n",
      "(lambda (dec (dec $0)))\n",
      "(lambda (inc (inc (inc $0))))\n",
      "(lambda (dec (dec (dec $0))))\n",
      "(lambda (inc (inc (inc (inc $0)))))\n",
      "(lambda (dec (dec (dec (dec $0)))))\n",
      "(lambda (inc (inc (inc (inc (inc $0))))))\n",
      "(lambda (dec (dec (dec (dec (dec $0))))))\n",
      "(lambda (inc (inc (inc (inc (inc (inc $0)))))))\n",
      "(lambda (dec (dec (dec (dec (dec (dec $0)))))))\n",
      "(lambda (inc (inc (inc (inc (inc (inc (inc $0))))))))\n",
      "(lambda (dec (dec (dec (dec (dec (dec (dec $0))))))))\n",
      "(lambda (inc (inc (inc (inc (inc (inc (inc (inc $0)))))))))\n",
      "(lambda (dec (dec (dec (dec (dec (dec (dec (dec $0)))))))))\n",
      "(lambda (inc (inc (inc (inc (inc (inc (inc (inc (inc $0))))))))))\n",
      "(lambda (dec (dec (dec (dec (dec (dec (dec (dec (dec $0))))))))))\n",
      "(lambda (inc (inc (inc (inc (inc (inc (inc (inc (inc (inc $0)))))))))))\n",
      "(lambda (dec (dec (dec (dec (dec (dec (dec (dec (dec (dec $0)))))))))))\n",
      "(lambda (inc (inc (inc (inc (inc (inc (inc (inc (inc (inc (inc $0))))))))))))\n",
      "(lambda (dec (dec (dec (dec (dec (dec (dec (dec (dec (dec (dec $0))))))))))))\n",
      "(lambda (inc (inc (inc (inc (inc (inc (inc (inc (inc (inc (inc (inc $0)))))))))))))\n",
      "(lambda (dec (dec (dec (dec (dec (dec (dec (dec (dec (dec (dec (dec $0)))))))))))))\n",
      "(lambda (inc (inc (inc (inc (inc (inc (inc (inc (inc (inc (inc (inc (inc $0))))))))))))))\n",
      "(lambda (dec (dec (dec (dec (dec (dec (dec (dec (dec (dec (dec (dec (dec $0))))))))))))))\n",
      "(lambda (inc (inc (inc (inc (inc (inc (inc (inc (inc (inc (inc (inc (inc (inc $0)))))))))))))))\n",
      "(lambda (dec (dec (dec (dec (dec (dec (dec (dec (dec (dec (dec (dec (dec (dec $0)))))))))))))))\n",
      "(lambda (inc (inc (inc (inc (inc (inc (inc (inc (inc (inc (inc (inc (inc (inc (inc $0))))))))))))))))\n",
      "(lambda (dec (dec (dec (dec (dec (dec (dec (dec (dec (dec (dec (dec (dec (dec (dec $0))))))))))))))))\n",
      "(lambda (inc (inc (inc (inc (inc (inc (inc (inc (inc (inc (inc (inc (inc (inc (inc (inc $0)))))))))))))))))\n",
      "(lambda (dec (dec (dec (dec (dec (dec (dec (dec (dec (dec (dec (dec (dec (dec (dec (dec $0)))))))))))))))))\n",
      "(lambda (inc (inc (inc (inc (inc (inc (inc (inc (inc (inc (inc (inc (inc (inc (inc (inc (inc $0))))))))))))))))))\n",
      "(lambda (dec (dec (dec (dec (dec (dec (dec (dec (dec (dec (dec (dec (dec (dec (dec (dec (dec $0))))))))))))))))))\n",
      "(lambda (inc (inc (inc (inc (inc (inc (inc (inc (inc (inc (inc (inc (inc (inc (inc (inc (inc (inc $0)))))))))))))))))))\n",
      "(lambda (dec (dec (dec (dec (dec (dec (dec (dec (dec (dec (dec (dec (dec (dec (dec (dec (dec (dec $0)))))))))))))))))))\n",
      "(lambda (inc (inc (inc (inc (inc (inc (inc (inc (inc (inc (inc (inc (inc (inc (inc (inc (inc (inc (inc $0))))))))))))))))))))\n",
      "(lambda (dec (dec (dec (dec (dec (dec (dec (dec (dec (dec (dec (dec (dec (dec (dec (dec (dec (dec (dec $0))))))))))))))))))))\n",
      "(lambda (inc (inc (inc (inc (inc (inc (inc (inc (inc (inc (inc (inc (inc (inc (inc (inc (inc (inc (inc (inc $0)))))))))))))))))))))\n",
      "(lambda (dec (dec (dec (dec (dec (dec (dec (dec (dec (dec (dec (dec (dec (dec (dec (dec (dec (dec (dec (dec $0)))))))))))))))))))))\n",
      "(lambda (inc (inc (inc (inc (inc (inc (inc (inc (inc (inc (inc (inc (inc (inc (inc (inc (inc (inc (inc (inc (inc $0))))))))))))))))))))))\n",
      "(lambda (dec (dec (dec (dec (dec (dec (dec (dec (dec (dec (dec (dec (dec (dec (dec (dec (dec (dec (dec (dec (dec $0))))))))))))))))))))))\n",
      "(lambda (inc (inc (inc (inc (inc (inc (inc (inc (inc (inc (inc (inc (inc (inc (inc (inc (inc (inc (inc (inc (inc (inc $0)))))))))))))))))))))))\n",
      "(lambda (dec (dec (dec (dec (dec (dec (dec (dec (dec (dec (dec (dec (dec (dec (dec (dec (dec (dec (dec (dec (dec (dec $0)))))))))))))))))))))))\n",
      "(lambda (inc (inc (inc (inc (inc (inc (inc (inc (inc (inc (inc (inc (inc (inc (inc (inc (inc (inc (inc (inc (inc (inc (inc $0))))))))))))))))))))))))\n",
      "(lambda (dec (dec (dec (dec (dec (dec (dec (dec (dec (dec (dec (dec (dec (dec (dec (dec (dec (dec (dec (dec (dec (dec (dec $0))))))))))))))))))))))))\n",
      "(lambda (inc (inc (inc (inc (inc (inc (inc (inc (inc (inc (inc (inc (inc (inc (inc (inc (inc (inc (inc (inc (inc (inc (inc (inc $0)))))))))))))))))))))))))\n",
      "(lambda (dec (dec (dec (dec (dec (dec (dec (dec (dec (dec (dec (dec (dec (dec (dec (dec (dec (dec (dec (dec (dec (dec (dec (dec $0)))))))))))))))))))))))))\n",
      "(lambda (inc (inc (inc (inc (inc (inc (inc (inc (inc (inc (inc (inc (inc (inc (inc (inc (inc (inc (inc (inc (inc (inc (inc (inc (inc $0))))))))))))))))))))))))))\n",
      "(lambda (dec (dec (dec (dec (dec (dec (dec (dec (dec (dec (dec (dec (dec (dec (dec (dec (dec (dec (dec (dec (dec (dec (dec (dec (dec $0))))))))))))))))))))))))))\n",
      "(lambda (inc (inc (inc (inc (inc (inc (inc (inc (inc (inc (inc (inc (inc (inc (inc (inc (inc (inc (inc (inc (inc (inc (inc (inc (inc (inc $0)))))))))))))))))))))))))))\n",
      "(lambda (dec (dec (dec (dec (dec (dec (dec (dec (dec (dec (dec (dec (dec (dec (dec (dec (dec (dec (dec (dec (dec (dec (dec (dec (dec (dec $0)))))))))))))))))))))))))))\n",
      "(lambda (inc (inc (inc (inc (inc (inc (inc (inc (inc (inc (inc (inc (inc (inc (inc (inc (inc (inc (inc (inc (inc (inc (inc (inc (inc (inc (inc $0))))))))))))))))))))))))))))\n",
      "(lambda (dec (dec (dec (dec (dec (dec (dec (dec (dec (dec (dec (dec (dec (dec (dec (dec (dec (dec (dec (dec (dec (dec (dec (dec (dec (dec (dec $0))))))))))))))))))))))))))))\n",
      "(lambda (inc (inc (inc (inc (inc (inc (inc (inc (inc (inc (inc (inc (inc (inc (inc (inc (inc (inc (inc (inc (inc (inc (inc (inc (inc (inc (inc (inc $0)))))))))))))))))))))))))))))\n",
      "(lambda (dec (dec (dec (dec (dec (dec (dec (dec (dec (dec (dec (dec (dec (dec (dec (dec (dec (dec (dec (dec (dec (dec (dec (dec (dec (dec (dec (dec $0)))))))))))))))))))))))))))))\n",
      "(lambda (inc (inc (inc (inc (inc (inc (inc (inc (inc (inc (inc (inc (inc (inc (inc (inc (inc (inc (inc (inc (inc (inc (inc (inc (inc (inc (inc (inc (inc $0))))))))))))))))))))))))))))))\n",
      "(lambda (dec (dec (dec (dec (dec (dec (dec (dec (dec (dec (dec (dec (dec (dec (dec (dec (dec (dec (dec (dec (dec (dec (dec (dec (dec (dec (dec (dec (dec $0))))))))))))))))))))))))))))))\n",
      "(lambda (inc (inc (inc (inc (inc (inc (inc (inc (inc (inc (inc (inc (inc (inc (inc (inc (inc (inc (inc (inc (inc (inc (inc (inc (inc (inc (inc (inc (inc (inc $0)))))))))))))))))))))))))))))))\n",
      "(lambda (dec (dec (dec (dec (dec (dec (dec (dec (dec (dec (dec (dec (dec (dec (dec (dec (dec (dec (dec (dec (dec (dec (dec (dec (dec (dec (dec (dec (dec (dec $0)))))))))))))))))))))))))))))))\n",
      "(lambda (inc (inc (inc (inc (inc (inc (inc (inc (inc (inc (inc (inc (inc (inc (inc (inc (inc (inc (inc (inc (inc (inc (inc (inc (inc (inc (inc (inc (inc (inc (inc $0))))))))))))))))))))))))))))))))\n",
      "(lambda (dec (dec (dec (dec (dec (dec (dec (dec (dec (dec (dec (dec (dec (dec (dec (dec (dec (dec (dec (dec (dec (dec (dec (dec (dec (dec (dec (dec (dec (dec (dec $0))))))))))))))))))))))))))))))))\n",
      "(lambda (inc (inc (inc (inc (inc (inc (inc (inc (inc (inc (inc (inc (inc (inc (inc (inc (inc (inc (inc (inc (inc (inc (inc (inc (inc (inc (inc (inc (inc (inc (inc (inc $0)))))))))))))))))))))))))))))))))\n",
      "(lambda (dec (dec (dec (dec (dec (dec (dec (dec (dec (dec (dec (dec (dec (dec (dec (dec (dec (dec (dec (dec (dec (dec (dec (dec (dec (dec (dec (dec (dec (dec (dec (dec $0)))))))))))))))))))))))))))))))))\n",
      "(lambda (inc (inc (inc (inc (inc (inc (inc (inc (inc (inc (inc (inc (inc (inc (inc (inc (inc (inc (inc (inc (inc (inc (inc (inc (inc (inc (inc (inc (inc (inc (inc (inc (inc $0))))))))))))))))))))))))))))))))))\n",
      "(lambda (dec (dec (dec (dec (dec (dec (dec (dec (dec (dec (dec (dec (dec (dec (dec (dec (dec (dec (dec (dec (dec (dec (dec (dec (dec (dec (dec (dec (dec (dec (dec (dec (dec $0))))))))))))))))))))))))))))))))))\n",
      "(lambda (inc (inc (inc (inc (inc (inc (inc (inc (inc (inc (inc (inc (inc (inc (inc (inc (inc (inc (inc (inc (inc (inc (inc (inc (inc (inc (inc (inc (inc (inc (inc (inc (inc (inc $0)))))))))))))))))))))))))))))))))))\n",
      "(lambda (dec (dec (dec (dec (dec (dec (dec (dec (dec (dec (dec (dec (dec (dec (dec (dec (dec (dec (dec (dec (dec (dec (dec (dec (dec (dec (dec (dec (dec (dec (dec (dec (dec (dec $0)))))))))))))))))))))))))))))))))))\n",
      "(lambda (inc (inc (inc (inc (inc (inc (inc (inc (inc (inc (inc (inc (inc (inc (inc (inc (inc (inc (inc (inc (inc (inc (inc (inc (inc (inc (inc (inc (inc (inc (inc (inc (inc (inc (inc $0))))))))))))))))))))))))))))))))))))\n",
      "(lambda (dec (dec (dec (dec (dec (dec (dec (dec (dec (dec (dec (dec (dec (dec (dec (dec (dec (dec (dec (dec (dec (dec (dec (dec (dec (dec (dec (dec (dec (dec (dec (dec (dec (dec (dec $0))))))))))))))))))))))))))))))))))))\n",
      "(lambda (inc (inc (inc (inc (inc (inc (inc (inc (inc (inc (inc (inc (inc (inc (inc (inc (inc (inc (inc (inc (inc (inc (inc (inc (inc (inc (inc (inc (inc (inc (inc (inc (inc (inc (inc (inc $0)))))))))))))))))))))))))))))))))))))\n",
      "(lambda (dec (dec (dec (dec (dec (dec (dec (dec (dec (dec (dec (dec (dec (dec (dec (dec (dec (dec (dec (dec (dec (dec (dec (dec (dec (dec (dec (dec (dec (dec (dec (dec (dec (dec (dec (dec $0)))))))))))))))))))))))))))))))))))))\n",
      "(lambda (inc (inc (inc (inc (inc (inc (inc (inc (inc (inc (inc (inc (inc (inc (inc (inc (inc (inc (inc (inc (inc (inc (inc (inc (inc (inc (inc (inc (inc (inc (inc (inc (inc (inc (inc (inc (inc $0))))))))))))))))))))))))))))))))))))))\n",
      "(lambda (dec (dec (dec (dec (dec (dec (dec (dec (dec (dec (dec (dec (dec (dec (dec (dec (dec (dec (dec (dec (dec (dec (dec (dec (dec (dec (dec (dec (dec (dec (dec (dec (dec (dec (dec (dec (dec $0))))))))))))))))))))))))))))))))))))))\n",
      "(lambda (inc (inc (inc (inc (inc (inc (inc (inc (inc (inc (inc (inc (inc (inc (inc (inc (inc (inc (inc (inc (inc (inc (inc (inc (inc (inc (inc (inc (inc (inc (inc (inc (inc (inc (inc (inc (inc (inc $0)))))))))))))))))))))))))))))))))))))))\n",
      "(lambda (dec (dec (dec (dec (dec (dec (dec (dec (dec (dec (dec (dec (dec (dec (dec (dec (dec (dec (dec (dec (dec (dec (dec (dec (dec (dec (dec (dec (dec (dec (dec (dec (dec (dec (dec (dec (dec (dec $0)))))))))))))))))))))))))))))))))))))))\n",
      "(lambda (inc (inc (inc (inc (inc (inc (inc (inc (inc (inc (inc (inc (inc (inc (inc (inc (inc (inc (inc (inc (inc (inc (inc (inc (inc (inc (inc (inc (inc (inc (inc (inc (inc (inc (inc (inc (inc (inc (inc $0))))))))))))))))))))))))))))))))))))))))\n",
      "(lambda (dec (dec (dec (dec (dec (dec (dec (dec (dec (dec (dec (dec (dec (dec (dec (dec (dec (dec (dec (dec (dec (dec (dec (dec (dec (dec (dec (dec (dec (dec (dec (dec (dec (dec (dec (dec (dec (dec (dec $0))))))))))))))))))))))))))))))))))))))))\n",
      "(lambda (inc (inc (inc (inc (inc (inc (inc (inc (inc (inc (inc (inc (inc (inc (inc (inc (inc (inc (inc (inc (inc (inc (inc (inc (inc (inc (inc (inc (inc (inc (inc (inc (inc (inc (inc (inc (inc (inc (inc (inc $0)))))))))))))))))))))))))))))))))))))))))\n",
      "(lambda (dec (dec (dec (dec (dec (dec (dec (dec (dec (dec (dec (dec (dec (dec (dec (dec (dec (dec (dec (dec (dec (dec (dec (dec (dec (dec (dec (dec (dec (dec (dec (dec (dec (dec (dec (dec (dec (dec (dec (dec $0)))))))))))))))))))))))))))))))))))))))))\n",
      "(lambda (inc (inc (inc (inc (inc (inc (inc (inc (inc (inc (inc (inc (inc (inc (inc (inc (inc (inc (inc (inc (inc (inc (inc (inc (inc (inc (inc (inc (inc (inc (inc (inc (inc (inc (inc (inc (inc (inc (inc (inc (inc $0))))))))))))))))))))))))))))))))))))))))))\n",
      "(lambda (dec (dec (dec (dec (dec (dec (dec (dec (dec (dec (dec (dec (dec (dec (dec (dec (dec (dec (dec (dec (dec (dec (dec (dec (dec (dec (dec (dec (dec (dec (dec (dec (dec (dec (dec (dec (dec (dec (dec (dec (dec $0))))))))))))))))))))))))))))))))))))))))))\n",
      "(lambda (inc (inc (inc (inc (inc (inc (inc (inc (inc (inc (inc (inc (inc (inc (inc (inc (inc (inc (inc (inc (inc (inc (inc (inc (inc (inc (inc (inc (inc (inc (inc (inc (inc (inc (inc (inc (inc (inc (inc (inc (inc (inc $0)))))))))))))))))))))))))))))))))))))))))))\n",
      "(lambda (dec (dec (dec (dec (dec (dec (dec (dec (dec (dec (dec (dec (dec (dec (dec (dec (dec (dec (dec (dec (dec (dec (dec (dec (dec (dec (dec (dec (dec (dec (dec (dec (dec (dec (dec (dec (dec (dec (dec (dec (dec (dec $0)))))))))))))))))))))))))))))))))))))))))))\n",
      "(lambda (inc (inc (inc (inc (inc (inc (inc (inc (inc (inc (inc (inc (inc (inc (inc (inc (inc (inc (inc (inc (inc (inc (inc (inc (inc (inc (inc (inc (inc (inc (inc (inc (inc (inc (inc (inc (inc (inc (inc (inc (inc (inc (inc $0))))))))))))))))))))))))))))))))))))))))))))\n",
      "(lambda (dec (dec (dec (dec (dec (dec (dec (dec (dec (dec (dec (dec (dec (dec (dec (dec (dec (dec (dec (dec (dec (dec (dec (dec (dec (dec (dec (dec (dec (dec (dec (dec (dec (dec (dec (dec (dec (dec (dec (dec (dec (dec (dec $0))))))))))))))))))))))))))))))))))))))))))))\n",
      "(lambda (inc (inc (inc (inc (inc (inc (inc (inc (inc (inc (inc (inc (inc (inc (inc (inc (inc (inc (inc (inc (inc (inc (inc (inc (inc (inc (inc (inc (inc (inc (inc (inc (inc (inc (inc (inc (inc (inc (inc (inc (inc (inc (inc (inc $0)))))))))))))))))))))))))))))))))))))))))))))\n",
      "(lambda (dec (dec (dec (dec (dec (dec (dec (dec (dec (dec (dec (dec (dec (dec (dec (dec (dec (dec (dec (dec (dec (dec (dec (dec (dec (dec (dec (dec (dec (dec (dec (dec (dec (dec (dec (dec (dec (dec (dec (dec (dec (dec (dec (dec $0)))))))))))))))))))))))))))))))))))))))))))))\n",
      "(lambda (inc (inc (inc (inc (inc (inc (inc (inc (inc (inc (inc (inc (inc (inc (inc (inc (inc (inc (inc (inc (inc (inc (inc (inc (inc (inc (inc (inc (inc (inc (inc (inc (inc (inc (inc (inc (inc (inc (inc (inc (inc (inc (inc (inc (inc $0))))))))))))))))))))))))))))))))))))))))))))))\n",
      "(lambda (dec (dec (dec (dec (dec (dec (dec (dec (dec (dec (dec (dec (dec (dec (dec (dec (dec (dec (dec (dec (dec (dec (dec (dec (dec (dec (dec (dec (dec (dec (dec (dec (dec (dec (dec (dec (dec (dec (dec (dec (dec (dec (dec (dec (dec $0))))))))))))))))))))))))))))))))))))))))))))))\n",
      "(lambda (inc (inc (inc (inc (inc (inc (inc (inc (inc (inc (inc (inc (inc (inc (inc (inc (inc (inc (inc (inc (inc (inc (inc (inc (inc (inc (inc (inc (inc (inc (inc (inc (inc (inc (inc (inc (inc (inc (inc (inc (inc (inc (inc (inc (inc (inc $0)))))))))))))))))))))))))))))))))))))))))))))))\n",
      "(lambda (dec (dec (dec (dec (dec (dec (dec (dec (dec (dec (dec (dec (dec (dec (dec (dec (dec (dec (dec (dec (dec (dec (dec (dec (dec (dec (dec (dec (dec (dec (dec (dec (dec (dec (dec (dec (dec (dec (dec (dec (dec (dec (dec (dec (dec (dec $0)))))))))))))))))))))))))))))))))))))))))))))))\n",
      "(lambda (inc (inc (inc (inc (inc (inc (inc (inc (inc (inc (inc (inc (inc (inc (inc (inc (inc (inc (inc (inc (inc (inc (inc (inc (inc (inc (inc (inc (inc (inc (inc (inc (inc (inc (inc (inc (inc (inc (inc (inc (inc (inc (inc (inc (inc (inc (inc $0))))))))))))))))))))))))))))))))))))))))))))))))\n",
      "(lambda (dec (dec (dec (dec (dec (dec (dec (dec (dec (dec (dec (dec (dec (dec (dec (dec (dec (dec (dec (dec (dec (dec (dec (dec (dec (dec (dec (dec (dec (dec (dec (dec (dec (dec (dec (dec (dec (dec (dec (dec (dec (dec (dec (dec (dec (dec (dec $0))))))))))))))))))))))))))))))))))))))))))))))))\n",
      "(lambda (inc (inc (inc (inc (inc (inc (inc (inc (inc (inc (inc (inc (inc (inc (inc (inc (inc (inc (inc (inc (inc (inc (inc (inc (inc (inc (inc (inc (inc (inc (inc (inc (inc (inc (inc (inc (inc (inc (inc (inc (inc (inc (inc (inc (inc (inc (inc (inc $0)))))))))))))))))))))))))))))))))))))))))))))))))\n",
      "(lambda (dec (dec (dec (dec (dec (dec (dec (dec (dec (dec (dec (dec (dec (dec (dec (dec (dec (dec (dec (dec (dec (dec (dec (dec (dec (dec (dec (dec (dec (dec (dec (dec (dec (dec (dec (dec (dec (dec (dec (dec (dec (dec (dec (dec (dec (dec (dec (dec $0)))))))))))))))))))))))))))))))))))))))))))))))))\n",
      "(lambda (inc (inc (inc (inc (inc (inc (inc (inc (inc (inc (inc (inc (inc (inc (inc (inc (inc (inc (inc (inc (inc (inc (inc (inc (inc (inc (inc (inc (inc (inc (inc (inc (inc (inc (inc (inc (inc (inc (inc (inc (inc (inc (inc (inc (inc (inc (inc (inc (inc $0))))))))))))))))))))))))))))))))))))))))))))))))))\n",
      "(lambda (dec (dec (dec (dec (dec (dec (dec (dec (dec (dec (dec (dec (dec (dec (dec (dec (dec (dec (dec (dec (dec (dec (dec (dec (dec (dec (dec (dec (dec (dec (dec (dec (dec (dec (dec (dec (dec (dec (dec (dec (dec (dec (dec (dec (dec (dec (dec (dec (dec $0))))))))))))))))))))))))))))))))))))))))))))))))))\n"
     ]
    }
   ],
   "source": [
    "counter = 0\n",
    "for i in iterator:\n",
    "    counter +=1\n",
    "    if counter<100:\n",
    "        print(i)\n",
    "    else: break"
   ]
  },
  {
   "cell_type": "markdown",
   "metadata": {},
   "source": [
    "### Program matching"
   ]
  },
  {
   "cell_type": "code",
   "execution_count": 42,
   "metadata": {},
   "outputs": [
    {
     "name": "stderr",
     "output_type": "stream",
     "text": [
      "[(lambda 0)]\n",
      "Enumerated 1 programs\n"
     ]
    }
   ],
   "source": [
    "restricted_pcfg = dc.grammar.PCFG.from_grammar(grammar, request=dc.type.arrow(tcircuit, tcircuit))\n",
    "# print(restricted_pcfg)\n",
    "restricted_dictionary = dc.enumeration.enumerate_pcfg(restricted_pcfg,timeout=6, circuit_execution_function=state_circuit_to_mat,no_op=no_op)"
   ]
  },
  {
   "cell_type": "code",
   "execution_count": 45,
   "metadata": {},
   "outputs": [
    {
     "name": "stderr",
     "output_type": "stream",
     "text": [
      "[(lambda 0)]\n"
     ]
    },
    {
     "ename": "KeyError",
     "evalue": "'tcircuit_full'",
     "output_type": "error",
     "traceback": [
      "\u001b[0;31m---------------------------------------------------------------------------\u001b[0m",
      "\u001b[0;31mKeyError\u001b[0m                                  Traceback (most recent call last)",
      "\u001b[0;32m/var/folders/g6/m3rq3pbs7lq6drdpnnfm1fvjwthg2w/T/ipykernel_23556/1678891836.py\u001b[0m in \u001b[0;36m<module>\u001b[0;34m\u001b[0m\n\u001b[1;32m      1\u001b[0m \u001b[0mfull_pcfg\u001b[0m \u001b[0;34m=\u001b[0m \u001b[0mdc\u001b[0m\u001b[0;34m.\u001b[0m\u001b[0mgrammar\u001b[0m\u001b[0;34m.\u001b[0m\u001b[0mPCFG\u001b[0m\u001b[0;34m.\u001b[0m\u001b[0mfrom_grammar\u001b[0m\u001b[0;34m(\u001b[0m\u001b[0mfull_grammar\u001b[0m\u001b[0;34m,\u001b[0m \u001b[0mrequest\u001b[0m\u001b[0;34m=\u001b[0m\u001b[0mdc\u001b[0m\u001b[0;34m.\u001b[0m\u001b[0mtype\u001b[0m\u001b[0;34m.\u001b[0m\u001b[0marrow\u001b[0m\u001b[0;34m(\u001b[0m\u001b[0mtcircuit_full\u001b[0m\u001b[0;34m,\u001b[0m \u001b[0mtcircuit_full\u001b[0m\u001b[0;34m)\u001b[0m\u001b[0;34m)\u001b[0m\u001b[0;34m\u001b[0m\u001b[0;34m\u001b[0m\u001b[0m\n\u001b[0;32m----> 2\u001b[0;31m \u001b[0mfull_dictionary\u001b[0m \u001b[0;34m=\u001b[0m \u001b[0mdc\u001b[0m\u001b[0;34m.\u001b[0m\u001b[0menumeration\u001b[0m\u001b[0;34m.\u001b[0m\u001b[0menumerate_pcfg\u001b[0m\u001b[0;34m(\u001b[0m\u001b[0mfull_pcfg\u001b[0m\u001b[0;34m,\u001b[0m\u001b[0mtimeout\u001b[0m\u001b[0;34m=\u001b[0m\u001b[0;36m6\u001b[0m\u001b[0;34m,\u001b[0m \u001b[0mcircuit_execution_function\u001b[0m\u001b[0;34m=\u001b[0m\u001b[0mfull_circuit_to_mat\u001b[0m\u001b[0;34m,\u001b[0m \u001b[0mno_op\u001b[0m\u001b[0;34m=\u001b[0m\u001b[0mf_no_op\u001b[0m\u001b[0;34m)\u001b[0m\u001b[0;34m\u001b[0m\u001b[0;34m\u001b[0m\u001b[0m\n\u001b[0m",
      "\u001b[0;32m~/ownCloud/topics/artificial-scientific-discovery/2021_Unitary-Synthesis/ec/dreamcoder/enumeration.py\u001b[0m in \u001b[0;36menumerate_pcfg\u001b[0;34m(pcfg, timeout, circuit_execution_function, no_op)\u001b[0m\n\u001b[1;32m    617\u001b[0m     \u001b[0menum_dictionary\u001b[0m \u001b[0;34m=\u001b[0m \u001b[0;34m{\u001b[0m\u001b[0;34m}\u001b[0m\u001b[0;34m\u001b[0m\u001b[0;34m\u001b[0m\u001b[0m\n\u001b[1;32m    618\u001b[0m     \u001b[0mt_0\u001b[0m \u001b[0;34m=\u001b[0m \u001b[0mtime\u001b[0m\u001b[0;34m.\u001b[0m\u001b[0mtime\u001b[0m\u001b[0;34m(\u001b[0m\u001b[0;34m)\u001b[0m\u001b[0;34m\u001b[0m\u001b[0;34m\u001b[0m\u001b[0m\n\u001b[0;32m--> 619\u001b[0;31m     \u001b[0;32mfor\u001b[0m \u001b[0mi\u001b[0m \u001b[0;32min\u001b[0m \u001b[0mpcfg\u001b[0m\u001b[0;34m.\u001b[0m\u001b[0mquantized_enumeration\u001b[0m\u001b[0;34m(\u001b[0m\u001b[0;34m)\u001b[0m\u001b[0;34m:\u001b[0m\u001b[0;34m\u001b[0m\u001b[0;34m\u001b[0m\u001b[0m\n\u001b[0m\u001b[1;32m    620\u001b[0m         \u001b[0;32mif\u001b[0m \u001b[0;34m(\u001b[0m\u001b[0mtime\u001b[0m\u001b[0;34m.\u001b[0m\u001b[0mtime\u001b[0m\u001b[0;34m(\u001b[0m\u001b[0;34m)\u001b[0m\u001b[0;34m>\u001b[0m\u001b[0mt_0\u001b[0m\u001b[0;34m+\u001b[0m\u001b[0mtimeout\u001b[0m\u001b[0;34m)\u001b[0m\u001b[0;34m:\u001b[0m \u001b[0;32mbreak\u001b[0m\u001b[0;34m\u001b[0m\u001b[0;34m\u001b[0m\u001b[0m\n\u001b[1;32m    621\u001b[0m \u001b[0;34m\u001b[0m\u001b[0m\n",
      "\u001b[0;32m~/ownCloud/topics/artificial-scientific-discovery/2021_Unitary-Synthesis/ec/dreamcoder/grammar.py\u001b[0m in \u001b[0;36mquantized_enumeration\u001b[0;34m(self, resolution, skeletons, observational_equivalence)\u001b[0m\n\u001b[1;32m   1910\u001b[0m         \u001b[0;32mfor\u001b[0m \u001b[0mcost\u001b[0m \u001b[0;32min\u001b[0m \u001b[0mrange\u001b[0m\u001b[0;34m(\u001b[0m\u001b[0mint\u001b[0m\u001b[0;34m(\u001b[0m\u001b[0;36m100\u001b[0m\u001b[0;34m/\u001b[0m\u001b[0mresolution\u001b[0m\u001b[0;34m)\u001b[0m\u001b[0;34m)\u001b[0m\u001b[0;34m:\u001b[0m\u001b[0;34m\u001b[0m\u001b[0;34m\u001b[0m\u001b[0m\n\u001b[1;32m   1911\u001b[0m             \u001b[0;32mfor\u001b[0m \u001b[0mskeleton\u001b[0m\u001b[0;34m,\u001b[0m \u001b[0mskeleton_cost\u001b[0m \u001b[0;32min\u001b[0m \u001b[0mzip\u001b[0m\u001b[0;34m(\u001b[0m\u001b[0mskeletons\u001b[0m\u001b[0;34m,\u001b[0m \u001b[0mskeleton_costs\u001b[0m\u001b[0;34m)\u001b[0m\u001b[0;34m:\u001b[0m\u001b[0;34m\u001b[0m\u001b[0;34m\u001b[0m\u001b[0m\n\u001b[0;32m-> 1912\u001b[0;31m                 \u001b[0;32mfor\u001b[0m \u001b[0me\u001b[0m \u001b[0;32min\u001b[0m \u001b[0mcomplete_skeleton\u001b[0m\u001b[0;34m(\u001b[0m\u001b[0mcost\u001b[0m\u001b[0;34m-\u001b[0m\u001b[0mskeleton_cost\u001b[0m\u001b[0;34m,\u001b[0m \u001b[0mskeleton\u001b[0m\u001b[0;34m)\u001b[0m\u001b[0;34m:\u001b[0m\u001b[0;34m\u001b[0m\u001b[0;34m\u001b[0m\u001b[0m\n\u001b[0m\u001b[1;32m   1913\u001b[0m                     \u001b[0;32myield\u001b[0m \u001b[0me\u001b[0m\u001b[0;34m\u001b[0m\u001b[0;34m\u001b[0m\u001b[0m\n",
      "\u001b[0;32m~/ownCloud/topics/artificial-scientific-discovery/2021_Unitary-Synthesis/ec/dreamcoder/grammar.py\u001b[0m in \u001b[0;36mcomplete_skeleton\u001b[0;34m(cost, skeleton)\u001b[0m\n\u001b[1;32m   1893\u001b[0m         \u001b[0;32mdef\u001b[0m \u001b[0mcomplete_skeleton\u001b[0m\u001b[0;34m(\u001b[0m\u001b[0mcost\u001b[0m\u001b[0;34m,\u001b[0m \u001b[0mskeleton\u001b[0m\u001b[0;34m)\u001b[0m\u001b[0;34m:\u001b[0m\u001b[0;34m\u001b[0m\u001b[0;34m\u001b[0m\u001b[0m\n\u001b[1;32m   1894\u001b[0m             \u001b[0;32mif\u001b[0m \u001b[0mskeleton\u001b[0m\u001b[0;34m.\u001b[0m\u001b[0misAbstraction\u001b[0m\u001b[0;34m:\u001b[0m\u001b[0;34m\u001b[0m\u001b[0;34m\u001b[0m\u001b[0m\n\u001b[0;32m-> 1895\u001b[0;31m                 \u001b[0;32mfor\u001b[0m \u001b[0mb\u001b[0m \u001b[0;32min\u001b[0m \u001b[0mcomplete_skeleton\u001b[0m\u001b[0;34m(\u001b[0m\u001b[0mcost\u001b[0m\u001b[0;34m,\u001b[0m \u001b[0mskeleton\u001b[0m\u001b[0;34m.\u001b[0m\u001b[0mbody\u001b[0m\u001b[0;34m)\u001b[0m\u001b[0;34m:\u001b[0m\u001b[0;34m\u001b[0m\u001b[0;34m\u001b[0m\u001b[0m\n\u001b[0m\u001b[1;32m   1896\u001b[0m                     \u001b[0;32myield\u001b[0m \u001b[0mAbstraction\u001b[0m\u001b[0;34m(\u001b[0m\u001b[0mb\u001b[0m\u001b[0;34m)\u001b[0m\u001b[0;34m\u001b[0m\u001b[0;34m\u001b[0m\u001b[0m\n\u001b[1;32m   1897\u001b[0m             \u001b[0;32melif\u001b[0m \u001b[0mskeleton\u001b[0m\u001b[0;34m.\u001b[0m\u001b[0misApplication\u001b[0m\u001b[0;34m:\u001b[0m\u001b[0;34m\u001b[0m\u001b[0;34m\u001b[0m\u001b[0m\n",
      "\u001b[0;32m~/ownCloud/topics/artificial-scientific-discovery/2021_Unitary-Synthesis/ec/dreamcoder/grammar.py\u001b[0m in \u001b[0;36mcomplete_skeleton\u001b[0;34m(cost, skeleton)\u001b[0m\n\u001b[1;32m   1901\u001b[0m                             \u001b[0;32myield\u001b[0m \u001b[0mApplication\u001b[0m\u001b[0;34m(\u001b[0m\u001b[0mf\u001b[0m\u001b[0;34m,\u001b[0m \u001b[0mx\u001b[0m\u001b[0;34m)\u001b[0m\u001b[0;34m\u001b[0m\u001b[0;34m\u001b[0m\u001b[0m\n\u001b[1;32m   1902\u001b[0m             \u001b[0;32melif\u001b[0m \u001b[0mskeleton\u001b[0m\u001b[0;34m.\u001b[0m\u001b[0misNamedHole\u001b[0m\u001b[0;34m:\u001b[0m\u001b[0;34m\u001b[0m\u001b[0;34m\u001b[0m\u001b[0m\n\u001b[0;32m-> 1903\u001b[0;31m                 \u001b[0;32myield\u001b[0m \u001b[0;32mfrom\u001b[0m \u001b[0mexpressions_of_size\u001b[0m\u001b[0;34m(\u001b[0m\u001b[0mskeleton\u001b[0m\u001b[0;34m.\u001b[0m\u001b[0mname\u001b[0m\u001b[0;34m,\u001b[0m \u001b[0mcost\u001b[0m\u001b[0;34m)\u001b[0m\u001b[0;34m\u001b[0m\u001b[0;34m\u001b[0m\u001b[0m\n\u001b[0m\u001b[1;32m   1904\u001b[0m             \u001b[0;32melse\u001b[0m\u001b[0;34m:\u001b[0m\u001b[0;34m\u001b[0m\u001b[0;34m\u001b[0m\u001b[0m\n\u001b[1;32m   1905\u001b[0m                 \u001b[0;32mif\u001b[0m \u001b[0mcost\u001b[0m \u001b[0;34m==\u001b[0m \u001b[0;36m0\u001b[0m\u001b[0;34m:\u001b[0m\u001b[0;34m\u001b[0m\u001b[0;34m\u001b[0m\u001b[0m\n",
      "\u001b[0;32m~/ownCloud/topics/artificial-scientific-discovery/2021_Unitary-Synthesis/ec/dreamcoder/grammar.py\u001b[0m in \u001b[0;36mexpressions_of_size\u001b[0;34m(symbol, size)\u001b[0m\n\u001b[1;32m   1874\u001b[0m                             key = compute_signature(proposed_expression,\n\u001b[1;32m   1875\u001b[0m                                                     \u001b[0mself\u001b[0m\u001b[0;34m.\u001b[0m\u001b[0mreturn_type\u001b[0m\u001b[0;34m[\u001b[0m\u001b[0msymbol\u001b[0m\u001b[0;34m]\u001b[0m\u001b[0;34m,\u001b[0m\u001b[0;34m\u001b[0m\u001b[0;34m\u001b[0m\u001b[0m\n\u001b[0;32m-> 1876\u001b[0;31m                                                     self.free_variable_types[symbol])\n\u001b[0m\u001b[1;32m   1877\u001b[0m \u001b[0;34m\u001b[0m\u001b[0m\n\u001b[1;32m   1878\u001b[0m                             \u001b[0;32mif\u001b[0m \u001b[0mkey\u001b[0m \u001b[0;32mnot\u001b[0m \u001b[0;32min\u001b[0m \u001b[0mequivalences\u001b[0m\u001b[0;34m[\u001b[0m\u001b[0msymbol\u001b[0m\u001b[0;34m]\u001b[0m\u001b[0;34m:\u001b[0m\u001b[0;34m\u001b[0m\u001b[0;34m\u001b[0m\u001b[0m\n",
      "\u001b[0;32m~/ownCloud/topics/artificial-scientific-discovery/2021_Unitary-Synthesis/ec/dreamcoder/grammar.py\u001b[0m in \u001b[0;36mcompute_signature\u001b[0;34m(expression, tp, arguments)\u001b[0m\n\u001b[1;32m   1772\u001b[0m \u001b[0;34m\u001b[0m\u001b[0m\n\u001b[1;32m   1773\u001b[0m             \u001b[0moutputs\u001b[0m \u001b[0;34m=\u001b[0m \u001b[0;34m[\u001b[0m\u001b[0;34m]\u001b[0m\u001b[0;34m\u001b[0m\u001b[0;34m\u001b[0m\u001b[0m\n\u001b[0;32m-> 1774\u001b[0;31m             \u001b[0;32mfor\u001b[0m \u001b[0mtest_input\u001b[0m \u001b[0;32min\u001b[0m \u001b[0mitertools\u001b[0m\u001b[0;34m.\u001b[0m\u001b[0mproduct\u001b[0m\u001b[0;34m(\u001b[0m\u001b[0;34m*\u001b[0m\u001b[0;34m(\u001b[0m\u001b[0mpossible_values\u001b[0m\u001b[0;34m[\u001b[0m\u001b[0mstr\u001b[0m\u001b[0;34m(\u001b[0m\u001b[0ma\u001b[0m\u001b[0;34m)\u001b[0m\u001b[0;34m]\u001b[0m \u001b[0;32mfor\u001b[0m \u001b[0ma\u001b[0m \u001b[0;32min\u001b[0m \u001b[0marguments\u001b[0m\u001b[0;34m)\u001b[0m\u001b[0;34m)\u001b[0m\u001b[0;34m:\u001b[0m\u001b[0;34m\u001b[0m\u001b[0;34m\u001b[0m\u001b[0m\n\u001b[0m\u001b[1;32m   1775\u001b[0m                 \u001b[0;32mtry\u001b[0m\u001b[0;34m:\u001b[0m\u001b[0;34m\u001b[0m\u001b[0;34m\u001b[0m\u001b[0m\n\u001b[1;32m   1776\u001b[0m                     \u001b[0mo\u001b[0m \u001b[0;34m=\u001b[0m \u001b[0mexpression\u001b[0m\u001b[0;34m.\u001b[0m\u001b[0mevaluate\u001b[0m\u001b[0;34m(\u001b[0m\u001b[0mtest_input\u001b[0m\u001b[0;34m)\u001b[0m\u001b[0;34m\u001b[0m\u001b[0;34m\u001b[0m\u001b[0m\n",
      "\u001b[0;32m~/ownCloud/topics/artificial-scientific-discovery/2021_Unitary-Synthesis/ec/dreamcoder/grammar.py\u001b[0m in \u001b[0;36m<genexpr>\u001b[0;34m(.0)\u001b[0m\n\u001b[1;32m   1772\u001b[0m \u001b[0;34m\u001b[0m\u001b[0m\n\u001b[1;32m   1773\u001b[0m             \u001b[0moutputs\u001b[0m \u001b[0;34m=\u001b[0m \u001b[0;34m[\u001b[0m\u001b[0;34m]\u001b[0m\u001b[0;34m\u001b[0m\u001b[0;34m\u001b[0m\u001b[0m\n\u001b[0;32m-> 1774\u001b[0;31m             \u001b[0;32mfor\u001b[0m \u001b[0mtest_input\u001b[0m \u001b[0;32min\u001b[0m \u001b[0mitertools\u001b[0m\u001b[0;34m.\u001b[0m\u001b[0mproduct\u001b[0m\u001b[0;34m(\u001b[0m\u001b[0;34m*\u001b[0m\u001b[0;34m(\u001b[0m\u001b[0mpossible_values\u001b[0m\u001b[0;34m[\u001b[0m\u001b[0mstr\u001b[0m\u001b[0;34m(\u001b[0m\u001b[0ma\u001b[0m\u001b[0;34m)\u001b[0m\u001b[0;34m]\u001b[0m \u001b[0;32mfor\u001b[0m \u001b[0ma\u001b[0m \u001b[0;32min\u001b[0m \u001b[0marguments\u001b[0m\u001b[0;34m)\u001b[0m\u001b[0;34m)\u001b[0m\u001b[0;34m:\u001b[0m\u001b[0;34m\u001b[0m\u001b[0;34m\u001b[0m\u001b[0m\n\u001b[0m\u001b[1;32m   1775\u001b[0m                 \u001b[0;32mtry\u001b[0m\u001b[0;34m:\u001b[0m\u001b[0;34m\u001b[0m\u001b[0;34m\u001b[0m\u001b[0m\n\u001b[1;32m   1776\u001b[0m                     \u001b[0mo\u001b[0m \u001b[0;34m=\u001b[0m \u001b[0mexpression\u001b[0m\u001b[0;34m.\u001b[0m\u001b[0mevaluate\u001b[0m\u001b[0;34m(\u001b[0m\u001b[0mtest_input\u001b[0m\u001b[0;34m)\u001b[0m\u001b[0;34m\u001b[0m\u001b[0;34m\u001b[0m\u001b[0m\n",
      "\u001b[0;31mKeyError\u001b[0m: 'tcircuit_full'"
     ]
    }
   ],
   "source": [
    "full_pcfg = dc.grammar.PCFG.from_grammar(full_grammar, request=dc.type.arrow(tcircuit_full, tcircuit_full))\n",
    "full_dictionary = dc.enumeration.enumerate_pcfg(full_pcfg,timeout=6, circuit_execution_function=full_circuit_to_mat, no_op=f_no_op)"
   ]
  },
  {
   "cell_type": "code",
   "execution_count": 41,
   "metadata": {},
   "outputs": [
    {
     "ename": "NameError",
     "evalue": "name 'full_dictionary' is not defined",
     "output_type": "error",
     "traceback": [
      "\u001b[0;31m---------------------------------------------------------------------------\u001b[0m",
      "\u001b[0;31mNameError\u001b[0m                                 Traceback (most recent call last)",
      "\u001b[0;32m/var/folders/g6/m3rq3pbs7lq6drdpnnfm1fvjwthg2w/T/ipykernel_23556/924602739.py\u001b[0m in \u001b[0;36m<module>\u001b[0;34m\u001b[0m\n\u001b[1;32m      1\u001b[0m \u001b[0mmatched_programs\u001b[0m \u001b[0;34m=\u001b[0m \u001b[0;34m[\u001b[0m\u001b[0;34m]\u001b[0m\u001b[0;34m\u001b[0m\u001b[0;34m\u001b[0m\u001b[0m\n\u001b[0;32m----> 2\u001b[0;31m \u001b[0;32mfor\u001b[0m \u001b[0munitary\u001b[0m \u001b[0;32min\u001b[0m \u001b[0mfull_dictionary\u001b[0m\u001b[0;34m.\u001b[0m\u001b[0mkeys\u001b[0m\u001b[0;34m(\u001b[0m\u001b[0;34m)\u001b[0m\u001b[0;34m:\u001b[0m\u001b[0;34m\u001b[0m\u001b[0;34m\u001b[0m\u001b[0m\n\u001b[0m\u001b[1;32m      3\u001b[0m     \u001b[0;32mif\u001b[0m \u001b[0munitary\u001b[0m \u001b[0;32min\u001b[0m \u001b[0mrestricted_dictionary\u001b[0m\u001b[0;34m.\u001b[0m\u001b[0mkeys\u001b[0m\u001b[0;34m(\u001b[0m\u001b[0;34m)\u001b[0m\u001b[0;34m:\u001b[0m\u001b[0;34m\u001b[0m\u001b[0;34m\u001b[0m\u001b[0m\n\u001b[1;32m      4\u001b[0m         \u001b[0;32mtry\u001b[0m\u001b[0;34m:\u001b[0m\u001b[0;34m\u001b[0m\u001b[0;34m\u001b[0m\u001b[0m\n\u001b[1;32m      5\u001b[0m             \u001b[0mfull_task\u001b[0m \u001b[0;34m=\u001b[0m \u001b[0mfull_dictionary\u001b[0m\u001b[0;34m[\u001b[0m\u001b[0munitary\u001b[0m\u001b[0;34m]\u001b[0m\u001b[0;34m[\u001b[0m\u001b[0;34m\"task\"\u001b[0m\u001b[0;34m]\u001b[0m\u001b[0;34m\u001b[0m\u001b[0;34m\u001b[0m\u001b[0m\n",
      "\u001b[0;31mNameError\u001b[0m: name 'full_dictionary' is not defined"
     ]
    }
   ],
   "source": [
    "matched_programs = []\n",
    "for unitary in full_dictionary.keys():\n",
    "    if unitary in restricted_dictionary.keys():\n",
    "        try:\n",
    "            full_task = full_dictionary[unitary][\"task\"]\n",
    "            full_unitary = full_circuit_to_mat(dc.program.Program.parse(full_task).evaluate([])(no_op(4)))\n",
    "            \n",
    "            restricted_task = restricted_dictionary[unitary][\"task\"]\n",
    "            restricted_unitary = state_circuit_to_mat(dc.program.Program.parse(restricted_task).evaluate([])(no_op(4)))\n",
    "\n",
    "            if np.all(full_unitary==restricted_unitary):\n",
    "                matched_programs.append([full_task, \n",
    "                                         restricted_task, \n",
    "                                         max(full_dictionary[unitary][\"time\"],restricted_dictionary[unitary][\"time\"])])\n",
    "        except QuantumCircuitException:\n",
    "            ...\n",
    "eprint(f\"Enumerated {len(matched_programs)} programs\")\n",
    "# how long it took to enumerate (when the program was found)"
   ]
  },
  {
   "cell_type": "code",
   "execution_count": 11,
   "metadata": {},
   "outputs": [],
   "source": [
    "import pickle\n",
    "import os\n",
    "save_path = os.path.join(\"experimentOutputs/quantum/\",\"matched_programs\")"
   ]
  },
  {
   "cell_type": "code",
   "execution_count": 19,
   "metadata": {},
   "outputs": [],
   "source": [
    "with open(save_path,\"wb\") as f:\n",
    "    pickle.dump(matched_programs, f)"
   ]
  },
  {
   "cell_type": "code",
   "execution_count": 12,
   "metadata": {},
   "outputs": [],
   "source": [
    "with open(save_path,\"rb\") as f:\n",
    "        matched_programs = pickle.load(f)"
   ]
  },
  {
   "cell_type": "code",
   "execution_count": 13,
   "metadata": {},
   "outputs": [
    {
     "data": {
      "text/plain": [
       "[3, []]"
      ]
     },
     "execution_count": 13,
     "metadata": {},
     "output_type": "execute_result"
    }
   ],
   "source": [
    "dc.program.Program.parse(matched_programs[0][0]).evaluate([])(3)"
   ]
  },
  {
   "cell_type": "markdown",
   "metadata": {},
   "source": [
    "### Feature extractor for the recognition network"
   ]
  },
  {
   "cell_type": "code",
   "execution_count": 95,
   "metadata": {},
   "outputs": [],
   "source": [
    "import torch\n",
    "import torch.nn as nn\n",
    "import torch.nn.functional as F\n",
    "from torch.autograd import Variable\n",
    "from torch.nn.utils.rnn import pack_padded_sequence\n",
    "\n",
    "class BagOfWordsFeatureExtractor(nn.Module):\n",
    "    def __init__(self, tasks, full_op_names): # why do we need tasks?\n",
    "        super(BagOfWordsFeatureExtractor, self).__init__()\n",
    "        self.recomputeTasks = False\n",
    "        \n",
    "        self.qubit_test_range = [3,5]\n",
    "        self.qubit_num = self.qubit_test_range[1]-self.qubit_test_range[0]+1\n",
    "        \n",
    "        self.names = list(full_op_names.keys())\n",
    "        self.len_names =len(self.names)\n",
    "        \n",
    "        self.outputDimensionality = self.len_names*self.qubit_num\n",
    "        self.tasks=tasks\n",
    "        \n",
    "    # full_circuit to embedding (bag of words)\n",
    "    def full_circuit_to_embedding(self, full_circuit):\n",
    "        embedding = np.zeros([self.len_names], dtype=int)\n",
    "        for operation in full_circuit:\n",
    "            embedding[self.names.index(operation[0])]+=1\n",
    "        return embedding\n",
    "\n",
    "    def full_task_to_embedding(self,full_task):\n",
    "        full_embedding = np.hstack(\n",
    "            [self.full_circuit_to_embedding(full_task.target_algorithm(n_qubit)[1]) \n",
    "             for n_qubit in range(self.qubit_test_range[0],self.qubit_test_range[1]+1)]\n",
    "            )\n",
    "        return full_embedding\n",
    "    \n",
    "    def featuresOfTask(self, t):\n",
    "        return dc.recognition.variable(self.full_task_to_embedding(t)).float()\n",
    "    def featuresOfTasks(self, ts):\n",
    "        return dc.recognition.variable([self.full_task_to_embedding(t) for t in ts]).float()\n",
    "    \n",
    "    def taskOfProgram(self, p, t): # why do we need this?\n",
    "        return dc.task.Task(\"dummy task\", t, [])"
   ]
  },
  {
   "cell_type": "code",
   "execution_count": 106,
   "metadata": {},
   "outputs": [],
   "source": [
    "feature_extractor = BagOfWordsFeatureExtractor(None, full_op_names)\n",
    "recognition_model = dc.recognition.RecognitionModel(feature_extractor, grammar, contextual=False)\n",
    "lr=0.000001\n",
    "optimizer = torch.optim.Adam(recognition_model.parameters(), lr=lr, eps=1e-3, amsgrad=True)\n",
    "losses = []"
   ]
  },
  {
   "cell_type": "code",
   "execution_count": 107,
   "metadata": {},
   "outputs": [
    {
     "name": "stderr",
     "output_type": "stream",
     "text": [
      "100%|██████████| 12000/12000 [01:44<00:00, 114.46it/s]\n"
     ]
    }
   ],
   "source": [
    "batch_size = 32\n",
    "n_steps = 6000\n",
    "for _ in trange(n_steps):\n",
    "    programs_batch = random.sample(matched_programs, batch_size)\n",
    "    tasks_batch = [QuantumTask(i,lambda n_qubit, program=program: dc.program.Program.parse(program[0]).evaluate([])(no_op(n_qubit)))\n",
    "                   for i, program in enumerate(programs_batch)]\n",
    "    embedding = recognition_model.featureExtractor.featuresOfTasks(tasks_batch)\n",
    "    simple_programs = [dc.program.Program.parse(program[1]) for program in programs_batch]\n",
    "    contextual_grammar = dc.grammar.ContextualGrammar.fromGrammar(grammar)\n",
    "    \n",
    "    # replaceProgramsWithLikelihoodSummaries\n",
    "    # summaries = [dc.grammar.ContextualGrammar.fromGrammar(grammar).closedLikelihoodSummary(simple_program.infer(), simple_program) for simple_program in simple_programs ]\n",
    "    summaries = [grammar.closedLikelihoodSummary(simple_program.infer(), simple_program) for simple_program in simple_programs ]\n",
    "\n",
    "    optimizer.zero_grad()\n",
    "    recognition_model.zero_grad()\n",
    "    \n",
    "    features = recognition_model._MLP(embedding)\n",
    "    lls = recognition_model.grammarBuilder.batchedLogLikelihoods(features, summaries)\n",
    "    loss = -lls.mean() # why max and not mean?\n",
    "     \n",
    "    loss.backward()\n",
    "    optimizer.step()\n",
    "    losses.append(loss.data.item())"
   ]
  },
  {
   "cell_type": "code",
   "execution_count": 108,
   "metadata": {},
   "outputs": [
    {
     "data": {
      "image/png": "[encoded data removed]",
      "text/plain": [
       "<Figure size 432x288 with 1 Axes>"
      ]
     },
     "metadata": {
      "needs_background": "light"
     },
     "output_type": "display_data"
    }
   ],
   "source": [
    "plt.figure()\n",
    "plt.plot(losses)\n",
    "plt.show()"
   ]
  },
  {
   "cell_type": "code",
   "execution_count": 109,
   "metadata": {},
   "outputs": [
    {
     "data": {
      "text/plain": [
       "(-7.783640596221253, tensor([-7.6573], grad_fn=<SubBackward0>))"
      ]
     },
     "execution_count": 109,
     "metadata": {},
     "output_type": "execute_result"
    }
   ],
   "source": [
    "task = get_task_from_name(\"cnot_10\",tasks)\n",
    "code = dc.program.Program.parse(\"(lambda (cnot (minv(mv( $0))))\")\n",
    "\n",
    "embedding = recognition_model.featureExtractor.featuresOfTask(task)\n",
    "predicted_grammar_of_task = recognition_model(embedding)\n",
    "\n",
    "grammar.logLikelihood(code.infer(),code), predicted_grammar_of_task.logLikelihood(code.infer(),code)"
   ]
  },
  {
   "cell_type": "code",
   "execution_count": 110,
   "metadata": {},
   "outputs": [
    {
     "data": {
      "text/plain": [
       "(-15.567281192442506, tensor([-15.4090], grad_fn=<SubBackward0>))"
      ]
     },
     "execution_count": 110,
     "metadata": {},
     "output_type": "execute_result"
    }
   ],
   "source": [
    "task = get_task_from_name(\"swap_01\",tasks)\n",
    "code = dc.program.Program.parse(\"(lambda  (cnot(minv(mv_r(cnot(minv (mv (cnot  $0))))))))\")\n",
    "\n",
    "embedding = recognition_model.featureExtractor.featuresOfTask(task)\n",
    "predicted_grammar_of_task = recognition_model(embedding)\n",
    "\n",
    "grammar.logLikelihood(code.infer(),code), predicted_grammar_of_task.logLikelihood(code.infer(),code)"
   ]
  },
  {
   "cell_type": "code",
   "execution_count": 111,
   "metadata": {},
   "outputs": [
    {
     "data": {
      "text/plain": [
       "(-52.145060152057745, tensor([-52.8876], grad_fn=<SubBackward0>))"
      ]
     },
     "execution_count": 111,
     "metadata": {},
     "output_type": "execute_result"
    }
   ],
   "source": [
    "task = get_task_from_name(\"swap_0n\",tasks)\n",
    "code = dc.program.Program.parse(\"(lambda ((  (rep (dec(dec(size $0))) (lambda ((cnot(minv(mv_r(cnot(minv (mv (cnot(mv_r $0)))))))))) )  (mv_r( (rep (dec(size $0)) (lambda (mv((cnot(minv(mv_r(cnot(minv (mv (cnot $0)))))))))) )  $0 )))))\")\n",
    "\n",
    "embedding = recognition_model.featureExtractor.featuresOfTask(task)\n",
    "predicted_grammar_of_task = recognition_model(embedding)\n",
    "\n",
    "grammar.logLikelihood(code.infer(),code), predicted_grammar_of_task.logLikelihood(code.infer(),code)"
   ]
  },
  {
   "cell_type": "code",
   "execution_count": null,
   "metadata": {},
   "outputs": [],
   "source": []
  },
  {
   "cell_type": "code",
   "execution_count": 366,
   "metadata": {},
   "outputs": [],
   "source": [
    "\n",
    "# profile running time, enumeration speed"
   ]
  },
  {
   "cell_type": "code",
   "execution_count": null,
   "metadata": {},
   "outputs": [],
   "source": [
    "# def train_quantum(matched_dictionary={unitaries: simple_program, complicated_list},)\n",
    "# for each sample\n",
    "#     embedding= feature_extractor([unitary, complicated_list]) (i.e. encoder)  #in the case of great we first need an embedding and here we get the final embedding\n",
    "    \n",
    "#     # apply the recognition model\n",
    "#     [from frontierBiasOptimal]\n",
    "#     features = self._MLP(features)\n",
    "#     features = features.expand(batchSize, features.size(-1))  # TODO\n",
    "#     lls = self.grammarBuilder.batchedLogLikelihoods(features, [simple_program])\n",
    "        \n",
    "#     # train (optimize -lls  adam)\n",
    "#     lls.backward\n",
    "    \n",
    "# # look at the new likelihoods\n",
    "#     recognitionmodel.grammarOfTask"
   ]
  },
  {
   "cell_type": "code",
   "execution_count": null,
   "metadata": {},
   "outputs": [],
   "source": [
    "# get more enumerated tasks (10k)\n",
    "\n",
    "# bags of words (Gates) e.g. number of occurrences for each gate\n",
    "# great https://github.com/google-research/crossbeam/blob/main/crossbeam/model/great.py\n"
   ]
  },
  {
   "cell_type": "code",
   "execution_count": null,
   "metadata": {},
   "outputs": [],
   "source": [
    "# observational equivalence\n",
    "# https://cseweb.ucsd.edu/~npolikarpova/publications/oopsla20-probe.pdf\n",
    "\n",
    "# let's start from arithmetic expressions\n",
    "\n",
    "# remove no_op to enable continuation type in grammar\n",
    "\n",
    "# continuationtype: only most recent of this type can be called"
   ]
  },
  {
   "cell_type": "code",
   "execution_count": null,
   "metadata": {},
   "outputs": [],
   "source": [
    "# Split (and what happens when only one primitive is allowed)\n",
    "# No_op\n",
    "# Observational equivalence on multiple values\n",
    "# Parallelize training of Feature Extractor network\n",
    "# "
   ]
  },
  {
   "cell_type": "code",
   "execution_count": null,
   "metadata": {},
   "outputs": [],
   "source": []
  },
  {
   "cell_type": "code",
   "execution_count": null,
   "metadata": {},
   "outputs": [],
   "source": [
    "# equivalences should depend on non terminal symbol\n",
    "\n",
    "# recognition model should be contestula\n",
    "# remove size to int but we need circuit to size"
   ]
  }
 ],
 "metadata": {
  "interpreter": {
   "hash": "d3b58914974b8dde835498c747ea4f1aaf3fb4cb185c0609e0c7a19c91a9bce2"
  },
  "kernelspec": {
   "display_name": "Python 3.7.11 ('dc')",
   "language": "python",
   "name": "python3"
  },
  "language_info": {
   "codemirror_mode": {
    "name": "ipython",
    "version": 3
   },
   "file_extension": ".py",
   "mimetype": "text/x-python",
   "name": "python",
   "nbconvert_exporter": "python",
   "pygments_lexer": "ipython3",
   "version": "3.7.11"
  },
  "orig_nbformat": 4
 },
 "nbformat": 4,
 "nbformat_minor": 2
}
