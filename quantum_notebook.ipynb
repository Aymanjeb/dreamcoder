{
 "cells": [
  {
   "cell_type": "code",
   "execution_count": 1,
   "metadata": {},
   "outputs": [],
   "source": [
    "import numpy as np\n",
    "\n",
    "import dreamcoder as dc\n",
    "from dreamcoder.domains.quantum_algorithms.primitives import *\n",
    "from dreamcoder.domains.quantum_algorithms.tasks import *\n",
    "\n",
    "import time\n",
    "from tqdm import trange\n",
    "import random\n",
    "\n",
    "%autoreload 2\n",
    "%load_ext line_profiler"
   ]
  },
  {
   "cell_type": "markdown",
   "metadata": {},
   "source": [
    "### Testing some circuits"
   ]
  },
  {
   "cell_type": "code",
   "execution_count": 2,
   "metadata": {},
   "outputs": [],
   "source": [
    "\n",
    "n_qubit = 2\n",
    "full_circuit = (n_qubit,\n",
    "           ((\"cnot\", 0, 1),\n",
    "           (\"swap\", 0, 1),\n",
    "           (\"hadamard\", 1))\n",
    ")"
   ]
  },
  {
   "cell_type": "code",
   "execution_count": 3,
   "metadata": {},
   "outputs": [
    {
     "data": {
      "text/plain": [
       "array([[1., 0., 0., 0.],\n",
       "       [0., 0., 1., 0.],\n",
       "       [0., 0., 0., 1.],\n",
       "       [0., 1., 0., 0.]], dtype=float16)"
      ]
     },
     "execution_count": 3,
     "metadata": {},
     "output_type": "execute_result"
    }
   ],
   "source": [
    "tensor = eye(n_qubit)\n",
    "tensor_to_mat(swap(cnot(tensor,0,1),0,1))"
   ]
  },
  {
   "cell_type": "code",
   "execution_count": 4,
   "metadata": {},
   "outputs": [
    {
     "data": {
      "text/plain": [
       "(2, (('cnot', 0, 1), ('swap', 0, 1), ('hadamard', 1)))"
      ]
     },
     "execution_count": 4,
     "metadata": {},
     "output_type": "execute_result"
    }
   ],
   "source": [
    "full_circuit"
   ]
  },
  {
   "cell_type": "code",
   "execution_count": 23,
   "metadata": {},
   "outputs": [
    {
     "data": {
      "text/plain": [
       "array([[ 0.707,  0.707,  0.   ,  0.   ],\n",
       "       [ 0.   ,  0.   ,  0.707,  0.707],\n",
       "       [ 0.   ,  0.   ,  0.707, -0.707],\n",
       "       [ 0.707, -0.707,  0.   ,  0.   ]], dtype=float16)"
      ]
     },
     "execution_count": 23,
     "metadata": {},
     "output_type": "execute_result"
    }
   ],
   "source": [
    "full_circuit_to_mat(full_circuit)"
   ]
  },
  {
   "cell_type": "code",
   "execution_count": 24,
   "metadata": {},
   "outputs": [
    {
     "name": "stderr",
     "output_type": "stream",
     "text": [
      "                  \n",
      "q_0: ──■───X──────\n",
      "     ┌─┴─┐ │ ┌───┐\n",
      "q_1: ┤ X ├─X─┤ H ├\n",
      "     └───┘   └───┘\n"
     ]
    }
   ],
   "source": [
    "print_circuit(full_circuit)"
   ]
  },
  {
   "cell_type": "code",
   "execution_count": 25,
   "metadata": {},
   "outputs": [
    {
     "name": "stdout",
     "output_type": "stream",
     "text": [
      "     ┌───┐   ┌───┐\n",
      "q_0: ┤ X ├─X─┤ H ├\n",
      "     └─┬─┘ │ └───┘\n",
      "q_1: ──■───X──────\n",
      "                  \n"
     ]
    },
    {
     "name": "stderr",
     "output_type": "stream",
     "text": [
      "Code consistent with Qiskit\n"
     ]
    }
   ],
   "source": [
    "with QiskitTester(full_circuit) as QT:\n",
    "    QT.circuit.cnot(QT.q(0),QT.q(1))\n",
    "    QT.circuit.swap(QT.q(0),QT.q(1))\n",
    "    QT.circuit.h(QT.q(1))\n",
    "print(QT)\n",
    "QT.check()"
   ]
  },
  {
   "cell_type": "code",
   "execution_count": 26,
   "metadata": {},
   "outputs": [
    {
     "data": {
      "text/plain": [
       "((1, -1, 3), (('cnot', 1, 0),))"
      ]
     },
     "execution_count": 26,
     "metadata": {},
     "output_type": "execute_result"
    }
   ],
   "source": [
    "n_qubit= 3\n",
    "code = dc.program.Program.parse(\"(lambda (cnot (minv(mv $0))))\")\n",
    "code.infer()\n",
    "code.evaluate([])(no_op(n_qubit))"
   ]
  },
  {
   "cell_type": "code",
   "execution_count": 27,
   "metadata": {},
   "outputs": [
    {
     "data": {
      "text/plain": [
       "((1, -1, 3), (('cnot', 1, 0),))"
      ]
     },
     "execution_count": 27,
     "metadata": {},
     "output_type": "execute_result"
    }
   ],
   "source": [
    "code.evaluate([])(no_op(n_qubit))"
   ]
  },
  {
   "cell_type": "code",
   "execution_count": 28,
   "metadata": {},
   "outputs": [
    {
     "data": {
      "text/plain": [
       "array([[1., 0., 0., 0., 0., 0., 0., 0.],\n",
       "       [0., 1., 0., 0., 0., 0., 0., 0.],\n",
       "       [0., 0., 0., 0., 0., 0., 1., 0.],\n",
       "       [0., 0., 0., 0., 0., 0., 0., 1.],\n",
       "       [0., 0., 0., 0., 1., 0., 0., 0.],\n",
       "       [0., 0., 0., 0., 0., 1., 0., 0.],\n",
       "       [0., 0., 1., 0., 0., 0., 0., 0.],\n",
       "       [0., 0., 0., 1., 0., 0., 0., 0.]], dtype=float16)"
      ]
     },
     "execution_count": 28,
     "metadata": {},
     "output_type": "execute_result"
    }
   ],
   "source": [
    "state_circuit_to_mat(code.evaluate([])(no_op(n_qubit)))"
   ]
  },
  {
   "cell_type": "markdown",
   "metadata": {},
   "source": [
    "### Testing some Tasks"
   ]
  },
  {
   "cell_type": "code",
   "execution_count": 5,
   "metadata": {},
   "outputs": [],
   "source": [
    "tasks = makeTasks()"
   ]
  },
  {
   "cell_type": "code",
   "execution_count": 30,
   "metadata": {},
   "outputs": [
    {
     "data": {
      "text/plain": [
       "(0.0, -3.8918202981106265)"
      ]
     },
     "execution_count": 30,
     "metadata": {},
     "output_type": "execute_result"
    }
   ],
   "source": [
    "task = get_task_from_name(\"hadamard_0\",tasks)\n",
    "code = dc.program.Program.parse(\"(lambda (h $0))\")\n",
    "task.logLikelihood(code),  grammar.logLikelihood(code.infer(), code)\n"
   ]
  },
  {
   "cell_type": "code",
   "execution_count": 31,
   "metadata": {},
   "outputs": [
    {
     "data": {
      "text/plain": [
       "(0.0, -3.8918202981106265)"
      ]
     },
     "execution_count": 31,
     "metadata": {},
     "output_type": "execute_result"
    }
   ],
   "source": [
    "task =get_task_from_name(\"cnot_01\",tasks)\n",
    "code = dc.program.Program.parse(\"(lambda (cnot $0))\")\n",
    "task.logLikelihood(code), grammar.logLikelihood(code.infer(), code)"
   ]
  },
  {
   "cell_type": "code",
   "execution_count": 32,
   "metadata": {},
   "outputs": [
    {
     "data": {
      "text/plain": [
       "(0.0, -7.783640596221253)"
      ]
     },
     "execution_count": 32,
     "metadata": {},
     "output_type": "execute_result"
    }
   ],
   "source": [
    "task = get_task_from_name(\"cnot_10\",tasks)\n",
    "code = dc.program.Program.parse(\"(lambda (cnot (minv(mv $0))))\")\n",
    "task.logLikelihood(code),  grammar.logLikelihood(code.infer(), code)\n"
   ]
  },
  {
   "cell_type": "code",
   "execution_count": 33,
   "metadata": {},
   "outputs": [
    {
     "data": {
      "text/plain": [
       "(0.0, -15.567281192442506)"
      ]
     },
     "execution_count": 33,
     "metadata": {},
     "output_type": "execute_result"
    }
   ],
   "source": [
    "task = get_task_from_name(\"swap_01\",tasks)\n",
    "code = dc.program.Program.parse(\"(lambda  (cnot(minv(mv_r(cnot(minv (mv (cnot $0))))))))\")\n",
    "task.logLikelihood(code),  grammar.logLikelihood(code.infer(), code)\n"
   ]
  },
  {
   "cell_type": "code",
   "execution_count": 34,
   "metadata": {},
   "outputs": [
    {
     "data": {
      "text/plain": [
       "array([[ 1.,  0.,  0.,  0.],\n",
       "       [ 0.,  1.,  0.,  0.],\n",
       "       [ 0.,  0.,  1.,  0.],\n",
       "       [ 0.,  0.,  0., -1.]], dtype=float16)"
      ]
     },
     "execution_count": 34,
     "metadata": {},
     "output_type": "execute_result"
    }
   ],
   "source": [
    "task = get_task_from_name(\"cz_01\",tasks)\n",
    "code = dc.program.Program.parse(\"(lambda (h(mv(cnot(mv_r(h (mv $0)))))))\")\n",
    "task.logLikelihood(code),  grammar.logLikelihood(code.infer(), code)\n",
    "np.round(state_circuit_to_mat(code.evaluate([])(no_op(2))),decimals=2)"
   ]
  },
  {
   "cell_type": "code",
   "execution_count": 35,
   "metadata": {},
   "outputs": [
    {
     "name": "stdout",
     "output_type": "stream",
     "text": [
      "        \n",
      "q_0: ───\n",
      "        \n",
      "q_1: ─■─\n",
      "      │ \n",
      "q_2: ─■─\n",
      "        \n"
     ]
    },
    {
     "name": "stderr",
     "output_type": "stream",
     "text": [
      "Code consistent with Qiskit\n"
     ]
    },
    {
     "data": {
      "text/plain": [
       "array([[ 1.,  0.,  0.,  0.,  0.,  0., -0., -0.],\n",
       "       [ 0.,  1.,  0.,  0.,  0.,  0., -0., -0.],\n",
       "       [ 0.,  0.,  1.,  0.,  0.,  0., -0., -0.],\n",
       "       [ 0.,  0.,  0.,  1.,  0.,  0., -0., -0.],\n",
       "       [ 0.,  0.,  0.,  0.,  1.,  0., -0., -0.],\n",
       "       [ 0.,  0.,  0.,  0.,  0.,  1., -0., -0.],\n",
       "       [ 0.,  0.,  0.,  0.,  0.,  0., -1., -0.],\n",
       "       [ 0.,  0.,  0.,  0.,  0.,  0., -0., -1.]])"
      ]
     },
     "execution_count": 35,
     "metadata": {},
     "output_type": "execute_result"
    }
   ],
   "source": [
    "with QiskitTester(code.evaluate([])(no_op(3))) as QT:\n",
    "    QT.circuit.cz(QT.q(0),QT.q(1))\n",
    "print(QT)\n",
    "QT.check()\n",
    "np.real(np.array(QT.result))"
   ]
  },
  {
   "cell_type": "code",
   "execution_count": 36,
   "metadata": {},
   "outputs": [
    {
     "name": "stdout",
     "output_type": "stream",
     "text": [
      "        \n",
      "q_0: ─■─\n",
      "      │ \n",
      "q_1: ─■─\n",
      "        \n"
     ]
    },
    {
     "data": {
      "text/plain": [
       "array([[ 1.,  0.,  0., -0.],\n",
       "       [ 0.,  1.,  0., -0.],\n",
       "       [ 0.,  0.,  1., -0.],\n",
       "       [ 0.,  0.,  0., -1.]])"
      ]
     },
     "execution_count": 36,
     "metadata": {},
     "output_type": "execute_result"
    }
   ],
   "source": [
    "with QiskitTester(code.evaluate([])(no_op(2))) as QT:\n",
    "    QT.circuit.cz(QT.q(1),QT.q(0))\n",
    "print(QT)\n",
    "np.real(np.array(QT.result))"
   ]
  },
  {
   "cell_type": "code",
   "execution_count": 37,
   "metadata": {},
   "outputs": [
    {
     "data": {
      "text/plain": [
       "(0.0, -15.83434397769155)"
      ]
     },
     "execution_count": 37,
     "metadata": {},
     "output_type": "execute_result"
    }
   ],
   "source": [
    "task = get_task_from_name(\"cnot_nn_1\",tasks)\n",
    "code = dc.program.Program.parse(\"(lambda (cnot ((rep (dec(dec(size $0))) (lambda (mv $0))) $0)))\")\n",
    "code.evaluate([])(no_op(3))\n",
    "task.logLikelihood(code),  grammar.logLikelihood(code.infer(), code)\n"
   ]
  },
  {
   "cell_type": "code",
   "execution_count": 38,
   "metadata": {},
   "outputs": [
    {
     "name": "stderr",
     "output_type": "stream",
     "text": [
      "          ┌───┐                         ┌───┐     \n",
      "q_0: ──■──┤ X ├──■───────────────────■──┤ X ├──■──\n",
      "     ┌─┴─┐└─┬─┘┌─┴─┐     ┌───┐     ┌─┴─┐└─┬─┘┌─┴─┐\n",
      "q_1: ┤ X ├──■──┤ X ├──■──┤ X ├──■──┤ X ├──■──┤ X ├\n",
      "     └───┘     └───┘┌─┴─┐└─┬─┘┌─┴─┐└───┘     └───┘\n",
      "q_2: ───────────────┤ X ├──■──┤ X ├───────────────\n",
      "                    └───┘     └───┘               \n"
     ]
    },
    {
     "data": {
      "text/plain": [
       "(0.0, -53.633315382926966)"
      ]
     },
     "execution_count": 38,
     "metadata": {},
     "output_type": "execute_result"
    }
   ],
   "source": [
    "task = get_task_from_name(\"swap_0n\",tasks)\n",
    "code = dc.program.Program.parse(\"(lambda ((  (rep (dec(dec(size $0))) (lambda ((cnot(minv(mv_r(cnot(minv (mv (cnot(mv_r $0)))))))))) )  (mv_r( (rep (dec(size $0)) (lambda (mv((cnot(minv(mv_r(cnot(minv (mv (cnot $0)))))))))) ) $0 )))))\")\n",
    "print_circuit(code.evaluate([])(no_op(3)))\n",
    "task.logLikelihood(code),  grammar.logLikelihood(code.infer(), code)"
   ]
  },
  {
   "cell_type": "code",
   "execution_count": 39,
   "metadata": {},
   "outputs": [],
   "source": [
    "## If swap was included\n",
    "# task = get_task_from_name(\"swap_0n\",tasks)\n",
    "# code = dc.program.Program.parse(\"(lambda ((  (rep (dec(dec(size $0))) (lambda (swap(mv_r $0))) )  (mv_r( (rep (dec(size $0)) (lambda (mv(swap $0))) ) $0 )))))\")\n",
    "# print_circuit(code.evaluate([])(no_op(5)))\n",
    "# task.logLikelihood(code),  grammar.logLikelihood(code.infer(), code)"
   ]
  },
  {
   "cell_type": "code",
   "execution_count": 40,
   "metadata": {},
   "outputs": [],
   "source": [
    "## If swap was included\n",
    "# task = get_task_from_name(\"swap_0n\",tasks)\n",
    "# code = dc.program.Program.parse(\"(lambda ((  (rep (dec(dec(size $0))) (lambda (swap(mv_r $0))) )  (mv_r( (rep (dec(size $0)) (lambda (mv(swap $0))) )  $0 )))))\")\n",
    "# print_circuit(code.evaluate([])(no_op(5)))\n",
    "# task.logLikelihood(code),  grammar.logLikelihood(code.infer(), code)"
   ]
  },
  {
   "cell_type": "markdown",
   "metadata": {},
   "source": [
    "### Profile bottom-up enumeration"
   ]
  },
  {
   "cell_type": "code",
   "execution_count": 13,
   "metadata": {},
   "outputs": [
    {
     "name": "stdout",
     "output_type": "stream",
     "text": [
      "CUDA is available?: False\n",
      "using cuda?: False\n"
     ]
    },
    {
     "name": "stderr",
     "output_type": "stream",
     "text": [
      "usage: ipykernel_launcher.py [-h] [--resume RESUME] [-i ITERATIONS]\n",
      "                             [-t ENUMERATIONTIMEOUT] [-R RECOGNITIONTIMEOUT]\n",
      "                             [-RS RECOGNITIONSTEPS] [-k TOPK]\n",
      "                             [-p PSEUDOCOUNTS] [-b AIC] [-l STRUCTUREPENALTY]\n",
      "                             [-a ARITY] [-c CPUS] [--no-cuda]\n",
      "                             [-m MAXIMUMFRONTIER] [--reuseRecognition]\n",
      "                             [--recognition] [--ensembleSize ENSEMBLESIZE]\n",
      "                             [-g] [-d] [--no-consolidation]\n",
      "                             [--testingTimeout TESTINGTIMEOUT]\n",
      "                             [--testEvery TESTEVERY] [--seed SEED]\n",
      "                             [--activation {relu,sigmoid,tanh}]\n",
      "                             [--solver {ocaml,pypy,bottom,python}]\n",
      "                             [-r HELMHOLTZRATIO]\n",
      "                             [--compressor {pypy,rust,vs,pypy_vs,ocaml,memorize}]\n",
      "                             [--matrixRank MATRIXRANK] [--mask]\n",
      "                             [--biasOptimal] [--contextual]\n",
      "                             [--clear-recognition CLEAR-RECOGNITION]\n",
      "                             [--primitive-graph PRIMITIVE-GRAPH [PRIMITIVE-GRAPH ...]]\n",
      "                             [--taskBatchSize TASKBATCHSIZE]\n",
      "                             [--taskReranker {default,random,randomShuffle,unsolved,unsolvedEntropy,unsolvedRandomEntropy,randomkNN,randomLowEntropykNN}]\n",
      "                             [--storeTaskMetrics] [--rewriteTaskMetrics]\n",
      "                             [--addTaskMetrics ADDTASKMETRICS [ADDTASKMETRICS ...]]\n",
      "                             [--auxiliary] [--addFullTaskMetrics]\n",
      "                             [--countParameters COUNTPARAMETERS]\n",
      "ipykernel_launcher.py: error: unrecognized arguments: --ip=127.0.0.1 --stdin=9003 --control=9001 --hb=9000 --Session.signature_scheme=\"hmac-sha256\" --Session.key=b\"1536060b-098c-4fd5-b891-f22aa0311306\" --shell=9002 --transport=\"tcp\" --iopub=9004 --f=/var/folders/g6/m3rq3pbs7lq6drdpnnfm1fvjwthg2w/T/tmp-23320Afm1Zw1Bm3I3.json\n"
     ]
    }
   ],
   "source": [
    "try:\n",
    "    import binutil  # required to import from dreamcoder modules\n",
    "except ModuleNotFoundError:\n",
    "    import bin.binutil  # alt import if called as module\n",
    "\n",
    "from dreamcoder.domains.quantum_algorithms.main import main\n",
    "from dreamcoder.dreamcoder import commandlineArguments\n",
    "from dreamcoder.utilities import numberOfCPUs\n",
    "\n",
    "arguments = commandlineArguments(\n",
    "    featureExtractor=None, # it was TowerCNN\n",
    "    CPUs=numberOfCPUs(),\n",
    "    helmholtzRatio=0.5,\n",
    "    recognitionTimeout=6,\n",
    "    iterations=6,\n",
    "    a=3,\n",
    "    structurePenalty=1,\n",
    "    pseudoCounts=10,\n",
    "    topK=2,\n",
    "    maximumFrontier=5,\n",
    "    extras=None,\n",
    "    solver=\"bottom\", \n",
    "    useRecognitionModel=False,\n",
    "    enumerationTimeout=6,#-g\n",
    "    compressor=\"pypy\")   #ocaml, python, pypy  \n"
   ]
  },
  {
   "cell_type": "code",
   "execution_count": 14,
   "metadata": {},
   "outputs": [
    {
     "name": "stderr",
     "output_type": "stream",
     "text": [
      "Running EC on 01-mar-grp-0020 @ 2022-04-03 20:06:17.653038 with 8 CPUs and parameters:\n",
      "\t noConsolidation  =  False\n",
      "\t iterations  =  6\n",
      "\t enumerationTimeout  =  6\n",
      "\t useRecognitionModel  =  False\n",
      "\t topk_use_only_likelihood  =  False\n",
      "\t pseudoCounts  =  10\n",
      "\t aic  =  1.0\n",
      "\t structurePenalty  =  1\n",
      "\t arity  =  3\n",
      "\t taskReranker  =  default\n",
      "\t storeTaskMetrics  =  True\n",
      "\t rewriteTaskMetrics  =  False\n",
      "\t maximumFrontier  =  5\n",
      "\t solver  =  bottom\n",
      "\t topK  =  2\n",
      "\t evaluationTimeout  =  0.01\n",
      "\t cuda  =  False\n",
      "\n",
      "Currently using this much memory: 208424960\n",
      "Currently using this much memory: 208429056\n",
      "Using a waking task batch of size: 19\n",
      "Disabling parallelism on the Python side because we only have one job.\n",
      "If you are using ocaml or bottom, there could still be parallelism.\n",
      "(frontend) Launching int -> tcircuit (19 tasks) w/ 8 CPUs. 0.000000 <= MDL < 6.000000. Timeout 6.000000.\n",
      "PANIC! Exception in child worker: [Errno 2] No such file or directory: 'pypy3': 'pypy3'\n",
      "Traceback (most recent call last):\n",
      "  File \"/Users/lsarra/ownCloud/topics/artificial-scientific-discovery/2021_Unitary-Synthesis/ec/dreamcoder/enumeration.py\", line 243, in _f\n",
      "    r = f(*a, **k)\n",
      "  File \"/Users/lsarra/ownCloud/topics/artificial-scientific-discovery/2021_Unitary-Synthesis/ec/dreamcoder/enumeration.py\", line 407, in solveForTask_bottom\n",
      "    compile_me=False,\n",
      "  File \"/Users/lsarra/ownCloud/topics/artificial-scientific-discovery/2021_Unitary-Synthesis/ec/dreamcoder/utilities.py\", line 404, in callCompiled\n",
      "    stdin=subprocess.PIPE, stdout=subprocess.PIPE)\n",
      "  File \"/Users/lsarra/opt/anaconda3/envs/dc/lib/python3.7/subprocess.py\", line 800, in __init__\n",
      "    restore_signals, start_new_session)\n",
      "  File \"/Users/lsarra/opt/anaconda3/envs/dc/lib/python3.7/subprocess.py\", line 1551, in _execute_child\n",
      "    raise child_exception_type(errno_num, err_msg, err_filename)\n",
      "FileNotFoundError: [Errno 2] No such file or directory: 'pypy3': 'pypy3'\n",
      "\n"
     ]
    },
    {
     "ename": "AssertionError",
     "evalue": "",
     "output_type": "error",
     "traceback": [
      "\u001b[0;31m---------------------------------------------------------------------------\u001b[0m",
      "\u001b[0;31mAssertionError\u001b[0m                            Traceback (most recent call last)",
      "\u001b[0;32m/var/folders/g6/m3rq3pbs7lq6drdpnnfm1fvjwthg2w/T/ipykernel_23556/2686176463.py\u001b[0m in \u001b[0;36m<module>\u001b[0;34m\u001b[0m\n\u001b[1;32m      1\u001b[0m \u001b[0;31m# %lprun -f dc.domains.quantum_algorithms.primitives.tensor_contraction -f dc.domains.quantum_algorithms.tasks.QuantumTask.logLikelihood -f dc.domains.quantum_algorithms.primitives.execute_quantum_algorithm -f full_circuit_to_mat -f dc.enumeration.multicoreEnumeration main(arguments)\u001b[0m\u001b[0;34m\u001b[0m\u001b[0;34m\u001b[0m\u001b[0;34m\u001b[0m\u001b[0m\n\u001b[0;32m----> 2\u001b[0;31m \u001b[0mmain\u001b[0m\u001b[0;34m(\u001b[0m\u001b[0marguments\u001b[0m\u001b[0;34m)\u001b[0m\u001b[0;34m\u001b[0m\u001b[0;34m\u001b[0m\u001b[0m\n\u001b[0m",
      "\u001b[0;32m~/ownCloud/topics/artificial-scientific-discovery/2021_Unitary-Synthesis/ec/dreamcoder/domains/quantum_algorithms/main.py\u001b[0m in \u001b[0;36mmain\u001b[0;34m(arguments)\u001b[0m\n\u001b[1;32m     41\u001b[0m                            \u001b[0mevaluationTimeout\u001b[0m\u001b[0;34m=\u001b[0m\u001b[0mevaluationTimeout\u001b[0m\u001b[0;34m,\u001b[0m\u001b[0;34m\u001b[0m\u001b[0;34m\u001b[0m\u001b[0m\n\u001b[1;32m     42\u001b[0m                            **arguments)\n\u001b[0;32m---> 43\u001b[0;31m     \u001b[0;32mfor\u001b[0m \u001b[0mresult\u001b[0m \u001b[0;32min\u001b[0m \u001b[0mgenerator\u001b[0m\u001b[0;34m:\u001b[0m\u001b[0;34m\u001b[0m\u001b[0;34m\u001b[0m\u001b[0m\n\u001b[0m\u001b[1;32m     44\u001b[0m         \u001b[0;32mcontinue\u001b[0m\u001b[0;34m\u001b[0m\u001b[0;34m\u001b[0m\u001b[0m\n\u001b[1;32m     45\u001b[0m \u001b[0;34m\u001b[0m\u001b[0m\n",
      "\u001b[0;32m~/ownCloud/topics/artificial-scientific-discovery/2021_Unitary-Synthesis/ec/dreamcoder/dreamcoder.py\u001b[0m in \u001b[0;36mecIterator\u001b[0;34m(grammar, tasks, _, useDSL, noConsolidation, mask, seed, addFullTaskMetrics, matrixRank, solver, compressor, biasOptimal, contextual, testingTasks, iterations, resume, enumerationTimeout, testingTimeout, testEvery, reuseRecognition, ensembleSize, useRecognitionModel, recognitionTimeout, recognitionSteps, helmholtzRatio, featureExtractor, activation, topK, topk_use_only_likelihood, use_map_search_times, maximumFrontier, pseudoCounts, aic, structurePenalty, arity, evaluationTimeout, taskBatchSize, taskReranker, CPUs, cuda, message, outputPrefix, storeTaskMetrics, rewriteTaskMetrics, auxiliaryLoss, custom_wake_generative)\u001b[0m\n\u001b[1;32m    411\u001b[0m                                                       \u001b[0menumerationTimeout\u001b[0m\u001b[0;34m=\u001b[0m\u001b[0menumerationTimeout\u001b[0m\u001b[0;34m,\u001b[0m\u001b[0;34m\u001b[0m\u001b[0;34m\u001b[0m\u001b[0m\n\u001b[1;32m    412\u001b[0m                                                       \u001b[0mCPUs\u001b[0m\u001b[0;34m=\u001b[0m\u001b[0mCPUs\u001b[0m\u001b[0;34m,\u001b[0m\u001b[0;34m\u001b[0m\u001b[0;34m\u001b[0m\u001b[0m\n\u001b[0;32m--> 413\u001b[0;31m                                                       evaluationTimeout=evaluationTimeout)\n\u001b[0m\u001b[1;32m    414\u001b[0m             \u001b[0mresult\u001b[0m\u001b[0;34m.\u001b[0m\u001b[0mtrainSearchTime\u001b[0m \u001b[0;34m=\u001b[0m \u001b[0;34m{\u001b[0m\u001b[0mt\u001b[0m\u001b[0;34m:\u001b[0m \u001b[0mtm\u001b[0m \u001b[0;32mfor\u001b[0m \u001b[0mt\u001b[0m\u001b[0;34m,\u001b[0m \u001b[0mtm\u001b[0m \u001b[0;32min\u001b[0m \u001b[0mtimes\u001b[0m\u001b[0;34m.\u001b[0m\u001b[0mitems\u001b[0m\u001b[0;34m(\u001b[0m\u001b[0;34m)\u001b[0m \u001b[0;32mif\u001b[0m \u001b[0mtm\u001b[0m \u001b[0;32mis\u001b[0m \u001b[0;32mnot\u001b[0m \u001b[0;32mNone\u001b[0m\u001b[0;34m}\u001b[0m\u001b[0;34m\u001b[0m\u001b[0;34m\u001b[0m\u001b[0m\n\u001b[1;32m    415\u001b[0m         \u001b[0;32melse\u001b[0m\u001b[0;34m:\u001b[0m\u001b[0;34m\u001b[0m\u001b[0;34m\u001b[0m\u001b[0m\n",
      "\u001b[0;32m~/ownCloud/topics/artificial-scientific-discovery/2021_Unitary-Synthesis/ec/dreamcoder/dreamcoder.py\u001b[0m in \u001b[0;36mdefault_wake_generative\u001b[0;34m(grammar, tasks, maximumFrontier, enumerationTimeout, CPUs, solver, evaluationTimeout)\u001b[0m\n\u001b[1;32m    557\u001b[0m                                                    \u001b[0mCPUs\u001b[0m\u001b[0;34m=\u001b[0m\u001b[0mCPUs\u001b[0m\u001b[0;34m,\u001b[0m\u001b[0;34m\u001b[0m\u001b[0;34m\u001b[0m\u001b[0m\n\u001b[1;32m    558\u001b[0m                                                    \u001b[0msolver\u001b[0m\u001b[0;34m=\u001b[0m\u001b[0msolver\u001b[0m\u001b[0;34m,\u001b[0m\u001b[0;34m\u001b[0m\u001b[0;34m\u001b[0m\u001b[0m\n\u001b[0;32m--> 559\u001b[0;31m                                                    evaluationTimeout=evaluationTimeout)\n\u001b[0m\u001b[1;32m    560\u001b[0m     \u001b[0meprint\u001b[0m\u001b[0;34m(\u001b[0m\u001b[0;34m\"Generative model enumeration results:\"\u001b[0m\u001b[0;34m)\u001b[0m\u001b[0;34m\u001b[0m\u001b[0;34m\u001b[0m\u001b[0m\n\u001b[1;32m    561\u001b[0m     \u001b[0meprint\u001b[0m\u001b[0;34m(\u001b[0m\u001b[0mFrontier\u001b[0m\u001b[0;34m.\u001b[0m\u001b[0mdescribe\u001b[0m\u001b[0;34m(\u001b[0m\u001b[0mtopDownFrontiers\u001b[0m\u001b[0;34m)\u001b[0m\u001b[0;34m)\u001b[0m\u001b[0;34m\u001b[0m\u001b[0;34m\u001b[0m\u001b[0m\n",
      "\u001b[0;32m~/ownCloud/topics/artificial-scientific-discovery/2021_Unitary-Synthesis/ec/dreamcoder/enumeration.py\u001b[0m in \u001b[0;36mmulticoreEnumeration\u001b[0;34m(g, tasks, _, enumerationTimeout, solver, CPUs, maximumFrontier, verbose, evaluationTimeout, testing)\u001b[0m\n\u001b[1;32m    189\u001b[0m             \u001b[0meprint\u001b[0m\u001b[0;34m(\u001b[0m\u001b[0;34m\"PANIC! Exception in child worker:\"\u001b[0m\u001b[0;34m,\u001b[0m \u001b[0mmessage\u001b[0m\u001b[0;34m.\u001b[0m\u001b[0mexception\u001b[0m\u001b[0;34m)\u001b[0m\u001b[0;34m\u001b[0m\u001b[0;34m\u001b[0m\u001b[0m\n\u001b[1;32m    190\u001b[0m             \u001b[0meprint\u001b[0m\u001b[0;34m(\u001b[0m\u001b[0mmessage\u001b[0m\u001b[0;34m.\u001b[0m\u001b[0mstacktrace\u001b[0m\u001b[0;34m)\u001b[0m\u001b[0;34m\u001b[0m\u001b[0;34m\u001b[0m\u001b[0m\n\u001b[0;32m--> 191\u001b[0;31m             \u001b[0;32massert\u001b[0m \u001b[0;32mFalse\u001b[0m\u001b[0;34m\u001b[0m\u001b[0;34m\u001b[0m\u001b[0m\n\u001b[0m\u001b[1;32m    192\u001b[0m         \u001b[0;32melif\u001b[0m \u001b[0mmessage\u001b[0m\u001b[0;34m.\u001b[0m\u001b[0mresult\u001b[0m \u001b[0;34m==\u001b[0m \u001b[0;34m\"success\"\u001b[0m\u001b[0;34m:\u001b[0m\u001b[0;34m\u001b[0m\u001b[0;34m\u001b[0m\u001b[0m\n\u001b[1;32m    193\u001b[0m             \u001b[0;31m# Mark the CPUs is no longer being used and pause the stopwatch\u001b[0m\u001b[0;34m\u001b[0m\u001b[0;34m\u001b[0m\u001b[0;34m\u001b[0m\u001b[0m\n",
      "\u001b[0;31mAssertionError\u001b[0m: "
     ]
    }
   ],
   "source": [
    "# %lprun -f dc.domains.quantum_algorithms.primitives.tensor_contraction -f dc.domains.quantum_algorithms.tasks.QuantumTask.logLikelihood -f dc.domains.quantum_algorithms.primitives.execute_quantum_algorithm -f full_circuit_to_mat -f dc.enumeration.multicoreEnumeration main(arguments)\n",
    "main(arguments)"
   ]
  },
  {
   "cell_type": "code",
   "execution_count": 43,
   "metadata": {},
   "outputs": [
    {
     "data": {
      "text/plain": [
       "(-inf, -13.328818040700815)"
      ]
     },
     "execution_count": 43,
     "metadata": {},
     "output_type": "execute_result"
    }
   ],
   "source": [
    "code = dc.program.Program.parse(\"(lambda ((rep (inc(inc(dec 0))) (lambda (mv $0))) $0))\")\n",
    "code.evaluate([])(no_op(5))\n",
    "code.infer()\n",
    "tasks[0].logLikelihood(code),  grammar.logLikelihood(code.infer(), code)\n"
   ]
  },
  {
   "cell_type": "markdown",
   "metadata": {},
   "source": [
    "## Recognition model"
   ]
  },
  {
   "cell_type": "code",
   "execution_count": 44,
   "metadata": {},
   "outputs": [
    {
     "name": "stdout",
     "output_type": "stream",
     "text": [
      "continuation : tcircuit\n",
      "0.000000\tt0\t$_\n",
      "0.000000\ttcircuit -> tcircuit\tmv\n",
      "0.000000\ttcircuit -> tcircuit\tmv_r\n",
      "0.000000\ttcircuit -> tcircuit\tminv\n",
      "0.000000\ttcircuit -> tcircuit\th\n",
      "0.000000\ttcircuit -> tcircuit\tcnot\n",
      "0.000000\tint -> (tcircuit -> tcircuit) -> tcircuit -> tcircuit\trep\n",
      "0.000000\tint\t0\n",
      "0.000000\tint -> int\tinc\n",
      "0.000000\tint -> int\tdec\n",
      "0.000000\ttcircuit -> int\tsize\n"
     ]
    }
   ],
   "source": [
    "print(grammar)"
   ]
  },
  {
   "cell_type": "code",
   "execution_count": 6,
   "metadata": {},
   "outputs": [
    {
     "name": "stderr",
     "output_type": "stream",
     "text": [
      "pcfg compilation: distinct non terminals 2 ; distinct environments 2\n",
      "pcfg compilation: distinct non terminals 2 ; distinct environments 2\n"
     ]
    }
   ],
   "source": [
    "restricted_pcfg = dc.grammar.PCFG.from_grammar(grammar, request=dc.type.arrow(tcircuit, tcircuit))\n",
    "full_pcfg = dc.grammar.PCFG.from_grammar(full_grammar, request=dc.type.arrow(tcircuit_full, tcircuit_full))"
   ]
  },
  {
   "cell_type": "code",
   "execution_count": 46,
   "metadata": {},
   "outputs": [],
   "source": [
    "iterator = restricted_pcfg.quantized_enumeration(observational_equivalence=False)"
   ]
  },
  {
   "cell_type": "code",
   "execution_count": 47,
   "metadata": {},
   "outputs": [
    {
     "name": "stderr",
     "output_type": "stream",
     "text": [
      "[(lambda 0)]\n",
      " -- Bottom up enumeration, cost 0\n",
      " -- Bottom up enumeration, cost 1\n",
      " -- Bottom up enumeration, cost 2\n",
      " -- Bottom up enumeration, cost 3\n",
      " -- Bottom up enumeration, cost 4\n"
     ]
    },
    {
     "name": "stdout",
     "output_type": "stream",
     "text": [
      "(lambda $0)\n"
     ]
    },
    {
     "name": "stderr",
     "output_type": "stream",
     "text": [
      " -- Bottom up enumeration, cost 5\n",
      " -- Bottom up enumeration, cost 6\n",
      " -- Bottom up enumeration, cost 7\n",
      " -- Bottom up enumeration, cost 8\n"
     ]
    },
    {
     "name": "stdout",
     "output_type": "stream",
     "text": [
      "(lambda (mv $0))\n",
      "(lambda (mv_r $0))\n",
      "(lambda (minv $0))\n",
      "(lambda (h $0))\n",
      "(lambda (cnot $0))\n"
     ]
    },
    {
     "name": "stderr",
     "output_type": "stream",
     "text": [
      " -- Bottom up enumeration, cost 9\n",
      " -- Bottom up enumeration, cost 10\n",
      " -- Bottom up enumeration, cost 11\n",
      " -- Bottom up enumeration, cost 12\n"
     ]
    },
    {
     "name": "stdout",
     "output_type": "stream",
     "text": [
      "(lambda (mv (mv $0)))\n",
      "(lambda (mv (mv_r $0)))\n",
      "(lambda (mv (minv $0)))\n",
      "(lambda (mv (h $0)))\n",
      "(lambda (mv (cnot $0)))\n",
      "(lambda (mv_r (mv $0)))\n",
      "(lambda (mv_r (mv_r $0)))\n",
      "(lambda (mv_r (minv $0)))\n",
      "(lambda (mv_r (h $0)))\n",
      "(lambda (mv_r (cnot $0)))\n",
      "(lambda (minv (mv $0)))\n",
      "(lambda (minv (mv_r $0)))\n",
      "(lambda (minv (minv $0)))\n",
      "(lambda (minv (h $0)))\n",
      "(lambda (minv (cnot $0)))\n",
      "(lambda (h (mv $0)))\n",
      "(lambda (h (mv_r $0)))\n",
      "(lambda (h (minv $0)))\n",
      "(lambda (h (h $0)))\n",
      "(lambda (h (cnot $0)))\n",
      "(lambda (cnot (mv $0)))\n",
      "(lambda (cnot (mv_r $0)))\n",
      "(lambda (cnot (minv $0)))\n",
      "(lambda (cnot (h $0)))\n",
      "(lambda (cnot (cnot $0)))\n"
     ]
    },
    {
     "name": "stderr",
     "output_type": "stream",
     "text": [
      " -- Bottom up enumeration, cost 13\n",
      " -- Bottom up enumeration, cost 14\n",
      " -- Bottom up enumeration, cost 15\n"
     ]
    },
    {
     "name": "stdout",
     "output_type": "stream",
     "text": [
      "(lambda (rep 0 (lambda $0) $0))\n"
     ]
    },
    {
     "name": "stderr",
     "output_type": "stream",
     "text": [
      " -- Bottom up enumeration, cost 16\n"
     ]
    },
    {
     "name": "stdout",
     "output_type": "stream",
     "text": [
      "(lambda (mv (mv (mv $0))))\n",
      "(lambda (mv (mv (mv_r $0))))\n",
      "(lambda (mv (mv (minv $0))))\n",
      "(lambda (mv (mv (h $0))))\n",
      "(lambda (mv (mv (cnot $0))))\n",
      "(lambda (mv (mv_r (mv $0))))\n",
      "(lambda (mv (mv_r (mv_r $0))))\n",
      "(lambda (mv (mv_r (minv $0))))\n",
      "(lambda (mv (mv_r (h $0))))\n",
      "(lambda (mv (mv_r (cnot $0))))\n",
      "(lambda (mv (minv (mv $0))))\n",
      "(lambda (mv (minv (mv_r $0))))\n",
      "(lambda (mv (minv (minv $0))))\n",
      "(lambda (mv (minv (h $0))))\n",
      "(lambda (mv (minv (cnot $0))))\n",
      "(lambda (mv (h (mv $0))))\n",
      "(lambda (mv (h (mv_r $0))))\n",
      "(lambda (mv (h (minv $0))))\n",
      "(lambda (mv (h (h $0))))\n",
      "(lambda (mv (h (cnot $0))))\n",
      "(lambda (mv (cnot (mv $0))))\n",
      "(lambda (mv (cnot (mv_r $0))))\n",
      "(lambda (mv (cnot (minv $0))))\n",
      "(lambda (mv (cnot (h $0))))\n",
      "(lambda (mv (cnot (cnot $0))))\n",
      "(lambda (mv_r (mv (mv $0))))\n",
      "(lambda (mv_r (mv (mv_r $0))))\n",
      "(lambda (mv_r (mv (minv $0))))\n",
      "(lambda (mv_r (mv (h $0))))\n",
      "(lambda (mv_r (mv (cnot $0))))\n",
      "(lambda (mv_r (mv_r (mv $0))))\n",
      "(lambda (mv_r (mv_r (mv_r $0))))\n",
      "(lambda (mv_r (mv_r (minv $0))))\n",
      "(lambda (mv_r (mv_r (h $0))))\n",
      "(lambda (mv_r (mv_r (cnot $0))))\n",
      "(lambda (mv_r (minv (mv $0))))\n",
      "(lambda (mv_r (minv (mv_r $0))))\n",
      "(lambda (mv_r (minv (minv $0))))\n",
      "(lambda (mv_r (minv (h $0))))\n",
      "(lambda (mv_r (minv (cnot $0))))\n",
      "(lambda (mv_r (h (mv $0))))\n",
      "(lambda (mv_r (h (mv_r $0))))\n",
      "(lambda (mv_r (h (minv $0))))\n",
      "(lambda (mv_r (h (h $0))))\n",
      "(lambda (mv_r (h (cnot $0))))\n",
      "(lambda (mv_r (cnot (mv $0))))\n",
      "(lambda (mv_r (cnot (mv_r $0))))\n",
      "(lambda (mv_r (cnot (minv $0))))\n",
      "(lambda (mv_r (cnot (h $0))))\n",
      "(lambda (mv_r (cnot (cnot $0))))\n",
      "(lambda (minv (mv (mv $0))))\n",
      "(lambda (minv (mv (mv_r $0))))\n",
      "(lambda (minv (mv (minv $0))))\n",
      "(lambda (minv (mv (h $0))))\n",
      "(lambda (minv (mv (cnot $0))))\n",
      "(lambda (minv (mv_r (mv $0))))\n",
      "(lambda (minv (mv_r (mv_r $0))))\n",
      "(lambda (minv (mv_r (minv $0))))\n",
      "(lambda (minv (mv_r (h $0))))\n",
      "(lambda (minv (mv_r (cnot $0))))\n",
      "(lambda (minv (minv (mv $0))))\n",
      "(lambda (minv (minv (mv_r $0))))\n",
      "(lambda (minv (minv (minv $0))))\n",
      "(lambda (minv (minv (h $0))))\n",
      "(lambda (minv (minv (cnot $0))))\n",
      "(lambda (minv (h (mv $0))))\n",
      "(lambda (minv (h (mv_r $0))))\n",
      "(lambda (minv (h (minv $0))))\n",
      "(lambda (minv (h (h $0))))\n",
      "(lambda (minv (h (cnot $0))))\n",
      "(lambda (minv (cnot (mv $0))))\n",
      "(lambda (minv (cnot (mv_r $0))))\n",
      "(lambda (minv (cnot (minv $0))))\n",
      "(lambda (minv (cnot (h $0))))\n",
      "(lambda (minv (cnot (cnot $0))))\n",
      "(lambda (h (mv (mv $0))))\n",
      "(lambda (h (mv (mv_r $0))))\n",
      "(lambda (h (mv (minv $0))))\n",
      "(lambda (h (mv (h $0))))\n",
      "(lambda (h (mv (cnot $0))))\n",
      "(lambda (h (mv_r (mv $0))))\n",
      "(lambda (h (mv_r (mv_r $0))))\n",
      "(lambda (h (mv_r (minv $0))))\n",
      "(lambda (h (mv_r (h $0))))\n",
      "(lambda (h (mv_r (cnot $0))))\n",
      "(lambda (h (minv (mv $0))))\n",
      "(lambda (h (minv (mv_r $0))))\n",
      "(lambda (h (minv (minv $0))))\n",
      "(lambda (h (minv (h $0))))\n",
      "(lambda (h (minv (cnot $0))))\n",
      "(lambda (h (h (mv $0))))\n",
      "(lambda (h (h (mv_r $0))))\n",
      "(lambda (h (h (minv $0))))\n",
      "(lambda (h (h (h $0))))\n",
      "(lambda (h (h (cnot $0))))\n",
      "(lambda (h (cnot (mv $0))))\n",
      "(lambda (h (cnot (mv_r $0))))\n",
      "(lambda (h (cnot (minv $0))))\n",
      "(lambda (h (cnot (h $0))))\n",
      "(lambda (h (cnot (cnot $0))))\n",
      "(lambda (cnot (mv (mv $0))))\n",
      "(lambda (cnot (mv (mv_r $0))))\n",
      "(lambda (cnot (mv (minv $0))))\n",
      "(lambda (cnot (mv (h $0))))\n",
      "(lambda (cnot (mv (cnot $0))))\n",
      "(lambda (cnot (mv_r (mv $0))))\n",
      "(lambda (cnot (mv_r (mv_r $0))))\n",
      "(lambda (cnot (mv_r (minv $0))))\n",
      "(lambda (cnot (mv_r (h $0))))\n",
      "(lambda (cnot (mv_r (cnot $0))))\n",
      "(lambda (cnot (minv (mv $0))))\n",
      "(lambda (cnot (minv (mv_r $0))))\n",
      "(lambda (cnot (minv (minv $0))))\n",
      "(lambda (cnot (minv (h $0))))\n",
      "(lambda (cnot (minv (cnot $0))))\n",
      "(lambda (cnot (h (mv $0))))\n",
      "(lambda (cnot (h (mv_r $0))))\n",
      "(lambda (cnot (h (minv $0))))\n",
      "(lambda (cnot (h (h $0))))\n",
      "(lambda (cnot (h (cnot $0))))\n",
      "(lambda (cnot (cnot (mv $0))))\n",
      "(lambda (cnot (cnot (mv_r $0))))\n",
      "(lambda (cnot (cnot (minv $0))))\n",
      "(lambda (cnot (cnot (h $0))))\n",
      "(lambda (cnot (cnot (cnot $0))))\n"
     ]
    },
    {
     "name": "stderr",
     "output_type": "stream",
     "text": [
      " -- Bottom up enumeration, cost 17\n",
      " -- Bottom up enumeration, cost 18\n"
     ]
    },
    {
     "name": "stdout",
     "output_type": "stream",
     "text": [
      "(lambda (rep (inc 0) (lambda $0) $0))\n",
      "(lambda (rep (dec 0) (lambda $0) $0))\n"
     ]
    },
    {
     "name": "stderr",
     "output_type": "stream",
     "text": [
      " -- Bottom up enumeration, cost 19\n"
     ]
    },
    {
     "name": "stdout",
     "output_type": "stream",
     "text": [
      "(lambda (mv (rep 0 (lambda $0) $0)))\n",
      "(lambda (mv_r (rep 0 (lambda $0) $0)))\n",
      "(lambda (minv (rep 0 (lambda $0) $0)))\n",
      "(lambda (h (rep 0 (lambda $0) $0)))\n",
      "(lambda (cnot (rep 0 (lambda $0) $0)))\n",
      "(lambda (rep 0 (lambda $0) (mv $0)))\n",
      "(lambda (rep 0 (lambda $0) (mv_r $0)))\n",
      "(lambda (rep 0 (lambda $0) (minv $0)))\n",
      "(lambda (rep 0 (lambda $0) (h $0)))\n",
      "(lambda (rep 0 (lambda $0) (cnot $0)))\n",
      "(lambda (rep 0 (lambda (mv $0)) $0))\n",
      "(lambda (rep 0 (lambda (mv_r $0)) $0))\n",
      "(lambda (rep 0 (lambda (minv $0)) $0))\n",
      "(lambda (rep 0 (lambda (h $0)) $0))\n",
      "(lambda (rep 0 (lambda (cnot $0)) $0))\n",
      "(lambda (rep (size $0) (lambda $0) $0))\n"
     ]
    },
    {
     "name": "stderr",
     "output_type": "stream",
     "text": [
      " -- Bottom up enumeration, cost 20\n"
     ]
    },
    {
     "name": "stdout",
     "output_type": "stream",
     "text": [
      "(lambda (mv (mv (mv (mv $0)))))\n",
      "(lambda (mv (mv (mv (mv_r $0)))))\n",
      "(lambda (mv (mv (mv (minv $0)))))\n",
      "(lambda (mv (mv (mv (h $0)))))\n",
      "(lambda (mv (mv (mv (cnot $0)))))\n",
      "(lambda (mv (mv (mv_r (mv $0)))))\n",
      "(lambda (mv (mv (mv_r (mv_r $0)))))\n",
      "(lambda (mv (mv (mv_r (minv $0)))))\n",
      "(lambda (mv (mv (mv_r (h $0)))))\n",
      "(lambda (mv (mv (mv_r (cnot $0)))))\n",
      "(lambda (mv (mv (minv (mv $0)))))\n",
      "(lambda (mv (mv (minv (mv_r $0)))))\n",
      "(lambda (mv (mv (minv (minv $0)))))\n",
      "(lambda (mv (mv (minv (h $0)))))\n",
      "(lambda (mv (mv (minv (cnot $0)))))\n",
      "(lambda (mv (mv (h (mv $0)))))\n",
      "(lambda (mv (mv (h (mv_r $0)))))\n",
      "(lambda (mv (mv (h (minv $0)))))\n",
      "(lambda (mv (mv (h (h $0)))))\n",
      "(lambda (mv (mv (h (cnot $0)))))\n",
      "(lambda (mv (mv (cnot (mv $0)))))\n",
      "(lambda (mv (mv (cnot (mv_r $0)))))\n",
      "(lambda (mv (mv (cnot (minv $0)))))\n",
      "(lambda (mv (mv (cnot (h $0)))))\n",
      "(lambda (mv (mv (cnot (cnot $0)))))\n"
     ]
    }
   ],
   "source": [
    "for i in range(200):\n",
    "    print(next(iterator))"
   ]
  },
  {
   "cell_type": "code",
   "execution_count": 48,
   "metadata": {},
   "outputs": [
    {
     "data": {
      "text/plain": [
       "([1, 1, 3], (('hadamard', 0), ('hadamard', 0)))"
      ]
     },
     "execution_count": 48,
     "metadata": {},
     "output_type": "execute_result"
    }
   ],
   "source": [
    "dc.program.Program.parse(\"(lambda (mv (h (h  $0))))\").evaluate([])(no_op(3))"
   ]
  },
  {
   "cell_type": "code",
   "execution_count": 7,
   "metadata": {},
   "outputs": [],
   "source": [
    "iterator = restricted_pcfg.quantized_enumeration(observational_equivalence=True,\n",
    "                                                 inputs=[[no_op(3)],[no_op(4)]], \n",
    "                                                 sound=False)"
   ]
  },
  {
   "cell_type": "code",
   "execution_count": 8,
   "metadata": {},
   "outputs": [
    {
     "name": "stderr",
     "output_type": "stream",
     "text": [
      "[(lambda 0)]\n",
      " -- Bottom up enumeration, cost 0\n",
      " -- Bottom up enumeration, cost 1\n",
      " -- Bottom up enumeration, cost 2\n",
      " -- Bottom up enumeration, cost 3\n",
      " -- Bottom up enumeration, cost 4\n"
     ]
    },
    {
     "name": "stdout",
     "output_type": "stream",
     "text": [
      "() [[((0, 1, 4), ())], [((0, 1, 3), ())]]\n",
      "(lambda $0)\n"
     ]
    },
    {
     "name": "stderr",
     "output_type": "stream",
     "text": [
      " -- Bottom up enumeration, cost 5\n",
      " -- Bottom up enumeration, cost 6\n",
      " -- Bottom up enumeration, cost 7\n",
      " -- Bottom up enumeration, cost 8\n"
     ]
    },
    {
     "name": "stdout",
     "output_type": "stream",
     "text": [
      "() [[((0, 1, 4), ())], [((0, 1, 3), ())]]\n",
      "() [[((0, 1, 4), ())], [((0, 1, 3), ())]]\n",
      "() [[((0, 1, 3), ())], [((0, 1, 4), ())]]\n",
      "() [[((0, 1, 4), ())], [((0, 1, 3), ())]]\n",
      "() [[((0, 1, 3), ())], [((0, 1, 4), ())]]\n",
      "() [[((0, 1, 3), ())], [((0, 1, 4), ())]]\n",
      "(lambda (mv $0))\n",
      "(lambda (mv_r $0))\n",
      "(lambda (minv $0))\n",
      "(lambda (h $0))\n",
      "(lambda (cnot $0))\n"
     ]
    },
    {
     "name": "stderr",
     "output_type": "stream",
     "text": [
      " -- Bottom up enumeration, cost 9\n",
      " -- Bottom up enumeration, cost 10\n",
      " -- Bottom up enumeration, cost 11\n"
     ]
    },
    {
     "name": "stdout",
     "output_type": "stream",
     "text": [
      "() [[((0, 1, 3), ())], [((0, 1, 4), ())]]\n",
      "() [[((0, 1, 4), ())], [((0, 1, 3), ())]]\n"
     ]
    },
    {
     "name": "stderr",
     "output_type": "stream",
     "text": [
      " -- Bottom up enumeration, cost 12\n"
     ]
    },
    {
     "name": "stdout",
     "output_type": "stream",
     "text": [
      "() [[((0, 1, 3), ())], [((0, 1, 4), ())]]\n",
      "() [[((0, 1, 3), ())], [((0, 1, 4), ())]]\n",
      "() [[((0, 1, 3), ())], [((0, 1, 4), ())]]\n",
      "() [[((0, 1, 4), ())], [((0, 1, 3), ())]]\n",
      "() [[((0, 1, 3), ())], [((0, 1, 4), ())]]\n",
      "() [[((0, 1, 4), ())], [((0, 1, 3), ())]]\n",
      "() [[((0, 1, 4), ())], [((0, 1, 3), ())]]\n",
      "() [[((0, 1, 4), ())], [((0, 1, 3), ())]]\n",
      "() [[((0, 1, 3), ())], [((0, 1, 4), ())]]\n",
      "() [[((0, 1, 4), ())], [((0, 1, 3), ())]]\n",
      "() [[((0, 1, 3), ())], [((0, 1, 4), ())]]\n",
      "() [[((0, 1, 4), ())], [((0, 1, 3), ())]]\n",
      "() [[((0, 1, 3), ())], [((0, 1, 4), ())]]\n",
      "() [[((0, 1, 3), ())], [((0, 1, 4), ())]]\n",
      "() [[((0, 1, 4), ())], [((0, 1, 3), ())]]\n",
      "() [[((0, 1, 4), ())], [((0, 1, 3), ())]]\n",
      "() [[((0, 1, 4), ())], [((0, 1, 3), ())]]\n",
      "() [[((0, 1, 3), ())], [((0, 1, 4), ())]]\n",
      "() [[((0, 1, 4), ())], [((0, 1, 3), ())]]\n",
      "() [[((0, 1, 4), ())], [((0, 1, 3), ())]]\n",
      "() [[((0, 1, 3), ())], [((0, 1, 4), ())]]\n",
      "() [[((0, 1, 4), ())], [((0, 1, 3), ())]]\n",
      "() [[((0, 1, 3), ())], [((0, 1, 4), ())]]\n",
      "() [[((0, 1, 3), ())], [((0, 1, 4), ())]]\n",
      "() [[((0, 1, 4), ())], [((0, 1, 3), ())]]\n",
      "() [[((0, 1, 4), ())], [((0, 1, 3), ())]]\n",
      "(lambda (mv (mv $0)))\n",
      "(lambda (mv (minv $0)))\n",
      "(lambda (mv (h $0)))\n",
      "(lambda (mv (cnot $0)))\n",
      "(lambda (minv (minv $0)))\n",
      "(lambda (minv (h $0)))\n",
      "(lambda (minv (cnot $0)))\n",
      "(lambda (h (mv $0)))\n",
      "(lambda (h (cnot $0)))\n",
      "(lambda (cnot (mv $0)))\n",
      "(lambda (cnot (h $0)))\n"
     ]
    },
    {
     "name": "stderr",
     "output_type": "stream",
     "text": [
      " -- Bottom up enumeration, cost 13\n",
      " -- Bottom up enumeration, cost 14\n"
     ]
    },
    {
     "name": "stdout",
     "output_type": "stream",
     "text": [
      "() [[((0, 1, 4), ())], [((0, 1, 3), ())]]\n",
      "() [[((0, 1, 3), ())], [((0, 1, 4), ())]]\n",
      "() [[((0, 1, 4), ())], [((0, 1, 3), ())]]\n",
      "() [[((0, 1, 4), ())], [((0, 1, 3), ())]]\n"
     ]
    },
    {
     "name": "stderr",
     "output_type": "stream",
     "text": [
      " -- Bottom up enumeration, cost 15\n"
     ]
    },
    {
     "name": "stdout",
     "output_type": "stream",
     "text": [
      "() [[((0, 1, 4), ())], [((0, 1, 3), ())]]\n",
      "() [[((0, 1, 4), ())], [((0, 1, 3), ())]]\n",
      "() [[((0, 1, 4), ())], [((0, 1, 3), ())]]\n"
     ]
    },
    {
     "name": "stderr",
     "output_type": "stream",
     "text": [
      " -- Bottom up enumeration, cost 16\n"
     ]
    },
    {
     "name": "stdout",
     "output_type": "stream",
     "text": [
      "() [[((0, 1, 3), ())], [((0, 1, 4), ())]]\n",
      "() [[((0, 1, 3), ())], [((0, 1, 4), ())]]\n",
      "() [[((0, 1, 4), ())], [((0, 1, 3), ())]]\n",
      "() [[((0, 1, 4), ())], [((0, 1, 3), ())]]\n",
      "() [[((0, 1, 3), ())], [((0, 1, 4), ())]]\n",
      "() [[((0, 1, 4), ())], [((0, 1, 3), ())]]\n",
      "() [[((0, 1, 4), ())], [((0, 1, 3), ())]]\n",
      "() [[((0, 1, 4), ())], [((0, 1, 3), ())]]\n",
      "() [[((0, 1, 3), ())], [((0, 1, 4), ())]]\n",
      "() [[((0, 1, 3), ())], [((0, 1, 4), ())]]\n",
      "() [[((0, 1, 4), ())], [((0, 1, 3), ())]]\n",
      "() [[((0, 1, 3), ())], [((0, 1, 4), ())]]\n",
      "() [[((0, 1, 3), ())], [((0, 1, 4), ())]]\n",
      "() [[((0, 1, 4), ())], [((0, 1, 3), ())]]\n",
      "() [[((0, 1, 3), ())], [((0, 1, 4), ())]]\n",
      "() [[((0, 1, 3), ())], [((0, 1, 4), ())]]\n",
      "() [[((0, 1, 4), ())], [((0, 1, 3), ())]]\n",
      "() [[((0, 1, 3), ())], [((0, 1, 4), ())]]\n",
      "() [[((0, 1, 4), ())], [((0, 1, 3), ())]]\n",
      "() [[((0, 1, 3), ())], [((0, 1, 4), ())]]\n",
      "() [[((0, 1, 3), ())], [((0, 1, 4), ())]]\n",
      "() [[((0, 1, 3), ())], [((0, 1, 4), ())]]\n",
      "() [[((0, 1, 4), ())], [((0, 1, 3), ())]]\n",
      "() [[((0, 1, 4), ())], [((0, 1, 3), ())]]\n",
      "() [[((0, 1, 3), ())], [((0, 1, 4), ())]]\n",
      "() [[((0, 1, 4), ())], [((0, 1, 3), ())]]\n",
      "() [[((0, 1, 4), ())], [((0, 1, 3), ())]]\n",
      "() [[((0, 1, 3), ())], [((0, 1, 4), ())]]\n",
      "() [[((0, 1, 3), ())], [((0, 1, 4), ())]]\n",
      "() [[((0, 1, 3), ())], [((0, 1, 4), ())]]\n",
      "() [[((0, 1, 4), ())], [((0, 1, 3), ())]]\n",
      "() [[((0, 1, 3), ())], [((0, 1, 4), ())]]\n",
      "() [[((0, 1, 3), ())], [((0, 1, 4), ())]]\n",
      "() [[((0, 1, 3), ())], [((0, 1, 4), ())]]\n",
      "() [[((0, 1, 3), ())], [((0, 1, 4), ())]]\n",
      "() [[((0, 1, 4), ())], [((0, 1, 3), ())]]\n",
      "() [[((0, 1, 4), ())], [((0, 1, 3), ())]]\n",
      "() [[((0, 1, 4), ())], [((0, 1, 3), ())]]\n",
      "() [[((0, 1, 3), ())], [((0, 1, 4), ())]]\n",
      "() [[((0, 1, 4), ())], [((0, 1, 3), ())]]\n",
      "() [[((0, 1, 4), ())], [((0, 1, 3), ())]]\n",
      "() [[((0, 1, 3), ())], [((0, 1, 4), ())]]\n",
      "() [[((0, 1, 4), ())], [((0, 1, 3), ())]]\n",
      "() [[((0, 1, 3), ())], [((0, 1, 4), ())]]\n",
      "() [[((0, 1, 3), ())], [((0, 1, 4), ())]]\n",
      "() [[((0, 1, 4), ())], [((0, 1, 3), ())]]\n",
      "() [[((0, 1, 3), ())], [((0, 1, 4), ())]]\n",
      "() [[((0, 1, 3), ())], [((0, 1, 4), ())]]\n",
      "() [[((0, 1, 3), ())], [((0, 1, 4), ())]]\n",
      "() [[((0, 1, 3), ())], [((0, 1, 4), ())]]\n",
      "() [[((0, 1, 4), ())], [((0, 1, 3), ())]]\n",
      "() [[((0, 1, 4), ())], [((0, 1, 3), ())]]\n",
      "() [[((0, 1, 4), ())], [((0, 1, 3), ())]]\n",
      "() [[((0, 1, 4), ())], [((0, 1, 3), ())]]\n",
      "() [[((0, 1, 3), ())], [((0, 1, 4), ())]]\n",
      "() [[((0, 1, 4), ())], [((0, 1, 3), ())]]\n",
      "() [[((0, 1, 4), ())], [((0, 1, 3), ())]]\n",
      "() [[((0, 1, 3), ())], [((0, 1, 4), ())]]\n",
      "() [[((0, 1, 3), ())], [((0, 1, 4), ())]]\n",
      "() [[((0, 1, 3), ())], [((0, 1, 4), ())]]\n",
      "(lambda (mv (mv (mv $0))))\n",
      "(lambda (mv (mv (minv $0))))\n",
      "(lambda (mv (mv (h $0))))\n",
      "(lambda (mv (mv (cnot $0))))\n",
      "(lambda (mv (minv (minv $0))))\n",
      "(lambda (mv (minv (h $0))))\n",
      "(lambda (mv (minv (cnot $0))))\n",
      "(lambda (mv (h (mv $0))))\n",
      "(lambda (mv (h (cnot $0))))\n",
      "(lambda (mv (cnot (mv $0))))\n",
      "(lambda (mv (cnot (h $0))))\n",
      "(lambda (mv_r (mv (minv $0))))\n",
      "(lambda (mv_r (mv (h $0))))\n",
      "(lambda (mv_r (h (mv $0))))\n",
      "(lambda (mv_r (cnot (mv $0))))\n",
      "(lambda (minv (mv (mv $0))))\n",
      "(lambda (minv (mv (h $0))))\n",
      "(lambda (minv (mv (cnot $0))))\n",
      "(lambda (minv (h (mv $0))))\n",
      "(lambda (minv (h (cnot $0))))\n",
      "(lambda (minv (cnot (mv $0))))\n",
      "(lambda (minv (cnot (h $0))))\n",
      "(lambda (h (mv (mv $0))))\n",
      "(lambda (h (mv (minv $0))))\n",
      "(lambda (h (mv (h $0))))\n",
      "(lambda (h (mv (cnot $0))))\n",
      "(lambda (h (minv (cnot $0))))\n",
      "(lambda (h (cnot (mv $0))))\n",
      "(lambda (h (cnot (h $0))))\n",
      "(lambda (cnot (mv (mv $0))))\n",
      "(lambda (cnot (mv (minv $0))))\n",
      "(lambda (cnot (mv (h $0))))\n",
      "(lambda (cnot (mv (cnot $0))))\n",
      "(lambda (cnot (minv (minv $0))))\n",
      "(lambda (cnot (h (mv $0))))\n",
      "(lambda (cnot (h (cnot $0))))\n"
     ]
    },
    {
     "name": "stderr",
     "output_type": "stream",
     "text": [
      " -- Bottom up enumeration, cost 17\n"
     ]
    },
    {
     "name": "stdout",
     "output_type": "stream",
     "text": [
      "() [[((0, 1, 3), ())], [((0, 1, 4), ())]]\n",
      "() [[((0, 1, 4), ())], [((0, 1, 3), ())]]\n",
      "() [[((0, 1, 4), ())], [((0, 1, 3), ())]]\n",
      "() [[((0, 1, 3), ())], [((0, 1, 4), ())]]\n"
     ]
    },
    {
     "name": "stderr",
     "output_type": "stream",
     "text": [
      " -- Bottom up enumeration, cost 18\n"
     ]
    },
    {
     "name": "stdout",
     "output_type": "stream",
     "text": [
      "() [[((0, 1, 3), ())], [((0, 1, 4), ())]]\n",
      "() [[((0, 1, 4), ())], [((0, 1, 3), ())]]\n",
      "() [[((0, 1, 3), ())], [((0, 1, 4), ())]]\n",
      "() [[((0, 1, 3), ())], [((0, 1, 4), ())]]\n",
      "() [[((0, 1, 3), ())], [((0, 1, 4), ())]]\n",
      "() [[((0, 1, 3), ())], [((0, 1, 4), ())]]\n"
     ]
    },
    {
     "name": "stderr",
     "output_type": "stream",
     "text": [
      " -- Bottom up enumeration, cost 19\n"
     ]
    },
    {
     "name": "stdout",
     "output_type": "stream",
     "text": [
      "() [[((0, 1, 4), ())], [((0, 1, 3), ())]]\n",
      "() [[((0, 1, 3), ())], [((0, 1, 4), ())]]\n",
      "() [[((0, 1, 4), ())], [((0, 1, 3), ())]]\n",
      "() [[((0, 1, 4), ())], [((0, 1, 3), ())]]\n",
      "() [[((0, 1, 3), ())], [((0, 1, 4), ())]]\n",
      "() [[((0, 1, 4), ())], [((0, 1, 3), ())]]\n",
      "() [[((0, 1, 4), ())], [((0, 1, 3), ())]]\n",
      "() [[((0, 1, 3), ())], [((0, 1, 4), ())]]\n",
      "() [[((0, 1, 3), ())], [((0, 1, 4), ())]]\n",
      "() [[((0, 1, 4), ())], [((0, 1, 3), ())]]\n",
      "() [[((0, 1, 3), ())], [((0, 1, 4), ())]]\n",
      "() [[((0, 1, 3), ())], [((0, 1, 4), ())]]\n",
      "() [[((0, 1, 3), ())], [((0, 1, 4), ())]]\n",
      "() [[((0, 1, 4), ())], [((0, 1, 3), ())]]\n",
      "() [[((0, 1, 4), ())], [((0, 1, 3), ())]]\n"
     ]
    },
    {
     "name": "stderr",
     "output_type": "stream",
     "text": [
      " -- Bottom up enumeration, cost 20\n"
     ]
    },
    {
     "name": "stdout",
     "output_type": "stream",
     "text": [
      "() [[((0, 1, 4), ())], [((0, 1, 3), ())]]\n",
      "() [[((0, 1, 3), ())], [((0, 1, 4), ())]]\n",
      "() [[((0, 1, 3), ())], [((0, 1, 4), ())]]\n",
      "() [[((0, 1, 3), ())], [((0, 1, 4), ())]]\n",
      "() [[((0, 1, 3), ())], [((0, 1, 4), ())]]\n",
      "() [[((0, 1, 3), ())], [((0, 1, 4), ())]]\n",
      "() [[((0, 1, 4), ())], [((0, 1, 3), ())]]\n",
      "() [[((0, 1, 4), ())], [((0, 1, 3), ())]]\n",
      "() [[((0, 1, 4), ())], [((0, 1, 3), ())]]\n",
      "() [[((0, 1, 3), ())], [((0, 1, 4), ())]]\n",
      "() [[((0, 1, 3), ())], [((0, 1, 4), ())]]\n",
      "() [[((0, 1, 4), ())], [((0, 1, 3), ())]]\n",
      "() [[((0, 1, 3), ())], [((0, 1, 4), ())]]\n",
      "() [[((0, 1, 4), ())], [((0, 1, 3), ())]]\n",
      "() [[((0, 1, 4), ())], [((0, 1, 3), ())]]\n",
      "() [[((0, 1, 3), ())], [((0, 1, 4), ())]]\n",
      "() [[((0, 1, 4), ())], [((0, 1, 3), ())]]\n",
      "() [[((0, 1, 3), ())], [((0, 1, 4), ())]]\n",
      "() [[((0, 1, 3), ())], [((0, 1, 4), ())]]\n",
      "() [[((0, 1, 4), ())], [((0, 1, 3), ())]]\n",
      "() [[((0, 1, 3), ())], [((0, 1, 4), ())]]\n",
      "() [[((0, 1, 4), ())], [((0, 1, 3), ())]]\n",
      "() [[((0, 1, 3), ())], [((0, 1, 4), ())]]\n",
      "() [[((0, 1, 3), ())], [((0, 1, 4), ())]]\n",
      "() [[((0, 1, 4), ())], [((0, 1, 3), ())]]\n",
      "() [[((0, 1, 3), ())], [((0, 1, 4), ())]]\n",
      "() [[((0, 1, 3), ())], [((0, 1, 4), ())]]\n",
      "() [[((0, 1, 4), ())], [((0, 1, 3), ())]]\n",
      "() [[((0, 1, 4), ())], [((0, 1, 3), ())]]\n",
      "() [[((0, 1, 4), ())], [((0, 1, 3), ())]]\n",
      "() [[((0, 1, 4), ())], [((0, 1, 3), ())]]\n",
      "() [[((0, 1, 4), ())], [((0, 1, 3), ())]]\n",
      "() [[((0, 1, 3), ())], [((0, 1, 4), ())]]\n",
      "() [[((0, 1, 3), ())], [((0, 1, 4), ())]]\n",
      "() [[((0, 1, 4), ())], [((0, 1, 3), ())]]\n",
      "() [[((0, 1, 3), ())], [((0, 1, 4), ())]]\n",
      "() [[((0, 1, 4), ())], [((0, 1, 3), ())]]\n",
      "() [[((0, 1, 3), ())], [((0, 1, 4), ())]]\n",
      "() [[((0, 1, 4), ())], [((0, 1, 3), ())]]\n",
      "() [[((0, 1, 4), ())], [((0, 1, 3), ())]]\n",
      "() [[((0, 1, 3), ())], [((0, 1, 4), ())]]\n",
      "() [[((0, 1, 4), ())], [((0, 1, 3), ())]]\n",
      "() [[((0, 1, 3), ())], [((0, 1, 4), ())]]\n",
      "() [[((0, 1, 3), ())], [((0, 1, 4), ())]]\n",
      "() [[((0, 1, 3), ())], [((0, 1, 4), ())]]\n",
      "() [[((0, 1, 3), ())], [((0, 1, 4), ())]]\n",
      "() [[((0, 1, 3), ())], [((0, 1, 4), ())]]\n",
      "() [[((0, 1, 4), ())], [((0, 1, 3), ())]]\n",
      "() [[((0, 1, 4), ())], [((0, 1, 3), ())]]\n",
      "() [[((0, 1, 4), ())], [((0, 1, 3), ())]]\n",
      "() [[((0, 1, 4), ())], [((0, 1, 3), ())]]\n",
      "() [[((0, 1, 4), ())], [((0, 1, 3), ())]]\n",
      "() [[((0, 1, 4), ())], [((0, 1, 3), ())]]\n",
      "() [[((0, 1, 3), ())], [((0, 1, 4), ())]]\n",
      "() [[((0, 1, 3), ())], [((0, 1, 4), ())]]\n",
      "() [[((0, 1, 4), ())], [((0, 1, 3), ())]]\n",
      "() [[((0, 1, 4), ())], [((0, 1, 3), ())]]\n",
      "() [[((0, 1, 3), ())], [((0, 1, 4), ())]]\n",
      "() [[((0, 1, 3), ())], [((0, 1, 4), ())]]\n",
      "() [[((0, 1, 4), ())], [((0, 1, 3), ())]]\n",
      "() [[((0, 1, 4), ())], [((0, 1, 3), ())]]\n",
      "() [[((0, 1, 3), ())], [((0, 1, 4), ())]]\n",
      "() [[((0, 1, 4), ())], [((0, 1, 3), ())]]\n",
      "() [[((0, 1, 4), ())], [((0, 1, 3), ())]]\n",
      "() [[((0, 1, 4), ())], [((0, 1, 3), ())]]\n",
      "() [[((0, 1, 4), ())], [((0, 1, 3), ())]]\n",
      "() [[((0, 1, 4), ())], [((0, 1, 3), ())]]\n",
      "() [[((0, 1, 3), ())], [((0, 1, 4), ())]]\n",
      "() [[((0, 1, 4), ())], [((0, 1, 3), ())]]\n",
      "() [[((0, 1, 3), ())], [((0, 1, 4), ())]]\n",
      "() [[((0, 1, 4), ())], [((0, 1, 3), ())]]\n",
      "() [[((0, 1, 3), ())], [((0, 1, 4), ())]]\n",
      "() [[((0, 1, 3), ())], [((0, 1, 4), ())]]\n",
      "() [[((0, 1, 4), ())], [((0, 1, 3), ())]]\n",
      "() [[((0, 1, 3), ())], [((0, 1, 4), ())]]\n",
      "() [[((0, 1, 3), ())], [((0, 1, 4), ())]]\n",
      "() [[((0, 1, 3), ())], [((0, 1, 4), ())]]\n",
      "() [[((0, 1, 3), ())], [((0, 1, 4), ())]]\n",
      "() [[((0, 1, 4), ())], [((0, 1, 3), ())]]\n",
      "() [[((0, 1, 3), ())], [((0, 1, 4), ())]]\n",
      "() [[((0, 1, 3), ())], [((0, 1, 4), ())]]\n",
      "() [[((0, 1, 4), ())], [((0, 1, 3), ())]]\n",
      "() [[((0, 1, 3), ())], [((0, 1, 4), ())]]\n",
      "() [[((0, 1, 4), ())], [((0, 1, 3), ())]]\n",
      "() [[((0, 1, 3), ())], [((0, 1, 4), ())]]\n",
      "() [[((0, 1, 3), ())], [((0, 1, 4), ())]]\n",
      "() [[((0, 1, 3), ())], [((0, 1, 4), ())]]\n",
      "() [[((0, 1, 4), ())], [((0, 1, 3), ())]]\n",
      "() [[((0, 1, 4), ())], [((0, 1, 3), ())]]\n",
      "() [[((0, 1, 3), ())], [((0, 1, 4), ())]]\n",
      "() [[((0, 1, 4), ())], [((0, 1, 3), ())]]\n",
      "() [[((0, 1, 3), ())], [((0, 1, 4), ())]]\n",
      "() [[((0, 1, 4), ())], [((0, 1, 3), ())]]\n",
      "() [[((0, 1, 4), ())], [((0, 1, 3), ())]]\n",
      "() [[((0, 1, 4), ())], [((0, 1, 3), ())]]\n",
      "() [[((0, 1, 4), ())], [((0, 1, 3), ())]]\n",
      "() [[((0, 1, 4), ())], [((0, 1, 3), ())]]\n",
      "() [[((0, 1, 3), ())], [((0, 1, 4), ())]]\n",
      "() [[((0, 1, 3), ())], [((0, 1, 4), ())]]\n",
      "() [[((0, 1, 4), ())], [((0, 1, 3), ())]]\n",
      "() [[((0, 1, 3), ())], [((0, 1, 4), ())]]\n",
      "() [[((0, 1, 4), ())], [((0, 1, 3), ())]]\n",
      "() [[((0, 1, 4), ())], [((0, 1, 3), ())]]\n",
      "() [[((0, 1, 3), ())], [((0, 1, 4), ())]]\n",
      "() [[((0, 1, 4), ())], [((0, 1, 3), ())]]\n",
      "() [[((0, 1, 4), ())], [((0, 1, 3), ())]]\n",
      "() [[((0, 1, 3), ())], [((0, 1, 4), ())]]\n",
      "() [[((0, 1, 4), ())], [((0, 1, 3), ())]]\n",
      "() [[((0, 1, 3), ())], [((0, 1, 4), ())]]\n",
      "() [[((0, 1, 3), ())], [((0, 1, 4), ())]]\n",
      "() [[((0, 1, 4), ())], [((0, 1, 3), ())]]\n",
      "() [[((0, 1, 3), ())], [((0, 1, 4), ())]]\n",
      "() [[((0, 1, 4), ())], [((0, 1, 3), ())]]\n",
      "() [[((0, 1, 3), ())], [((0, 1, 4), ())]]\n",
      "() [[((0, 1, 3), ())], [((0, 1, 4), ())]]\n",
      "() [[((0, 1, 4), ())], [((0, 1, 3), ())]]\n",
      "() [[((0, 1, 4), ())], [((0, 1, 3), ())]]\n",
      "() [[((0, 1, 3), ())], [((0, 1, 4), ())]]\n",
      "() [[((0, 1, 4), ())], [((0, 1, 3), ())]]\n",
      "() [[((0, 1, 4), ())], [((0, 1, 3), ())]]\n",
      "() [[((0, 1, 3), ())], [((0, 1, 4), ())]]\n",
      "() [[((0, 1, 4), ())], [((0, 1, 3), ())]]\n",
      "() [[((0, 1, 4), ())], [((0, 1, 3), ())]]\n",
      "() [[((0, 1, 3), ())], [((0, 1, 4), ())]]\n",
      "() [[((0, 1, 4), ())], [((0, 1, 3), ())]]\n",
      "() [[((0, 1, 3), ())], [((0, 1, 4), ())]]\n",
      "() [[((0, 1, 3), ())], [((0, 1, 4), ())]]\n",
      "() [[((0, 1, 3), ())], [((0, 1, 4), ())]]\n",
      "() [[((0, 1, 3), ())], [((0, 1, 4), ())]]\n",
      "() [[((0, 1, 3), ())], [((0, 1, 4), ())]]\n",
      "() [[((0, 1, 4), ())], [((0, 1, 3), ())]]\n",
      "() [[((0, 1, 4), ())], [((0, 1, 3), ())]]\n",
      "() [[((0, 1, 3), ())], [((0, 1, 4), ())]]\n",
      "() [[((0, 1, 3), ())], [((0, 1, 4), ())]]\n",
      "() [[((0, 1, 3), ())], [((0, 1, 4), ())]]\n",
      "() [[((0, 1, 3), ())], [((0, 1, 4), ())]]\n",
      "() [[((0, 1, 4), ())], [((0, 1, 3), ())]]\n",
      "() [[((0, 1, 4), ())], [((0, 1, 3), ())]]\n",
      "() [[((0, 1, 3), ())], [((0, 1, 4), ())]]\n",
      "() [[((0, 1, 3), ())], [((0, 1, 4), ())]]\n",
      "() [[((0, 1, 3), ())], [((0, 1, 4), ())]]\n",
      "() [[((0, 1, 3), ())], [((0, 1, 4), ())]]\n",
      "() [[((0, 1, 3), ())], [((0, 1, 4), ())]]\n",
      "() [[((0, 1, 3), ())], [((0, 1, 4), ())]]\n",
      "() [[((0, 1, 4), ())], [((0, 1, 3), ())]]\n",
      "() [[((0, 1, 3), ())], [((0, 1, 4), ())]]\n",
      "() [[((0, 1, 4), ())], [((0, 1, 3), ())]]\n",
      "() [[((0, 1, 4), ())], [((0, 1, 3), ())]]\n",
      "() [[((0, 1, 3), ())], [((0, 1, 4), ())]]\n",
      "() [[((0, 1, 3), ())], [((0, 1, 4), ())]]\n",
      "() [[((0, 1, 3), ())], [((0, 1, 4), ())]]\n",
      "() [[((0, 1, 3), ())], [((0, 1, 4), ())]]\n",
      "() [[((0, 1, 4), ())], [((0, 1, 3), ())]]\n",
      "() [[((0, 1, 4), ())], [((0, 1, 3), ())]]\n",
      "() [[((0, 1, 3), ())], [((0, 1, 4), ())]]\n",
      "() [[((0, 1, 4), ())], [((0, 1, 3), ())]]\n",
      "() [[((0, 1, 4), ())], [((0, 1, 3), ())]]\n",
      "() [[((0, 1, 4), ())], [((0, 1, 3), ())]]\n",
      "() [[((0, 1, 3), ())], [((0, 1, 4), ())]]\n",
      "() [[((0, 1, 3), ())], [((0, 1, 4), ())]]\n",
      "() [[((0, 1, 3), ())], [((0, 1, 4), ())]]\n",
      "() [[((0, 1, 3), ())], [((0, 1, 4), ())]]\n",
      "() [[((0, 1, 4), ())], [((0, 1, 3), ())]]\n",
      "() [[((0, 1, 3), ())], [((0, 1, 4), ())]]\n",
      "() [[((0, 1, 3), ())], [((0, 1, 4), ())]]\n",
      "() [[((0, 1, 3), ())], [((0, 1, 4), ())]]\n",
      "() [[((0, 1, 4), ())], [((0, 1, 3), ())]]\n",
      "() [[((0, 1, 4), ())], [((0, 1, 3), ())]]\n",
      "() [[((0, 1, 4), ())], [((0, 1, 3), ())]]\n",
      "() [[((0, 1, 4), ())], [((0, 1, 3), ())]]\n",
      "() [[((0, 1, 4), ())], [((0, 1, 3), ())]]\n",
      "() [[((0, 1, 4), ())], [((0, 1, 3), ())]]\n",
      "() [[((0, 1, 3), ())], [((0, 1, 4), ())]]\n",
      "() [[((0, 1, 3), ())], [((0, 1, 4), ())]]\n",
      "() [[((0, 1, 3), ())], [((0, 1, 4), ())]]\n",
      "() [[((0, 1, 4), ())], [((0, 1, 3), ())]]\n",
      "() [[((0, 1, 3), ())], [((0, 1, 4), ())]]\n",
      "() [[((0, 1, 4), ())], [((0, 1, 3), ())]]\n",
      "() [[((0, 1, 3), ())], [((0, 1, 4), ())]]\n",
      "() [[((0, 1, 4), ())], [((0, 1, 3), ())]]\n",
      "() [[((0, 1, 3), ())], [((0, 1, 4), ())]]\n",
      "() [[((0, 1, 4), ())], [((0, 1, 3), ())]]\n",
      "() [[((0, 1, 3), ())], [((0, 1, 4), ())]]\n",
      "() [[((0, 1, 4), ())], [((0, 1, 3), ())]]\n",
      "() [[((0, 1, 3), ())], [((0, 1, 4), ())]]\n",
      "() [[((0, 1, 3), ())], [((0, 1, 4), ())]]\n",
      "() [[((0, 1, 3), ())], [((0, 1, 4), ())]]\n",
      "() [[((0, 1, 3), ())], [((0, 1, 4), ())]]\n",
      "() [[((0, 1, 3), ())], [((0, 1, 4), ())]]\n",
      "() [[((0, 1, 4), ())], [((0, 1, 3), ())]]\n",
      "() [[((0, 1, 4), ())], [((0, 1, 3), ())]]\n",
      "() [[((0, 1, 4), ())], [((0, 1, 3), ())]]\n",
      "() [[((0, 1, 3), ())], [((0, 1, 4), ())]]\n",
      "() [[((0, 1, 4), ())], [((0, 1, 3), ())]]\n",
      "() [[((0, 1, 4), ())], [((0, 1, 3), ())]]\n",
      "(lambda (mv (mv (mv (minv $0)))))\n",
      "(lambda (mv (mv (mv (h $0)))))\n",
      "(lambda (mv (mv (mv (cnot $0)))))\n",
      "(lambda (mv (mv (minv (minv $0)))))\n",
      "(lambda (mv (mv (minv (h $0)))))\n",
      "(lambda (mv (mv (minv (cnot $0)))))\n",
      "(lambda (mv (mv (h (mv $0)))))\n",
      "(lambda (mv (mv (h (cnot $0)))))\n",
      "(lambda (mv (mv (cnot (mv $0)))))\n",
      "(lambda (mv (mv (cnot (h $0)))))\n",
      "(lambda (mv (mv_r (mv (minv $0)))))\n",
      "(lambda (mv (mv_r (mv (h $0)))))\n",
      "(lambda (mv (minv (mv (h $0)))))\n",
      "(lambda (mv (minv (mv (cnot $0)))))\n",
      "(lambda (mv (minv (h (mv $0)))))\n",
      "(lambda (mv (minv (h (cnot $0)))))\n",
      "(lambda (mv (minv (cnot (mv $0)))))\n",
      "(lambda (mv (minv (cnot (h $0)))))\n",
      "(lambda (mv (h (mv (mv $0)))))\n",
      "(lambda (mv (h (mv (minv $0)))))\n",
      "(lambda (mv (h (mv (h $0)))))\n",
      "(lambda (mv (h (mv (cnot $0)))))\n",
      "(lambda (mv (h (cnot (mv $0)))))\n",
      "(lambda (mv (h (cnot (h $0)))))\n",
      "(lambda (mv (cnot (mv (mv $0)))))\n",
      "(lambda (mv (cnot (mv (minv $0)))))\n",
      "(lambda (mv (cnot (mv (h $0)))))\n",
      "(lambda (mv (cnot (mv (cnot $0)))))\n",
      "(lambda (mv (cnot (h (mv $0)))))\n",
      "(lambda (mv (cnot (h (cnot $0)))))\n",
      "(lambda (mv_r (mv (mv (mv $0)))))\n",
      "(lambda (mv_r (mv (mv (cnot $0)))))\n",
      "(lambda (mv_r (mv (minv (cnot $0)))))\n",
      "(lambda (mv_r (mv (h (mv $0)))))\n",
      "(lambda (mv_r (mv (h (cnot $0)))))\n",
      "(lambda (mv_r (mv (cnot (h $0)))))\n",
      "(lambda (mv_r (minv (mv (h $0)))))\n",
      "(lambda (mv_r (minv (h (mv $0)))))\n",
      "(lambda (mv_r (minv (cnot (mv $0)))))\n",
      "(lambda (mv_r (h (mv (mv $0)))))\n",
      "(lambda (mv_r (h (mv (h $0)))))\n",
      "(lambda (mv_r (h (mv (cnot $0)))))\n",
      "(lambda (mv_r (h (cnot (mv $0)))))\n",
      "(lambda (mv_r (cnot (mv (mv $0)))))\n",
      "(lambda (mv_r (cnot (mv (minv $0)))))\n",
      "(lambda (mv_r (cnot (mv (h $0)))))\n",
      "(lambda (mv_r (cnot (mv (cnot $0)))))\n",
      "(lambda (mv_r (cnot (h (mv $0)))))\n",
      "(lambda (minv (mv (cnot (mv $0)))))\n",
      "(lambda (minv (mv (cnot (h $0)))))\n",
      "(lambda (minv (mv_r (cnot (mv $0)))))\n",
      "(lambda (minv (h (mv (mv $0)))))\n",
      "(lambda (minv (h (mv (h $0)))))\n",
      "(lambda (minv (h (mv (cnot $0)))))\n",
      "(lambda (minv (h (cnot (mv $0)))))\n",
      "(lambda (minv (h (cnot (h $0)))))\n",
      "(lambda (minv (cnot (mv (mv $0)))))\n",
      "(lambda (minv (cnot (mv (minv $0)))))\n",
      "(lambda (minv (cnot (mv (h $0)))))\n",
      "(lambda (minv (cnot (mv (cnot $0)))))\n",
      "(lambda (minv (cnot (h (mv $0)))))\n",
      "(lambda (minv (cnot (h (cnot $0)))))\n",
      "(lambda (h (mv (mv (mv $0)))))\n",
      "(lambda (h (mv (mv (minv $0)))))\n",
      "(lambda (h (mv (mv (h $0)))))\n",
      "(lambda (h (mv (mv (cnot $0)))))\n",
      "(lambda (h (mv (minv (cnot $0)))))\n",
      "(lambda (h (mv (h (mv $0)))))\n",
      "(lambda (h (mv (h (cnot $0)))))\n",
      "(lambda (h (mv (cnot (mv $0)))))\n",
      "(lambda (h (mv (cnot (h $0)))))\n",
      "(lambda (h (mv_r (h (mv $0)))))\n",
      "(lambda (h (mv_r (cnot (mv $0)))))\n",
      "(lambda (h (h (cnot (mv $0)))))\n",
      "(lambda (h (cnot (mv (mv $0)))))\n",
      "(lambda (h (cnot (mv (minv $0)))))\n",
      "(lambda (h (cnot (mv (h $0)))))\n",
      "(lambda (h (cnot (mv (cnot $0)))))\n",
      "(lambda (h (cnot (h (mv $0)))))\n",
      "(lambda (h (cnot (h (cnot $0)))))\n",
      "(lambda (cnot (mv (mv (minv $0)))))\n",
      "(lambda (cnot (mv (mv (h $0)))))\n",
      "(lambda (cnot (mv (mv (cnot $0)))))\n",
      "(lambda (cnot (mv (minv (h $0)))))\n",
      "(lambda (cnot (mv (minv (cnot $0)))))\n",
      "(lambda (cnot (mv (h (mv $0)))))\n",
      "(lambda (cnot (mv (h (cnot $0)))))\n",
      "(lambda (cnot (mv (cnot (mv $0)))))\n",
      "(lambda (cnot (mv (cnot (h $0)))))\n",
      "(lambda (cnot (mv_r (h (mv $0)))))\n",
      "(lambda (cnot (mv_r (cnot (mv $0)))))\n",
      "(lambda (cnot (minv (mv (h $0)))))\n",
      "(lambda (cnot (minv (h (mv $0)))))\n",
      "(lambda (cnot (minv (cnot (mv $0)))))\n",
      "(lambda (cnot (h (mv (mv $0)))))\n",
      "(lambda (cnot (h (mv (minv $0)))))\n",
      "(lambda (cnot (h (mv (h $0)))))\n",
      "(lambda (cnot (h (mv (cnot $0)))))\n",
      "(lambda (cnot (h (cnot (mv $0)))))\n",
      "(lambda (cnot (h (cnot (h $0)))))\n",
      "(lambda (cnot (cnot (mv (mv $0)))))\n"
     ]
    },
    {
     "name": "stderr",
     "output_type": "stream",
     "text": [
      " -- Bottom up enumeration, cost 21\n"
     ]
    },
    {
     "name": "stdout",
     "output_type": "stream",
     "text": [
      "() [[((0, 1, 3), ())], [((0, 1, 4), ())]]\n",
      "() [[((0, 1, 4), ())], [((0, 1, 3), ())]]\n",
      "() [[((0, 1, 4), ())], [((0, 1, 3), ())]]\n",
      "() [[((0, 1, 3), ())], [((0, 1, 4), ())]]\n",
      "() [[((0, 1, 4), ())], [((0, 1, 3), ())]]\n",
      "() [[((0, 1, 3), ())], [((0, 1, 4), ())]]\n"
     ]
    },
    {
     "name": "stderr",
     "output_type": "stream",
     "text": [
      " -- Bottom up enumeration, cost 22\n"
     ]
    },
    {
     "name": "stdout",
     "output_type": "stream",
     "text": [
      "() [[((0, 1, 4), ())], [((0, 1, 3), ())]]\n",
      "() [[((0, 1, 4), ())], [((0, 1, 3), ())]]\n",
      "() [[((0, 1, 3), ())], [((0, 1, 4), ())]]\n",
      "() [[((0, 1, 4), ())], [((0, 1, 3), ())]]\n",
      "() [[((0, 1, 4), ())], [((0, 1, 3), ())]]\n",
      "() [[((0, 1, 4), ())], [((0, 1, 3), ())]]\n",
      "() [[((0, 1, 4), ())], [((0, 1, 3), ())]]\n",
      "() [[((0, 1, 3), ())], [((0, 1, 4), ())]]\n",
      "() [[((0, 1, 4), ())], [((0, 1, 3), ())]]\n",
      "() [[((0, 1, 4), ())], [((0, 1, 3), ())]]\n",
      "() [[((0, 1, 4), ())], [((0, 1, 3), ())]]\n",
      "() [[((0, 1, 3), ())], [((0, 1, 4), ())]]\n",
      "() [[((0, 1, 3), ())], [((0, 1, 4), ())]]\n",
      "() [[((0, 1, 3), ())], [((0, 1, 4), ())]]\n",
      "() [[((0, 1, 4), ())], [((0, 1, 3), ())]]\n",
      "() [[((0, 1, 3), ())], [((0, 1, 4), ())]]\n",
      "() [[((0, 1, 4), ())], [((0, 1, 3), ())]]\n",
      "() [[((0, 1, 4), ())], [((0, 1, 3), ())]]\n",
      "() [[((0, 1, 4), ())], [((0, 1, 3), ())]]\n",
      "() [[((0, 1, 3), ())], [((0, 1, 4), ())]]\n",
      "() [[((0, 1, 4), ())], [((0, 1, 3), ())]]\n",
      "() [[((0, 1, 3), ())], [((0, 1, 4), ())]]\n",
      "() [[((0, 1, 3), ())], [((0, 1, 4), ())]]\n",
      "() [[((0, 1, 4), ())], [((0, 1, 3), ())]]\n"
     ]
    },
    {
     "name": "stderr",
     "output_type": "stream",
     "text": [
      " -- Bottom up enumeration, cost 23\n"
     ]
    },
    {
     "name": "stdout",
     "output_type": "stream",
     "text": [
      "() [[((0, 1, 3), ())], [((0, 1, 4), ())]]\n",
      "() [[((0, 1, 3), ())], [((0, 1, 4), ())]]\n",
      "() [[((0, 1, 3), ())], [((0, 1, 4), ())]]\n",
      "() [[((0, 1, 3), ())], [((0, 1, 4), ())]]\n",
      "() [[((0, 1, 3), ())], [((0, 1, 4), ())]]\n",
      "() [[((0, 1, 4), ())], [((0, 1, 3), ())]]\n",
      "() [[((0, 1, 4), ())], [((0, 1, 3), ())]]\n",
      "() [[((0, 1, 3), ())], [((0, 1, 4), ())]]\n",
      "() [[((0, 1, 3), ())], [((0, 1, 4), ())]]\n",
      "() [[((0, 1, 3), ())], [((0, 1, 4), ())]]\n",
      "() [[((0, 1, 4), ())], [((0, 1, 3), ())]]\n",
      "() [[((0, 1, 4), ())], [((0, 1, 3), ())]]\n",
      "() [[((0, 1, 3), ())], [((0, 1, 4), ())]]\n",
      "() [[((0, 1, 4), ())], [((0, 1, 3), ())]]\n",
      "() [[((0, 1, 4), ())], [((0, 1, 3), ())]]\n",
      "() [[((0, 1, 4), ())], [((0, 1, 3), ())]]\n",
      "() [[((0, 1, 3), ())], [((0, 1, 4), ())]]\n",
      "() [[((0, 1, 4), ())], [((0, 1, 3), ())]]\n",
      "() [[((0, 1, 3), ())], [((0, 1, 4), ())]]\n",
      "() [[((0, 1, 4), ())], [((0, 1, 3), ())]]\n",
      "() [[((0, 1, 3), ())], [((0, 1, 4), ())]]\n",
      "() [[((0, 1, 3), ())], [((0, 1, 4), ())]]\n",
      "() [[((0, 1, 3), ())], [((0, 1, 4), ())]]\n",
      "() [[((0, 1, 4), ())], [((0, 1, 3), ())]]\n",
      "() [[((0, 1, 3), ())], [((0, 1, 4), ())]]\n",
      "() [[((0, 1, 3), ())], [((0, 1, 4), ())]]\n",
      "() [[((0, 1, 3), ())], [((0, 1, 4), ())]]\n",
      "() [[((0, 1, 3), ())], [((0, 1, 4), ())]]\n",
      "() [[((0, 1, 3), ())], [((0, 1, 4), ())]]\n",
      "() [[((0, 1, 3), ())], [((0, 1, 4), ())]]\n",
      "() [[((0, 1, 4), ())], [((0, 1, 3), ())]]\n",
      "() [[((0, 1, 4), ())], [((0, 1, 3), ())]]\n",
      "() [[((0, 1, 3), ())], [((0, 1, 4), ())]]\n",
      "() [[((0, 1, 3), ())], [((0, 1, 4), ())]]\n",
      "() [[((0, 1, 3), ())], [((0, 1, 4), ())]]\n",
      "() [[((0, 1, 4), ())], [((0, 1, 3), ())]]\n",
      "() [[((0, 1, 4), ())], [((0, 1, 3), ())]]\n",
      "() [[((0, 1, 4), ())], [((0, 1, 3), ())]]\n",
      "() [[((0, 1, 3), ())], [((0, 1, 4), ())]]\n",
      "() [[((0, 1, 3), ())], [((0, 1, 4), ())]]\n",
      "() [[((0, 1, 3), ())], [((0, 1, 4), ())]]\n",
      "() [[((0, 1, 3), ())], [((0, 1, 4), ())]]\n",
      "() [[((0, 1, 4), ())], [((0, 1, 3), ())]]\n",
      "() [[((0, 1, 4), ())], [((0, 1, 3), ())]]\n",
      "() [[((0, 1, 4), ())], [((0, 1, 3), ())]]\n",
      "() [[((0, 1, 4), ())], [((0, 1, 3), ())]]\n",
      "() [[((0, 1, 4), ())], [((0, 1, 3), ())]]\n",
      "() [[((0, 1, 4), ())], [((0, 1, 3), ())]]\n",
      "() [[((0, 1, 3), ())], [((0, 1, 4), ())]]\n",
      "() [[((0, 1, 3), ())], [((0, 1, 4), ())]]\n",
      "() [[((0, 1, 3), ())], [((0, 1, 4), ())]]\n",
      "() [[((0, 1, 3), ())], [((0, 1, 4), ())]]\n",
      "() [[((0, 1, 4), ())], [((0, 1, 3), ())]]\n",
      "() [[((0, 1, 3), ())], [((0, 1, 4), ())]]\n",
      "() [[((0, 1, 4), ())], [((0, 1, 3), ())]]\n",
      "() [[((0, 1, 4), ())], [((0, 1, 3), ())]]\n",
      "() [[((0, 1, 4), ())], [((0, 1, 3), ())]]\n",
      "() [[((0, 1, 4), ())], [((0, 1, 3), ())]]\n",
      "() [[((0, 1, 4), ())], [((0, 1, 3), ())]]\n",
      "() [[((0, 1, 3), ())], [((0, 1, 4), ())]]\n",
      "() [[((0, 1, 3), ())], [((0, 1, 4), ())]]\n",
      "() [[((0, 1, 3), ())], [((0, 1, 4), ())]]\n",
      "() [[((0, 1, 3), ())], [((0, 1, 4), ())]]\n",
      "(lambda (rep (size $0) (lambda (minv $0)) $0))\n",
      "(lambda (rep (size $0) (lambda (h $0)) $0))\n",
      "(lambda (rep (size $0) (lambda (cnot $0)) $0))\n"
     ]
    },
    {
     "name": "stderr",
     "output_type": "stream",
     "text": [
      " -- Bottom up enumeration, cost 24\n"
     ]
    },
    {
     "name": "stdout",
     "output_type": "stream",
     "text": [
      "() [[((0, 1, 4), ())], [((0, 1, 3), ())]]\n",
      "() [[((0, 1, 4), ())], [((0, 1, 3), ())]]\n",
      "() [[((0, 1, 3), ())], [((0, 1, 4), ())]]\n",
      "() [[((0, 1, 4), ())], [((0, 1, 3), ())]]\n",
      "() [[((0, 1, 3), ())], [((0, 1, 4), ())]]\n",
      "() [[((0, 1, 3), ())], [((0, 1, 4), ())]]\n",
      "() [[((0, 1, 4), ())], [((0, 1, 3), ())]]\n",
      "() [[((0, 1, 3), ())], [((0, 1, 4), ())]]\n",
      "() [[((0, 1, 4), ())], [((0, 1, 3), ())]]\n",
      "() [[((0, 1, 3), ())], [((0, 1, 4), ())]]\n",
      "() [[((0, 1, 4), ())], [((0, 1, 3), ())]]\n",
      "() [[((0, 1, 4), ())], [((0, 1, 3), ())]]\n",
      "() [[((0, 1, 3), ())], [((0, 1, 4), ())]]\n",
      "() [[((0, 1, 3), ())], [((0, 1, 4), ())]]\n",
      "() [[((0, 1, 3), ())], [((0, 1, 4), ())]]\n",
      "() [[((0, 1, 4), ())], [((0, 1, 3), ())]]\n",
      "() [[((0, 1, 4), ())], [((0, 1, 3), ())]]\n",
      "() [[((0, 1, 4), ())], [((0, 1, 3), ())]]\n",
      "() [[((0, 1, 4), ())], [((0, 1, 3), ())]]\n",
      "() [[((0, 1, 3), ())], [((0, 1, 4), ())]]\n",
      "() [[((0, 1, 4), ())], [((0, 1, 3), ())]]\n",
      "() [[((0, 1, 3), ())], [((0, 1, 4), ())]]\n",
      "() [[((0, 1, 3), ())], [((0, 1, 4), ())]]\n",
      "() [[((0, 1, 3), ())], [((0, 1, 4), ())]]\n",
      "() [[((0, 1, 3), ())], [((0, 1, 4), ())]]\n",
      "() [[((0, 1, 3), ())], [((0, 1, 4), ())]]\n",
      "() [[((0, 1, 3), ())], [((0, 1, 4), ())]]\n",
      "() [[((0, 1, 4), ())], [((0, 1, 3), ())]]\n",
      "() [[((0, 1, 3), ())], [((0, 1, 4), ())]]\n",
      "() [[((0, 1, 3), ())], [((0, 1, 4), ())]]\n",
      "() [[((0, 1, 4), ())], [((0, 1, 3), ())]]\n",
      "() [[((0, 1, 3), ())], [((0, 1, 4), ())]]\n",
      "() [[((0, 1, 3), ())], [((0, 1, 4), ())]]\n",
      "() [[((0, 1, 4), ())], [((0, 1, 3), ())]]\n",
      "() [[((0, 1, 3), ())], [((0, 1, 4), ())]]\n",
      "() [[((0, 1, 3), ())], [((0, 1, 4), ())]]\n",
      "() [[((0, 1, 4), ())], [((0, 1, 3), ())]]\n",
      "() [[((0, 1, 4), ())], [((0, 1, 3), ())]]\n",
      "() [[((0, 1, 4), ())], [((0, 1, 3), ())]]\n",
      "() [[((0, 1, 3), ())], [((0, 1, 4), ())]]\n",
      "() [[((0, 1, 4), ())], [((0, 1, 3), ())]]\n",
      "() [[((0, 1, 3), ())], [((0, 1, 4), ())]]\n",
      "() [[((0, 1, 3), ())], [((0, 1, 4), ())]]\n",
      "() [[((0, 1, 3), ())], [((0, 1, 4), ())]]\n",
      "() [[((0, 1, 4), ())], [((0, 1, 3), ())]]\n",
      "() [[((0, 1, 4), ())], [((0, 1, 3), ())]]\n",
      "() [[((0, 1, 4), ())], [((0, 1, 3), ())]]\n",
      "() [[((0, 1, 3), ())], [((0, 1, 4), ())]]\n",
      "() [[((0, 1, 3), ())], [((0, 1, 4), ())]]\n",
      "() [[((0, 1, 4), ())], [((0, 1, 3), ())]]\n",
      "() [[((0, 1, 3), ())], [((0, 1, 4), ())]]\n",
      "() [[((0, 1, 4), ())], [((0, 1, 3), ())]]\n",
      "() [[((0, 1, 4), ())], [((0, 1, 3), ())]]\n",
      "() [[((0, 1, 3), ())], [((0, 1, 4), ())]]\n",
      "() [[((0, 1, 4), ())], [((0, 1, 3), ())]]\n",
      "() [[((0, 1, 4), ())], [((0, 1, 3), ())]]\n",
      "() [[((0, 1, 4), ())], [((0, 1, 3), ())]]\n",
      "() [[((0, 1, 4), ())], [((0, 1, 3), ())]]\n",
      "() [[((0, 1, 4), ())], [((0, 1, 3), ())]]\n",
      "() [[((0, 1, 3), ())], [((0, 1, 4), ())]]\n",
      "() [[((0, 1, 3), ())], [((0, 1, 4), ())]]\n",
      "() [[((0, 1, 4), ())], [((0, 1, 3), ())]]\n",
      "() [[((0, 1, 3), ())], [((0, 1, 4), ())]]\n",
      "() [[((0, 1, 4), ())], [((0, 1, 3), ())]]\n",
      "() [[((0, 1, 4), ())], [((0, 1, 3), ())]]\n",
      "() [[((0, 1, 3), ())], [((0, 1, 4), ())]]\n",
      "() [[((0, 1, 4), ())], [((0, 1, 3), ())]]\n",
      "() [[((0, 1, 4), ())], [((0, 1, 3), ())]]\n",
      "() [[((0, 1, 4), ())], [((0, 1, 3), ())]]\n",
      "() [[((0, 1, 3), ())], [((0, 1, 4), ())]]\n",
      "() [[((0, 1, 4), ())], [((0, 1, 3), ())]]\n",
      "() [[((0, 1, 4), ())], [((0, 1, 3), ())]]\n",
      "() [[((0, 1, 4), ())], [((0, 1, 3), ())]]\n",
      "() [[((0, 1, 3), ())], [((0, 1, 4), ())]]\n",
      "() [[((0, 1, 3), ())], [((0, 1, 4), ())]]\n",
      "() [[((0, 1, 3), ())], [((0, 1, 4), ())]]\n",
      "() [[((0, 1, 3), ())], [((0, 1, 4), ())]]\n",
      "() [[((0, 1, 4), ())], [((0, 1, 3), ())]]\n",
      "() [[((0, 1, 3), ())], [((0, 1, 4), ())]]\n",
      "() [[((0, 1, 3), ())], [((0, 1, 4), ())]]\n",
      "() [[((0, 1, 3), ())], [((0, 1, 4), ())]]\n",
      "() [[((0, 1, 4), ())], [((0, 1, 3), ())]]\n",
      "() [[((0, 1, 4), ())], [((0, 1, 3), ())]]\n",
      "() [[((0, 1, 3), ())], [((0, 1, 4), ())]]\n",
      "() [[((0, 1, 3), ())], [((0, 1, 4), ())]]\n",
      "() [[((0, 1, 4), ())], [((0, 1, 3), ())]]\n",
      "() [[((0, 1, 3), ())], [((0, 1, 4), ())]]\n",
      "() [[((0, 1, 4), ())], [((0, 1, 3), ())]]\n",
      "() [[((0, 1, 4), ())], [((0, 1, 3), ())]]\n",
      "() [[((0, 1, 4), ())], [((0, 1, 3), ())]]\n",
      "() [[((0, 1, 4), ())], [((0, 1, 3), ())]]\n",
      "() [[((0, 1, 4), ())], [((0, 1, 3), ())]]\n",
      "() [[((0, 1, 4), ())], [((0, 1, 3), ())]]\n",
      "() [[((0, 1, 3), ())], [((0, 1, 4), ())]]\n",
      "() [[((0, 1, 3), ())], [((0, 1, 4), ())]]\n",
      "() [[((0, 1, 4), ())], [((0, 1, 3), ())]]\n",
      "() [[((0, 1, 3), ())], [((0, 1, 4), ())]]\n",
      "() [[((0, 1, 3), ())], [((0, 1, 4), ())]]\n",
      "() [[((0, 1, 4), ())], [((0, 1, 3), ())]]\n",
      "() [[((0, 1, 3), ())], [((0, 1, 4), ())]]\n",
      "() [[((0, 1, 4), ())], [((0, 1, 3), ())]]\n",
      "() [[((0, 1, 4), ())], [((0, 1, 3), ())]]\n",
      "() [[((0, 1, 4), ())], [((0, 1, 3), ())]]\n",
      "() [[((0, 1, 3), ())], [((0, 1, 4), ())]]\n",
      "() [[((0, 1, 3), ())], [((0, 1, 4), ())]]\n",
      "() [[((0, 1, 4), ())], [((0, 1, 3), ())]]\n",
      "() [[((0, 1, 3), ())], [((0, 1, 4), ())]]\n",
      "() [[((0, 1, 4), ())], [((0, 1, 3), ())]]\n",
      "() [[((0, 1, 4), ())], [((0, 1, 3), ())]]\n",
      "() [[((0, 1, 3), ())], [((0, 1, 4), ())]]\n",
      "() [[((0, 1, 4), ())], [((0, 1, 3), ())]]\n",
      "() [[((0, 1, 3), ())], [((0, 1, 4), ())]]\n",
      "() [[((0, 1, 3), ())], [((0, 1, 4), ())]]\n",
      "() [[((0, 1, 4), ())], [((0, 1, 3), ())]]\n",
      "() [[((0, 1, 4), ())], [((0, 1, 3), ())]]\n",
      "() [[((0, 1, 3), ())], [((0, 1, 4), ())]]\n",
      "() [[((0, 1, 4), ())], [((0, 1, 3), ())]]\n",
      "() [[((0, 1, 4), ())], [((0, 1, 3), ())]]\n",
      "() [[((0, 1, 4), ())], [((0, 1, 3), ())]]\n",
      "() [[((0, 1, 3), ())], [((0, 1, 4), ())]]\n",
      "() [[((0, 1, 4), ())], [((0, 1, 3), ())]]\n",
      "() [[((0, 1, 3), ())], [((0, 1, 4), ())]]\n",
      "() [[((0, 1, 4), ())], [((0, 1, 3), ())]]\n",
      "() [[((0, 1, 3), ())], [((0, 1, 4), ())]]\n",
      "() [[((0, 1, 3), ())], [((0, 1, 4), ())]]\n",
      "() [[((0, 1, 4), ())], [((0, 1, 3), ())]]\n",
      "() [[((0, 1, 3), ())], [((0, 1, 4), ())]]\n",
      "() [[((0, 1, 4), ())], [((0, 1, 3), ())]]\n",
      "() [[((0, 1, 4), ())], [((0, 1, 3), ())]]\n",
      "() [[((0, 1, 3), ())], [((0, 1, 4), ())]]\n",
      "() [[((0, 1, 3), ())], [((0, 1, 4), ())]]\n",
      "() [[((0, 1, 3), ())], [((0, 1, 4), ())]]\n",
      "() [[((0, 1, 3), ())], [((0, 1, 4), ())]]\n",
      "() [[((0, 1, 3), ())], [((0, 1, 4), ())]]\n",
      "() [[((0, 1, 3), ())], [((0, 1, 4), ())]]\n",
      "() [[((0, 1, 4), ())], [((0, 1, 3), ())]]\n",
      "() [[((0, 1, 3), ())], [((0, 1, 4), ())]]\n",
      "() [[((0, 1, 3), ())], [((0, 1, 4), ())]]\n",
      "() [[((0, 1, 3), ())], [((0, 1, 4), ())]]\n",
      "() [[((0, 1, 3), ())], [((0, 1, 4), ())]]\n",
      "() [[((0, 1, 4), ())], [((0, 1, 3), ())]]\n",
      "() [[((0, 1, 4), ())], [((0, 1, 3), ())]]\n",
      "() [[((0, 1, 4), ())], [((0, 1, 3), ())]]\n",
      "() [[((0, 1, 3), ())], [((0, 1, 4), ())]]\n",
      "() [[((0, 1, 4), ())], [((0, 1, 3), ())]]\n",
      "() [[((0, 1, 4), ())], [((0, 1, 3), ())]]\n",
      "() [[((0, 1, 3), ())], [((0, 1, 4), ())]]\n",
      "() [[((0, 1, 3), ())], [((0, 1, 4), ())]]\n",
      "() [[((0, 1, 3), ())], [((0, 1, 4), ())]]\n",
      "() [[((0, 1, 4), ())], [((0, 1, 3), ())]]\n",
      "() [[((0, 1, 3), ())], [((0, 1, 4), ())]]\n",
      "() [[((0, 1, 3), ())], [((0, 1, 4), ())]]\n",
      "() [[((0, 1, 3), ())], [((0, 1, 4), ())]]\n",
      "() [[((0, 1, 4), ())], [((0, 1, 3), ())]]\n",
      "() [[((0, 1, 3), ())], [((0, 1, 4), ())]]\n",
      "() [[((0, 1, 3), ())], [((0, 1, 4), ())]]\n",
      "() [[((0, 1, 4), ())], [((0, 1, 3), ())]]\n",
      "() [[((0, 1, 3), ())], [((0, 1, 4), ())]]\n",
      "() [[((0, 1, 3), ())], [((0, 1, 4), ())]]\n",
      "() [[((0, 1, 4), ())], [((0, 1, 3), ())]]\n",
      "() [[((0, 1, 4), ())], [((0, 1, 3), ())]]\n",
      "() [[((0, 1, 4), ())], [((0, 1, 3), ())]]\n",
      "() [[((0, 1, 3), ())], [((0, 1, 4), ())]]\n",
      "() [[((0, 1, 4), ())], [((0, 1, 3), ())]]\n",
      "() [[((0, 1, 4), ())], [((0, 1, 3), ())]]\n",
      "() [[((0, 1, 4), ())], [((0, 1, 3), ())]]\n",
      "() [[((0, 1, 3), ())], [((0, 1, 4), ())]]\n",
      "() [[((0, 1, 4), ())], [((0, 1, 3), ())]]\n",
      "() [[((0, 1, 3), ())], [((0, 1, 4), ())]]\n",
      "() [[((0, 1, 3), ())], [((0, 1, 4), ())]]\n",
      "() [[((0, 1, 4), ())], [((0, 1, 3), ())]]\n",
      "() [[((0, 1, 4), ())], [((0, 1, 3), ())]]\n",
      "() [[((0, 1, 4), ())], [((0, 1, 3), ())]]\n",
      "() [[((0, 1, 3), ())], [((0, 1, 4), ())]]\n",
      "() [[((0, 1, 4), ())], [((0, 1, 3), ())]]\n",
      "() [[((0, 1, 4), ())], [((0, 1, 3), ())]]\n",
      "() [[((0, 1, 3), ())], [((0, 1, 4), ())]]\n",
      "() [[((0, 1, 4), ())], [((0, 1, 3), ())]]\n",
      "() [[((0, 1, 3), ())], [((0, 1, 4), ())]]\n",
      "() [[((0, 1, 4), ())], [((0, 1, 3), ())]]\n",
      "() [[((0, 1, 3), ())], [((0, 1, 4), ())]]\n",
      "() [[((0, 1, 4), ())], [((0, 1, 3), ())]]\n",
      "() [[((0, 1, 3), ())], [((0, 1, 4), ())]]\n",
      "() [[((0, 1, 3), ())], [((0, 1, 4), ())]]\n",
      "() [[((0, 1, 4), ())], [((0, 1, 3), ())]]\n",
      "() [[((0, 1, 4), ())], [((0, 1, 3), ())]]\n",
      "() [[((0, 1, 3), ())], [((0, 1, 4), ())]]\n",
      "() [[((0, 1, 4), ())], [((0, 1, 3), ())]]\n",
      "() [[((0, 1, 3), ())], [((0, 1, 4), ())]]\n",
      "() [[((0, 1, 4), ())], [((0, 1, 3), ())]]\n",
      "() [[((0, 1, 4), ())], [((0, 1, 3), ())]]\n",
      "() [[((0, 1, 4), ())], [((0, 1, 3), ())]]\n",
      "() [[((0, 1, 3), ())], [((0, 1, 4), ())]]\n",
      "() [[((0, 1, 4), ())], [((0, 1, 3), ())]]\n",
      "() [[((0, 1, 3), ())], [((0, 1, 4), ())]]\n",
      "() [[((0, 1, 4), ())], [((0, 1, 3), ())]]\n",
      "() [[((0, 1, 4), ())], [((0, 1, 3), ())]]\n",
      "() [[((0, 1, 4), ())], [((0, 1, 3), ())]]\n",
      "() [[((0, 1, 4), ())], [((0, 1, 3), ())]]\n",
      "() [[((0, 1, 3), ())], [((0, 1, 4), ())]]\n",
      "() [[((0, 1, 3), ())], [((0, 1, 4), ())]]\n",
      "() [[((0, 1, 4), ())], [((0, 1, 3), ())]]\n",
      "() [[((0, 1, 4), ())], [((0, 1, 3), ())]]\n",
      "() [[((0, 1, 4), ())], [((0, 1, 3), ())]]\n",
      "() [[((0, 1, 3), ())], [((0, 1, 4), ())]]\n",
      "() [[((0, 1, 4), ())], [((0, 1, 3), ())]]\n",
      "() [[((0, 1, 4), ())], [((0, 1, 3), ())]]\n",
      "() [[((0, 1, 3), ())], [((0, 1, 4), ())]]\n",
      "() [[((0, 1, 3), ())], [((0, 1, 4), ())]]\n",
      "() [[((0, 1, 3), ())], [((0, 1, 4), ())]]\n",
      "() [[((0, 1, 4), ())], [((0, 1, 3), ())]]\n",
      "() [[((0, 1, 4), ())], [((0, 1, 3), ())]]\n",
      "() [[((0, 1, 4), ())], [((0, 1, 3), ())]]\n",
      "() [[((0, 1, 3), ())], [((0, 1, 4), ())]]\n",
      "() [[((0, 1, 4), ())], [((0, 1, 3), ())]]\n",
      "() [[((0, 1, 4), ())], [((0, 1, 3), ())]]\n",
      "() [[((0, 1, 4), ())], [((0, 1, 3), ())]]\n",
      "() [[((0, 1, 4), ())], [((0, 1, 3), ())]]\n",
      "() [[((0, 1, 4), ())], [((0, 1, 3), ())]]\n",
      "() [[((0, 1, 4), ())], [((0, 1, 3), ())]]\n",
      "() [[((0, 1, 4), ())], [((0, 1, 3), ())]]\n",
      "() [[((0, 1, 3), ())], [((0, 1, 4), ())]]\n",
      "() [[((0, 1, 4), ())], [((0, 1, 3), ())]]\n",
      "() [[((0, 1, 4), ())], [((0, 1, 3), ())]]\n",
      "() [[((0, 1, 4), ())], [((0, 1, 3), ())]]\n",
      "() [[((0, 1, 4), ())], [((0, 1, 3), ())]]\n",
      "() [[((0, 1, 4), ())], [((0, 1, 3), ())]]\n",
      "() [[((0, 1, 3), ())], [((0, 1, 4), ())]]\n",
      "() [[((0, 1, 4), ())], [((0, 1, 3), ())]]\n",
      "() [[((0, 1, 3), ())], [((0, 1, 4), ())]]\n",
      "() [[((0, 1, 3), ())], [((0, 1, 4), ())]]\n",
      "() [[((0, 1, 3), ())], [((0, 1, 4), ())]]\n",
      "() [[((0, 1, 4), ())], [((0, 1, 3), ())]]\n",
      "() [[((0, 1, 4), ())], [((0, 1, 3), ())]]\n",
      "() [[((0, 1, 4), ())], [((0, 1, 3), ())]]\n",
      "() [[((0, 1, 3), ())], [((0, 1, 4), ())]]\n",
      "() [[((0, 1, 4), ())], [((0, 1, 3), ())]]\n",
      "() [[((0, 1, 3), ())], [((0, 1, 4), ())]]\n",
      "() [[((0, 1, 4), ())], [((0, 1, 3), ())]]\n",
      "() [[((0, 1, 3), ())], [((0, 1, 4), ())]]\n",
      "() [[((0, 1, 4), ())], [((0, 1, 3), ())]]\n",
      "() [[((0, 1, 3), ())], [((0, 1, 4), ())]]\n",
      "() [[((0, 1, 4), ())], [((0, 1, 3), ())]]\n",
      "() [[((0, 1, 4), ())], [((0, 1, 3), ())]]\n",
      "() [[((0, 1, 4), ())], [((0, 1, 3), ())]]\n",
      "() [[((0, 1, 3), ())], [((0, 1, 4), ())]]\n",
      "() [[((0, 1, 3), ())], [((0, 1, 4), ())]]\n",
      "() [[((0, 1, 3), ())], [((0, 1, 4), ())]]\n",
      "() [[((0, 1, 3), ())], [((0, 1, 4), ())]]\n",
      "() [[((0, 1, 4), ())], [((0, 1, 3), ())]]\n",
      "() [[((0, 1, 3), ())], [((0, 1, 4), ())]]\n",
      "() [[((0, 1, 4), ())], [((0, 1, 3), ())]]\n",
      "() [[((0, 1, 3), ())], [((0, 1, 4), ())]]\n",
      "() [[((0, 1, 3), ())], [((0, 1, 4), ())]]\n",
      "() [[((0, 1, 3), ())], [((0, 1, 4), ())]]\n",
      "() [[((0, 1, 3), ())], [((0, 1, 4), ())]]\n",
      "() [[((0, 1, 3), ())], [((0, 1, 4), ())]]\n",
      "() [[((0, 1, 4), ())], [((0, 1, 3), ())]]\n",
      "() [[((0, 1, 3), ())], [((0, 1, 4), ())]]\n",
      "() [[((0, 1, 4), ())], [((0, 1, 3), ())]]\n",
      "() [[((0, 1, 3), ())], [((0, 1, 4), ())]]\n",
      "() [[((0, 1, 4), ())], [((0, 1, 3), ())]]\n",
      "() [[((0, 1, 3), ())], [((0, 1, 4), ())]]\n",
      "() [[((0, 1, 3), ())], [((0, 1, 4), ())]]\n",
      "() [[((0, 1, 3), ())], [((0, 1, 4), ())]]\n",
      "() [[((0, 1, 3), ())], [((0, 1, 4), ())]]\n",
      "() [[((0, 1, 3), ())], [((0, 1, 4), ())]]\n",
      "() [[((0, 1, 4), ())], [((0, 1, 3), ())]]\n",
      "() [[((0, 1, 4), ())], [((0, 1, 3), ())]]\n",
      "() [[((0, 1, 4), ())], [((0, 1, 3), ())]]\n",
      "() [[((0, 1, 3), ())], [((0, 1, 4), ())]]\n",
      "() [[((0, 1, 4), ())], [((0, 1, 3), ())]]\n",
      "() [[((0, 1, 3), ())], [((0, 1, 4), ())]]\n",
      "() [[((0, 1, 4), ())], [((0, 1, 3), ())]]\n",
      "() [[((0, 1, 4), ())], [((0, 1, 3), ())]]\n",
      "() [[((0, 1, 4), ())], [((0, 1, 3), ())]]\n",
      "() [[((0, 1, 3), ())], [((0, 1, 4), ())]]\n",
      "() [[((0, 1, 4), ())], [((0, 1, 3), ())]]\n",
      "() [[((0, 1, 3), ())], [((0, 1, 4), ())]]\n",
      "() [[((0, 1, 4), ())], [((0, 1, 3), ())]]\n",
      "() [[((0, 1, 3), ())], [((0, 1, 4), ())]]\n",
      "() [[((0, 1, 4), ())], [((0, 1, 3), ())]]\n",
      "() [[((0, 1, 3), ())], [((0, 1, 4), ())]]\n",
      "() [[((0, 1, 4), ())], [((0, 1, 3), ())]]\n",
      "() [[((0, 1, 3), ())], [((0, 1, 4), ())]]\n",
      "() [[((0, 1, 4), ())], [((0, 1, 3), ())]]\n",
      "() [[((0, 1, 4), ())], [((0, 1, 3), ())]]\n",
      "() [[((0, 1, 4), ())], [((0, 1, 3), ())]]\n",
      "() [[((0, 1, 3), ())], [((0, 1, 4), ())]]\n",
      "() [[((0, 1, 3), ())], [((0, 1, 4), ())]]\n",
      "() [[((0, 1, 3), ())], [((0, 1, 4), ())]]\n",
      "() [[((0, 1, 4), ())], [((0, 1, 3), ())]]\n",
      "() [[((0, 1, 3), ())], [((0, 1, 4), ())]]\n",
      "() [[((0, 1, 3), ())], [((0, 1, 4), ())]]\n",
      "() [[((0, 1, 3), ())], [((0, 1, 4), ())]]\n",
      "() [[((0, 1, 3), ())], [((0, 1, 4), ())]]\n",
      "() [[((0, 1, 3), ())], [((0, 1, 4), ())]]\n",
      "() [[((0, 1, 4), ())], [((0, 1, 3), ())]]\n",
      "() [[((0, 1, 4), ())], [((0, 1, 3), ())]]\n",
      "() [[((0, 1, 4), ())], [((0, 1, 3), ())]]\n",
      "() [[((0, 1, 3), ())], [((0, 1, 4), ())]]\n",
      "() [[((0, 1, 3), ())], [((0, 1, 4), ())]]\n",
      "() [[((0, 1, 4), ())], [((0, 1, 3), ())]]\n",
      "() [[((0, 1, 3), ())], [((0, 1, 4), ())]]\n",
      "() [[((0, 1, 4), ())], [((0, 1, 3), ())]]\n",
      "() [[((0, 1, 4), ())], [((0, 1, 3), ())]]\n",
      "() [[((0, 1, 4), ())], [((0, 1, 3), ())]]\n",
      "() [[((0, 1, 4), ())], [((0, 1, 3), ())]]\n",
      "() [[((0, 1, 3), ())], [((0, 1, 4), ())]]\n",
      "() [[((0, 1, 3), ())], [((0, 1, 4), ())]]\n",
      "() [[((0, 1, 4), ())], [((0, 1, 3), ())]]\n",
      "() [[((0, 1, 4), ())], [((0, 1, 3), ())]]\n",
      "() [[((0, 1, 4), ())], [((0, 1, 3), ())]]\n",
      "() [[((0, 1, 4), ())], [((0, 1, 3), ())]]\n",
      "() [[((0, 1, 4), ())], [((0, 1, 3), ())]]\n",
      "() [[((0, 1, 4), ())], [((0, 1, 3), ())]]\n",
      "() [[((0, 1, 4), ())], [((0, 1, 3), ())]]\n",
      "() [[((0, 1, 4), ())], [((0, 1, 3), ())]]\n",
      "() [[((0, 1, 4), ())], [((0, 1, 3), ())]]\n",
      "() [[((0, 1, 3), ())], [((0, 1, 4), ())]]\n",
      "() [[((0, 1, 3), ())], [((0, 1, 4), ())]]\n",
      "() [[((0, 1, 4), ())], [((0, 1, 3), ())]]\n",
      "() [[((0, 1, 4), ())], [((0, 1, 3), ())]]\n",
      "() [[((0, 1, 3), ())], [((0, 1, 4), ())]]\n",
      "() [[((0, 1, 4), ())], [((0, 1, 3), ())]]\n",
      "() [[((0, 1, 4), ())], [((0, 1, 3), ())]]\n",
      "() [[((0, 1, 4), ())], [((0, 1, 3), ())]]\n",
      "() [[((0, 1, 3), ())], [((0, 1, 4), ())]]\n",
      "() [[((0, 1, 4), ())], [((0, 1, 3), ())]]\n",
      "() [[((0, 1, 3), ())], [((0, 1, 4), ())]]\n",
      "() [[((0, 1, 4), ())], [((0, 1, 3), ())]]\n",
      "() [[((0, 1, 3), ())], [((0, 1, 4), ())]]\n",
      "() [[((0, 1, 4), ())], [((0, 1, 3), ())]]\n",
      "() [[((0, 1, 4), ())], [((0, 1, 3), ())]]\n",
      "() [[((0, 1, 4), ())], [((0, 1, 3), ())]]\n",
      "() [[((0, 1, 4), ())], [((0, 1, 3), ())]]\n",
      "() [[((0, 1, 3), ())], [((0, 1, 4), ())]]\n",
      "() [[((0, 1, 4), ())], [((0, 1, 3), ())]]\n",
      "() [[((0, 1, 4), ())], [((0, 1, 3), ())]]\n",
      "() [[((0, 1, 3), ())], [((0, 1, 4), ())]]\n",
      "() [[((0, 1, 3), ())], [((0, 1, 4), ())]]\n",
      "() [[((0, 1, 4), ())], [((0, 1, 3), ())]]\n",
      "() [[((0, 1, 4), ())], [((0, 1, 3), ())]]\n",
      "() [[((0, 1, 3), ())], [((0, 1, 4), ())]]\n",
      "() [[((0, 1, 4), ())], [((0, 1, 3), ())]]\n",
      "() [[((0, 1, 4), ())], [((0, 1, 3), ())]]\n",
      "() [[((0, 1, 4), ())], [((0, 1, 3), ())]]\n",
      "() [[((0, 1, 4), ())], [((0, 1, 3), ())]]\n",
      "() [[((0, 1, 3), ())], [((0, 1, 4), ())]]\n",
      "() [[((0, 1, 4), ())], [((0, 1, 3), ())]]\n",
      "() [[((0, 1, 4), ())], [((0, 1, 3), ())]]\n",
      "() [[((0, 1, 3), ())], [((0, 1, 4), ())]]\n",
      "() [[((0, 1, 4), ())], [((0, 1, 3), ())]]\n",
      "() [[((0, 1, 4), ())], [((0, 1, 3), ())]]\n",
      "() [[((0, 1, 4), ())], [((0, 1, 3), ())]]\n",
      "() [[((0, 1, 4), ())], [((0, 1, 3), ())]]\n",
      "() [[((0, 1, 3), ())], [((0, 1, 4), ())]]\n",
      "() [[((0, 1, 3), ())], [((0, 1, 4), ())]]\n",
      "() [[((0, 1, 3), ())], [((0, 1, 4), ())]]\n",
      "() [[((0, 1, 4), ())], [((0, 1, 3), ())]]\n",
      "() [[((0, 1, 4), ())], [((0, 1, 3), ())]]\n",
      "() [[((0, 1, 4), ())], [((0, 1, 3), ())]]\n",
      "() [[((0, 1, 4), ())], [((0, 1, 3), ())]]\n",
      "() [[((0, 1, 4), ())], [((0, 1, 3), ())]]\n",
      "() [[((0, 1, 3), ())], [((0, 1, 4), ())]]\n",
      "() [[((0, 1, 3), ())], [((0, 1, 4), ())]]\n",
      "() [[((0, 1, 4), ())], [((0, 1, 3), ())]]\n",
      "() [[((0, 1, 4), ())], [((0, 1, 3), ())]]\n",
      "() [[((0, 1, 3), ())], [((0, 1, 4), ())]]\n",
      "() [[((0, 1, 4), ())], [((0, 1, 3), ())]]\n",
      "() [[((0, 1, 3), ())], [((0, 1, 4), ())]]\n",
      "() [[((0, 1, 4), ())], [((0, 1, 3), ())]]\n",
      "() [[((0, 1, 3), ())], [((0, 1, 4), ())]]\n",
      "() [[((0, 1, 3), ())], [((0, 1, 4), ())]]\n",
      "() [[((0, 1, 3), ())], [((0, 1, 4), ())]]\n",
      "() [[((0, 1, 3), ())], [((0, 1, 4), ())]]\n",
      "() [[((0, 1, 4), ())], [((0, 1, 3), ())]]\n",
      "() [[((0, 1, 3), ())], [((0, 1, 4), ())]]\n",
      "() [[((0, 1, 3), ())], [((0, 1, 4), ())]]\n",
      "() [[((0, 1, 4), ())], [((0, 1, 3), ())]]\n",
      "() [[((0, 1, 4), ())], [((0, 1, 3), ())]]\n",
      "() [[((0, 1, 4), ())], [((0, 1, 3), ())]]\n",
      "() [[((0, 1, 4), ())], [((0, 1, 3), ())]]\n",
      "() [[((0, 1, 3), ())], [((0, 1, 4), ())]]\n",
      "() [[((0, 1, 4), ())], [((0, 1, 3), ())]]\n",
      "() [[((0, 1, 4), ())], [((0, 1, 3), ())]]\n",
      "() [[((0, 1, 4), ())], [((0, 1, 3), ())]]\n",
      "() [[((0, 1, 3), ())], [((0, 1, 4), ())]]\n",
      "() [[((0, 1, 4), ())], [((0, 1, 3), ())]]\n",
      "() [[((0, 1, 3), ())], [((0, 1, 4), ())]]\n",
      "() [[((0, 1, 3), ())], [((0, 1, 4), ())]]\n",
      "() [[((0, 1, 3), ())], [((0, 1, 4), ())]]\n",
      "() [[((0, 1, 3), ())], [((0, 1, 4), ())]]\n",
      "() [[((0, 1, 3), ())], [((0, 1, 4), ())]]\n",
      "() [[((0, 1, 3), ())], [((0, 1, 4), ())]]\n",
      "() [[((0, 1, 4), ())], [((0, 1, 3), ())]]\n",
      "() [[((0, 1, 3), ())], [((0, 1, 4), ())]]\n",
      "() [[((0, 1, 4), ())], [((0, 1, 3), ())]]\n",
      "() [[((0, 1, 4), ())], [((0, 1, 3), ())]]\n",
      "() [[((0, 1, 3), ())], [((0, 1, 4), ())]]\n",
      "() [[((0, 1, 4), ())], [((0, 1, 3), ())]]\n",
      "() [[((0, 1, 4), ())], [((0, 1, 3), ())]]\n",
      "() [[((0, 1, 4), ())], [((0, 1, 3), ())]]\n",
      "() [[((0, 1, 3), ())], [((0, 1, 4), ())]]\n",
      "() [[((0, 1, 4), ())], [((0, 1, 3), ())]]\n",
      "() [[((0, 1, 3), ())], [((0, 1, 4), ())]]\n",
      "() [[((0, 1, 3), ())], [((0, 1, 4), ())]]\n",
      "() [[((0, 1, 3), ())], [((0, 1, 4), ())]]\n",
      "() [[((0, 1, 4), ())], [((0, 1, 3), ())]]\n",
      "() [[((0, 1, 3), ())], [((0, 1, 4), ())]]\n",
      "() [[((0, 1, 3), ())], [((0, 1, 4), ())]]\n",
      "() [[((0, 1, 4), ())], [((0, 1, 3), ())]]\n",
      "() [[((0, 1, 3), ())], [((0, 1, 4), ())]]\n",
      "() [[((0, 1, 4), ())], [((0, 1, 3), ())]]\n",
      "() [[((0, 1, 4), ())], [((0, 1, 3), ())]]\n",
      "() [[((0, 1, 4), ())], [((0, 1, 3), ())]]\n",
      "() [[((0, 1, 4), ())], [((0, 1, 3), ())]]\n",
      "() [[((0, 1, 3), ())], [((0, 1, 4), ())]]\n",
      "() [[((0, 1, 4), ())], [((0, 1, 3), ())]]\n",
      "() [[((0, 1, 3), ())], [((0, 1, 4), ())]]\n",
      "() [[((0, 1, 3), ())], [((0, 1, 4), ())]]\n",
      "() [[((0, 1, 3), ())], [((0, 1, 4), ())]]\n",
      "() [[((0, 1, 4), ())], [((0, 1, 3), ())]]\n",
      "() [[((0, 1, 4), ())], [((0, 1, 3), ())]]\n",
      "() [[((0, 1, 4), ())], [((0, 1, 3), ())]]\n",
      "() [[((0, 1, 3), ())], [((0, 1, 4), ())]]\n",
      "() [[((0, 1, 3), ())], [((0, 1, 4), ())]]\n",
      "() [[((0, 1, 3), ())], [((0, 1, 4), ())]]\n",
      "() [[((0, 1, 4), ())], [((0, 1, 3), ())]]\n",
      "() [[((0, 1, 4), ())], [((0, 1, 3), ())]]\n",
      "() [[((0, 1, 4), ())], [((0, 1, 3), ())]]\n",
      "() [[((0, 1, 3), ())], [((0, 1, 4), ())]]\n",
      "() [[((0, 1, 3), ())], [((0, 1, 4), ())]]\n",
      "() [[((0, 1, 3), ())], [((0, 1, 4), ())]]\n",
      "() [[((0, 1, 4), ())], [((0, 1, 3), ())]]\n",
      "() [[((0, 1, 4), ())], [((0, 1, 3), ())]]\n",
      "() [[((0, 1, 3), ())], [((0, 1, 4), ())]]\n",
      "() [[((0, 1, 4), ())], [((0, 1, 3), ())]]\n",
      "() [[((0, 1, 4), ())], [((0, 1, 3), ())]]\n",
      "() [[((0, 1, 3), ())], [((0, 1, 4), ())]]\n",
      "() [[((0, 1, 3), ())], [((0, 1, 4), ())]]\n",
      "() [[((0, 1, 3), ())], [((0, 1, 4), ())]]\n",
      "() [[((0, 1, 4), ())], [((0, 1, 3), ())]]\n",
      "() [[((0, 1, 3), ())], [((0, 1, 4), ())]]\n",
      "() [[((0, 1, 3), ())], [((0, 1, 4), ())]]\n",
      "() [[((0, 1, 4), ())], [((0, 1, 3), ())]]\n",
      "() [[((0, 1, 3), ())], [((0, 1, 4), ())]]\n",
      "() [[((0, 1, 3), ())], [((0, 1, 4), ())]]\n",
      "() [[((0, 1, 4), ())], [((0, 1, 3), ())]]\n",
      "() [[((0, 1, 3), ())], [((0, 1, 4), ())]]\n",
      "() [[((0, 1, 4), ())], [((0, 1, 3), ())]]\n",
      "() [[((0, 1, 3), ())], [((0, 1, 4), ())]]\n",
      "() [[((0, 1, 3), ())], [((0, 1, 4), ())]]\n",
      "() [[((0, 1, 3), ())], [((0, 1, 4), ())]]\n",
      "() [[((0, 1, 4), ())], [((0, 1, 3), ())]]\n",
      "() [[((0, 1, 3), ())], [((0, 1, 4), ())]]\n",
      "() [[((0, 1, 3), ())], [((0, 1, 4), ())]]\n",
      "() [[((0, 1, 3), ())], [((0, 1, 4), ())]]\n",
      "() [[((0, 1, 4), ())], [((0, 1, 3), ())]]\n",
      "() [[((0, 1, 4), ())], [((0, 1, 3), ())]]\n",
      "() [[((0, 1, 4), ())], [((0, 1, 3), ())]]\n",
      "() [[((0, 1, 4), ())], [((0, 1, 3), ())]]\n",
      "() [[((0, 1, 4), ())], [((0, 1, 3), ())]]\n",
      "() [[((0, 1, 4), ())], [((0, 1, 3), ())]]\n",
      "() [[((0, 1, 4), ())], [((0, 1, 3), ())]]\n",
      "() [[((0, 1, 3), ())], [((0, 1, 4), ())]]\n",
      "() [[((0, 1, 3), ())], [((0, 1, 4), ())]]\n",
      "() [[((0, 1, 3), ())], [((0, 1, 4), ())]]\n",
      "() [[((0, 1, 3), ())], [((0, 1, 4), ())]]\n",
      "() [[((0, 1, 3), ())], [((0, 1, 4), ())]]\n",
      "() [[((0, 1, 4), ())], [((0, 1, 3), ())]]\n",
      "() [[((0, 1, 4), ())], [((0, 1, 3), ())]]\n",
      "() [[((0, 1, 3), ())], [((0, 1, 4), ())]]\n",
      "() [[((0, 1, 4), ())], [((0, 1, 3), ())]]\n",
      "() [[((0, 1, 4), ())], [((0, 1, 3), ())]]\n",
      "() [[((0, 1, 3), ())], [((0, 1, 4), ())]]\n",
      "() [[((0, 1, 3), ())], [((0, 1, 4), ())]]\n",
      "() [[((0, 1, 4), ())], [((0, 1, 3), ())]]\n",
      "() [[((0, 1, 4), ())], [((0, 1, 3), ())]]\n",
      "() [[((0, 1, 3), ())], [((0, 1, 4), ())]]\n",
      "() [[((0, 1, 4), ())], [((0, 1, 3), ())]]\n",
      "() [[((0, 1, 4), ())], [((0, 1, 3), ())]]\n",
      "() [[((0, 1, 3), ())], [((0, 1, 4), ())]]\n",
      "() [[((0, 1, 3), ())], [((0, 1, 4), ())]]\n",
      "() [[((0, 1, 4), ())], [((0, 1, 3), ())]]\n",
      "() [[((0, 1, 4), ())], [((0, 1, 3), ())]]\n",
      "() [[((0, 1, 3), ())], [((0, 1, 4), ())]]\n",
      "() [[((0, 1, 4), ())], [((0, 1, 3), ())]]\n",
      "() [[((0, 1, 3), ())], [((0, 1, 4), ())]]\n",
      "() [[((0, 1, 3), ())], [((0, 1, 4), ())]]\n",
      "() [[((0, 1, 4), ())], [((0, 1, 3), ())]]\n",
      "() [[((0, 1, 3), ())], [((0, 1, 4), ())]]\n",
      "() [[((0, 1, 4), ())], [((0, 1, 3), ())]]\n",
      "() [[((0, 1, 4), ())], [((0, 1, 3), ())]]\n",
      "() [[((0, 1, 3), ())], [((0, 1, 4), ())]]\n",
      "() [[((0, 1, 4), ())], [((0, 1, 3), ())]]\n",
      "() [[((0, 1, 4), ())], [((0, 1, 3), ())]]\n",
      "() [[((0, 1, 4), ())], [((0, 1, 3), ())]]\n",
      "() [[((0, 1, 4), ())], [((0, 1, 3), ())]]\n",
      "() [[((0, 1, 3), ())], [((0, 1, 4), ())]]\n",
      "() [[((0, 1, 4), ())], [((0, 1, 3), ())]]\n",
      "() [[((0, 1, 4), ())], [((0, 1, 3), ())]]\n",
      "() [[((0, 1, 4), ())], [((0, 1, 3), ())]]\n",
      "() [[((0, 1, 3), ())], [((0, 1, 4), ())]]\n",
      "() [[((0, 1, 4), ())], [((0, 1, 3), ())]]\n",
      "() [[((0, 1, 4), ())], [((0, 1, 3), ())]]\n",
      "() [[((0, 1, 3), ())], [((0, 1, 4), ())]]\n",
      "() [[((0, 1, 4), ())], [((0, 1, 3), ())]]\n",
      "() [[((0, 1, 4), ())], [((0, 1, 3), ())]]\n",
      "() [[((0, 1, 4), ())], [((0, 1, 3), ())]]\n",
      "() [[((0, 1, 4), ())], [((0, 1, 3), ())]]\n",
      "() [[((0, 1, 3), ())], [((0, 1, 4), ())]]\n",
      "() [[((0, 1, 4), ())], [((0, 1, 3), ())]]\n",
      "() [[((0, 1, 4), ())], [((0, 1, 3), ())]]\n",
      "() [[((0, 1, 3), ())], [((0, 1, 4), ())]]\n",
      "() [[((0, 1, 3), ())], [((0, 1, 4), ())]]\n",
      "() [[((0, 1, 4), ())], [((0, 1, 3), ())]]\n",
      "() [[((0, 1, 4), ())], [((0, 1, 3), ())]]\n",
      "() [[((0, 1, 4), ())], [((0, 1, 3), ())]]\n",
      "() [[((0, 1, 4), ())], [((0, 1, 3), ())]]\n",
      "() [[((0, 1, 3), ())], [((0, 1, 4), ())]]\n",
      "() [[((0, 1, 4), ())], [((0, 1, 3), ())]]\n",
      "() [[((0, 1, 4), ())], [((0, 1, 3), ())]]\n",
      "() [[((0, 1, 3), ())], [((0, 1, 4), ())]]\n",
      "() [[((0, 1, 4), ())], [((0, 1, 3), ())]]\n",
      "() [[((0, 1, 4), ())], [((0, 1, 3), ())]]\n",
      "() [[((0, 1, 4), ())], [((0, 1, 3), ())]]\n",
      "() [[((0, 1, 4), ())], [((0, 1, 3), ())]]\n",
      "() [[((0, 1, 4), ())], [((0, 1, 3), ())]]\n",
      "() [[((0, 1, 3), ())], [((0, 1, 4), ())]]\n",
      "() [[((0, 1, 3), ())], [((0, 1, 4), ())]]\n",
      "() [[((0, 1, 3), ())], [((0, 1, 4), ())]]\n",
      "() [[((0, 1, 4), ())], [((0, 1, 3), ())]]\n",
      "() [[((0, 1, 4), ())], [((0, 1, 3), ())]]\n",
      "() [[((0, 1, 4), ())], [((0, 1, 3), ())]]\n",
      "() [[((0, 1, 3), ())], [((0, 1, 4), ())]]\n",
      "() [[((0, 1, 4), ())], [((0, 1, 3), ())]]\n",
      "() [[((0, 1, 4), ())], [((0, 1, 3), ())]]\n",
      "() [[((0, 1, 3), ())], [((0, 1, 4), ())]]\n",
      "() [[((0, 1, 3), ())], [((0, 1, 4), ())]]\n",
      "() [[((0, 1, 4), ())], [((0, 1, 3), ())]]\n",
      "() [[((0, 1, 3), ())], [((0, 1, 4), ())]]\n",
      "() [[((0, 1, 4), ())], [((0, 1, 3), ())]]\n",
      "() [[((0, 1, 3), ())], [((0, 1, 4), ())]]\n",
      "() [[((0, 1, 4), ())], [((0, 1, 3), ())]]\n",
      "() [[((0, 1, 4), ())], [((0, 1, 3), ())]]\n",
      "() [[((0, 1, 4), ())], [((0, 1, 3), ())]]\n",
      "(lambda (mv (mv (mv (minv (minv $0))))))\n",
      "(lambda (mv (mv (mv (minv (h $0))))))\n",
      "(lambda (mv (mv (mv (minv (cnot $0))))))\n",
      "(lambda (mv (mv (mv (h (cnot $0))))))\n",
      "(lambda (mv (mv (mv (cnot (h $0))))))\n",
      "(lambda (mv (mv (minv (mv (cnot $0))))))\n",
      "(lambda (mv (mv (minv (h (mv $0))))))\n",
      "(lambda (mv (mv (minv (h (cnot $0))))))\n",
      "(lambda (mv (mv (minv (cnot (mv $0))))))\n",
      "(lambda (mv (mv (minv (cnot (h $0))))))\n",
      "(lambda (mv (mv (h (mv (minv $0))))))\n",
      "(lambda (mv (mv (h (mv (h $0))))))\n",
      "(lambda (mv (mv (h (mv (cnot $0))))))\n",
      "(lambda (mv (mv (h (cnot (mv $0))))))\n",
      "(lambda (mv (mv (h (cnot (h $0))))))\n",
      "(lambda (mv (mv (cnot (mv (minv $0))))))\n",
      "(lambda (mv (mv (cnot (mv (h $0))))))\n",
      "(lambda (mv (mv (cnot (mv (cnot $0))))))\n",
      "(lambda (mv (mv (cnot (h (mv $0))))))\n",
      "(lambda (mv (mv (cnot (h (cnot $0))))))\n",
      "(lambda (mv (mv_r (mv (mv (cnot $0))))))\n",
      "(lambda (mv (mv_r (mv (h (cnot $0))))))\n",
      "(lambda (mv (mv_r (minv (cnot (mv $0))))))\n",
      "(lambda (mv (mv_r (h (mv (h $0))))))\n",
      "(lambda (mv (mv_r (h (mv (cnot $0))))))\n",
      "(lambda (mv (mv_r (h (cnot (mv $0))))))\n",
      "(lambda (mv (mv_r (cnot (mv (minv $0))))))\n",
      "(lambda (mv (mv_r (cnot (mv (cnot $0))))))\n",
      "(lambda (mv (minv (h (mv (mv $0))))))\n",
      "(lambda (mv (minv (h (mv (h $0))))))\n",
      "(lambda (mv (minv (h (mv (cnot $0))))))\n",
      "(lambda (mv (minv (h (cnot (mv $0))))))\n",
      "(lambda (mv (minv (h (cnot (h $0))))))\n",
      "(lambda (mv (minv (cnot (mv (mv $0))))))\n",
      "(lambda (mv (minv (cnot (mv (minv $0))))))\n",
      "(lambda (mv (minv (cnot (mv (h $0))))))\n",
      "(lambda (mv (minv (cnot (mv (cnot $0))))))\n",
      "(lambda (mv (minv (cnot (h (mv $0))))))\n",
      "(lambda (mv (minv (cnot (h (cnot $0))))))\n",
      "(lambda (mv (h (mv (mv (minv $0))))))\n",
      "(lambda (mv (h (mv (mv (h $0))))))\n",
      "(lambda (mv (h (mv (mv (cnot $0))))))\n",
      "(lambda (mv (h (mv (h (mv $0))))))\n"
     ]
    }
   ],
   "source": [
    "for i in range(200): \n",
    "    print(next(iterator))"
   ]
  },
  {
   "cell_type": "code",
   "execution_count": 9,
   "metadata": {},
   "outputs": [
    {
     "name": "stdout",
     "output_type": "stream",
     "text": [
      "start symbol: (tcircuit, (tcircuit,))\n",
      "\n",
      "(tcircuit, (tcircuit,)) ::= mv\t0x(tcircuit, (tcircuit,))\t\t-1.9459101490553132\n",
      "(tcircuit, (tcircuit,)) ::= mv_r\t0x(tcircuit, (tcircuit,))\t\t-1.9459101490553132\n",
      "(tcircuit, (tcircuit,)) ::= minv\t0x(tcircuit, (tcircuit,))\t\t-1.9459101490553132\n",
      "(tcircuit, (tcircuit,)) ::= h\t0x(tcircuit, (tcircuit,))\t\t-1.9459101490553132\n",
      "(tcircuit, (tcircuit,)) ::= cnot\t0x(tcircuit, (tcircuit,))\t\t-1.9459101490553132\n",
      "(tcircuit, (tcircuit,)) ::= rep\t0x(int, (tcircuit,)) 1x(tcircuit, (tcircuit,)) 0x(tcircuit, (tcircuit,))\t\t-1.9459101490553132\n",
      "(tcircuit, (tcircuit,)) ::= $0\t\t\t-1.9459101490553132\n",
      "\n",
      "(int, (tcircuit,)) ::= 0\t\t\t-1.3862943611198906\n",
      "(int, (tcircuit,)) ::= inc\t0x(int, (tcircuit,))\t\t-1.3862943611198906\n",
      "(int, (tcircuit,)) ::= dec\t0x(int, (tcircuit,))\t\t-1.3862943611198906\n",
      "(int, (tcircuit,)) ::= size\t0x(tcircuit, (tcircuit,))\t\t-1.3862943611198906\n"
     ]
    }
   ],
   "source": [
    "print(restricted_pcfg)"
   ]
  },
  {
   "cell_type": "code",
   "execution_count": 13,
   "metadata": {},
   "outputs": [],
   "source": [
    "sloppy =dc.sloppy.Sloppy(inputs=[[no_op(3)],[no_op(4)]],n=5,sound=True)"
   ]
  },
  {
   "cell_type": "code",
   "execution_count": 14,
   "metadata": {},
   "outputs": [
    {
     "data": {
      "text/plain": [
       "$0"
      ]
     },
     "execution_count": 14,
     "metadata": {},
     "output_type": "execute_result"
    }
   ],
   "source": [
    "dc.program.Program.parse(\"$0\")"
   ]
  },
  {
   "cell_type": "code",
   "execution_count": 15,
   "metadata": {},
   "outputs": [
    {
     "data": {
      "text/plain": [
       "(((0, 1, 3),\n",
       "  b'\\x00<\\x00\\x00\\x00\\x00\\x00\\x00\\x00\\x00\\x00\\x00\\x00\\x00\\x00\\x00\\x00\\x00\\x00<\\x00\\x00\\x00\\x00\\x00\\x00\\x00\\x00\\x00\\x00\\x00\\x00\\x00\\x00\\x00\\x00\\x00<\\x00\\x00\\x00\\x00\\x00\\x00\\x00\\x00\\x00\\x00\\x00\\x00\\x00\\x00\\x00\\x00\\x00<\\x00\\x00\\x00\\x00\\x00\\x00\\x00\\x00\\x00\\x00\\x00\\x00\\x00\\x00\\x00\\x00\\x00<\\x00\\x00\\x00\\x00\\x00\\x00\\x00\\x00\\x00\\x00\\x00\\x00\\x00\\x00\\x00\\x00\\x00<\\x00\\x00\\x00\\x00\\x00\\x00\\x00\\x00\\x00\\x00\\x00\\x00\\x00\\x00\\x00\\x00\\x00<\\x00\\x00\\x00\\x00\\x00\\x00\\x00\\x00\\x00\\x00\\x00\\x00\\x00\\x00\\x00\\x00\\x00<'),\n",
       " ((0, 1, 4),\n",
       "  b'\\x00<\\x00\\x00\\x00\\x00\\x00\\x00\\x00\\x00\\x00\\x00\\x00\\x00\\x00\\x00\\x00\\x00\\x00\\x00\\x00\\x00\\x00\\x00\\x00\\x00\\x00\\x00\\x00\\x00\\x00\\x00\\x00\\x00\\x00<\\x00\\x00\\x00\\x00\\x00\\x00\\x00\\x00\\x00\\x00\\x00\\x00\\x00\\x00\\x00\\x00\\x00\\x00\\x00\\x00\\x00\\x00\\x00\\x00\\x00\\x00\\x00\\x00\\x00\\x00\\x00\\x00\\x00<\\x00\\x00\\x00\\x00\\x00\\x00\\x00\\x00\\x00\\x00\\x00\\x00\\x00\\x00\\x00\\x00\\x00\\x00\\x00\\x00\\x00\\x00\\x00\\x00\\x00\\x00\\x00\\x00\\x00\\x00\\x00\\x00\\x00<\\x00\\x00\\x00\\x00\\x00\\x00\\x00\\x00\\x00\\x00\\x00\\x00\\x00\\x00\\x00\\x00\\x00\\x00\\x00\\x00\\x00\\x00\\x00\\x00\\x00\\x00\\x00\\x00\\x00\\x00\\x00\\x00\\x00<\\x00\\x00\\x00\\x00\\x00\\x00\\x00\\x00\\x00\\x00\\x00\\x00\\x00\\x00\\x00\\x00\\x00\\x00\\x00\\x00\\x00\\x00\\x00\\x00\\x00\\x00\\x00\\x00\\x00\\x00\\x00\\x00\\x00<\\x00\\x00\\x00\\x00\\x00\\x00\\x00\\x00\\x00\\x00\\x00\\x00\\x00\\x00\\x00\\x00\\x00\\x00\\x00\\x00\\x00\\x00\\x00\\x00\\x00\\x00\\x00\\x00\\x00\\x00\\x00\\x00\\x00<\\x00\\x00\\x00\\x00\\x00\\x00\\x00\\x00\\x00\\x00\\x00\\x00\\x00\\x00\\x00\\x00\\x00\\x00\\x00\\x00\\x00\\x00\\x00\\x00\\x00\\x00\\x00\\x00\\x00\\x00\\x00\\x00\\x00<\\x00\\x00\\x00\\x00\\x00\\x00\\x00\\x00\\x00\\x00\\x00\\x00\\x00\\x00\\x00\\x00\\x00\\x00\\x00\\x00\\x00\\x00\\x00\\x00\\x00\\x00\\x00\\x00\\x00\\x00\\x00\\x00\\x00<\\x00\\x00\\x00\\x00\\x00\\x00\\x00\\x00\\x00\\x00\\x00\\x00\\x00\\x00\\x00\\x00\\x00\\x00\\x00\\x00\\x00\\x00\\x00\\x00\\x00\\x00\\x00\\x00\\x00\\x00\\x00\\x00\\x00<\\x00\\x00\\x00\\x00\\x00\\x00\\x00\\x00\\x00\\x00\\x00\\x00\\x00\\x00\\x00\\x00\\x00\\x00\\x00\\x00\\x00\\x00\\x00\\x00\\x00\\x00\\x00\\x00\\x00\\x00\\x00\\x00\\x00<\\x00\\x00\\x00\\x00\\x00\\x00\\x00\\x00\\x00\\x00\\x00\\x00\\x00\\x00\\x00\\x00\\x00\\x00\\x00\\x00\\x00\\x00\\x00\\x00\\x00\\x00\\x00\\x00\\x00\\x00\\x00\\x00\\x00<\\x00\\x00\\x00\\x00\\x00\\x00\\x00\\x00\\x00\\x00\\x00\\x00\\x00\\x00\\x00\\x00\\x00\\x00\\x00\\x00\\x00\\x00\\x00\\x00\\x00\\x00\\x00\\x00\\x00\\x00\\x00\\x00\\x00<\\x00\\x00\\x00\\x00\\x00\\x00\\x00\\x00\\x00\\x00\\x00\\x00\\x00\\x00\\x00\\x00\\x00\\x00\\x00\\x00\\x00\\x00\\x00\\x00\\x00\\x00\\x00\\x00\\x00\\x00\\x00\\x00\\x00<\\x00\\x00\\x00\\x00\\x00\\x00\\x00\\x00\\x00\\x00\\x00\\x00\\x00\\x00\\x00\\x00\\x00\\x00\\x00\\x00\\x00\\x00\\x00\\x00\\x00\\x00\\x00\\x00\\x00\\x00\\x00\\x00\\x00<\\x00\\x00\\x00\\x00\\x00\\x00\\x00\\x00\\x00\\x00\\x00\\x00\\x00\\x00\\x00\\x00\\x00\\x00\\x00\\x00\\x00\\x00\\x00\\x00\\x00\\x00\\x00\\x00\\x00\\x00\\x00\\x00\\x00<'))"
      ]
     },
     "execution_count": 15,
     "metadata": {},
     "output_type": "execute_result"
    }
   ],
   "source": [
    "sloppy.compute_signature(dc.program.Program.parse(\"$0\"), \n",
    "                         tp=dc.domains.quantum_algorithms.primitives.tcircuit,\n",
    "                         arguments=((dc.domains.quantum_algorithms.primitives.tcircuit,)))"
   ]
  },
  {
   "cell_type": "code",
   "execution_count": 18,
   "metadata": {},
   "outputs": [
    {
     "data": {
      "text/plain": [
       "True"
      ]
     },
     "execution_count": 18,
     "metadata": {},
     "output_type": "execute_result"
    }
   ],
   "source": [
    "sloppy.compute_signature(dc.program.Program.parse(\"(rep (inc 0) (lambda $0) $0)\"), \n",
    "                         tp=dc.domains.quantum_algorithms.primitives.tcircuit,\n",
    "                         arguments=((dc.domains.quantum_algorithms.primitives.tcircuit,))) == sloppy.compute_signature(dc.program.Program.parse(\"$0\"), \n",
    "                         tp=dc.domains.quantum_algorithms.primitives.tcircuit,\n",
    "                         arguments=((dc.domains.quantum_algorithms.primitives.tcircuit,)))"
   ]
  },
  {
   "cell_type": "code",
   "execution_count": 10,
   "metadata": {},
   "outputs": [
    {
     "name": "stderr",
     "output_type": "stream",
     "text": [
      "pcfg compilation: distinct non terminals 2 ; distinct environments 2\n",
      "[(lambda 0)]\n",
      " -- Bottom up enumeration, cost 0\n",
      " -- Bottom up enumeration, cost 1\n",
      " -- Bottom up enumeration, cost 2\n",
      " -- Bottom up enumeration, cost 3\n",
      " -- Bottom up enumeration, cost 4\n",
      " -- Bottom up enumeration, cost 5\n",
      " -- Bottom up enumeration, cost 6\n",
      " -- Bottom up enumeration, cost 7\n",
      " -- Bottom up enumeration, cost 8\n",
      " -- Bottom up enumeration, cost 9\n",
      " -- Bottom up enumeration, cost 10\n",
      " -- Bottom up enumeration, cost 11\n",
      " -- Bottom up enumeration, cost 12\n",
      " -- Bottom up enumeration, cost 13\n",
      " -- Bottom up enumeration, cost 14\n",
      " -- Bottom up enumeration, cost 15\n",
      " -- Bottom up enumeration, cost 16\n",
      " -- Bottom up enumeration, cost 17\n",
      " -- Bottom up enumeration, cost 18\n",
      " -- Bottom up enumeration, cost 19\n",
      " -- Bottom up enumeration, cost 20\n",
      " -- Bottom up enumeration, cost 21\n",
      " -- Bottom up enumeration, cost 22\n",
      " -- Bottom up enumeration, cost 23\n",
      " -- Bottom up enumeration, cost 24\n",
      " -- Bottom up enumeration, cost 25\n",
      " -- Bottom up enumeration, cost 26\n",
      " -- Bottom up enumeration, cost 27\n",
      " -- Bottom up enumeration, cost 28\n",
      " -- Bottom up enumeration, cost 29\n",
      " -- Bottom up enumeration, cost 30\n",
      " -- Bottom up enumeration, cost 31\n",
      " -- Bottom up enumeration, cost 32\n",
      " -- Bottom up enumeration, cost 33\n",
      " -- Bottom up enumeration, cost 34\n",
      " -- Bottom up enumeration, cost 35\n",
      " -- Bottom up enumeration, cost 36\n",
      " -- Bottom up enumeration, cost 37\n",
      " -- Bottom up enumeration, cost 38\n",
      " -- Bottom up enumeration, cost 39\n",
      " -- Bottom up enumeration, cost 40\n",
      "Enumerated 1567 programs\n"
     ]
    }
   ],
   "source": [
    "restricted_pcfg = dc.grammar.PCFG.from_grammar(grammar, request=dc.type.arrow(tcircuit, tcircuit))\n",
    "restricted_dictionary = dc.enumeration.enumerate_pcfg(restricted_pcfg,timeout=6, \n",
    "                                                      circuit_execution_function=state_circuit_to_mat,no_op=no_op,\n",
    "                                                      observational_equivalence=True,)"
   ]
  },
  {
   "cell_type": "code",
   "execution_count": 11,
   "metadata": {},
   "outputs": [
    {
     "name": "stderr",
     "output_type": "stream",
     "text": [
      "pcfg compilation: distinct non terminals 2 ; distinct environments 2\n",
      "[(lambda 0)]\n",
      " -- Bottom up enumeration, cost 0\n",
      " -- Bottom up enumeration, cost 1\n",
      " -- Bottom up enumeration, cost 2\n",
      " -- Bottom up enumeration, cost 3\n",
      " -- Bottom up enumeration, cost 4\n",
      " -- Bottom up enumeration, cost 5\n",
      " -- Bottom up enumeration, cost 6\n",
      " -- Bottom up enumeration, cost 7\n",
      " -- Bottom up enumeration, cost 8\n",
      " -- Bottom up enumeration, cost 9\n",
      " -- Bottom up enumeration, cost 10\n",
      " -- Bottom up enumeration, cost 11\n",
      " -- Bottom up enumeration, cost 12\n",
      " -- Bottom up enumeration, cost 13\n",
      " -- Bottom up enumeration, cost 14\n",
      " -- Bottom up enumeration, cost 15\n",
      " -- Bottom up enumeration, cost 16\n",
      " -- Bottom up enumeration, cost 17\n",
      " -- Bottom up enumeration, cost 18\n",
      " -- Bottom up enumeration, cost 19\n",
      " -- Bottom up enumeration, cost 20\n",
      " -- Bottom up enumeration, cost 21\n",
      " -- Bottom up enumeration, cost 22\n",
      " -- Bottom up enumeration, cost 23\n",
      " -- Bottom up enumeration, cost 24\n",
      " -- Bottom up enumeration, cost 25\n",
      " -- Bottom up enumeration, cost 26\n",
      " -- Bottom up enumeration, cost 27\n",
      " -- Bottom up enumeration, cost 28\n",
      " -- Bottom up enumeration, cost 29\n",
      " -- Bottom up enumeration, cost 30\n",
      " -- Bottom up enumeration, cost 31\n",
      " -- Bottom up enumeration, cost 32\n",
      " -- Bottom up enumeration, cost 33\n",
      " -- Bottom up enumeration, cost 34\n",
      " -- Bottom up enumeration, cost 35\n",
      " -- Bottom up enumeration, cost 36\n",
      " -- Bottom up enumeration, cost 37\n",
      " -- Bottom up enumeration, cost 38\n",
      " -- Bottom up enumeration, cost 39\n",
      " -- Bottom up enumeration, cost 40\n",
      " -- Bottom up enumeration, cost 41\n",
      " -- Bottom up enumeration, cost 42\n",
      " -- Bottom up enumeration, cost 43\n",
      " -- Bottom up enumeration, cost 44\n",
      " -- Bottom up enumeration, cost 45\n",
      " -- Bottom up enumeration, cost 46\n",
      " -- Bottom up enumeration, cost 47\n",
      " -- Bottom up enumeration, cost 48\n",
      "Enumerated 3302 programs\n"
     ]
    }
   ],
   "source": [
    "full_pcfg = dc.grammar.PCFG.from_grammar(full_grammar, request=dc.type.arrow(tcircuit_full, tcircuit_full))\n",
    "full_dictionary = dc.enumeration.enumerate_pcfg(full_pcfg,\n",
    "                                                timeout=6, \n",
    "                                                circuit_execution_function=full_circuit_to_mat,\n",
    "                                                no_op=f_no_op,\n",
    "                                                observational_equivalence=True,\n",
    "                                                sound=False)"
   ]
  },
  {
   "cell_type": "code",
   "execution_count": 13,
   "metadata": {},
   "outputs": [
    {
     "name": "stderr",
     "output_type": "stream",
     "text": [
      "Enumerated 243 programs\n"
     ]
    }
   ],
   "source": [
    "matched_programs = []\n",
    "for unitary in full_dictionary.keys():\n",
    "    if unitary in restricted_dictionary.keys():\n",
    "        try:\n",
    "            full_task = full_dictionary[unitary][\"task\"]\n",
    "            full_unitary = full_circuit_to_mat(dc.program.Program.parse(full_task).evaluate([])(f_no_op(4)))\n",
    "            \n",
    "            restricted_task = restricted_dictionary[unitary][\"task\"]\n",
    "            restricted_unitary = state_circuit_to_mat(dc.program.Program.parse(restricted_task).evaluate([])(no_op(4)))\n",
    "\n",
    "            if np.all(full_unitary==restricted_unitary):\n",
    "                matched_programs.append([full_task, \n",
    "                                         restricted_task, \n",
    "                                         max(full_dictionary[unitary][\"time\"],restricted_dictionary[unitary][\"time\"])])\n",
    "        except QuantumCircuitException:\n",
    "            ...\n",
    "eprint(f\"Enumerated {len(matched_programs)} programs\")\n",
    "# how long it took to enumerate (when the program was found)"
   ]
  },
  {
   "cell_type": "code",
   "execution_count": 23,
   "metadata": {},
   "outputs": [
    {
     "data": {
      "text/plain": [
       "(3,\n",
       " (('cnot', 1, 0),\n",
       "  ('hadamard', 0),\n",
       "  ('cnot', 1, 0),\n",
       "  ('cnot', 0, 1),\n",
       "  ('cnot', 0, 1),\n",
       "  ('cnot', 1, 0),\n",
       "  ('hadamard', 0),\n",
       "  ('cnot', 0, 1)))"
      ]
     },
     "execution_count": 23,
     "metadata": {},
     "output_type": "execute_result"
    }
   ],
   "source": [
    "def merge_two_programs(str_e1, str_e2):\n",
    "    e1 = dc.program.Program.parse(str_e1)\n",
    "    e2 = dc.program.Program.parse(str_e2)\n",
    "    \n",
    "    return dc.program.Abstraction(\n",
    "        dc.program.Application(e1,\n",
    "        dc.program.Application(e2, dc.program.Index(0)))\n",
    "    ).betaNormalForm(reduceInventions=False)\n",
    "\n"
   ]
  },
  {
   "cell_type": "code",
   "execution_count": 41,
   "metadata": {},
   "outputs": [],
   "source": [
    "for i in range(len(matched_programs)):\n",
    "    for j in range(len(matched_programs)):\n",
    "        e1 = dc.program.Program.parse(matched_programs[-1][0])\n",
    "        e2 = dc.program.Program.parse(matched_programs[-10][0])\n",
    "\n",
    "        merge_two_programs(matched_programs[i][0], matched_programs[j][0])#.evaluate([])(f_no_op(3))\n"
   ]
  },
  {
   "cell_type": "markdown",
   "metadata": {},
   "source": [
    "Save/Load"
   ]
  },
  {
   "cell_type": "code",
   "execution_count": 5,
   "metadata": {},
   "outputs": [],
   "source": [
    "import pickle\n",
    "import os\n",
    "save_path = os.path.join(\"experimentOutputs/quantum/\",\"matched_programs\")"
   ]
  },
  {
   "cell_type": "code",
   "execution_count": 19,
   "metadata": {},
   "outputs": [],
   "source": [
    "with open(save_path,\"wb\") as f:\n",
    "    pickle.dump(matched_programs, f)\n",
    "    \n",
    "with open(save_path+\"_restricted\",\"wb\") as f:\n",
    "    pickle.dump(restricted_dictionary, f)\n",
    "    \n",
    "with open(save_path+\"_full\",\"wb\") as f:\n",
    "    pickle.dump(full_dictionary, f)"
   ]
  },
  {
   "cell_type": "code",
   "execution_count": 6,
   "metadata": {},
   "outputs": [
    {
     "name": "stdout",
     "output_type": "stream",
     "text": [
      "Opened file with 1466 matched programs\n"
     ]
    }
   ],
   "source": [
    "with open(save_path,\"rb\") as f:\n",
    "        matched_programs = pickle.load(f)\n",
    "        \n",
    "with open(save_path+\"_restricted\",\"rb\") as f:\n",
    "        restricted_dictionary = pickle.load(f)\n",
    "        \n",
    "with open(save_path+\"_full\",\"rb\") as f:\n",
    "        full_dictionary = pickle.load(f)\n",
    "        \n",
    "        \n",
    "print(f\"Opened file with {len(matched_programs)} matched programs\")"
   ]
  },
  {
   "cell_type": "code",
   "execution_count": 16,
   "metadata": {},
   "outputs": [
    {
     "data": {
      "text/plain": [
       "988062"
      ]
     },
     "execution_count": 16,
     "metadata": {},
     "output_type": "execute_result"
    }
   ],
   "source": [
    "len(full_dictionary)"
   ]
  },
  {
   "cell_type": "code",
   "execution_count": 17,
   "metadata": {},
   "outputs": [
    {
     "data": {
      "text/plain": [
       "40556"
      ]
     },
     "execution_count": 17,
     "metadata": {},
     "output_type": "execute_result"
    }
   ],
   "source": [
    "len(restricted_dictionary)"
   ]
  },
  {
   "cell_type": "markdown",
   "metadata": {},
   "source": [
    "### Feature Extractors for Recognition Network\n"
   ]
  },
  {
   "cell_type": "code",
   "execution_count": 220,
   "metadata": {},
   "outputs": [],
   "source": [
    "import torch\n",
    "import torch.nn as nn\n",
    "import torch.nn.functional as F\n",
    "from torch.autograd import Variable\n",
    "from torch.nn.utils.rnn import pack_padded_sequence\n",
    "import dreamcoder.great"
   ]
  },
  {
   "cell_type": "markdown",
   "metadata": {},
   "source": [
    "#### Bag of words Feature Extractor"
   ]
  },
  {
   "cell_type": "code",
   "execution_count": 25,
   "metadata": {},
   "outputs": [],
   "source": [
    "class BagOfWordsFeatureExtractor(nn.Module):\n",
    "    def __init__(self, tasks, full_op_names): # why do we need tasks?\n",
    "        super(BagOfWordsFeatureExtractor, self).__init__()\n",
    "        self.recomputeTasks = False\n",
    "        \n",
    "        self.qubit_test_range = [3,5]\n",
    "        self.qubit_num = self.qubit_test_range[1]-self.qubit_test_range[0]+1\n",
    "        \n",
    "        self.names = list(full_op_names.keys())\n",
    "        self.len_names =len(self.names)\n",
    "        \n",
    "        self.outputDimensionality = self.len_names*self.qubit_num\n",
    "        self.tasks=tasks\n",
    "        \n",
    "    # full_circuit to embedding (bag of words)\n",
    "    def full_circuit_to_embedding(self, full_circuit):\n",
    "        embedding = np.zeros([self.len_names], dtype=int)\n",
    "        for operation in full_circuit:\n",
    "            embedding[self.names.index(operation[0])]+=1\n",
    "        return embedding\n",
    "\n",
    "    def full_task_to_embedding(self,full_task):\n",
    "        full_embedding = np.hstack(\n",
    "            [self.full_circuit_to_embedding(full_task.target_algorithm(n_qubit)[1]) \n",
    "             for n_qubit in range(self.qubit_test_range[0],self.qubit_test_range[1]+1)]\n",
    "            )\n",
    "        return full_embedding\n",
    "    \n",
    "    def featuresOfTask(self, t):\n",
    "        return dc.recognition.variable(self.full_task_to_embedding(t)).float()\n",
    "    def featuresOfTasks(self, ts):\n",
    "        return dc.recognition.variable([self.full_task_to_embedding(t) for t in ts]).float()\n",
    "    \n",
    "    def taskOfProgram(self, p, t): # why do we need this?\n",
    "        return dc.task.Task(\"dummy task\", t, [])"
   ]
  },
  {
   "cell_type": "markdown",
   "metadata": {},
   "source": [
    "#### GREAT feature for recognition model"
   ]
  },
  {
   "cell_type": "code",
   "execution_count": 345,
   "metadata": {},
   "outputs": [],
   "source": [
    "class GreatFeatureExtractor(nn.Module):\n",
    "    \n",
    "    def __init__(self, tasks, full_op_names, d_model): # why do we need tasks?\n",
    "        super(GreatFeatureExtractor, self).__init__()\n",
    "        self.recomputeTasks = False\n",
    "        \n",
    "        self.qubit_test_range = [3,5]\n",
    "        self.qubit_num = self.qubit_test_range[1]-self.qubit_test_range[0]+1\n",
    "        \n",
    "        self.names = list(full_op_names.keys())\n",
    "        self.len_names =len(self.names)\n",
    "        \n",
    "        self.outputDimensionality = d_model\n",
    "        self.tasks=tasks\n",
    "        \n",
    "        self.feature_extr = dc.great.Great(layers=4, d_model=self.outputDimensionality, batch_first=True)\n",
    "        \n",
    "        n_qubits = 4 ## HARD-CODED, should be changed\n",
    "        \n",
    "        # make list of lexicons (possible gate names)\n",
    "        self.vertex_lexicon = list(full_op_names.keys()) + [\"input\"]\n",
    "        # define embedding network for the lexicons\n",
    "        self.vertex_lexicon_embedding = nn.Embedding(len(self.vertex_lexicon), self.outputDimensionality)\n",
    "        # define embedding network for the input type numbers\n",
    "        self.vertex_kind_embedding = nn.Embedding(n_qubits, self.outputDimensionality)\n",
    "\n",
    "\n",
    "        # make edge lexicon list\n",
    "        self.edge_lexicon = sorted([\"nothing\", \"input\", \"io\", \"output\"])\n",
    "        # define embedding network for lexicon\n",
    "        self.edge_lexicon_embedding = nn.Embedding(len(self.edge_lexicon), self.outputDimensionality)\n",
    "\n",
    "        # define many embedding neural networks for the node id\n",
    "        self.max_gate_size = 2\n",
    "        self.edge_kind_embeddings = [nn.Embedding(self.max_gate_size, self.outputDimensionality),\n",
    "                                     nn.Embedding(self.max_gate_size, self.outputDimensionality)]\n",
    "        # define the no_relation tensor\n",
    "        self.edge_no_relation = self.edge_lexicon.index(\"nothing\")\n",
    "\n",
    "    # define total embedding\n",
    "    def get_vertex_list_embedding(self,vertex_list):\n",
    "        gate_indices = []\n",
    "        kind_indices = []\n",
    "        for vertex in vertex_list:\n",
    "            gate, kind = vertex[1].split(\"_\")\n",
    "\n",
    "            gate_indices.append(self.vertex_lexicon.index(gate))\n",
    "            kind_indices.append(int(kind))\n",
    "\n",
    "        vertex_embedding = self.vertex_lexicon_embedding(torch.tensor(gate_indices)) + self.vertex_kind_embedding(torch.tensor(kind_indices))\n",
    "        return vertex_embedding\n",
    "\n",
    "    def get_edge_list_embedding(self, edges, vertices):\n",
    "        \n",
    "        # put correct relations where they exist\n",
    "        edge_np_embedding = np.full([len(vertices),\n",
    "                                    len(vertices)],\n",
    "                                    self.edge_no_relation)\n",
    "\n",
    "        edge_embedding = self.edge_lexicon_embedding(torch.tensor(edge_np_embedding))\n",
    "\n",
    "        for edge in edges:\n",
    "            edge_parts = edge[0].split(\"_\")\n",
    "            \n",
    "            edge_type = self.edge_lexicon.index(edge_parts[0])\n",
    "            edge_type_embedding = self.edge_lexicon_embedding(torch.tensor(edge_type))\n",
    "            \n",
    "            edge_kinds = [int(part) for part in edge_parts[1:]]\n",
    "            edge_kinds_embedding = [self.edge_kind_embeddings[kind_index](torch.tensor(kind))\n",
    "                                    for kind_index,kind in enumerate(edge_kinds)]\n",
    "            \n",
    "            edge_embedding[edge_kinds[0], edge_kinds[1]] = edge_type_embedding + sum(edge_kinds_embedding)\n",
    "        return edge_embedding\n",
    "\n",
    "    def add_vertex(self,type, vertices):\n",
    "        idx = len(vertices) \n",
    "        vertices.add((idx, type))\n",
    "        return idx\n",
    "\n",
    "    def get_initial_bindings(self,n_bindings, vertices):\n",
    "        return {i:self.add_vertex(f\"input_{i}\", vertices) for i in range(n_bindings)}\n",
    "\n",
    "    def get_relations(self,changed_vertices):\n",
    "        relations = []\n",
    "        changed_vertices_array = np.array(changed_vertices)\n",
    "        \n",
    "        # among inputs\n",
    "        for i in range(len(changed_vertices_array)):\n",
    "            for j in range(i+1, len(changed_vertices_array)):\n",
    "                relations.append((f\"input_{i}_{j}\", changed_vertices_array[i][0], changed_vertices_array[j][0]) )\n",
    "        \n",
    "        # among outputs\n",
    "        for i in range(len(changed_vertices_array)):\n",
    "            for j in range(i+1, len(changed_vertices_array)):\n",
    "                relations.append((f\"output_{i}_{j}\", changed_vertices_array[i][1], changed_vertices_array[j][1] ))\n",
    "        \n",
    "        # input - output\n",
    "        for i in range(len(changed_vertices_array)):\n",
    "            for j in range(len(changed_vertices_array)):\n",
    "                relations.append((f\"io_{i}_{j}\", changed_vertices_array[i][0], changed_vertices_array[j][1]))\n",
    "        \n",
    "        return relations\n",
    "\n",
    "    def get_graph(self, circuit, bindings, vertices, edges):\n",
    "        if len(circuit)>0:\n",
    "            current_op = circuit[0]\n",
    "            new_bindings = bindings.copy()\n",
    "            changed_vertices = []\n",
    "            for idx, i in enumerate(current_op[1:]):\n",
    "                new_bindings[i] = self.add_vertex(f\"{current_op[0]}_{idx}\", vertices)  # CHANGE TO INPUT LEFT/RIGHT\n",
    "                changed_vertices.append([bindings[i], new_bindings[i]])\n",
    "                \n",
    "            relations = self.get_relations(changed_vertices)\n",
    "            edges.update(relations)\n",
    "            self.get_graph(circuit[1:], new_bindings, vertices, edges)\n",
    "            \n",
    "    def full_circuit_to_embedding(self, full_circuit):\n",
    "        n_qubits, circuit = full_circuit\n",
    "        \n",
    "        vertices = set()\n",
    "        edges = set()\n",
    "        bindings = self.get_initial_bindings(n_qubits, vertices)\n",
    "        self.get_graph(circuit, bindings, vertices, edges)\n",
    "        \n",
    "        # make vertex list\n",
    "        # sort it\n",
    "        vertex_list = sorted(list(vertices), key=lambda vertex: vertex[0])\n",
    "        vertex_embedding = self.get_vertex_list_embedding(vertex_list)\n",
    "        \n",
    "        # make edges embedding\n",
    "        edge_embedding = self.get_edge_list_embedding(list(edges), vertex_list)\n",
    "        return self.feature_extr(vertex_embedding[None], edge_embedding[None])[0]\n",
    "    \n",
    "    \n",
    "    def featuresOfTask(self, t):\n",
    "        n_qubit = 4\n",
    "        full_circuit = t.target_algorithm(n_qubit)\n",
    "        return dc.recognition.variable(self.full_circuit_to_embedding(full_circuit)).float()\n",
    "    \n",
    "    def featuresOfTasks(self, ts):\n",
    "        return torch.stack([self.featuresOfTask(t) for t in ts])\n",
    "    \n",
    "    def taskOfProgram(self, p, t): # why do we need this?\n",
    "        return dc.task.Task(\"dummy task\", t, [])"
   ]
  },
  {
   "cell_type": "code",
   "execution_count": 346,
   "metadata": {},
   "outputs": [],
   "source": [
    "gr = GreatFeatureExtractor(None,full_op_names, 128)"
   ]
  },
  {
   "cell_type": "code",
   "execution_count": 370,
   "metadata": {},
   "outputs": [
    {
     "data": {
      "text/plain": [
       "torch.Size([11, 128])"
      ]
     },
     "execution_count": 370,
     "metadata": {},
     "output_type": "execute_result"
    }
   ],
   "source": [
    "t = QuantumTask(0,\n",
    "                lambda n_qubit, program=matched_programs[-1]: dc.program.Program.parse(program[0]).evaluate([])(f_no_op(n_qubit)))\n",
    "gr.featuresOfTask(t).shape"
   ]
  },
  {
   "cell_type": "code",
   "execution_count": 371,
   "metadata": {},
   "outputs": [],
   "source": [
    "n_qubit = 4\n",
    "full_circuit = t.target_algorithm(n_qubit)"
   ]
  },
  {
   "cell_type": "code",
   "execution_count": 374,
   "metadata": {},
   "outputs": [
    {
     "data": {
      "text/plain": [
       "torch.Size([11, 128])"
      ]
     },
     "execution_count": 374,
     "metadata": {},
     "output_type": "execute_result"
    }
   ],
   "source": [
    "n_qubits, circuit = full_circuit\n",
    "\n",
    "vertices = set()\n",
    "edges = set()\n",
    "bindings = gr.get_initial_bindings(n_qubits, vertices)\n",
    "gr.get_graph(circuit, bindings, vertices, edges)\n",
    "\n",
    "# make vertex list\n",
    "# sort it\n",
    "vertex_list = sorted(list(vertices), key=lambda vertex: vertex[0])\n",
    "vertex_embedding = gr.get_vertex_list_embedding(vertex_list)\n",
    "\n",
    "# make edges embedding\n",
    "edge_embedding = gr.get_edge_list_embedding(list(edges), vertex_list)\n",
    "gr.feature_extr(vertex_embedding[None], edge_embedding[None])[0].shape"
   ]
  },
  {
   "cell_type": "code",
   "execution_count": 377,
   "metadata": {},
   "outputs": [
    {
     "data": {
      "text/plain": [
       "torch.Size([11, 11, 128])"
      ]
     },
     "execution_count": 377,
     "metadata": {},
     "output_type": "execute_result"
    }
   ],
   "source": [
    "vertex_embedding.shape\n",
    "edge_embedding.shape"
   ]
  },
  {
   "cell_type": "code",
   "execution_count": 379,
   "metadata": {},
   "outputs": [
    {
     "data": {
      "text/plain": [
       "torch.Size([1, 11, 128])"
      ]
     },
     "execution_count": 379,
     "metadata": {},
     "output_type": "execute_result"
    }
   ],
   "source": [
    "gr.feature_extr(vertex_embedding[None], edge_embedding[None]).shape"
   ]
  },
  {
   "cell_type": "code",
   "execution_count": 380,
   "metadata": {},
   "outputs": [
    {
     "data": {
      "text/plain": [
       "Great(\n",
       "  (layers): ModuleList(\n",
       "    (0): GreatLayer(\n",
       "      (self_attn): MultiheadAttentionRelation(\n",
       "        (out_proj): Linear(in_features=128, out_features=128, bias=True)\n",
       "        (relation_project): Linear(in_features=128, out_features=128, bias=True)\n",
       "      )\n",
       "      (linear1): Linear(in_features=128, out_features=2048, bias=True)\n",
       "      (dropout): Dropout(p=0.1)\n",
       "      (linear2): Linear(in_features=2048, out_features=128, bias=True)\n",
       "      (norm1): LayerNorm(torch.Size([128]), eps=1e-05, elementwise_affine=True)\n",
       "      (norm2): LayerNorm(torch.Size([128]), eps=1e-05, elementwise_affine=True)\n",
       "      (dropout1): Dropout(p=0.1)\n",
       "      (dropout2): Dropout(p=0.1)\n",
       "    )\n",
       "    (1): GreatLayer(\n",
       "      (self_attn): MultiheadAttentionRelation(\n",
       "        (out_proj): Linear(in_features=128, out_features=128, bias=True)\n",
       "        (relation_project): Linear(in_features=128, out_features=128, bias=True)\n",
       "      )\n",
       "      (linear1): Linear(in_features=128, out_features=2048, bias=True)\n",
       "      (dropout): Dropout(p=0.1)\n",
       "      (linear2): Linear(in_features=2048, out_features=128, bias=True)\n",
       "      (norm1): LayerNorm(torch.Size([128]), eps=1e-05, elementwise_affine=True)\n",
       "      (norm2): LayerNorm(torch.Size([128]), eps=1e-05, elementwise_affine=True)\n",
       "      (dropout1): Dropout(p=0.1)\n",
       "      (dropout2): Dropout(p=0.1)\n",
       "    )\n",
       "    (2): GreatLayer(\n",
       "      (self_attn): MultiheadAttentionRelation(\n",
       "        (out_proj): Linear(in_features=128, out_features=128, bias=True)\n",
       "        (relation_project): Linear(in_features=128, out_features=128, bias=True)\n",
       "      )\n",
       "      (linear1): Linear(in_features=128, out_features=2048, bias=True)\n",
       "      (dropout): Dropout(p=0.1)\n",
       "      (linear2): Linear(in_features=2048, out_features=128, bias=True)\n",
       "      (norm1): LayerNorm(torch.Size([128]), eps=1e-05, elementwise_affine=True)\n",
       "      (norm2): LayerNorm(torch.Size([128]), eps=1e-05, elementwise_affine=True)\n",
       "      (dropout1): Dropout(p=0.1)\n",
       "      (dropout2): Dropout(p=0.1)\n",
       "    )\n",
       "    (3): GreatLayer(\n",
       "      (self_attn): MultiheadAttentionRelation(\n",
       "        (out_proj): Linear(in_features=128, out_features=128, bias=True)\n",
       "        (relation_project): Linear(in_features=128, out_features=128, bias=True)\n",
       "      )\n",
       "      (linear1): Linear(in_features=128, out_features=2048, bias=True)\n",
       "      (dropout): Dropout(p=0.1)\n",
       "      (linear2): Linear(in_features=2048, out_features=128, bias=True)\n",
       "      (norm1): LayerNorm(torch.Size([128]), eps=1e-05, elementwise_affine=True)\n",
       "      (norm2): LayerNorm(torch.Size([128]), eps=1e-05, elementwise_affine=True)\n",
       "      (dropout1): Dropout(p=0.1)\n",
       "      (dropout2): Dropout(p=0.1)\n",
       "    )\n",
       "  )\n",
       ")"
      ]
     },
     "execution_count": 380,
     "metadata": {},
     "output_type": "execute_result"
    }
   ],
   "source": [
    "gr.feature_extr"
   ]
  },
  {
   "cell_type": "markdown",
   "metadata": {},
   "source": [
    "### Recognition Network"
   ]
  },
  {
   "cell_type": "code",
   "execution_count": 349,
   "metadata": {},
   "outputs": [
    {
     "ename": "NameError",
     "evalue": "name 'BagOfWordsFeatureExtractor' is not defined",
     "output_type": "error",
     "traceback": [
      "\u001b[0;31m---------------------------------------------------------------------------\u001b[0m",
      "\u001b[0;31mNameError\u001b[0m                                 Traceback (most recent call last)",
      "\u001b[0;32m/var/folders/g6/m3rq3pbs7lq6drdpnnfm1fvjwthg2w/T/ipykernel_14362/2333879600.py\u001b[0m in \u001b[0;36m<module>\u001b[0;34m\u001b[0m\n\u001b[0;32m----> 1\u001b[0;31m \u001b[0mfeature_extractor\u001b[0m \u001b[0;34m=\u001b[0m \u001b[0mBagOfWordsFeatureExtractor\u001b[0m\u001b[0;34m(\u001b[0m\u001b[0;32mNone\u001b[0m\u001b[0;34m,\u001b[0m \u001b[0mfull_op_names\u001b[0m\u001b[0;34m)\u001b[0m\u001b[0;34m\u001b[0m\u001b[0;34m\u001b[0m\u001b[0m\n\u001b[0m\u001b[1;32m      2\u001b[0m \u001b[0mrecognition_model\u001b[0m \u001b[0;34m=\u001b[0m \u001b[0mdc\u001b[0m\u001b[0;34m.\u001b[0m\u001b[0mrecognition\u001b[0m\u001b[0;34m.\u001b[0m\u001b[0mRecognitionModel\u001b[0m\u001b[0;34m(\u001b[0m\u001b[0mfeature_extractor\u001b[0m\u001b[0;34m,\u001b[0m \u001b[0mgrammar\u001b[0m\u001b[0;34m,\u001b[0m \u001b[0mcontextual\u001b[0m\u001b[0;34m=\u001b[0m\u001b[0;32mTrue\u001b[0m\u001b[0;34m)\u001b[0m\u001b[0;34m\u001b[0m\u001b[0;34m\u001b[0m\u001b[0m\n",
      "\u001b[0;31mNameError\u001b[0m: name 'BagOfWordsFeatureExtractor' is not defined"
     ]
    }
   ],
   "source": [
    "feature_extractor = BagOfWordsFeatureExtractor(None, full_op_names)\n",
    "recognition_model = dc.recognition.RecognitionModel(feature_extractor, grammar, contextual=True)\n"
   ]
  },
  {
   "cell_type": "code",
   "execution_count": 350,
   "metadata": {},
   "outputs": [],
   "source": [
    "feature_extractor = GreatFeatureExtractor(None, full_op_names, d_model=128)\n",
    "recognition_model = dc.recognition.RecognitionModel(feature_extractor, grammar, contextual=True)\n"
   ]
  },
  {
   "cell_type": "code",
   "execution_count": 351,
   "metadata": {},
   "outputs": [],
   "source": [
    "lr=0.00001\n",
    "optimizer = torch.optim.Adam(recognition_model.parameters(), lr=lr, eps=1e-3, amsgrad=True)\n",
    "losses = []"
   ]
  },
  {
   "cell_type": "code",
   "execution_count": 352,
   "metadata": {},
   "outputs": [],
   "source": [
    "batch_size = 1"
   ]
  },
  {
   "cell_type": "code",
   "execution_count": 353,
   "metadata": {},
   "outputs": [],
   "source": [
    "programs_batch = random.sample(matched_programs, batch_size)\n",
    "tasks_batch = [QuantumTask(i,lambda n_qubit, program=program: dc.program.Program.parse(program[0]).evaluate([])(f_no_op(n_qubit)))\n",
    "            for i, program in enumerate(programs_batch)]"
   ]
  },
  {
   "cell_type": "code",
   "execution_count": 354,
   "metadata": {},
   "outputs": [
    {
     "data": {
      "text/plain": [
       "(4, (('cnot', 0, 1), ('hadamard', 1), ('cnot', 0, 1)))"
      ]
     },
     "execution_count": 354,
     "metadata": {},
     "output_type": "execute_result"
    }
   ],
   "source": [
    "tasks_batch[0].target_algorithm(4)"
   ]
  },
  {
   "cell_type": "code",
   "execution_count": 357,
   "metadata": {},
   "outputs": [
    {
     "data": {
      "text/plain": [
       "tensor([[ 0.2082, -0.6036, -0.5507,  ...,  0.1408, -1.6433,  0.3674],\n",
       "        [ 1.3965, -0.7453, -0.9900,  ..., -0.6727, -0.9394,  0.4809],\n",
       "        [-0.9724, -0.5562, -0.6345,  ...,  0.7861, -0.5117, -0.8092],\n",
       "        ...,\n",
       "        [-1.2343,  0.8121, -0.7531,  ..., -1.5953, -1.3298,  1.3029],\n",
       "        [ 0.3272,  0.8994, -0.5134,  ..., -1.2531, -0.6661,  0.7407],\n",
       "        [ 0.6687, -0.2561, -0.6247,  ..., -1.2886,  0.1497,  0.6931]])"
      ]
     },
     "execution_count": 357,
     "metadata": {},
     "output_type": "execute_result"
    }
   ],
   "source": [
    "recognition_model.featureExtractor.featuresOfTask(tasks_batch[0])"
   ]
  },
  {
   "cell_type": "code",
   "execution_count": 358,
   "metadata": {},
   "outputs": [],
   "source": [
    "embedding = recognition_model.featureExtractor.featuresOfTasks(tasks_batch)\n",
    "simple_programs = [dc.program.Program.parse(program[1]) for program in programs_batch]"
   ]
  },
  {
   "cell_type": "code",
   "execution_count": 361,
   "metadata": {},
   "outputs": [],
   "source": [
    "contextual_grammar = dc.grammar.ContextualGrammar.fromGrammar(grammar)\n"
   ]
  },
  {
   "cell_type": "code",
   "execution_count": 362,
   "metadata": {},
   "outputs": [],
   "source": [
    "summaries = [contextual_grammar.closedLikelihoodSummary(simple_program.infer(), simple_program) for simple_program in simple_programs ]\n"
   ]
  },
  {
   "cell_type": "code",
   "execution_count": 363,
   "metadata": {},
   "outputs": [],
   "source": [
    "\n",
    "optimizer.zero_grad()\n",
    "recognition_model.zero_grad()\n",
    "\n",
    "features = recognition_model._MLP(embedding)"
   ]
  },
  {
   "cell_type": "code",
   "execution_count": 364,
   "metadata": {},
   "outputs": [
    {
     "data": {
      "text/plain": [
       "torch.Size([1, 9, 128])"
      ]
     },
     "execution_count": 364,
     "metadata": {},
     "output_type": "execute_result"
    }
   ],
   "source": [
    "embedding.shape"
   ]
  },
  {
   "cell_type": "code",
   "execution_count": 367,
   "metadata": {},
   "outputs": [
    {
     "data": {
      "text/plain": [
       "torch.Size([1, 9, 64])"
      ]
     },
     "execution_count": 367,
     "metadata": {},
     "output_type": "execute_result"
    }
   ],
   "source": [
    "features.shape"
   ]
  },
  {
   "cell_type": "code",
   "execution_count": 366,
   "metadata": {},
   "outputs": [
    {
     "ename": "AssertionError",
     "evalue": "LowRank expects either a 1-dimensional tensor or a 2-dimensional tensor",
     "output_type": "error",
     "traceback": [
      "\u001b[0;31m---------------------------------------------------------------------------\u001b[0m",
      "\u001b[0;31mAssertionError\u001b[0m                            Traceback (most recent call last)",
      "\u001b[0;32m/var/folders/g6/m3rq3pbs7lq6drdpnnfm1fvjwthg2w/T/ipykernel_14362/1611509519.py\u001b[0m in \u001b[0;36m<module>\u001b[0;34m\u001b[0m\n\u001b[0;32m----> 1\u001b[0;31m \u001b[0mlls\u001b[0m \u001b[0;34m=\u001b[0m \u001b[0mrecognition_model\u001b[0m\u001b[0;34m.\u001b[0m\u001b[0mgrammarBuilder\u001b[0m\u001b[0;34m.\u001b[0m\u001b[0mbatchedLogLikelihoods\u001b[0m\u001b[0;34m(\u001b[0m\u001b[0mfeatures\u001b[0m\u001b[0;34m,\u001b[0m \u001b[0msummaries\u001b[0m\u001b[0;34m)\u001b[0m\u001b[0;34m\u001b[0m\u001b[0;34m\u001b[0m\u001b[0m\n\u001b[0m\u001b[1;32m      2\u001b[0m \u001b[0mloss\u001b[0m \u001b[0;34m=\u001b[0m \u001b[0;34m-\u001b[0m\u001b[0mlls\u001b[0m\u001b[0;34m.\u001b[0m\u001b[0mmean\u001b[0m\u001b[0;34m(\u001b[0m\u001b[0;34m)\u001b[0m\u001b[0;34m\u001b[0m\u001b[0;34m\u001b[0m\u001b[0m\n\u001b[1;32m      3\u001b[0m \u001b[0;34m\u001b[0m\u001b[0m\n\u001b[1;32m      4\u001b[0m \u001b[0mloss\u001b[0m\u001b[0;34m.\u001b[0m\u001b[0mbackward\u001b[0m\u001b[0;34m(\u001b[0m\u001b[0;34m)\u001b[0m\u001b[0;34m\u001b[0m\u001b[0;34m\u001b[0m\u001b[0m\n\u001b[1;32m      5\u001b[0m \u001b[0moptimizer\u001b[0m\u001b[0;34m.\u001b[0m\u001b[0mstep\u001b[0m\u001b[0;34m(\u001b[0m\u001b[0;34m)\u001b[0m\u001b[0;34m\u001b[0m\u001b[0;34m\u001b[0m\u001b[0m\n",
      "\u001b[0;32m~/ownCloud/topics/artificial-scientific-discovery/2021_Unitary-Synthesis/ec/dreamcoder/recognition.py\u001b[0m in \u001b[0;36mbatchedLogLikelihoods\u001b[0;34m(self, xs, summaries)\u001b[0m\n\u001b[1;32m    264\u001b[0m \u001b[0;34m\u001b[0m\u001b[0m\n\u001b[1;32m    265\u001b[0m         \u001b[0;31m# logProductions: Bx n_grammars x G\u001b[0m\u001b[0;34m\u001b[0m\u001b[0;34m\u001b[0m\u001b[0;34m\u001b[0m\u001b[0m\n\u001b[0;32m--> 266\u001b[0;31m         \u001b[0mlogProductions\u001b[0m \u001b[0;34m=\u001b[0m \u001b[0mself\u001b[0m\u001b[0;34m.\u001b[0m\u001b[0mtransitionMatrix\u001b[0m\u001b[0;34m(\u001b[0m\u001b[0mxs\u001b[0m\u001b[0;34m)\u001b[0m\u001b[0;34m\u001b[0m\u001b[0;34m\u001b[0m\u001b[0m\n\u001b[0m\u001b[1;32m    267\u001b[0m         \u001b[0;31m# uses[b][g][p] is # uses of primitive p by summary b for parent g\u001b[0m\u001b[0;34m\u001b[0m\u001b[0;34m\u001b[0m\u001b[0;34m\u001b[0m\u001b[0m\n\u001b[1;32m    268\u001b[0m         \u001b[0muses\u001b[0m \u001b[0;34m=\u001b[0m \u001b[0mnp\u001b[0m\u001b[0;34m.\u001b[0m\u001b[0mzeros\u001b[0m\u001b[0;34m(\u001b[0m\u001b[0;34m(\u001b[0m\u001b[0mB\u001b[0m\u001b[0;34m,\u001b[0m\u001b[0mself\u001b[0m\u001b[0;34m.\u001b[0m\u001b[0mn_grammars\u001b[0m\u001b[0;34m,\u001b[0m\u001b[0mlen\u001b[0m\u001b[0;34m(\u001b[0m\u001b[0mself\u001b[0m\u001b[0;34m.\u001b[0m\u001b[0mgrammar\u001b[0m\u001b[0;34m)\u001b[0m\u001b[0;34m+\u001b[0m\u001b[0;36m1\u001b[0m\u001b[0;34m)\u001b[0m\u001b[0;34m)\u001b[0m\u001b[0;34m\u001b[0m\u001b[0;34m\u001b[0m\u001b[0m\n",
      "\u001b[0;32m~/opt/anaconda3/envs/dc/lib/python3.7/site-packages/torch/nn/modules/module.py\u001b[0m in \u001b[0;36m__call__\u001b[0;34m(self, *input, **kwargs)\u001b[0m\n\u001b[1;32m    491\u001b[0m             \u001b[0mresult\u001b[0m \u001b[0;34m=\u001b[0m \u001b[0mself\u001b[0m\u001b[0;34m.\u001b[0m\u001b[0m_slow_forward\u001b[0m\u001b[0;34m(\u001b[0m\u001b[0;34m*\u001b[0m\u001b[0minput\u001b[0m\u001b[0;34m,\u001b[0m \u001b[0;34m**\u001b[0m\u001b[0mkwargs\u001b[0m\u001b[0;34m)\u001b[0m\u001b[0;34m\u001b[0m\u001b[0;34m\u001b[0m\u001b[0m\n\u001b[1;32m    492\u001b[0m         \u001b[0;32melse\u001b[0m\u001b[0;34m:\u001b[0m\u001b[0;34m\u001b[0m\u001b[0;34m\u001b[0m\u001b[0m\n\u001b[0;32m--> 493\u001b[0;31m             \u001b[0mresult\u001b[0m \u001b[0;34m=\u001b[0m \u001b[0mself\u001b[0m\u001b[0;34m.\u001b[0m\u001b[0mforward\u001b[0m\u001b[0;34m(\u001b[0m\u001b[0;34m*\u001b[0m\u001b[0minput\u001b[0m\u001b[0;34m,\u001b[0m \u001b[0;34m**\u001b[0m\u001b[0mkwargs\u001b[0m\u001b[0;34m)\u001b[0m\u001b[0;34m\u001b[0m\u001b[0;34m\u001b[0m\u001b[0m\n\u001b[0m\u001b[1;32m    494\u001b[0m         \u001b[0;32mfor\u001b[0m \u001b[0mhook\u001b[0m \u001b[0;32min\u001b[0m \u001b[0mself\u001b[0m\u001b[0;34m.\u001b[0m\u001b[0m_forward_hooks\u001b[0m\u001b[0;34m.\u001b[0m\u001b[0mvalues\u001b[0m\u001b[0;34m(\u001b[0m\u001b[0;34m)\u001b[0m\u001b[0;34m:\u001b[0m\u001b[0;34m\u001b[0m\u001b[0;34m\u001b[0m\u001b[0m\n\u001b[1;32m    495\u001b[0m             \u001b[0mhook_result\u001b[0m \u001b[0;34m=\u001b[0m \u001b[0mhook\u001b[0m\u001b[0;34m(\u001b[0m\u001b[0mself\u001b[0m\u001b[0;34m,\u001b[0m \u001b[0minput\u001b[0m\u001b[0;34m,\u001b[0m \u001b[0mresult\u001b[0m\u001b[0;34m)\u001b[0m\u001b[0;34m\u001b[0m\u001b[0;34m\u001b[0m\u001b[0m\n",
      "\u001b[0;32m~/ownCloud/topics/artificial-scientific-discovery/2021_Unitary-Synthesis/ec/dreamcoder/recognition.py\u001b[0m in \u001b[0;36mforward\u001b[0;34m(self, x)\u001b[0m\n\u001b[1;32m   1404\u001b[0m             \u001b[0mneedToSqueeze\u001b[0m \u001b[0;34m=\u001b[0m \u001b[0;32mFalse\u001b[0m\u001b[0;34m\u001b[0m\u001b[0;34m\u001b[0m\u001b[0m\n\u001b[1;32m   1405\u001b[0m         \u001b[0;32melse\u001b[0m\u001b[0;34m:\u001b[0m\u001b[0;34m\u001b[0m\u001b[0;34m\u001b[0m\u001b[0m\n\u001b[0;32m-> 1406\u001b[0;31m             \u001b[0;32massert\u001b[0m \u001b[0;32mFalse\u001b[0m\u001b[0;34m,\u001b[0m \u001b[0;34m\"LowRank expects either a 1-dimensional tensor or a 2-dimensional tensor\"\u001b[0m\u001b[0;34m\u001b[0m\u001b[0;34m\u001b[0m\u001b[0m\n\u001b[0m\u001b[1;32m   1407\u001b[0m \u001b[0;34m\u001b[0m\u001b[0m\n\u001b[1;32m   1408\u001b[0m         \u001b[0;32mif\u001b[0m \u001b[0mself\u001b[0m\u001b[0;34m.\u001b[0m\u001b[0mfactored\u001b[0m\u001b[0;34m:\u001b[0m\u001b[0;34m\u001b[0m\u001b[0;34m\u001b[0m\u001b[0m\n",
      "\u001b[0;31mAssertionError\u001b[0m: LowRank expects either a 1-dimensional tensor or a 2-dimensional tensor"
     ]
    }
   ],
   "source": [
    "lls = recognition_model.grammarBuilder.batchedLogLikelihoods(features, summaries)\n",
    "loss = -lls.mean() \n",
    "\n",
    "loss.backward()\n",
    "optimizer.step()\n",
    "losses.append(loss.data.item())"
   ]
  },
  {
   "cell_type": "code",
   "execution_count": null,
   "metadata": {},
   "outputs": [],
   "source": [
    "programs_batch = random.sample(matched_programs, batch_size)\n",
    "tasks_batch = [QuantumTask(i,lambda n_qubit, program=program: dc.program.Program.parse(program[0]).evaluate([])(f_no_op(n_qubit)))\n",
    "            for i, program in enumerate(programs_batch)]\n",
    "embedding = recognition_model.featureExtractor.featuresOfTasks(tasks_batch)\n",
    "simple_programs = [dc.program.Program.parse(program[1]) for program in programs_batch]\n",
    "contextual_grammar = dc.grammar.ContextualGrammar.fromGrammar(grammar)\n",
    "\n",
    "summaries = [contextual_grammar.closedLikelihoodSummary(simple_program.infer(), simple_program) for simple_program in simple_programs ]\n",
    "\n",
    "# summaries = [grammar.closedLikelihoodSummary(simple_program.infer(), simple_program) for simple_program in simple_programs ]\n",
    "\n",
    "optimizer.zero_grad()\n",
    "recognition_model.zero_grad()\n",
    "\n",
    "features = recognition_model._MLP(embedding)\n",
    "lls = recognition_model.grammarBuilder.batchedLogLikelihoods(features, summaries)\n",
    "loss = -lls.mean() \n",
    "\n",
    "loss.backward()\n",
    "optimizer.step()\n",
    "losses.append(loss.data.item())"
   ]
  },
  {
   "cell_type": "code",
   "execution_count": null,
   "metadata": {},
   "outputs": [],
   "source": []
  },
  {
   "cell_type": "code",
   "execution_count": null,
   "metadata": {},
   "outputs": [
    {
     "name": "stderr",
     "output_type": "stream",
     "text": [
      " 30%|██▉       | 17889/60000 [1:05:14<2:33:34,  4.57it/s] \n"
     ]
    },
    {
     "ename": "KeyboardInterrupt",
     "evalue": "",
     "output_type": "error",
     "traceback": [
      "\u001b[0;31m---------------------------------------------------------------------------\u001b[0m\n",
      "\u001b[0;31mKeyboardInterrupt\u001b[0m                         Traceback (most recent call last)\n",
      "\u001b[0;32m/var/folders/g6/m3rq3pbs7lq6drdpnnfm1fvjwthg2w/T/ipykernel_60137/4128727099.py\u001b[0m in \u001b[0;36m<module>\u001b[0;34m\u001b[0m\n",
      "\u001b[1;32m      4\u001b[0m     \u001b[0mprograms_batch\u001b[0m \u001b[0;34m=\u001b[0m \u001b[0mrandom\u001b[0m\u001b[0;34m.\u001b[0m\u001b[0msample\u001b[0m\u001b[0;34m(\u001b[0m\u001b[0mmatched_programs\u001b[0m\u001b[0;34m,\u001b[0m \u001b[0mbatch_size\u001b[0m\u001b[0;34m)\u001b[0m\u001b[0;34m\u001b[0m\u001b[0;34m\u001b[0m\u001b[0m\n",
      "\u001b[1;32m      5\u001b[0m     tasks_batch = [QuantumTask(i,lambda n_qubit, program=program: dc.program.Program.parse(program[0]).evaluate([])(f_no_op(n_qubit)))\n",
      "\u001b[0;32m----> 6\u001b[0;31m                    for i, program in enumerate(programs_batch)]\n",
      "\u001b[0m\u001b[1;32m      7\u001b[0m     \u001b[0membedding\u001b[0m \u001b[0;34m=\u001b[0m \u001b[0mrecognition_model\u001b[0m\u001b[0;34m.\u001b[0m\u001b[0mfeatureExtractor\u001b[0m\u001b[0;34m.\u001b[0m\u001b[0mfeaturesOfTasks\u001b[0m\u001b[0;34m(\u001b[0m\u001b[0mtasks_batch\u001b[0m\u001b[0;34m)\u001b[0m\u001b[0;34m\u001b[0m\u001b[0;34m\u001b[0m\u001b[0m\n",
      "\u001b[1;32m      8\u001b[0m     \u001b[0msimple_programs\u001b[0m \u001b[0;34m=\u001b[0m \u001b[0;34m[\u001b[0m\u001b[0mdc\u001b[0m\u001b[0;34m.\u001b[0m\u001b[0mprogram\u001b[0m\u001b[0;34m.\u001b[0m\u001b[0mProgram\u001b[0m\u001b[0;34m.\u001b[0m\u001b[0mparse\u001b[0m\u001b[0;34m(\u001b[0m\u001b[0mprogram\u001b[0m\u001b[0;34m[\u001b[0m\u001b[0;36m1\u001b[0m\u001b[0;34m]\u001b[0m\u001b[0;34m)\u001b[0m \u001b[0;32mfor\u001b[0m \u001b[0mprogram\u001b[0m \u001b[0;32min\u001b[0m \u001b[0mprograms_batch\u001b[0m\u001b[0;34m]\u001b[0m\u001b[0;34m\u001b[0m\u001b[0;34m\u001b[0m\u001b[0m\n",
      "\n",
      "\u001b[0;32m/var/folders/g6/m3rq3pbs7lq6drdpnnfm1fvjwthg2w/T/ipykernel_60137/4128727099.py\u001b[0m in \u001b[0;36m<listcomp>\u001b[0;34m(.0)\u001b[0m\n",
      "\u001b[1;32m      4\u001b[0m     \u001b[0mprograms_batch\u001b[0m \u001b[0;34m=\u001b[0m \u001b[0mrandom\u001b[0m\u001b[0;34m.\u001b[0m\u001b[0msample\u001b[0m\u001b[0;34m(\u001b[0m\u001b[0mmatched_programs\u001b[0m\u001b[0;34m,\u001b[0m \u001b[0mbatch_size\u001b[0m\u001b[0;34m)\u001b[0m\u001b[0;34m\u001b[0m\u001b[0;34m\u001b[0m\u001b[0m\n",
      "\u001b[1;32m      5\u001b[0m     tasks_batch = [QuantumTask(i,lambda n_qubit, program=program: dc.program.Program.parse(program[0]).evaluate([])(f_no_op(n_qubit)))\n",
      "\u001b[0;32m----> 6\u001b[0;31m                    for i, program in enumerate(programs_batch)]\n",
      "\u001b[0m\u001b[1;32m      7\u001b[0m     \u001b[0membedding\u001b[0m \u001b[0;34m=\u001b[0m \u001b[0mrecognition_model\u001b[0m\u001b[0;34m.\u001b[0m\u001b[0mfeatureExtractor\u001b[0m\u001b[0;34m.\u001b[0m\u001b[0mfeaturesOfTasks\u001b[0m\u001b[0;34m(\u001b[0m\u001b[0mtasks_batch\u001b[0m\u001b[0;34m)\u001b[0m\u001b[0;34m\u001b[0m\u001b[0;34m\u001b[0m\u001b[0m\n",
      "\u001b[1;32m      8\u001b[0m     \u001b[0msimple_programs\u001b[0m \u001b[0;34m=\u001b[0m \u001b[0;34m[\u001b[0m\u001b[0mdc\u001b[0m\u001b[0;34m.\u001b[0m\u001b[0mprogram\u001b[0m\u001b[0;34m.\u001b[0m\u001b[0mProgram\u001b[0m\u001b[0;34m.\u001b[0m\u001b[0mparse\u001b[0m\u001b[0;34m(\u001b[0m\u001b[0mprogram\u001b[0m\u001b[0;34m[\u001b[0m\u001b[0;36m1\u001b[0m\u001b[0;34m]\u001b[0m\u001b[0;34m)\u001b[0m \u001b[0;32mfor\u001b[0m \u001b[0mprogram\u001b[0m \u001b[0;32min\u001b[0m \u001b[0mprograms_batch\u001b[0m\u001b[0;34m]\u001b[0m\u001b[0;34m\u001b[0m\u001b[0;34m\u001b[0m\u001b[0m\n",
      "\n",
      "\u001b[0;32m~/ownCloud/topics/artificial-scientific-discovery/2021_Unitary-Synthesis/ec/dreamcoder/domains/quantum_algorithms/tasks.py\u001b[0m in \u001b[0;36m__init__\u001b[0;34m(self, name, target_algorithm)\u001b[0m\n",
      "\u001b[1;32m     12\u001b[0m     \u001b[0;32mdef\u001b[0m \u001b[0m__init__\u001b[0m\u001b[0;34m(\u001b[0m\u001b[0mself\u001b[0m\u001b[0;34m,\u001b[0m \u001b[0mname\u001b[0m\u001b[0;34m,\u001b[0m \u001b[0mtarget_algorithm\u001b[0m\u001b[0;34m)\u001b[0m\u001b[0;34m:\u001b[0m\u001b[0;34m\u001b[0m\u001b[0;34m\u001b[0m\u001b[0m\n",
      "\u001b[1;32m     13\u001b[0m         \u001b[0mself\u001b[0m\u001b[0;34m.\u001b[0m\u001b[0mtarget_algorithm\u001b[0m \u001b[0;34m=\u001b[0m \u001b[0mtarget_algorithm\u001b[0m\u001b[0;34m\u001b[0m\u001b[0;34m\u001b[0m\u001b[0m\n",
      "\u001b[0;32m---> 14\u001b[0;31m         \u001b[0mself\u001b[0m\u001b[0;34m.\u001b[0m\u001b[0mtarget_algorithm_evaluations\u001b[0m \u001b[0;34m=\u001b[0m \u001b[0;34m{\u001b[0m\u001b[0mn\u001b[0m\u001b[0;34m:\u001b[0m \u001b[0mfull_circuit_to_mat\u001b[0m\u001b[0;34m(\u001b[0m\u001b[0mtarget_algorithm\u001b[0m\u001b[0;34m(\u001b[0m\u001b[0mn\u001b[0m\u001b[0;34m)\u001b[0m\u001b[0;34m)\u001b[0m \u001b[0;32mfor\u001b[0m \u001b[0mn\u001b[0m \u001b[0;32min\u001b[0m \u001b[0mrange\u001b[0m\u001b[0;34m(\u001b[0m\u001b[0mself\u001b[0m\u001b[0;34m.\u001b[0m\u001b[0mmin_size\u001b[0m\u001b[0;34m,\u001b[0m \u001b[0mself\u001b[0m\u001b[0;34m.\u001b[0m\u001b[0mmax_size\u001b[0m\u001b[0;34m)\u001b[0m\u001b[0;34m}\u001b[0m\u001b[0;34m\u001b[0m\u001b[0;34m\u001b[0m\u001b[0m\n",
      "\u001b[0m\u001b[1;32m     15\u001b[0m \u001b[0;34m\u001b[0m\u001b[0m\n",
      "\u001b[1;32m     16\u001b[0m         super(QuantumTask, self).__init__(name=name,\n",
      "\n",
      "\u001b[0;32m~/ownCloud/topics/artificial-scientific-discovery/2021_Unitary-Synthesis/ec/dreamcoder/domains/quantum_algorithms/tasks.py\u001b[0m in \u001b[0;36m<dictcomp>\u001b[0;34m(.0)\u001b[0m\n",
      "\u001b[1;32m     12\u001b[0m     \u001b[0;32mdef\u001b[0m \u001b[0m__init__\u001b[0m\u001b[0;34m(\u001b[0m\u001b[0mself\u001b[0m\u001b[0;34m,\u001b[0m \u001b[0mname\u001b[0m\u001b[0;34m,\u001b[0m \u001b[0mtarget_algorithm\u001b[0m\u001b[0;34m)\u001b[0m\u001b[0;34m:\u001b[0m\u001b[0;34m\u001b[0m\u001b[0;34m\u001b[0m\u001b[0m\n",
      "\u001b[1;32m     13\u001b[0m         \u001b[0mself\u001b[0m\u001b[0;34m.\u001b[0m\u001b[0mtarget_algorithm\u001b[0m \u001b[0;34m=\u001b[0m \u001b[0mtarget_algorithm\u001b[0m\u001b[0;34m\u001b[0m\u001b[0;34m\u001b[0m\u001b[0m\n",
      "\u001b[0;32m---> 14\u001b[0;31m         \u001b[0mself\u001b[0m\u001b[0;34m.\u001b[0m\u001b[0mtarget_algorithm_evaluations\u001b[0m \u001b[0;34m=\u001b[0m \u001b[0;34m{\u001b[0m\u001b[0mn\u001b[0m\u001b[0;34m:\u001b[0m \u001b[0mfull_circuit_to_mat\u001b[0m\u001b[0;34m(\u001b[0m\u001b[0mtarget_algorithm\u001b[0m\u001b[0;34m(\u001b[0m\u001b[0mn\u001b[0m\u001b[0;34m)\u001b[0m\u001b[0;34m)\u001b[0m \u001b[0;32mfor\u001b[0m \u001b[0mn\u001b[0m \u001b[0;32min\u001b[0m \u001b[0mrange\u001b[0m\u001b[0;34m(\u001b[0m\u001b[0mself\u001b[0m\u001b[0;34m.\u001b[0m\u001b[0mmin_size\u001b[0m\u001b[0;34m,\u001b[0m \u001b[0mself\u001b[0m\u001b[0;34m.\u001b[0m\u001b[0mmax_size\u001b[0m\u001b[0;34m)\u001b[0m\u001b[0;34m}\u001b[0m\u001b[0;34m\u001b[0m\u001b[0;34m\u001b[0m\u001b[0m\n",
      "\u001b[0m\u001b[1;32m     15\u001b[0m \u001b[0;34m\u001b[0m\u001b[0m\n",
      "\u001b[1;32m     16\u001b[0m         super(QuantumTask, self).__init__(name=name,\n",
      "\n",
      "\u001b[0;32m~/ownCloud/topics/artificial-scientific-discovery/2021_Unitary-Synthesis/ec/dreamcoder/domains/quantum_algorithms/primitives.py\u001b[0m in \u001b[0;36mfull_circuit_to_mat\u001b[0;34m(full_circuit)\u001b[0m\n",
      "\u001b[1;32m    138\u001b[0m     \u001b[0;32mfor\u001b[0m \u001b[0mop\u001b[0m \u001b[0;32min\u001b[0m \u001b[0mop_list\u001b[0m\u001b[0;34m:\u001b[0m\u001b[0;34m\u001b[0m\u001b[0;34m\u001b[0m\u001b[0m\n",
      "\u001b[1;32m    139\u001b[0m \u001b[0;34m\u001b[0m\u001b[0m\n",
      "\u001b[0;32m--> 140\u001b[0;31m         \u001b[0mtensor\u001b[0m \u001b[0;34m=\u001b[0m \u001b[0mfull_op_names\u001b[0m\u001b[0;34m[\u001b[0m\u001b[0mop\u001b[0m\u001b[0;34m[\u001b[0m\u001b[0;36m0\u001b[0m\u001b[0;34m]\u001b[0m\u001b[0;34m]\u001b[0m\u001b[0;34m(\u001b[0m\u001b[0mtensor\u001b[0m\u001b[0;34m,\u001b[0m \u001b[0;34m*\u001b[0m\u001b[0mop\u001b[0m\u001b[0;34m[\u001b[0m\u001b[0;36m1\u001b[0m\u001b[0;34m:\u001b[0m\u001b[0;34m]\u001b[0m\u001b[0;34m)\u001b[0m\u001b[0;34m\u001b[0m\u001b[0;34m\u001b[0m\u001b[0m\n",
      "\u001b[0m\u001b[1;32m    141\u001b[0m \u001b[0;34m\u001b[0m\u001b[0m\n",
      "\u001b[1;32m    142\u001b[0m     \u001b[0;32mreturn\u001b[0m \u001b[0mtensor_to_mat\u001b[0m\u001b[0;34m(\u001b[0m\u001b[0mtensor\u001b[0m\u001b[0;34m)\u001b[0m\u001b[0;34m\u001b[0m\u001b[0;34m\u001b[0m\u001b[0m\n",
      "\n",
      "\u001b[0;32m~/ownCloud/topics/artificial-scientific-discovery/2021_Unitary-Synthesis/ec/dreamcoder/domains/quantum_algorithms/primitives.py\u001b[0m in \u001b[0;36mhadamard\u001b[0;34m(circuit, qubit_1)\u001b[0m\n",
      "\u001b[1;32m     93\u001b[0m \u001b[0;34m\u001b[0m\u001b[0m\n",
      "\u001b[1;32m     94\u001b[0m \u001b[0;32mdef\u001b[0m \u001b[0mhadamard\u001b[0m\u001b[0;34m(\u001b[0m\u001b[0mcircuit\u001b[0m\u001b[0;34m,\u001b[0m \u001b[0mqubit_1\u001b[0m\u001b[0;34m)\u001b[0m\u001b[0;34m:\u001b[0m\u001b[0;34m\u001b[0m\u001b[0;34m\u001b[0m\u001b[0m\n",
      "\u001b[0;32m---> 95\u001b[0;31m     \u001b[0;32mreturn\u001b[0m \u001b[0mtensor_contraction\u001b[0m\u001b[0;34m(\u001b[0m\u001b[0mcircuit\u001b[0m\u001b[0;34m,\u001b[0m \u001b[0mtensor_hadamard\u001b[0m\u001b[0;34m,\u001b[0m \u001b[0;34m[\u001b[0m\u001b[0mqubit_1\u001b[0m\u001b[0;34m]\u001b[0m\u001b[0;34m)\u001b[0m\u001b[0;34m\u001b[0m\u001b[0;34m\u001b[0m\u001b[0m\n",
      "\u001b[0m\u001b[1;32m     96\u001b[0m \u001b[0;34m\u001b[0m\u001b[0m\n",
      "\u001b[1;32m     97\u001b[0m \u001b[0;34m\u001b[0m\u001b[0m\n",
      "\n",
      "\u001b[0;32m~/ownCloud/topics/artificial-scientific-discovery/2021_Unitary-Synthesis/ec/dreamcoder/domains/quantum_algorithms/primitives.py\u001b[0m in \u001b[0;36mtensor_contraction\u001b[0;34m(A, B, indices)\u001b[0m\n",
      "\u001b[1;32m     44\u001b[0m \u001b[0;32mdef\u001b[0m \u001b[0mtensor_contraction\u001b[0m\u001b[0;34m(\u001b[0m\u001b[0mA\u001b[0m\u001b[0;34m,\u001b[0m \u001b[0mB\u001b[0m\u001b[0;34m,\u001b[0m \u001b[0mindices\u001b[0m\u001b[0;34m)\u001b[0m\u001b[0;34m:\u001b[0m\u001b[0;34m\u001b[0m\u001b[0;34m\u001b[0m\u001b[0m\n",
      "\u001b[1;32m     45\u001b[0m     \u001b[0mn_qubits\u001b[0m \u001b[0;34m=\u001b[0m \u001b[0mget_qubit_number\u001b[0m\u001b[0;34m(\u001b[0m\u001b[0mA\u001b[0m\u001b[0;34m)\u001b[0m\u001b[0;34m\u001b[0m\u001b[0;34m\u001b[0m\u001b[0m\n",
      "\u001b[0;32m---> 46\u001b[0;31m     \u001b[0midx\u001b[0m \u001b[0;34m=\u001b[0m \u001b[0;34m[\u001b[0m\u001b[0mi\u001b[0m \u001b[0;34m+\u001b[0m \u001b[0mn_qubits\u001b[0m \u001b[0;32mfor\u001b[0m \u001b[0mi\u001b[0m \u001b[0;32min\u001b[0m \u001b[0mindices\u001b[0m\u001b[0;34m]\u001b[0m\u001b[0;34m\u001b[0m\u001b[0;34m\u001b[0m\u001b[0m\n",
      "\u001b[0m\u001b[1;32m     47\u001b[0m     \u001b[0mout\u001b[0m \u001b[0;34m=\u001b[0m \u001b[0mnp\u001b[0m\u001b[0;34m.\u001b[0m\u001b[0mtensordot\u001b[0m\u001b[0;34m(\u001b[0m\u001b[0mA\u001b[0m\u001b[0;34m,\u001b[0m \u001b[0mB\u001b[0m\u001b[0;34m,\u001b[0m \u001b[0;34m(\u001b[0m\u001b[0midx\u001b[0m\u001b[0;34m,\u001b[0m \u001b[0mnp\u001b[0m\u001b[0;34m.\u001b[0m\u001b[0marange\u001b[0m\u001b[0;34m(\u001b[0m\u001b[0mlen\u001b[0m\u001b[0;34m(\u001b[0m\u001b[0mindices\u001b[0m\u001b[0;34m)\u001b[0m\u001b[0;34m)\u001b[0m\u001b[0;34m)\u001b[0m\u001b[0;34m)\u001b[0m\u001b[0;34m\u001b[0m\u001b[0;34m\u001b[0m\u001b[0m\n",
      "\u001b[1;32m     48\u001b[0m     \u001b[0;32mreturn\u001b[0m \u001b[0mnp\u001b[0m\u001b[0;34m.\u001b[0m\u001b[0mmoveaxis\u001b[0m\u001b[0;34m(\u001b[0m\u001b[0mout\u001b[0m\u001b[0;34m,\u001b[0m \u001b[0mnp\u001b[0m\u001b[0;34m.\u001b[0m\u001b[0marange\u001b[0m\u001b[0;34m(\u001b[0m\u001b[0;34m-\u001b[0m\u001b[0mlen\u001b[0m\u001b[0;34m(\u001b[0m\u001b[0mindices\u001b[0m\u001b[0;34m)\u001b[0m\u001b[0;34m,\u001b[0m \u001b[0;36m0\u001b[0m\u001b[0;34m,\u001b[0m \u001b[0;36m1\u001b[0m\u001b[0;34m)\u001b[0m\u001b[0;34m,\u001b[0m \u001b[0midx\u001b[0m\u001b[0;34m)\u001b[0m\u001b[0;34m\u001b[0m\u001b[0;34m\u001b[0m\u001b[0m\n",
      "\n",
      "\u001b[0;31mKeyboardInterrupt\u001b[0m: "
     ]
    }
   ],
   "source": [
    "batch_size = 32\n",
    "n_steps = 60000\n",
    "for _ in trange(n_steps):\n",
    "    programs_batch = random.sample(matched_programs, batch_size)\n",
    "    tasks_batch = [QuantumTask(i,lambda n_qubit, program=program: dc.program.Program.parse(program[0]).evaluate([])(f_no_op(n_qubit)))\n",
    "                   for i, program in enumerate(programs_batch)]\n",
    "    embedding = recognition_model.featureExtractor.featuresOfTasks(tasks_batch)\n",
    "    simple_programs = [dc.program.Program.parse(program[1]) for program in programs_batch]\n",
    "    contextual_grammar = dc.grammar.ContextualGrammar.fromGrammar(grammar)\n",
    "    \n",
    "    summaries = [contextual_grammar.closedLikelihoodSummary(simple_program.infer(), simple_program) for simple_program in simple_programs ]\n",
    "    \n",
    "    # summaries = [grammar.closedLikelihoodSummary(simple_program.infer(), simple_program) for simple_program in simple_programs ]\n",
    "\n",
    "    optimizer.zero_grad()\n",
    "    recognition_model.zero_grad()\n",
    "    \n",
    "    features = recognition_model._MLP(embedding)\n",
    "    lls = recognition_model.grammarBuilder.batchedLogLikelihoods(features, summaries)\n",
    "    loss = -lls.mean() \n",
    "    \n",
    "    loss.backward()\n",
    "    optimizer.step()\n",
    "    losses.append(loss.data.item())"
   ]
  },
  {
   "cell_type": "code",
   "execution_count": null,
   "metadata": {},
   "outputs": [
    {
     "data": {
      "image/png": "[encoded data removed]",
      "text/plain": [
       "<Figure size 432x288 with 1 Axes>"
      ]
     },
     "metadata": {},
     "output_type": "display_data"
    }
   ],
   "source": [
    "plt.figure()\n",
    "plt.plot(losses)\n",
    "plt.show()"
   ]
  },
  {
   "cell_type": "code",
   "execution_count": null,
   "metadata": {},
   "outputs": [
    {
     "data": {
      "text/plain": [
       "(-30.015330809014166, tensor([-17.8723], grad_fn=<AddBackward0>))"
      ]
     },
     "metadata": {},
     "output_type": "display_data"
    }
   ],
   "source": [
    "i = 1000 # program we are testing\n",
    "task = QuantumTask(i,lambda n_qubit, program=matched_programs[i]: dc.program.Program.parse(program[0]).evaluate([])(f_no_op(n_qubit)))\n",
    "code =  dc.program.Program.parse(matched_programs[i][1])\n",
    "embedding = recognition_model.featureExtractor.featuresOfTask(task)\n",
    "predicted_grammar_of_task = recognition_model(embedding)\n",
    "grammar.logLikelihood(code.infer(),code), predicted_grammar_of_task.logLikelihood(code.infer(),code)\n"
   ]
  },
  {
   "cell_type": "code",
   "execution_count": null,
   "metadata": {},
   "outputs": [
    {
     "name": "stderr",
     "output_type": "stream",
     "text": [
      "          ┌───┐┌───┐┌───┐     ┌───┐     ┌───┐\n",
      "q_0: ──■──┤ H ├┤ H ├┤ H ├──■──┤ H ├──■──┤ H ├\n",
      "     ┌─┴─┐└───┘└───┘└───┘┌─┴─┐└───┘┌─┴─┐└───┘\n",
      "q_1: ┤ X ├──■────────────┤ X ├─────┤ X ├─────\n",
      "     └───┘┌─┴─┐          └───┘     └───┘     \n",
      "q_2: ─────┤ X ├──────────────────────────────\n",
      "          └───┘                              \n",
      "q_3: ────────────────────────────────────────\n",
      "                                             \n"
     ]
    }
   ],
   "source": [
    "print_circuit(dc.program.Program.parse(matched_programs[-100][1]).evaluate([])(no_op(4)))"
   ]
  },
  {
   "cell_type": "code",
   "execution_count": null,
   "metadata": {},
   "outputs": [
    {
     "data": {
      "text/plain": [
       "(-7.783640596221253, tensor([-6.8125], grad_fn=<AddBackward0>))"
      ]
     },
     "metadata": {},
     "output_type": "display_data"
    }
   ],
   "source": [
    "task = get_task_from_name(\"cnot_10\",tasks)\n",
    "code = dc.program.Program.parse(\"(lambda (cnot (minv(mv( $0)))))\")\n",
    "\n",
    "embedding = recognition_model.featureExtractor.featuresOfTask(task)\n",
    "predicted_grammar_of_task = recognition_model(embedding)\n",
    "\n",
    "grammar.logLikelihood(code.infer(),code), predicted_grammar_of_task.logLikelihood(code.infer(),code)"
   ]
  },
  {
   "cell_type": "code",
   "execution_count": null,
   "metadata": {},
   "outputs": [
    {
     "data": {
      "text/plain": [
       "(-15.567281192442506, tensor([-15.9545], grad_fn=<AddBackward0>))"
      ]
     },
     "metadata": {},
     "output_type": "display_data"
    }
   ],
   "source": [
    "task = get_task_from_name(\"swap_01\",tasks)\n",
    "code = dc.program.Program.parse(\"(lambda  (cnot(minv(mv_r(cnot(minv (mv (cnot  $0))))))))\")\n",
    "\n",
    "embedding = recognition_model.featureExtractor.featuresOfTask(task)\n",
    "predicted_grammar_of_task = recognition_model(embedding)\n",
    "\n",
    "grammar.logLikelihood(code.infer(),code), predicted_grammar_of_task.logLikelihood(code.infer(),code)"
   ]
  },
  {
   "cell_type": "code",
   "execution_count": null,
   "metadata": {},
   "outputs": [
    {
     "data": {
      "text/plain": [
       "(-53.633315382926966, tensor([-53.3285], grad_fn=<AddBackward0>))"
      ]
     },
     "metadata": {},
     "output_type": "display_data"
    }
   ],
   "source": [
    "task = get_task_from_name(\"swap_0n\",tasks)\n",
    "code = dc.program.Program.parse(\"(lambda ((  (rep (dec(dec(size $0))) (lambda ((cnot(minv(mv_r(cnot(minv (mv (cnot(mv_r $0)))))))))) )  (mv_r( (rep (dec(size $0)) (lambda (mv((cnot(minv(mv_r(cnot(minv (mv (cnot $0)))))))))) )  $0 )))))\")\n",
    "\n",
    "embedding = recognition_model.featureExtractor.featuresOfTask(task)\n",
    "predicted_grammar_of_task = recognition_model(embedding)\n",
    "\n",
    "grammar.logLikelihood(code.infer(),code), predicted_grammar_of_task.logLikelihood(code.infer(),code)"
   ]
  },
  {
   "cell_type": "code",
   "execution_count": null,
   "metadata": {},
   "outputs": [
    {
     "data": {
      "text/plain": [
       "0.0"
      ]
     },
     "metadata": {},
     "output_type": "display_data"
    }
   ],
   "source": [
    "task.logLikelihood(code)"
   ]
  },
  {
   "cell_type": "code",
   "execution_count": null,
   "metadata": {},
   "outputs": [],
   "source": []
  },
  {
   "cell_type": "code",
   "execution_count": null,
   "metadata": {},
   "outputs": [],
   "source": [
    "# Embedding should take into account values for multiple n_qubits values\n",
    "# Task augmentation by merging to matched tasks\n",
    "# Fix Rep problems"
   ]
  },
  {
   "cell_type": "code",
   "execution_count": null,
   "metadata": {},
   "outputs": [],
   "source": [
    "# Problem when merging two programs: low-level programs should reset state?\n",
    "# Great has strong dropout? \n",
    "# Great output shape should be fixed (independent on vertex number)\n"
   ]
  },
  {
   "cell_type": "markdown",
   "metadata": {},
   "source": [
    "---"
   ]
  },
  {
   "cell_type": "markdown",
   "metadata": {},
   "source": [
    "#### Enumerating arithmetic"
   ]
  },
  {
   "cell_type": "code",
   "execution_count": null,
   "metadata": {},
   "outputs": [
    {
     "name": "stderr",
     "output_type": "stream",
     "text": [
      "[(lambda 0)]\n"
     ]
    },
    {
     "name": "stdout",
     "output_type": "stream",
     "text": [
      "(lambda $0)\n",
      "(lambda (inc $0))\n",
      "(lambda (dec $0))\n",
      "(lambda (inc (inc $0)))\n",
      "(lambda (dec (dec $0)))\n",
      "(lambda (inc (inc (inc $0))))\n",
      "(lambda (dec (dec (dec $0))))\n",
      "(lambda (inc (inc (inc (inc $0)))))\n",
      "(lambda (dec (dec (dec (dec $0)))))\n",
      "(lambda (inc (inc (inc (inc (inc $0))))))\n",
      "(lambda (dec (dec (dec (dec (dec $0))))))\n",
      "(lambda (inc (inc (inc (inc (inc (inc $0)))))))\n",
      "(lambda (dec (dec (dec (dec (dec (dec $0)))))))\n",
      "(lambda (inc (inc (inc (inc (inc (inc (inc $0))))))))\n",
      "(lambda (dec (dec (dec (dec (dec (dec (dec $0))))))))\n",
      "(lambda (inc (inc (inc (inc (inc (inc (inc (inc $0)))))))))\n",
      "(lambda (dec (dec (dec (dec (dec (dec (dec (dec $0)))))))))\n",
      "(lambda (inc (inc (inc (inc (inc (inc (inc (inc (inc $0))))))))))\n",
      "(lambda (dec (dec (dec (dec (dec (dec (dec (dec (dec $0))))))))))\n",
      "(lambda (inc (inc (inc (inc (inc (inc (inc (inc (inc (inc $0)))))))))))\n",
      "(lambda (dec (dec (dec (dec (dec (dec (dec (dec (dec (dec $0)))))))))))\n",
      "(lambda (inc (inc (inc (inc (inc (inc (inc (inc (inc (inc (inc $0))))))))))))\n",
      "(lambda (dec (dec (dec (dec (dec (dec (dec (dec (dec (dec (dec $0))))))))))))\n",
      "(lambda (inc (inc (inc (inc (inc (inc (inc (inc (inc (inc (inc (inc $0)))))))))))))\n",
      "(lambda (dec (dec (dec (dec (dec (dec (dec (dec (dec (dec (dec (dec $0)))))))))))))\n",
      "(lambda (inc (inc (inc (inc (inc (inc (inc (inc (inc (inc (inc (inc (inc $0))))))))))))))\n",
      "(lambda (dec (dec (dec (dec (dec (dec (dec (dec (dec (dec (dec (dec (dec $0))))))))))))))\n",
      "(lambda (inc (inc (inc (inc (inc (inc (inc (inc (inc (inc (inc (inc (inc (inc $0)))))))))))))))\n",
      "(lambda (dec (dec (dec (dec (dec (dec (dec (dec (dec (dec (dec (dec (dec (dec $0)))))))))))))))\n",
      "(lambda (inc (inc (inc (inc (inc (inc (inc (inc (inc (inc (inc (inc (inc (inc (inc $0))))))))))))))))\n",
      "(lambda (dec (dec (dec (dec (dec (dec (dec (dec (dec (dec (dec (dec (dec (dec (dec $0))))))))))))))))\n",
      "(lambda (inc (inc (inc (inc (inc (inc (inc (inc (inc (inc (inc (inc (inc (inc (inc (inc $0)))))))))))))))))\n",
      "(lambda (dec (dec (dec (dec (dec (dec (dec (dec (dec (dec (dec (dec (dec (dec (dec (dec $0)))))))))))))))))\n",
      "(lambda (inc (inc (inc (inc (inc (inc (inc (inc (inc (inc (inc (inc (inc (inc (inc (inc (inc $0))))))))))))))))))\n",
      "(lambda (dec (dec (dec (dec (dec (dec (dec (dec (dec (dec (dec (dec (dec (dec (dec (dec (dec $0))))))))))))))))))\n",
      "(lambda (inc (inc (inc (inc (inc (inc (inc (inc (inc (inc (inc (inc (inc (inc (inc (inc (inc (inc $0)))))))))))))))))))\n",
      "(lambda (dec (dec (dec (dec (dec (dec (dec (dec (dec (dec (dec (dec (dec (dec (dec (dec (dec (dec $0)))))))))))))))))))\n",
      "(lambda (inc (inc (inc (inc (inc (inc (inc (inc (inc (inc (inc (inc (inc (inc (inc (inc (inc (inc (inc $0))))))))))))))))))))\n",
      "(lambda (dec (dec (dec (dec (dec (dec (dec (dec (dec (dec (dec (dec (dec (dec (dec (dec (dec (dec (dec $0))))))))))))))))))))\n",
      "(lambda (inc (inc (inc (inc (inc (inc (inc (inc (inc (inc (inc (inc (inc (inc (inc (inc (inc (inc (inc (inc $0)))))))))))))))))))))\n",
      "(lambda (dec (dec (dec (dec (dec (dec (dec (dec (dec (dec (dec (dec (dec (dec (dec (dec (dec (dec (dec (dec $0)))))))))))))))))))))\n",
      "(lambda (inc (inc (inc (inc (inc (inc (inc (inc (inc (inc (inc (inc (inc (inc (inc (inc (inc (inc (inc (inc (inc $0))))))))))))))))))))))\n",
      "(lambda (dec (dec (dec (dec (dec (dec (dec (dec (dec (dec (dec (dec (dec (dec (dec (dec (dec (dec (dec (dec (dec $0))))))))))))))))))))))\n",
      "(lambda (inc (inc (inc (inc (inc (inc (inc (inc (inc (inc (inc (inc (inc (inc (inc (inc (inc (inc (inc (inc (inc (inc $0)))))))))))))))))))))))\n",
      "(lambda (dec (dec (dec (dec (dec (dec (dec (dec (dec (dec (dec (dec (dec (dec (dec (dec (dec (dec (dec (dec (dec (dec $0)))))))))))))))))))))))\n",
      "(lambda (inc (inc (inc (inc (inc (inc (inc (inc (inc (inc (inc (inc (inc (inc (inc (inc (inc (inc (inc (inc (inc (inc (inc $0))))))))))))))))))))))))\n",
      "(lambda (dec (dec (dec (dec (dec (dec (dec (dec (dec (dec (dec (dec (dec (dec (dec (dec (dec (dec (dec (dec (dec (dec (dec $0))))))))))))))))))))))))\n",
      "(lambda (inc (inc (inc (inc (inc (inc (inc (inc (inc (inc (inc (inc (inc (inc (inc (inc (inc (inc (inc (inc (inc (inc (inc (inc $0)))))))))))))))))))))))))\n",
      "(lambda (dec (dec (dec (dec (dec (dec (dec (dec (dec (dec (dec (dec (dec (dec (dec (dec (dec (dec (dec (dec (dec (dec (dec (dec $0)))))))))))))))))))))))))\n",
      "(lambda (inc (inc (inc (inc (inc (inc (inc (inc (inc (inc (inc (inc (inc (inc (inc (inc (inc (inc (inc (inc (inc (inc (inc (inc (inc $0))))))))))))))))))))))))))\n",
      "(lambda (dec (dec (dec (dec (dec (dec (dec (dec (dec (dec (dec (dec (dec (dec (dec (dec (dec (dec (dec (dec (dec (dec (dec (dec (dec $0))))))))))))))))))))))))))\n",
      "(lambda (inc (inc (inc (inc (inc (inc (inc (inc (inc (inc (inc (inc (inc (inc (inc (inc (inc (inc (inc (inc (inc (inc (inc (inc (inc (inc $0)))))))))))))))))))))))))))\n",
      "(lambda (dec (dec (dec (dec (dec (dec (dec (dec (dec (dec (dec (dec (dec (dec (dec (dec (dec (dec (dec (dec (dec (dec (dec (dec (dec (dec $0)))))))))))))))))))))))))))\n",
      "(lambda (inc (inc (inc (inc (inc (inc (inc (inc (inc (inc (inc (inc (inc (inc (inc (inc (inc (inc (inc (inc (inc (inc (inc (inc (inc (inc (inc $0))))))))))))))))))))))))))))\n",
      "(lambda (dec (dec (dec (dec (dec (dec (dec (dec (dec (dec (dec (dec (dec (dec (dec (dec (dec (dec (dec (dec (dec (dec (dec (dec (dec (dec (dec $0))))))))))))))))))))))))))))\n",
      "(lambda (inc (inc (inc (inc (inc (inc (inc (inc (inc (inc (inc (inc (inc (inc (inc (inc (inc (inc (inc (inc (inc (inc (inc (inc (inc (inc (inc (inc $0)))))))))))))))))))))))))))))\n",
      "(lambda (dec (dec (dec (dec (dec (dec (dec (dec (dec (dec (dec (dec (dec (dec (dec (dec (dec (dec (dec (dec (dec (dec (dec (dec (dec (dec (dec (dec $0)))))))))))))))))))))))))))))\n",
      "(lambda (inc (inc (inc (inc (inc (inc (inc (inc (inc (inc (inc (inc (inc (inc (inc (inc (inc (inc (inc (inc (inc (inc (inc (inc (inc (inc (inc (inc (inc $0))))))))))))))))))))))))))))))\n",
      "(lambda (dec (dec (dec (dec (dec (dec (dec (dec (dec (dec (dec (dec (dec (dec (dec (dec (dec (dec (dec (dec (dec (dec (dec (dec (dec (dec (dec (dec (dec $0))))))))))))))))))))))))))))))\n",
      "(lambda (inc (inc (inc (inc (inc (inc (inc (inc (inc (inc (inc (inc (inc (inc (inc (inc (inc (inc (inc (inc (inc (inc (inc (inc (inc (inc (inc (inc (inc (inc $0)))))))))))))))))))))))))))))))\n",
      "(lambda (dec (dec (dec (dec (dec (dec (dec (dec (dec (dec (dec (dec (dec (dec (dec (dec (dec (dec (dec (dec (dec (dec (dec (dec (dec (dec (dec (dec (dec (dec $0)))))))))))))))))))))))))))))))\n",
      "(lambda (inc (inc (inc (inc (inc (inc (inc (inc (inc (inc (inc (inc (inc (inc (inc (inc (inc (inc (inc (inc (inc (inc (inc (inc (inc (inc (inc (inc (inc (inc (inc $0))))))))))))))))))))))))))))))))\n",
      "(lambda (dec (dec (dec (dec (dec (dec (dec (dec (dec (dec (dec (dec (dec (dec (dec (dec (dec (dec (dec (dec (dec (dec (dec (dec (dec (dec (dec (dec (dec (dec (dec $0))))))))))))))))))))))))))))))))\n",
      "(lambda (inc (inc (inc (inc (inc (inc (inc (inc (inc (inc (inc (inc (inc (inc (inc (inc (inc (inc (inc (inc (inc (inc (inc (inc (inc (inc (inc (inc (inc (inc (inc (inc $0)))))))))))))))))))))))))))))))))\n",
      "(lambda (dec (dec (dec (dec (dec (dec (dec (dec (dec (dec (dec (dec (dec (dec (dec (dec (dec (dec (dec (dec (dec (dec (dec (dec (dec (dec (dec (dec (dec (dec (dec (dec $0)))))))))))))))))))))))))))))))))\n",
      "(lambda (inc (inc (inc (inc (inc (inc (inc (inc (inc (inc (inc (inc (inc (inc (inc (inc (inc (inc (inc (inc (inc (inc (inc (inc (inc (inc (inc (inc (inc (inc (inc (inc (inc $0))))))))))))))))))))))))))))))))))\n",
      "(lambda (dec (dec (dec (dec (dec (dec (dec (dec (dec (dec (dec (dec (dec (dec (dec (dec (dec (dec (dec (dec (dec (dec (dec (dec (dec (dec (dec (dec (dec (dec (dec (dec (dec $0))))))))))))))))))))))))))))))))))\n",
      "(lambda (inc (inc (inc (inc (inc (inc (inc (inc (inc (inc (inc (inc (inc (inc (inc (inc (inc (inc (inc (inc (inc (inc (inc (inc (inc (inc (inc (inc (inc (inc (inc (inc (inc (inc $0)))))))))))))))))))))))))))))))))))\n",
      "(lambda (dec (dec (dec (dec (dec (dec (dec (dec (dec (dec (dec (dec (dec (dec (dec (dec (dec (dec (dec (dec (dec (dec (dec (dec (dec (dec (dec (dec (dec (dec (dec (dec (dec (dec $0)))))))))))))))))))))))))))))))))))\n",
      "(lambda (inc (inc (inc (inc (inc (inc (inc (inc (inc (inc (inc (inc (inc (inc (inc (inc (inc (inc (inc (inc (inc (inc (inc (inc (inc (inc (inc (inc (inc (inc (inc (inc (inc (inc (inc $0))))))))))))))))))))))))))))))))))))\n",
      "(lambda (dec (dec (dec (dec (dec (dec (dec (dec (dec (dec (dec (dec (dec (dec (dec (dec (dec (dec (dec (dec (dec (dec (dec (dec (dec (dec (dec (dec (dec (dec (dec (dec (dec (dec (dec $0))))))))))))))))))))))))))))))))))))\n",
      "(lambda (inc (inc (inc (inc (inc (inc (inc (inc (inc (inc (inc (inc (inc (inc (inc (inc (inc (inc (inc (inc (inc (inc (inc (inc (inc (inc (inc (inc (inc (inc (inc (inc (inc (inc (inc (inc $0)))))))))))))))))))))))))))))))))))))\n",
      "(lambda (dec (dec (dec (dec (dec (dec (dec (dec (dec (dec (dec (dec (dec (dec (dec (dec (dec (dec (dec (dec (dec (dec (dec (dec (dec (dec (dec (dec (dec (dec (dec (dec (dec (dec (dec (dec $0)))))))))))))))))))))))))))))))))))))\n",
      "(lambda (inc (inc (inc (inc (inc (inc (inc (inc (inc (inc (inc (inc (inc (inc (inc (inc (inc (inc (inc (inc (inc (inc (inc (inc (inc (inc (inc (inc (inc (inc (inc (inc (inc (inc (inc (inc (inc $0))))))))))))))))))))))))))))))))))))))\n",
      "(lambda (dec (dec (dec (dec (dec (dec (dec (dec (dec (dec (dec (dec (dec (dec (dec (dec (dec (dec (dec (dec (dec (dec (dec (dec (dec (dec (dec (dec (dec (dec (dec (dec (dec (dec (dec (dec (dec $0))))))))))))))))))))))))))))))))))))))\n",
      "(lambda (inc (inc (inc (inc (inc (inc (inc (inc (inc (inc (inc (inc (inc (inc (inc (inc (inc (inc (inc (inc (inc (inc (inc (inc (inc (inc (inc (inc (inc (inc (inc (inc (inc (inc (inc (inc (inc (inc $0)))))))))))))))))))))))))))))))))))))))\n",
      "(lambda (dec (dec (dec (dec (dec (dec (dec (dec (dec (dec (dec (dec (dec (dec (dec (dec (dec (dec (dec (dec (dec (dec (dec (dec (dec (dec (dec (dec (dec (dec (dec (dec (dec (dec (dec (dec (dec (dec $0)))))))))))))))))))))))))))))))))))))))\n",
      "(lambda (inc (inc (inc (inc (inc (inc (inc (inc (inc (inc (inc (inc (inc (inc (inc (inc (inc (inc (inc (inc (inc (inc (inc (inc (inc (inc (inc (inc (inc (inc (inc (inc (inc (inc (inc (inc (inc (inc (inc $0))))))))))))))))))))))))))))))))))))))))\n",
      "(lambda (dec (dec (dec (dec (dec (dec (dec (dec (dec (dec (dec (dec (dec (dec (dec (dec (dec (dec (dec (dec (dec (dec (dec (dec (dec (dec (dec (dec (dec (dec (dec (dec (dec (dec (dec (dec (dec (dec (dec $0))))))))))))))))))))))))))))))))))))))))\n",
      "(lambda (inc (inc (inc (inc (inc (inc (inc (inc (inc (inc (inc (inc (inc (inc (inc (inc (inc (inc (inc (inc (inc (inc (inc (inc (inc (inc (inc (inc (inc (inc (inc (inc (inc (inc (inc (inc (inc (inc (inc (inc $0)))))))))))))))))))))))))))))))))))))))))\n",
      "(lambda (dec (dec (dec (dec (dec (dec (dec (dec (dec (dec (dec (dec (dec (dec (dec (dec (dec (dec (dec (dec (dec (dec (dec (dec (dec (dec (dec (dec (dec (dec (dec (dec (dec (dec (dec (dec (dec (dec (dec (dec $0)))))))))))))))))))))))))))))))))))))))))\n",
      "(lambda (inc (inc (inc (inc (inc (inc (inc (inc (inc (inc (inc (inc (inc (inc (inc (inc (inc (inc (inc (inc (inc (inc (inc (inc (inc (inc (inc (inc (inc (inc (inc (inc (inc (inc (inc (inc (inc (inc (inc (inc (inc $0))))))))))))))))))))))))))))))))))))))))))\n",
      "(lambda (dec (dec (dec (dec (dec (dec (dec (dec (dec (dec (dec (dec (dec (dec (dec (dec (dec (dec (dec (dec (dec (dec (dec (dec (dec (dec (dec (dec (dec (dec (dec (dec (dec (dec (dec (dec (dec (dec (dec (dec (dec $0))))))))))))))))))))))))))))))))))))))))))\n",
      "(lambda (inc (inc (inc (inc (inc (inc (inc (inc (inc (inc (inc (inc (inc (inc (inc (inc (inc (inc (inc (inc (inc (inc (inc (inc (inc (inc (inc (inc (inc (inc (inc (inc (inc (inc (inc (inc (inc (inc (inc (inc (inc (inc $0)))))))))))))))))))))))))))))))))))))))))))\n",
      "(lambda (dec (dec (dec (dec (dec (dec (dec (dec (dec (dec (dec (dec (dec (dec (dec (dec (dec (dec (dec (dec (dec (dec (dec (dec (dec (dec (dec (dec (dec (dec (dec (dec (dec (dec (dec (dec (dec (dec (dec (dec (dec (dec $0)))))))))))))))))))))))))))))))))))))))))))\n",
      "(lambda (inc (inc (inc (inc (inc (inc (inc (inc (inc (inc (inc (inc (inc (inc (inc (inc (inc (inc (inc (inc (inc (inc (inc (inc (inc (inc (inc (inc (inc (inc (inc (inc (inc (inc (inc (inc (inc (inc (inc (inc (inc (inc (inc $0))))))))))))))))))))))))))))))))))))))))))))\n",
      "(lambda (dec (dec (dec (dec (dec (dec (dec (dec (dec (dec (dec (dec (dec (dec (dec (dec (dec (dec (dec (dec (dec (dec (dec (dec (dec (dec (dec (dec (dec (dec (dec (dec (dec (dec (dec (dec (dec (dec (dec (dec (dec (dec (dec $0))))))))))))))))))))))))))))))))))))))))))))\n",
      "(lambda (inc (inc (inc (inc (inc (inc (inc (inc (inc (inc (inc (inc (inc (inc (inc (inc (inc (inc (inc (inc (inc (inc (inc (inc (inc (inc (inc (inc (inc (inc (inc (inc (inc (inc (inc (inc (inc (inc (inc (inc (inc (inc (inc (inc $0)))))))))))))))))))))))))))))))))))))))))))))\n",
      "(lambda (dec (dec (dec (dec (dec (dec (dec (dec (dec (dec (dec (dec (dec (dec (dec (dec (dec (dec (dec (dec (dec (dec (dec (dec (dec (dec (dec (dec (dec (dec (dec (dec (dec (dec (dec (dec (dec (dec (dec (dec (dec (dec (dec (dec $0)))))))))))))))))))))))))))))))))))))))))))))\n",
      "(lambda (inc (inc (inc (inc (inc (inc (inc (inc (inc (inc (inc (inc (inc (inc (inc (inc (inc (inc (inc (inc (inc (inc (inc (inc (inc (inc (inc (inc (inc (inc (inc (inc (inc (inc (inc (inc (inc (inc (inc (inc (inc (inc (inc (inc (inc $0))))))))))))))))))))))))))))))))))))))))))))))\n",
      "(lambda (dec (dec (dec (dec (dec (dec (dec (dec (dec (dec (dec (dec (dec (dec (dec (dec (dec (dec (dec (dec (dec (dec (dec (dec (dec (dec (dec (dec (dec (dec (dec (dec (dec (dec (dec (dec (dec (dec (dec (dec (dec (dec (dec (dec (dec $0))))))))))))))))))))))))))))))))))))))))))))))\n",
      "(lambda (inc (inc (inc (inc (inc (inc (inc (inc (inc (inc (inc (inc (inc (inc (inc (inc (inc (inc (inc (inc (inc (inc (inc (inc (inc (inc (inc (inc (inc (inc (inc (inc (inc (inc (inc (inc (inc (inc (inc (inc (inc (inc (inc (inc (inc (inc $0)))))))))))))))))))))))))))))))))))))))))))))))\n",
      "(lambda (dec (dec (dec (dec (dec (dec (dec (dec (dec (dec (dec (dec (dec (dec (dec (dec (dec (dec (dec (dec (dec (dec (dec (dec (dec (dec (dec (dec (dec (dec (dec (dec (dec (dec (dec (dec (dec (dec (dec (dec (dec (dec (dec (dec (dec (dec $0)))))))))))))))))))))))))))))))))))))))))))))))\n",
      "(lambda (inc (inc (inc (inc (inc (inc (inc (inc (inc (inc (inc (inc (inc (inc (inc (inc (inc (inc (inc (inc (inc (inc (inc (inc (inc (inc (inc (inc (inc (inc (inc (inc (inc (inc (inc (inc (inc (inc (inc (inc (inc (inc (inc (inc (inc (inc (inc $0))))))))))))))))))))))))))))))))))))))))))))))))\n",
      "(lambda (dec (dec (dec (dec (dec (dec (dec (dec (dec (dec (dec (dec (dec (dec (dec (dec (dec (dec (dec (dec (dec (dec (dec (dec (dec (dec (dec (dec (dec (dec (dec (dec (dec (dec (dec (dec (dec (dec (dec (dec (dec (dec (dec (dec (dec (dec (dec $0))))))))))))))))))))))))))))))))))))))))))))))))\n",
      "(lambda (inc (inc (inc (inc (inc (inc (inc (inc (inc (inc (inc (inc (inc (inc (inc (inc (inc (inc (inc (inc (inc (inc (inc (inc (inc (inc (inc (inc (inc (inc (inc (inc (inc (inc (inc (inc (inc (inc (inc (inc (inc (inc (inc (inc (inc (inc (inc (inc $0)))))))))))))))))))))))))))))))))))))))))))))))))\n",
      "(lambda (dec (dec (dec (dec (dec (dec (dec (dec (dec (dec (dec (dec (dec (dec (dec (dec (dec (dec (dec (dec (dec (dec (dec (dec (dec (dec (dec (dec (dec (dec (dec (dec (dec (dec (dec (dec (dec (dec (dec (dec (dec (dec (dec (dec (dec (dec (dec (dec $0)))))))))))))))))))))))))))))))))))))))))))))))))\n",
      "(lambda (inc (inc (inc (inc (inc (inc (inc (inc (inc (inc (inc (inc (inc (inc (inc (inc (inc (inc (inc (inc (inc (inc (inc (inc (inc (inc (inc (inc (inc (inc (inc (inc (inc (inc (inc (inc (inc (inc (inc (inc (inc (inc (inc (inc (inc (inc (inc (inc (inc $0))))))))))))))))))))))))))))))))))))))))))))))))))\n",
      "(lambda (dec (dec (dec (dec (dec (dec (dec (dec (dec (dec (dec (dec (dec (dec (dec (dec (dec (dec (dec (dec (dec (dec (dec (dec (dec (dec (dec (dec (dec (dec (dec (dec (dec (dec (dec (dec (dec (dec (dec (dec (dec (dec (dec (dec (dec (dec (dec (dec (dec $0))))))))))))))))))))))))))))))))))))))))))))))))))\n"
     ]
    }
   ],
   "source": [
    "counter = 0\n",
    "for i in iterator:\n",
    "    counter +=1\n",
    "    if counter<100:\n",
    "        print(i)\n",
    "    else: break"
   ]
  }
 ],
 "metadata": {
  "interpreter": {
   "hash": "d3b58914974b8dde835498c747ea4f1aaf3fb4cb185c0609e0c7a19c91a9bce2"
  },
  "kernelspec": {
   "display_name": "Python 3.7.11 ('dc')",
   "language": "python",
   "name": "python3"
  },
  "language_info": {
   "codemirror_mode": {
    "name": "ipython",
    "version": 3
   },
   "file_extension": ".py",
   "mimetype": "text/x-python",
   "name": "python",
   "nbconvert_exporter": "python",
   "pygments_lexer": "ipython3",
   "version": "3.7.11"
  },
  "orig_nbformat": 4
 },
 "nbformat": 4,
 "nbformat_minor": 2
}
