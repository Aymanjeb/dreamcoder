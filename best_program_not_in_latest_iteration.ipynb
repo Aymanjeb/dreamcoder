{
 "cells": [
  {
   "cell_type": "code",
   "execution_count": 4,
   "metadata": {},
   "outputs": [
    {
     "name": "stdout",
     "output_type": "stream",
     "text": [
      "The autoreload extension is already loaded. To reload it, use:\n",
      "  %reload_ext autoreload\n"
     ]
    },
    {
     "ename": "ModuleNotFoundError",
     "evalue": "No module named 'modelAnaly'",
     "output_type": "error",
     "traceback": [
      "\u001b[0;31m---------------------------------------------------------------------------\u001b[0m",
      "\u001b[0;31mModuleNotFoundError\u001b[0m                       Traceback (most recent call last)",
      "\u001b[0;32m<ipython-input-4-4a132278fdf3>\u001b[0m in \u001b[0;36m<module>\u001b[0;34m\u001b[0m\n\u001b[1;32m      2\u001b[0m \u001b[0mget_ipython\u001b[0m\u001b[0;34m(\u001b[0m\u001b[0;34m)\u001b[0m\u001b[0;34m.\u001b[0m\u001b[0mrun_line_magic\u001b[0m\u001b[0;34m(\u001b[0m\u001b[0;34m'autoreload'\u001b[0m\u001b[0;34m,\u001b[0m \u001b[0;34m'2'\u001b[0m\u001b[0;34m)\u001b[0m\u001b[0;34m\u001b[0m\u001b[0;34m\u001b[0m\u001b[0m\n\u001b[1;32m      3\u001b[0m \u001b[0;34m\u001b[0m\u001b[0m\n\u001b[0;32m----> 4\u001b[0;31m \u001b[0;32mfrom\u001b[0m \u001b[0manalysis\u001b[0m\u001b[0;34m.\u001b[0m\u001b[0mgetModelHumanDists\u001b[0m \u001b[0;32mimport\u001b[0m \u001b[0;34m*\u001b[0m\u001b[0;34m\u001b[0m\u001b[0;34m\u001b[0m\u001b[0m\n\u001b[0m\u001b[1;32m      5\u001b[0m \u001b[0;32mfrom\u001b[0m \u001b[0manalysis\u001b[0m\u001b[0;34m.\u001b[0m\u001b[0mmodelAnalyses\u001b[0m \u001b[0;32mimport\u001b[0m \u001b[0;34m*\u001b[0m\u001b[0;34m\u001b[0m\u001b[0;34m\u001b[0m\u001b[0m\n",
      "\u001b[0;32m/data1/code/python/ec/analysis/getModelHumanDists.py\u001b[0m in \u001b[0;36m<module>\u001b[0;34m\u001b[0m\n\u001b[1;32m     10\u001b[0m \u001b[0msys\u001b[0m\u001b[0;34m.\u001b[0m\u001b[0mpath\u001b[0m\u001b[0;34m.\u001b[0m\u001b[0minsert\u001b[0m\u001b[0;34m(\u001b[0m\u001b[0;36m0\u001b[0m\u001b[0;34m,\u001b[0m \u001b[0;34m\"/Users/lucastian/tenen/TENENBAUM/drawgood/experiments\"\u001b[0m\u001b[0;34m)\u001b[0m\u001b[0;34m\u001b[0m\u001b[0;34m\u001b[0m\u001b[0m\n\u001b[1;32m     11\u001b[0m \u001b[0msys\u001b[0m\u001b[0;34m.\u001b[0m\u001b[0mpath\u001b[0m\u001b[0;34m.\u001b[0m\u001b[0minsert\u001b[0m\u001b[0;34m(\u001b[0m\u001b[0;36m0\u001b[0m\u001b[0;34m,\u001b[0m \u001b[0;34m\"/home/lucast4/drawgood/experiments\"\u001b[0m\u001b[0;34m)\u001b[0m\u001b[0;34m\u001b[0m\u001b[0;34m\u001b[0m\u001b[0m\n\u001b[0;32m---> 12\u001b[0;31m \u001b[0;32mfrom\u001b[0m \u001b[0mmodelAnaly\u001b[0m \u001b[0;32mimport\u001b[0m \u001b[0mdistModelHumanAllStims\u001b[0m\u001b[0;34m\u001b[0m\u001b[0;34m\u001b[0m\u001b[0m\n\u001b[0m\u001b[1;32m     13\u001b[0m \u001b[0;32mfrom\u001b[0m \u001b[0msegmentation\u001b[0m \u001b[0;32mimport\u001b[0m \u001b[0mgetSegmentation\u001b[0m\u001b[0;34m,\u001b[0m \u001b[0mcodeUniqueFeatures\u001b[0m\u001b[0;34m\u001b[0m\u001b[0;34m\u001b[0m\u001b[0m\n\u001b[1;32m     14\u001b[0m \u001b[0;34m\u001b[0m\u001b[0m\n",
      "\u001b[0;31mModuleNotFoundError\u001b[0m: No module named 'modelAnaly'"
     ]
    }
   ],
   "source": [
    "%load_ext autoreload\n",
    "%autoreload 2\n",
    "\n",
    "from analysis.getModelHumanDists import * \n",
    "from analysis.modelAnalyses import *"
   ]
  },
  {
   "cell_type": "code",
   "execution_count": 2,
   "metadata": {},
   "outputs": [
    {
     "name": "stdout",
     "output_type": "stream",
     "text": [
      "Loading dreamcoder checkpoint\n",
      "experimentOutputs/draw/2019-11-05T10:59:39.638549/draw_aic=1.0_arity=2_BO=True_CO=True_dp=True_doshaping=False_ES=1_ET=3600_HR=0.5_it=4_MF=5_noConsol=False_pc=30_RT=2400_RR=False_RW=False_st=False_solver=ocaml_STM=True_L=1.5_TRR=unsolved_K=2_topkNotMAP=False_tset=S12_graph=True.pickle\n",
      "4\n",
      "----\n",
      "experimentOutputs/draw/2019-11-05T10:59:39.638549/draw_aic=1.0_arity=2_BO=True_CO=True_dp=True_doshaping=False_ES=1_ET=3600_HR=0.5_it=10_MF=5_noConsol=False_pc=30_RT=2400_RR=False_RW=False_st=False_solver=ocaml_STM=True_L=1.5_TRR=unsolved_K=2_topkNotMAP=False_tset=S12.pickle\n",
      "0\n",
      "----\n",
      "experimentOutputs/draw/2019-11-05T10:59:39.638549/draw_aic=1.0_arity=2_BO=True_CO=True_dp=True_doshaping=False_ES=1_ET=3600_HR=0.5_it=9_MF=5_noConsol=False_pc=30_RT=2400_RR=False_RW=False_st=False_solver=ocaml_STM=True_L=1.5_TRR=unsolved_K=2_topkNotMAP=False_tset=S12_graph=True.pickle\n",
      "9\n",
      "----\n",
      "experimentOutputs/draw/2019-11-05T10:59:39.638549/draw_aic=1.0_arity=2_BO=True_CO=True_dp=True_doshaping=False_ES=1_ET=3600_HR=0.5_it=14_MF=5_noConsol=False_pc=30_RT=2400_RR=False_RW=False_st=False_solver=ocaml_STM=True_L=1.5_TRR=unsolved_K=2_topkNotMAP=False_tset=S12_graph=True.pickle\n",
      "14\n",
      "----\n",
      "experimentOutputs/draw/2019-11-05T10:59:39.638549/draw_aic=1.0_arity=2_BO=True_CO=True_dp=True_doshaping=False_ES=1_ET=3600_HR=0.5_it=2_MF=5_noConsol=False_pc=30_RT=2400_RR=False_RW=False_st=False_solver=ocaml_STM=True_L=1.5_TRR=unsolved_K=2_topkNotMAP=False_tset=S12_graph=True.pickle\n",
      "2\n",
      "----\n",
      "experimentOutputs/draw/2019-11-05T10:59:39.638549/draw_aic=1.0_arity=2_BO=True_CO=True_dp=True_doshaping=False_ES=1_ET=3600_HR=0.5_it=12_MF=5_noConsol=False_pc=30_RT=2400_RR=False_RW=False_st=False_solver=ocaml_STM=True_L=1.5_TRR=unsolved_K=2_topkNotMAP=False_tset=S12_graph=True.pickle\n",
      "12\n",
      "----\n",
      "experimentOutputs/draw/2019-11-05T10:59:39.638549/draw_aic=1.0_arity=2_BO=True_CO=True_dp=True_doshaping=False_ES=1_ET=3600_HR=0.5_it=13_MF=5_noConsol=False_pc=30_RT=2400_RR=False_RW=False_st=False_solver=ocaml_STM=True_L=1.5_TRR=unsolved_K=2_topkNotMAP=False_tset=S12.pickle\n",
      "0\n",
      "----\n",
      "experimentOutputs/draw/2019-11-05T10:59:39.638549/draw_aic=1.0_arity=2_BO=True_CO=True_dp=True_doshaping=False_ES=1_ET=3600_HR=0.5_it=10_MF=5_noConsol=False_pc=30_RT=2400_RR=False_RW=False_st=False_solver=ocaml_STM=True_L=1.5_TRR=unsolved_K=2_topkNotMAP=False_tset=S12_graph=True.pickle\n",
      "10\n",
      "----\n",
      "experimentOutputs/draw/2019-11-05T10:59:39.638549/draw_aic=1.0_arity=2_BO=True_CO=True_dp=True_doshaping=False_ES=1_ET=3600_HR=0.5_it=7_MF=5_noConsol=False_pc=30_RT=2400_RR=False_RW=False_st=False_solver=ocaml_STM=True_L=1.5_TRR=unsolved_K=2_topkNotMAP=False_tset=S12.pickle\n",
      "0\n",
      "----\n",
      "experimentOutputs/draw/2019-11-05T10:59:39.638549/draw_aic=1.0_arity=2_BO=True_CO=True_dp=True_doshaping=False_ES=1_ET=3600_HR=0.5_it=14_MF=5_noConsol=False_pc=30_RT=2400_RR=False_RW=False_st=False_solver=ocaml_STM=True_L=1.5_TRR=unsolved_K=2_topkNotMAP=False_tset=S12.pickle\n",
      "0\n",
      "----\n",
      "experimentOutputs/draw/2019-11-05T10:59:39.638549/draw_aic=1.0_arity=2_BO=True_CO=True_dp=True_doshaping=False_ES=1_ET=3600_HR=0.5_it=1_MF=5_noConsol=False_pc=30_RT=2400_RR=False_RW=False_st=False_solver=ocaml_STM=True_L=1.5_TRR=unsolved_K=2_topkNotMAP=False_tset=S12.pickle\n",
      "0\n",
      "----\n",
      "experimentOutputs/draw/2019-11-05T10:59:39.638549/draw_aic=1.0_arity=2_BO=True_CO=True_dp=True_doshaping=False_ES=1_ET=3600_HR=0.5_it=6_MF=5_noConsol=False_pc=30_RT=2400_RR=False_RW=False_st=False_solver=ocaml_STM=True_L=1.5_TRR=unsolved_K=2_topkNotMAP=False_tset=S12.pickle\n",
      "0\n",
      "----\n",
      "experimentOutputs/draw/2019-11-05T10:59:39.638549/draw_aic=1.0_arity=2_BO=True_CO=True_dp=True_doshaping=False_ES=1_ET=3600_HR=0.5_it=3_MF=5_noConsol=False_pc=30_RT=2400_RR=False_RW=False_st=False_solver=ocaml_STM=True_L=1.5_TRR=unsolved_K=2_topkNotMAP=False_tset=S12_graph=True.pickle\n",
      "3\n",
      "----\n",
      "experimentOutputs/draw/2019-11-05T10:59:39.638549/draw_aic=1.0_arity=2_BO=True_CO=True_dp=True_doshaping=False_ES=1_ET=3600_HR=0.5_it=11_MF=5_noConsol=False_pc=30_RT=2400_RR=False_RW=False_st=False_solver=ocaml_STM=True_L=1.5_TRR=unsolved_K=2_topkNotMAP=False_tset=S12_graph=True.pickle\n",
      "11\n",
      "----\n",
      "experimentOutputs/draw/2019-11-05T10:59:39.638549/draw_aic=1.0_arity=2_BO=True_CO=True_dp=True_doshaping=False_ES=1_ET=3600_HR=0.5_it=13_MF=5_noConsol=False_pc=30_RT=2400_RR=False_RW=False_st=False_solver=ocaml_STM=True_L=1.5_TRR=unsolved_K=2_topkNotMAP=False_tset=S12_graph=True.pickle\n",
      "13\n",
      "----\n",
      "experimentOutputs/draw/2019-11-05T10:59:39.638549/draw_aic=1.0_arity=2_BO=True_CO=True_dp=True_doshaping=False_ES=1_ET=3600_HR=0.5_it=7_MF=5_noConsol=False_pc=30_RT=2400_RR=False_RW=False_st=False_solver=ocaml_STM=True_L=1.5_TRR=unsolved_K=2_topkNotMAP=False_tset=S12_graph=True.pickle\n",
      "7\n",
      "----\n",
      "experimentOutputs/draw/2019-11-05T10:59:39.638549/draw_aic=1.0_arity=2_BO=True_CO=True_dp=True_doshaping=False_ES=1_ET=3600_HR=0.5_it=9_MF=5_noConsol=False_pc=30_RT=2400_RR=False_RW=False_st=False_solver=ocaml_STM=True_L=1.5_TRR=unsolved_K=2_topkNotMAP=False_tset=S12.pickle\n",
      "0\n",
      "----\n",
      "experimentOutputs/draw/2019-11-05T10:59:39.638549/draw_aic=1.0_arity=2_BO=True_CO=True_dp=True_doshaping=False_ES=1_ET=3600_HR=0.5_it=4_MF=5_noConsol=False_pc=30_RT=2400_RR=False_RW=False_st=False_solver=ocaml_STM=True_L=1.5_TRR=unsolved_K=2_topkNotMAP=False_tset=S12.pickle\n",
      "0\n",
      "----\n",
      "experimentOutputs/draw/2019-11-05T10:59:39.638549/draw_aic=1.0_arity=2_BO=True_CO=True_dp=True_doshaping=False_ES=1_ET=3600_HR=0.5_it=15_MF=5_noConsol=False_pc=30_RT=2400_RR=False_RW=False_st=False_solver=ocaml_STM=True_L=1.5_TRR=unsolved_K=2_topkNotMAP=False_tset=S12_graph=True.pickle\n",
      "15\n",
      "----\n",
      "experimentOutputs/draw/2019-11-05T10:59:39.638549/draw_aic=1.0_arity=2_BO=True_CO=True_dp=True_doshaping=False_ES=1_ET=3600_HR=0.5_it=5_MF=5_noConsol=False_pc=30_RT=2400_RR=False_RW=False_st=False_solver=ocaml_STM=True_L=1.5_TRR=unsolved_K=2_topkNotMAP=False_tset=S12.pickle\n",
      "0\n",
      "----\n",
      "experimentOutputs/draw/2019-11-05T10:59:39.638549/draw_aic=1.0_arity=2_BO=True_CO=True_dp=True_doshaping=False_ES=1_ET=3600_HR=0.5_it=5_MF=5_noConsol=False_pc=30_RT=2400_RR=False_RW=False_st=False_solver=ocaml_STM=True_L=1.5_TRR=unsolved_K=2_topkNotMAP=False_tset=S12_graph=True.pickle\n",
      "5\n",
      "----\n",
      "experimentOutputs/draw/2019-11-05T10:59:39.638549/draw_aic=1.0_arity=2_BO=True_CO=True_dp=True_doshaping=False_ES=1_ET=3600_HR=0.5_it=8_MF=5_noConsol=False_pc=30_RT=2400_RR=False_RW=False_st=False_solver=ocaml_STM=True_L=1.5_TRR=unsolved_K=2_topkNotMAP=False_tset=S12.pickle\n",
      "0\n",
      "----\n",
      "experimentOutputs/draw/2019-11-05T10:59:39.638549/draw_aic=1.0_arity=2_BO=True_CO=True_dp=True_doshaping=False_ES=1_ET=3600_HR=0.5_it=3_MF=5_noConsol=False_pc=30_RT=2400_RR=False_RW=False_st=False_solver=ocaml_STM=True_L=1.5_TRR=unsolved_K=2_topkNotMAP=False_tset=S12.pickle\n",
      "0\n",
      "----\n",
      "experimentOutputs/draw/2019-11-05T10:59:39.638549/draw_aic=1.0_arity=2_BO=True_CO=True_dp=True_doshaping=False_ES=1_ET=3600_HR=0.5_it=1_MF=5_noConsol=False_pc=30_RT=2400_RR=False_RW=False_st=False_solver=ocaml_STM=True_L=1.5_TRR=unsolved_K=2_topkNotMAP=False_tset=S12_graph=True.pickle\n",
      "1\n",
      "----\n",
      "experimentOutputs/draw/2019-11-05T10:59:39.638549/draw_aic=1.0_arity=2_BO=True_CO=True_dp=True_doshaping=False_ES=1_ET=3600_HR=0.5_it=15_MF=5_noConsol=False_pc=30_RT=2400_RR=False_RW=False_st=False_solver=ocaml_STM=True_L=1.5_TRR=unsolved_K=2_topkNotMAP=False_tset=S12.pickle\n",
      "0\n",
      "----\n",
      "experimentOutputs/draw/2019-11-05T10:59:39.638549/draw_aic=1.0_arity=2_BO=True_CO=True_dp=True_doshaping=False_ES=1_ET=3600_HR=0.5_it=8_MF=5_noConsol=False_pc=30_RT=2400_RR=False_RW=False_st=False_solver=ocaml_STM=True_L=1.5_TRR=unsolved_K=2_topkNotMAP=False_tset=S12_graph=True.pickle\n",
      "8\n",
      "----\n",
      "experimentOutputs/draw/2019-11-05T10:59:39.638549/draw_aic=1.0_arity=2_BO=True_CO=True_dp=True_doshaping=False_ES=1_ET=3600_HR=0.5_it=2_MF=5_noConsol=False_pc=30_RT=2400_RR=False_RW=False_st=False_solver=ocaml_STM=True_L=1.5_TRR=unsolved_K=2_topkNotMAP=False_tset=S12.pickle\n",
      "0\n",
      "----\n",
      "experimentOutputs/draw/2019-11-05T10:59:39.638549/draw_aic=1.0_arity=2_BO=True_CO=True_dp=True_doshaping=False_ES=1_ET=3600_HR=0.5_it=6_MF=5_noConsol=False_pc=30_RT=2400_RR=False_RW=False_st=False_solver=ocaml_STM=True_L=1.5_TRR=unsolved_K=2_topkNotMAP=False_tset=S12_graph=True.pickle\n",
      "6\n",
      "----\n",
      "experimentOutputs/draw/2019-11-05T10:59:39.638549/draw_aic=1.0_arity=2_BO=True_CO=True_dp=True_doshaping=False_ES=1_ET=3600_HR=0.5_it=11_MF=5_noConsol=False_pc=30_RT=2400_RR=False_RW=False_st=False_solver=ocaml_STM=True_L=1.5_TRR=unsolved_K=2_topkNotMAP=False_tset=S12.pickle\n",
      "0\n",
      "----\n",
      "experimentOutputs/draw/2019-11-05T10:59:39.638549/draw_aic=1.0_arity=2_BO=True_CO=True_dp=True_doshaping=False_ES=1_ET=3600_HR=0.5_it=12_MF=5_noConsol=False_pc=30_RT=2400_RR=False_RW=False_st=False_solver=ocaml_STM=True_L=1.5_TRR=unsolved_K=2_topkNotMAP=False_tset=S12.pickle\n",
      "0\n",
      "----\n"
     ]
    },
    {
     "name": "stdout",
     "output_type": "stream",
     "text": [
      "Loading dreamcoder tasks\n",
      "DRAW TASK training set: S12\n",
      "DO SHAPING: False\n",
      "training task names:\n",
      "['S12_13_shaping_0', 'S12_13_shaping_1', 'S12_13_shaping_2', 'S12_13_shaping_3', 'S12_13_shaping_4', 'S12_13_shaping_5', 'S12_13_shaping_6', 'S12_13_shaping_7', 'S12_13_shaping_8', 'S12_13_shaping_9', 'S12_13_shaping_10', 'S12_1', 'S12_5', 'S12_8', 'S12_10', 'S12_32', 'S12_34', 'S12_38', 'S12_20', 'S12_39', 'S12_57', 'S12_79', 'S12_113', 'S12_124', 'S12_126', 'S12_133', 'S12_147', 'S12_155', 'S12_163', 'S12_200', 'S12_214', 'S12_31', 'S12_52', 'S12_55', 'S12_70', 'S12_129', 'S12_139', 'S12_141', 'S12_148', 'S12_207', 'S12_222', 'S12_224', 'S12_229', 'S12_233', 'S12_235', 'S12_243', 'S12_246']\n",
      "test tasks:\n",
      "['S12_13_test_1', 'S12_13_test_2', 'S12_13_test_4', 'S12_13_test_5', 'S12_13_test_6', 'S12_13_test_7', 'S12_13_test_8', 'S12_13_test_9', 'S12_13_test_10', 'S12_13_test_11', 'S12_13_test_12', 'S12_132', 'S12_201', 'S12_220', 'S12_247', 'S13_182', 'S13_217', 'S13_219']\n",
      "not loading parses\n",
      "Num dreamcoder tasks 47\n",
      "n supervised tasks 47\n",
      "Num dreamcoder TEST tasks 18\n",
      "n supervised TEST tasks 18\n"
     ]
    }
   ],
   "source": [
    "ECTRAIN = \"S12.10\"\n",
    "\n",
    "DAT = loadCheckpoint(ECTRAIN, loadbehavior=False)"
   ]
  },
  {
   "cell_type": "code",
   "execution_count": null,
   "metadata": {},
   "outputs": [],
   "source": [
    "## save frontiers over time\n",
    "from analysis.utils import getAndRankAllFrontiers\n",
    "getAndRankAllFrontiers(DAT)"
   ]
  },
  {
   "cell_type": "code",
   "execution_count": 14,
   "metadata": {},
   "outputs": [
    {
     "name": "stdout",
     "output_type": "stream",
     "text": [
      "Frontier(entries=[], task=S12_13_test_1)\n",
      "emopt\n",
      "Frontier(entries=[], task=S12_13_test_1)\n",
      "emopt\n",
      "Frontier(entries=[], task=S12_13_test_1)\n",
      "emopt\n",
      "Frontier(entries=[], task=S12_13_test_1)\n",
      "emopt\n",
      "Frontier(entries=[], task=S12_13_test_1)\n",
      "emopt\n",
      "Frontier(entries=[], task=S12_13_test_1)\n",
      "emopt\n",
      "Frontier(entries=[], task=S12_13_test_1)\n",
      "emopt\n",
      "Frontier(entries=[], task=S12_13_test_1)\n",
      "emopt\n",
      "Frontier(entries=[], task=S12_13_test_1)\n",
      "emopt\n",
      "Frontier(entries=[], task=S12_13_test_1)\n",
      "emopt\n",
      "Frontier(entries=[], task=S12_13_test_1)\n",
      "emopt\n",
      "Frontier(entries=[], task=S12_13_test_1)\n",
      "emopt\n",
      "Frontier(entries=[], task=S12_13_test_1)\n",
      "emopt\n",
      "Frontier(entries=[], task=S12_13_test_1)\n",
      "emopt\n",
      "Frontier(entries=[], task=S12_13_test_1)\n",
      "emopt\n",
      "(getAndRankAllFrontiers) skipping saving, did not tell me a sdir\n",
      "did not find any programs across all frontiers and all iterations\n"
     ]
    }
   ],
   "source": [
    "# === function to extract the best postetiro for subsequent analyses.\n",
    "\n",
    "\n",
    "# def getBestFrontierProgram(result, task, lastKIter):\n",
    "#     \"\"\" gets best solution for a given task, restricting to \n",
    "#     solutions from lastKIter before last iter, to last iter.\n",
    "#     ranks based on ll, then ink, then prior. \n",
    "#     lastKIter counts from the largest iter for which there exists a solution\"\"\"\n",
    "#     from analysis.utils import _getAndRankAllFrontiers\n",
    "    \n",
    "#     stim = task.name\n",
    "#     frontiers_over_time = _getAndRankAllFrontiers(DAT, stim)\n",
    "\n",
    "#     last_iter = max([f[\"iteration\"] for f in frontiers_over_time])\n",
    "#     frontiers_over_time = [f for f in frontiers_over_time if f[\"iteration\"]>(last_iter-lastKIter)]\n",
    "#     frontier_to_take = frontiers_over_time[0]\n",
    "#     return frontier_to_take[\"frontier\"].program\n",
    "\n",
    "\n",
    "from analysis.parse import getBestFrontierProgram\n",
    "result = DAT[\"result\"]\n",
    "stimlist = [t for t,_ in DAT[\"taskresultdict\"].items()]\n",
    "task = DATgetTask(stimlist[10], DAT)[0]\n",
    "task= DATgetTask(\"S12_13_test_1\", DAT)[0]\n",
    "lastKIter=4\n",
    "p = getBestFrontierProgram(result, task, lastKIter)\n",
    "\n",
    "\n",
    "\n",
    "\n",
    "\n",
    "    \n",
    "    "
   ]
  },
  {
   "cell_type": "code",
   "execution_count": 51,
   "metadata": {},
   "outputs": [
    {
     "data": {
      "text/plain": [
       "[Frontier(entries=[], task=S12_13_test_1),\n",
       " Frontier(entries=[], task=S12_13_test_1),\n",
       " Frontier(entries=[], task=S12_13_test_1),\n",
       " Frontier(entries=[], task=S12_13_test_1),\n",
       " Frontier(entries=[], task=S12_13_test_1),\n",
       " Frontier(entries=[], task=S12_13_test_1),\n",
       " Frontier(entries=[], task=S12_13_test_1),\n",
       " Frontier(entries=[], task=S12_13_test_1),\n",
       " Frontier(entries=[], task=S12_13_test_1),\n",
       " Frontier(entries=[], task=S12_13_test_1),\n",
       " Frontier(entries=[], task=S12_13_test_1),\n",
       " Frontier(entries=[], task=S12_13_test_1),\n",
       " Frontier(entries=[], task=S12_13_test_1),\n",
       " Frontier(entries=[], task=S12_13_test_1),\n",
       " Frontier(entries=[], task=S12_13_test_1)]"
      ]
     },
     "execution_count": 51,
     "metadata": {},
     "output_type": "execute_result"
    }
   ],
   "source": [
    "result.frontiersOverTime[task]"
   ]
  },
  {
   "cell_type": "code",
   "execution_count": 43,
   "metadata": {},
   "outputs": [
    {
     "data": {
      "text/plain": [
       "[Frontier(entries=[], task=S12_13_test_1),\n",
       " Frontier(entries=[], task=S12_13_test_1),\n",
       " Frontier(entries=[], task=S12_13_test_1),\n",
       " Frontier(entries=[], task=S12_13_test_1),\n",
       " Frontier(entries=[], task=S12_13_test_1),\n",
       " Frontier(entries=[], task=S12_13_test_1),\n",
       " Frontier(entries=[], task=S12_13_test_1),\n",
       " Frontier(entries=[], task=S12_13_test_1),\n",
       " Frontier(entries=[], task=S12_13_test_1),\n",
       " Frontier(entries=[], task=S12_13_test_1),\n",
       " Frontier(entries=[], task=S12_13_test_1),\n",
       " Frontier(entries=[], task=S12_13_test_1),\n",
       " Frontier(entries=[], task=S12_13_test_1),\n",
       " Frontier(entries=[], task=S12_13_test_1),\n",
       " Frontier(entries=[], task=S12_13_test_1)]"
      ]
     },
     "execution_count": 43,
     "metadata": {},
     "output_type": "execute_result"
    }
   ],
   "source": [
    "results.frontiersOverTime[task]"
   ]
  },
  {
   "cell_type": "code",
   "execution_count": 30,
   "metadata": {},
   "outputs": [
    {
     "name": "stdout",
     "output_type": "stream",
     "text": [
      "(getAndRankAllFrontiers) skipping saving, did not tell me a sdir\n"
     ]
    },
    {
     "data": {
      "text/plain": [
       "(transform #(transform line (#(lambda (transmat None None (Some $0) None None)) dist4)) (#(lambda (transmat None None (Some $0) None None)) dist15))"
      ]
     },
     "execution_count": 30,
     "metadata": {},
     "output_type": "execute_result"
    }
   ],
   "source": [
    "from analysis.parse import getBestFrontierProgram\n",
    "getBestFrontierProgram(result, task)"
   ]
  },
  {
   "cell_type": "code",
   "execution_count": null,
   "metadata": {},
   "outputs": [],
   "source": [
    "task[0].name"
   ]
  },
  {
   "cell_type": "code",
   "execution_count": 49,
   "metadata": {},
   "outputs": [
    {
     "data": {
      "text/plain": [
       "{'S12_13_shaping_0': True,\n",
       " 'S12_13_shaping_1': True,\n",
       " 'S12_13_shaping_2': True,\n",
       " 'S12_13_shaping_3': True,\n",
       " 'S12_13_shaping_4': True,\n",
       " 'S12_13_shaping_5': True,\n",
       " 'S12_13_shaping_6': True,\n",
       " 'S12_13_shaping_7': True,\n",
       " 'S12_13_shaping_8': True,\n",
       " 'S12_13_shaping_9': True,\n",
       " 'S12_13_shaping_10': True,\n",
       " 'S12_1': True,\n",
       " 'S12_5': True,\n",
       " 'S12_8': True,\n",
       " 'S12_10': True,\n",
       " 'S12_32': True,\n",
       " 'S12_34': True,\n",
       " 'S12_38': True,\n",
       " 'S12_20': True,\n",
       " 'S12_39': True,\n",
       " 'S12_57': True,\n",
       " 'S12_79': True,\n",
       " 'S12_113': True,\n",
       " 'S12_124': True,\n",
       " 'S12_126': False,\n",
       " 'S12_133': True,\n",
       " 'S12_147': True,\n",
       " 'S12_155': True,\n",
       " 'S12_163': True,\n",
       " 'S12_200': True,\n",
       " 'S12_214': False,\n",
       " 'S12_31': True,\n",
       " 'S12_52': True,\n",
       " 'S12_55': True,\n",
       " 'S12_70': True,\n",
       " 'S12_129': True,\n",
       " 'S12_139': True,\n",
       " 'S12_141': True,\n",
       " 'S12_148': False,\n",
       " 'S12_207': True,\n",
       " 'S12_222': True,\n",
       " 'S12_224': True,\n",
       " 'S12_229': True,\n",
       " 'S12_233': True,\n",
       " 'S12_235': True,\n",
       " 'S12_243': True,\n",
       " 'S12_246': False,\n",
       " 'S12_13_test_1': False,\n",
       " 'S12_13_test_2': False,\n",
       " 'S12_13_test_4': False,\n",
       " 'S12_13_test_5': False,\n",
       " 'S12_13_test_6': False,\n",
       " 'S12_13_test_7': False,\n",
       " 'S12_13_test_8': False,\n",
       " 'S12_13_test_9': False,\n",
       " 'S12_13_test_10': False,\n",
       " 'S12_13_test_11': False,\n",
       " 'S12_13_test_12': False,\n",
       " 'S12_132': True,\n",
       " 'S12_201': True,\n",
       " 'S12_220': True,\n",
       " 'S12_247': True,\n",
       " 'S13_182': False,\n",
       " 'S13_217': False,\n",
       " 'S13_219': False}"
      ]
     },
     "execution_count": 49,
     "metadata": {},
     "output_type": "execute_result"
    }
   ],
   "source": [
    "results = DAT[\"result\"]\n",
    "stimlist = DAT[\"taskresultdict\"]\n",
    "stimlist\n"
   ]
  },
  {
   "cell_type": "code",
   "execution_count": null,
   "metadata": {},
   "outputs": [],
   "source": [
    "stim = \"S12_13_test_1\"\n",
    "\n",
    "t = DATgetTask(stim, DAT)[0]\n",
    "\n",
    "for f in results.frontiersOverTime[t]:\n",
    "    if not f.empty:\n",
    "        print(f.bestPosterior)"
   ]
  },
  {
   "cell_type": "code",
   "execution_count": null,
   "metadata": {},
   "outputs": [],
   "source": [
    "stimlist"
   ]
  },
  {
   "cell_type": "code",
   "execution_count": null,
   "metadata": {
    "scrolled": false
   },
   "outputs": [],
   "source": [
    "from dreamcoder.domains.draw.primitives import program_ink\n",
    "\n",
    "\n",
    "def getAndRankAllFrontiers(DAT, stim, SDIR, usell=True, K=10):\n",
    "    \"\"\"gets the K best programs (for each iteration) and combines across all iterations\n",
    "    sorts by likelihood (decreasing)\"\"\"\n",
    "    t = DATgetTask(stim, DAT)[0]\n",
    "    results = DAT[\"result\"]\n",
    "\n",
    "    # 1) Collect all frontiers (top K each iteration) over all iterations.\n",
    "    frontiers_over_time = []\n",
    "    for i, frontiers_thisiter in enumerate(results.frontiersOverTime[t]):\n",
    "        if frontiers_thisiter.empty:\n",
    "            continue\n",
    "\n",
    "        frontierprogs = frontiers_thisiter.topK(K)\n",
    "        for f in frontierprogs.entries:\n",
    "            frontiers_over_time.append({\n",
    "                \"iteration\":i,\n",
    "                \"frontier\":f\n",
    "            })\n",
    "    \n",
    "    # for each frontier get scores and ink\n",
    "    for f in frontiers_over_time:\n",
    "        # collect scores and ink used\n",
    "        f[\"prior\"] = f[\"frontier\"].logPrior\n",
    "        f[\"post\"] = f[\"frontier\"].logPosterior\n",
    "        f[\"ll\"] = f[\"frontier\"].logLikelihood\n",
    "        f[\"ink\"] = program_ink(f[\"frontier\"].program.evaluate([]))\n",
    "        \n",
    "    # sort by ll, then ink, then prior\n",
    "    frontiers_over_time = sorted(frontiers_over_time, key=lambda x: (-x[\"ll\"], x[\"ink\"], -x[\"prior\"]))\n",
    "\n",
    "    \n",
    "    # save as text\n",
    "    def save(frontiers_over_time, path):\n",
    "        import copy\n",
    "        import json\n",
    "        \n",
    "        # first make copy that is stringified\n",
    "        frontiers_over_time_string=copy.deepcopy(frontiers_over_time)\n",
    "        for f in frontiers_over_time_string:\n",
    "            f[\"frontier\"]=str(f[\"frontier\"])\n",
    "        # save\n",
    "        with open(path, \"w\") as f:\n",
    "            json.dump(frontiers_over_time_string, f, indent=4)  \n",
    "            \n",
    "    save(frontiers_over_time, \"{}/{}.txt\".format(SDIR, stim))\n",
    "    return frontiers_over_time\n",
    "\n",
    "\n",
    "\n",
    "SDIR = \"{}/frontiers_across_iter\".format(DAT[\"summarysavedir\"])\n",
    "import os\n",
    "os.makedirs(SDIR, exist_ok=True)\n",
    "\n",
    "for stim in stimlist:\n",
    "    frontiers_over_time = getAndRankAllFrontiers(DAT, stim, SDIR)\n",
    "\n",
    "\n",
    "\n",
    "\n",
    "\n",
    "\n",
    "\n",
    "\n"
   ]
  },
  {
   "cell_type": "code",
   "execution_count": null,
   "metadata": {},
   "outputs": [],
   "source": []
  },
  {
   "cell_type": "code",
   "execution_count": null,
   "metadata": {},
   "outputs": [],
   "source": []
  },
  {
   "cell_type": "code",
   "execution_count": null,
   "metadata": {},
   "outputs": [],
   "source": []
  }
 ],
 "metadata": {
  "kernelspec": {
   "display_name": "Python 3",
   "language": "python",
   "name": "python3"
  },
  "language_info": {
   "codemirror_mode": {
    "name": "ipython",
    "version": 3
   },
   "file_extension": ".py",
   "mimetype": "text/x-python",
   "name": "python",
   "nbconvert_exporter": "python",
   "pygments_lexer": "ipython3",
   "version": "3.7.4"
  }
 },
 "nbformat": 4,
 "nbformat_minor": 2
}
