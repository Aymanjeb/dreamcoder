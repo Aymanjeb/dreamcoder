{
 "cells": [
  {
   "cell_type": "code",
   "execution_count": 23,
   "metadata": {},
   "outputs": [
    {
     "name": "stdout",
     "output_type": "stream",
     "text": [
      "The autoreload extension is already loaded. To reload it, use:\n",
      "  %reload_ext autoreload\n"
     ]
    }
   ],
   "source": [
    "%load_ext autoreload\n",
    "%autoreload 2\n",
    "\n",
    "\n",
    "# ECTRAINlist = [\"S12.10.test4\", \"S13.10.test4\"]\n",
    "# modelkind_list = [\"parse\", \"randomperm\"]\n",
    "# ver=\"aggregate\"\n",
    "from analysis.modelAnalyses import *\n",
    "\n",
    "planner_model = \"motor\"\n",
    "\n",
    "# from pythonlib.tools.dicttools import printOverviewKeyValues\n",
    "# from analysis.modelAnalyses import *\n",
    "\n",
    "# ECTRAINlist = [\"S12.10.test4\", \"S13.10.test4\"]\n",
    "# modelkind_list = [\"parse\", \"randomperm\"]\n",
    "# ver=\"aggregate\"\n",
    "# use_withplannerscore=True\n",
    "# distances_flat, DAT_all, workerlist, SAVEDIR = loadMultDCHumanDistances(ECTRAINlist, modelkind_list, ver, use_withplannerscore)"
   ]
  },
  {
   "cell_type": "code",
   "execution_count": 7,
   "metadata": {},
   "outputs": [],
   "source": [
    "import pickle\n",
    "fname = \"/home/lucast4/dc/analysis/summaryfigs/acrossexpt/ecS12.10.test4_S13.10.test4-dg2.4_2.4/summarydict_planner_motor.pickle\"\n",
    "with open(fname, \"rb\") as f:\n",
    "    dat = pickle.load(f)\n"
   ]
  },
  {
   "cell_type": "code",
   "execution_count": 10,
   "metadata": {},
   "outputs": [],
   "source": [
    "distances_flat=dat[\"distances_flat\"]\n",
    "planner_params=dat[\"planner_params\"]"
   ]
  },
  {
   "cell_type": "code",
   "execution_count": 15,
   "metadata": {},
   "outputs": [],
   "source": [
    "## aggregate parses\n",
    "# from analysis.modelAnalyses import \n",
    "from analysis.modelAnalysesDCPlanner import aggregateOverParses"
   ]
  },
  {
   "cell_type": "code",
   "execution_count": 20,
   "metadata": {},
   "outputs": [],
   "source": [
    "import pandas as pd\n",
    "df = pd.DataFrame(distances_flat)"
   ]
  },
  {
   "cell_type": "code",
   "execution_count": 25,
   "metadata": {},
   "outputs": [
    {
     "name": "stdout",
     "output_type": "stream",
     "text": [
      "SUM: shouldnt this be 1?\n"
     ]
    },
    {
     "ename": "KeyError",
     "evalue": "'motor_prob'",
     "output_type": "error",
     "traceback": [
      "\u001b[0;31m---------------------------------------------------------------------------\u001b[0m",
      "\u001b[0;31mKeyError\u001b[0m                                  Traceback (most recent call last)",
      "\u001b[0;32m<ipython-input-25-0480d9136f52>\u001b[0m in \u001b[0;36m<module>\u001b[0;34m\u001b[0m\n\u001b[1;32m     11\u001b[0m \u001b[0;34m\u001b[0m\u001b[0m\n\u001b[1;32m     12\u001b[0m             \u001b[0mprint\u001b[0m\u001b[0;34m(\u001b[0m\u001b[0;34m\"SUM: shouldnt this be 1?\"\u001b[0m\u001b[0;34m)\u001b[0m\u001b[0;34m\u001b[0m\u001b[0;34m\u001b[0m\u001b[0m\n\u001b[0;32m---> 13\u001b[0;31m             \u001b[0mprint\u001b[0m\u001b[0;34m(\u001b[0m\u001b[0mnp\u001b[0m\u001b[0;34m.\u001b[0m\u001b[0msum\u001b[0m\u001b[0;34m(\u001b[0m\u001b[0;34m[\u001b[0m\u001b[0md\u001b[0m\u001b[0;34m[\u001b[0m\u001b[0;34m\"{}_prob\"\u001b[0m\u001b[0;34m.\u001b[0m\u001b[0mformat\u001b[0m\u001b[0;34m(\u001b[0m\u001b[0mplanner_model\u001b[0m\u001b[0;34m)\u001b[0m\u001b[0;34m]\u001b[0m \u001b[0;32mfor\u001b[0m \u001b[0md\u001b[0m \u001b[0;32min\u001b[0m \u001b[0mdists\u001b[0m\u001b[0;34m]\u001b[0m\u001b[0;34m)\u001b[0m\u001b[0;34m)\u001b[0m\u001b[0;34m\u001b[0m\u001b[0;34m\u001b[0m\u001b[0m\n\u001b[0m\u001b[1;32m     14\u001b[0m             \u001b[0mprint\u001b[0m\u001b[0;34m(\u001b[0m\u001b[0;34m\"reweighting all distances using planner model scores\"\u001b[0m\u001b[0;34m)\u001b[0m\u001b[0;34m\u001b[0m\u001b[0;34m\u001b[0m\u001b[0m\n\u001b[1;32m     15\u001b[0m \u001b[0;34m\u001b[0m\u001b[0m\n",
      "\u001b[0;32m<ipython-input-25-0480d9136f52>\u001b[0m in \u001b[0;36m<listcomp>\u001b[0;34m(.0)\u001b[0m\n\u001b[1;32m     11\u001b[0m \u001b[0;34m\u001b[0m\u001b[0m\n\u001b[1;32m     12\u001b[0m             \u001b[0mprint\u001b[0m\u001b[0;34m(\u001b[0m\u001b[0;34m\"SUM: shouldnt this be 1?\"\u001b[0m\u001b[0;34m)\u001b[0m\u001b[0;34m\u001b[0m\u001b[0;34m\u001b[0m\u001b[0m\n\u001b[0;32m---> 13\u001b[0;31m             \u001b[0mprint\u001b[0m\u001b[0;34m(\u001b[0m\u001b[0mnp\u001b[0m\u001b[0;34m.\u001b[0m\u001b[0msum\u001b[0m\u001b[0;34m(\u001b[0m\u001b[0;34m[\u001b[0m\u001b[0md\u001b[0m\u001b[0;34m[\u001b[0m\u001b[0;34m\"{}_prob\"\u001b[0m\u001b[0;34m.\u001b[0m\u001b[0mformat\u001b[0m\u001b[0;34m(\u001b[0m\u001b[0mplanner_model\u001b[0m\u001b[0;34m)\u001b[0m\u001b[0;34m]\u001b[0m \u001b[0;32mfor\u001b[0m \u001b[0md\u001b[0m \u001b[0;32min\u001b[0m \u001b[0mdists\u001b[0m\u001b[0;34m]\u001b[0m\u001b[0;34m)\u001b[0m\u001b[0;34m)\u001b[0m\u001b[0;34m\u001b[0m\u001b[0;34m\u001b[0m\u001b[0m\n\u001b[0m\u001b[1;32m     14\u001b[0m             \u001b[0mprint\u001b[0m\u001b[0;34m(\u001b[0m\u001b[0;34m\"reweighting all distances using planner model scores\"\u001b[0m\u001b[0;34m)\u001b[0m\u001b[0;34m\u001b[0m\u001b[0;34m\u001b[0m\u001b[0m\n\u001b[1;32m     15\u001b[0m \u001b[0;34m\u001b[0m\u001b[0m\n",
      "\u001b[0;31mKeyError\u001b[0m: 'motor_prob'"
     ]
    }
   ],
   "source": [
    "\n",
    "stimlist = [d[\"stim\"] for d in distances_flat]\n",
    "humanlist = [d[\"human\"] for d in distances_flat]\n",
    "modellist = [d[\"model\"] for d in distances_flat]\n",
    "\n",
    "import numpy as np\n",
    "\n",
    "distances_weighted = []\n",
    "for stim in stimlist:\n",
    "    for human in humanlist:\n",
    "        for model in modellist:\n",
    "            # -- get all datapoints\n",
    "            dists = filterDistances(distances_flat, [stim], [human], [model])\n",
    "        \n",
    "            print(\"SUM: shouldnt this be 1?\")\n",
    "            print(np.sum([d[\"{}_prob\".format(planner_model)] for d in dists]))\n",
    "            print(\"getting weighted average using planner model scores\")\n",
    "            \n",
    "            d = [d[\"dist\"] for d in dists]\n",
    "            p = [d[\"{}_prob\".format(planner_model)] for d in dists]            \n",
    "            weighted_d = np.average(d, weights=p)\n",
    "            \n",
    "            distances_weighted.append({\n",
    "                \"stim\":stim,\n",
    "                \"human\":human,\n",
    "                \"model\":model,\n",
    "                \"dist\":weighted_d,\n",
    "            })\n"
   ]
  },
  {
   "cell_type": "code",
   "execution_count": 21,
   "metadata": {},
   "outputs": [
    {
     "data": {
      "text/html": [
       "<div>\n",
       "<style scoped>\n",
       "    .dataframe tbody tr th:only-of-type {\n",
       "        vertical-align: middle;\n",
       "    }\n",
       "\n",
       "    .dataframe tbody tr th {\n",
       "        vertical-align: top;\n",
       "    }\n",
       "\n",
       "    .dataframe thead th {\n",
       "        text-align: right;\n",
       "    }\n",
       "</style>\n",
       "<table border=\"1\" class=\"dataframe\">\n",
       "  <thead>\n",
       "    <tr style=\"text-align: right;\">\n",
       "      <th></th>\n",
       "      <th>stim</th>\n",
       "      <th>human</th>\n",
       "      <th>model</th>\n",
       "      <th>modelrend</th>\n",
       "      <th>dist</th>\n",
       "      <th>human_cond</th>\n",
       "    </tr>\n",
       "  </thead>\n",
       "  <tbody>\n",
       "    <tr>\n",
       "      <th>0</th>\n",
       "      <td>S12_1</td>\n",
       "      <td>A2VLTSW6CXIUMR</td>\n",
       "      <td>S12.10.test4</td>\n",
       "      <td>0</td>\n",
       "      <td>0.001601</td>\n",
       "      <td>0</td>\n",
       "    </tr>\n",
       "    <tr>\n",
       "      <th>1</th>\n",
       "      <td>S12_1</td>\n",
       "      <td>A2VLTSW6CXIUMR</td>\n",
       "      <td>S12.10.test4</td>\n",
       "      <td>1</td>\n",
       "      <td>0.038441</td>\n",
       "      <td>0</td>\n",
       "    </tr>\n",
       "    <tr>\n",
       "      <th>2</th>\n",
       "      <td>S12_1</td>\n",
       "      <td>A2VLTSW6CXIUMR</td>\n",
       "      <td>S12.10.test4</td>\n",
       "      <td>2</td>\n",
       "      <td>0.188914</td>\n",
       "      <td>0</td>\n",
       "    </tr>\n",
       "    <tr>\n",
       "      <th>3</th>\n",
       "      <td>S12_1</td>\n",
       "      <td>A2VLTSW6CXIUMR</td>\n",
       "      <td>S12.10.test4</td>\n",
       "      <td>3</td>\n",
       "      <td>0.026194</td>\n",
       "      <td>0</td>\n",
       "    </tr>\n",
       "    <tr>\n",
       "      <th>4</th>\n",
       "      <td>S12_1</td>\n",
       "      <td>A2VLTSW6CXIUMR</td>\n",
       "      <td>S12.10.test4</td>\n",
       "      <td>4</td>\n",
       "      <td>0.207997</td>\n",
       "      <td>0</td>\n",
       "    </tr>\n",
       "    <tr>\n",
       "      <th>...</th>\n",
       "      <td>...</td>\n",
       "      <td>...</td>\n",
       "      <td>...</td>\n",
       "      <td>...</td>\n",
       "      <td>...</td>\n",
       "      <td>...</td>\n",
       "    </tr>\n",
       "    <tr>\n",
       "      <th>7725081</th>\n",
       "      <td>S13_219</td>\n",
       "      <td>A2JDYN6QM8M5UN</td>\n",
       "      <td>S13.10.test4_randomperm</td>\n",
       "      <td>995</td>\n",
       "      <td>0.000058</td>\n",
       "      <td>0</td>\n",
       "    </tr>\n",
       "    <tr>\n",
       "      <th>7725082</th>\n",
       "      <td>S13_219</td>\n",
       "      <td>A2JDYN6QM8M5UN</td>\n",
       "      <td>S13.10.test4_randomperm</td>\n",
       "      <td>996</td>\n",
       "      <td>0.000006</td>\n",
       "      <td>0</td>\n",
       "    </tr>\n",
       "    <tr>\n",
       "      <th>7725083</th>\n",
       "      <td>S13_219</td>\n",
       "      <td>A2JDYN6QM8M5UN</td>\n",
       "      <td>S13.10.test4_randomperm</td>\n",
       "      <td>997</td>\n",
       "      <td>0.000002</td>\n",
       "      <td>0</td>\n",
       "    </tr>\n",
       "    <tr>\n",
       "      <th>7725084</th>\n",
       "      <td>S13_219</td>\n",
       "      <td>A2JDYN6QM8M5UN</td>\n",
       "      <td>S13.10.test4_randomperm</td>\n",
       "      <td>998</td>\n",
       "      <td>0.000070</td>\n",
       "      <td>0</td>\n",
       "    </tr>\n",
       "    <tr>\n",
       "      <th>7725085</th>\n",
       "      <td>S13_219</td>\n",
       "      <td>A2JDYN6QM8M5UN</td>\n",
       "      <td>S13.10.test4_randomperm</td>\n",
       "      <td>999</td>\n",
       "      <td>0.000001</td>\n",
       "      <td>0</td>\n",
       "    </tr>\n",
       "  </tbody>\n",
       "</table>\n",
       "<p>7725086 rows × 6 columns</p>\n",
       "</div>"
      ],
      "text/plain": [
       "            stim           human                    model  modelrend  \\\n",
       "0          S12_1  A2VLTSW6CXIUMR             S12.10.test4          0   \n",
       "1          S12_1  A2VLTSW6CXIUMR             S12.10.test4          1   \n",
       "2          S12_1  A2VLTSW6CXIUMR             S12.10.test4          2   \n",
       "3          S12_1  A2VLTSW6CXIUMR             S12.10.test4          3   \n",
       "4          S12_1  A2VLTSW6CXIUMR             S12.10.test4          4   \n",
       "...          ...             ...                      ...        ...   \n",
       "7725081  S13_219  A2JDYN6QM8M5UN  S13.10.test4_randomperm        995   \n",
       "7725082  S13_219  A2JDYN6QM8M5UN  S13.10.test4_randomperm        996   \n",
       "7725083  S13_219  A2JDYN6QM8M5UN  S13.10.test4_randomperm        997   \n",
       "7725084  S13_219  A2JDYN6QM8M5UN  S13.10.test4_randomperm        998   \n",
       "7725085  S13_219  A2JDYN6QM8M5UN  S13.10.test4_randomperm        999   \n",
       "\n",
       "             dist  human_cond  \n",
       "0        0.001601           0  \n",
       "1        0.038441           0  \n",
       "2        0.188914           0  \n",
       "3        0.026194           0  \n",
       "4        0.207997           0  \n",
       "...           ...         ...  \n",
       "7725081  0.000058           0  \n",
       "7725082  0.000006           0  \n",
       "7725083  0.000002           0  \n",
       "7725084  0.000070           0  \n",
       "7725085  0.000001           0  \n",
       "\n",
       "[7725086 rows x 6 columns]"
      ]
     },
     "execution_count": 21,
     "metadata": {},
     "output_type": "execute_result"
    }
   ],
   "source": [
    "df"
   ]
  },
  {
   "cell_type": "code",
   "execution_count": 18,
   "metadata": {},
   "outputs": [
    {
     "ename": "AssertionError",
     "evalue": "NOT CODED",
     "output_type": "error",
     "traceback": [
      "\u001b[0;31m---------------------------------------------------------------------------\u001b[0m",
      "\u001b[0;31mAssertionError\u001b[0m                            Traceback (most recent call last)",
      "\u001b[0;32m<ipython-input-18-309f5e110b0f>\u001b[0m in \u001b[0;36m<module>\u001b[0;34m\u001b[0m\n\u001b[0;32m----> 1\u001b[0;31m \u001b[0mdistances_flat\u001b[0m \u001b[0;34m=\u001b[0m \u001b[0maggregateOverParses\u001b[0m\u001b[0;34m(\u001b[0m\u001b[0mdistances_flat\u001b[0m\u001b[0;34m,\u001b[0m \u001b[0mplanner_model\u001b[0m\u001b[0;34m)\u001b[0m\u001b[0;34m\u001b[0m\u001b[0;34m\u001b[0m\u001b[0m\n\u001b[0m",
      "\u001b[0;32m~/dc/analysis/modelAnalysesDCPlanner.py\u001b[0m in \u001b[0;36maggregateOverParses\u001b[0;34m(df, ver)\u001b[0m\n\u001b[1;32m     33\u001b[0m         \u001b[0mPRCTILE\u001b[0m\u001b[0;34m=\u001b[0m\u001b[0;36m50\u001b[0m\u001b[0;34m\u001b[0m\u001b[0;34m\u001b[0m\u001b[0m\n\u001b[1;32m     34\u001b[0m     \u001b[0;32melse\u001b[0m\u001b[0;34m:\u001b[0m\u001b[0;34m\u001b[0m\u001b[0;34m\u001b[0m\u001b[0m\n\u001b[0;32m---> 35\u001b[0;31m         \u001b[0;32massert\u001b[0m \u001b[0;32mFalse\u001b[0m\u001b[0;34m,\u001b[0m \u001b[0;34m\"NOT CODED\"\u001b[0m\u001b[0;34m\u001b[0m\u001b[0;34m\u001b[0m\u001b[0m\n\u001b[0m\u001b[1;32m     36\u001b[0m     \u001b[0mam\u001b[0m \u001b[0;34m=\u001b[0m \u001b[0;32mlambda\u001b[0m \u001b[0mx\u001b[0m\u001b[0;34m:\u001b[0m \u001b[0mnp\u001b[0m\u001b[0;34m.\u001b[0m\u001b[0mpercentile\u001b[0m\u001b[0;34m(\u001b[0m\u001b[0mx\u001b[0m\u001b[0;34m,\u001b[0m \u001b[0mPRCTILE\u001b[0m\u001b[0;34m)\u001b[0m\u001b[0;34m\u001b[0m\u001b[0;34m\u001b[0m\u001b[0m\n\u001b[1;32m     37\u001b[0m     df = aggregGeneral(df, group=[\"stim\", \"human\", \"model\"], values=[\"dist\"], nonnumercols=[\"human_cond\"],\n",
      "\u001b[0;31mAssertionError\u001b[0m: NOT CODED"
     ]
    }
   ],
   "source": [
    "distances_flat = aggregateOverParses()"
   ]
  }
 ],
 "metadata": {
  "kernelspec": {
   "display_name": "Python 3",
   "language": "python",
   "name": "python3"
  },
  "language_info": {
   "codemirror_mode": {
    "name": "ipython",
    "version": 3
   },
   "file_extension": ".py",
   "mimetype": "text/x-python",
   "name": "python",
   "nbconvert_exporter": "python",
   "pygments_lexer": "ipython3",
   "version": "3.7.4"
  }
 },
 "nbformat": 4,
 "nbformat_minor": 2
}
