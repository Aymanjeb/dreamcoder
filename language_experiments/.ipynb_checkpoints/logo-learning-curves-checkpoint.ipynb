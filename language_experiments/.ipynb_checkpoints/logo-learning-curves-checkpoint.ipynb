{
 "cells": [
  {
   "cell_type": "markdown",
   "metadata": {},
   "source": []
  },
  {
   "cell_type": "code",
   "execution_count": 131,
   "metadata": {},
   "outputs": [],
   "source": [
    "from collections import defaultdict\n",
    "# {Legend}, {log}, {Graph Title}\n",
    "FNAME=\"../jobs/logo_learning_curves\"\n",
    "curves = defaultdict(list)\n",
    "with open(FNAME) as f:\n",
    "    lines = [line.strip()for line in f.readlines() if (not line.startswith(\"#\") and len(line.strip()) > 0)]\n",
    "    for line in lines:\n",
    "        legend, log, title = line.split(\",\")\n",
    "        curves[title.strip()].append((legend.strip(), log.strip()))"
   ]
  },
  {
   "cell_type": "code",
   "execution_count": 132,
   "metadata": {},
   "outputs": [],
   "source": [
    "# TODO -- manually add the last ordering\n",
    "# TODO -- figure out how to get these into a dataframe with a legend\n",
    "import numpy as np"
   ]
  },
  {
   "cell_type": "code",
   "execution_count": 137,
   "metadata": {},
   "outputs": [
    {
     "name": "stdout",
     "output_type": "stream",
     "text": [
      "Graph: \"Random Curriculum\" with n=4\n"
     ]
    }
   ],
   "source": [
    "PREFIX = '~/Desktop/zyzzyva/code/ec/jobs/'\n",
    "def extract_curves(log_output, max_iter=33, n_tasks = 111):\n",
    "    log_output = log_output.split(\"\\\\n\")\n",
    "    log_output = [l for l in log_output if \"Evaluating on testing tasks using the recognizer.\" not in l]\n",
    "    log_output = [l for l in log_output if \"Found 0 new tasks and 0 new testing tasks.\" not in l]\n",
    "    iters = int(len(log_output) / 2)*2\n",
    "    \n",
    "    xs, ys = [], []\n",
    "    for i in range(0,iters ,2):\n",
    "        try:\n",
    "            iter_line, hits_line = log_output[i], log_output[i+1]\n",
    "            iter = int(iter_line.split(\": \")[-1])\n",
    "            hits = int(hits_line.split()[1].split(\"/\")[0])\n",
    "            if iter < max_iter:\n",
    "                xs.append(iter)\n",
    "                ys.append(float(hits / n_tasks) * 100)\n",
    "            \n",
    "        except:\n",
    "            pass\n",
    "    if len(xs) > 0:\n",
    "        if xs[0] != 0:\n",
    "            xs, ys = [0] + xs, [0] + ys\n",
    "    return xs, ys\n",
    "        \n",
    "import subprocess\n",
    "curve_vals = defaultdict(lambda: defaultdict(list))\n",
    "for curve in curves:\n",
    "    print(f\"Graph: {curve} with n={len(curves[curve])}\")\n",
    "    for legend, log in curves[curve]:\n",
    "        p = subprocess.Popen(f\"grep -a 'testing tasks' {PREFIX}{log}\", stdout=subprocess.PIPE, shell=True)\n",
    "        output,_ = p.communicate() \n",
    "        output = str(output)\n",
    "        if len(output.strip()) < 2:\n",
    "            print(f\"No output for: {log}\")\n",
    "        else:\n",
    "            xs, ys = extract_curves(output)\n",
    "            curve_vals[curve][legend].append((xs, ys))"
   ]
  },
  {
   "cell_type": "code",
   "execution_count": 138,
   "metadata": {},
   "outputs": [
    {
     "name": "stdout",
     "output_type": "stream",
     "text": [
      "\"Random Curriculum\"\n",
      "(Ours) Generative language | Best : 92.79 | Average: 52.93 | \n",
      "\n",
      "\n"
     ]
    }
   ],
   "source": [
    "# Print a table of the best model and the average values for each run\n",
    "for curve in curve_vals:\n",
    "    print(f\"{curve}\")\n",
    "    for legend in curve_vals[curve]:\n",
    "        max_vals = [max(ys) for (xs, ys) in curve_vals[curve][legend] if len(ys) > 0]\n",
    "        print(f\"{legend} | Best : {round(np.max(max_vals), 2)} | Average: {round(np.mean(max_vals), 2)} | \")\n",
    "    print(\"\\n\")"
   ]
  },
  {
   "cell_type": "code",
   "execution_count": 125,
   "metadata": {},
   "outputs": [
    {
     "data": {
      "text/plain": [
       "[([], []),\n",
       " ([0, 3, 6, 9, 12, 15],\n",
       "  [0,\n",
       "   38.73873873873874,\n",
       "   64.86486486486487,\n",
       "   96.3963963963964,\n",
       "   98.1981981981982,\n",
       "   91.8918918918919]),\n",
       " ([0, 3, 6, 9, 12, 15],\n",
       "  [0,\n",
       "   32.432432432432435,\n",
       "   48.64864864864865,\n",
       "   58.55855855855856,\n",
       "   61.261261261261254,\n",
       "   76.57657657657657]),\n",
       " ([0, 3, 6, 9, 12, 15, 18, 18, 21],\n",
       "  [0,\n",
       "   44.14414414414414,\n",
       "   63.96396396396396,\n",
       "   58.55855855855856,\n",
       "   60.36036036036037,\n",
       "   0.0,\n",
       "   0.0,\n",
       "   67.56756756756756,\n",
       "   66.66666666666666])]"
      ]
     },
     "execution_count": 125,
     "metadata": {},
     "output_type": "execute_result"
    }
   ],
   "source": [
    "curve_vals[curve][legend]\n"
   ]
  },
  {
   "cell_type": "code",
   "execution_count": null,
   "metadata": {},
   "outputs": [],
   "source": []
  },
  {
   "cell_type": "code",
   "execution_count": 105,
   "metadata": {},
   "outputs": [],
   "source": [
    "def build_dataframe(curve_vals, curve):\n",
    "    # For a given plot, extract all of the \n",
    "    iterations = []\n",
    "    solved_tasks = []\n",
    "    model = []\n",
    "    for pal_idx, legend in enumerate(curve_vals[curve]):\n",
    "        for xs, ys in curve_vals[curve][legend]:\n",
    "            iterations += xs\n",
    "            solved_tasks += ys\n",
    "            model += [legend] * len(xs)\n",
    "    d = {\n",
    "            \"Iterations\" : iterations,\n",
    "            \"% Solved tasks\" : solved_tasks,\n",
    "            \"Model\" : model\n",
    "    }\n",
    "    return pd.DataFrame(data=d)"
   ]
  },
  {
   "cell_type": "code",
   "execution_count": 106,
   "metadata": {},
   "outputs": [
    {
     "data": {
      "text/plain": [
       "<Figure size 432x216 with 0 Axes>"
      ]
     },
     "metadata": {},
     "output_type": "display_data"
    },
    {
     "data": {
      "image/png": "[encoded data removed]",
      "text/plain": [
       "<Figure size 864x216 with 1 Axes>"
      ]
     },
     "metadata": {
      "needs_background": "light"
     },
     "output_type": "display_data"
    }
   ],
   "source": [
    "%matplotlib inline\n",
    "import seaborn as sns\n",
    "import pandas as pd\n",
    "import matplotlib.pyplot as plt\n",
    "import numpy as np\n",
    "for curve in curve_vals:\n",
    "    f = plt.figure(figsize=(6,3))\n",
    "    df = build_dataframe(curve_vals, curve)\n",
    "    ax = sns.relplot(x=\"Iterations\", y=\"% Solved tasks\",\n",
    "                hue=\"Model\", style=\"Model\",\n",
    "                kind=\"line\", data=df)\n",
    "    ax.fig.set_size_inches(12,3)\n",
    "    ax.axes[0,0].set_ylim(0, 80)\n",
    "    plt.title(f\"{curve}\")\n",
    "#     ax.set_title(f\"{curve}\")\n",
    "#     ax.set(ylim=(0, 111))\n",
    "#     ax.set(xticks=(np.arange(0, 16)))\n",
    "#     ax.set(yticks=(np.arange(0, 111, 10)))"
   ]
  },
  {
   "cell_type": "code",
   "execution_count": 115,
   "metadata": {},
   "outputs": [
    {
     "data": {
      "image/png": "[encoded data removed]",
      "text/plain": [
       "<Figure size 360x216 with 1 Axes>"
      ]
     },
     "metadata": {
      "needs_background": "light"
     },
     "output_type": "display_data"
    }
   ],
   "source": [
    "%matplotlib inline\n",
    "import seaborn as sns\n",
    "import pandas as pd\n",
    "import matplotlib.pyplot as plt\n",
    "import numpy as np\n",
    "for curve in curve_vals:\n",
    "    # Build dataframe from the curves\n",
    "    palette = sns.diverging_palette(255, 133, l=60, n=7, center=\"dark\")\n",
    "    for pal_idx, legend in enumerate(curve_vals[curve]):\n",
    "        pal_idx = 4\n",
    "        f = plt.figure(figsize=(5,3))\n",
    "        for xs, ys in curve_vals[curve][legend]:\n",
    "            ax = sns.lineplot(x=xs, y=ys, color=palette[pal_idx])\n",
    "            ax.set_title(f\"{legend}\")\n",
    "            ax.set(ylim=(0, 111))\n",
    "            ax.set(xticks=(np.arange(0, 28, 3)))\n",
    "            ax.set(yticks=(np.arange(0, 101, 10)))"
   ]
  },
  {
   "cell_type": "code",
   "execution_count": null,
   "metadata": {},
   "outputs": [],
   "source": [
    "\n"
   ]
  },
  {
   "cell_type": "code",
   "execution_count": null,
   "metadata": {},
   "outputs": [],
   "source": []
  }
 ],
 "metadata": {
  "kernelspec": {
   "display_name": "Python 3",
   "language": "python",
   "name": "python3"
  },
  "language_info": {
   "codemirror_mode": {
    "name": "ipython",
    "version": 3
   },
   "file_extension": ".py",
   "mimetype": "text/x-python",
   "name": "python",
   "nbconvert_exporter": "python",
   "pygments_lexer": "ipython3",
   "version": "3.7.3"
  }
 },
 "nbformat": 4,
 "nbformat_minor": 4
}
